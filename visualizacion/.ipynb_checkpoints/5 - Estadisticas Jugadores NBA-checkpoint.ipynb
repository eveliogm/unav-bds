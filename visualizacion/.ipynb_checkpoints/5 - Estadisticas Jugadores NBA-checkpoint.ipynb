{
 "cells": [
  {
   "cell_type": "markdown",
   "id": "southwest-supervision",
   "metadata": {
    "id": "southwest-supervision"
   },
   "source": [
    "# *Radar plots* para comparación de deportistas\n",
    "\n",
    "En este notebook vamos a visualizar una comparación entre varios deportistas en varios aspectos al mismo tiempo, de modo que queden visibles las fortalezas y debilidades de cada uno en un único vistazo. "
   ]
  },
  {
   "cell_type": "code",
   "execution_count": 1,
   "id": "higher-spain",
   "metadata": {
    "executionInfo": {
     "elapsed": 1425,
     "status": "ok",
     "timestamp": 1639830616963,
     "user": {
      "displayName": "JOSE MIGUEL LEIVA MURILLO",
      "photoUrl": "https://lh3.googleusercontent.com/a-/AOh14GjBHAc3DZcMUn0JR8z356Y3RhNhCIu0IDjXLe9v=s64",
      "userId": "00727299425970444690"
     },
     "user_tz": -60
    },
    "id": "higher-spain"
   },
   "outputs": [],
   "source": [
    "import pandas as pd\n",
    "pd.options.mode.chained_assignment = None # Para deshabilitar algunos warnings\n",
    "import plotly.express as px\n",
    "import plotly.io as pio\n",
    "pio.renderers.default = \"iframe\""
   ]
  },
  {
   "cell_type": "markdown",
   "id": "complete-coordinator",
   "metadata": {
    "id": "complete-coordinator"
   },
   "source": [
    "Usamos los siguientes [datos](https://www.kaggle.com/jacobbaruch/basketball-players-stats-per-season-49-leagues) de Kaggle Datasets, de los que hemos seleccionado solo los de la NBA:"
   ]
  },
  {
   "cell_type": "code",
   "execution_count": 2,
   "id": "constitutional-benjamin",
   "metadata": {
    "colab": {
     "base_uri": "https://localhost:8080/",
     "height": 353
    },
    "executionInfo": {
     "elapsed": 317,
     "status": "ok",
     "timestamp": 1639830760734,
     "user": {
      "displayName": "JOSE MIGUEL LEIVA MURILLO",
      "photoUrl": "https://lh3.googleusercontent.com/a-/AOh14GjBHAc3DZcMUn0JR8z356Y3RhNhCIu0IDjXLe9v=s64",
      "userId": "00727299425970444690"
     },
     "user_tz": -60
    },
    "id": "constitutional-benjamin",
    "outputId": "361e9ba8-b1dc-4453-fc5f-72c09b55ea87"
   },
   "outputs": [
    {
     "data": {
      "text/html": [
       "<div>\n",
       "<style scoped>\n",
       "    .dataframe tbody tr th:only-of-type {\n",
       "        vertical-align: middle;\n",
       "    }\n",
       "\n",
       "    .dataframe tbody tr th {\n",
       "        vertical-align: top;\n",
       "    }\n",
       "\n",
       "    .dataframe thead th {\n",
       "        text-align: right;\n",
       "    }\n",
       "</style>\n",
       "<table border=\"1\" class=\"dataframe\">\n",
       "  <thead>\n",
       "    <tr style=\"text-align: right;\">\n",
       "      <th></th>\n",
       "      <th>League</th>\n",
       "      <th>Season</th>\n",
       "      <th>Stage</th>\n",
       "      <th>Player</th>\n",
       "      <th>Team</th>\n",
       "      <th>GP</th>\n",
       "      <th>MIN</th>\n",
       "      <th>FGM</th>\n",
       "      <th>FGA</th>\n",
       "      <th>3PM</th>\n",
       "      <th>...</th>\n",
       "      <th>FTA</th>\n",
       "      <th>TOV</th>\n",
       "      <th>PF</th>\n",
       "      <th>ORB</th>\n",
       "      <th>DRB</th>\n",
       "      <th>REB</th>\n",
       "      <th>AST</th>\n",
       "      <th>STL</th>\n",
       "      <th>BLK</th>\n",
       "      <th>PTS</th>\n",
       "    </tr>\n",
       "  </thead>\n",
       "  <tbody>\n",
       "    <tr>\n",
       "      <th>0</th>\n",
       "      <td>NBA</td>\n",
       "      <td>1999 - 2000</td>\n",
       "      <td>Regular_Season</td>\n",
       "      <td>Shaquille O'Neal</td>\n",
       "      <td>LAL</td>\n",
       "      <td>79</td>\n",
       "      <td>3163.0</td>\n",
       "      <td>956</td>\n",
       "      <td>1665</td>\n",
       "      <td>0</td>\n",
       "      <td>...</td>\n",
       "      <td>824</td>\n",
       "      <td>223</td>\n",
       "      <td>255</td>\n",
       "      <td>336</td>\n",
       "      <td>742</td>\n",
       "      <td>1078</td>\n",
       "      <td>299</td>\n",
       "      <td>36</td>\n",
       "      <td>239</td>\n",
       "      <td>2344</td>\n",
       "    </tr>\n",
       "    <tr>\n",
       "      <th>1</th>\n",
       "      <td>NBA</td>\n",
       "      <td>1999 - 2000</td>\n",
       "      <td>Regular_Season</td>\n",
       "      <td>Vince Carter</td>\n",
       "      <td>TOR</td>\n",
       "      <td>82</td>\n",
       "      <td>3126.0</td>\n",
       "      <td>788</td>\n",
       "      <td>1696</td>\n",
       "      <td>95</td>\n",
       "      <td>...</td>\n",
       "      <td>551</td>\n",
       "      <td>178</td>\n",
       "      <td>263</td>\n",
       "      <td>150</td>\n",
       "      <td>326</td>\n",
       "      <td>476</td>\n",
       "      <td>322</td>\n",
       "      <td>110</td>\n",
       "      <td>92</td>\n",
       "      <td>2107</td>\n",
       "    </tr>\n",
       "    <tr>\n",
       "      <th>2</th>\n",
       "      <td>NBA</td>\n",
       "      <td>1999 - 2000</td>\n",
       "      <td>Regular_Season</td>\n",
       "      <td>Karl Malone</td>\n",
       "      <td>UTA</td>\n",
       "      <td>82</td>\n",
       "      <td>2947.0</td>\n",
       "      <td>752</td>\n",
       "      <td>1476</td>\n",
       "      <td>2</td>\n",
       "      <td>...</td>\n",
       "      <td>739</td>\n",
       "      <td>231</td>\n",
       "      <td>229</td>\n",
       "      <td>169</td>\n",
       "      <td>610</td>\n",
       "      <td>779</td>\n",
       "      <td>304</td>\n",
       "      <td>79</td>\n",
       "      <td>71</td>\n",
       "      <td>2095</td>\n",
       "    </tr>\n",
       "    <tr>\n",
       "      <th>3</th>\n",
       "      <td>NBA</td>\n",
       "      <td>1999 - 2000</td>\n",
       "      <td>Regular_Season</td>\n",
       "      <td>Allen Iverson</td>\n",
       "      <td>PHI</td>\n",
       "      <td>70</td>\n",
       "      <td>2853.0</td>\n",
       "      <td>729</td>\n",
       "      <td>1733</td>\n",
       "      <td>89</td>\n",
       "      <td>...</td>\n",
       "      <td>620</td>\n",
       "      <td>230</td>\n",
       "      <td>162</td>\n",
       "      <td>71</td>\n",
       "      <td>196</td>\n",
       "      <td>267</td>\n",
       "      <td>328</td>\n",
       "      <td>144</td>\n",
       "      <td>5</td>\n",
       "      <td>1989</td>\n",
       "    </tr>\n",
       "    <tr>\n",
       "      <th>4</th>\n",
       "      <td>NBA</td>\n",
       "      <td>1999 - 2000</td>\n",
       "      <td>Regular_Season</td>\n",
       "      <td>Gary Payton</td>\n",
       "      <td>SEA</td>\n",
       "      <td>82</td>\n",
       "      <td>3425.0</td>\n",
       "      <td>747</td>\n",
       "      <td>1666</td>\n",
       "      <td>177</td>\n",
       "      <td>...</td>\n",
       "      <td>423</td>\n",
       "      <td>224</td>\n",
       "      <td>178</td>\n",
       "      <td>100</td>\n",
       "      <td>429</td>\n",
       "      <td>529</td>\n",
       "      <td>732</td>\n",
       "      <td>153</td>\n",
       "      <td>18</td>\n",
       "      <td>1982</td>\n",
       "    </tr>\n",
       "  </tbody>\n",
       "</table>\n",
       "<p>5 rows × 22 columns</p>\n",
       "</div>"
      ],
      "text/plain": [
       "  League       Season           Stage            Player Team  GP     MIN  FGM  \\\n",
       "0    NBA  1999 - 2000  Regular_Season  Shaquille O'Neal  LAL  79  3163.0  956   \n",
       "1    NBA  1999 - 2000  Regular_Season      Vince Carter  TOR  82  3126.0  788   \n",
       "2    NBA  1999 - 2000  Regular_Season       Karl Malone  UTA  82  2947.0  752   \n",
       "3    NBA  1999 - 2000  Regular_Season     Allen Iverson  PHI  70  2853.0  729   \n",
       "4    NBA  1999 - 2000  Regular_Season       Gary Payton  SEA  82  3425.0  747   \n",
       "\n",
       "    FGA  3PM  ...  FTA  TOV   PF  ORB  DRB   REB  AST  STL  BLK   PTS  \n",
       "0  1665    0  ...  824  223  255  336  742  1078  299   36  239  2344  \n",
       "1  1696   95  ...  551  178  263  150  326   476  322  110   92  2107  \n",
       "2  1476    2  ...  739  231  229  169  610   779  304   79   71  2095  \n",
       "3  1733   89  ...  620  230  162   71  196   267  328  144    5  1989  \n",
       "4  1666  177  ...  423  224  178  100  429   529  732  153   18  1982  \n",
       "\n",
       "[5 rows x 22 columns]"
      ]
     },
     "execution_count": 2,
     "metadata": {},
     "output_type": "execute_result"
    }
   ],
   "source": [
    "df_nba = pd.read_csv('nba_data.csv',sep=';')\n",
    "df_nba.head()"
   ]
  },
  {
   "cell_type": "markdown",
   "id": "simple-duncan",
   "metadata": {
    "id": "simple-duncan"
   },
   "source": [
    "Caracterizamos y comparamos a los jugadores mediante las siguientes cualidades: \n",
    "\n",
    "1. Capacidad de anotación \n",
    "2. Rebotes.\n",
    "3. Asistencias.\n",
    "4. Tapones.\n",
    "5. Faltas personales. \n",
    "    \n",
    "Para ello usaremos las columnas *PF*, *PTS*, *REB*, *AST* y *BLK*. Como las cifras son totales a lo largo de la temporada, debemos normalizarlas dividiéndolas por en número de partidos"
   ]
  },
  {
   "cell_type": "code",
   "execution_count": 3,
   "id": "worst-socket",
   "metadata": {
    "executionInfo": {
     "elapsed": 302,
     "status": "ok",
     "timestamp": 1639830764000,
     "user": {
      "displayName": "JOSE MIGUEL LEIVA MURILLO",
      "photoUrl": "https://lh3.googleusercontent.com/a-/AOh14GjBHAc3DZcMUn0JR8z356Y3RhNhCIu0IDjXLe9v=s64",
      "userId": "00727299425970444690"
     },
     "user_tz": -60
    },
    "id": "worst-socket"
   },
   "outputs": [],
   "source": [
    "columns = ['PF', 'PTS', 'REB', 'AST', 'BLK']\n",
    "for col in columns: \n",
    "    df_nba[col+'_AVG'] = df_nba[col] / df_nba['GP']"
   ]
  },
  {
   "cell_type": "markdown",
   "id": "ranking-pixel",
   "metadata": {
    "id": "ranking-pixel"
   },
   "source": [
    "Como disponemos de datos en distintos momentos de la historia, podemos comparar jugadores que alcanzaron su mejor momento en distintas temporadas. \n",
    "\n",
    "Por simplicidad, tomamos los datos de la temporada regular y excluimos los *playoffs*."
   ]
  },
  {
   "cell_type": "code",
   "execution_count": 4,
   "id": "conventional-chassis",
   "metadata": {
    "executionInfo": {
     "elapsed": 331,
     "status": "ok",
     "timestamp": 1639830822839,
     "user": {
      "displayName": "JOSE MIGUEL LEIVA MURILLO",
      "photoUrl": "https://lh3.googleusercontent.com/a-/AOh14GjBHAc3DZcMUn0JR8z356Y3RhNhCIu0IDjXLe9v=s64",
      "userId": "00727299425970444690"
     },
     "user_tz": -60
    },
    "id": "conventional-chassis"
   },
   "outputs": [],
   "source": [
    "df_nba = df_nba.set_index(['Player','Season','Stage'])\n"
   ]
  },
  {
   "cell_type": "code",
   "execution_count": 5,
   "id": "baking-gauge",
   "metadata": {
    "executionInfo": {
     "elapsed": 307,
     "status": "ok",
     "timestamp": 1639830872391,
     "user": {
      "displayName": "JOSE MIGUEL LEIVA MURILLO",
      "photoUrl": "https://lh3.googleusercontent.com/a-/AOh14GjBHAc3DZcMUn0JR8z356Y3RhNhCIu0IDjXLe9v=s64",
      "userId": "00727299425970444690"
     },
     "user_tz": -60
    },
    "id": "baking-gauge"
   },
   "outputs": [],
   "source": [
    "records = [\n",
    "    (\"Shaquille O'Neal\",'1999 - 2000','Regular_Season'), \n",
    "    (\"LeBron James\",'2009 - 2010','Regular_Season'), \n",
    "]\n",
    "sub_df = df_nba.loc[records,:].reset_index()"
   ]
  },
  {
   "cell_type": "markdown",
   "id": "fatal-monroe",
   "metadata": {
    "id": "fatal-monroe"
   },
   "source": [
    "Para la representación como *radar plot*, necesitamos pasar de formato *wide* a formato *long*, es decir, tenemos que \"des-pivotar\" la tabla. "
   ]
  },
  {
   "cell_type": "code",
   "execution_count": 6,
   "id": "short-receptor",
   "metadata": {
    "executionInfo": {
     "elapsed": 6,
     "status": "ok",
     "timestamp": 1639830938094,
     "user": {
      "displayName": "JOSE MIGUEL LEIVA MURILLO",
      "photoUrl": "https://lh3.googleusercontent.com/a-/AOh14GjBHAc3DZcMUn0JR8z356Y3RhNhCIu0IDjXLe9v=s64",
      "userId": "00727299425970444690"
     },
     "user_tz": -60
    },
    "id": "short-receptor"
   },
   "outputs": [],
   "source": [
    "df_1D = sub_df.melt(id_vars=['Player'], value_vars = [col +'_AVG' for col in ['PF', 'PTS', 'REB', 'AST', 'BLK']])"
   ]
  },
  {
   "cell_type": "code",
   "execution_count": 7,
   "id": "NX-buqqf7W2y",
   "metadata": {
    "colab": {
     "base_uri": "https://localhost:8080/",
     "height": 359
    },
    "executionInfo": {
     "elapsed": 30,
     "status": "ok",
     "timestamp": 1639782541838,
     "user": {
      "displayName": "JOSE MIGUEL LEIVA MURILLO",
      "photoUrl": "https://lh3.googleusercontent.com/a-/AOh14GjBHAc3DZcMUn0JR8z356Y3RhNhCIu0IDjXLe9v=s64",
      "userId": "00727299425970444690"
     },
     "user_tz": -60
    },
    "id": "NX-buqqf7W2y",
    "outputId": "01001165-e271-4a4c-a857-7d8f0d105a39"
   },
   "outputs": [
    {
     "data": {
      "text/html": [
       "<div>\n",
       "<style scoped>\n",
       "    .dataframe tbody tr th:only-of-type {\n",
       "        vertical-align: middle;\n",
       "    }\n",
       "\n",
       "    .dataframe tbody tr th {\n",
       "        vertical-align: top;\n",
       "    }\n",
       "\n",
       "    .dataframe thead th {\n",
       "        text-align: right;\n",
       "    }\n",
       "</style>\n",
       "<table border=\"1\" class=\"dataframe\">\n",
       "  <thead>\n",
       "    <tr style=\"text-align: right;\">\n",
       "      <th></th>\n",
       "      <th>Player</th>\n",
       "      <th>variable</th>\n",
       "      <th>value</th>\n",
       "    </tr>\n",
       "  </thead>\n",
       "  <tbody>\n",
       "    <tr>\n",
       "      <th>0</th>\n",
       "      <td>Shaquille O'Neal</td>\n",
       "      <td>PF_AVG</td>\n",
       "      <td>3.227848</td>\n",
       "    </tr>\n",
       "    <tr>\n",
       "      <th>1</th>\n",
       "      <td>LeBron James</td>\n",
       "      <td>PF_AVG</td>\n",
       "      <td>1.565789</td>\n",
       "    </tr>\n",
       "    <tr>\n",
       "      <th>2</th>\n",
       "      <td>Shaquille O'Neal</td>\n",
       "      <td>PTS_AVG</td>\n",
       "      <td>29.670886</td>\n",
       "    </tr>\n",
       "    <tr>\n",
       "      <th>3</th>\n",
       "      <td>LeBron James</td>\n",
       "      <td>PTS_AVG</td>\n",
       "      <td>29.710526</td>\n",
       "    </tr>\n",
       "    <tr>\n",
       "      <th>4</th>\n",
       "      <td>Shaquille O'Neal</td>\n",
       "      <td>REB_AVG</td>\n",
       "      <td>13.645570</td>\n",
       "    </tr>\n",
       "    <tr>\n",
       "      <th>5</th>\n",
       "      <td>LeBron James</td>\n",
       "      <td>REB_AVG</td>\n",
       "      <td>7.289474</td>\n",
       "    </tr>\n",
       "    <tr>\n",
       "      <th>6</th>\n",
       "      <td>Shaquille O'Neal</td>\n",
       "      <td>AST_AVG</td>\n",
       "      <td>3.784810</td>\n",
       "    </tr>\n",
       "    <tr>\n",
       "      <th>7</th>\n",
       "      <td>LeBron James</td>\n",
       "      <td>AST_AVG</td>\n",
       "      <td>8.565789</td>\n",
       "    </tr>\n",
       "    <tr>\n",
       "      <th>8</th>\n",
       "      <td>Shaquille O'Neal</td>\n",
       "      <td>BLK_AVG</td>\n",
       "      <td>3.025316</td>\n",
       "    </tr>\n",
       "    <tr>\n",
       "      <th>9</th>\n",
       "      <td>LeBron James</td>\n",
       "      <td>BLK_AVG</td>\n",
       "      <td>1.013158</td>\n",
       "    </tr>\n",
       "  </tbody>\n",
       "</table>\n",
       "</div>"
      ],
      "text/plain": [
       "             Player variable      value\n",
       "0  Shaquille O'Neal   PF_AVG   3.227848\n",
       "1      LeBron James   PF_AVG   1.565789\n",
       "2  Shaquille O'Neal  PTS_AVG  29.670886\n",
       "3      LeBron James  PTS_AVG  29.710526\n",
       "4  Shaquille O'Neal  REB_AVG  13.645570\n",
       "5      LeBron James  REB_AVG   7.289474\n",
       "6  Shaquille O'Neal  AST_AVG   3.784810\n",
       "7      LeBron James  AST_AVG   8.565789\n",
       "8  Shaquille O'Neal  BLK_AVG   3.025316\n",
       "9      LeBron James  BLK_AVG   1.013158"
      ]
     },
     "execution_count": 7,
     "metadata": {},
     "output_type": "execute_result"
    }
   ],
   "source": [
    "df_1D.head(10)"
   ]
  },
  {
   "cell_type": "markdown",
   "id": "ready-virgin",
   "metadata": {
    "id": "ready-virgin"
   },
   "source": [
    "Con *plotly.express* solo es posible representar una curva"
   ]
  },
  {
   "cell_type": "code",
   "execution_count": 8,
   "id": "eligible-crack",
   "metadata": {
    "colab": {
     "base_uri": "https://localhost:8080/",
     "height": 204
    },
    "executionInfo": {
     "elapsed": 363,
     "status": "ok",
     "timestamp": 1639830961406,
     "user": {
      "displayName": "JOSE MIGUEL LEIVA MURILLO",
      "photoUrl": "https://lh3.googleusercontent.com/a-/AOh14GjBHAc3DZcMUn0JR8z356Y3RhNhCIu0IDjXLe9v=s64",
      "userId": "00727299425970444690"
     },
     "user_tz": -60
    },
    "id": "eligible-crack",
    "outputId": "b5bbff06-86ce-4ac9-f6d6-be01a0a8c843"
   },
   "outputs": [
    {
     "data": {
      "text/html": [
       "<div>\n",
       "<style scoped>\n",
       "    .dataframe tbody tr th:only-of-type {\n",
       "        vertical-align: middle;\n",
       "    }\n",
       "\n",
       "    .dataframe tbody tr th {\n",
       "        vertical-align: top;\n",
       "    }\n",
       "\n",
       "    .dataframe thead th {\n",
       "        text-align: right;\n",
       "    }\n",
       "</style>\n",
       "<table border=\"1\" class=\"dataframe\">\n",
       "  <thead>\n",
       "    <tr style=\"text-align: right;\">\n",
       "      <th></th>\n",
       "      <th>Player</th>\n",
       "      <th>variable</th>\n",
       "      <th>value</th>\n",
       "    </tr>\n",
       "  </thead>\n",
       "  <tbody>\n",
       "    <tr>\n",
       "      <th>0</th>\n",
       "      <td>Shaquille O'Neal</td>\n",
       "      <td>PF_AVG</td>\n",
       "      <td>3.227848</td>\n",
       "    </tr>\n",
       "    <tr>\n",
       "      <th>2</th>\n",
       "      <td>Shaquille O'Neal</td>\n",
       "      <td>PTS_AVG</td>\n",
       "      <td>29.670886</td>\n",
       "    </tr>\n",
       "    <tr>\n",
       "      <th>4</th>\n",
       "      <td>Shaquille O'Neal</td>\n",
       "      <td>REB_AVG</td>\n",
       "      <td>13.645570</td>\n",
       "    </tr>\n",
       "    <tr>\n",
       "      <th>6</th>\n",
       "      <td>Shaquille O'Neal</td>\n",
       "      <td>AST_AVG</td>\n",
       "      <td>3.784810</td>\n",
       "    </tr>\n",
       "    <tr>\n",
       "      <th>8</th>\n",
       "      <td>Shaquille O'Neal</td>\n",
       "      <td>BLK_AVG</td>\n",
       "      <td>3.025316</td>\n",
       "    </tr>\n",
       "  </tbody>\n",
       "</table>\n",
       "</div>"
      ],
      "text/plain": [
       "             Player variable      value\n",
       "0  Shaquille O'Neal   PF_AVG   3.227848\n",
       "2  Shaquille O'Neal  PTS_AVG  29.670886\n",
       "4  Shaquille O'Neal  REB_AVG  13.645570\n",
       "6  Shaquille O'Neal  AST_AVG   3.784810\n",
       "8  Shaquille O'Neal  BLK_AVG   3.025316"
      ]
     },
     "execution_count": 8,
     "metadata": {},
     "output_type": "execute_result"
    }
   ],
   "source": [
    "df_1D[df_1D['Player']==\"Shaquille O'Neal\"]"
   ]
  },
  {
   "cell_type": "code",
   "execution_count": 9,
   "id": "alike-conservation",
   "metadata": {
    "colab": {
     "base_uri": "https://localhost:8080/",
     "height": 542
    },
    "executionInfo": {
     "elapsed": 1345,
     "status": "ok",
     "timestamp": 1639830966664,
     "user": {
      "displayName": "JOSE MIGUEL LEIVA MURILLO",
      "photoUrl": "https://lh3.googleusercontent.com/a-/AOh14GjBHAc3DZcMUn0JR8z356Y3RhNhCIu0IDjXLe9v=s64",
      "userId": "00727299425970444690"
     },
     "user_tz": -60
    },
    "id": "alike-conservation",
    "outputId": "3db7b830-3bf1-4b04-c342-caba2b02df85"
   },
   "outputs": [
    {
     "data": {
      "text/html": [
       "<iframe\n",
       "    scrolling=\"no\"\n",
       "    width=\"100%\"\n",
       "    height=\"545px\"\n",
       "    src=\"iframe_figures/figure_9.html\"\n",
       "    frameborder=\"0\"\n",
       "    allowfullscreen\n",
       "></iframe>\n"
      ]
     },
     "metadata": {},
     "output_type": "display_data"
    }
   ],
   "source": [
    "fig = px.line_polar(df_1D[df_1D['Player']==\"Shaquille O'Neal\"], r=\"value\", theta=\"variable\", line_close=True)\n",
    "fig.show()"
   ]
  },
  {
   "cell_type": "markdown",
   "id": "regulated-shore",
   "metadata": {
    "id": "regulated-shore"
   },
   "source": [
    "Problema: estamos comparando magnitudes que no son comparables. Necesitamos normalizarlas de modo que todas tenga un rango entre 0 y 1"
   ]
  },
  {
   "cell_type": "code",
   "execution_count": 10,
   "id": "manual-dealer",
   "metadata": {
    "colab": {
     "base_uri": "https://localhost:8080/",
     "height": 542
    },
    "executionInfo": {
     "elapsed": 339,
     "status": "ok",
     "timestamp": 1639831166505,
     "user": {
      "displayName": "JOSE MIGUEL LEIVA MURILLO",
      "photoUrl": "https://lh3.googleusercontent.com/a-/AOh14GjBHAc3DZcMUn0JR8z356Y3RhNhCIu0IDjXLe9v=s64",
      "userId": "00727299425970444690"
     },
     "user_tz": -60
    },
    "id": "manual-dealer",
    "outputId": "528264a4-1c37-4ac1-834b-d171a17404fb"
   },
   "outputs": [
    {
     "data": {
      "text/html": [
       "<iframe\n",
       "    scrolling=\"no\"\n",
       "    width=\"100%\"\n",
       "    height=\"545px\"\n",
       "    src=\"iframe_figures/figure_10.html\"\n",
       "    frameborder=\"0\"\n",
       "    allowfullscreen\n",
       "></iframe>\n"
      ]
     },
     "metadata": {},
     "output_type": "display_data"
    }
   ],
   "source": [
    "# Generamos nuevas columnas con nombres más intuitivos\n",
    "columns_dict = {'PF_AVG': 'FALTAS', 'PTS_AVG': 'PUNTOS', 'REB_AVG': 'REBOTES', 'AST_AVG':'ASISTENCIAS', 'BLK_AVG': 'TAPONES'}\n",
    "categories = list(columns_dict.values())\n",
    "# Normalizamos\n",
    "for (col,new_col) in columns_dict.items():\n",
    "    df_nba[new_col] = (df_nba[col] - df_nba[col].min())/(df_nba[col].max()-df_nba[col].min())\n",
    "# Volvemos a quedarnos con los registros que nos interesan\n",
    "sub_df = df_nba.loc[records,:].reset_index()\n",
    "df_1D = sub_df.melt(id_vars=['Player'], value_vars = categories)\n",
    "fig = px.line_polar(df_1D[df_1D['Player']==\"Shaquille O'Neal\"], r=\"value\", theta=\"variable\", line_close=True)\n",
    "fig.show()"
   ]
  },
  {
   "cell_type": "markdown",
   "id": "corresponding-destruction",
   "metadata": {
    "id": "corresponding-destruction"
   },
   "source": [
    "Si queremos superponer varias curvas debemos usar *Graph Object*"
   ]
  },
  {
   "cell_type": "code",
   "execution_count": 11,
   "id": "brief-deficit",
   "metadata": {
    "colab": {
     "base_uri": "https://localhost:8080/",
     "height": 542
    },
    "executionInfo": {
     "elapsed": 268,
     "status": "ok",
     "timestamp": 1639831309182,
     "user": {
      "displayName": "JOSE MIGUEL LEIVA MURILLO",
      "photoUrl": "https://lh3.googleusercontent.com/a-/AOh14GjBHAc3DZcMUn0JR8z356Y3RhNhCIu0IDjXLe9v=s64",
      "userId": "00727299425970444690"
     },
     "user_tz": -60
    },
    "id": "brief-deficit",
    "outputId": "39d1ced0-e24c-4bbf-b80b-4e401fc433e2"
   },
   "outputs": [
    {
     "data": {
      "text/html": [
       "<iframe\n",
       "    scrolling=\"no\"\n",
       "    width=\"100%\"\n",
       "    height=\"545px\"\n",
       "    src=\"iframe_figures/figure_11.html\"\n",
       "    frameborder=\"0\"\n",
       "    allowfullscreen\n",
       "></iframe>\n"
      ]
     },
     "metadata": {},
     "output_type": "display_data"
    }
   ],
   "source": [
    "import plotly.graph_objects as go\n",
    "\n",
    "players = [\"Shaquille O'Neal\", \"LeBron James\"]\n",
    "\n",
    "fig = go.Figure()\n",
    "\n",
    "for player in players:\n",
    "    fig.add_trace(go.Scatterpolar(\n",
    "          r=df_1D.loc[df_1D['Player']==player,'value'],\n",
    "          mode = 'lines',\n",
    "          theta=categories,\n",
    "          fill='toself',\n",
    "          name=player\n",
    "    ))\n",
    "\n",
    "\n",
    "\n",
    "fig.show()"
   ]
  },
  {
   "cell_type": "markdown",
   "id": "iWPzHAV5n38n",
   "metadata": {
    "id": "iWPzHAV5n38n"
   },
   "source": [
    "Hacemos un truquito para que las curvas se cierren"
   ]
  },
  {
   "cell_type": "code",
   "execution_count": 12,
   "id": "-r3LKms9nIyK",
   "metadata": {
    "colab": {
     "base_uri": "https://localhost:8080/",
     "height": 542
    },
    "executionInfo": {
     "elapsed": 435,
     "status": "ok",
     "timestamp": 1639831388154,
     "user": {
      "displayName": "JOSE MIGUEL LEIVA MURILLO",
      "photoUrl": "https://lh3.googleusercontent.com/a-/AOh14GjBHAc3DZcMUn0JR8z356Y3RhNhCIu0IDjXLe9v=s64",
      "userId": "00727299425970444690"
     },
     "user_tz": -60
    },
    "id": "-r3LKms9nIyK",
    "outputId": "938558ec-298e-422e-d765-b932e1652f6d"
   },
   "outputs": [
    {
     "data": {
      "text/html": [
       "<iframe\n",
       "    scrolling=\"no\"\n",
       "    width=\"100%\"\n",
       "    height=\"545px\"\n",
       "    src=\"iframe_figures/figure_12.html\"\n",
       "    frameborder=\"0\"\n",
       "    allowfullscreen\n",
       "></iframe>\n"
      ]
     },
     "metadata": {},
     "output_type": "display_data"
    }
   ],
   "source": [
    "fig = go.Figure()\n",
    "\n",
    "categories_closed = categories + [categories[0]]\n",
    "for player in players:\n",
    "    sub_df = df_1D.loc[df_1D['Player']==player,'value']\n",
    "    sub_df = sub_df.append(sub_df.iloc[:1]) \n",
    "    fig.add_trace(go.Scatterpolar(\n",
    "          r=sub_df,\n",
    "          mode = 'lines',\n",
    "          theta=categories_closed,\n",
    "          fill='toself',\n",
    "          name=player\n",
    "    ))\n",
    "\n",
    "fig.show()"
   ]
  },
  {
   "cell_type": "code",
   "execution_count": null,
   "id": "wKTnmKIekTn3",
   "metadata": {
    "id": "wKTnmKIekTn3"
   },
   "outputs": [],
   "source": []
  }
 ],
 "metadata": {
  "colab": {
   "collapsed_sections": [],
   "name": "4 - Estadisticas Jugadores NBA.ipynb",
   "provenance": []
  },
  "kernelspec": {
   "display_name": "Python 3 (ipykernel)",
   "language": "python",
   "name": "python3"
  },
  "language_info": {
   "codemirror_mode": {
    "name": "ipython",
    "version": 3
   },
   "file_extension": ".py",
   "mimetype": "text/x-python",
   "name": "python",
   "nbconvert_exporter": "python",
   "pygments_lexer": "ipython3",
   "version": "3.9.7"
  },
  "varInspector": {
   "cols": {
    "lenName": 16,
    "lenType": 16,
    "lenVar": 40
   },
   "kernels_config": {
    "python": {
     "delete_cmd_postfix": "",
     "delete_cmd_prefix": "del ",
     "library": "var_list.py",
     "varRefreshCmd": "print(var_dic_list())"
    },
    "r": {
     "delete_cmd_postfix": ") ",
     "delete_cmd_prefix": "rm(",
     "library": "var_list.r",
     "varRefreshCmd": "cat(var_dic_list()) "
    }
   },
   "types_to_exclude": [
    "module",
    "function",
    "builtin_function_or_method",
    "instance",
    "_Feature"
   ],
   "window_display": false
  }
 },
 "nbformat": 4,
 "nbformat_minor": 5
}
