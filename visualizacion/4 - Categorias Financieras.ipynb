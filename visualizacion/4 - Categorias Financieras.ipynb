{
 "cells": [
  {
   "cell_type": "markdown",
   "id": "electric-constant",
   "metadata": {
    "id": "electric-constant"
   },
   "source": [
    "# Representación de información jerárquica mediante gráfico *Sunburst*\n",
    "\n"
   ]
  },
  {
   "cell_type": "code",
   "execution_count": 1,
   "id": "written-karma",
   "metadata": {
    "colab": {
     "base_uri": "https://localhost:8080/"
    },
    "executionInfo": {
     "elapsed": 19743,
     "status": "ok",
     "timestamp": 1639831533035,
     "user": {
      "displayName": "JOSE MIGUEL LEIVA MURILLO",
      "photoUrl": "https://lh3.googleusercontent.com/a-/AOh14GjBHAc3DZcMUn0JR8z356Y3RhNhCIu0IDjXLe9v=s64",
      "userId": "00727299425970444690"
     },
     "user_tz": -60
    },
    "id": "written-karma",
    "outputId": "f0d61d92-97e9-4b6d-fed5-bc7ec0a08696"
   },
   "outputs": [],
   "source": [
    "\n",
    "import pandas as pd\n",
    "import plotly.express as px\n",
    "import plotly.io as pio\n",
    "pio.renderers.default = \"iframe\""
   ]
  },
  {
   "cell_type": "markdown",
   "id": "collected-avatar",
   "metadata": {
    "id": "collected-avatar"
   },
   "source": [
    "Cargamos datos sobre posiciones financieras (ficticias) en distintos activos de diversas categorías financieras. "
   ]
  },
  {
   "cell_type": "code",
   "execution_count": 2,
   "id": "intended-master",
   "metadata": {
    "colab": {
     "base_uri": "https://localhost:8080/",
     "height": 204
    },
    "executionInfo": {
     "elapsed": 356,
     "status": "ok",
     "timestamp": 1639831572499,
     "user": {
      "displayName": "JOSE MIGUEL LEIVA MURILLO",
      "photoUrl": "https://lh3.googleusercontent.com/a-/AOh14GjBHAc3DZcMUn0JR8z356Y3RhNhCIu0IDjXLe9v=s64",
      "userId": "00727299425970444690"
     },
     "user_tz": -60
    },
    "id": "intended-master",
    "outputId": "38029530-ecee-49af-eb8a-015535207499"
   },
   "outputs": [
    {
     "data": {
      "text/html": [
       "<div>\n",
       "<style scoped>\n",
       "    .dataframe tbody tr th:only-of-type {\n",
       "        vertical-align: middle;\n",
       "    }\n",
       "\n",
       "    .dataframe tbody tr th {\n",
       "        vertical-align: top;\n",
       "    }\n",
       "\n",
       "    .dataframe thead th {\n",
       "        text-align: right;\n",
       "    }\n",
       "</style>\n",
       "<table border=\"1\" class=\"dataframe\">\n",
       "  <thead>\n",
       "    <tr style=\"text-align: right;\">\n",
       "      <th></th>\n",
       "      <th>CATEGORY_L1</th>\n",
       "      <th>CATEGORY_L2</th>\n",
       "      <th>CATEGORY_L3</th>\n",
       "      <th>CATEGORY_L4</th>\n",
       "      <th>VALOR</th>\n",
       "    </tr>\n",
       "  </thead>\n",
       "  <tbody>\n",
       "    <tr>\n",
       "      <th>0</th>\n",
       "      <td>ALTERNATIVOS</td>\n",
       "      <td>RETORNO ABSOLUTO</td>\n",
       "      <td>PERFIL ALTO</td>\n",
       "      <td>EQUITY MARKET NEUTRAL</td>\n",
       "      <td>1000000</td>\n",
       "    </tr>\n",
       "    <tr>\n",
       "      <th>1</th>\n",
       "      <td>ALTERNATIVOS</td>\n",
       "      <td>RETORNO ABSOLUTO</td>\n",
       "      <td>PERFIL ALTO</td>\n",
       "      <td>MULTI ESTRATEGIA</td>\n",
       "      <td>50000</td>\n",
       "    </tr>\n",
       "    <tr>\n",
       "      <th>2</th>\n",
       "      <td>ALTERNATIVOS</td>\n",
       "      <td>RETORNO ABSOLUTO</td>\n",
       "      <td>PERFIL ALTO</td>\n",
       "      <td>VOLATILIDAD</td>\n",
       "      <td>100000</td>\n",
       "    </tr>\n",
       "    <tr>\n",
       "      <th>3</th>\n",
       "      <td>ALTERNATIVOS</td>\n",
       "      <td>RETORNO ABSOLUTO</td>\n",
       "      <td>PERFIL MEDIO</td>\n",
       "      <td>DIVISAS</td>\n",
       "      <td>200000</td>\n",
       "    </tr>\n",
       "    <tr>\n",
       "      <th>4</th>\n",
       "      <td>ALTERNATIVOS</td>\n",
       "      <td>RETORNO ABSOLUTO</td>\n",
       "      <td>PERFIL MEDIO</td>\n",
       "      <td>MULTI ESTRATEGIA</td>\n",
       "      <td>100000</td>\n",
       "    </tr>\n",
       "  </tbody>\n",
       "</table>\n",
       "</div>"
      ],
      "text/plain": [
       "    CATEGORY_L1       CATEGORY_L2   CATEGORY_L3            CATEGORY_L4  \\\n",
       "0  ALTERNATIVOS  RETORNO ABSOLUTO   PERFIL ALTO  EQUITY MARKET NEUTRAL   \n",
       "1  ALTERNATIVOS  RETORNO ABSOLUTO   PERFIL ALTO       MULTI ESTRATEGIA   \n",
       "2  ALTERNATIVOS  RETORNO ABSOLUTO   PERFIL ALTO            VOLATILIDAD   \n",
       "3  ALTERNATIVOS  RETORNO ABSOLUTO  PERFIL MEDIO                DIVISAS   \n",
       "4  ALTERNATIVOS  RETORNO ABSOLUTO  PERFIL MEDIO       MULTI ESTRATEGIA   \n",
       "\n",
       "     VALOR  \n",
       "0  1000000  \n",
       "1    50000  \n",
       "2   100000  \n",
       "3   200000  \n",
       "4   100000  "
      ]
     },
     "execution_count": 2,
     "metadata": {},
     "output_type": "execute_result"
    }
   ],
   "source": [
    "df_agg = pd.read_csv('agg_data_dataviz.csv',sep=';')\n",
    "df_agg.head()"
   ]
  },
  {
   "cell_type": "code",
   "execution_count": 3,
   "id": "81jpMllL9Ma1",
   "metadata": {
    "colab": {
     "base_uri": "https://localhost:8080/"
    },
    "executionInfo": {
     "elapsed": 18,
     "status": "ok",
     "timestamp": 1639782633148,
     "user": {
      "displayName": "JOSE MIGUEL LEIVA MURILLO",
      "photoUrl": "https://lh3.googleusercontent.com/a-/AOh14GjBHAc3DZcMUn0JR8z356Y3RhNhCIu0IDjXLe9v=s64",
      "userId": "00727299425970444690"
     },
     "user_tz": -60
    },
    "id": "81jpMllL9Ma1",
    "outputId": "1c989ed6-f0bc-4ebf-e3fa-36424f2d78e7"
   },
   "outputs": [
    {
     "data": {
      "text/plain": [
       "array(['RETORNO ABSOLUTO', 'CREDITO', 'GOBIERNOS', 'HIGH YIELD',\n",
       "       'EMERGENTE', 'EUROPA', 'GLOBAL', 'SECTORES', 'TEMATICOS'],\n",
       "      dtype=object)"
      ]
     },
     "execution_count": 3,
     "metadata": {},
     "output_type": "execute_result"
    }
   ],
   "source": [
    "df_agg['CATEGORY_L2'].unique()"
   ]
  },
  {
   "cell_type": "markdown",
   "id": "steady-advice",
   "metadata": {
    "id": "steady-advice"
   },
   "source": [
    "Representamos mediante un gráfico dinámico de tipo *sunburst*."
   ]
  },
  {
   "cell_type": "code",
   "execution_count": 4,
   "id": "administrative-crowd",
   "metadata": {
    "colab": {
     "base_uri": "https://localhost:8080/",
     "height": 542
    },
    "executionInfo": {
     "elapsed": 10,
     "status": "ok",
     "timestamp": 1639831928291,
     "user": {
      "displayName": "JOSE MIGUEL LEIVA MURILLO",
      "photoUrl": "https://lh3.googleusercontent.com/a-/AOh14GjBHAc3DZcMUn0JR8z356Y3RhNhCIu0IDjXLe9v=s64",
      "userId": "00727299425970444690"
     },
     "user_tz": -60
    },
    "id": "administrative-crowd",
    "outputId": "59b0139c-0b30-427d-b473-e55fe020dcba"
   },
   "outputs": [
    {
     "data": {
      "text/html": [
       "<iframe\n",
       "    scrolling=\"no\"\n",
       "    width=\"100%\"\n",
       "    height=\"545px\"\n",
       "    src=\"iframe_figures/figure_4.html\"\n",
       "    frameborder=\"0\"\n",
       "    allowfullscreen\n",
       "></iframe>\n"
      ]
     },
     "metadata": {},
     "output_type": "display_data"
    }
   ],
   "source": [
    "fig = px.sunburst(df_agg, path=['CATEGORY_L1','CATEGORY_L2','CATEGORY_L3','CATEGORY_L4'], values='VALOR')\n",
    "fig.show()"
   ]
  },
  {
   "cell_type": "code",
   "execution_count": 4,
   "id": "applied-spectacular",
   "metadata": {
    "executionInfo": {
     "elapsed": 9,
     "status": "ok",
     "timestamp": 1639782633493,
     "user": {
      "displayName": "JOSE MIGUEL LEIVA MURILLO",
      "photoUrl": "https://lh3.googleusercontent.com/a-/AOh14GjBHAc3DZcMUn0JR8z356Y3RhNhCIu0IDjXLe9v=s64",
      "userId": "00727299425970444690"
     },
     "user_tz": -60
    },
    "id": "applied-spectacular"
   },
   "outputs": [],
   "source": []
  }
 ],
 "metadata": {
  "colab": {
   "name": "5 - Categorias Financieras.ipynb",
   "provenance": []
  },
  "kernelspec": {
   "display_name": "Python 3 (ipykernel)",
   "language": "python",
   "name": "python3"
  },
  "language_info": {
   "codemirror_mode": {
    "name": "ipython",
    "version": 3
   },
   "file_extension": ".py",
   "mimetype": "text/x-python",
   "name": "python",
   "nbconvert_exporter": "python",
   "pygments_lexer": "ipython3",
   "version": "3.9.7"
  },
  "varInspector": {
   "cols": {
    "lenName": 16,
    "lenType": 16,
    "lenVar": 40
   },
   "kernels_config": {
    "python": {
     "delete_cmd_postfix": "",
     "delete_cmd_prefix": "del ",
     "library": "var_list.py",
     "varRefreshCmd": "print(var_dic_list())"
    },
    "r": {
     "delete_cmd_postfix": ") ",
     "delete_cmd_prefix": "rm(",
     "library": "var_list.r",
     "varRefreshCmd": "cat(var_dic_list()) "
    }
   },
   "types_to_exclude": [
    "module",
    "function",
    "builtin_function_or_method",
    "instance",
    "_Feature"
   ],
   "window_display": false
  }
 },
 "nbformat": 4,
 "nbformat_minor": 5
}
