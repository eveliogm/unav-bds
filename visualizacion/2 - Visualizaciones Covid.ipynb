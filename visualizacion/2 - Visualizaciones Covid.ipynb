{
 "cells": [
  {
   "cell_type": "markdown",
   "metadata": {
    "id": "KoqsRts1emPU",
    "tags": []
   },
   "source": [
    "# Visualización de datos sobre COVID y vacunación\n",
    "\n",
    "La web https://ourworldindata.org/, impulsada por la Universidad de Oxford, es un repositorio de datos contiene más de 3000 visualizaciones sobre casi 300 temáticas diversas. El apartado https://ourworldindata.org/covid-vaccinations contiene distintas comparativas entre países acerca de la indicencia de la enfermedad y el progreso de la vacunación. \n",
    "\n"
   ]
  },
  {
   "cell_type": "code",
   "execution_count": 1,
   "metadata": {
    "colab": {
     "base_uri": "https://localhost:8080/"
    },
    "executionInfo": {
     "elapsed": 19092,
     "status": "ok",
     "timestamp": 1639825910211,
     "user": {
      "displayName": "JOSE MIGUEL LEIVA MURILLO",
      "photoUrl": "https://lh3.googleusercontent.com/a-/AOh14GjBHAc3DZcMUn0JR8z356Y3RhNhCIu0IDjXLe9v=s64",
      "userId": "00727299425970444690"
     },
     "user_tz": -60
    },
    "id": "gj4dWLqAf_Jo",
    "outputId": "1b11cdd9-5e5b-4d65-dbf4-aada0dfbec3a"
   },
   "outputs": [],
   "source": [
    "import pandas as pd\n",
    "import plotly.express as px\n",
    "import matplotlib.pyplot as plt"
   ]
  },
  {
   "cell_type": "code",
   "execution_count": 8,
   "metadata": {},
   "outputs": [],
   "source": [
    "import plotly.io as pio\n",
    "pio.renderers.default = \"iframe\""
   ]
  },
  {
   "cell_type": "markdown",
   "metadata": {
    "id": "iigYv82w8I79"
   },
   "source": [
    "## Cargamos los datos"
   ]
  },
  {
   "cell_type": "code",
   "execution_count": 3,
   "metadata": {
    "executionInfo": {
     "elapsed": 1615,
     "status": "ok",
     "timestamp": 1639826054431,
     "user": {
      "displayName": "JOSE MIGUEL LEIVA MURILLO",
      "photoUrl": "https://lh3.googleusercontent.com/a-/AOh14GjBHAc3DZcMUn0JR8z356Y3RhNhCIu0IDjXLe9v=s64",
      "userId": "00727299425970444690"
     },
     "user_tz": -60
    },
    "id": "stliLzIWhKYV"
   },
   "outputs": [],
   "source": [
    "df = pd.read_csv('https://covid.ourworldindata.org/data/owid-covid-data.csv',sep=',')"
   ]
  },
  {
   "cell_type": "markdown",
   "metadata": {
    "id": "XkSZGaxdiW-j"
   },
   "source": [
    "Y nos quedamos con los datos a una determinada fecha. "
   ]
  },
  {
   "cell_type": "code",
   "execution_count": 4,
   "metadata": {
    "colab": {
     "base_uri": "https://localhost:8080/",
     "height": 353
    },
    "executionInfo": {
     "elapsed": 297,
     "status": "ok",
     "timestamp": 1639826114049,
     "user": {
      "displayName": "JOSE MIGUEL LEIVA MURILLO",
      "photoUrl": "https://lh3.googleusercontent.com/a-/AOh14GjBHAc3DZcMUn0JR8z356Y3RhNhCIu0IDjXLe9v=s64",
      "userId": "00727299425970444690"
     },
     "user_tz": -60
    },
    "id": "RgT8y23hhR3k",
    "outputId": "faee8daa-c545-4af2-92a1-2566b9e515ab"
   },
   "outputs": [
    {
     "data": {
      "text/html": [
       "<div>\n",
       "<style scoped>\n",
       "    .dataframe tbody tr th:only-of-type {\n",
       "        vertical-align: middle;\n",
       "    }\n",
       "\n",
       "    .dataframe tbody tr th {\n",
       "        vertical-align: top;\n",
       "    }\n",
       "\n",
       "    .dataframe thead th {\n",
       "        text-align: right;\n",
       "    }\n",
       "</style>\n",
       "<table border=\"1\" class=\"dataframe\">\n",
       "  <thead>\n",
       "    <tr style=\"text-align: right;\">\n",
       "      <th></th>\n",
       "      <th>iso_code</th>\n",
       "      <th>continent</th>\n",
       "      <th>location</th>\n",
       "      <th>date</th>\n",
       "      <th>total_cases</th>\n",
       "      <th>new_cases</th>\n",
       "      <th>new_cases_smoothed</th>\n",
       "      <th>total_deaths</th>\n",
       "      <th>new_deaths</th>\n",
       "      <th>new_deaths_smoothed</th>\n",
       "      <th>...</th>\n",
       "      <th>male_smokers</th>\n",
       "      <th>handwashing_facilities</th>\n",
       "      <th>hospital_beds_per_thousand</th>\n",
       "      <th>life_expectancy</th>\n",
       "      <th>human_development_index</th>\n",
       "      <th>population</th>\n",
       "      <th>excess_mortality_cumulative_absolute</th>\n",
       "      <th>excess_mortality_cumulative</th>\n",
       "      <th>excess_mortality</th>\n",
       "      <th>excess_mortality_cumulative_per_million</th>\n",
       "    </tr>\n",
       "  </thead>\n",
       "  <tbody>\n",
       "    <tr>\n",
       "      <th>655</th>\n",
       "      <td>AFG</td>\n",
       "      <td>Asia</td>\n",
       "      <td>Afghanistan</td>\n",
       "      <td>2021-12-10</td>\n",
       "      <td>157603.0</td>\n",
       "      <td>18.0</td>\n",
       "      <td>27.286</td>\n",
       "      <td>7324.0</td>\n",
       "      <td>3.0</td>\n",
       "      <td>1.857</td>\n",
       "      <td>...</td>\n",
       "      <td>NaN</td>\n",
       "      <td>37.746</td>\n",
       "      <td>0.50</td>\n",
       "      <td>64.83</td>\n",
       "      <td>0.511</td>\n",
       "      <td>4.112877e+07</td>\n",
       "      <td>NaN</td>\n",
       "      <td>NaN</td>\n",
       "      <td>NaN</td>\n",
       "      <td>NaN</td>\n",
       "    </tr>\n",
       "    <tr>\n",
       "      <th>1650</th>\n",
       "      <td>OWID_AFR</td>\n",
       "      <td>NaN</td>\n",
       "      <td>Africa</td>\n",
       "      <td>2021-12-10</td>\n",
       "      <td>8903566.0</td>\n",
       "      <td>27097.0</td>\n",
       "      <td>23651.429</td>\n",
       "      <td>224591.0</td>\n",
       "      <td>119.0</td>\n",
       "      <td>132.143</td>\n",
       "      <td>...</td>\n",
       "      <td>NaN</td>\n",
       "      <td>NaN</td>\n",
       "      <td>NaN</td>\n",
       "      <td>NaN</td>\n",
       "      <td>NaN</td>\n",
       "      <td>1.426737e+09</td>\n",
       "      <td>NaN</td>\n",
       "      <td>NaN</td>\n",
       "      <td>NaN</td>\n",
       "      <td>NaN</td>\n",
       "    </tr>\n",
       "    <tr>\n",
       "      <th>2633</th>\n",
       "      <td>ALB</td>\n",
       "      <td>Europe</td>\n",
       "      <td>Albania</td>\n",
       "      <td>2021-12-10</td>\n",
       "      <td>203215.0</td>\n",
       "      <td>352.0</td>\n",
       "      <td>310.000</td>\n",
       "      <td>3130.0</td>\n",
       "      <td>2.0</td>\n",
       "      <td>3.143</td>\n",
       "      <td>...</td>\n",
       "      <td>51.2</td>\n",
       "      <td>NaN</td>\n",
       "      <td>2.89</td>\n",
       "      <td>78.57</td>\n",
       "      <td>0.795</td>\n",
       "      <td>2.842318e+06</td>\n",
       "      <td>NaN</td>\n",
       "      <td>NaN</td>\n",
       "      <td>NaN</td>\n",
       "      <td>NaN</td>\n",
       "    </tr>\n",
       "    <tr>\n",
       "      <th>3616</th>\n",
       "      <td>DZA</td>\n",
       "      <td>Africa</td>\n",
       "      <td>Algeria</td>\n",
       "      <td>2021-12-10</td>\n",
       "      <td>212434.0</td>\n",
       "      <td>210.0</td>\n",
       "      <td>188.857</td>\n",
       "      <td>6132.0</td>\n",
       "      <td>6.0</td>\n",
       "      <td>6.143</td>\n",
       "      <td>...</td>\n",
       "      <td>30.4</td>\n",
       "      <td>83.741</td>\n",
       "      <td>1.90</td>\n",
       "      <td>76.88</td>\n",
       "      <td>0.748</td>\n",
       "      <td>4.490323e+07</td>\n",
       "      <td>NaN</td>\n",
       "      <td>NaN</td>\n",
       "      <td>NaN</td>\n",
       "      <td>NaN</td>\n",
       "    </tr>\n",
       "    <tr>\n",
       "      <th>4593</th>\n",
       "      <td>AND</td>\n",
       "      <td>Europe</td>\n",
       "      <td>Andorra</td>\n",
       "      <td>2021-12-10</td>\n",
       "      <td>19440.0</td>\n",
       "      <td>168.0</td>\n",
       "      <td>204.286</td>\n",
       "      <td>133.0</td>\n",
       "      <td>0.0</td>\n",
       "      <td>0.143</td>\n",
       "      <td>...</td>\n",
       "      <td>37.8</td>\n",
       "      <td>NaN</td>\n",
       "      <td>NaN</td>\n",
       "      <td>83.73</td>\n",
       "      <td>0.868</td>\n",
       "      <td>7.984300e+04</td>\n",
       "      <td>NaN</td>\n",
       "      <td>NaN</td>\n",
       "      <td>NaN</td>\n",
       "      <td>NaN</td>\n",
       "    </tr>\n",
       "  </tbody>\n",
       "</table>\n",
       "<p>5 rows × 67 columns</p>\n",
       "</div>"
      ],
      "text/plain": [
       "      iso_code continent     location        date  total_cases  new_cases  \\\n",
       "655        AFG      Asia  Afghanistan  2021-12-10     157603.0       18.0   \n",
       "1650  OWID_AFR       NaN       Africa  2021-12-10    8903566.0    27097.0   \n",
       "2633       ALB    Europe      Albania  2021-12-10     203215.0      352.0   \n",
       "3616       DZA    Africa      Algeria  2021-12-10     212434.0      210.0   \n",
       "4593       AND    Europe      Andorra  2021-12-10      19440.0      168.0   \n",
       "\n",
       "      new_cases_smoothed  total_deaths  new_deaths  new_deaths_smoothed  ...  \\\n",
       "655               27.286        7324.0         3.0                1.857  ...   \n",
       "1650           23651.429      224591.0       119.0              132.143  ...   \n",
       "2633             310.000        3130.0         2.0                3.143  ...   \n",
       "3616             188.857        6132.0         6.0                6.143  ...   \n",
       "4593             204.286         133.0         0.0                0.143  ...   \n",
       "\n",
       "      male_smokers  handwashing_facilities  hospital_beds_per_thousand  \\\n",
       "655            NaN                  37.746                        0.50   \n",
       "1650           NaN                     NaN                         NaN   \n",
       "2633          51.2                     NaN                        2.89   \n",
       "3616          30.4                  83.741                        1.90   \n",
       "4593          37.8                     NaN                         NaN   \n",
       "\n",
       "      life_expectancy  human_development_index    population  \\\n",
       "655             64.83                    0.511  4.112877e+07   \n",
       "1650              NaN                      NaN  1.426737e+09   \n",
       "2633            78.57                    0.795  2.842318e+06   \n",
       "3616            76.88                    0.748  4.490323e+07   \n",
       "4593            83.73                    0.868  7.984300e+04   \n",
       "\n",
       "      excess_mortality_cumulative_absolute  excess_mortality_cumulative  \\\n",
       "655                                    NaN                          NaN   \n",
       "1650                                   NaN                          NaN   \n",
       "2633                                   NaN                          NaN   \n",
       "3616                                   NaN                          NaN   \n",
       "4593                                   NaN                          NaN   \n",
       "\n",
       "      excess_mortality  excess_mortality_cumulative_per_million  \n",
       "655                NaN                                      NaN  \n",
       "1650               NaN                                      NaN  \n",
       "2633               NaN                                      NaN  \n",
       "3616               NaN                                      NaN  \n",
       "4593               NaN                                      NaN  \n",
       "\n",
       "[5 rows x 67 columns]"
      ]
     },
     "execution_count": 4,
     "metadata": {},
     "output_type": "execute_result"
    }
   ],
   "source": [
    "latest_data = df[df['date']=='2021-12-10']\n",
    "# Con la siguiente línea elegiríamos la última fecha disponible, pero podría estar incompleta para muchos países. \n",
    "#latest_data = df[df['date']==df['date'].max()] \n",
    "latest_data.head()"
   ]
  },
  {
   "cell_type": "markdown",
   "metadata": {
    "id": "SvTgPheZjHsr"
   },
   "source": [
    "## Población vacunada: diagramas de barras"
   ]
  },
  {
   "cell_type": "markdown",
   "metadata": {
    "id": "64qrARnAvVM2"
   },
   "source": [
    "¿Cuáles son los 20 países con mayor porcentaje de población vacunada?"
   ]
  },
  {
   "cell_type": "code",
   "execution_count": 9,
   "metadata": {
    "colab": {
     "base_uri": "https://localhost:8080/",
     "height": 542
    },
    "executionInfo": {
     "elapsed": 1620,
     "status": "ok",
     "timestamp": 1639826215192,
     "user": {
      "displayName": "JOSE MIGUEL LEIVA MURILLO",
      "photoUrl": "https://lh3.googleusercontent.com/a-/AOh14GjBHAc3DZcMUn0JR8z356Y3RhNhCIu0IDjXLe9v=s64",
      "userId": "00727299425970444690"
     },
     "user_tz": -60
    },
    "id": "yqiQXfGajO55",
    "outputId": "692e66fb-5a07-4580-a541-cacb5ce09198"
   },
   "outputs": [
    {
     "data": {
      "text/html": [
       "<iframe\n",
       "    scrolling=\"no\"\n",
       "    width=\"100%\"\n",
       "    height=\"545px\"\n",
       "    src=\"iframe_figures/figure_2.html\"\n",
       "    frameborder=\"0\"\n",
       "    allowfullscreen\n",
       "></iframe>\n"
      ]
     },
     "metadata": {},
     "output_type": "display_data"
    }
   ],
   "source": [
    "sorted_data = (\n",
    "    latest_data.dropna(subset=['people_vaccinated_per_hundred']) \n",
    "               .sort_values('people_vaccinated_per_hundred')\n",
    ")\n",
    "fig  = px.bar(sorted_data.iloc[-20:], x=\"people_vaccinated_per_hundred\", y=\"location\", orientation='h') # Mostramos los 20 primeros\n",
    "fig.show()"
   ]
  },
  {
   "cell_type": "markdown",
   "metadata": {
    "id": "kEFZlr9lv4nY"
   },
   "source": [
    "Algunos países son realmente pequeños y no son representativos (sin mencionar que alguno tiene más del 100% de la población vacunada). ¿Cuáles son los 20 países, **con más de 1M de habitantes**, con mayor porcentaje de población vacunada?\n"
   ]
  },
  {
   "cell_type": "code",
   "execution_count": null,
   "metadata": {
    "colab": {
     "base_uri": "https://localhost:8080/",
     "height": 542
    },
    "executionInfo": {
     "elapsed": 272,
     "status": "ok",
     "timestamp": 1639826355460,
     "user": {
      "displayName": "JOSE MIGUEL LEIVA MURILLO",
      "photoUrl": "https://lh3.googleusercontent.com/a-/AOh14GjBHAc3DZcMUn0JR8z356Y3RhNhCIu0IDjXLe9v=s64",
      "userId": "00727299425970444690"
     },
     "user_tz": -60
    },
    "id": "phIqJrVOv0mG",
    "outputId": "a1d2d815-ec86-4857-a135-9b25f73183ca"
   },
   "outputs": [],
   "source": [
    "filtered_data = sorted_data[sorted_data['population']>1e+6].dropna(subset=['continent'])\n",
    "fig  = px.bar(filtered_data.iloc[-20:], x=\"people_vaccinated_per_hundred\", y=\"location\", orientation='h')\n",
    "fig.show()"
   ]
  },
  {
   "cell_type": "markdown",
   "metadata": {
    "id": "RGrCQ-dowQHl"
   },
   "source": [
    "Mostremos el porcentaje de población vacunada junto a la población con pauta completa. "
   ]
  },
  {
   "cell_type": "code",
   "execution_count": null,
   "metadata": {
    "colab": {
     "base_uri": "https://localhost:8080/",
     "height": 542
    },
    "executionInfo": {
     "elapsed": 271,
     "status": "ok",
     "timestamp": 1639811153926,
     "user": {
      "displayName": "JOSE MIGUEL LEIVA MURILLO",
      "photoUrl": "https://lh3.googleusercontent.com/a-/AOh14GjBHAc3DZcMUn0JR8z356Y3RhNhCIu0IDjXLe9v=s64",
      "userId": "00727299425970444690"
     },
     "user_tz": -60
    },
    "id": "kTETZNp-zy61",
    "outputId": "c5f72ed5-c9a4-461d-b52c-3670b8bc40ac"
   },
   "outputs": [],
   "source": [
    "fig  = px.bar(filtered_data.iloc[-20:], \n",
    "              x=[\"people_vaccinated_per_hundred\",\"people_fully_vaccinated_per_hundred\"], \n",
    "              y=\"location\",\n",
    "              barmode='group',\n",
    "              orientation='h')\n",
    "fig.show()"
   ]
  },
  {
   "cell_type": "markdown",
   "metadata": {
    "id": "qpAJyWJkuvL2"
   },
   "source": [
    "¿Podemos hacer una visualización más intuitiva que relacione el porcentaje de población vacunada con el de población con pauta completa?\n",
    "\n",
    "Usemos agrupamiento de tipo *stacked* en lugar de *grouped*"
   ]
  },
  {
   "cell_type": "code",
   "execution_count": null,
   "metadata": {
    "executionInfo": {
     "elapsed": 302,
     "status": "ok",
     "timestamp": 1639826659288,
     "user": {
      "displayName": "JOSE MIGUEL LEIVA MURILLO",
      "photoUrl": "https://lh3.googleusercontent.com/a-/AOh14GjBHAc3DZcMUn0JR8z356Y3RhNhCIu0IDjXLe9v=s64",
      "userId": "00727299425970444690"
     },
     "user_tz": -60
    },
    "id": "Q1Ui-YwBwQml"
   },
   "outputs": [],
   "source": [
    "# Primero añadimos una nueva columna con la diferencia entre vaccinated y fully_vaccinated\n",
    "filtered_data['people_partially_vaccinated_per_hundred'] = filtered_data['people_vaccinated_per_hundred'] - \\\n",
    "                                                       filtered_data['people_fully_vaccinated_per_hundred'] "
   ]
  },
  {
   "cell_type": "code",
   "execution_count": null,
   "metadata": {
    "colab": {
     "base_uri": "https://localhost:8080/",
     "height": 542
    },
    "executionInfo": {
     "elapsed": 15,
     "status": "ok",
     "timestamp": 1639826659566,
     "user": {
      "displayName": "JOSE MIGUEL LEIVA MURILLO",
      "photoUrl": "https://lh3.googleusercontent.com/a-/AOh14GjBHAc3DZcMUn0JR8z356Y3RhNhCIu0IDjXLe9v=s64",
      "userId": "00727299425970444690"
     },
     "user_tz": -60
    },
    "id": "pRGQw4gqw2ZY",
    "outputId": "fe070b82-09c4-4807-e10e-9fd828629d56"
   },
   "outputs": [],
   "source": [
    "fig  = px.bar(filtered_data.iloc[-20:], \n",
    "              x=[\"people_fully_vaccinated_per_hundred\",\"people_partially_vaccinated_per_hundred\"], \n",
    "              y=\"location\",\n",
    "              barmode='stack',\n",
    "              orientation='h')\n",
    "fig.show()"
   ]
  },
  {
   "cell_type": "markdown",
   "metadata": {
    "id": "-TyvlvgatAqK"
   },
   "source": [
    "## Relación entre variables: *scatter plots*\n",
    "\n",
    "Empezamos estudiando la relación entre el índice de desarrollo y el impacto de la pandemia"
   ]
  },
  {
   "cell_type": "code",
   "execution_count": null,
   "metadata": {
    "colab": {
     "base_uri": "https://localhost:8080/",
     "height": 542
    },
    "executionInfo": {
     "elapsed": 344,
     "status": "ok",
     "timestamp": 1639826708982,
     "user": {
      "displayName": "JOSE MIGUEL LEIVA MURILLO",
      "photoUrl": "https://lh3.googleusercontent.com/a-/AOh14GjBHAc3DZcMUn0JR8z356Y3RhNhCIu0IDjXLe9v=s64",
      "userId": "00727299425970444690"
     },
     "user_tz": -60
    },
    "id": "4OogH7dj0H2k",
    "outputId": "38363777-006c-4149-8e6f-3e2ef89241a2"
   },
   "outputs": [],
   "source": [
    "px.scatter(filtered_data,\n",
    "           x='gdp_per_capita', \n",
    "           y='people_vaccinated_per_hundred',\n",
    "           hover_name='location')"
   ]
  },
  {
   "cell_type": "markdown",
   "metadata": {
    "id": "j4aDpk_cnZpQ"
   },
   "source": [
    "Es posible usar *seaborn* para visualizar un modelo de regresión entre ambas variables:"
   ]
  },
  {
   "cell_type": "code",
   "execution_count": null,
   "metadata": {
    "colab": {
     "base_uri": "https://localhost:8080/",
     "height": 352
    },
    "executionInfo": {
     "elapsed": 1006,
     "status": "ok",
     "timestamp": 1639826747840,
     "user": {
      "displayName": "JOSE MIGUEL LEIVA MURILLO",
      "photoUrl": "https://lh3.googleusercontent.com/a-/AOh14GjBHAc3DZcMUn0JR8z356Y3RhNhCIu0IDjXLe9v=s64",
      "userId": "00727299425970444690"
     },
     "user_tz": -60
    },
    "id": "JuxLlhLPnOT2",
    "outputId": "87747ba2-fb50-4533-e9c0-6171164e4c92"
   },
   "outputs": [],
   "source": [
    "import seaborn as sns\n",
    "fig,ax = plt.subplots(1,1,figsize=(10,5))\n",
    "sns.regplot(x=\"gdp_per_capita\", y=\"people_vaccinated_per_hundred\", data=filtered_data,ax=ax)"
   ]
  },
  {
   "cell_type": "markdown",
   "metadata": {
    "id": "OuNdtz94qaw-"
   },
   "source": [
    "Podemos apreciar que un modelo de regresión lineal sobre esa única variable (GDP) explica bastante bien el porcentaje de población vacunada\n",
    "\n",
    "¿Y si quisiéramos plasmar también la población en el gráfico? ¿O los continentes a los que pertenecen los países?"
   ]
  },
  {
   "cell_type": "markdown",
   "metadata": {
    "id": "vroZCMf9kVgh"
   },
   "source": [
    "## Más allá del scatter-plot: los *bubble charts*\n",
    "\n",
    "Representamos la población en el tamaño de la burbuja y el continente en el color de la burbuja. "
   ]
  },
  {
   "cell_type": "code",
   "execution_count": null,
   "metadata": {
    "colab": {
     "base_uri": "https://localhost:8080/",
     "height": 542
    },
    "executionInfo": {
     "elapsed": 649,
     "status": "ok",
     "timestamp": 1639826928767,
     "user": {
      "displayName": "JOSE MIGUEL LEIVA MURILLO",
      "photoUrl": "https://lh3.googleusercontent.com/a-/AOh14GjBHAc3DZcMUn0JR8z356Y3RhNhCIu0IDjXLe9v=s64",
      "userId": "00727299425970444690"
     },
     "user_tz": -60
    },
    "id": "_qLaHnkDqXMB",
    "outputId": "6c64b9df-796e-4a1b-b853-23444082e92d"
   },
   "outputs": [],
   "source": [
    "px.scatter(filtered_data,\n",
    "           x='gdp_per_capita', \n",
    "           y='people_vaccinated_per_hundred',\n",
    "           size = 'population',\n",
    "           color = 'continent',\n",
    "           size_max=60,\n",
    "           log_x = True,\n",
    "           hover_name='location')"
   ]
  },
  {
   "cell_type": "markdown",
   "metadata": {
    "id": "GIRSs8IBtJz6"
   },
   "source": [
    "**Ejercicios:** \n",
    "1. Busque una visualización que muestre la relación entre el envejecimiento de la población con la gravedad de la pandemia en cada país. \n",
    "2. Analice con gráficos la relación entre la densidad de población de un país y la gravedad de la pandemia en el mismo. "
   ]
  },
  {
   "cell_type": "markdown",
   "metadata": {
    "id": "4V_ywIIevKU6"
   },
   "source": [
    "## Cómo mostrar información temporal\n",
    "\n",
    "En esta ocasión volvemos al *dataframe* original para comparar la evolución de una determinada métrica sobre la gravedad de la pandemia a lo largo del tiempo. "
   ]
  },
  {
   "cell_type": "code",
   "execution_count": null,
   "metadata": {
    "colab": {
     "base_uri": "https://localhost:8080/",
     "height": 542
    },
    "executionInfo": {
     "elapsed": 527,
     "status": "ok",
     "timestamp": 1639827173495,
     "user": {
      "displayName": "JOSE MIGUEL LEIVA MURILLO",
      "photoUrl": "https://lh3.googleusercontent.com/a-/AOh14GjBHAc3DZcMUn0JR8z356Y3RhNhCIu0IDjXLe9v=s64",
      "userId": "00727299425970444690"
     },
     "user_tz": -60
    },
    "id": "zy9M598dEKjl",
    "outputId": "342e3f79-0faf-41a6-e053-3a21dfcfac10"
   },
   "outputs": [],
   "source": [
    "countries = ['Spain', 'United Kingdom', 'United States']\n",
    "selected_data = df[df['location'].isin(countries)]\n",
    "\n",
    "px.line(selected_data, x='date', y='new_cases_smoothed_per_million', color='location')"
   ]
  },
  {
   "cell_type": "markdown",
   "metadata": {
    "id": "7guNb6xLsFyV"
   },
   "source": [
    "## Usando la variable temporal para una animación\n",
    "\n",
    "**Ejercicio**. De forma similar a como se vio en la introducción, es posible representar la evolución de la pandemia con un gráfico animado. \n",
    "\n",
    "Para reducir la complejidad computacional se sugiere muestrear la escala temporal a la semana. "
   ]
  },
  {
   "cell_type": "markdown",
   "metadata": {
    "id": "Ji1pvh4LuSZB"
   },
   "source": [
    "## Cómo mostrar información espacial: mapas\n",
    "\n",
    "Mostramos mapa-mundi con el color de los países representando el porcentaje de población vacunada. Los argumentos más importantes son:\n",
    "* *locations*: la columna que contiene la información geográfica (códigos estandarizados que identifican al país).\n",
    "* *color*: es la columna que contiene la maagnitud a representar. \n",
    "* *hover_name*: columna que contiene la información que queremos que muestre al sobrevolar cada país con el ratón."
   ]
  },
  {
   "cell_type": "code",
   "execution_count": null,
   "metadata": {
    "colab": {
     "base_uri": "https://localhost:8080/",
     "height": 542
    },
    "executionInfo": {
     "elapsed": 324,
     "status": "ok",
     "timestamp": 1639827255609,
     "user": {
      "displayName": "JOSE MIGUEL LEIVA MURILLO",
      "photoUrl": "https://lh3.googleusercontent.com/a-/AOh14GjBHAc3DZcMUn0JR8z356Y3RhNhCIu0IDjXLe9v=s64",
      "userId": "00727299425970444690"
     },
     "user_tz": -60
    },
    "id": "QjsQXN3ViW9t",
    "outputId": "fb5cbc84-0c57-4f15-825e-7a975ffe8044"
   },
   "outputs": [],
   "source": [
    "\n",
    "fig = px.choropleth(latest_data, locations=\"iso_code\",\n",
    "                    color=\"people_vaccinated_per_hundred\", \n",
    "                    hover_name=\"location\", \n",
    "                    color_continuous_scale=px.colors.sequential.Bluered)\n",
    "fig.show()"
   ]
  }
 ],
 "metadata": {
  "colab": {
   "authorship_tag": "ABX9TyPjFGIeGdwGzetF0inNdTxK",
   "collapsed_sections": [],
   "name": "2 - Visualizaciones Covid.ipynb",
   "provenance": []
  },
  "kernelspec": {
   "display_name": "Python 3 (ipykernel)",
   "language": "python",
   "name": "python3"
  },
  "language_info": {
   "codemirror_mode": {
    "name": "ipython",
    "version": 3
   },
   "file_extension": ".py",
   "mimetype": "text/x-python",
   "name": "python",
   "nbconvert_exporter": "python",
   "pygments_lexer": "ipython3",
   "version": "3.9.7"
  }
 },
 "nbformat": 4,
 "nbformat_minor": 4
}
