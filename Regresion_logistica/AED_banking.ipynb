{
 "cells": [
  {
   "cell_type": "markdown",
   "metadata": {
    "id": "bxDM3rleMztP"
   },
   "source": [
    "En este [ejemplo](https://towardsdatascience.com/building-a-logistic-regression-in-python-step-by-step-becd4d56c9c8), emplearemos la base de datos 'banking.csv'. El conjunto de datos proporciona la información de los clientes bancarios. Incluye 41.188 registros y 21 campos.\n",
    "\n",
    "El conjunto de datos proviene del repositorio [UCI Machine Learning](http://archive.ics.uci.edu/ml/about.html) y está relacionado con campañas de marketing directo (llamadas telefónicas) de una institución bancaria portuguesa. \n",
    "\n",
    "El ***objetivo*** de la clasificación es ***predecir si el cliente suscribirá un depósito a largo plazo***."
   ]
  },
  {
   "cell_type": "markdown",
   "metadata": {
    "id": "3q7aTmUmMwrE"
   },
   "source": [
    "**Variables de entrada**\n",
    "* **age** (numérica): edad del cliente\n",
    "* **job** (categórica): profesión o tipo de trabajo (“admin”, “blue-collar”, “entrepreneur”, “housemaid”, “management”, “retired”, “self-employed”, “services”, “student”, “technician”, “unemployed”, “unknown”)\n",
    "* **marital** (categórica): estado civil (“divorced”, “married”, “single”, “unknown”) \n",
    "* **education** (categórica): nivel educativo (“basic.4y”, “basic.6y”, “basic.9y”, “high.school”, “illiterate”, “professional.course”, “university.degree”, “unknown”) \n",
    "* **default** (categórica): existencia de impagos (“no”, “yes”, “unknown”) \n",
    "* **housing** (categórica): existencia de préstamo de vivienda (“no”, “yes”, “unknown”)\n",
    "* **loan** (categórica): existencia de préstamo personal (“no”, “yes”, “unknown”)\n",
    "* **contact** (categórica): tipo de comunicación del contacto (“cellular”, “telephone”)\n",
    "* **month** (categórica): último contacto mes del año (“jan”, “feb”, “mar”, …, “nov”, “de)\n",
    "* **day_of_week** (categórica): último día de contacto de la semana (“mon”, “tue”, “wed”, “thu”, “fri”)\n",
    "* **duration** (numérica): duración del último contacto, en segundos. Nota importante: este atributo afecta en gran medida el objetivo de salida (por ejemplo, si la duración = 0 entonces y = 'no'). La duración no se conoce antes de que se realice una llamada, también, después del final de la llamada, obviamente se conoce y. Por lo tanto, esta entrada solo debe incluirse con fines de referencia y debe descartarse si la intención es tener un modelo predictivo realista.\n",
    "* **campaign** (numérica): número de contactos realizados durante esta campaña y para este cliente \n",
    "* **pdays** (numérica): número de días que pasaron después de que el cliente fue contactado por última vez de una campaña anterior (999 significa que el cliente no fue contactado previamente)\n",
    "* **previous** (numérica): número de contactos realizados antes de esta campaña y para este cliente\n",
    "* **poutcome** (categórica): resultado de la campaña de marketing anterior (“failure”, “nonexistent”, “success”)\n",
    "* **emp.var.rate** (numérica): tasa de variación del empleo \n",
    "* **cons.price.idx** (numérica): índice de precios al consumidor\n",
    "* **cons.conf.idx** (numérica): índice de confianza del consumidor\n",
    "* **euribor3m** (numérica): tipo euribor a 3 meses\n",
    "* **nr.employed** (numérica): número de empleados\n",
    "\n",
    "**Variable outcome:**\n",
    "\n",
    "*   **y** (dicotómica)— ¿el cliente ha suscrito un depósito a plazo? (“1” significa “Sí”, “0” significa “No”)."
   ]
  },
  {
   "cell_type": "markdown",
   "metadata": {
    "id": "ZKDy_taJNH1F"
   },
   "source": [
    "**Librerías:**\n",
    "\n",
    "Emplearemos **`panda`** (manipulación y análisis de datos), **`numpy`** (manipulación de arrays), **`scikit-learn`** (análisis predictivo para machine learning), **`matplotlib`** (visualización de datos) y **`seaborn`** (visualización de datos, basada en matplotlib)."
   ]
  },
  {
   "cell_type": "code",
   "execution_count": null,
   "metadata": {
    "id": "BN4iir9jMvGv"
   },
   "outputs": [],
   "source": [
    "import pandas as pd\n",
    "import numpy as np\n",
    "from sklearn import preprocessing\n",
    "import matplotlib.pyplot as plt \n",
    "plt.rc(\"font\", size=14)\n",
    "from sklearn.linear_model import LogisticRegression\n",
    "from sklearn.model_selection import train_test_split\n",
    "import seaborn as sns\n",
    "sns.set(style=\"white\")\n",
    "sns.set(style=\"whitegrid\", color_codes=True)"
   ]
  },
  {
   "cell_type": "code",
   "execution_count": null,
   "metadata": {
    "id": "TzRfZ5pdSpjp"
   },
   "outputs": [],
   "source": [
    "from google.colab import files\n",
    "files.upload()"
   ]
  },
  {
   "cell_type": "code",
   "execution_count": null,
   "metadata": {
    "id": "Wxj-KfUMTA8d"
   },
   "outputs": [],
   "source": [
    "from pandas import read_csv\n",
    "datos=read_csv('AED_banking.csv', header=0)\n",
    "print(datos)"
   ]
  },
  {
   "cell_type": "markdown",
   "metadata": {
    "id": "efFKsofpTpdb"
   },
   "source": [
    "Aunque omitimos los datos ausentes (NA) con la función `dropna()`, comprobamos que no hay. Finalmente, comprobamos que tenemos 41188 observaciones de 21 variables."
   ]
  },
  {
   "cell_type": "code",
   "execution_count": null,
   "metadata": {
    "id": "JQt_tO6ETu1w"
   },
   "outputs": [],
   "source": [
    "datos=datos.dropna()\n",
    "print(datos.shape)\n",
    "print(list(datos.columns))"
   ]
  },
  {
   "cell_type": "markdown",
   "metadata": {
    "id": "Z9Yase4JSht_"
   },
   "source": [
    "**Preparación de los datos**\n",
    "\n",
    "La columna de `education` del conjunto de datos tiene muchas categorías y necesitamos reducirlas para un mejor modelado. La columna de educación tiene las siguientes categorías:"
   ]
  },
  {
   "cell_type": "code",
   "execution_count": null,
   "metadata": {
    "id": "RnMn66IzU3LZ"
   },
   "outputs": [],
   "source": [
    "datos['education'].unique()"
   ]
  },
  {
   "cell_type": "markdown",
   "metadata": {
    "id": "1EMZzfK1U-Um"
   },
   "source": [
    "Agruparemos los niveles \"basic.4y\", \"basic.6y\", y \"basic.9y\" en el nuevo nivel \"basic\""
   ]
  },
  {
   "cell_type": "code",
   "execution_count": null,
   "metadata": {
    "id": "lEi5mNYRVQ_P"
   },
   "outputs": [],
   "source": [
    "datos['education']=np.where(datos['education'] =='basic.9y', 'basic', datos['education'])\n",
    "datos['education']=np.where(datos['education'] =='basic.6y', 'basic', datos['education'])\n",
    "datos['education']=np.where(datos['education'] =='basic.4y', 'basic', datos['education'])"
   ]
  },
  {
   "cell_type": "code",
   "execution_count": null,
   "metadata": {
    "id": "XpP7r2-oVbC0"
   },
   "outputs": [],
   "source": [
    "datos['education'].unique()"
   ]
  },
  {
   "cell_type": "markdown",
   "metadata": {
    "id": "CieIcmoqVkfx"
   },
   "source": [
    "**Exploración de datos**"
   ]
  },
  {
   "cell_type": "code",
   "execution_count": null,
   "metadata": {
    "id": "NNGEyYe9VqPu"
   },
   "outputs": [],
   "source": [
    "datos['y'].value_counts()"
   ]
  },
  {
   "cell_type": "markdown",
   "metadata": {
    "id": "5llqu38tWRhs"
   },
   "source": [
    "Comprobamos que la mayor parte de clientes no disponen de crédito a largo plazo (36548/36548+4640), mientras que algo más de un 10% sí que disponen (4640/4640+36548)."
   ]
  },
  {
   "cell_type": "code",
   "execution_count": null,
   "metadata": {
    "id": "8Lz-cvvDVpAn"
   },
   "outputs": [],
   "source": [
    "sns.countplot(x='y', data=datos, palette='hls')\n",
    "plt.show()"
   ]
  },
  {
   "cell_type": "markdown",
   "metadata": {
    "id": "2n2aTfQq9qST"
   },
   "source": [
    "Calculemos el porcentaje de clientes que disponen de crédito a largo plazo frente a aquellos que no están suscritos a un crédito a largo plazo."
   ]
  },
  {
   "cell_type": "code",
   "execution_count": null,
   "metadata": {
    "id": "kE20_8brWutu"
   },
   "outputs": [],
   "source": [
    "count_no_sub = len(datos[datos['y']==0])\n",
    "count_sub = len(datos[datos['y']==1])\n",
    "pct_of_no_sub = count_no_sub/(count_no_sub+count_sub)\n",
    "print(\"El porcentaje de no suscripción de crétito a largo plazo es\", pct_of_no_sub*100,\"%\")\n",
    "pct_of_sub = count_sub/(count_no_sub+count_sub)\n",
    "print(\"El porcentaje de suscripción de crétito a largo plazo es\", pct_of_sub*100,\"%\")"
   ]
  },
  {
   "cell_type": "markdown",
   "metadata": {
    "id": "KcXUrxZ1XMuA"
   },
   "source": [
    "Comprobamos que los niveles o clases de la VD están desequilibrados, y la proporción de instancias sin suscripción a suscripción es 89:11. Antes de seguir adelante para equilibrar las clases, exploremos un poco más las características del resto de variables cuantitativas en función de los niveles de la VD."
   ]
  },
  {
   "cell_type": "code",
   "execution_count": null,
   "metadata": {
    "id": "N1MOavkNXZwu"
   },
   "outputs": [],
   "source": [
    "datos.groupby('y').mean()"
   ]
  },
  {
   "cell_type": "markdown",
   "metadata": {
    "id": "IyoZa8HAMk7G"
   },
   "source": [
    "**Observaciones:**\n",
    "* La edad media de los clientes que compraron el depósito a plazo es ligeramente superior a la de los clientes que no lo hicieron.\n",
    "* La duración del último contacto es muy superior en los suscriptores al crédito.\n",
    "* Sorprendentemente, las campañas (número de contactos o llamadas realizadas durante la campaña actual) son menores para los clientes que compraron el depósito a plazo.\n",
    "* Los pdays (días desde la última vez que se contactó al cliente) son comprensiblemente más bajos para los clientes que lo compraron. Cuanto más bajos sean los pdays, mejor será el recuerdo de la última llamada y, por lo tanto, mayores posibilidades de venta.\n",
    "\n",
    "Podemos calcular medias categóricas para otras variables categóricas, como la educación y el estado civil, para obtener una idea más detallada de nuestros datos."
   ]
  },
  {
   "cell_type": "code",
   "execution_count": null,
   "metadata": {
    "id": "GGW6mmYyMxI9"
   },
   "outputs": [],
   "source": [
    "datos.groupby('job').mean()"
   ]
  },
  {
   "cell_type": "code",
   "execution_count": null,
   "metadata": {
    "id": "lY_v-e1mNWK3"
   },
   "outputs": [],
   "source": [
    "datos.groupby('marital').mean()"
   ]
  },
  {
   "cell_type": "code",
   "execution_count": null,
   "metadata": {
    "id": "V3qrP-suNZVR"
   },
   "outputs": [],
   "source": [
    "datos.groupby('education').mean()"
   ]
  },
  {
   "cell_type": "markdown",
   "metadata": {
    "id": "7mysw8IdNcsr"
   },
   "source": [
    "**Visualizaciones**\n",
    "\n",
    "Procedemos a visualizar el comportamiento de las variables predictoras categóricas en función de los niveles de la VD. Esto nos permite comprobar visualmente si un predictor determinado puede ser útil a la hora de predecir la probabilidad del suceso. "
   ]
  },
  {
   "cell_type": "code",
   "execution_count": null,
   "metadata": {
    "id": "r3ysMO0mNg0Q"
   },
   "outputs": [],
   "source": [
    "%matplotlib inline\n",
    "pd.crosstab(datos.job,datos.y).plot(kind='bar')\n",
    "plt.title('Frecuencia de compra en función de la profesión laboral') \n",
    "plt.xlabel('Cargo') \n",
    "plt.ylabel('Frecuencia de compra de crédito a largo plazo') "
   ]
  },
  {
   "cell_type": "markdown",
   "metadata": {
    "id": "tn6P-HeQN0Wn"
   },
   "source": [
    "La frecuencia de compra del depósito depende en gran medida de la profesión. Por lo tanto, la profesión laboral podría ser un buen predictor de la variable resultado."
   ]
  },
  {
   "cell_type": "code",
   "execution_count": null,
   "metadata": {
    "id": "ARffHLh2ToIF"
   },
   "outputs": [],
   "source": [
    "table=pd.crosstab(datos.marital,datos.y)\n",
    "table.div(table.sum(1).astype(float), axis=0).plot(kind='bar', stacked=True)\n",
    "plt.title ('Gráfico de barras apiladas de educación frente a compras') \n",
    "plt.xlabel('Educación') \n",
    "plt.ylabel('Proporción de clientes') "
   ]
  },
  {
   "cell_type": "markdown",
   "metadata": {
    "id": "HqcfYcYFUNFi"
   },
   "source": [
    "El estado civil no parece un predictor de la variable resultado, dado que no parece diferenciar sus niveles."
   ]
  },
  {
   "cell_type": "code",
   "execution_count": null,
   "metadata": {
    "id": "Kr7DdIUYUNws"
   },
   "outputs": [],
   "source": [
    "table=pd.crosstab(datos.education,datos.y)\n",
    "table.div(table.sum(1).astype(float), axis=0).plot(kind='bar', stacked=True)\n",
    "plt.title('Gráfico de barras apiladas de educación frente a compras') \n",
    "plt.xlabel('Educación') \n",
    "plt.ylabel('Proporción de clientes') "
   ]
  },
  {
   "cell_type": "markdown",
   "metadata": {
    "id": "B3yWT3WlUgYe"
   },
   "source": [
    "La educación parece un buen predictor de la variable de resultado."
   ]
  },
  {
   "cell_type": "code",
   "execution_count": null,
   "metadata": {
    "id": "0RkBMwqXUg2p"
   },
   "outputs": [],
   "source": [
    "pd.crosstab(datos.day_of_week,datos.y).plot(kind='bar')\n",
    "plt.title('Frecuencia de compra por día de la semana') \n",
    "plt.xlabel('Día de la semana') \n",
    "plt.ylabel('Frecuencia de compra') "
   ]
  },
  {
   "cell_type": "markdown",
   "metadata": {
    "id": "lu4tL-CLUs-o"
   },
   "source": [
    "El día de la semana puede no ser un buen predictor del resultado."
   ]
  },
  {
   "cell_type": "code",
   "execution_count": null,
   "metadata": {
    "id": "ubc7tAzjUtVU"
   },
   "outputs": [],
   "source": [
    "pd.crosstab(datos.month,datos.y).plot(kind='bar')\n",
    "plt.title('Frecuencia de compra por mes') \n",
    "plt.xlabel('Mes') \n",
    "plt.ylabel('Frecuencia de compra') "
   ]
  },
  {
   "cell_type": "markdown",
   "metadata": {
    "id": "5bcZIH-VU6cf"
   },
   "source": [
    "El mes podría ser un buen predictor de la variable de resultado."
   ]
  },
  {
   "cell_type": "code",
   "execution_count": null,
   "metadata": {
    "id": "C6JncpibU7AB"
   },
   "outputs": [],
   "source": [
    "datos.age.hist()\n",
    "plt.title('Histograma de edad') \n",
    "plt.xlabel('Edad') \n",
    "plt.ylabel('Frecuencia') "
   ]
  },
  {
   "cell_type": "markdown",
   "metadata": {
    "id": "-nrJzQ0QVAmN"
   },
   "source": [
    "La mayoría de los clientes del banco en este conjunto de datos tienen entre 30 y 40 años."
   ]
  },
  {
   "cell_type": "code",
   "execution_count": null,
   "metadata": {
    "id": "401TBIGAVCau"
   },
   "outputs": [],
   "source": [
    "pd.crosstab(datos.poutcome,datos.y).plot(kind='bar')\n",
    "plt.title('Frecuencia de compra por Poutcome') \n",
    "plt.xlabel('Poutcome') \n",
    "plt.ylabel('Frecuencia de compra')"
   ]
  },
  {
   "cell_type": "markdown",
   "metadata": {
    "id": "LLIMlW4nVJvf"
   },
   "source": [
    "Poutcome parece ser un buen predictor de la variable de resultado."
   ]
  },
  {
   "cell_type": "markdown",
   "metadata": {
    "id": "KdeLaB35VLSL"
   },
   "source": [
    "**Creación de variables ficticias**\n",
    "\n",
    "Antes de crear el modelo de regresión logística, es necesario codificar como variables ficticias o dummies aquellas variables de tipo categórico. En nuestro dataset existen varias variables: la profesión (job), el estado civil (marital), el nivel educativo (education), la existencia de impagos (default), de préstamos de vivienda (housing), de préstamo personal (loan), el tipo de comunicación de contacto (contact), el mes (month), el día de la semana (day_of_week) y el resultado de la campaña anterior (poutcome)."
   ]
  },
  {
   "cell_type": "code",
   "execution_count": null,
   "metadata": {
    "id": "7DLB7MtqVKNw"
   },
   "outputs": [],
   "source": [
    "cat_vars=['job','marital','education','default','housing','loan','contact','month','day_of_week','poutcome']\n",
    "for var in cat_vars:\n",
    "    cat_list='var'+'_'+var\n",
    "    cat_list = pd.get_dummies(datos[var], prefix=var)\n",
    "    datos1=datos.join(cat_list)\n",
    "    datos=datos1\n",
    "cat_vars=['job','marital','education','default','housing','loan','contact','month','day_of_week','poutcome']\n",
    "datos_vars=datos.columns.values.tolist()\n",
    "to_keep=[i for i in datos_vars if i not in cat_vars]"
   ]
  },
  {
   "cell_type": "code",
   "execution_count": null,
   "metadata": {
    "id": "0TR3DTdPVbjy"
   },
   "outputs": [],
   "source": [
    "datos_final=datos[to_keep]\n",
    "datos_final.columns.values"
   ]
  },
  {
   "cell_type": "markdown",
   "metadata": {
    "id": "BkTX8z_hVn6v"
   },
   "source": [
    "**Sobremuestreo usando SMOTE**\n",
    "\n",
    "https://machinelearningmastery.com/smote-oversampling-for-imbalanced-classification/\n"
   ]
  },
  {
   "cell_type": "code",
   "execution_count": null,
   "metadata": {
    "id": "v3d3L9cuV9HQ"
   },
   "outputs": [],
   "source": [
    "X = datos_final.loc[:, datos_final.columns != 'y']\n",
    "y = datos_final.loc[:, datos_final.columns == 'y']"
   ]
  },
  {
   "cell_type": "code",
   "execution_count": null,
   "metadata": {
    "id": "GbwRLea5V0GL"
   },
   "outputs": [],
   "source": [
    "from imblearn.over_sampling import SMOTE\n",
    "oversample = SMOTE(random_state=0)\n",
    "X_train, X_test, y_train, y_test = train_test_split(X, y, test_size=0.3, random_state=0)\n",
    "columns = X_train.columns\n",
    "os_data_X,os_data_y=oversample.fit_resample(X_train, y_train)"
   ]
  },
  {
   "cell_type": "code",
   "execution_count": null,
   "metadata": {
    "id": "2CZQEMFsXHw7"
   },
   "outputs": [],
   "source": [
    "\n",
    "os_data_X = pd.DataFrame(data=os_data_X,columns=columns )\n",
    "os_data_y= pd.DataFrame(data=os_data_y,columns=['y'])\n",
    "# podemos comprobar los números de nuestros datos \n",
    "print(\"La longitud de los datos sobremuestreados es \",len(os_data_X)) \n",
    "print(\"Número de sin suscripción en datos sobremuestreados\",len(os_data_y[os_data_y['y']==0])) \n",
    "print(\"Número de suscripción\",len(os_data_y[os_data_y['y']==1])) \n",
    "print(\"La proporción de datos sin suscripción en datos sobremuestreados es \",len(os_data_y[os_data_y['y']==0])/ len(os_data_X)) \n",
    "print(\"La proporción de datos de suscripción en datos sobremuestreados es \",len(os_data_y[os_data_y['y']==1])/len(os_data_X))"
   ]
  },
  {
   "cell_type": "markdown",
   "metadata": {
    "id": "rS81qLhEYvcF"
   },
   "source": [
    "Ahora tenemos datos perfectamente equilibrados. Es posible que haya notado que hice un sobremuestreo solo en los datos de entrenamiento, porque al hacer un sobremuestreo solo en los datos de entrenamiento, ninguna información en los datos de prueba se usa para crear observaciones sintéticas, por lo que ninguna información de los datos de prueba se filtrará en la formación del modelo."
   ]
  },
  {
   "cell_type": "markdown",
   "metadata": {
    "id": "8Y9O0TFVY8sg"
   },
   "source": [
    "**Eliminación recursiva de características**\n",
    "\n",
    "La eliminación recursiva de características ([RFE](https://scikit-learn.org/stable/modules/generated/sklearn.feature_selection.RFE.html)) se basa en la idea de construir repetidamente un modelo y elegir la característica con mejor o peor rendimiento, dejandola a un lado y luego repitiendo el proceso con el resto de las predictores. Este proceso se aplica hasta que se agotan todas las entidades del conjunto de datos. El objetivo de RFE es seleccionar características considerando de forma recursiva conjuntos de características cada vez más pequeños."
   ]
  },
  {
   "cell_type": "code",
   "execution_count": null,
   "metadata": {
    "id": "E-XPPk2Nh4_P"
   },
   "outputs": [],
   "source": [
    "datos_final_vars=datos_final.columns.values.tolist()\n",
    "y=['y']\n",
    "X=[i for i in datos_final_vars if i not in y]\n",
    "X"
   ]
  },
  {
   "cell_type": "code",
   "execution_count": null,
   "metadata": {
    "id": "1QATghqcZBeo"
   },
   "outputs": [],
   "source": [
    "import statsmodels.api as sm\n",
    "logit_model=sm.Logit(y,X)\n",
    "result=logit_model.fit()\n",
    "print(result.summary2())"
   ]
  },
  {
   "cell_type": "code",
   "execution_count": null,
   "metadata": {
    "id": "yYIuzFwOFI62"
   },
   "outputs": [],
   "source": [
    "cols=['marital_divorced', 'marital_married', 'marital_single', 'marital_unknown', 'education_basic', 'education_high.school', 'education_professional.course', \n",
    "      'education_university.degree', 'education_unknown', 'housing_no', 'housing_unknown', 'housing_yes', 'loan_no', 'loan_unknown', 'loan_yes', \n",
    "      'day_of_week_fri', 'day_of_week_mon', 'day_of_week_thu', \"day_of_week_tue\", \"day_of_week_wed\"] \n",
    "X=os_data_X[cols]\n",
    "y=os_data_y['y']"
   ]
  },
  {
   "cell_type": "markdown",
   "metadata": {
    "id": "mvAo7xBMFPo2"
   },
   "source": [
    "Implementación del modelo con Statmodels"
   ]
  },
  {
   "cell_type": "code",
   "execution_count": null,
   "metadata": {
    "id": "rUBMIk7CFRiA"
   },
   "outputs": [],
   "source": [
    "import statsmodels.api as sm\n",
    "logit_model=sm.Logit(y,X)\n",
    "result=logit_model.fit()\n",
    "print(result.summary2())"
   ]
  }
 ],
 "metadata": {
  "colab": {
   "authorship_tag": "ABX9TyO9oGTmJ8fMeK/7JtdABrwj",
   "provenance": [
    {
     "file_id": "13PxjXG1gDfu8MrW-aoZxGCx3J8pTBU1g",
     "timestamp": 1671094295794
    }
   ]
  },
  "kernelspec": {
   "display_name": "Python 3 (ipykernel)",
   "language": "python",
   "name": "python3"
  },
  "language_info": {
   "codemirror_mode": {
    "name": "ipython",
    "version": 3
   },
   "file_extension": ".py",
   "mimetype": "text/x-python",
   "name": "python",
   "nbconvert_exporter": "python",
   "pygments_lexer": "ipython3",
   "version": "3.10.8"
  }
 },
 "nbformat": 4,
 "nbformat_minor": 4
}
