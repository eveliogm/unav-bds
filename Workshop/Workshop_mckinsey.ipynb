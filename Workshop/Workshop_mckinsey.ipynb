{
 "cells": [
  {
   "cell_type": "code",
   "execution_count": 33,
   "id": "d82fb9dc-2dd0-4056-b3f6-73760a5ce550",
   "metadata": {},
   "outputs": [],
   "source": [
    "import pandas as pd\n",
    "import numpy as np\n",
    "from datetime import datetime "
   ]
  },
  {
   "cell_type": "markdown",
   "id": "5d641d8d-9bfd-46a4-ab55-7a951088deaf",
   "metadata": {},
   "source": [
    "- Preparing data\n",
    "- model generation\n",
    "- Estudiar la distribucion ver valriables por deciles \n",
    "- Estudiar el top Churn customers:\n",
    "    - hacer un clustering \n",
    "    - Semente Hypotheses\n",
    "    - Enrichemt and validation\n",
    "    - Segment profiling"
   ]
  },
  {
   "cell_type": "markdown",
   "id": "1460b034-3da5-4dbc-8dcc-1e0ed6f51a74",
   "metadata": {},
   "source": [
    "Data:\n",
    "we generate time windows\n",
    "- gender --> BinEncoder -> male \n",
    "- profession --> Ordinal Encoder --> 1...48\n",
    "- "
   ]
  },
  {
   "cell_type": "code",
   "execution_count": null,
   "id": "e376e358-0d04-4443-b55d-5d9bfbe20bf1",
   "metadata": {},
   "outputs": [],
   "source": []
  },
  {
   "cell_type": "code",
   "execution_count": 83,
   "id": "1b652315-c8df-44f7-b750-a865a6726b69",
   "metadata": {},
   "outputs": [
    {
     "name": "stderr",
     "output_type": "stream",
     "text": [
      "/var/folders/99/x_thvh6101lbzztl8qnh9jyr0000gn/T/ipykernel_57910/3190646322.py:1: DtypeWarning: Columns (6) have mixed types. Specify dtype option on import or set low_memory=False.\n",
      "  datos_raw = pd.read_csv(\"bankingchurn_data_modif.csv\",sep = \";\")\n"
     ]
    },
    {
     "data": {
      "text/html": [
       "<div>\n",
       "<style scoped>\n",
       "    .dataframe tbody tr th:only-of-type {\n",
       "        vertical-align: middle;\n",
       "    }\n",
       "\n",
       "    .dataframe tbody tr th {\n",
       "        vertical-align: top;\n",
       "    }\n",
       "\n",
       "    .dataframe thead th {\n",
       "        text-align: right;\n",
       "    }\n",
       "</style>\n",
       "<table border=\"1\" class=\"dataframe\">\n",
       "  <thead>\n",
       "    <tr style=\"text-align: right;\">\n",
       "      <th></th>\n",
       "      <th>contract_start</th>\n",
       "      <th>contract_end</th>\n",
       "      <th>date_of_birth</th>\n",
       "      <th>gender</th>\n",
       "      <th>profession</th>\n",
       "      <th>size_household</th>\n",
       "      <th>ZIP</th>\n",
       "      <th>segment</th>\n",
       "      <th>credit_rating</th>\n",
       "      <th>no_credit_rating_flag</th>\n",
       "      <th>...</th>\n",
       "      <th>online_number_of_logins_per_month</th>\n",
       "      <th>online_tranactions_per_month</th>\n",
       "      <th>advisor_contacts_last12months</th>\n",
       "      <th>customer_limit</th>\n",
       "      <th>cash_withdraws_per_month</th>\n",
       "      <th>cash_withdrawals_value</th>\n",
       "      <th>consumer_credit_value</th>\n",
       "      <th>consumer_credit_maturity</th>\n",
       "      <th>account_fee</th>\n",
       "      <th>number_of_refusals</th>\n",
       "    </tr>\n",
       "  </thead>\n",
       "  <tbody>\n",
       "    <tr>\n",
       "      <th>0</th>\n",
       "      <td>2010-10-24</td>\n",
       "      <td>NaN</td>\n",
       "      <td>1991-02-11</td>\n",
       "      <td>M</td>\n",
       "      <td>Professional Services</td>\n",
       "      <td>1</td>\n",
       "      <td>76829</td>\n",
       "      <td>S2</td>\n",
       "      <td>89,5685176247469</td>\n",
       "      <td>0</td>\n",
       "      <td>...</td>\n",
       "      <td>0</td>\n",
       "      <td>0</td>\n",
       "      <td>3</td>\n",
       "      <td>1000</td>\n",
       "      <td>4</td>\n",
       "      <td>459,840939712736</td>\n",
       "      <td>-24011,393551989</td>\n",
       "      <td>205</td>\n",
       "      <td>15</td>\n",
       "      <td>6</td>\n",
       "    </tr>\n",
       "    <tr>\n",
       "      <th>1</th>\n",
       "      <td>2010-04-30</td>\n",
       "      <td>2017-10-20</td>\n",
       "      <td>1986-04-06</td>\n",
       "      <td>W</td>\n",
       "      <td>NaN</td>\n",
       "      <td>1</td>\n",
       "      <td>35104</td>\n",
       "      <td>S2</td>\n",
       "      <td>94,2705069107966</td>\n",
       "      <td>0</td>\n",
       "      <td>...</td>\n",
       "      <td>16</td>\n",
       "      <td>8</td>\n",
       "      <td>2</td>\n",
       "      <td>1000</td>\n",
       "      <td>7</td>\n",
       "      <td>476,334458774319</td>\n",
       "      <td>-5368,74306807524</td>\n",
       "      <td>137</td>\n",
       "      <td>15</td>\n",
       "      <td>6</td>\n",
       "    </tr>\n",
       "    <tr>\n",
       "      <th>2</th>\n",
       "      <td>2013-05-02</td>\n",
       "      <td>NaN</td>\n",
       "      <td>1993-04-18</td>\n",
       "      <td>M</td>\n",
       "      <td>Transportation</td>\n",
       "      <td>1</td>\n",
       "      <td>63450</td>\n",
       "      <td>S2</td>\n",
       "      <td>93,0309465957283</td>\n",
       "      <td>0</td>\n",
       "      <td>...</td>\n",
       "      <td>26</td>\n",
       "      <td>12</td>\n",
       "      <td>2</td>\n",
       "      <td>1000</td>\n",
       "      <td>3</td>\n",
       "      <td>332,640202190496</td>\n",
       "      <td>-9678,71341935483</td>\n",
       "      <td>624</td>\n",
       "      <td>15</td>\n",
       "      <td>4</td>\n",
       "    </tr>\n",
       "    <tr>\n",
       "      <th>3</th>\n",
       "      <td>2016-12-24</td>\n",
       "      <td>NaN</td>\n",
       "      <td>1994-07-29</td>\n",
       "      <td>W</td>\n",
       "      <td>Professional Services</td>\n",
       "      <td>2</td>\n",
       "      <td>9573</td>\n",
       "      <td>S3</td>\n",
       "      <td>NaN</td>\n",
       "      <td>1</td>\n",
       "      <td>...</td>\n",
       "      <td>0</td>\n",
       "      <td>0</td>\n",
       "      <td>4</td>\n",
       "      <td>1050</td>\n",
       "      <td>4</td>\n",
       "      <td>378,32474448561</td>\n",
       "      <td>-12110,3059156975</td>\n",
       "      <td>1263</td>\n",
       "      <td>10</td>\n",
       "      <td>7</td>\n",
       "    </tr>\n",
       "    <tr>\n",
       "      <th>4</th>\n",
       "      <td>2011-10-01</td>\n",
       "      <td>NaN</td>\n",
       "      <td>1990-10-28</td>\n",
       "      <td>W</td>\n",
       "      <td>Research</td>\n",
       "      <td>1</td>\n",
       "      <td>66916</td>\n",
       "      <td>S2</td>\n",
       "      <td>90,45766439571</td>\n",
       "      <td>0</td>\n",
       "      <td>...</td>\n",
       "      <td>23</td>\n",
       "      <td>18</td>\n",
       "      <td>3</td>\n",
       "      <td>1000</td>\n",
       "      <td>4</td>\n",
       "      <td>471,509299299279</td>\n",
       "      <td>0</td>\n",
       "      <td>521</td>\n",
       "      <td>10</td>\n",
       "      <td>3</td>\n",
       "    </tr>\n",
       "  </tbody>\n",
       "</table>\n",
       "<p>5 rows × 44 columns</p>\n",
       "</div>"
      ],
      "text/plain": [
       "  contract_start contract_end date_of_birth gender             profession  \\\n",
       "0     2010-10-24          NaN    1991-02-11      M  Professional Services   \n",
       "1     2010-04-30   2017-10-20    1986-04-06      W                    NaN   \n",
       "2     2013-05-02          NaN    1993-04-18      M         Transportation   \n",
       "3     2016-12-24          NaN    1994-07-29      W  Professional Services   \n",
       "4     2011-10-01          NaN    1990-10-28      W               Research   \n",
       "\n",
       "   size_household    ZIP segment     credit_rating  no_credit_rating_flag  \\\n",
       "0               1  76829      S2  89,5685176247469                      0   \n",
       "1               1  35104      S2  94,2705069107966                      0   \n",
       "2               1  63450      S2  93,0309465957283                      0   \n",
       "3               2   9573      S3               NaN                      1   \n",
       "4               1  66916      S2    90,45766439571                      0   \n",
       "\n",
       "   ...  online_number_of_logins_per_month  online_tranactions_per_month  \\\n",
       "0  ...                                  0                             0   \n",
       "1  ...                                 16                             8   \n",
       "2  ...                                 26                            12   \n",
       "3  ...                                  0                             0   \n",
       "4  ...                                 23                            18   \n",
       "\n",
       "   advisor_contacts_last12months  customer_limit  cash_withdraws_per_month  \\\n",
       "0                              3            1000                         4   \n",
       "1                              2            1000                         7   \n",
       "2                              2            1000                         3   \n",
       "3                              4            1050                         4   \n",
       "4                              3            1000                         4   \n",
       "\n",
       "   cash_withdrawals_value  consumer_credit_value  consumer_credit_maturity  \\\n",
       "0        459,840939712736       -24011,393551989                       205   \n",
       "1        476,334458774319      -5368,74306807524                       137   \n",
       "2        332,640202190496      -9678,71341935483                       624   \n",
       "3         378,32474448561      -12110,3059156975                      1263   \n",
       "4        471,509299299279                      0                       521   \n",
       "\n",
       "   account_fee  number_of_refusals  \n",
       "0           15                   6  \n",
       "1           15                   6  \n",
       "2           15                   4  \n",
       "3           10                   7  \n",
       "4           10                   3  \n",
       "\n",
       "[5 rows x 44 columns]"
      ]
     },
     "execution_count": 83,
     "metadata": {},
     "output_type": "execute_result"
    }
   ],
   "source": [
    "datos_raw = pd.read_csv(\"bankingchurn_data_modif.csv\",sep = \";\")\n",
    "datos_raw.head()\n"
   ]
  },
  {
   "cell_type": "code",
   "execution_count": 84,
   "id": "5fc62dbd-e405-4a5a-883c-15a708c9f902",
   "metadata": {},
   "outputs": [
    {
     "data": {
      "text/plain": [
       "Index(['contract_start', 'contract_end', 'date_of_birth', 'gender',\n",
       "       'profession', 'size_household', 'ZIP', 'segment', 'credit_rating',\n",
       "       'no_credit_rating_flag', 'main_account_flag', 'online_banking_flag',\n",
       "       'tele_banking_flag', 'creditcard_flag', 'insurance_life_flag',\n",
       "       'insurance_house_flag', 'insurance_car_flag', 'insurance_other_flag',\n",
       "       'mortgage_flag', 'portfolio_flag', 'last_balance',\n",
       "       'last_balance_minus_6_months', 'last_balance_minus_12_months',\n",
       "       'income_salary_per_year', 'income_deposits_per_year',\n",
       "       'income_securities_per_year', 'insurance_life_premium_per_month',\n",
       "       'insurance_house_premium_per_year', 'insurance_car_premium_per_year',\n",
       "       'mortgage_value', 'mortgage_interest', 'mortgage_downpayment',\n",
       "       'mortgage_dayuntilmaturity', 'mortgage_numbers',\n",
       "       'online_number_of_logins_per_month', 'online_tranactions_per_month',\n",
       "       'advisor_contacts_last12months', 'customer_limit',\n",
       "       'cash_withdraws_per_month', 'cash_withdrawals_value',\n",
       "       'consumer_credit_value', 'consumer_credit_maturity', 'account_fee',\n",
       "       'number_of_refusals'],\n",
       "      dtype='object')"
      ]
     },
     "execution_count": 84,
     "metadata": {},
     "output_type": "execute_result"
    }
   ],
   "source": [
    "datos_raw.columns"
   ]
  },
  {
   "cell_type": "markdown",
   "id": "298af7aa-a4e8-4bb4-aefd-839b07c37ecb",
   "metadata": {},
   "source": [
    "Convert dates"
   ]
  },
  {
   "cell_type": "code",
   "execution_count": 85,
   "id": "29d3a611-67eb-426a-9418-0d5e02884005",
   "metadata": {},
   "outputs": [],
   "source": [
    "datos_raw[\"contract_start\"] = pd.to_datetime(datos_raw[\"contract_start\"])\n",
    "datos_raw[\"contract_end\"] = pd.to_datetime(datos_raw[\"contract_end\"])\n",
    "datos_raw[\"date_of_birth\"] = pd.to_datetime(datos_raw[\"date_of_birth\"])"
   ]
  },
  {
   "cell_type": "code",
   "execution_count": 86,
   "id": "40503a41-b352-4658-9df6-ca82607c4e6f",
   "metadata": {},
   "outputs": [],
   "source": [
    "datos_raw[\"Male\"] = np.where(datos_raw[\"gender\"]==\"M\", 1, 0)\n",
    "datos_raw = datos_raw.drop(\"gender\",axis = 1)"
   ]
  },
  {
   "cell_type": "markdown",
   "id": "239fd6ac-6573-4765-b945-d7fb548b968d",
   "metadata": {},
   "source": [
    "Count churn clients"
   ]
  },
  {
   "cell_type": "code",
   "execution_count": 87,
   "id": "82a917f7-6f91-4b5d-919f-7d45f7814cac",
   "metadata": {},
   "outputs": [
    {
     "data": {
      "text/plain": [
       "4871"
      ]
     },
     "execution_count": 87,
     "metadata": {},
     "output_type": "execute_result"
    }
   ],
   "source": [
    "datos_raw[\"contract_end\"].dropna().count()"
   ]
  },
  {
   "cell_type": "markdown",
   "id": "ef3c1cf3-fcf8-4ba6-8b5f-0508c82db846",
   "metadata": {},
   "source": [
    "Count Total clients"
   ]
  },
  {
   "cell_type": "code",
   "execution_count": 88,
   "id": "dc1a142d-5818-4264-9ac8-04a98b320769",
   "metadata": {},
   "outputs": [
    {
     "data": {
      "text/plain": [
       "100000"
      ]
     },
     "execution_count": 88,
     "metadata": {},
     "output_type": "execute_result"
    }
   ],
   "source": [
    "datos_raw[\"contract_start\"].count()"
   ]
  },
  {
   "cell_type": "markdown",
   "id": "5454f135-e455-42f4-9d46-65f49ecd7c4c",
   "metadata": {},
   "source": [
    "Copy data"
   ]
  },
  {
   "cell_type": "code",
   "execution_count": 89,
   "id": "30c588cd-7065-4114-9a91-17988bb868dd",
   "metadata": {},
   "outputs": [],
   "source": [
    "datos = datos_raw.copy()"
   ]
  },
  {
   "cell_type": "code",
   "execution_count": 90,
   "id": "6ebbe6f8-1938-4aef-bfbc-d209e78a2116",
   "metadata": {},
   "outputs": [
    {
     "name": "stdout",
     "output_type": "stream",
     "text": [
      "Tenemos 2 posibles ventanas temporales que corresponden a [2017 2018]\n"
     ]
    }
   ],
   "source": [
    "year_win = (pd.DatetimeIndex(datos[\"contract_end\"].dropna()).year).drop_duplicates()\n",
    "\n",
    "print(f\"Tenemos {len(year_win)} posibles ventanas temporales que corresponden a {year_win.values}\")"
   ]
  },
  {
   "cell_type": "code",
   "execution_count": 97,
   "id": "1cfca1d3-3f7a-4edc-8223-bd2f9b7f892e",
   "metadata": {},
   "outputs": [],
   "source": [
    "date_train_init_str = \"2010-01-01\"\n",
    "date_train_end_str = \"2018-01-01\"\n",
    "date_train_init = datetime.strptime(date_train_init_str,\"%Y-%m-%d\")\n",
    "date_train_end = datetime.strptime(date_train_end_str,\"%Y-%m-%d\")\n",
    "datos[\"contract_start\"] = pd.to_datetime(datos[\"contract_start\"])\n",
    "datos[\"contract_end\"] = pd.to_datetime(datos[\"contract_end\"])\n",
    "datos[\"contract_end\"] = np.where(datos[\"contract_end\"]<date_train_end , None, datos[\"contract_end\"])\n",
    "datos[\"churn\"] = np.where(datos[\"contract_end\"].isna(), 0, 1)\n",
    "datos[\"age\"] = ((date_train_end - datos[\"date_of_birth\"] )/ np.timedelta64(1, 'Y')).astype(int)"
   ]
  },
  {
   "cell_type": "code",
   "execution_count": 105,
   "id": "182c40f7-f44a-4531-b993-546034a352bf",
   "metadata": {},
   "outputs": [
    {
     "data": {
      "text/plain": [
       "48"
      ]
     },
     "execution_count": 105,
     "metadata": {},
     "output_type": "execute_result"
    }
   ],
   "source": [
    "datos.profession.value_counts().count()"
   ]
  },
  {
   "cell_type": "code",
   "execution_count": 37,
   "id": "31c081e2-ece7-4427-ade6-863f6ffc2cf9",
   "metadata": {},
   "outputs": [
    {
     "data": {
      "text/plain": [
       "datetime.date(2001, 1, 1)"
      ]
     },
     "execution_count": 37,
     "metadata": {},
     "output_type": "execute_result"
    }
   ],
   "source": []
  },
  {
   "cell_type": "markdown",
   "id": "7c63089e-a687-4aba-ae3a-738f559179d2",
   "metadata": {},
   "source": [
    "\n"
   ]
  },
  {
   "cell_type": "code",
   "execution_count": 41,
   "id": "03a52fff-853f-4642-bdef-2e1337191bf4",
   "metadata": {},
   "outputs": [
    {
     "data": {
      "text/plain": [
       "0        38694,3768752972\n",
       "1        77759,1305436596\n",
       "2          46701,95648597\n",
       "3        10917,7849719239\n",
       "4        26170,3728543336\n",
       "               ...       \n",
       "99995    34127,5970136315\n",
       "99996    27802,9530309299\n",
       "99997    53243,0414812015\n",
       "99998    60381,2440772309\n",
       "99999    50544,1769736572\n",
       "Name: last_balance, Length: 100000, dtype: object"
      ]
     },
     "execution_count": 41,
     "metadata": {},
     "output_type": "execute_result"
    }
   ],
   "source": []
  },
  {
   "cell_type": "code",
   "execution_count": null,
   "id": "cfbda936-b55d-4471-af61-343e90f4c048",
   "metadata": {},
   "outputs": [],
   "source": []
  }
 ],
 "metadata": {
  "kernelspec": {
   "display_name": "Python 3 (ipykernel)",
   "language": "python",
   "name": "python3"
  },
  "language_info": {
   "codemirror_mode": {
    "name": "ipython",
    "version": 3
   },
   "file_extension": ".py",
   "mimetype": "text/x-python",
   "name": "python",
   "nbconvert_exporter": "python",
   "pygments_lexer": "ipython3",
   "version": "3.10.8"
  }
 },
 "nbformat": 4,
 "nbformat_minor": 5
}
