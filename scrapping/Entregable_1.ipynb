{
 "cells": [
  {
   "cell_type": "markdown",
   "id": "dcbfa81c",
   "metadata": {},
   "source": [
    "## Web scraping exercise\n",
    "\n",
    "Define a generic function `SOS_help` which retrieves help results from Stack Overflow Stunning results. <br>\n",
    "\n",
    "The following command works just fine:"
   ]
  },
  {
   "cell_type": "code",
   "execution_count": 1,
   "id": "a2298aae",
   "metadata": {},
   "outputs": [
    {
     "data": {
      "text/plain": [
       "array([ 0.3178804 ,  0.09716196,  0.70072601, -0.92062826,  0.39196756,\n",
       "       -0.56693022, -0.07513478,  0.06315752, -0.40728546,  0.02140769,\n",
       "        0.77732947, -0.16901013, -0.25215129,  0.27505788, -0.14432259,\n",
       "        0.20872985, -0.20781911,  0.27409737, -0.74893365,  0.58034337,\n",
       "       -0.02898947,  0.85247123,  0.41777484, -0.29815669, -0.41962908,\n",
       "        0.94206802, -0.86681148,  0.74696532,  0.25587578, -0.86219527,\n",
       "       -0.94505927,  0.79165858, -0.17444082, -0.61906299, -0.76191396,\n",
       "       -0.26118612,  0.71381765,  0.57297483,  0.72153979, -0.60638514,\n",
       "        0.98333708,  0.69828349, -0.22916929,  0.26625878, -0.32563595,\n",
       "       -0.61889985, -0.8058372 , -0.82568384, -0.55630918,  0.33904997,\n",
       "       -0.9235572 ,  0.20917258, -0.65968266, -0.56983279,  0.6855563 ,\n",
       "        0.54306977,  0.04120532, -0.19285368,  0.38652521, -0.26706594,\n",
       "       -0.18037166,  0.75366191, -0.89682818,  0.63817599,  0.65392609,\n",
       "       -0.59442392, -0.50757185,  0.61491372, -0.87119883,  0.43620455,\n",
       "       -0.14870315, -0.2273397 ,  0.45179447, -0.32875994, -0.49042496,\n",
       "       -0.16244153,  0.70029327,  0.24029956, -0.01812724,  0.8254558 ,\n",
       "        0.21191354, -0.27211797, -0.34399429,  0.51103832, -0.46242318,\n",
       "        0.4788427 , -0.86401495, -0.67863829,  0.56051744, -0.70373805,\n",
       "        0.42086737,  0.53563543,  0.78194042,  0.62988191, -0.77149543,\n",
       "       -0.46370835,  0.92942999, -0.01573804, -0.24852825, -0.13972956])"
      ]
     },
     "execution_count": 1,
     "metadata": {},
     "output_type": "execute_result"
    }
   ],
   "source": [
    "import numpy as np\n",
    "np.random.uniform(-1, 1, size=100)"
   ]
  },
  {
   "cell_type": "markdown",
   "id": "f9424932",
   "metadata": {},
   "source": [
    "`print_out` prints command execution"
   ]
  },
  {
   "cell_type": "code",
   "execution_count": 2,
   "id": "8a3e0ebd",
   "metadata": {},
   "outputs": [],
   "source": [
    "def print_output(command):\n",
    "    command = 'print(' + command + ')'\n",
    "    return exec(command)"
   ]
  },
  {
   "cell_type": "code",
   "execution_count": 3,
   "id": "5f7f3d9d",
   "metadata": {},
   "outputs": [
    {
     "name": "stdout",
     "output_type": "stream",
     "text": [
      "[-0.19574824  0.9304215  -0.39743457 -0.89480731 -0.15681589  0.17582\n",
      " -0.34259078 -0.01290907 -0.87031946 -0.5830765  -0.14051184  0.07611812\n",
      "  0.70617704  0.70458276 -0.52113771  0.07691976  0.14179404 -0.66033025\n",
      "  0.77675331  0.40487929  0.44316502  0.20112005 -0.52075078  0.33171156\n",
      " -0.78815087 -0.2340466  -0.52682856  0.72062005  0.01837628  0.0689109\n",
      "  0.64856375  0.09483043 -0.07032294  0.90827233  0.6325876  -0.27368117\n",
      "  0.74613656  0.89047937  0.91641664  0.83217569  0.88006745 -0.5020908\n",
      " -0.84190056  0.8674518   0.9434124   0.10682305 -0.01054989 -0.81055813\n",
      " -0.23654527 -0.79075849  0.86861874 -0.4901707  -0.7318325  -0.6352066\n",
      " -0.55802268  0.42406671  0.04999123 -0.18725623 -0.28240063  0.75489566\n",
      " -0.13884179 -0.99719521 -0.93319735  0.4170165  -0.51818248  0.95926094\n",
      " -0.10238348 -0.20756481  0.59199644  0.64698612 -0.2867828   0.73835747\n",
      " -0.14447526 -0.15435717 -0.85578311  0.16209298  0.56950501 -0.61621401\n",
      " -0.19199952  0.65007663  0.5924338   0.33143356 -0.53065764 -0.14895574\n",
      " -0.54657376 -0.73198455 -0.49630076 -0.12122414  0.66649387  0.93304576\n",
      " -0.0788007   0.12390789  0.01120761 -0.14052289 -0.20495414 -0.03674993\n",
      "  0.23391394  0.24609496  0.39822256 -0.64619101]\n"
     ]
    }
   ],
   "source": [
    "print_output(command = 'np.random.uniform(-1, 1, size=100)')"
   ]
  },
  {
   "cell_type": "markdown",
   "id": "96d52b22",
   "metadata": {},
   "source": [
    "if `print_out` results in an error, this is printed"
   ]
  },
  {
   "cell_type": "code",
   "execution_count": 4,
   "id": "117a7507",
   "metadata": {},
   "outputs": [
    {
     "ename": "NameError",
     "evalue": "name 'nn' is not defined",
     "output_type": "error",
     "traceback": [
      "\u001b[1;31m---------------------------------------------------------------------------\u001b[0m",
      "\u001b[1;31mNameError\u001b[0m                                 Traceback (most recent call last)",
      "\u001b[1;32m~\\AppData\\Local\\Temp\\ipykernel_10024\\3151681282.py\u001b[0m in \u001b[0;36m<module>\u001b[1;34m\u001b[0m\n\u001b[1;32m----> 1\u001b[1;33m \u001b[0mprint_output\u001b[0m\u001b[1;33m(\u001b[0m\u001b[0mcommand\u001b[0m \u001b[1;33m=\u001b[0m \u001b[1;34m'nn.random.uniform(-1, 1, size=100)'\u001b[0m\u001b[1;33m)\u001b[0m\u001b[1;33m\u001b[0m\u001b[1;33m\u001b[0m\u001b[0m\n\u001b[0m",
      "\u001b[1;32m~\\AppData\\Local\\Temp\\ipykernel_10024\\2406279791.py\u001b[0m in \u001b[0;36mprint_output\u001b[1;34m(command)\u001b[0m\n\u001b[0;32m      1\u001b[0m \u001b[1;32mdef\u001b[0m \u001b[0mprint_output\u001b[0m\u001b[1;33m(\u001b[0m\u001b[0mcommand\u001b[0m\u001b[1;33m)\u001b[0m\u001b[1;33m:\u001b[0m\u001b[1;33m\u001b[0m\u001b[1;33m\u001b[0m\u001b[0m\n\u001b[0;32m      2\u001b[0m     \u001b[0mcommand\u001b[0m \u001b[1;33m=\u001b[0m \u001b[1;34m'print('\u001b[0m \u001b[1;33m+\u001b[0m \u001b[0mcommand\u001b[0m \u001b[1;33m+\u001b[0m \u001b[1;34m')'\u001b[0m\u001b[1;33m\u001b[0m\u001b[1;33m\u001b[0m\u001b[0m\n\u001b[1;32m----> 3\u001b[1;33m     \u001b[1;32mreturn\u001b[0m \u001b[0mexec\u001b[0m\u001b[1;33m(\u001b[0m\u001b[0mcommand\u001b[0m\u001b[1;33m)\u001b[0m\u001b[1;33m\u001b[0m\u001b[1;33m\u001b[0m\u001b[0m\n\u001b[0m",
      "\u001b[1;32m<string>\u001b[0m in \u001b[0;36m<module>\u001b[1;34m\u001b[0m\n",
      "\u001b[1;31mNameError\u001b[0m: name 'nn' is not defined"
     ]
    }
   ],
   "source": [
    "print_output(command = 'nn.random.uniform(-1, 1, size=100)')"
   ]
  },
  {
   "cell_type": "code",
   "execution_count": 6,
   "id": "5cafc219",
   "metadata": {},
   "outputs": [
    {
     "ename": "TypeError",
     "evalue": "uniform() got an unexpected keyword argument 'siz'",
     "output_type": "error",
     "traceback": [
      "\u001b[1;31m---------------------------------------------------------------------------\u001b[0m",
      "\u001b[1;31mTypeError\u001b[0m                                 Traceback (most recent call last)",
      "\u001b[1;32m~\\AppData\\Local\\Temp\\ipykernel_10024\\1884166509.py\u001b[0m in \u001b[0;36m<module>\u001b[1;34m\u001b[0m\n\u001b[1;32m----> 1\u001b[1;33m \u001b[0mprint_output\u001b[0m\u001b[1;33m(\u001b[0m\u001b[0mcommand\u001b[0m \u001b[1;33m=\u001b[0m \u001b[1;34m'np.random.uniform(-1, 1, siz=100)'\u001b[0m\u001b[1;33m)\u001b[0m\u001b[1;33m\u001b[0m\u001b[1;33m\u001b[0m\u001b[0m\n\u001b[0m",
      "\u001b[1;32m~\\AppData\\Local\\Temp\\ipykernel_10024\\2406279791.py\u001b[0m in \u001b[0;36mprint_output\u001b[1;34m(command)\u001b[0m\n\u001b[0;32m      1\u001b[0m \u001b[1;32mdef\u001b[0m \u001b[0mprint_output\u001b[0m\u001b[1;33m(\u001b[0m\u001b[0mcommand\u001b[0m\u001b[1;33m)\u001b[0m\u001b[1;33m:\u001b[0m\u001b[1;33m\u001b[0m\u001b[1;33m\u001b[0m\u001b[0m\n\u001b[0;32m      2\u001b[0m     \u001b[0mcommand\u001b[0m \u001b[1;33m=\u001b[0m \u001b[1;34m'print('\u001b[0m \u001b[1;33m+\u001b[0m \u001b[0mcommand\u001b[0m \u001b[1;33m+\u001b[0m \u001b[1;34m')'\u001b[0m\u001b[1;33m\u001b[0m\u001b[1;33m\u001b[0m\u001b[0m\n\u001b[1;32m----> 3\u001b[1;33m     \u001b[1;32mreturn\u001b[0m \u001b[0mexec\u001b[0m\u001b[1;33m(\u001b[0m\u001b[0mcommand\u001b[0m\u001b[1;33m)\u001b[0m\u001b[1;33m\u001b[0m\u001b[1;33m\u001b[0m\u001b[0m\n\u001b[0m",
      "\u001b[1;32m<string>\u001b[0m in \u001b[0;36m<module>\u001b[1;34m\u001b[0m\n",
      "\u001b[1;32mmtrand.pyx\u001b[0m in \u001b[0;36mnumpy.random.mtrand.RandomState.uniform\u001b[1;34m()\u001b[0m\n",
      "\u001b[1;31mTypeError\u001b[0m: uniform() got an unexpected keyword argument 'siz'"
     ]
    }
   ],
   "source": [
    "print_output(command = 'np.random.uniform(-1, 1, siz=100)')"
   ]
  },
  {
   "cell_type": "markdown",
   "id": "5ff1b416",
   "metadata": {},
   "source": [
    "Create a function `get_SOS_help` which: <br>\n",
    "    - Prints \"works as intended\" if no error. <br>\n",
    "    - Prints the first link from stack overflow related to the error. As an example: <br>\n",
    "        `print_output(command = 'np.random.uniform(-1, 1, siz=100)'`\n",
    "        should retrieve the following link:\n",
    "        https://stackoverflow.com/questions/72537485/typeerror-uniform-got-an-unexpected-keyword-argument-low-size <br>\n",
    "    - Prints the most voted help\n",
    "    - Opens a new browser using the link"
   ]
  },
  {
   "cell_type": "code",
   "execution_count": null,
   "id": "f8cde2fa",
   "metadata": {},
   "outputs": [],
   "source": [
    "# get Stack Overflow Stunning help\n",
    "def get_SOS_help(command):\n",
    "    \n",
    "    url = error_encode_url() # TODO encode error str to urlencode\n",
    "    get_html_search() # TODO get html with request \n",
    "    parse_html() # parse html with beautiful\n",
    "    get_search_urls() # get each search result and check if url start with stack.overflow.com\n",
    "    get_first_result_url() #  get_first_result os previous results\n",
    "    get_most_rated_answer() # TODO\n",
    "    open_chrome_with_url() # Open chrome with previus url\n",
    "    \n",
    "    try:\n",
    "        exec(command)\n",
    "        \n",
    "    except:\n",
    "        print(stack_overflow_first_link)\n",
    "        print(stack_overflow_most_voted_help)\n",
    "        prompt_web(stack_overflow_first_link)\n",
    "    return"
   ]
  },
  {
   "cell_type": "code",
   "execution_count": null,
   "id": "79289999",
   "metadata": {},
   "outputs": [],
   "source": [
    "command = 'np.random.uniform(-1, 1, siz=100)'\n",
    "get_SOS_help(command)"
   ]
  },
  {
   "cell_type": "markdown",
   "id": "a2dae86a",
   "metadata": {},
   "source": [
    "## Create a malfunctioning code and use this function on it"
   ]
  },
  {
   "cell_type": "code",
   "execution_count": null,
   "id": "87272f6c",
   "metadata": {},
   "outputs": [],
   "source": [
    "## YOUR CODE HERE"
   ]
  },
  {
   "cell_type": "code",
   "execution_count": 301,
   "id": "0d58d673-fb0a-4ddc-809d-ae8fd8e6d105",
   "metadata": {},
   "outputs": [],
   "source": [
    "import pandas as pd\n",
    "import requests\n",
    "import urllib\n",
    "import bs4\n",
    "from bs4 import BeautifulSoup\n",
    "\n",
    "class CookieError(Exception):\n",
    "    pass\n",
    "\n",
    "\n",
    "GOOGLE_COOKIE_CHECK = [\"h1\",\"Uo8X3b OhScic zsYMMe\"]\n",
    "STACKOVERFLOW_COOKIE_CHECK = [\"div\",\"answer\"]\n",
    "\n",
    "\n",
    "def error_encode_url(error:str):\n",
    "    \"\"\"\n",
    "    Generate url encode from a error using a defined base in google and a web to search\n",
    "  \n",
    "    Parameters:\n",
    "    error (str): string with the error to be searched \n",
    "  \n",
    "    Returns:\n",
    "    str: url encoded\n",
    "    \"\"\"\n",
    "    base_search = \"https://www.google.com/search?q=\"\n",
    "    web = \"stackoverflow.com\"\n",
    "    search = urllib.parse.quote_plus(f'{web} {error}')\n",
    "    url_base = f'{base_search}{search}'\n",
    "    return url_base\n",
    "\n",
    "def get_html_search(query: str):\n",
    "    \"\"\"\n",
    "    Get the html of a web page from the a query url given.\n",
    "  \n",
    "    Parameters:\n",
    "    query (str): string with the url to be searched\n",
    "  \n",
    "    Returns:\n",
    "    str: hmlt string of the search\n",
    "    \"\"\"\n",
    "    \n",
    "    headers = {'User-Agent': 'Mozilla/5.0 (Macintosh; Intel Mac OS X 10_15_7) AppleWebKit/537.36 (KHTML, like Gecko) Chrome/107.0.0.0 Safari/537.36', 'Upgrade-Insecure-Requests': '1', 'Accept': 'text/html,application/xhtml+xml,application/xml;q=0.9,*/*;q=0.8', 'DNT': '1', 'Accept-Encoding': 'gzip, deflate', 'Cookie':'CONSENT=YES+cb.20210418-17-p0.it+FX+917; '}\n",
    "    # headers = \"\"\n",
    "\n",
    "    res = requests.get(query,headers=headers)\n",
    "    if res.status_code != 200:\n",
    "        raise requests.exceptions.RequestException(\"Cannot procceed only works with 200 status code in response\")\n",
    "    return res\n",
    "\n",
    "def check_html_mal(soup):\n",
    "    \"\"\"\n",
    "    MALA Solo para sirve para ver el ejemlpo de como ha evolucionado:\n",
    "    me comlique mucho\n",
    "    \"\"\"\n",
    "    ret = True\n",
    "    common_button = [\"Accept all\", \"Reject all\",\"Rechazar todo\",\"Aceptar todo\"]\n",
    "    common_title = ['Antes de ir a Google', 'Before you continue to Google']\n",
    "    title_res = soup.find_all(\"h1\")\n",
    "    title_str = title_res[0].contents[0]\n",
    "    button_res = soup.find_all(\"input\",attrs={'class':'basebutton'})\n",
    "\n",
    "    for b in button_res:\n",
    "        if b.get_attribute_list(\"value\")[0] in common_button:\n",
    "            ret = False\n",
    "    if title_str in common_title:\n",
    "            ret = False\n",
    "    return ret \n",
    "\n",
    "def is_valid_html(soup:bs4.BeautifulSoup, config:[str, str]):\n",
    "    \"\"\"\n",
    "    Check if the page url has the search result. \n",
    "    if not return False. This may happends when you have to aggre cookies policy\n",
    "    Parameters:\n",
    "    soup (bs4.BeautifulSoup): soup with the html parsed \n",
    "  \n",
    "    Returns:\n",
    "    bool: True if it is ok False if not\n",
    "    \"\"\"\n",
    "    ret = False\n",
    "    search_result = soup.find_all(config[0],attrs={'class':config[1]})\n",
    "    if len(search_result)>0:\n",
    "        ret = True\n",
    "    return ret\n",
    "def parse_html(html: str,config: [str, str]):\n",
    "    soup = BeautifulSoup(html, 'html.parser')\n",
    "    if not(is_valid_html(soup,config)):\n",
    "        raise CookieError(\"Check the headers of the request, it seems google has update some required fields or its values\")\n",
    "    return soup\n",
    "\n",
    "def get_search_urls(soup:bs4.BeautifulSoup): \n",
    "    \n",
    "    #find all div that have MjjYud == search results class in google search \n",
    "    results = soup.find_all('div', attrs={'class':'MjjYud'})\n",
    "\n",
    "    urls = []\n",
    "    for result in results:\n",
    "        #find the first a that contains the href with the url of the solution\n",
    "        res = result.find(\"a\")\n",
    "        #Check if the url is in the stackoverflow site\n",
    "        if \"https://stackoverflow.com\" in res.attrs[\"href\"]:\n",
    "            urls.append(res.attrs[\"href\"])\n",
    "        \n",
    "    return urls\n",
    "\n",
    "\n",
    "def get_answers(url:str):\n",
    "    res = get_html_search(url)\n",
    "    soup_r = parse_html(res.text,STACKOVERFLOW_COOKIE_CHECK)\n",
    "    answers = soup_r.find_all('div', attrs={'class':'answer'})\n",
    "    df = pd.DataFrame({},columns = [\"votes\",\"time\",\"answer_html\",\"user_name\",\"user_rank\"])\n",
    "\n",
    "    for answer in answers:\n",
    "        votes = answer.find('div', attrs={'class':'js-vote-count'})\n",
    "        exp = answer.find('div', attrs={'class':'s-prose'})\n",
    "        time = answer.find('div', attrs={'class':'user-action-time'}).find('span', attrs={'class':'relativetime'}).attrs[\"title\"]\n",
    "        usr_name = answer.find('div', attrs={'class':'user-details'}).find('a').contents[0]\n",
    "        usr_rank = answer.find('div', attrs={'class':'user-details'}).find('span', attrs={'class':'reputation-score'}).contents[0]\n",
    "        ans = {'votes': [int(votes.attrs[\"data-value\"])],\n",
    "               'time': [time],\n",
    "               'user_name':[usr_name],\n",
    "               'user_rank':[usr_rank],\n",
    "               'answer_html': [exp.prettify()]\n",
    "              }\n",
    "        df = pd.concat([df, pd.DataFrame(ans)])\n",
    "        return df\n",
    "\n",
    "def most_rated_answer(df:pd.DataFrame,sort_by:str):\n",
    "    \n",
    "    if sort_by == \"ans\":\n",
    "        df = df.sort_values(\"votes\").reset_index(drop = True)\n",
    "    \n",
    "    return df.iloc[[0]]\n",
    "\n"
   ]
  },
  {
   "cell_type": "code",
   "execution_count": 302,
   "id": "f57b8d23-a9b6-4d6f-9c67-a7f093a42d04",
   "metadata": {},
   "outputs": [
    {
     "data": {
      "text/plain": [
       "'https://www.google.com/search?q=stackoverflow.com+TypeError%3A+uniform%28%29+got+an+unexpected+keyword+argument+%27siz%27'"
      ]
     },
     "execution_count": 302,
     "metadata": {},
     "output_type": "execute_result"
    }
   ],
   "source": [
    "error_encode_url(\"TypeError: uniform() got an unexpected keyword argument 'siz'\")"
   ]
  },
  {
   "cell_type": "code",
   "execution_count": 303,
   "id": "3c1a68dc-270e-4bc6-8d1b-1e0105d729bc",
   "metadata": {},
   "outputs": [
    {
     "data": {
      "text/html": [
       "<div>\n",
       "<style scoped>\n",
       "    .dataframe tbody tr th:only-of-type {\n",
       "        vertical-align: middle;\n",
       "    }\n",
       "\n",
       "    .dataframe tbody tr th {\n",
       "        vertical-align: top;\n",
       "    }\n",
       "\n",
       "    .dataframe thead th {\n",
       "        text-align: right;\n",
       "    }\n",
       "</style>\n",
       "<table border=\"1\" class=\"dataframe\">\n",
       "  <thead>\n",
       "    <tr style=\"text-align: right;\">\n",
       "      <th></th>\n",
       "      <th>votes</th>\n",
       "      <th>time</th>\n",
       "      <th>answer_html</th>\n",
       "      <th>user_name</th>\n",
       "      <th>user_rank</th>\n",
       "    </tr>\n",
       "  </thead>\n",
       "  <tbody>\n",
       "    <tr>\n",
       "      <th>0</th>\n",
       "      <td>0</td>\n",
       "      <td>2022-06-07 23:33:39Z</td>\n",
       "      <td>&lt;div class=\"s-prose js-post-body\" itemprop=\"te...</td>\n",
       "      <td>Paul Dlc</td>\n",
       "      <td>153</td>\n",
       "    </tr>\n",
       "  </tbody>\n",
       "</table>\n",
       "</div>"
      ],
      "text/plain": [
       "  votes                  time  \\\n",
       "0     0  2022-06-07 23:33:39Z   \n",
       "\n",
       "                                         answer_html user_name user_rank  \n",
       "0  <div class=\"s-prose js-post-body\" itemprop=\"te...  Paul Dlc       153  "
      ]
     },
     "execution_count": 303,
     "metadata": {},
     "output_type": "execute_result"
    }
   ],
   "source": [
    "r = get_html_search(error_encode_url(\"TypeError: uniform() got an unexpected keyword argument 'siz'\"))\n",
    "soup = parse_html(r.text,GOOGLE_COOKIE_CHECK)\n",
    "urls = get_search_urls(soup)\n",
    "df = get_answers(urls[0])\n",
    "most_rated_answer(df,\"ans\")"
   ]
  },
  {
   "cell_type": "code",
   "execution_count": null,
   "id": "18bb97b4-5bf4-4e9c-b5b3-bc9ce1d225fe",
   "metadata": {},
   "outputs": [],
   "source": []
  }
 ],
 "metadata": {
  "kernelspec": {
   "display_name": "Python 3 (ipykernel)",
   "language": "python",
   "name": "python3"
  },
  "language_info": {
   "codemirror_mode": {
    "name": "ipython",
    "version": 3
   },
   "file_extension": ".py",
   "mimetype": "text/x-python",
   "name": "python",
   "nbconvert_exporter": "python",
   "pygments_lexer": "ipython3",
   "version": "3.10.8"
  }
 },
 "nbformat": 4,
 "nbformat_minor": 5
}
