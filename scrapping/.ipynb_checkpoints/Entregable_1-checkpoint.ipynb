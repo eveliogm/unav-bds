{
 "cells": [
  {
   "cell_type": "markdown",
   "id": "dcbfa81c",
   "metadata": {},
   "source": [
    "## Web scraping exercise\n",
    "\n",
    "Define a generic function `SOS_help` which retrieves help results from Stack Overflow Stunning results. <br>\n",
    "\n",
    "The following command works just fine:"
   ]
  },
  {
   "cell_type": "code",
   "execution_count": 1,
   "id": "a2298aae",
   "metadata": {},
   "outputs": [
    {
     "data": {
      "text/plain": [
       "array([ 0.3178804 ,  0.09716196,  0.70072601, -0.92062826,  0.39196756,\n",
       "       -0.56693022, -0.07513478,  0.06315752, -0.40728546,  0.02140769,\n",
       "        0.77732947, -0.16901013, -0.25215129,  0.27505788, -0.14432259,\n",
       "        0.20872985, -0.20781911,  0.27409737, -0.74893365,  0.58034337,\n",
       "       -0.02898947,  0.85247123,  0.41777484, -0.29815669, -0.41962908,\n",
       "        0.94206802, -0.86681148,  0.74696532,  0.25587578, -0.86219527,\n",
       "       -0.94505927,  0.79165858, -0.17444082, -0.61906299, -0.76191396,\n",
       "       -0.26118612,  0.71381765,  0.57297483,  0.72153979, -0.60638514,\n",
       "        0.98333708,  0.69828349, -0.22916929,  0.26625878, -0.32563595,\n",
       "       -0.61889985, -0.8058372 , -0.82568384, -0.55630918,  0.33904997,\n",
       "       -0.9235572 ,  0.20917258, -0.65968266, -0.56983279,  0.6855563 ,\n",
       "        0.54306977,  0.04120532, -0.19285368,  0.38652521, -0.26706594,\n",
       "       -0.18037166,  0.75366191, -0.89682818,  0.63817599,  0.65392609,\n",
       "       -0.59442392, -0.50757185,  0.61491372, -0.87119883,  0.43620455,\n",
       "       -0.14870315, -0.2273397 ,  0.45179447, -0.32875994, -0.49042496,\n",
       "       -0.16244153,  0.70029327,  0.24029956, -0.01812724,  0.8254558 ,\n",
       "        0.21191354, -0.27211797, -0.34399429,  0.51103832, -0.46242318,\n",
       "        0.4788427 , -0.86401495, -0.67863829,  0.56051744, -0.70373805,\n",
       "        0.42086737,  0.53563543,  0.78194042,  0.62988191, -0.77149543,\n",
       "       -0.46370835,  0.92942999, -0.01573804, -0.24852825, -0.13972956])"
      ]
     },
     "execution_count": 1,
     "metadata": {},
     "output_type": "execute_result"
    }
   ],
   "source": [
    "import numpy as np\n",
    "np.random.uniform(-1, 1, size=100)"
   ]
  },
  {
   "cell_type": "markdown",
   "id": "f9424932",
   "metadata": {},
   "source": [
    "`print_out` prints command execution"
   ]
  },
  {
   "cell_type": "code",
   "execution_count": 2,
   "id": "8a3e0ebd",
   "metadata": {},
   "outputs": [],
   "source": [
    "def print_output(command):\n",
    "    command = 'print(' + command + ')'\n",
    "    return exec(command)"
   ]
  },
  {
   "cell_type": "code",
   "execution_count": 3,
   "id": "5f7f3d9d",
   "metadata": {},
   "outputs": [
    {
     "name": "stdout",
     "output_type": "stream",
     "text": [
      "[-0.19574824  0.9304215  -0.39743457 -0.89480731 -0.15681589  0.17582\n",
      " -0.34259078 -0.01290907 -0.87031946 -0.5830765  -0.14051184  0.07611812\n",
      "  0.70617704  0.70458276 -0.52113771  0.07691976  0.14179404 -0.66033025\n",
      "  0.77675331  0.40487929  0.44316502  0.20112005 -0.52075078  0.33171156\n",
      " -0.78815087 -0.2340466  -0.52682856  0.72062005  0.01837628  0.0689109\n",
      "  0.64856375  0.09483043 -0.07032294  0.90827233  0.6325876  -0.27368117\n",
      "  0.74613656  0.89047937  0.91641664  0.83217569  0.88006745 -0.5020908\n",
      " -0.84190056  0.8674518   0.9434124   0.10682305 -0.01054989 -0.81055813\n",
      " -0.23654527 -0.79075849  0.86861874 -0.4901707  -0.7318325  -0.6352066\n",
      " -0.55802268  0.42406671  0.04999123 -0.18725623 -0.28240063  0.75489566\n",
      " -0.13884179 -0.99719521 -0.93319735  0.4170165  -0.51818248  0.95926094\n",
      " -0.10238348 -0.20756481  0.59199644  0.64698612 -0.2867828   0.73835747\n",
      " -0.14447526 -0.15435717 -0.85578311  0.16209298  0.56950501 -0.61621401\n",
      " -0.19199952  0.65007663  0.5924338   0.33143356 -0.53065764 -0.14895574\n",
      " -0.54657376 -0.73198455 -0.49630076 -0.12122414  0.66649387  0.93304576\n",
      " -0.0788007   0.12390789  0.01120761 -0.14052289 -0.20495414 -0.03674993\n",
      "  0.23391394  0.24609496  0.39822256 -0.64619101]\n"
     ]
    }
   ],
   "source": [
    "print_output(command = 'np.random.uniform(-1, 1, size=100)')"
   ]
  },
  {
   "cell_type": "markdown",
   "id": "96d52b22",
   "metadata": {},
   "source": [
    "if `print_out` results in an error, this is printed"
   ]
  },
  {
   "cell_type": "code",
   "execution_count": 4,
   "id": "117a7507",
   "metadata": {},
   "outputs": [
    {
     "ename": "NameError",
     "evalue": "name 'nn' is not defined",
     "output_type": "error",
     "traceback": [
      "\u001b[1;31m---------------------------------------------------------------------------\u001b[0m",
      "\u001b[1;31mNameError\u001b[0m                                 Traceback (most recent call last)",
      "\u001b[1;32m~\\AppData\\Local\\Temp\\ipykernel_10024\\3151681282.py\u001b[0m in \u001b[0;36m<module>\u001b[1;34m\u001b[0m\n\u001b[1;32m----> 1\u001b[1;33m \u001b[0mprint_output\u001b[0m\u001b[1;33m(\u001b[0m\u001b[0mcommand\u001b[0m \u001b[1;33m=\u001b[0m \u001b[1;34m'nn.random.uniform(-1, 1, size=100)'\u001b[0m\u001b[1;33m)\u001b[0m\u001b[1;33m\u001b[0m\u001b[1;33m\u001b[0m\u001b[0m\n\u001b[0m",
      "\u001b[1;32m~\\AppData\\Local\\Temp\\ipykernel_10024\\2406279791.py\u001b[0m in \u001b[0;36mprint_output\u001b[1;34m(command)\u001b[0m\n\u001b[0;32m      1\u001b[0m \u001b[1;32mdef\u001b[0m \u001b[0mprint_output\u001b[0m\u001b[1;33m(\u001b[0m\u001b[0mcommand\u001b[0m\u001b[1;33m)\u001b[0m\u001b[1;33m:\u001b[0m\u001b[1;33m\u001b[0m\u001b[1;33m\u001b[0m\u001b[0m\n\u001b[0;32m      2\u001b[0m     \u001b[0mcommand\u001b[0m \u001b[1;33m=\u001b[0m \u001b[1;34m'print('\u001b[0m \u001b[1;33m+\u001b[0m \u001b[0mcommand\u001b[0m \u001b[1;33m+\u001b[0m \u001b[1;34m')'\u001b[0m\u001b[1;33m\u001b[0m\u001b[1;33m\u001b[0m\u001b[0m\n\u001b[1;32m----> 3\u001b[1;33m     \u001b[1;32mreturn\u001b[0m \u001b[0mexec\u001b[0m\u001b[1;33m(\u001b[0m\u001b[0mcommand\u001b[0m\u001b[1;33m)\u001b[0m\u001b[1;33m\u001b[0m\u001b[1;33m\u001b[0m\u001b[0m\n\u001b[0m",
      "\u001b[1;32m<string>\u001b[0m in \u001b[0;36m<module>\u001b[1;34m\u001b[0m\n",
      "\u001b[1;31mNameError\u001b[0m: name 'nn' is not defined"
     ]
    }
   ],
   "source": [
    "print_output(command = 'nn.random.uniform(-1, 1, size=100)')"
   ]
  },
  {
   "cell_type": "code",
   "execution_count": 6,
   "id": "5cafc219",
   "metadata": {},
   "outputs": [
    {
     "ename": "TypeError",
     "evalue": "uniform() got an unexpected keyword argument 'siz'",
     "output_type": "error",
     "traceback": [
      "\u001b[1;31m---------------------------------------------------------------------------\u001b[0m",
      "\u001b[1;31mTypeError\u001b[0m                                 Traceback (most recent call last)",
      "\u001b[1;32m~\\AppData\\Local\\Temp\\ipykernel_10024\\1884166509.py\u001b[0m in \u001b[0;36m<module>\u001b[1;34m\u001b[0m\n\u001b[1;32m----> 1\u001b[1;33m \u001b[0mprint_output\u001b[0m\u001b[1;33m(\u001b[0m\u001b[0mcommand\u001b[0m \u001b[1;33m=\u001b[0m \u001b[1;34m'np.random.uniform(-1, 1, siz=100)'\u001b[0m\u001b[1;33m)\u001b[0m\u001b[1;33m\u001b[0m\u001b[1;33m\u001b[0m\u001b[0m\n\u001b[0m",
      "\u001b[1;32m~\\AppData\\Local\\Temp\\ipykernel_10024\\2406279791.py\u001b[0m in \u001b[0;36mprint_output\u001b[1;34m(command)\u001b[0m\n\u001b[0;32m      1\u001b[0m \u001b[1;32mdef\u001b[0m \u001b[0mprint_output\u001b[0m\u001b[1;33m(\u001b[0m\u001b[0mcommand\u001b[0m\u001b[1;33m)\u001b[0m\u001b[1;33m:\u001b[0m\u001b[1;33m\u001b[0m\u001b[1;33m\u001b[0m\u001b[0m\n\u001b[0;32m      2\u001b[0m     \u001b[0mcommand\u001b[0m \u001b[1;33m=\u001b[0m \u001b[1;34m'print('\u001b[0m \u001b[1;33m+\u001b[0m \u001b[0mcommand\u001b[0m \u001b[1;33m+\u001b[0m \u001b[1;34m')'\u001b[0m\u001b[1;33m\u001b[0m\u001b[1;33m\u001b[0m\u001b[0m\n\u001b[1;32m----> 3\u001b[1;33m     \u001b[1;32mreturn\u001b[0m \u001b[0mexec\u001b[0m\u001b[1;33m(\u001b[0m\u001b[0mcommand\u001b[0m\u001b[1;33m)\u001b[0m\u001b[1;33m\u001b[0m\u001b[1;33m\u001b[0m\u001b[0m\n\u001b[0m",
      "\u001b[1;32m<string>\u001b[0m in \u001b[0;36m<module>\u001b[1;34m\u001b[0m\n",
      "\u001b[1;32mmtrand.pyx\u001b[0m in \u001b[0;36mnumpy.random.mtrand.RandomState.uniform\u001b[1;34m()\u001b[0m\n",
      "\u001b[1;31mTypeError\u001b[0m: uniform() got an unexpected keyword argument 'siz'"
     ]
    }
   ],
   "source": [
    "print_output(command = 'np.random.uniform(-1, 1, siz=100)')"
   ]
  },
  {
   "cell_type": "markdown",
   "id": "5ff1b416",
   "metadata": {},
   "source": [
    "Create a function `get_SOS_help` which: <br>\n",
    "    - Prints \"works as intended\" if no error. <br>\n",
    "    - Prints the first link from stack overflow related to the error. As an example: <br>\n",
    "        `print_output(command = 'np.random.uniform(-1, 1, siz=100)'`\n",
    "        should retrieve the following link:\n",
    "        https://stackoverflow.com/questions/72537485/typeerror-uniform-got-an-unexpected-keyword-argument-low-size <br>\n",
    "    - Prints the most voted help\n",
    "    - Opens a new browser using the link"
   ]
  },
  {
   "cell_type": "code",
   "execution_count": null,
   "id": "f8cde2fa",
   "metadata": {},
   "outputs": [],
   "source": [
    "# get Stack Overflow Stunning help\n",
    "def get_SOS_help(command):\n",
    "    \n",
    "    url = error_encode_url() # TODO encode error str to urlencode\n",
    "    get_html_search() # TODO get html with request \n",
    "    parse_html() # parse html with beautiful\n",
    "    get_search_classes() # get each search result and check if url start with stack.overflow.com\n",
    "    get_first_result_url() #  get_first_result os previous results\n",
    "    get_most_rated_answer() # TODO\n",
    "    open_chrome_with_url() # Open chrome with previus url\n",
    "    \n",
    "    try:\n",
    "        exec(command)\n",
    "        \n",
    "    except:\n",
    "        print(stack_overflow_first_link)\n",
    "        print(stack_overflow_most_voted_help)\n",
    "        prompt_web(stack_overflow_first_link)\n",
    "    return"
   ]
  },
  {
   "cell_type": "code",
   "execution_count": null,
   "id": "79289999",
   "metadata": {},
   "outputs": [],
   "source": [
    "command = 'np.random.uniform(-1, 1, siz=100)'\n",
    "get_SOS_help(command)"
   ]
  },
  {
   "cell_type": "markdown",
   "id": "a2dae86a",
   "metadata": {},
   "source": [
    "## Create a malfunctioning code and use this function on it"
   ]
  },
  {
   "cell_type": "code",
   "execution_count": null,
   "id": "87272f6c",
   "metadata": {},
   "outputs": [],
   "source": [
    "## YOUR CODE HERE"
   ]
  },
  {
   "cell_type": "code",
   "execution_count": 129,
   "id": "0d58d673-fb0a-4ddc-809d-ae8fd8e6d105",
   "metadata": {},
   "outputs": [],
   "source": [
    "import requests\n",
    "import urllib\n",
    "import bs4\n",
    "from bs4 import BeautifulSoup\n",
    "\n",
    "class CookieError(Exception):\n",
    "    pass\n",
    "\n",
    "\n",
    "def error_encode_url(error:str):\n",
    "    \"\"\"\n",
    "    Generate url encode from a error using a defined base in google and a web to search\n",
    "  \n",
    "    Parameters:\n",
    "    error (str): string with the error to be searched \n",
    "  \n",
    "    Returns:\n",
    "    str: url encoded\n",
    "    \"\"\"\n",
    "    base_search = \"https://www.google.com/search?q=\"\n",
    "    web = \"https://www.google.com/search?q=stackoverflow.com\"\n",
    "    search = urllib.parse.quote_plus(error)\n",
    "    url_base = f'{base_search}{web}{search}'\n",
    "    return url_base\n",
    "\n",
    "def get_html_search(query: str):\n",
    "    \"\"\"\n",
    "    Get the html of a web page from the a query url given.\n",
    "  \n",
    "    Parameters:\n",
    "    query (str): string with the url to be searched\n",
    "  \n",
    "    Returns:\n",
    "    str: hmlt string of the search\n",
    "    \"\"\"\n",
    "    \n",
    "    headers = {'User-Agent': 'Mozilla/5.0 (Macintosh; Intel Mac OS X 10_15_7) AppleWebKit/537.36 (KHTML, like Gecko) Chrome/107.0.0.0 Safari/537.36', 'Upgrade-Insecure-Requests': '1', 'Accept': 'text/html,application/xhtml+xml,application/xml;q=0.9,*/*;q=0.8', 'DNT': '1', 'Accept-Encoding': 'gzip, deflate', 'Cookie':'CONSENT=YES+cb.20210418-17-p0.it+FX+917; '}\n",
    "    # headers = \"\"\n",
    "\n",
    "    res = requests.get(query,headers=headers)\n",
    "    if res.status_code != 200:\n",
    "        raise requests.exceptions.RequestException(\"Cannot procceed only works with 200 status code in response\")\n",
    "    return res\n",
    "\n",
    "def check_html_mal(soup):\n",
    "    \"\"\"\n",
    "    MALA Solo para sirve para ver el ejemlpo de como ha evolucionado:\n",
    "    me comlique mucho\n",
    "    \"\"\"\n",
    "    ret = True\n",
    "    common_button = [\"Accept all\", \"Reject all\",\"Rechazar todo\",\"Aceptar todo\"]\n",
    "    common_title = ['Antes de ir a Google', 'Before you continue to Google']\n",
    "    title_res = soup.find_all(\"h1\")\n",
    "    title_str = title_res[0].contents[0]\n",
    "    button_res = soup.find_all(\"input\",attrs={'class':'basebutton'})\n",
    "\n",
    "    for b in button_res:\n",
    "        if b.get_attribute_list(\"value\")[0] in common_button:\n",
    "            ret = False\n",
    "    if title_str in common_title:\n",
    "            ret = False\n",
    "    return ret \n",
    "\n",
    "def check_html(soup:bs4.BeautifulSoup):\n",
    "    \"\"\"\n",
    "    Check if the page url has the search result. \n",
    "    if not return False. This may happends when you have to aggre cookies policy\n",
    "    Parameters:\n",
    "    soup (bs4.BeautifulSoup): soup with the html parsed \n",
    "  \n",
    "    Returns:\n",
    "    bool: True if it is ok False if not\n",
    "    \"\"\"\n",
    "    ret = True\n",
    "    search_result = soup.find_all(\"h1\",attrs={'class':'Uo8X3b OhScic zsYMMe'})\n",
    "    if len(search_result)>0:\n",
    "        ret = False\n",
    "    return ret\n",
    "def parse_html(html: str):\n",
    "    soup = BeautifulSoup(html, 'html.parser')\n",
    "    check_html(soup)\n",
    "    if ~check_html(soup):\n",
    "        raise CookieError(\"Check the headers of the request, it seems google has update some required fields or its values\")\n",
    "    return soup\n",
    "\n",
    "def get_search_classes: \n"
   ]
  },
  {
   "cell_type": "code",
   "execution_count": 122,
   "id": "3c1a68dc-270e-4bc6-8d1b-1e0105d729bc",
   "metadata": {},
   "outputs": [],
   "source": [
    "r=get_html_search(error_encode_url(\"TypeError: uniform() got an unexpected keyword argument 'siz'\"))"
   ]
  },
  {
   "cell_type": "code",
   "execution_count": 123,
   "id": "d55ca277-56c9-4b48-9de6-55219675dee8",
   "metadata": {},
   "outputs": [],
   "source": [
    "soup = BeautifulSoup(r.text, 'lxml')\n",
    "s=check_html(soup)"
   ]
  },
  {
   "cell_type": "code",
   "execution_count": 113,
   "id": "3fc30617-184a-4215-aaa8-bab8815b89b8",
   "metadata": {},
   "outputs": [
    {
     "data": {
      "text/plain": [
       "0"
      ]
     },
     "execution_count": 113,
     "metadata": {},
     "output_type": "execute_result"
    }
   ],
   "source": [
    "\n",
    "search_result = soup.find_all(\"h1\",attrs={'class':'Uo8X3b OhScic zsYMMe'})\n",
    "for b in search_result:\n",
    "    if b.contents[0] in common_button:\n",
    "        ret = False"
   ]
  },
  {
   "cell_type": "code",
   "execution_count": 124,
   "id": "67bef9e4-8638-4149-831e-ddd1ce4b3ebf",
   "metadata": {
    "tags": []
   },
   "outputs": [
    {
     "data": {
      "text/plain": [
       "[<h1 class=\"Uo8X3b OhScic zsYMMe\">Enlaces de accesibilidad</h1>,\n",
       " <h1 class=\"Uo8X3b OhScic zsYMMe\">Modos de búsqueda</h1>,\n",
       " <h1 class=\"Uo8X3b OhScic zsYMMe\">Resultados de la búsqueda</h1>,\n",
       " <h1 class=\"Uo8X3b OhScic zsYMMe\">Enlaces a pie de página</h1>]"
      ]
     },
     "execution_count": 124,
     "metadata": {},
     "output_type": "execute_result"
    }
   ],
   "source": [
    "soup.find_all(\"h1\",attrs={'class':'Uo8X3b OhScic zsYMMe'})"
   ]
  },
  {
   "cell_type": "code",
   "execution_count": 78,
   "id": "d69c7e71-4e17-4e53-900a-f06b277a8a39",
   "metadata": {},
   "outputs": [],
   "source": [
    "b=b_r[0]"
   ]
  },
  {
   "cell_type": "code",
   "execution_count": 127,
   "id": "a878db57-e495-480e-a2d6-cbff43a90d81",
   "metadata": {},
   "outputs": [
    {
     "data": {
      "text/plain": [
       "False"
      ]
     },
     "execution_count": 127,
     "metadata": {},
     "output_type": "execute_result"
    }
   ],
   "source": [
    "r.status_code != 200"
   ]
  },
  {
   "cell_type": "code",
   "execution_count": 95,
   "id": "ac4cd81a-aca1-4e6c-8667-45f6b23cade1",
   "metadata": {},
   "outputs": [
    {
     "data": {
      "text/plain": [
       "'Antes de ir a Google'"
      ]
     },
     "execution_count": 95,
     "metadata": {},
     "output_type": "execute_result"
    }
   ],
   "source": [
    "title_str"
   ]
  },
  {
   "cell_type": "code",
   "execution_count": 103,
   "id": "d46a5a51-05a4-4f1b-a94a-a075f7fb8e6f",
   "metadata": {},
   "outputs": [
    {
     "data": {
      "text/plain": [
       "<!DOCTYPE html>\n",
       "<html dir=\"ltr\" lang=\"es\"><head><style nonce=\"0sGVffVETQmZcYDCezap7w\">\n",
       "a, a:link, a:visited, a:active, a:hover {\n",
       "  color: #1a73e8;\n",
       "  text-decoration: none;\n",
       "}\n",
       "body {\n",
       "  font-family: Roboto,RobotoDraft,Helvetica,Arial,sans-serif;\n",
       "  text-align: center;\n",
       "  -ms-text-size-adjust: 100%;\n",
       "  -moz-text-size-adjust: 100%;\n",
       "  -webkit-text-size-adjust: 100%;\n",
       "}\n",
       ".box {\n",
       "  border: 1px solid #dadce0;\n",
       "  box-sizing: border-box;\n",
       "  border-radius: 8px;\n",
       "  margin: 24px auto 5px auto;\n",
       "  max-width: 800px;\n",
       "  padding: 24px;\n",
       "}\n",
       "h1 {\n",
       "  color: #2c2c2c;\n",
       "  font-size: 24px;\n",
       "  hyphens: auto;\n",
       "  margin: 24px 0;\n",
       "}\n",
       ".icaCallout {\n",
       "  background-color: #f8f9fa;\n",
       "  padding: 12px 16px;\n",
       "  border-radius: 10px;\n",
       "  margin-bottom: 10px;\n",
       "}\n",
       "p, .sub, .contentText, .icaCallout {\n",
       "  color: #5f6368;;\n",
       "  font-size: 14px;\n",
       "  line-height: 20px;\n",
       "  letter-spacing: 0.2px;\n",
       "  text-align: left;\n",
       "}\n",
       ".signin {\n",
       "  text-align: right;\n",
       "}\n",
       ".saveButtonContainer,\n",
       ".saveButtonContainerNarrowScreen {\n",
       "  width: 100%;\n",
       "  margin-top: 12px;\n",
       "}\n",
       ".customButtonContainer {\n",
       "  height: 20px;\n",
       "  padding: 8px 0;\n",
       "  margin-top: 8px;\n",
       "}\n",
       ".navigationCtasYoutube {\n",
       "  text-align: right;\n",
       "}\n",
       "a.button {\n",
       "  color: #fff;\n",
       "}\n",
       "a.hairlinebutton,\n",
       "a.nolinebutton{\n",
       "  color: #1a73e8;\n",
       "}\n",
       ".navigationCtasYoutube a.hairlinebutton {\n",
       "  border-color: #1a73e8;\n",
       "}\n",
       "button, .button {\n",
       "  background-color: #1a73e8;\n",
       "  border: none;\n",
       "  color: #fff;\n",
       "}\n",
       "input.button {\n",
       "  -webkit-appearance: none;\n",
       "}\n",
       ".basebutton {\n",
       "  border-radius: 4px;\n",
       "  cursor: pointer;\n",
       "  font-family: Roboto,RobotoDraft,Helvetica,Arial,sans-serif;\n",
       "  font-size: 14px;\n",
       "  font-weight: 500;\n",
       "  height: 36px;\n",
       "  margin: 12px 4px 0;\n",
       "  padding: 8px 24px;\n",
       "}\n",
       ".hairlinebutton {\n",
       "  background-color: #fff;\n",
       "  border-width: 1px;\n",
       "  border-color: #dadce0;\n",
       "  border-style: solid;\n",
       "  max-height: 15px;\n",
       "}\n",
       ".error {\n",
       "  border: 2px solid #d93025;\n",
       "  border-radius: 5px;\n",
       "  color: #d93025;\n",
       "  margin: auto;\n",
       "  padding: 5px;\n",
       "}\n",
       ".box a:hover, .detailspage a:hover {\n",
       "  text-decoration: underline;\n",
       "}\n",
       ".footer {\n",
       "  margin-top: 16px;\n",
       "}\n",
       ".footer a {\n",
       "  margin-left: 24px;\n",
       "  white-space: nowrap;\n",
       "}\n",
       ".footer a, .footer select, .footer input {\n",
       "  color: #757575;\n",
       "  font-size: 12px;\n",
       "}\n",
       ".languagepicker {\n",
       "  display: inline-flex;\n",
       "  margin: 2px 0;\n",
       "}\n",
       "#languageform,\n",
       "#languageselect {\n",
       "  margin: 0 2px;\n",
       "}\n",
       "#languageselect {\n",
       "  color: #757575;\n",
       "}\n",
       ".detailspage {\n",
       "  margin: 24px auto 0 auto;\n",
       "  max-width: 700px;\n",
       "}\n",
       ".detailspage h1, .detailspage h2 {\n",
       "  font-size: 22px\n",
       "}\n",
       ".setting {\n",
       "  border: 1px solid #dadce0;\n",
       "  box-sizing: border-box;\n",
       "  border-radius: 8px;\n",
       "  margin-bottom: 11px;\n",
       "  padding: 24px 24px 20px 24px;\n",
       "  text-align: right;\n",
       "}\n",
       ".sub {\n",
       "  padding: 24px 24px 20px 24px;\n",
       "}\n",
       "hr {\n",
       "  margin: 12px -24px 12px;\n",
       "  border: 0;\n",
       "  border-top: 1px solid #dadce0;\n",
       "}\n",
       "fieldset {\n",
       "  border: none;\n",
       "  padding: 0;\n",
       "}\n",
       "label {\n",
       "  margin: 24px;\n",
       "}\n",
       "td {\n",
       "  vertical-align: top;\n",
       "}\n",
       ".setting h2, .setting h3, h4 {\n",
       "  color: #3c4043;\n",
       "  margin: 0;\n",
       "  text-align: left;\n",
       "}\n",
       ".yt-text {\n",
       "  color: #5f6368;\n",
       "  font-size: 14px;\n",
       "  font-weight: 300;\n",
       "}\n",
       ".productLogoContainer {\n",
       "  margin: auto;\n",
       "  max-width: 360px;\n",
       "}\n",
       "\n",
       "/** Narrow screen (for example a mobile device). */\n",
       "@media only screen and (max-width: 480px) {\n",
       "  body {\n",
       "    margin: 18px 14px;\n",
       "  }\n",
       "  .footer form {\n",
       "    margin-bottom: 3px;\n",
       "  }\n",
       "  .imgContainer {\n",
       "    min-width: 96px;\n",
       "  }\n",
       "  button, .button {\n",
       "    width:100%;\n",
       "  }\n",
       "  .basebutton {\n",
       "    margin: 12px 0 0;\n",
       "  }\n",
       "  .hideOnSmallWidth {\n",
       "    display: none;\n",
       "  }\n",
       "  .saveButtonContainerNarrowScreen {\n",
       "    display: inline-block;\n",
       "  }\n",
       "  .saveButtonContainer {\n",
       "    display: none;\n",
       "  }\n",
       "  .navigationCtasYoutube a.hairlinebutton {\n",
       "    display: block;\n",
       "    text-align: center;\n",
       "  }\n",
       "}\n",
       "\n",
       "@media only screen and (max-width: 380px) {\n",
       "  .imgContainer {\n",
       "    min-width: 72px;\n",
       "  }\n",
       "}\n",
       "\n",
       "/** Normal/non-narrow screen. */\n",
       "@media not screen and (max-width: 480px) {\n",
       "  body {\n",
       "    margin: 18px 25px;\n",
       "  }\n",
       "  .footer form {\n",
       "    display: inline;\n",
       "  }\n",
       "  .imgContainer {\n",
       "    width: 51%;\n",
       "  }\n",
       "  button, .button {\n",
       "    width: auto;\n",
       "  }\n",
       "  .searchButton {\n",
       "    min-width: 182px;\n",
       "  }\n",
       "  .detailsButton {\n",
       "    min-width: 220px;\n",
       "  }\n",
       "  .hideOnNormalWidth {\n",
       "    display: none;\n",
       "  }\n",
       "  .saveButtonContainer {\n",
       "    display: inline-block;\n",
       "  }\n",
       "  .saveButtonContainerNarrowScreen {\n",
       "    display: none;\n",
       "  }\n",
       "}\n",
       "</style><title>Antes de ir a la Búsqueda de Google</title><meta content=\"initial-scale=1, maximum-scale=5, width=device-width\" name=\"viewport\"/><link href=\"//www.google.com/favicon.ico\" rel=\"shortcut icon\"/></head><body><div class=\"signin\"><a class=\"basebutton hairlinebutton\" href=\"https://accounts.google.com/ServiceLogin?hl=es&amp;continue=https://www.google.com/search?q%3Dhttps://www.google.com/search?q%3Dstackoverflow.comTypeError%253A%2Buniform%2528%2529%2Bgot%2Ban%2Bunexpected%2Bkeyword%2Bargument%2B%2527siz%2527&amp;gae=cb-none\">Iniciar sesión</a></div><div class=\"box\"><img alt=\"Google\" height=\"28\" src=\"//www.gstatic.com/images/branding/googlelogo/1x/googlelogo_color_68x28dp.png\" srcset=\"//www.gstatic.com/images/branding/googlelogo/2x/googlelogo_color_68x28dp.png 2x\" width=\"68\"/><h1>Antes de ir a Google</h1><div class=\"contentText\">Usamos <a href=\"https://policies.google.com/technologies/cookies?hl=es&amp;utm_source=ucb\" target=\"_blank\">cookies</a> y datos para:<ul><li>Proporcionar y mantener nuestros servicios</li><li>Hacer un seguimiento de las interrupciones y prevenir el spam, el fraude y los abusos</li><li>Medir la interacción de la audiencia y estadísticas de los sitios para entender cómo se utilizan nuestros servicios y mejorar su calidad</li></ul>Si eliges Aceptar todo, también usaremos cookies y datos para:<ul><li>Desarrollar y mejorar nuevos servicios</li><li>Proporcionar anuncios y medir su eficacia</li><li>Mostrar contenido personalizado en función de tus ajustes</li><li>Mostrar anuncios personalizados en función de tus ajustes</li></ul><div>Si eliges Rechazar todo, no usaremos cookies para estos fines adicionales.</div><br/><div>El contenido no personalizado está influido por factores como lo que estés viendo en ese momento, la actividad de tu sesión de búsqueda activa y tu ubicación. Los anuncios no personalizados están influidos por lo que estés viendo en ese momento y tu ubicación general. El contenido y los anuncios personalizados también pueden incluir resultados y recomendaciones más relevantes, así como anuncios basados en la actividad que se haya realizado previamente con este navegador, como búsquedas en Google anteriores. En caso necesario, también usamos cookies y datos para adaptar la experiencia de modo que sea apropiada para determinada edad.</div><br/>Selecciona Más opciones para ver información adicional, como detalles sobre la gestión de la configuración de privacidad. También puedes visitar g.co/privacytools en cualquier momento.</div><div class=\"saveButtonContainer\"><form action=\"https://consent.google.com/save\" method=\"POST\" style=\"display:inline;\"><input name=\"bl\" type=\"hidden\" value=\"boq_identityfrontenduiserver_20221206.05_p1\"/><input name=\"x\" type=\"hidden\" value=\"8\"/><input name=\"gl\" type=\"hidden\" value=\"ES\"/><input name=\"m\" type=\"hidden\" value=\"0\"/><input name=\"pc\" type=\"hidden\" value=\"srp\"/><input name=\"continue\" type=\"hidden\" value=\"https://www.google.com/search?q=https://www.google.com/search?q=stackoverflow.comTypeError%3A+uniform%28%29+got+an+unexpected+keyword+argument+%27siz%27\"/><input name=\"hl\" type=\"hidden\" value=\"es\"/><input name=\"uxe\" type=\"hidden\" value=\"none\"/><input name=\"set_eom\" type=\"hidden\" value=\"true\"/><input aria-label=\"Rechazar todo\" class=\"basebutton button searchButton\" type=\"submit\" value=\"Rechazar todo\"/></form><form action=\"https://consent.google.com/save\" method=\"POST\" style=\"display:inline;\"><input name=\"bl\" type=\"hidden\" value=\"boq_identityfrontenduiserver_20221206.05_p1\"/><input name=\"x\" type=\"hidden\" value=\"8\"/><input name=\"gl\" type=\"hidden\" value=\"ES\"/><input name=\"m\" type=\"hidden\" value=\"0\"/><input name=\"pc\" type=\"hidden\" value=\"srp\"/><input name=\"continue\" type=\"hidden\" value=\"https://www.google.com/search?q=https://www.google.com/search?q=stackoverflow.comTypeError%3A+uniform%28%29+got+an+unexpected+keyword+argument+%27siz%27\"/><input name=\"hl\" type=\"hidden\" value=\"es\"/><input name=\"uxe\" type=\"hidden\" value=\"none\"/><input name=\"set_eom\" type=\"hidden\" value=\"false\"/><input name=\"set_sc\" type=\"hidden\" value=\"true\"/><input name=\"set_aps\" type=\"hidden\" value=\"true\"/><input aria-label=\"Aceptar todo\" class=\"basebutton button searchButton\" type=\"submit\" value=\"Aceptar todo\"/></form></div><div class=\"saveButtonContainerNarrowScreen\"><form action=\"https://consent.google.com/save\" method=\"POST\" style=\"display:block;\"><input name=\"bl\" type=\"hidden\" value=\"boq_identityfrontenduiserver_20221206.05_p1\"/><input name=\"x\" type=\"hidden\" value=\"8\"/><input name=\"gl\" type=\"hidden\" value=\"ES\"/><input name=\"m\" type=\"hidden\" value=\"0\"/><input name=\"pc\" type=\"hidden\" value=\"srp\"/><input name=\"continue\" type=\"hidden\" value=\"https://www.google.com/search?q=https://www.google.com/search?q=stackoverflow.comTypeError%3A+uniform%28%29+got+an+unexpected+keyword+argument+%27siz%27\"/><input name=\"hl\" type=\"hidden\" value=\"es\"/><input name=\"uxe\" type=\"hidden\" value=\"none\"/><input name=\"set_eom\" type=\"hidden\" value=\"false\"/><input name=\"set_sc\" type=\"hidden\" value=\"true\"/><input name=\"set_aps\" type=\"hidden\" value=\"true\"/><input aria-label=\"Aceptar todo\" class=\"basebutton button searchButton\" type=\"submit\" value=\"Aceptar todo\"/></form><form action=\"https://consent.google.com/save\" method=\"POST\" style=\"display:block;\"><input name=\"bl\" type=\"hidden\" value=\"boq_identityfrontenduiserver_20221206.05_p1\"/><input name=\"x\" type=\"hidden\" value=\"8\"/><input name=\"gl\" type=\"hidden\" value=\"ES\"/><input name=\"m\" type=\"hidden\" value=\"0\"/><input name=\"pc\" type=\"hidden\" value=\"srp\"/><input name=\"continue\" type=\"hidden\" value=\"https://www.google.com/search?q=https://www.google.com/search?q=stackoverflow.comTypeError%3A+uniform%28%29+got+an+unexpected+keyword+argument+%27siz%27\"/><input name=\"hl\" type=\"hidden\" value=\"es\"/><input name=\"uxe\" type=\"hidden\" value=\"none\"/><input name=\"set_eom\" type=\"hidden\" value=\"true\"/><input aria-label=\"Rechazar todo\" class=\"basebutton button searchButton\" type=\"submit\" value=\"Rechazar todo\"/></form></div><div class=\"customButtonContainer\"><a class=\"basebutton nolinebutton\" href=\"https://consent.google.com/dl?continue=https://www.google.com/search?q%3Dhttps://www.google.com/search?q%3Dstackoverflow.comTypeError%253A%2Buniform%2528%2529%2Bgot%2Ban%2Bunexpected%2Bkeyword%2Bargument%2B%2527siz%2527&amp;gl=ES&amp;hl=es&amp;pc=srp&amp;uxe=none&amp;src=1\">Más opciones</a></div></div><div class=\"footer\"><form action=\"https://consent.google.com/ml\" method=\"get\"><select id=\"languageselect\" name=\"hl\"><option value=\"af\">Afrikaans</option><option value=\"az\">azərbaycan</option><option value=\"bs\">bosanski</option><option value=\"ca\">català</option><option value=\"cs\">Čeština</option><option value=\"cy\">Cymraeg</option><option value=\"da\">Dansk</option><option value=\"de\">Deutsch</option><option value=\"et\">eesti</option><option value=\"en-GB\">English (United Kingdom)</option><option value=\"en\">English (United States)</option><option selected=\"\" value=\"es\">Español (España)</option><option value=\"es-419\">Español (Latinoamérica)</option><option value=\"eu\">euskara</option><option value=\"fil\">Filipino</option><option value=\"fr-CA\">Français (Canada)</option><option value=\"fr\">Français (France)</option><option value=\"ga\">Gaeilge</option><option value=\"gl\">galego</option><option value=\"hr\">Hrvatski</option><option value=\"id\">Indonesia</option><option value=\"zu\">isiZulu</option><option value=\"is\">íslenska</option><option value=\"it\">Italiano</option><option value=\"sw\">Kiswahili</option><option value=\"lv\">latviešu</option><option value=\"lt\">lietuvių</option><option value=\"hu\">magyar</option><option value=\"ms\">Melayu</option><option value=\"nl\">Nederlands</option><option value=\"no\">norsk</option><option value=\"uz\">o‘zbek</option><option value=\"pl\">polski</option><option value=\"pt-BR\">Português (Brasil)</option><option value=\"pt-PT\">Português (Portugal)</option><option value=\"ro\">română</option><option value=\"sq\">shqip</option><option value=\"sk\">Slovenčina</option><option value=\"sl\">slovenščina</option><option value=\"sr-Latn\">srpski (latinica)</option><option value=\"fi\">Suomi</option><option value=\"sv\">Svenska</option><option value=\"vi\">Tiếng Việt</option><option value=\"tr\">Türkçe</option><option value=\"el\">Ελληνικά</option><option value=\"be\">беларуская</option><option value=\"bg\">български</option><option value=\"ky\">кыргызча</option><option value=\"kk\">қазақ тілі</option><option value=\"mk\">македонски</option><option value=\"mn\">монгол</option><option value=\"ru\">Русский</option><option value=\"sr\">српски</option><option value=\"uk\">Українська</option><option value=\"ka\">ქართული</option><option value=\"hy\">հայերեն</option><option value=\"iw\">עברית</option><option value=\"ur\">اردو</option><option value=\"ar\">العربية</option><option value=\"fa\">فارسی</option><option value=\"am\">አማርኛ</option><option value=\"ne\">नेपाली</option><option value=\"mr\">मराठी</option><option value=\"hi\">हिन्दी</option><option value=\"as\">অসমীয়া</option><option value=\"bn\">বাংলা</option><option value=\"pa\">ਪੰਜਾਬੀ</option><option value=\"gu\">ગુજરાતી</option><option value=\"or\">ଓଡ଼ିଆ</option><option value=\"ta\">தமிழ்</option><option value=\"te\">తెలుగు</option><option value=\"kn\">ಕನ್ನಡ</option><option value=\"ml\">മലയാളം</option><option value=\"si\">සිංහල</option><option value=\"th\">ไทย</option><option value=\"lo\">ລາວ</option><option value=\"my\">မြန်မာ</option><option value=\"km\">ខ្មែរ</option><option value=\"ko\">한국어</option><option value=\"ja\">日本語</option><option value=\"zh-CN\">简体中文</option><option value=\"zh-TW\">繁體中文</option><option value=\"zh-HK\">繁體中文 (香港)</option></select><input name=\"oldhl\" type=\"hidden\" value=\"es\"/><input name=\"gl\" type=\"hidden\" value=\"ES\"/><input name=\"m\" type=\"hidden\" value=\"0\"/><input name=\"pc\" type=\"hidden\" value=\"srp\"/><input name=\"continue\" type=\"hidden\" value=\"https://www.google.com/search?q=https://www.google.com/search?q=stackoverflow.comTypeError%3A+uniform%28%29+got+an+unexpected+keyword+argument+%27siz%27\"/><input name=\"src\" type=\"hidden\" value=\"1\"/><input type=\"submit\" value=\"Cómo cambiar de idioma\"/></form><a href=\"https://policies.google.com/privacy?hl=es&amp;utm_source=ucb\">Política de Privacidad</a> <a href=\"https://policies.google.com/terms?hl=es&amp;utm_source=ucb\">Términos del Servicio</a></div></body></html>"
      ]
     },
     "execution_count": 103,
     "metadata": {},
     "output_type": "execute_result"
    }
   ],
   "source": [
    "soup"
   ]
  },
  {
   "cell_type": "code",
   "execution_count": null,
   "id": "bd7dca1f-dccb-48f1-bf6f-2256806b347d",
   "metadata": {},
   "outputs": [],
   "source": []
  }
 ],
 "metadata": {
  "kernelspec": {
   "display_name": "Python 3 (ipykernel)",
   "language": "python",
   "name": "python3"
  },
  "language_info": {
   "codemirror_mode": {
    "name": "ipython",
    "version": 3
   },
   "file_extension": ".py",
   "mimetype": "text/x-python",
   "name": "python",
   "nbconvert_exporter": "python",
   "pygments_lexer": "ipython3",
   "version": "3.10.8"
  }
 },
 "nbformat": 4,
 "nbformat_minor": 5
}
