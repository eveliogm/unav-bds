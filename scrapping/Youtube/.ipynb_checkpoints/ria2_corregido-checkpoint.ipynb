{
 "cells": [
  {
   "cell_type": "code",
   "execution_count": 1,
   "metadata": {},
   "outputs": [],
   "source": [
    "#Importing all needed libraries\n",
    "from selenium import webdriver\n",
    "import time\n",
    "import os\n",
    "import time\n",
    "import requests\n",
    "from pprint import pprint\n",
    "from bs4 import BeautifulSoup\n",
    "import pandas as pd\n",
    "\n",
    "import json\n",
    "from lxml import html\n",
    "import re\n",
    "import csv\n",
    "import numpy as np\n",
    "\n",
    "from selenium import webdriver\n",
    "from selenium.webdriver.common.action_chains import ActionChains\n",
    "from selenium.webdriver.remote.webelement import WebElement\n",
    "from selenium.webdriver.common.by import By\n",
    "from selenium.webdriver.common.keys import Keys\n",
    "from selenium.webdriver.support import expected_conditions as EC\n",
    "from selenium.webdriver.support.ui import WebDriverWait\n",
    "from selenium.common.exceptions import (\n",
    "    NoSuchElementException,\n",
    "    TimeoutException,\n",
    "    WebDriverException,\n",
    "    )"
   ]
  },
  {
   "cell_type": "code",
   "execution_count": 9,
   "metadata": {},
   "outputs": [
    {
     "name": "stderr",
     "output_type": "stream",
     "text": [
      "C:\\Users\\ics\\Anaconda3\\lib\\site-packages\\ipykernel_launcher.py:22: DeprecationWarning: use options instead of chrome_options\n"
     ]
    }
   ],
   "source": [
    "WAIT_TIME = 10\n",
    "\n",
    "# Chrome driver should be in\n",
    "executable_path=os.path.join('C:/Program Files (x86)/Google/Chrome/Application/chromedriver')\n",
    "\n",
    "options = webdriver.ChromeOptions()\n",
    "options.add_argument('--ignore-certificate-errors')\n",
    "options.add_argument('--disable-notifications')\n",
    "\n",
    "# 1-Allow, 2-Block, 0-default\n",
    "preferences = {\n",
    "    \"profile.default_content_setting_values.notifications\" : 2,\n",
    "    \"profile.default_content_setting_values.location\": 2,\n",
    "    # We don't need images, only the URLs.\n",
    "    \"profile.managed_default_content_settings.images\": 2,\n",
    "    }\n",
    "options.add_experimental_option(\"prefs\", preferences)\n",
    "\n",
    "\n",
    "driver = webdriver.Chrome(\n",
    "    executable_path=executable_path,\n",
    "    chrome_options=options,\n",
    "    )\n",
    "driver.wait = WebDriverWait(driver, WAIT_TIME)"
   ]
  },
  {
   "cell_type": "code",
   "execution_count": 10,
   "metadata": {},
   "outputs": [],
   "source": [
    "def ria_login(driver):\n",
    "    \"\"\"\n",
    "    Login to facebook using username and password.\n",
    "    \"\"\"\n",
    "    driver.get('https://fxonline.riaenvia.net/Pages/Default.aspx')\n",
    "    usr = driver.find_element_by_name(\"UserNameTextBox\")\n",
    "    usr.send_keys(USERNAME)\n",
    "    password = driver.find_element_by_name(\"UserPasswordTextBox\")\n",
    "    password.send_keys(PASSWORD)\n",
    "    agent = driver.find_element_by_name(\"AgentNumberTextBox\")\n",
    "    agent.send_keys(AGENT)\n",
    "    #raw_input(\"Confirm that you authenticated with the right user.\\n\"\n",
    "    #          \"Check no browser popups are there.\")\n",
    "    \n",
    "    password.send_keys(Keys.RETURN)\n"
   ]
  },
  {
   "cell_type": "code",
   "execution_count": 11,
   "metadata": {},
   "outputs": [],
   "source": [
    "USERNAME = 'NOREEN002'\n",
    "PASSWORD = 'Anwar0121'\n",
    "AGENT = 'ES21753'"
   ]
  },
  {
   "cell_type": "code",
   "execution_count": 12,
   "metadata": {},
   "outputs": [],
   "source": [
    "ria_login(driver)"
   ]
  },
  {
   "cell_type": "code",
   "execution_count": null,
   "metadata": {},
   "outputs": [],
   "source": []
  }
 ],
 "metadata": {
  "kernelspec": {
   "display_name": "Python 3",
   "language": "python",
   "name": "python3"
  },
  "language_info": {
   "codemirror_mode": {
    "name": "ipython",
    "version": 3
   },
   "file_extension": ".py",
   "mimetype": "text/x-python",
   "name": "python",
   "nbconvert_exporter": "python",
   "pygments_lexer": "ipython3",
   "version": "3.7.4"
  }
 },
 "nbformat": 4,
 "nbformat_minor": 2
}
