{
 "cells": [
  {
   "cell_type": "markdown",
   "metadata": {
    "deletable": false,
    "editable": false
   },
   "source": [
    "<img src=\"images\\logo_datai.png\" width=\"400\" img style=\"float: right;\"> \n",
    "\n",
    "https://www.unav.edu/web/instituto-de-ciencia-de-los-datos-e-inteligencia-artificial<br>\n",
    "Author: Pablo Urruchi Mohino"
   ]
  },
  {
   "cell_type": "markdown",
   "metadata": {
    "tags": []
   },
   "source": [
    "## Extract Tweets into xlsx"
   ]
  },
  {
   "cell_type": "markdown",
   "metadata": {
    "tags": []
   },
   "source": [
    "https://www.programcreek.com/python/example/76301/tweepy.Cursor"
   ]
  },
  {
   "cell_type": "code",
   "execution_count": 3,
   "metadata": {},
   "outputs": [],
   "source": [
    "import tweepy\n",
    "import csv\n",
    "from csv import writer\n",
    "\n",
    "#!/usr/bin/python\n",
    "from tweepy import StreamingClient, OAuthHandler\n",
    "\n",
    "\n",
    "#cambiar a listener en lugar de setramlistener. due to tweepy version\n",
    "\n",
    "#from progressbar import ProgressBar, Percentage, Bar #pip install progressbar2\n",
    "import json\n",
    "import sys\n",
    "import time\n",
    "import datetime\n",
    "#import math\n",
    "#from IPython.html.widgets import FloatProgress\n",
    "#from IPython.display import display\n",
    "\n",
    "#Twitter app information\n",
    "# import twitter_keys\n",
    "# consumer_secret, consumer_key, access_token, access_token_secret = twitter_keys.get_twitter_keys()"
   ]
  },
  {
   "cell_type": "code",
   "execution_count": 4,
   "metadata": {},
   "outputs": [
    {
     "data": {
      "text/plain": [
       "'4.12.1'"
      ]
     },
     "execution_count": 4,
     "metadata": {},
     "output_type": "execute_result"
    }
   ],
   "source": [
    "tweepy.__version__"
   ]
  },
  {
   "cell_type": "code",
   "execution_count": 5,
   "metadata": {},
   "outputs": [],
   "source": [
    "#Twitter app information\n",
    "consumer_key= 'HZMc5VHyqnuiDepVZt8W9z1vW'\n",
    "consumer_secret = 'sg3KBBI1Mi5KFYbaia4jDPCCXys9C9v32E2jUG8aUGf3Oe5ZvQ'\n",
    "access_token = '2611396311-UaJYBooYfRZp0ngW6M6AljjZ1z38hCkJg9ILvvM'\n",
    "access_token_secret = 'Bwa6t5ulQuugmVN7mHwtd1TAieTs3xlnujxQ6tfJ8l79I'\n",
    "bearer_token = \"AAAAAAAAAAAAAAAAAAAAAMfrjgEAAAAAZgF4KJC8t4znThmxA8uimtj8Ktc%3Dj6qezOPncyaFTkl667OMKRW1jfacqFPmdl8EuLShyg2UuunD4X\"\n"
   ]
  },
  {
   "cell_type": "markdown",
   "metadata": {},
   "source": [
    "## Parameters"
   ]
  },
  {
   "cell_type": "code",
   "execution_count": 6,
   "metadata": {},
   "outputs": [
    {
     "name": "stdout",
     "output_type": "stream",
     "text": [
      "francia\n"
     ]
    }
   ],
   "source": [
    "data_track = ['francia', 'Francia', 'Mundial', 'Mbappe','mundial']\n",
    "# languages = ['es','fr']\n",
    "#The number of tweets we want to get\n",
    "max_tweets = 10\n",
    "#hours\n",
    "timeout = 10\n",
    "data_storage = data_track[0]\n",
    "\n",
    "print (data_storage)"
   ]
  },
  {
   "cell_type": "code",
   "execution_count": 7,
   "metadata": {},
   "outputs": [
    {
     "data": {
      "text/plain": [
       "'francia2022-12-16 192417.csv'"
      ]
     },
     "execution_count": 7,
     "metadata": {},
     "output_type": "execute_result"
    }
   ],
   "source": [
    "st = datetime.datetime.fromtimestamp(time.time()).strftime('%Y-%m-%d %H%M%S')\n",
    "file_name = data_storage + st + '.csv'\n",
    "file_name"
   ]
  },
  {
   "cell_type": "code",
   "execution_count": 8,
   "metadata": {},
   "outputs": [],
   "source": [
    "timeout = 1 * 60 * timeout\n",
    "timeout = time.time() + timeout\n",
    "#file_load = FloatProgress(min=0, max=100)"
   ]
  },
  {
   "cell_type": "markdown",
   "metadata": {},
   "source": [
    "## Connection"
   ]
  },
  {
   "cell_type": "code",
   "execution_count": 9,
   "metadata": {},
   "outputs": [],
   "source": [
    "#Get the OAuth token\n",
    "# auth = OAuthHandler(consumer_key, consumer_secret)\n",
    "# auth.set_access_token(access_token, access_token_secret)\n",
    "# api = tweepy.API(auth)\n",
    "# api\n",
    "\n",
    "auth = [consumer_key, consumer_secret,access_token, access_token_secret]"
   ]
  },
  {
   "cell_type": "markdown",
   "metadata": {},
   "source": [
    "## Started at"
   ]
  },
  {
   "cell_type": "code",
   "execution_count": 10,
   "metadata": {},
   "outputs": [
    {
     "data": {
      "text/plain": [
       "'Fri Dec 16 18:24:19  2022'"
      ]
     },
     "execution_count": 10,
     "metadata": {},
     "output_type": "execute_result"
    }
   ],
   "source": [
    "datetime.datetime.utcnow().strftime(\"%a %b %d %H:%M:%S %Z %Y\")"
   ]
  },
  {
   "cell_type": "markdown",
   "metadata": {},
   "source": [
    "## Current file loading progress"
   ]
  },
  {
   "cell_type": "code",
   "execution_count": 11,
   "metadata": {},
   "outputs": [],
   "source": [
    "def and_tag(value,tag):\n",
    "    return f' {tag}:{value}'"
   ]
  },
  {
   "cell_type": "code",
   "execution_count": 12,
   "metadata": {},
   "outputs": [],
   "source": [
    "#Create the listener class that receives and saves tweets\n",
    "class listener(StreamingClient):\n",
    "    __num_tweets = 0.0\n",
    "    __max_tweets = 10\n",
    "    #On init, set the counter to zero and create a progress bar\n",
    "#     def __init__(self, api=None):\n",
    "#         self.num_tweets = 0.0\n",
    "#         #self.pbar = ProgressBar(widgets=[Percentage(), Bar()], maxval=max_tweets).start()\n",
    "        \n",
    "    #When data is received, do this\n",
    "    def on_data(self, data):\n",
    "        #Append the tweet to the 'tweets.txt' file        \n",
    "        #with open(file_name, 'a') as tweet_file:\n",
    "        with open(file_name, 'a', newline='', encoding='utf-8') as tweet_file:\n",
    "            \n",
    "            csv = writer(tweet_file, lineterminator = '\\n')\n",
    "            #c = csv.writer(open(\"Myfile.csv\", 'w',  newline='', encoding='utf-8'))\n",
    "            while self.__num_tweets < max_tweets:               \n",
    "                tweet = json.loads(data)\n",
    "                print(data)\n",
    "                # print(data)\n",
    "                # disable this line once your testing is done\n",
    "                values = []\n",
    "                # Pull out as any fields as you can. Examples given in the below\n",
    "                if self.__num_tweets == 0:\n",
    "                    values = []\n",
    "                    for key in tweet:\n",
    "                        if type(tweet[key]) in ['dict','list'] and len(tweet[key]) > 1:\n",
    "                            for key_2 in tweet[key]:\n",
    "                                values.append( key+key_2)\n",
    "                        else:\n",
    "                            values.append(key)\n",
    "                    csv.writerow(values)\n",
    "                \n",
    "                values = []    \n",
    "                for key in tweet:\n",
    "                    if type(tweet[key]) in ['dict','list'] and len(tweet[key]) > 1:\n",
    "                        for key_2 in tweet[key]:\n",
    "                            values.append( tweet[key][key_2])\n",
    "                    else:\n",
    "                        values.append(tweet[key])\n",
    "                \n",
    "                csv.writerow(values)\n",
    "                self.__num_tweets += 1\n",
    "                if self.__num_tweets == max_tweets:\n",
    "                    #file_load.value = 0\n",
    "                    tweet_file.close()\n",
    "                    return False\n",
    "                else: \n",
    "                    #end loop, maximum reached\n",
    "                    return True\n",
    "        #return False\n",
    "    #Handle any errors that may occur\n",
    "    def on_error(self, status):\n",
    "        print (status)\n"
   ]
  },
  {
   "cell_type": "markdown",
   "metadata": {},
   "source": [
    "### 1. Make this API request to be specificaly pulling data in Spanish language"
   ]
  },
  {
   "cell_type": "code",
   "execution_count": null,
   "metadata": {
    "scrolled": true
   },
   "outputs": [
    {
     "name": "stdout",
     "output_type": "stream",
     "text": [
      "b'{\"data\":{\"author_id\":\"1602479194826452992\",\"edit_history_tweet_ids\":[\"1603818729556803584\"],\"geo\":{},\"id\":\"1603818729556803584\",\"text\":\"Una de mis playlist es el soundtrack de la casa de las flores\"},\"includes\":{\"users\":[{\"id\":\"1602479194826452992\",\"name\":\"su madre\",\"username\":\"ikipiuqaj\"}]},\"matching_rules\":[{\"id\":\"1603158427479539712\",\"tag\":\"lang\"}]}'\n",
      "b'{\"data\":{\"author_id\":\"1141009177\",\"edit_history_tweet_ids\":[\"1603818731062169600\"],\"geo\":{},\"id\":\"1603818731062169600\",\"text\":\"@pedropcelis Es increible, vaya sinverguenza.\"},\"includes\":{\"users\":[{\"id\":\"1141009177\",\"name\":\"jldiasahun\",\"username\":\"patuspatus\"},{\"id\":\"1458192955\",\"name\":\"Pedro Pineda Celis\",\"username\":\"pedropcelis\"}]},\"matching_rules\":[{\"id\":\"1603158427479539712\",\"tag\":\"lang\"}]}'\n",
      "b'{\"data\":{\"author_id\":\"1570478605838290945\",\"edit_history_tweet_ids\":[\"1603818729191616513\"],\"geo\":{},\"id\":\"1603818729191616513\",\"text\":\"RT @IndirectasRock: Un dpto, un t\\xc3\\xadtulo, un auto y un perro ese es mi sue\\xc3\\xb1o.\"},\"includes\":{\"users\":[{\"id\":\"1570478605838290945\",\"name\":\"Micaela Santos\",\"username\":\"Micaela63S\"},{\"id\":\"2210865044\",\"name\":\"I N D I R E C T A S\",\"username\":\"IndirectasRock\"}]},\"matching_rules\":[{\"id\":\"1603158427479539712\",\"tag\":\"lang\"}]}'\n",
      "b'{\"data\":{\"author_id\":\"137532573\",\"edit_history_tweet_ids\":[\"1603818731037229062\"],\"geo\":{},\"id\":\"1603818731037229062\",\"text\":\"@SoyAdriFlores Juan guaido\"},\"includes\":{\"users\":[{\"id\":\"137532573\",\"name\":\"jairo galindez\",\"username\":\"maracaibobig\"},{\"id\":\"92007699\",\"name\":\"Adriana Flores\",\"username\":\"SoyAdriFlores\"}]},\"matching_rules\":[{\"id\":\"1603158427479539712\",\"tag\":\"lang\"}]}'\n",
      "b'{\"data\":{\"author_id\":\"258921593\",\"edit_history_tweet_ids\":[\"1603818730944962561\"],\"geo\":{},\"id\":\"1603818730944962561\",\"text\":\"RT @jgodoym: Por cierto, en @ensustrece Felix Chero revela que Castillo quer\\xc3\\xada indultar a Alberto Fujimori y si no se hizo es porque el s\\xc3\\xa1t\\xe2\\x80\\xa6\"},\"includes\":{\"users\":[{\"id\":\"258921593\",\"name\":\"Kevin Zavaleta Ch.\",\"username\":\"KevinZavCh\"},{\"id\":\"5418002\",\"name\":\"Jose Alejandro Godoy\",\"username\":\"jgodoym\"},{\"id\":\"124843312\",\"name\":\"Semanario Hildebrandt en sus trece\",\"username\":\"ensustrece\"}]},\"matching_rules\":[{\"id\":\"1603158427479539712\",\"tag\":\"lang\"}]}'\n",
      "b'{\"data\":{\"author_id\":\"343483008\",\"edit_history_tweet_ids\":[\"1603818732014501890\"],\"geo\":{},\"id\":\"1603818732014501890\",\"text\":\"This is click bait smh https://t.co/prxeBlbMDE\"},\"includes\":{\"users\":[{\"id\":\"343483008\",\"name\":\"Sir Franco\",\"username\":\"DFranco214\"},{\"id\":\"18091004\",\"name\":\"ESPN FC\",\"username\":\"ESPNFC\"}]},\"matching_rules\":[{\"id\":\"1603160750108938240\",\"tag\":\"\"}]}'\n",
      "b'{\"data\":{\"author_id\":\"1226077020947394561\",\"edit_history_tweet_ids\":[\"1603818730483482632\"],\"geo\":{},\"id\":\"1603818730483482632\",\"text\":\"RT @Bruna_Annika: \\xf0\\x9f\\x96\\x8bAlors que l\\xe2\\x80\\x99interdiction totale du broyage et du gazage des poussins m\\xc3\\xa2les \\xc3\\xa9tait pr\\xc3\\xa9vue au 1er janvier 2023, un arr\\xc3\\xaat\\xc3\\xa9 p\\xe2\\x80\\xa6\"},\"includes\":{\"users\":[{\"id\":\"1226077020947394561\",\"name\":\"La Reine de Coeur\",\"username\":\"LaReinedeCoeur2\"},{\"id\":\"1181640265464983552\",\"name\":\"Annika Bruna\",\"username\":\"Bruna_Annika\"}]},\"matching_rules\":[{\"id\":\"1603160765216743425\",\"tag\":\"lang\"}]}'\n",
      "b'{\"data\":{\"author_id\":\"1574444653079928833\",\"edit_history_tweet_ids\":[\"1603818730886160384\"],\"geo\":{},\"id\":\"1603818730886160384\",\"text\":\"RT @OpinionLSR: Es necesario que gente como Alejandro Moreno (Alito) sea desterrado por su alto cinismo como pol\\xc3\\xadtico, al revelarse su form\\xe2\\x80\\xa6\"},\"includes\":{\"users\":[{\"id\":\"1574444653079928833\",\"name\":\"Marianne Prado\",\"username\":\"MariannePrado9\"},{\"id\":\"4916960534\",\"name\":\"Opini\\xc3\\xb3n La Silla Rota\",\"username\":\"OpinionLSR\"}]},\"matching_rules\":[{\"id\":\"1603158427479539712\",\"tag\":\"lang\"}]}'\n",
      "b'{\"data\":{\"author_id\":\"1316229136009113602\",\"edit_history_tweet_ids\":[\"1603818727858114560\"],\"geo\":{},\"id\":\"1603818727858114560\",\"text\":\"@Abraham_A18 @fierita1978 @5zambranocz Jaja celebras un partido q no t t di\\xc3\\xb3 nada en mi cancha? Jajajaja no digo q eres chiquito pa tener un partido q no t dio nada jajajaja yo te gane en tu watutero y no hice escandalo bidescendido, bueno eso no es novedad jajaja solo tu pap\\xc3\\xa1 puede dar la vuelta en la cancha del otro https://t.co/vT9b2DTWo1\"},\"includes\":{\"users\":[{\"id\":\"1316229136009113602\",\"name\":\"Zacarias\",\"username\":\"RProano\"},{\"id\":\"1969904070\",\"name\":\"Abraham\",\"username\":\"Abraham_A18\"},{\"id\":\"1055491257336823810\",\"name\":\"Renato Sergio A\\xc3\\xb1acata Castillo\",\"username\":\"fierita1978\"},{\"id\":\"934252460\",\"name\":\"Carlos Zambrano\",\"username\":\"5zambranocz\"}]},\"matching_rules\":[{\"id\":\"1603158427479539712\",\"tag\":\"lang\"}]}'\n",
      "b'{\"data\":{\"author_id\":\"1443222604110868487\",\"edit_history_tweet_ids\":[\"1603818729401626624\"],\"geo\":{},\"id\":\"1603818729401626624\",\"text\":\"Jouez et tentez de gagner une tablette Apple iPad 9 en participant au jeu concours Rakuten https://t.co/AHjDw9qvS2\"},\"includes\":{\"users\":[{\"id\":\"1443222604110868487\",\"name\":\"Chevallereau Isabelle\",\"username\":\"isabelledu17\"}]},\"matching_rules\":[{\"id\":\"1603160765216743425\",\"tag\":\"lang\"}]}'\n"
     ]
    }
   ],
   "source": [
    "st = datetime.datetime.fromtimestamp(time.time()).strftime('%Y-%m-%d %H%M%S')\n",
    "file_name = data_storage + st + '.csv'\n",
    "while time.time() < timeout:\n",
    "    #Prevent error 420: Connection overlap\n",
    "    time.sleep(2)\n",
    "    #Use the listener class for stream processing\n",
    "    twitterStream = listener(bearer_token)\n",
    "    rules = []\n",
    "    for track in data_track:\n",
    "        rules.append(f'\"{track}\"')\n",
    "    rules = ' OR '.join(rules)\n",
    "\n",
    "    rules = rules + and_tag('es','lang')\n",
    "        \n",
    "    twitterStream.add_rules(tweepy.StreamRule(rules))\n",
    "        # twitterStream.add_rules(tweepy.StreamRule(track, tag = 'text')\n",
    "    # for lang in languages:\n",
    "    #     twitterStream.add_rules(tweepy.StreamRule(value=lang,tag='lang'))\n",
    "\n",
    "    #Filter for these topics\n",
    "    twitterStream.filter(expansions = [\"geo.place_id\",\"author_id\"],place_fields = [\"geo\",\"country\"])\n",
    "    if time.time() >= timeout:\n",
    "        print ('close')\n",
    "        #break"
   ]
  },
  {
   "cell_type": "markdown",
   "metadata": {},
   "source": [
    "### 2. Make this API request to be specificaly targeting a region (Spain)."
   ]
  },
  {
   "cell_type": "code",
   "execution_count": null,
   "metadata": {},
   "outputs": [],
   "source": []
  }
 ],
 "metadata": {
  "kernelspec": {
   "display_name": "Python 3 (ipykernel)",
   "language": "python",
   "name": "python3"
  },
  "language_info": {
   "codemirror_mode": {
    "name": "ipython",
    "version": 3
   },
   "file_extension": ".py",
   "mimetype": "text/x-python",
   "name": "python",
   "nbconvert_exporter": "python",
   "pygments_lexer": "ipython3",
   "version": "3.10.8"
  }
 },
 "nbformat": 4,
 "nbformat_minor": 4
}
