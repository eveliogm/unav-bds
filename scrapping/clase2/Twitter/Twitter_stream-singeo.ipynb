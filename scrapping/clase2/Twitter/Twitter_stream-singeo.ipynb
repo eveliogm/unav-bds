{
 "cells": [
  {
   "cell_type": "markdown",
   "metadata": {
    "deletable": false,
    "editable": false
   },
   "source": [
    "<img src=\"images\\logo_datai.png\" width=\"400\" img style=\"float: right;\"> \n",
    "\n",
    "https://www.unav.edu/web/instituto-de-ciencia-de-los-datos-e-inteligencia-artificial<br>\n",
    "Author: Pablo Urruchi Mohino"
   ]
  },
  {
   "cell_type": "markdown",
   "metadata": {},
   "source": [
    "## Extract Tweets into xlsx"
   ]
  },
  {
   "cell_type": "markdown",
   "metadata": {},
   "source": [
    "https://www.programcreek.com/python/example/76301/tweepy.Cursor"
   ]
  },
  {
   "cell_type": "code",
   "execution_count": 1,
   "metadata": {},
   "outputs": [],
   "source": [
    "import tweepy\n",
    "import csv\n",
    "from csv import writer\n",
    "\n",
    "#!/usr/bin/python\n",
    "from tweepy import StreamingClient, OAuthHandler\n",
    "\n",
    "\n",
    "#cambiar a listener en lugar de setramlistener. due to tweepy version\n",
    "\n",
    "#from progressbar import ProgressBar, Percentage, Bar #pip install progressbar2\n",
    "import json\n",
    "import sys\n",
    "import time\n",
    "import datetime\n",
    "#import math\n",
    "#from IPython.html.widgets import FloatProgress\n",
    "#from IPython.display import display\n",
    "\n",
    "#Twitter app information\n",
    "# import twitter_keys\n",
    "# consumer_secret, consumer_key, access_token, access_token_secret = twitter_keys.get_twitter_keys()"
   ]
  },
  {
   "cell_type": "code",
   "execution_count": 2,
   "metadata": {},
   "outputs": [
    {
     "data": {
      "text/plain": [
       "'4.12.1'"
      ]
     },
     "execution_count": 2,
     "metadata": {},
     "output_type": "execute_result"
    }
   ],
   "source": [
    "tweepy.__version__"
   ]
  },
  {
   "cell_type": "code",
   "execution_count": 3,
   "metadata": {},
   "outputs": [],
   "source": [
    "#Twitter app information\n",
    "consumer_key= ''\n",
    "consumer_secret = ''\n",
    "access_token = ''\n",
    "access_token_secret = ''\n",
    "bearer_token = \"\"\n"
   ]
  },
  {
   "cell_type": "markdown",
   "metadata": {},
   "source": [
    "## Parameters"
   ]
  },
  {
   "cell_type": "code",
   "execution_count": 4,
   "metadata": {},
   "outputs": [
    {
     "name": "stdout",
     "output_type": "stream",
     "text": [
      "francia\n"
     ]
    }
   ],
   "source": [
    "data_track = ['francia', 'Francia', 'Mundial', 'Mbappe','mundial']\n",
    "languages = ['es','fr']\n",
    "#The number of tweets we want to get\n",
    "max_tweets = 10\n",
    "#hours\n",
    "timeout = 10\n",
    "data_storage = data_track[0]\n",
    "\n",
    "print (data_storage)"
   ]
  },
  {
   "cell_type": "code",
   "execution_count": 5,
   "metadata": {},
   "outputs": [
    {
     "data": {
      "text/plain": [
       "'francia2022-12-15 012242.csv'"
      ]
     },
     "execution_count": 5,
     "metadata": {},
     "output_type": "execute_result"
    }
   ],
   "source": [
    "st = datetime.datetime.fromtimestamp(time.time()).strftime('%Y-%m-%d %H%M%S')\n",
    "file_name = data_storage + st + '.csv'\n",
    "file_name"
   ]
  },
  {
   "cell_type": "code",
   "execution_count": 6,
   "metadata": {},
   "outputs": [],
   "source": [
    "timeout = 1 * 60 * timeout\n",
    "timeout = time.time() + timeout\n",
    "#file_load = FloatProgress(min=0, max=100)"
   ]
  },
  {
   "cell_type": "markdown",
   "metadata": {},
   "source": [
    "## Connection"
   ]
  },
  {
   "cell_type": "code",
   "execution_count": 7,
   "metadata": {},
   "outputs": [],
   "source": [
    "#Get the OAuth token\n",
    "# auth = OAuthHandler(consumer_key, consumer_secret)\n",
    "# auth.set_access_token(access_token, access_token_secret)\n",
    "# api = tweepy.API(auth)\n",
    "# api\n",
    "\n",
    "auth = [consumer_key, consumer_secret,access_token, access_token_secret]"
   ]
  },
  {
   "cell_type": "markdown",
   "metadata": {},
   "source": [
    "## Started at"
   ]
  },
  {
   "cell_type": "code",
   "execution_count": 8,
   "metadata": {},
   "outputs": [
    {
     "data": {
      "text/plain": [
       "'Thu Dec 15 00:22:43  2022'"
      ]
     },
     "execution_count": 8,
     "metadata": {},
     "output_type": "execute_result"
    }
   ],
   "source": [
    "datetime.datetime.utcnow().strftime(\"%a %b %d %H:%M:%S %Z %Y\")"
   ]
  },
  {
   "cell_type": "markdown",
   "metadata": {},
   "source": [
    "## Current file loading progress"
   ]
  },
  {
   "cell_type": "code",
   "execution_count": 10,
   "metadata": {},
   "outputs": [],
   "source": [
    "#Create the listener class that receives and saves tweets\n",
    "class listener(StreamingClient):\n",
    "    __num_tweets = 0.0\n",
    "    __max_tweets = 10\n",
    "    #On init, set the counter to zero and create a progress bar\n",
    "#     def __init__(self, api=None):\n",
    "#         self.num_tweets = 0.0\n",
    "#         #self.pbar = ProgressBar(widgets=[Percentage(), Bar()], maxval=max_tweets).start()\n",
    "        \n",
    "    #When data is received, do this\n",
    "    def on_data(self, data):\n",
    "        #Append the tweet to the 'tweets.txt' file        \n",
    "        #with open(file_name, 'a') as tweet_file:\n",
    "        with open(file_name, 'a', newline='', encoding='utf-8') as tweet_file:\n",
    "            \n",
    "            csv = writer(tweet_file, lineterminator = '\\n')\n",
    "            #c = csv.writer(open(\"Myfile.csv\", 'w',  newline='', encoding='utf-8'))\n",
    "            while self.__num_tweets < max_tweets:               \n",
    "                tweet = json.loads(data)\n",
    "                print(data)\n",
    "                # print(data)\n",
    "                # disable this line once your testing is done\n",
    "                values = []\n",
    "                # Pull out as any fields as you can. Examples given in the below\n",
    "                if self.__num_tweets == 0:\n",
    "                    values = []\n",
    "                    for key in tweet:\n",
    "                        if type(tweet[key]) in ['dict','list'] and len(tweet[key]) > 1:\n",
    "                            for key_2 in tweet[key]:\n",
    "                                values.append( key+key_2)\n",
    "                        else:\n",
    "                            values.append(key)\n",
    "                    csv.writerow(values)\n",
    "                \n",
    "                values = []    \n",
    "                #  RELLENAR CON EL MATCH DE VALUES \n",
    "                #\n",
    "                # Sin esto no guardad nada \n",
    "                #\n",
    "                csv.writerow(values)\n",
    "                self.__num_tweets += 1\n",
    "                if self.__num_tweets == max_tweets:\n",
    "                    #file_load.value = 0\n",
    "                    tweet_file.close()\n",
    "                    return False\n",
    "                else: \n",
    "                    #end loop, maximum reached\n",
    "                    return True\n",
    "        #return False\n",
    "    #Handle any errors that may occur\n",
    "    def on_error(self, status):\n",
    "        print (status)\n"
   ]
  },
  {
   "cell_type": "code",
   "execution_count": 13,
   "metadata": {
    "scrolled": true
   },
   "outputs": [
    {
     "name": "stdout",
     "output_type": "stream",
     "text": [
      "b'{\"data\":{\"author_id\":\"967154468\",\"edit_history_tweet_ids\":[\"1603184696787369984\"],\"geo\":{},\"id\":\"1603184696787369984\",\"text\":\"RT @rodrigo_sciutto: \\xe2\\x9d\\x8cNO AUTORIZO\\xe2\\x9d\\x8c\\\\n\\\\n\\xe2\\x9d\\x8cNO AUTORIZO A QUE FRANCIA GANE LA FINAL DEL MUNDIAL \\xe2\\x9d\\x8c\\\\n\\\\nCOMPARTE EN TU MURO SI NO AUTORIZAS\"},\"includes\":{\"users\":[{\"id\":\"967154468\",\"name\":\"franco\",\"username\":\"FrancoVeliz_\"},{\"id\":\"810911002560724992\",\"name\":\"siu.uto\",\"username\":\"rodrigo_sciutto\"}]},\"matching_rules\":[{\"id\":\"1603160755783827468\",\"tag\":\"\"},{\"id\":\"1603156582275194881\",\"tag\":\"\"},{\"id\":\"1603160739908407299\",\"tag\":\"\"},{\"id\":\"1603160744962424832\",\"tag\":\"\"}]}'\n",
      "b'{\"data\":{\"author_id\":\"707358727817588736\",\"edit_history_tweet_ids\":[\"1603184695356919809\"],\"geo\":{},\"id\":\"1603184695356919809\",\"text\":\"@AlvaroUribeVel Lo que sugiere es que el ministro debe ir contra el plan nacional y realizar lo que el desee sin que ello contribuya al bienestar del pa\\xc3\\xads. Ok, cada vez m\\xc3\\xa1s cerca de un golpe de estado. Ahora, me imagino que sus ministros realizaron lo que sus palabras sugieren, \\xc2\\xbfCierto?\"},\"includes\":{\"users\":[{\"id\":\"707358727817588736\",\"name\":\"Cesar P\",\"username\":\"cgparamoa\"},{\"id\":\"61097151\",\"name\":\"\\xc3\\x81lvaro Uribe V\\xc3\\xa9lez\",\"username\":\"AlvaroUribeVel\"}]},\"matching_rules\":[{\"id\":\"1603158427479539712\",\"tag\":\"lang\"}]}'\n",
      "b'{\"data\":{\"author_id\":\"1554209341347078144\",\"edit_history_tweet_ids\":[\"1603184694404984832\"],\"geo\":{},\"id\":\"1603184694404984832\",\"text\":\"@the_marcoli_boy He did not nothing\"},\"includes\":{\"users\":[{\"id\":\"1554209341347078144\",\"name\":\"zama34\",\"username\":\"zama344\"},{\"id\":\"1267067442884481027\",\"name\":\"Twilight\",\"username\":\"the_marcoli_boy\"}]},\"matching_rules\":[{\"id\":\"1603160750108938240\",\"tag\":\"\"}]}'\n",
      "b'{\"data\":{\"author_id\":\"1417709275577831430\",\"edit_history_tweet_ids\":[\"1603184696883838977\"],\"geo\":{},\"id\":\"1603184696883838977\",\"text\":\"vuelve nahueeel y todo es FELICIDATTTTT\"},\"includes\":{\"users\":[{\"id\":\"1417709275577831430\",\"name\":\"\\xf0\\x9d\\x91\\xb7\\xf0\\x9d\\x92\\x82\\xf0\\x9d\\x92\\x96\\xf0\\x9d\\x92\\x8d\\xf0\\x9d\\x92\\x8a\",\"username\":\"oortegapau\"}]},\"matching_rules\":[{\"id\":\"1603158427479539712\",\"tag\":\"lang\"}]}'\n",
      "b'{\"data\":{\"author_id\":\"968480128996200451\",\"edit_history_tweet_ids\":[\"1603184694790881280\"],\"geo\":{},\"id\":\"1603184694790881280\",\"text\":\"RT @PatoBullrich: Presidente: la raz\\xc3\\xb3n de la decadencia argentina se explica por su brutal negaci\\xc3\\xb3n de la realidad. Perdi\\xc3\\xb3 la oportunidad y\\xe2\\x80\\xa6\"},\"includes\":{\"users\":[{\"id\":\"968480128996200451\",\"name\":\"Mar\\xc3\\xada Moreno\",\"username\":\"MaraMor29938090\"},{\"id\":\"54414081\",\"name\":\"Patricia Bullrich\",\"username\":\"PatoBullrich\"}]},\"matching_rules\":[{\"id\":\"1603158427479539712\",\"tag\":\"lang\"}]}'\n",
      "b'{\"data\":{\"author_id\":\"1592456705643876357\",\"edit_history_tweet_ids\":[\"1603184693939429376\"],\"geo\":{},\"id\":\"1603184693939429376\",\"text\":\"Bsffr, be so fucking fr https://t.co/FGvEI5cDXI\"},\"includes\":{\"users\":[{\"id\":\"1592456705643876357\",\"name\":\"Aaron\",\"username\":\"Uhtonical\"},{\"id\":\"1506953160266752011\",\"name\":\"Invis\\xf0\\x9f\\x8d\\x92\",\"username\":\"invis4yo\"}]},\"matching_rules\":[{\"id\":\"1603160765216743425\",\"tag\":\"lang\"}]}'\n",
      "b'{\"data\":{\"author_id\":\"1522118654149947392\",\"edit_history_tweet_ids\":[\"1603184695675699202\"],\"geo\":{},\"id\":\"1603184695675699202\",\"text\":\"@RND_de Laiengedanke: K\\xc3\\xb6nnte es eventuell mit einem kaputten Immunsystem nach drei Jahren Null COVID zu tun haben???\"},\"includes\":{\"users\":[{\"id\":\"1522118654149947392\",\"name\":\"Das Ding aus einer anderen Welt\",\"username\":\"Le_urig\"},{\"id\":\"2885573171\",\"name\":\"RND\",\"username\":\"RND_de\"}]},\"matching_rules\":[{\"id\":\"1603158427479539712\",\"tag\":\"lang\"}]}'\n",
      "b'{\"data\":{\"author_id\":\"1176361442838290432\",\"edit_history_tweet_ids\":[\"1603184696619589632\"],\"geo\":{},\"id\":\"1603184696619589632\",\"text\":\"RT @12Maibj: Motivos por los que Argentina merece ser campe\\xc3\\xb3n mundial\\xf0\\x9f\\x91\\x87\\xf0\\x9f\\x8f\\xbb\\xf0\\x9f\\x87\\xa6\\xf0\\x9f\\x87\\xb7\\\\n\\\\n[ABRO HILO]\"},\"includes\":{\"users\":[{\"id\":\"1176361442838290432\",\"name\":\"\\xf0\\x9d\\x94\\xb8\\xf0\\x9d\\x95\\x83\\xf0\\x9d\\x94\\xbc\\xf0\\x9d\\x95\\x8f\\xf0\\x9d\\x94\\xb8\\xe2\\x84\\x95\\xf0\\x9d\\x94\\xbb\\xf0\\x9d\\x94\\xbc\\xe2\\x84\\x9d\\xf0\\x9f\\x92\\x99\",\"username\":\"111ALE111\"},{\"id\":\"1445441331887751172\",\"name\":\"mai\",\"username\":\"12Maibj\"}]},\"matching_rules\":[{\"id\":\"1603160755783827468\",\"tag\":\"\"},{\"id\":\"1603160744962424832\",\"tag\":\"\"}]}'\n",
      "b'{\"data\":{\"author_id\":\"1438080018454777858\",\"edit_history_tweet_ids\":[\"1603184694085812224\"],\"geo\":{},\"id\":\"1603184694085812224\",\"text\":\"RT @alfredodelmazo: Son las amas de casa quienes siempre se esfuerzan por darle lo mejor a sus familias. Por eso el #SalarioRosa es para us\\xe2\\x80\\xa6\"},\"includes\":{\"users\":[{\"id\":\"1438080018454777858\",\"name\":\"Yaret Gonz\\xc3\\xa1lez\",\"username\":\"YaretGoAn10\"},{\"id\":\"39860797\",\"name\":\"Alfredo Del Mazo\",\"username\":\"alfredodelmazo\"}]},\"matching_rules\":[{\"id\":\"1603158427479539712\",\"tag\":\"lang\"}]}'\n",
      "b'{\"data\":{\"author_id\":\"1169459780928397313\",\"edit_history_tweet_ids\":[\"1603184695054725120\"],\"geo\":{},\"id\":\"1603184695054725120\",\"text\":\"@ALEXanro65 ...y yo sin vacunarme ajajjaja vaya panda de asustadores profesionales\"},\"includes\":{\"users\":[{\"id\":\"1169459780928397313\",\"name\":\"CALORCITO NOCTURNO \\\\\"REGRESA\\\\\"\",\"username\":\"Superpalankin1\"},{\"id\":\"1486073736914780165\",\"name\":\"Peque\\xc3\\xb1o Alex3.\",\"username\":\"ALEXanro65\"}]},\"matching_rules\":[{\"id\":\"1603158427479539712\",\"tag\":\"lang\"}]}'\n"
     ]
    },
    {
     "ename": "KeyboardInterrupt",
     "evalue": "",
     "output_type": "error",
     "traceback": [
      "\u001b[0;31m---------------------------------------------------------------------------\u001b[0m",
      "\u001b[0;31mKeyboardInterrupt\u001b[0m                         Traceback (most recent call last)",
      "Cell \u001b[0;32mIn [13], line 21\u001b[0m\n\u001b[1;32m     15\u001b[0m twitterStream\u001b[38;5;241m.\u001b[39madd_rules(tweepy\u001b[38;5;241m.\u001b[39mStreamRule(rules))\n\u001b[1;32m     16\u001b[0m     \u001b[38;5;66;03m# twitterStream.add_rules(tweepy.StreamRule(track, tag = 'text')\u001b[39;00m\n\u001b[1;32m     17\u001b[0m \u001b[38;5;66;03m# for lang in languages:\u001b[39;00m\n\u001b[1;32m     18\u001b[0m \u001b[38;5;66;03m#     twitterStream.add_rules(tweepy.StreamRule(value=lang,tag='lang'))\u001b[39;00m\n\u001b[1;32m     19\u001b[0m \n\u001b[1;32m     20\u001b[0m \u001b[38;5;66;03m#Filter for these topics\u001b[39;00m\n\u001b[0;32m---> 21\u001b[0m \u001b[43mtwitterStream\u001b[49m\u001b[38;5;241;43m.\u001b[39;49m\u001b[43mfilter\u001b[49m\u001b[43m(\u001b[49m\u001b[43mexpansions\u001b[49m\u001b[43m \u001b[49m\u001b[38;5;241;43m=\u001b[39;49m\u001b[43m \u001b[49m\u001b[43m[\u001b[49m\u001b[38;5;124;43m\"\u001b[39;49m\u001b[38;5;124;43mgeo.place_id\u001b[39;49m\u001b[38;5;124;43m\"\u001b[39;49m\u001b[43m,\u001b[49m\u001b[38;5;124;43m\"\u001b[39;49m\u001b[38;5;124;43mauthor_id\u001b[39;49m\u001b[38;5;124;43m\"\u001b[39;49m\u001b[43m]\u001b[49m\u001b[43m,\u001b[49m\u001b[43mplace_fields\u001b[49m\u001b[43m \u001b[49m\u001b[38;5;241;43m=\u001b[39;49m\u001b[43m \u001b[49m\u001b[43m[\u001b[49m\u001b[38;5;124;43m\"\u001b[39;49m\u001b[38;5;124;43mgeo\u001b[39;49m\u001b[38;5;124;43m\"\u001b[39;49m\u001b[43m,\u001b[49m\u001b[38;5;124;43m\"\u001b[39;49m\u001b[38;5;124;43mcountry\u001b[39;49m\u001b[38;5;124;43m\"\u001b[39;49m\u001b[43m]\u001b[49m\u001b[43m)\u001b[49m\n\u001b[1;32m     22\u001b[0m \u001b[38;5;28;01mif\u001b[39;00m time\u001b[38;5;241m.\u001b[39mtime() \u001b[38;5;241m>\u001b[39m\u001b[38;5;241m=\u001b[39m timeout:\n\u001b[1;32m     23\u001b[0m     \u001b[38;5;28mprint\u001b[39m (\u001b[38;5;124m'\u001b[39m\u001b[38;5;124mclose\u001b[39m\u001b[38;5;124m'\u001b[39m)\n",
      "File \u001b[0;32m~/opt/anaconda3/envs/unav00/lib/python3.10/site-packages/tweepy/streaming.py:806\u001b[0m, in \u001b[0;36mStreamingClient.filter\u001b[0;34m(self, threaded, **params)\u001b[0m\n\u001b[1;32m    804\u001b[0m     \u001b[38;5;28;01mreturn\u001b[39;00m \u001b[38;5;28mself\u001b[39m\u001b[38;5;241m.\u001b[39m_threaded_connect(method, endpoint, params\u001b[38;5;241m=\u001b[39mparams)\n\u001b[1;32m    805\u001b[0m \u001b[38;5;28;01melse\u001b[39;00m:\n\u001b[0;32m--> 806\u001b[0m     \u001b[38;5;28;43mself\u001b[39;49m\u001b[38;5;241;43m.\u001b[39;49m\u001b[43m_connect\u001b[49m\u001b[43m(\u001b[49m\u001b[43mmethod\u001b[49m\u001b[43m,\u001b[49m\u001b[43m \u001b[49m\u001b[43mendpoint\u001b[49m\u001b[43m,\u001b[49m\u001b[43m \u001b[49m\u001b[43mparams\u001b[49m\u001b[38;5;241;43m=\u001b[39;49m\u001b[43mparams\u001b[49m\u001b[43m)\u001b[49m\n",
      "File \u001b[0;32m~/opt/anaconda3/envs/unav00/lib/python3.10/site-packages/tweepy/streaming.py:626\u001b[0m, in \u001b[0;36mStreamingClient._connect\u001b[0;34m(self, method, endpoint, **kwargs)\u001b[0m\n\u001b[1;32m    624\u001b[0m \u001b[38;5;28mself\u001b[39m\u001b[38;5;241m.\u001b[39msession\u001b[38;5;241m.\u001b[39mheaders[\u001b[38;5;124m\"\u001b[39m\u001b[38;5;124mAuthorization\u001b[39m\u001b[38;5;124m\"\u001b[39m] \u001b[38;5;241m=\u001b[39m \u001b[38;5;124mf\u001b[39m\u001b[38;5;124m\"\u001b[39m\u001b[38;5;124mBearer \u001b[39m\u001b[38;5;132;01m{\u001b[39;00m\u001b[38;5;28mself\u001b[39m\u001b[38;5;241m.\u001b[39mbearer_token\u001b[38;5;132;01m}\u001b[39;00m\u001b[38;5;124m\"\u001b[39m\n\u001b[1;32m    625\u001b[0m url \u001b[38;5;241m=\u001b[39m \u001b[38;5;124mf\u001b[39m\u001b[38;5;124m\"\u001b[39m\u001b[38;5;124mhttps://api.twitter.com/2/tweets/\u001b[39m\u001b[38;5;132;01m{\u001b[39;00mendpoint\u001b[38;5;132;01m}\u001b[39;00m\u001b[38;5;124m/stream\u001b[39m\u001b[38;5;124m\"\u001b[39m\n\u001b[0;32m--> 626\u001b[0m \u001b[38;5;28;43msuper\u001b[39;49m\u001b[43m(\u001b[49m\u001b[43m)\u001b[49m\u001b[38;5;241;43m.\u001b[39;49m\u001b[43m_connect\u001b[49m\u001b[43m(\u001b[49m\u001b[43mmethod\u001b[49m\u001b[43m,\u001b[49m\u001b[43m \u001b[49m\u001b[43murl\u001b[49m\u001b[43m,\u001b[49m\u001b[43m \u001b[49m\u001b[38;5;241;43m*\u001b[39;49m\u001b[38;5;241;43m*\u001b[39;49m\u001b[43mkwargs\u001b[49m\u001b[43m)\u001b[49m\n",
      "File \u001b[0;32m~/opt/anaconda3/envs/unav00/lib/python3.10/site-packages/tweepy/streaming.py:90\u001b[0m, in \u001b[0;36mBaseStream._connect\u001b[0;34m(self, method, url, auth, params, headers, body, timeout)\u001b[0m\n\u001b[1;32m     87\u001b[0m \u001b[38;5;28;01mif\u001b[39;00m \u001b[38;5;129;01mnot\u001b[39;00m \u001b[38;5;28mself\u001b[39m\u001b[38;5;241m.\u001b[39mrunning:\n\u001b[1;32m     88\u001b[0m     \u001b[38;5;28;01mbreak\u001b[39;00m\n\u001b[0;32m---> 90\u001b[0m \u001b[38;5;28;01mfor\u001b[39;00m line \u001b[38;5;129;01min\u001b[39;00m resp\u001b[38;5;241m.\u001b[39miter_lines(\n\u001b[1;32m     91\u001b[0m     chunk_size\u001b[38;5;241m=\u001b[39m\u001b[38;5;28mself\u001b[39m\u001b[38;5;241m.\u001b[39mchunk_size\n\u001b[1;32m     92\u001b[0m ):\n\u001b[1;32m     93\u001b[0m     \u001b[38;5;28;01mif\u001b[39;00m line:\n\u001b[1;32m     94\u001b[0m         \u001b[38;5;28mself\u001b[39m\u001b[38;5;241m.\u001b[39mon_data(line)\n",
      "File \u001b[0;32m~/opt/anaconda3/envs/unav00/lib/python3.10/site-packages/requests/models.py:865\u001b[0m, in \u001b[0;36mResponse.iter_lines\u001b[0;34m(self, chunk_size, decode_unicode, delimiter)\u001b[0m\n\u001b[1;32m    856\u001b[0m \u001b[38;5;124;03m\"\"\"Iterates over the response data, one line at a time.  When\u001b[39;00m\n\u001b[1;32m    857\u001b[0m \u001b[38;5;124;03mstream=True is set on the request, this avoids reading the\u001b[39;00m\n\u001b[1;32m    858\u001b[0m \u001b[38;5;124;03mcontent at once into memory for large responses.\u001b[39;00m\n\u001b[1;32m    859\u001b[0m \n\u001b[1;32m    860\u001b[0m \u001b[38;5;124;03m.. note:: This method is not reentrant safe.\u001b[39;00m\n\u001b[1;32m    861\u001b[0m \u001b[38;5;124;03m\"\"\"\u001b[39;00m\n\u001b[1;32m    863\u001b[0m pending \u001b[38;5;241m=\u001b[39m \u001b[38;5;28;01mNone\u001b[39;00m\n\u001b[0;32m--> 865\u001b[0m \u001b[38;5;28;01mfor\u001b[39;00m chunk \u001b[38;5;129;01min\u001b[39;00m \u001b[38;5;28mself\u001b[39m\u001b[38;5;241m.\u001b[39miter_content(\n\u001b[1;32m    866\u001b[0m     chunk_size\u001b[38;5;241m=\u001b[39mchunk_size, decode_unicode\u001b[38;5;241m=\u001b[39mdecode_unicode\n\u001b[1;32m    867\u001b[0m ):\n\u001b[1;32m    869\u001b[0m     \u001b[38;5;28;01mif\u001b[39;00m pending \u001b[38;5;129;01mis\u001b[39;00m \u001b[38;5;129;01mnot\u001b[39;00m \u001b[38;5;28;01mNone\u001b[39;00m:\n\u001b[1;32m    870\u001b[0m         chunk \u001b[38;5;241m=\u001b[39m pending \u001b[38;5;241m+\u001b[39m chunk\n",
      "File \u001b[0;32m~/opt/anaconda3/envs/unav00/lib/python3.10/site-packages/requests/models.py:816\u001b[0m, in \u001b[0;36mResponse.iter_content.<locals>.generate\u001b[0;34m()\u001b[0m\n\u001b[1;32m    814\u001b[0m \u001b[38;5;28;01mif\u001b[39;00m \u001b[38;5;28mhasattr\u001b[39m(\u001b[38;5;28mself\u001b[39m\u001b[38;5;241m.\u001b[39mraw, \u001b[38;5;124m\"\u001b[39m\u001b[38;5;124mstream\u001b[39m\u001b[38;5;124m\"\u001b[39m):\n\u001b[1;32m    815\u001b[0m     \u001b[38;5;28;01mtry\u001b[39;00m:\n\u001b[0;32m--> 816\u001b[0m         \u001b[38;5;28;01myield from\u001b[39;00m \u001b[38;5;28mself\u001b[39m\u001b[38;5;241m.\u001b[39mraw\u001b[38;5;241m.\u001b[39mstream(chunk_size, decode_content\u001b[38;5;241m=\u001b[39m\u001b[38;5;28;01mTrue\u001b[39;00m)\n\u001b[1;32m    817\u001b[0m     \u001b[38;5;28;01mexcept\u001b[39;00m ProtocolError \u001b[38;5;28;01mas\u001b[39;00m e:\n\u001b[1;32m    818\u001b[0m         \u001b[38;5;28;01mraise\u001b[39;00m ChunkedEncodingError(e)\n",
      "File \u001b[0;32m~/opt/anaconda3/envs/unav00/lib/python3.10/site-packages/urllib3/response.py:623\u001b[0m, in \u001b[0;36mHTTPResponse.stream\u001b[0;34m(self, amt, decode_content)\u001b[0m\n\u001b[1;32m    607\u001b[0m \u001b[38;5;124;03m\"\"\"\u001b[39;00m\n\u001b[1;32m    608\u001b[0m \u001b[38;5;124;03mA generator wrapper for the read() method. A call will block until\u001b[39;00m\n\u001b[1;32m    609\u001b[0m \u001b[38;5;124;03m``amt`` bytes have been read from the connection or until the\u001b[39;00m\n\u001b[0;32m   (...)\u001b[0m\n\u001b[1;32m    620\u001b[0m \u001b[38;5;124;03m    'content-encoding' header.\u001b[39;00m\n\u001b[1;32m    621\u001b[0m \u001b[38;5;124;03m\"\"\"\u001b[39;00m\n\u001b[1;32m    622\u001b[0m \u001b[38;5;28;01mif\u001b[39;00m \u001b[38;5;28mself\u001b[39m\u001b[38;5;241m.\u001b[39mchunked \u001b[38;5;129;01mand\u001b[39;00m \u001b[38;5;28mself\u001b[39m\u001b[38;5;241m.\u001b[39msupports_chunked_reads():\n\u001b[0;32m--> 623\u001b[0m     \u001b[38;5;28;01mfor\u001b[39;00m line \u001b[38;5;129;01min\u001b[39;00m \u001b[38;5;28mself\u001b[39m\u001b[38;5;241m.\u001b[39mread_chunked(amt, decode_content\u001b[38;5;241m=\u001b[39mdecode_content):\n\u001b[1;32m    624\u001b[0m         \u001b[38;5;28;01myield\u001b[39;00m line\n\u001b[1;32m    625\u001b[0m \u001b[38;5;28;01melse\u001b[39;00m:\n",
      "File \u001b[0;32m~/opt/anaconda3/envs/unav00/lib/python3.10/site-packages/urllib3/response.py:815\u001b[0m, in \u001b[0;36mHTTPResponse.read_chunked\u001b[0;34m(self, amt, decode_content)\u001b[0m\n\u001b[1;32m    812\u001b[0m     \u001b[38;5;28;01mreturn\u001b[39;00m\n\u001b[1;32m    814\u001b[0m \u001b[38;5;28;01mwhile\u001b[39;00m \u001b[38;5;28;01mTrue\u001b[39;00m:\n\u001b[0;32m--> 815\u001b[0m     \u001b[38;5;28;43mself\u001b[39;49m\u001b[38;5;241;43m.\u001b[39;49m\u001b[43m_update_chunk_length\u001b[49m\u001b[43m(\u001b[49m\u001b[43m)\u001b[49m\n\u001b[1;32m    816\u001b[0m     \u001b[38;5;28;01mif\u001b[39;00m \u001b[38;5;28mself\u001b[39m\u001b[38;5;241m.\u001b[39mchunk_left \u001b[38;5;241m==\u001b[39m \u001b[38;5;241m0\u001b[39m:\n\u001b[1;32m    817\u001b[0m         \u001b[38;5;28;01mbreak\u001b[39;00m\n",
      "File \u001b[0;32m~/opt/anaconda3/envs/unav00/lib/python3.10/site-packages/urllib3/response.py:745\u001b[0m, in \u001b[0;36mHTTPResponse._update_chunk_length\u001b[0;34m(self)\u001b[0m\n\u001b[1;32m    743\u001b[0m \u001b[38;5;28;01mif\u001b[39;00m \u001b[38;5;28mself\u001b[39m\u001b[38;5;241m.\u001b[39mchunk_left \u001b[38;5;129;01mis\u001b[39;00m \u001b[38;5;129;01mnot\u001b[39;00m \u001b[38;5;28;01mNone\u001b[39;00m:\n\u001b[1;32m    744\u001b[0m     \u001b[38;5;28;01mreturn\u001b[39;00m\n\u001b[0;32m--> 745\u001b[0m line \u001b[38;5;241m=\u001b[39m \u001b[38;5;28;43mself\u001b[39;49m\u001b[38;5;241;43m.\u001b[39;49m\u001b[43m_fp\u001b[49m\u001b[38;5;241;43m.\u001b[39;49m\u001b[43mfp\u001b[49m\u001b[38;5;241;43m.\u001b[39;49m\u001b[43mreadline\u001b[49m\u001b[43m(\u001b[49m\u001b[43m)\u001b[49m\n\u001b[1;32m    746\u001b[0m line \u001b[38;5;241m=\u001b[39m line\u001b[38;5;241m.\u001b[39msplit(\u001b[38;5;124mb\u001b[39m\u001b[38;5;124m\"\u001b[39m\u001b[38;5;124m;\u001b[39m\u001b[38;5;124m\"\u001b[39m, \u001b[38;5;241m1\u001b[39m)[\u001b[38;5;241m0\u001b[39m]\n\u001b[1;32m    747\u001b[0m \u001b[38;5;28;01mtry\u001b[39;00m:\n",
      "File \u001b[0;32m~/opt/anaconda3/envs/unav00/lib/python3.10/socket.py:705\u001b[0m, in \u001b[0;36mSocketIO.readinto\u001b[0;34m(self, b)\u001b[0m\n\u001b[1;32m    703\u001b[0m \u001b[38;5;28;01mwhile\u001b[39;00m \u001b[38;5;28;01mTrue\u001b[39;00m:\n\u001b[1;32m    704\u001b[0m     \u001b[38;5;28;01mtry\u001b[39;00m:\n\u001b[0;32m--> 705\u001b[0m         \u001b[38;5;28;01mreturn\u001b[39;00m \u001b[38;5;28;43mself\u001b[39;49m\u001b[38;5;241;43m.\u001b[39;49m\u001b[43m_sock\u001b[49m\u001b[38;5;241;43m.\u001b[39;49m\u001b[43mrecv_into\u001b[49m\u001b[43m(\u001b[49m\u001b[43mb\u001b[49m\u001b[43m)\u001b[49m\n\u001b[1;32m    706\u001b[0m     \u001b[38;5;28;01mexcept\u001b[39;00m timeout:\n\u001b[1;32m    707\u001b[0m         \u001b[38;5;28mself\u001b[39m\u001b[38;5;241m.\u001b[39m_timeout_occurred \u001b[38;5;241m=\u001b[39m \u001b[38;5;28;01mTrue\u001b[39;00m\n",
      "File \u001b[0;32m~/opt/anaconda3/envs/unav00/lib/python3.10/ssl.py:1274\u001b[0m, in \u001b[0;36mSSLSocket.recv_into\u001b[0;34m(self, buffer, nbytes, flags)\u001b[0m\n\u001b[1;32m   1270\u001b[0m     \u001b[38;5;28;01mif\u001b[39;00m flags \u001b[38;5;241m!=\u001b[39m \u001b[38;5;241m0\u001b[39m:\n\u001b[1;32m   1271\u001b[0m         \u001b[38;5;28;01mraise\u001b[39;00m \u001b[38;5;167;01mValueError\u001b[39;00m(\n\u001b[1;32m   1272\u001b[0m           \u001b[38;5;124m\"\u001b[39m\u001b[38;5;124mnon-zero flags not allowed in calls to recv_into() on \u001b[39m\u001b[38;5;132;01m%s\u001b[39;00m\u001b[38;5;124m\"\u001b[39m \u001b[38;5;241m%\u001b[39m\n\u001b[1;32m   1273\u001b[0m           \u001b[38;5;28mself\u001b[39m\u001b[38;5;241m.\u001b[39m\u001b[38;5;18m__class__\u001b[39m)\n\u001b[0;32m-> 1274\u001b[0m     \u001b[38;5;28;01mreturn\u001b[39;00m \u001b[38;5;28;43mself\u001b[39;49m\u001b[38;5;241;43m.\u001b[39;49m\u001b[43mread\u001b[49m\u001b[43m(\u001b[49m\u001b[43mnbytes\u001b[49m\u001b[43m,\u001b[49m\u001b[43m \u001b[49m\u001b[43mbuffer\u001b[49m\u001b[43m)\u001b[49m\n\u001b[1;32m   1275\u001b[0m \u001b[38;5;28;01melse\u001b[39;00m:\n\u001b[1;32m   1276\u001b[0m     \u001b[38;5;28;01mreturn\u001b[39;00m \u001b[38;5;28msuper\u001b[39m()\u001b[38;5;241m.\u001b[39mrecv_into(buffer, nbytes, flags)\n",
      "File \u001b[0;32m~/opt/anaconda3/envs/unav00/lib/python3.10/ssl.py:1130\u001b[0m, in \u001b[0;36mSSLSocket.read\u001b[0;34m(self, len, buffer)\u001b[0m\n\u001b[1;32m   1128\u001b[0m \u001b[38;5;28;01mtry\u001b[39;00m:\n\u001b[1;32m   1129\u001b[0m     \u001b[38;5;28;01mif\u001b[39;00m buffer \u001b[38;5;129;01mis\u001b[39;00m \u001b[38;5;129;01mnot\u001b[39;00m \u001b[38;5;28;01mNone\u001b[39;00m:\n\u001b[0;32m-> 1130\u001b[0m         \u001b[38;5;28;01mreturn\u001b[39;00m \u001b[38;5;28;43mself\u001b[39;49m\u001b[38;5;241;43m.\u001b[39;49m\u001b[43m_sslobj\u001b[49m\u001b[38;5;241;43m.\u001b[39;49m\u001b[43mread\u001b[49m\u001b[43m(\u001b[49m\u001b[38;5;28;43mlen\u001b[39;49m\u001b[43m,\u001b[49m\u001b[43m \u001b[49m\u001b[43mbuffer\u001b[49m\u001b[43m)\u001b[49m\n\u001b[1;32m   1131\u001b[0m     \u001b[38;5;28;01melse\u001b[39;00m:\n\u001b[1;32m   1132\u001b[0m         \u001b[38;5;28;01mreturn\u001b[39;00m \u001b[38;5;28mself\u001b[39m\u001b[38;5;241m.\u001b[39m_sslobj\u001b[38;5;241m.\u001b[39mread(\u001b[38;5;28mlen\u001b[39m)\n",
      "\u001b[0;31mKeyboardInterrupt\u001b[0m: "
     ]
    }
   ],
   "source": [
    "st = datetime.datetime.fromtimestamp(time.time()).strftime('%Y-%m-%d %H%M%S')\n",
    "file_name = data_storage + st + '.csv'\n",
    "\n",
    "rules = []\n",
    "for track in data_track:\n",
    "    rules.append(f'\"{track}\"')\n",
    "rules = ' OR '.join(rules)\n",
    "\n",
    "while time.time() < timeout:\n",
    "    #Prevent error 420: Connection overlap\n",
    "    time.sleep(2)\n",
    "    #Use the listener class for stream processing\n",
    "    twitterStream = listener(bearer_token)\n",
    "    twitterStream.add_rules(tweepy.StreamRule(rules))\n",
    "\n",
    "    #Filter for these topics\n",
    "    twitterStream.filter(expansions = [\"geo.place_id\",\"author_id\"],place_fields = [\"geo\",\"country\"])\n",
    "    if time.time() >= timeout:\n",
    "        print ('close')\n",
    "        #break"
   ]
  },
  {
   "cell_type": "markdown",
   "metadata": {},
   "source": [
    "### 1. Make this API request to be specificaly pulling data in Spanish language"
   ]
  },
  {
   "cell_type": "markdown",
   "metadata": {},
   "source": []
  },
  {
   "cell_type": "markdown",
   "metadata": {},
   "source": [
    "Para recuperar datos de geo y param: https://developer.twitter.com/en/docs/twitter-api/fields"
   ]
  },
  {
   "cell_type": "code",
   "execution_count": null,
   "metadata": {},
   "outputs": [],
   "source": [
    "#Hint: Answers can be found in the twitterStream documentation or Stack Overflow"
   ]
  },
  {
   "cell_type": "markdown",
   "metadata": {},
   "source": [
    "### 2. Make this API request to be specificaly targeting a region (Spain)."
   ]
  },
  {
   "cell_type": "code",
   "execution_count": null,
   "metadata": {},
   "outputs": [],
   "source": []
  }
 ],
 "metadata": {
  "kernelspec": {
   "display_name": "Python 3 (ipykernel)",
   "language": "python",
   "name": "python3"
  },
  "language_info": {
   "codemirror_mode": {
    "name": "ipython",
    "version": 3
   },
   "file_extension": ".py",
   "mimetype": "text/x-python",
   "name": "python",
   "nbconvert_exporter": "python",
   "pygments_lexer": "ipython3",
   "version": "3.10.8"
  }
 },
 "nbformat": 4,
 "nbformat_minor": 4
}
