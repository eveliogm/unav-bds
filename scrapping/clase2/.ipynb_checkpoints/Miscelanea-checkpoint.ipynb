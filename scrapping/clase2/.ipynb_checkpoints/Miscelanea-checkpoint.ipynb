{
 "cells": [
  {
   "cell_type": "markdown",
   "id": "279461d3",
   "metadata": {},
   "source": [
    "### Google dataset search\n",
    "\n",
    "https://datasetsearch.research.google.com/"
   ]
  },
  {
   "cell_type": "markdown",
   "id": "ce9da434",
   "metadata": {},
   "source": [
    "### Similar web\n",
    "\n",
    "https://www.similarweb.com/\n",
    "\n",
    "https://chrome.google.com/webstore/detail/similarweb-traffic-rank-w/hoklmmgfnpapgjgcpechhaamimifchmp?hl=en\n",
    "\n",
    "https://www.similarweb.com/top-websites/"
   ]
  },
  {
   "cell_type": "markdown",
   "id": "2236de18",
   "metadata": {},
   "source": [
    "### APIs\n",
    "https://rapidapi.com/hub\n"
   ]
  },
  {
   "cell_type": "code",
   "execution_count": null,
   "id": "b6af94b0",
   "metadata": {},
   "outputs": [],
   "source": []
  }
 ],
 "metadata": {
  "kernelspec": {
   "display_name": "Python 3",
   "language": "python",
   "name": "python3"
  },
  "language_info": {
   "codemirror_mode": {
    "name": "ipython",
    "version": 3
   },
   "file_extension": ".py",
   "mimetype": "text/x-python",
   "name": "python",
   "nbconvert_exporter": "python",
   "pygments_lexer": "ipython3",
   "version": "3.9.12"
  }
 },
 "nbformat": 4,
 "nbformat_minor": 5
}
