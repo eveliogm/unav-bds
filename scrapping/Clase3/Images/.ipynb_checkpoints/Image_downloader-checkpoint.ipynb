{
 "cells": [
  {
   "cell_type": "markdown",
   "metadata": {
    "deletable": false,
    "editable": false
   },
   "source": [
    "<img src=\"images\\logo_datai.png\" width=\"400\" img style=\"float: right;\"> \n",
    "\n",
    "https://www.unav.edu/web/instituto-de-ciencia-de-los-datos-e-inteligencia-artificial<br>\n",
    "Author: Pablo Urruchi Mohino"
   ]
  },
  {
   "cell_type": "markdown",
   "metadata": {},
   "source": [
    "## Download images from Google images"
   ]
  },
  {
   "cell_type": "code",
   "execution_count": 2,
   "metadata": {},
   "outputs": [],
   "source": [
    "import os\n",
    "import time\n",
    "import requests\n",
    "from selenium import webdriver\n",
    "from selenium.webdriver.common.by import By"
   ]
  },
  {
   "cell_type": "code",
   "execution_count": 3,
   "metadata": {},
   "outputs": [],
   "source": [
    "def fetch_image_urls(query: str, max_links_to_fetch: int, wd: webdriver, sleep_between_interactions: int = 1):\n",
    "    # Scrolls down to load more images\n",
    "    def scroll_to_end(wd):\n",
    "        wd.execute_script(\"window.scrollTo(0, document.body.scrollHeight);\")\n",
    "        time.sleep(sleep_between_interactions)\n",
    "\n",
    "    # build the google query\n",
    "    search_url = \"https://www.google.com/search?safe=off&site=&tbm=isch&source=hp&q={q}&oq={q}&gs_l=img\"\n",
    "\n",
    "    # load the page\n",
    "    wd.get(search_url.format(q=query))\n",
    "    \n",
    "    consent = wd.find_element(By.CSS_SELECTOR, 'button.VfPpkd-LgbsSe.VfPpkd-LgbsSe-OWXEXe-k8QpJ.VfPpkd-LgbsSe-OWXEXe-dgl2Hf.nCP5yc.AjY5Oe.DuMIQc.LQeN7.Nc7WLe')\n",
    "    consent.click()\n",
    "    \n",
    "    image_urls = set()\n",
    "    image_count = 0\n",
    "    results_start = 0\n",
    "    while image_count < max_links_to_fetch:\n",
    "        scroll_to_end(wd)\n",
    "        \n",
    "        # get all image thumbnail results\n",
    "        thumbnail_results = wd.find_elements(By.CSS_SELECTOR, 'img.Q4LuWd')\n",
    "        number_results = len(thumbnail_results)\n",
    "\n",
    "        print(f\"Found: {number_results} search results. Extracting links from {results_start}:{number_results}\")\n",
    "\n",
    "        for img in thumbnail_results[results_start:number_results]:\n",
    "            # try to click every thumbnail such that we can get the real image behind it\n",
    "            try:\n",
    "        \n",
    "                img.click()\n",
    "                time.sleep(sleep_between_interactions)\n",
    "            except Exception:\n",
    "                continue\n",
    "\n",
    "            # extract image urls\n",
    "            actual_images = thumbnail_results = wd.find_elements(By.CSS_SELECTOR, 'img.n3VNCb')\n",
    "            for actual_image in actual_images:\n",
    "                if actual_image.get_attribute('src') and 'http' in actual_image.get_attribute('src'):\n",
    "                    image_urls.add(actual_image.get_attribute('src'))\n",
    "\n",
    "            image_count = len(image_urls)\n",
    "\n",
    "            if len(image_urls) >= max_links_to_fetch:\n",
    "                print(f\"Found: {len(image_urls)} image links, done!\")\n",
    "                break\n",
    "        else:\n",
    "            print(\"Found:\", len(image_urls), \"image links, looking for more ...\")\n",
    "            time.sleep(30)\n",
    "            return\n",
    "            load_more_button = wd.find_elements(By.CSS_SELECTOR, '.mye4qd')\n",
    "            if load_more_button:\n",
    "                wd.execute_script(\"document.querySelector('.mye4qd').click();\")\n",
    "\n",
    "        # move the result startpoint further down\n",
    "        results_start = len(thumbnail_results)\n",
    "\n",
    "    return image_urls\n",
    "\n",
    "\n",
    "def persist_image(folder_path:str,url:str, counter):\n",
    "    try:\n",
    "        image_content = requests.get(url).content\n",
    "\n",
    "    except Exception as e:\n",
    "        print(f\"ERROR - Could not download {url} - {e}\")\n",
    "\n",
    "    try:\n",
    "        f = open(os.path.join(folder_path, 'jpg' + \"_\" + str(counter) + \".jpg\"), 'wb')\n",
    "        f.write(image_content)\n",
    "        f.close()\n",
    "        print(f\"SUCCESS - saved {url} - as {folder_path}\")\n",
    "    except Exception as e:\n",
    "        print(f\"ERROR - Could not save {url} - {e}\")"
   ]
  },
  {
   "cell_type": "code",
   "execution_count": 9,
   "metadata": {},
   "outputs": [],
   "source": [
    "def search_and_download(search_term: str, driver_path: str, target_path='./downloaded_images', number_images=10):\n",
    "    target_folder = os.path.join(target_path, '_'.join(search_term.lower().split(' '))) \n",
    "    # make the folder name inside images with the search string\n",
    "\n",
    "    if not os.path.exists(target_folder):\n",
    "        os.makedirs(target_folder) # make directory using the target path if it doesn't exist already\n",
    "\n",
    "    with webdriver.Chrome() as wd:\n",
    "        res = fetch_image_urls(search_term, number_images, wd=wd, sleep_between_interactions=0.5)\n",
    "\n",
    "    counter = 0\n",
    "    for elem in res:\n",
    "        persist_image(target_folder, elem, counter)\n",
    "        counter += 1"
   ]
  },
  {
   "cell_type": "code",
   "execution_count": 10,
   "metadata": {},
   "outputs": [
    {
     "name": "stdout",
     "output_type": "stream",
     "text": [
      "Found: 100 search results. Extracting links from 0:100\n",
      "Found: 20 image links, done!\n",
      "SUCCESS - saved https://www.theaa.com/~/media/the-aa/insurance/car-insurance/advice/damage-categories.jpg?rev=20b5ca5c01eb470fb1d3d01fbbbb7096&hash=4AB62BD9E62B92163D183239F47EFEB1 - as ./downloaded_images/cars_dammage\n",
      "SUCCESS - saved https://encrypted-tbn0.gstatic.com/images?q=tbn:ANd9GcQS2c0nW_qVTvT7RJ_RQ-l_J2yuo_uJAqPAlQ&usqp=CAU - as ./downloaded_images/cars_dammage\n",
      "SUCCESS - saved https://di-uploads-pod3.dealerinspire.com/toyotaofclermont/uploads/2020/05/used-car-damage.jpg - as ./downloaded_images/cars_dammage\n",
      "SUCCESS - saved https://www.mycarcredit.co.uk/wp-content/uploads/2019/11/car-crash-damage-categories.jpg - as ./downloaded_images/cars_dammage\n",
      "SUCCESS - saved https://storage.googleapis.com/kx-live-ih/images/Collision_repair_shop-min.2e16d0ba.fill-800x450.jpg - as ./downloaded_images/cars_dammage\n",
      "SUCCESS - saved https://www.shutterstock.com/image-photo/accident-car-260nw-682388278.jpg - as ./downloaded_images/cars_dammage\n",
      "SUCCESS - saved https://media.istockphoto.com/id/175195079/photo/a-red-car-with-a-damaged-headlight-after-an-accident.jpg?s=612x612&w=0&k=20&c=xM6qXM58jCojDt9wr-g2TRZyBGrL75oy_re2nryRiIw= - as ./downloaded_images/cars_dammage\n",
      "SUCCESS - saved https://thumbs.dreamstime.com/z/seriously-damaged-car-10213290.jpg - as ./downloaded_images/cars_dammage\n",
      "SUCCESS - saved https://brightonpanelworks.com.au/wp-content/uploads/2019/10/auto-3734396_1280.jpg - as ./downloaded_images/cars_dammage\n",
      "SUCCESS - saved https://lirp.cdn-website.com/5db48381c8ae431eb5324cc0c2e7772a/dms3rep/multi/opt/1531822-blog103-640w.jpg - as ./downloaded_images/cars_dammage\n",
      "SUCCESS - saved https://www.limerickautobody.com/blog/wp-content/uploads/2019/05/damage-1200x800.jpeg - as ./downloaded_images/cars_dammage\n",
      "SUCCESS - saved https://www.gannett-cdn.com/-mm-/4f453862e206797cc203cf69f5563e09aaec8a54/c=0-108-2122-1307/local/-/media/USATODAY/None/2014/10/16/635490615641330572-dentedcar.jpg - as ./downloaded_images/cars_dammage\n",
      "SUCCESS - saved https://static.cargurus.com/images/article/2018/10/31/13/39/how_to_tell_real_damage_from_superficial_damage-pic-7884470299278142671-1600x1200.jpeg - as ./downloaded_images/cars_dammage\n",
      "SUCCESS - saved https://cdn.images.express.co.uk/img/dynamic/24/590x/car-damage-1140431.jpg?r=1560506577881 - as ./downloaded_images/cars_dammage\n",
      "SUCCESS - saved https://blog.trans-rak.com/hs-fs/hubfs/headlamp-2940_960_720.jpg?width=800&name=headlamp-2940_960_720.jpg - as ./downloaded_images/cars_dammage\n",
      "SUCCESS - saved https://img.freepik.com/premium-photo/photo-car-damaged-by-fire-automobile-lights-was-melted-arson-vehicle_549949-799.jpg?w=2000 - as ./downloaded_images/cars_dammage\n",
      "SUCCESS - saved https://www.carveto.co.uk/wp-content/uploads/2021/03/car-accident.jpg - as ./downloaded_images/cars_dammage\n",
      "SUCCESS - saved http://picolio.auto123.com/auto123-media/articles/2017/9/64008/101530569fr.jpg - as ./downloaded_images/cars_dammage\n",
      "SUCCESS - saved https://miro.medium.com/max/1400/1*jWwb8e0eNhE-RH__sWmRcg.gif - as ./downloaded_images/cars_dammage\n",
      "SUCCESS - saved https://d2hucwwplm5rxi.cloudfront.net/wp-content/uploads/2022/05/09071324/car-frame-damage-cover-050920221215.jpg - as ./downloaded_images/cars_dammage\n"
     ]
    }
   ],
   "source": [
    "DRIVER_PATH = 'C:/Program Files (x86)/Google/Chrome/Application/chromedriver'\n",
    "search_term = 'cars dammage'\n",
    "# num of images you can pass it from here  by default it's 10 if you are not passing\n",
    "# number_images = 10\n",
    "search_and_download(search_term=search_term\n",
    "                    , number_images = 20\n",
    "                    , driver_path=DRIVER_PATH) # method to download images"
   ]
  },
  {
   "cell_type": "markdown",
   "metadata": {},
   "source": [
    "##### Question 1: what is \"sleep\" for?"
   ]
  },
  {
   "cell_type": "raw",
   "metadata": {},
   "source": [
    "time.sleep(sleep_between_interactions)"
   ]
  },
  {
   "cell_type": "markdown",
   "metadata": {},
   "source": [
    "##### Question 2: what is the purpose of {q} in the query"
   ]
  },
  {
   "cell_type": "raw",
   "metadata": {},
   "source": [
    "https://www.google.com/search?safe=off&site=&tbm=isch&source=hp&q={q}&oq={q}&gs_l=img"
   ]
  },
  {
   "cell_type": "markdown",
   "metadata": {},
   "source": [
    "### Exploring what happens in variable \"wb\". The web browser"
   ]
  },
  {
   "cell_type": "code",
   "execution_count": 7,
   "metadata": {},
   "outputs": [],
   "source": [
    "search_url = \"https://www.google.com/search?safe=off&site=&tbm=isch&source=hp&q={q}&oq={q}&gs_l=img\"\n",
    "\n",
    "# The following command opens the browser\n",
    "wd = webdriver.Chrome()"
   ]
  },
  {
   "cell_type": "code",
   "execution_count": 6,
   "metadata": {},
   "outputs": [],
   "source": [
    "# go to web page\n",
    "wd.get(search_url.format(q='cars'))"
   ]
  },
  {
   "cell_type": "code",
   "execution_count": 7,
   "metadata": {},
   "outputs": [],
   "source": [
    "# reject cookies\n",
    "consent = wd.find_element(By.CSS_SELECTOR, 'button.VfPpkd-LgbsSe.VfPpkd-LgbsSe-OWXEXe-k8QpJ.VfPpkd-LgbsSe-OWXEXe-dgl2Hf.nCP5yc.AjY5Oe.DuMIQc.LQeN7.Nc7WLe')\n",
    "consent.click()"
   ]
  },
  {
   "cell_type": "code",
   "execution_count": 8,
   "metadata": {},
   "outputs": [
    {
     "data": {
      "text/plain": [
       "[<selenium.webdriver.remote.webelement.WebElement (session=\"a7ae9fae59525a5e992ae3561feaaa31\", element=\"76f763d1-c140-4d52-8de0-e45df5e8059b\")>,\n",
       " <selenium.webdriver.remote.webelement.WebElement (session=\"a7ae9fae59525a5e992ae3561feaaa31\", element=\"ed74953b-a875-41c0-8e8a-882ec910d860\")>,\n",
       " <selenium.webdriver.remote.webelement.WebElement (session=\"a7ae9fae59525a5e992ae3561feaaa31\", element=\"5e4da75e-e7cd-4f2c-b90d-6943ef60de99\")>,\n",
       " <selenium.webdriver.remote.webelement.WebElement (session=\"a7ae9fae59525a5e992ae3561feaaa31\", element=\"2bcfe8fa-80b5-4e72-989a-5e3ff8e099f4\")>,\n",
       " <selenium.webdriver.remote.webelement.WebElement (session=\"a7ae9fae59525a5e992ae3561feaaa31\", element=\"1eaa3e19-914c-44a3-915b-8346657be383\")>,\n",
       " <selenium.webdriver.remote.webelement.WebElement (session=\"a7ae9fae59525a5e992ae3561feaaa31\", element=\"3ae63595-b4c3-4a38-994f-fc8ff90dc0b9\")>,\n",
       " <selenium.webdriver.remote.webelement.WebElement (session=\"a7ae9fae59525a5e992ae3561feaaa31\", element=\"6401ddc6-3a48-47cb-b3fe-276b63194e18\")>,\n",
       " <selenium.webdriver.remote.webelement.WebElement (session=\"a7ae9fae59525a5e992ae3561feaaa31\", element=\"c754b574-bcf4-42d6-91cc-f1ef814f533b\")>,\n",
       " <selenium.webdriver.remote.webelement.WebElement (session=\"a7ae9fae59525a5e992ae3561feaaa31\", element=\"286f8539-138c-4a19-ab41-11b1fabaaca9\")>,\n",
       " <selenium.webdriver.remote.webelement.WebElement (session=\"a7ae9fae59525a5e992ae3561feaaa31\", element=\"7c47ae92-4f2b-47f1-83cc-32ce31dca83b\")>,\n",
       " <selenium.webdriver.remote.webelement.WebElement (session=\"a7ae9fae59525a5e992ae3561feaaa31\", element=\"7a6ecbd6-60e0-4d89-889b-ab1bef03c6db\")>,\n",
       " <selenium.webdriver.remote.webelement.WebElement (session=\"a7ae9fae59525a5e992ae3561feaaa31\", element=\"7ebcc08d-6749-4c6d-b8cc-20820bc98d58\")>,\n",
       " <selenium.webdriver.remote.webelement.WebElement (session=\"a7ae9fae59525a5e992ae3561feaaa31\", element=\"27b69934-6994-4fdc-a19e-8e038b015f79\")>,\n",
       " <selenium.webdriver.remote.webelement.WebElement (session=\"a7ae9fae59525a5e992ae3561feaaa31\", element=\"ab998cda-2793-47d2-8518-78f5f8d4b3e3\")>,\n",
       " <selenium.webdriver.remote.webelement.WebElement (session=\"a7ae9fae59525a5e992ae3561feaaa31\", element=\"ebbe3fe1-7eef-494c-ad95-b1090e342cd8\")>,\n",
       " <selenium.webdriver.remote.webelement.WebElement (session=\"a7ae9fae59525a5e992ae3561feaaa31\", element=\"d7bbe33c-0fc0-4765-8de3-03620bedc5e8\")>,\n",
       " <selenium.webdriver.remote.webelement.WebElement (session=\"a7ae9fae59525a5e992ae3561feaaa31\", element=\"621e134c-59b2-48ce-9be1-e060a022507b\")>,\n",
       " <selenium.webdriver.remote.webelement.WebElement (session=\"a7ae9fae59525a5e992ae3561feaaa31\", element=\"a3ddd41e-5b22-4098-93bf-00dbbd3dc5bf\")>,\n",
       " <selenium.webdriver.remote.webelement.WebElement (session=\"a7ae9fae59525a5e992ae3561feaaa31\", element=\"69c8f3bf-8356-40cc-859f-5ee056e570eb\")>,\n",
       " <selenium.webdriver.remote.webelement.WebElement (session=\"a7ae9fae59525a5e992ae3561feaaa31\", element=\"ffc87141-d458-4b43-85bc-92a3bef69454\")>,\n",
       " <selenium.webdriver.remote.webelement.WebElement (session=\"a7ae9fae59525a5e992ae3561feaaa31\", element=\"8452ee71-2cb1-4f96-a556-2eb7ef8c10ce\")>,\n",
       " <selenium.webdriver.remote.webelement.WebElement (session=\"a7ae9fae59525a5e992ae3561feaaa31\", element=\"4e1bf6b6-e26b-41b6-ae22-45432d580836\")>,\n",
       " <selenium.webdriver.remote.webelement.WebElement (session=\"a7ae9fae59525a5e992ae3561feaaa31\", element=\"457b8812-95cf-4b74-9084-942b1a174a5f\")>,\n",
       " <selenium.webdriver.remote.webelement.WebElement (session=\"a7ae9fae59525a5e992ae3561feaaa31\", element=\"1e7ce2f3-feb8-4f56-8696-243b75bc7c39\")>,\n",
       " <selenium.webdriver.remote.webelement.WebElement (session=\"a7ae9fae59525a5e992ae3561feaaa31\", element=\"030aec3a-6341-467a-81bb-95f280d2aab0\")>,\n",
       " <selenium.webdriver.remote.webelement.WebElement (session=\"a7ae9fae59525a5e992ae3561feaaa31\", element=\"034ecb4a-89bf-4d50-b3dd-a6f38634a91c\")>,\n",
       " <selenium.webdriver.remote.webelement.WebElement (session=\"a7ae9fae59525a5e992ae3561feaaa31\", element=\"b5b4874a-1080-4771-b380-b8c2211fa469\")>,\n",
       " <selenium.webdriver.remote.webelement.WebElement (session=\"a7ae9fae59525a5e992ae3561feaaa31\", element=\"e4d55471-33db-42f9-9336-c9721e4474c3\")>,\n",
       " <selenium.webdriver.remote.webelement.WebElement (session=\"a7ae9fae59525a5e992ae3561feaaa31\", element=\"f843821e-b9fe-4aa1-9d11-5c81792f2f8d\")>,\n",
       " <selenium.webdriver.remote.webelement.WebElement (session=\"a7ae9fae59525a5e992ae3561feaaa31\", element=\"05a52a01-fad8-4c48-834d-8beda20b8e9b\")>,\n",
       " <selenium.webdriver.remote.webelement.WebElement (session=\"a7ae9fae59525a5e992ae3561feaaa31\", element=\"b93db6a6-ae92-4614-b095-f35b2089dab3\")>,\n",
       " <selenium.webdriver.remote.webelement.WebElement (session=\"a7ae9fae59525a5e992ae3561feaaa31\", element=\"30c0f72e-512a-4484-bb3e-e15a3ff45047\")>,\n",
       " <selenium.webdriver.remote.webelement.WebElement (session=\"a7ae9fae59525a5e992ae3561feaaa31\", element=\"85fd7a2b-3bd3-42c4-8512-05db652668ad\")>,\n",
       " <selenium.webdriver.remote.webelement.WebElement (session=\"a7ae9fae59525a5e992ae3561feaaa31\", element=\"ca73da63-914f-456d-a948-477f61d1bf8e\")>,\n",
       " <selenium.webdriver.remote.webelement.WebElement (session=\"a7ae9fae59525a5e992ae3561feaaa31\", element=\"07eac936-c46d-45bf-a63e-3479880160f5\")>,\n",
       " <selenium.webdriver.remote.webelement.WebElement (session=\"a7ae9fae59525a5e992ae3561feaaa31\", element=\"5c4dda4c-d4d5-4091-9bf2-5ddd09e6a510\")>,\n",
       " <selenium.webdriver.remote.webelement.WebElement (session=\"a7ae9fae59525a5e992ae3561feaaa31\", element=\"17077ab3-ff2b-4118-ad06-165c20b61228\")>,\n",
       " <selenium.webdriver.remote.webelement.WebElement (session=\"a7ae9fae59525a5e992ae3561feaaa31\", element=\"9caa70ed-7595-459e-a369-aca0175b14cd\")>,\n",
       " <selenium.webdriver.remote.webelement.WebElement (session=\"a7ae9fae59525a5e992ae3561feaaa31\", element=\"24a985e6-6fa1-406c-b4d2-bd8f2891c6de\")>,\n",
       " <selenium.webdriver.remote.webelement.WebElement (session=\"a7ae9fae59525a5e992ae3561feaaa31\", element=\"6bc21d89-6a1f-400b-87ac-1527317c347f\")>,\n",
       " <selenium.webdriver.remote.webelement.WebElement (session=\"a7ae9fae59525a5e992ae3561feaaa31\", element=\"0ee39222-b7fb-4dd6-9546-91a449a9001d\")>,\n",
       " <selenium.webdriver.remote.webelement.WebElement (session=\"a7ae9fae59525a5e992ae3561feaaa31\", element=\"a61ea7e1-ad0a-45f8-9a03-521e021dd94f\")>,\n",
       " <selenium.webdriver.remote.webelement.WebElement (session=\"a7ae9fae59525a5e992ae3561feaaa31\", element=\"0d52a914-fb42-4e02-8c1e-c6f17e7b53aa\")>,\n",
       " <selenium.webdriver.remote.webelement.WebElement (session=\"a7ae9fae59525a5e992ae3561feaaa31\", element=\"b02504fd-1804-4b49-9cda-72bf73d24333\")>,\n",
       " <selenium.webdriver.remote.webelement.WebElement (session=\"a7ae9fae59525a5e992ae3561feaaa31\", element=\"6aec6460-20a9-4b50-9b33-142d227d8b53\")>,\n",
       " <selenium.webdriver.remote.webelement.WebElement (session=\"a7ae9fae59525a5e992ae3561feaaa31\", element=\"1ab7d5a0-c777-485c-a665-c8ac7337ffae\")>,\n",
       " <selenium.webdriver.remote.webelement.WebElement (session=\"a7ae9fae59525a5e992ae3561feaaa31\", element=\"a0483e41-253e-418b-988e-faec99ec790b\")>,\n",
       " <selenium.webdriver.remote.webelement.WebElement (session=\"a7ae9fae59525a5e992ae3561feaaa31\", element=\"5091815d-595f-4cf8-8171-a4a99ef798c1\")>]"
      ]
     },
     "execution_count": 8,
     "metadata": {},
     "output_type": "execute_result"
    }
   ],
   "source": [
    "# show all abailable images\n",
    "wd.find_elements(By.CSS_SELECTOR, 'img.Q4LuWd')"
   ]
  },
  {
   "cell_type": "code",
   "execution_count": 9,
   "metadata": {},
   "outputs": [
    {
     "data": {
      "text/plain": [
       "<selenium.webdriver.remote.webelement.WebElement (session=\"a7ae9fae59525a5e992ae3561feaaa31\", element=\"76f763d1-c140-4d52-8de0-e45df5e8059b\")>"
      ]
     },
     "execution_count": 9,
     "metadata": {},
     "output_type": "execute_result"
    }
   ],
   "source": [
    "# Notice at this point we are not getting the actual png / jpg file but \n",
    "# a link to the image\n",
    "x = wd.find_elements(By.CSS_SELECTOR, 'img.Q4LuWd')[0]\n",
    "x"
   ]
  },
  {
   "cell_type": "code",
   "execution_count": 10,
   "metadata": {},
   "outputs": [
    {
     "data": {
      "text/plain": [
       "<selenium.webdriver.remote.webelement.WebElement (session=\"a7ae9fae59525a5e992ae3561feaaa31\", element=\"76f763d1-c140-4d52-8de0-e45df5e8059b\")>"
      ]
     },
     "execution_count": 10,
     "metadata": {},
     "output_type": "execute_result"
    }
   ],
   "source": [
    "wd.find_elements_by_class_name(\"rg_i.Q4LuWd\")[0]"
   ]
  },
  {
   "cell_type": "code",
   "execution_count": 11,
   "metadata": {},
   "outputs": [
    {
     "data": {
      "text/plain": [
       "<selenium.webdriver.remote.webelement.WebElement (session=\"a7ae9fae59525a5e992ae3561feaaa31\", element=\"76f763d1-c140-4d52-8de0-e45df5e8059b\")>"
      ]
     },
     "execution_count": 11,
     "metadata": {},
     "output_type": "execute_result"
    }
   ],
   "source": [
    "wd.find_elements_by_xpath('//img[@class=\"rg_i Q4LuWd\"]')[0]"
   ]
  },
  {
   "cell_type": "markdown",
   "metadata": {},
   "source": [
    "<img src=\"images\\picture_1.jpg\" width=\"1000\" img style=\"float: left;\">"
   ]
  },
  {
   "cell_type": "code",
   "execution_count": 12,
   "metadata": {},
   "outputs": [],
   "source": [
    "# This is why we perform a \"click\" action to the image. To open it and actually be able to get the image\n",
    "x.click()"
   ]
  },
  {
   "cell_type": "markdown",
   "metadata": {},
   "source": [
    "<img src=\"images\\picture_2.jpg\" width=\"1000\" img style=\"float: left;\">"
   ]
  },
  {
   "cell_type": "code",
   "execution_count": 13,
   "metadata": {},
   "outputs": [
    {
     "data": {
      "text/plain": [
       "<selenium.webdriver.chrome.webdriver.WebDriver (session=\"a7ae9fae59525a5e992ae3561feaaa31\")>"
      ]
     },
     "execution_count": 13,
     "metadata": {},
     "output_type": "execute_result"
    }
   ],
   "source": [
    "wd"
   ]
  },
  {
   "cell_type": "markdown",
   "metadata": {},
   "source": [
    "##### Question 3: find this button in your browser"
   ]
  },
  {
   "cell_type": "raw",
   "metadata": {},
   "source": [
    "load_more_button = wd.find_element_by_css_selector(\".mye4qd\")"
   ]
  },
  {
   "cell_type": "markdown",
   "metadata": {},
   "source": [
    "##### Question 4: what you get from \"fetch_image_urls\""
   ]
  },
  {
   "cell_type": "raw",
   "metadata": {},
   "source": [
    "fetch_image_urls(query= 'cars', max_links_to_fetch = 2, wd=wd, sleep_between_interactions=0.5)"
   ]
  },
  {
   "cell_type": "markdown",
   "metadata": {},
   "source": [
    "##### Question 5: where is the actual request happening"
   ]
  },
  {
   "cell_type": "markdown",
   "metadata": {},
   "source": [
    "##### Question 6: what happens if you close the prompted browser before finishing the execution?"
   ]
  },
  {
   "cell_type": "markdown",
   "metadata": {},
   "source": [
    "__Comment:__ <br>\n",
    "https://www.youtube.com/results?search_query=mannequin+challenge"
   ]
  },
  {
   "cell_type": "code",
   "execution_count": null,
   "metadata": {},
   "outputs": [],
   "source": []
  }
 ],
 "metadata": {
  "kernelspec": {
   "display_name": "Python 3 (ipykernel)",
   "language": "python",
   "name": "python3"
  },
  "language_info": {
   "codemirror_mode": {
    "name": "ipython",
    "version": 3
   },
   "file_extension": ".py",
   "mimetype": "text/x-python",
   "name": "python",
   "nbconvert_exporter": "python",
   "pygments_lexer": "ipython3",
   "version": "3.10.8"
  }
 },
 "nbformat": 4,
 "nbformat_minor": 4
}
