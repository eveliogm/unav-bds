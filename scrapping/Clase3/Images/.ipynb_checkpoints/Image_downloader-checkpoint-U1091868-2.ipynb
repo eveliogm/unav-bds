{
 "cells": [
  {
   "cell_type": "markdown",
   "metadata": {},
   "source": [
    "## Download images from Google images"
   ]
  },
  {
   "cell_type": "code",
   "execution_count": 1,
   "metadata": {},
   "outputs": [],
   "source": [
    "import os\n",
    "import time\n",
    "import requests\n",
    "from selenium import webdriver"
   ]
  },
  {
   "cell_type": "code",
   "execution_count": 2,
   "metadata": {},
   "outputs": [],
   "source": [
    "def fetch_image_urls(query: str, max_links_to_fetch: int, wd: webdriver, sleep_between_interactions: int = 1):\n",
    "    # Scrolls down to load more images\n",
    "    def scroll_to_end(wd):\n",
    "        wd.execute_script(\"window.scrollTo(0, document.body.scrollHeight);\")\n",
    "        time.sleep(sleep_between_interactions)\n",
    "\n",
    "    # build the google query\n",
    "    search_url = \"https://www.google.com/search?safe=off&site=&tbm=isch&source=hp&q={q}&oq={q}&gs_l=img\"\n",
    "\n",
    "    # load the page\n",
    "    wd.get(search_url.format(q=query))\n",
    "\n",
    "    image_urls = set()\n",
    "    image_count = 0\n",
    "    results_start = 0\n",
    "    while image_count < max_links_to_fetch:\n",
    "        scroll_to_end(wd)\n",
    "\n",
    "        # get all image thumbnail results\n",
    "        thumbnail_results = wd.find_elements_by_css_selector(\"img.Q4LuWd\")\n",
    "        number_results = len(thumbnail_results)\n",
    "\n",
    "        print(f\"Found: {number_results} search results. Extracting links from {results_start}:{number_results}\")\n",
    "\n",
    "        for img in thumbnail_results[results_start:number_results]:\n",
    "            # try to click every thumbnail such that we can get the real image behind it\n",
    "            try:\n",
    "        \n",
    "                img.click()\n",
    "                time.sleep(sleep_between_interactions)\n",
    "            except Exception:\n",
    "                continue\n",
    "\n",
    "            # extract image urls\n",
    "            actual_images = wd.find_elements_by_css_selector('img.n3VNCb')\n",
    "            for actual_image in actual_images:\n",
    "                if actual_image.get_attribute('src') and 'http' in actual_image.get_attribute('src'):\n",
    "                    image_urls.add(actual_image.get_attribute('src'))\n",
    "\n",
    "            image_count = len(image_urls)\n",
    "\n",
    "            if len(image_urls) >= max_links_to_fetch:\n",
    "                print(f\"Found: {len(image_urls)} image links, done!\")\n",
    "                break\n",
    "        else:\n",
    "            print(\"Found:\", len(image_urls), \"image links, looking for more ...\")\n",
    "            time.sleep(30)\n",
    "            return\n",
    "            load_more_button = wd.find_element_by_css_selector(\".mye4qd\")\n",
    "            if load_more_button:\n",
    "                wd.execute_script(\"document.querySelector('.mye4qd').click();\")\n",
    "\n",
    "        # move the result startpoint further down\n",
    "        results_start = len(thumbnail_results)\n",
    "\n",
    "    return image_urls\n",
    "\n",
    "\n",
    "def persist_image(folder_path:str,url:str, counter):\n",
    "    try:\n",
    "        image_content = requests.get(url).content\n",
    "\n",
    "    except Exception as e:\n",
    "        print(f\"ERROR - Could not download {url} - {e}\")\n",
    "\n",
    "    try:\n",
    "        f = open(os.path.join(folder_path, 'jpg' + \"_\" + str(counter) + \".jpg\"), 'wb')\n",
    "        f.write(image_content)\n",
    "        f.close()\n",
    "        print(f\"SUCCESS - saved {url} - as {folder_path}\")\n",
    "    except Exception as e:\n",
    "        print(f\"ERROR - Could not save {url} - {e}\")"
   ]
  },
  {
   "cell_type": "code",
   "execution_count": 3,
   "metadata": {},
   "outputs": [],
   "source": [
    "def search_and_download(search_term: str, driver_path: str, target_path='./images', number_images=10):\n",
    "    target_folder = os.path.join(target_path, '_'.join(search_term.lower().split(' '))) \n",
    "    # make the folder name inside images with the search string\n",
    "\n",
    "    if not os.path.exists(target_folder):\n",
    "        os.makedirs(target_folder) # make directory using the target path if it doesn't exist already\n",
    "\n",
    "    with webdriver.Chrome(executable_path=driver_path) as wd:\n",
    "        res = fetch_image_urls(search_term, number_images, wd=wd, sleep_between_interactions=0.5)\n",
    "\n",
    "    counter = 0\n",
    "    for elem in res:\n",
    "        persist_image(target_folder, elem, counter)\n",
    "        counter += 1"
   ]
  },
  {
   "cell_type": "code",
   "execution_count": 4,
   "metadata": {},
   "outputs": [
    {
     "name": "stdout",
     "output_type": "stream",
     "text": [
      "Found: 100 search results. Extracting links from 0:100\n",
      "Found: 5 image links, done!\n",
      "SUCCESS - saved https://saffwein.com/wp-content/uploads/2018/07/car-accident-property-damage-claim.jpg - as ./images\\car_damage\n",
      "SUCCESS - saved https://mk0thecarexpert5k1d5.kinstacdn.com/wp-content/uploads/2014/05/damaged-opel-omega.jpg - as ./images\\car_damage\n",
      "SUCCESS - saved https://www.gannett-cdn.com/-mm-/4f453862e206797cc203cf69f5563e09aaec8a54/c=0-108-2122-1307/local/-/media/USATODAY/None/2014/10/16/635490615641330572-dentedcar.jpg?width=660&height=373&fit=crop&format=pjpg&auto=webp - as ./images\\car_damage\n",
      "SUCCESS - saved https://cdn.images.express.co.uk/img/dynamic/24/590x/car-damage-1140431.jpg?r=1560506577881 - as ./images\\car_damage\n",
      "SUCCESS - saved https://images.cdn.autoslash.com/blog/car-rental-damage-claim.jpg - as ./images\\car_damage\n"
     ]
    }
   ],
   "source": [
    "DRIVER_PATH = 'C:/Program Files (x86)/Google/Chrome/Application/chromedriver'\n",
    "search_term = 'car damage'\n",
    "# num of images you can pass it from here  by default it's 10 if you are not passing\n",
    "# number_images = 10\n",
    "search_and_download(search_term=search_term\n",
    "                    , number_images = 5\n",
    "                    , driver_path=DRIVER_PATH) # method to download images"
   ]
  },
  {
   "cell_type": "markdown",
   "metadata": {},
   "source": [
    "##### Question 1: what is \"sleep\" for?"
   ]
  },
  {
   "cell_type": "raw",
   "metadata": {},
   "source": [
    "time.sleep(sleep_between_interactions)"
   ]
  },
  {
   "cell_type": "markdown",
   "metadata": {},
   "source": [
    "##### Question 2: what is the purpose of {q} in the query"
   ]
  },
  {
   "cell_type": "raw",
   "metadata": {},
   "source": [
    "https://www.google.com/search?safe=off&site=&tbm=isch&source=hp&q={q}&oq={q}&gs_l=img"
   ]
  },
  {
   "cell_type": "markdown",
   "metadata": {},
   "source": [
    "### Exploring what happens in variable \"wb\". The web browser"
   ]
  },
  {
   "cell_type": "code",
   "execution_count": 5,
   "metadata": {},
   "outputs": [],
   "source": [
    "search_url = \"https://www.google.com/search?safe=off&site=&tbm=isch&source=hp&q={q}&oq={q}&gs_l=img\"\n",
    "\n",
    "# The following command opens the browser\n",
    "wd = webdriver.Chrome(executable_path='C:/Program Files (x86)/Google/Chrome/Application/chromedriver')"
   ]
  },
  {
   "cell_type": "code",
   "execution_count": 6,
   "metadata": {},
   "outputs": [],
   "source": [
    "# go to web page\n",
    "wd.get(search_url.format(q='cars'))"
   ]
  },
  {
   "cell_type": "code",
   "execution_count": 7,
   "metadata": {},
   "outputs": [
    {
     "data": {
      "text/plain": [
       "[<selenium.webdriver.remote.webelement.WebElement (session=\"c2f15ce9771a347bad1c51190a134ad0\", element=\"31eaa771-ba0e-42ba-9ac8-a9bbe82ccca9\")>,\n",
       " <selenium.webdriver.remote.webelement.WebElement (session=\"c2f15ce9771a347bad1c51190a134ad0\", element=\"d70009e8-8210-4316-93a4-06919b453c0a\")>,\n",
       " <selenium.webdriver.remote.webelement.WebElement (session=\"c2f15ce9771a347bad1c51190a134ad0\", element=\"aa9a7f7b-0862-451a-a9f8-32beba611cdc\")>,\n",
       " <selenium.webdriver.remote.webelement.WebElement (session=\"c2f15ce9771a347bad1c51190a134ad0\", element=\"b85ec4e3-c1a5-4b39-850a-4c16012d1935\")>,\n",
       " <selenium.webdriver.remote.webelement.WebElement (session=\"c2f15ce9771a347bad1c51190a134ad0\", element=\"0a6c13ba-3ae8-4480-b4fe-4e575a30e0cb\")>,\n",
       " <selenium.webdriver.remote.webelement.WebElement (session=\"c2f15ce9771a347bad1c51190a134ad0\", element=\"cf1fd518-2cf7-483f-907c-be48d944d763\")>,\n",
       " <selenium.webdriver.remote.webelement.WebElement (session=\"c2f15ce9771a347bad1c51190a134ad0\", element=\"bd7e1b7e-c5c7-4516-8900-72c9dcca27fa\")>,\n",
       " <selenium.webdriver.remote.webelement.WebElement (session=\"c2f15ce9771a347bad1c51190a134ad0\", element=\"d7ba6003-da59-4ee2-8b34-70256d637463\")>,\n",
       " <selenium.webdriver.remote.webelement.WebElement (session=\"c2f15ce9771a347bad1c51190a134ad0\", element=\"78fda354-2538-42c7-9db8-5d92dc1ebaab\")>,\n",
       " <selenium.webdriver.remote.webelement.WebElement (session=\"c2f15ce9771a347bad1c51190a134ad0\", element=\"059b5a2e-2b66-489d-8ccc-a18c441dc253\")>,\n",
       " <selenium.webdriver.remote.webelement.WebElement (session=\"c2f15ce9771a347bad1c51190a134ad0\", element=\"91e85ed1-f18f-46af-a156-5472ac126f9d\")>,\n",
       " <selenium.webdriver.remote.webelement.WebElement (session=\"c2f15ce9771a347bad1c51190a134ad0\", element=\"2e8cd217-f4a2-4d24-b7cf-b27890bbbe99\")>,\n",
       " <selenium.webdriver.remote.webelement.WebElement (session=\"c2f15ce9771a347bad1c51190a134ad0\", element=\"ebfd0b07-c934-444d-ba3c-e817a7efd942\")>,\n",
       " <selenium.webdriver.remote.webelement.WebElement (session=\"c2f15ce9771a347bad1c51190a134ad0\", element=\"2ff59f85-c240-4007-add9-03355e310fb5\")>,\n",
       " <selenium.webdriver.remote.webelement.WebElement (session=\"c2f15ce9771a347bad1c51190a134ad0\", element=\"d56b2e34-5af1-4d3b-811c-accaa8d5bc76\")>,\n",
       " <selenium.webdriver.remote.webelement.WebElement (session=\"c2f15ce9771a347bad1c51190a134ad0\", element=\"aebf5b5d-0226-4e2b-bec6-6c3755275a40\")>,\n",
       " <selenium.webdriver.remote.webelement.WebElement (session=\"c2f15ce9771a347bad1c51190a134ad0\", element=\"a1f1280e-a37d-4e81-8700-24ae3f1e87be\")>,\n",
       " <selenium.webdriver.remote.webelement.WebElement (session=\"c2f15ce9771a347bad1c51190a134ad0\", element=\"3f1da83f-82e9-4f72-a3d7-5269660a0b2e\")>,\n",
       " <selenium.webdriver.remote.webelement.WebElement (session=\"c2f15ce9771a347bad1c51190a134ad0\", element=\"d10aa3c6-2720-454a-90a2-16b1950ab589\")>,\n",
       " <selenium.webdriver.remote.webelement.WebElement (session=\"c2f15ce9771a347bad1c51190a134ad0\", element=\"de49f44d-ee15-42fb-b206-bd4f408067b8\")>,\n",
       " <selenium.webdriver.remote.webelement.WebElement (session=\"c2f15ce9771a347bad1c51190a134ad0\", element=\"538989a9-4cea-421d-bf00-ff8d66de758b\")>,\n",
       " <selenium.webdriver.remote.webelement.WebElement (session=\"c2f15ce9771a347bad1c51190a134ad0\", element=\"b53c05e9-6cb5-4940-be76-5538314786ae\")>,\n",
       " <selenium.webdriver.remote.webelement.WebElement (session=\"c2f15ce9771a347bad1c51190a134ad0\", element=\"19198812-52f2-4b6e-8b01-6bc0fefb7e87\")>,\n",
       " <selenium.webdriver.remote.webelement.WebElement (session=\"c2f15ce9771a347bad1c51190a134ad0\", element=\"aadb9758-6b67-4c1c-9119-50d490f89ea5\")>,\n",
       " <selenium.webdriver.remote.webelement.WebElement (session=\"c2f15ce9771a347bad1c51190a134ad0\", element=\"17df0bf0-2be9-4c48-8e27-36ad54e18794\")>,\n",
       " <selenium.webdriver.remote.webelement.WebElement (session=\"c2f15ce9771a347bad1c51190a134ad0\", element=\"fd5d79e3-621f-4495-b7de-dac94bb1d3f4\")>,\n",
       " <selenium.webdriver.remote.webelement.WebElement (session=\"c2f15ce9771a347bad1c51190a134ad0\", element=\"18fdf899-87bf-41d9-a493-d27bec06d2fb\")>,\n",
       " <selenium.webdriver.remote.webelement.WebElement (session=\"c2f15ce9771a347bad1c51190a134ad0\", element=\"d528ee3d-6a28-4257-bb75-5ec7094619c1\")>,\n",
       " <selenium.webdriver.remote.webelement.WebElement (session=\"c2f15ce9771a347bad1c51190a134ad0\", element=\"c5395ca7-3181-48ba-b070-4256cc415712\")>,\n",
       " <selenium.webdriver.remote.webelement.WebElement (session=\"c2f15ce9771a347bad1c51190a134ad0\", element=\"0ebc8ff4-ec56-4b8d-afab-8a943be76829\")>,\n",
       " <selenium.webdriver.remote.webelement.WebElement (session=\"c2f15ce9771a347bad1c51190a134ad0\", element=\"d6f630b4-731f-4d46-836d-1ef6acb12eab\")>,\n",
       " <selenium.webdriver.remote.webelement.WebElement (session=\"c2f15ce9771a347bad1c51190a134ad0\", element=\"61a34908-fc0c-41b7-ab59-96b85a2eda56\")>,\n",
       " <selenium.webdriver.remote.webelement.WebElement (session=\"c2f15ce9771a347bad1c51190a134ad0\", element=\"ef64134f-65b3-4368-905e-ea0abcdf44e1\")>,\n",
       " <selenium.webdriver.remote.webelement.WebElement (session=\"c2f15ce9771a347bad1c51190a134ad0\", element=\"3fcd80aa-6d67-4620-b54c-cd7e35ee85c4\")>,\n",
       " <selenium.webdriver.remote.webelement.WebElement (session=\"c2f15ce9771a347bad1c51190a134ad0\", element=\"a39862d1-b19d-49a6-843e-814c37147086\")>,\n",
       " <selenium.webdriver.remote.webelement.WebElement (session=\"c2f15ce9771a347bad1c51190a134ad0\", element=\"6afeee62-5e82-4923-9e02-fcb2805ee6bc\")>,\n",
       " <selenium.webdriver.remote.webelement.WebElement (session=\"c2f15ce9771a347bad1c51190a134ad0\", element=\"1aa7df06-a725-4593-afa3-ecf83b9de9a2\")>,\n",
       " <selenium.webdriver.remote.webelement.WebElement (session=\"c2f15ce9771a347bad1c51190a134ad0\", element=\"f06b09d8-e239-40c5-a68c-a735e8f4e34c\")>,\n",
       " <selenium.webdriver.remote.webelement.WebElement (session=\"c2f15ce9771a347bad1c51190a134ad0\", element=\"d6e7986f-bbf1-49da-966e-f6e1592e729e\")>,\n",
       " <selenium.webdriver.remote.webelement.WebElement (session=\"c2f15ce9771a347bad1c51190a134ad0\", element=\"c552b11c-50aa-4540-a899-69d4ef3c7c55\")>,\n",
       " <selenium.webdriver.remote.webelement.WebElement (session=\"c2f15ce9771a347bad1c51190a134ad0\", element=\"180cb2cc-bd1b-4827-84cb-36b5d1a601bf\")>,\n",
       " <selenium.webdriver.remote.webelement.WebElement (session=\"c2f15ce9771a347bad1c51190a134ad0\", element=\"6ff86e13-3c0d-4b35-886d-4394fe16f0c8\")>,\n",
       " <selenium.webdriver.remote.webelement.WebElement (session=\"c2f15ce9771a347bad1c51190a134ad0\", element=\"f0ebdde3-e3e6-4ba4-8f12-ea23b6b07d9d\")>,\n",
       " <selenium.webdriver.remote.webelement.WebElement (session=\"c2f15ce9771a347bad1c51190a134ad0\", element=\"8348c970-8564-4da0-b619-96b1589aa588\")>,\n",
       " <selenium.webdriver.remote.webelement.WebElement (session=\"c2f15ce9771a347bad1c51190a134ad0\", element=\"a2251187-7889-4286-8eb5-3c187885d7cb\")>,\n",
       " <selenium.webdriver.remote.webelement.WebElement (session=\"c2f15ce9771a347bad1c51190a134ad0\", element=\"50e2cd60-bbec-4a3a-9e8a-e7098a2c3d4e\")>,\n",
       " <selenium.webdriver.remote.webelement.WebElement (session=\"c2f15ce9771a347bad1c51190a134ad0\", element=\"4e2023ef-eac4-4aa8-9c00-990a268afc25\")>,\n",
       " <selenium.webdriver.remote.webelement.WebElement (session=\"c2f15ce9771a347bad1c51190a134ad0\", element=\"84184be9-9333-4602-8dac-1ec73ae4478c\")>,\n",
       " <selenium.webdriver.remote.webelement.WebElement (session=\"c2f15ce9771a347bad1c51190a134ad0\", element=\"2e82cc41-0945-40fc-9e20-bbc83e50484d\")>]"
      ]
     },
     "execution_count": 7,
     "metadata": {},
     "output_type": "execute_result"
    }
   ],
   "source": [
    "# show all abailable images\n",
    "wd.find_elements_by_css_selector(\"img.Q4LuWd\")"
   ]
  },
  {
   "cell_type": "code",
   "execution_count": 8,
   "metadata": {},
   "outputs": [
    {
     "data": {
      "text/plain": [
       "<selenium.webdriver.remote.webelement.WebElement (session=\"c2f15ce9771a347bad1c51190a134ad0\", element=\"31eaa771-ba0e-42ba-9ac8-a9bbe82ccca9\")>"
      ]
     },
     "execution_count": 8,
     "metadata": {},
     "output_type": "execute_result"
    }
   ],
   "source": [
    "# Notice at this point we are not getting the actual png / jpg file but a link to the image\n",
    "\n",
    "x = wd.find_elements_by_css_selector(\"img.Q4LuWd\")[0]\n",
    "x"
   ]
  },
  {
   "cell_type": "markdown",
   "metadata": {},
   "source": [
    "![URL](picture_1.jpg)"
   ]
  },
  {
   "cell_type": "code",
   "execution_count": 9,
   "metadata": {},
   "outputs": [],
   "source": [
    "# This is why we perform a \"click\" action to the image. To open it and actually be able to get the image\n",
    "x.click()"
   ]
  },
  {
   "cell_type": "markdown",
   "metadata": {},
   "source": [
    "![URL](picture_2.jpg)"
   ]
  },
  {
   "cell_type": "code",
   "execution_count": 10,
   "metadata": {},
   "outputs": [
    {
     "data": {
      "text/plain": [
       "<selenium.webdriver.chrome.webdriver.WebDriver (session=\"c2f15ce9771a347bad1c51190a134ad0\")>"
      ]
     },
     "execution_count": 10,
     "metadata": {},
     "output_type": "execute_result"
    }
   ],
   "source": [
    "wd"
   ]
  },
  {
   "cell_type": "markdown",
   "metadata": {},
   "source": [
    "##### Question 3: find this button in your browser"
   ]
  },
  {
   "cell_type": "raw",
   "metadata": {},
   "source": [
    "load_more_button = wd.find_element_by_css_selector(\".mye4qd\")"
   ]
  },
  {
   "cell_type": "markdown",
   "metadata": {},
   "source": [
    "##### Question 4: what you get from \"fetch_image_urls\""
   ]
  },
  {
   "cell_type": "raw",
   "metadata": {},
   "source": [
    "fetch_image_urls(query= 'cars', max_links_to_fetch = 2, wd=wd, sleep_between_interactions=0.5)"
   ]
  },
  {
   "cell_type": "markdown",
   "metadata": {},
   "source": [
    "##### Question 5: where is the actual request happening"
   ]
  },
  {
   "cell_type": "markdown",
   "metadata": {},
   "source": [
    "##### Question 6: what happens if you close the prompted browser before finishing the execution?"
   ]
  },
  {
   "cell_type": "code",
   "execution_count": null,
   "metadata": {},
   "outputs": [],
   "source": []
  }
 ],
 "metadata": {
  "kernelspec": {
   "display_name": "Python 3",
   "language": "python",
   "name": "python3"
  },
  "language_info": {
   "codemirror_mode": {
    "name": "ipython",
    "version": 3
   },
   "file_extension": ".py",
   "mimetype": "text/x-python",
   "name": "python",
   "nbconvert_exporter": "python",
   "pygments_lexer": "ipython3",
   "version": "3.7.4"
  }
 },
 "nbformat": 4,
 "nbformat_minor": 4
}
