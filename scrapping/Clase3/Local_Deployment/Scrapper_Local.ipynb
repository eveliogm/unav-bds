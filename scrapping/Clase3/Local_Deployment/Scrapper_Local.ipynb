{
 "cells": [
  {
   "cell_type": "markdown",
   "metadata": {
    "deletable": false,
    "editable": false
   },
   "source": [
    "<img src=\"images\\logo_datai.png\" width=\"400\" img style=\"float: right;\"> \n",
    "\n",
    "https://www.unav.edu/web/instituto-de-ciencia-de-los-datos-e-inteligencia-artificial<br>\n",
    "Author: Pablo Urruchi Mohino"
   ]
  },
  {
   "cell_type": "markdown",
   "metadata": {},
   "source": [
    "# Automate a scrapper\n",
    "\n",
    "This is a step by step guide on how to deploy a web app in Azure to schedule a Python job. The expected cost for the web app is zero. However there is a cost related to storage. <br>\n",
    "This process is meant for small applications, not for production purposes, as for production pipes companies usually has their own procedures and teams. The purposse of this pipeline is to become autonomous in developing experiments involving external data. Once the experiment has succedeed, a formal production proposal can be risen to deploy a replica in production.\n",
    "\n",
    "\n",
    "1. Create a resource group: https://www.juniper.net/documentation/en_US/vsrx/topics/task/multi-task/security-vsrx-azure-marketplace-resource-group.html\n",
    " <br>\n",
    "<img src=\"images\\create_resource_group.png\" width=\"300\" img style=\"float: left;\">"
   ]
  },
  {
   "cell_type": "markdown",
   "metadata": {},
   "source": [
    "2. Create a storage account: https://docs.microsoft.com/en-us/azure/storage/common/storage-account-create?tabs=azure-portal\n",
    "<img src=\"images\\create_storage_account.png\" width=\"400\" img style=\"float: left;\"><br>\n"
   ]
  },
  {
   "cell_type": "markdown",
   "metadata": {},
   "source": [
    "You will need to include your storage account keys in the script. You can find them here:<br>\n",
    "<img src=\"images\\keys.png\" width=\"600\" img style=\"float: left;\"><br>"
   ]
  },
  {
   "cell_type": "markdown",
   "metadata": {},
   "source": [
    "Within the storage account, create a container which name must also be included in your script. __Public access level needs to be \"Private\"__:\n",
    "<img src=\"images\\container_1.png\" width=\"390\" img style=\"float: left;\">\n",
    "\n",
    "<img src=\"images\\container_2.png\" width=\"390\" img style=\"float: right;\">"
   ]
  },
  {
   "cell_type": "markdown",
   "metadata": {},
   "source": [
    "__Create the .py script__ <br>\n",
    "For doing do, first test functionality in local:"
   ]
  },
  {
   "cell_type": "code",
   "execution_count": 1,
   "metadata": {},
   "outputs": [],
   "source": [
    "import requests\n",
    "from bs4 import BeautifulSoup\n",
    "import pandas as pd\n",
    "\n",
    "r = requests.get('https://www.nytimes.com/interactive/2017/06/23/opinion/trumps-lies.html')\n",
    "soup = BeautifulSoup(r.text, 'html.parser')\n",
    "\n",
    "results = soup.find_all('span', attrs={'class':'short-desc'})\n",
    "records = []\n",
    "for result in results:\n",
    "    date = result.find('strong').text[0:-1] + ', 2017'\n",
    "    lie = result.contents[1][1:-2]\n",
    "    explanation = result.find('a').text[1:-1]\n",
    "    url = result.find('a')['href']\n",
    "    records.append((date, lie, explanation, url))\n",
    "    \n",
    "df = pd.DataFrame(records, columns=['date', 'lie', 'explanation', 'url'])\n",
    "\n",
    "df.head()"
   ]
  },
  {
   "cell_type": "raw",
   "metadata": {},
   "source": [
    "from pip._internal import main as pipmain\n",
    "pipmain(['install', \"--user\", \"--upgrade\", 'pip'])\n",
    "pipmain(['install', \"--user\", 'azure-storage-blob==2.1.0'])\n",
    "pipmain(['install', \"--user\", 'requests'])\n",
    "pipmain(['install', \"--user\", 'pandas'])\n",
    "pipmain(['install', \"--user\", 'bs4'])"
   ]
  },
  {
   "cell_type": "raw",
   "metadata": {},
   "source": [
    "import requests\n",
    "from bs4 import BeautifulSoup\n",
    "import pandas as pd\n",
    "\n",
    "r = requests.get('https://www.nytimes.com/interactive/2017/06/23/opinion/trumps-lies.html')\n",
    "soup = BeautifulSoup(r.text, 'html.parser')\n",
    "\n",
    "results = soup.find_all('span', attrs={'class':'short-desc'})\n",
    "records = []\n",
    "for result in results:\n",
    "    date = result.find('strong').text[0:-1] + ', 2017'\n",
    "    lie = result.contents[1][1:-2]\n",
    "    explanation = result.find('a').text[1:-1]\n",
    "    url = result.find('a')['href']\n",
    "    records.append((date, lie, explanation, url))\n",
    "    \n",
    "df = pd.DataFrame(records, columns=['date', 'lie', 'explanation', 'url'])\n",
    "\n",
    "from io import StringIO\n",
    "p_account_name = 'YOUR_STORAGE_ACCOUNT_NAME_HERE'\n",
    "p_account_key =  'YOUR_STORAGE_ACCOUNT_KEY_HERE'\n",
    "from azure.storage.blob import BlockBlobService\n",
    "from azure.storage.blob import ContentSettings\n",
    "blockblob_service = BlockBlobService(account_name = p_account_name, account_key = p_account_key)\n",
    "\n",
    "def blob_to_container(container_name, file_name):\n",
    "    blockblob_service.create_blob_from_path(\n",
    "        container_name, #container1/folder1/folder1\n",
    "        file_name, #blob name\n",
    "        file_name, #blob to upload from local\n",
    "        content_settings=ContentSettings(content_type='application/CSV')\n",
    "                )\n",
    "file_name = 'pruebas.csv'\n",
    "df.to_csv(file_name,  header = False, sep= ',', encoding = 'utf-8', index = False)\n",
    "blob_to_container(container_name = 'landing/file1', file_name = file_name)"
   ]
  },
  {
   "cell_type": "markdown",
   "metadata": {},
   "source": [
    "__Open Windows Task Scheduler__ <br>\n",
    "<img src=\"images\\adv_set_1.png\" width=\"300\" img style=\"float: left;\">"
   ]
  },
  {
   "cell_type": "markdown",
   "metadata": {},
   "source": [
    "__Create the new Task__ <br>\n",
    "<img src=\"images\\adv_set_2.png\" width=\"1000\" img style=\"float: right;\">"
   ]
  },
  {
   "cell_type": "markdown",
   "metadata": {},
   "source": [
    "__Comment:__ What is a job. What is a procedure.<br>\n",
    "__Exercise:__ Correct the mistakes in \"scrape_with_errors.py"
   ]
  },
  {
   "cell_type": "code",
   "execution_count": null,
   "metadata": {},
   "outputs": [],
   "source": []
  }
 ],
 "metadata": {
  "kernelspec": {
   "display_name": "Python 3 (ipykernel)",
   "language": "python",
   "name": "python3"
  },
  "language_info": {
   "codemirror_mode": {
    "name": "ipython",
    "version": 3
   },
   "file_extension": ".py",
   "mimetype": "text/x-python",
   "name": "python",
   "nbconvert_exporter": "python",
   "pygments_lexer": "ipython3",
   "version": "3.10.8"
  }
 },
 "nbformat": 4,
 "nbformat_minor": 4
}
