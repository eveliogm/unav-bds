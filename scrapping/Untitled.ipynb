{
 "cells": [
  {
   "cell_type": "markdown",
   "id": "3a650270-e7c0-4e5e-a54b-d58838f5cfb1",
   "metadata": {},
   "source": [
    "sentinel hub\n"
   ]
  },
  {
   "cell_type": "code",
   "execution_count": null,
   "id": "3c5aa763-c858-4140-824c-d82373000a9b",
   "metadata": {},
   "outputs": [],
   "source": []
  }
 ],
 "metadata": {
  "kernelspec": {
   "display_name": "Python 3 (ipykernel)",
   "language": "python",
   "name": "python3"
  },
  "language_info": {
   "codemirror_mode": {
    "name": "ipython",
    "version": 3
   },
   "file_extension": ".py",
   "mimetype": "text/x-python",
   "name": "python",
   "nbconvert_exporter": "python",
   "pygments_lexer": "ipython3",
   "version": "3.10.8"
  }
 },
 "nbformat": 4,
 "nbformat_minor": 5
}
