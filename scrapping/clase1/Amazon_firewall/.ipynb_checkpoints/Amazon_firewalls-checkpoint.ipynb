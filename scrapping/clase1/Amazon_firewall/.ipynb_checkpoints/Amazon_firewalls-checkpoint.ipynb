{
 "cells": [
  {
   "cell_type": "markdown",
   "metadata": {
    "deletable": false,
    "editable": false
   },
   "source": [
    "<img src=\"images\\logo_datai.png\" width=\"400\" img style=\"float: right;\"> \n",
    "\n",
    "https://www.unav.edu/web/instituto-de-ciencia-de-los-datos-e-inteligencia-artificial<br>\n",
    "Author: Pablo Urruchi Mohino"
   ]
  },
  {
   "cell_type": "markdown",
   "metadata": {},
   "source": [
    "# Web scraping \"firewalls\"\n",
    "\n",
    "__If you try to scrape Amazon, you´ll get this error message:__<br>\n",
    "\"To discuss automated access to Amazon data please contact api-services-support@amazon.com.\"\n",
    "\n",
    "In this notebook we will try to work around the goal."
   ]
  },
  {
   "cell_type": "code",
   "execution_count": 1,
   "metadata": {},
   "outputs": [],
   "source": [
    "import pandas as pd"
   ]
  },
  {
   "cell_type": "code",
   "execution_count": 2,
   "metadata": {},
   "outputs": [],
   "source": [
    "import requests\n",
    "r = requests.get('https://www.amazon.com/AmazonBasics-Performance-Alkaline-Batteries-Count/dp/B00LH3DMUO/ref=sxin_3_ac_d_rm?ac_md=0-0-YW1hem9uYmFzaWNz-ac_d_rm&cv_ct_cx=amazonbasics&dchild=1&keywords=amazonbasics&pd_rd_i=B00LH3DMUO&pd_rd_r=ef8a3adc-4ea7-4599-a8bc-ccece0e64df3&pd_rd_w=ixItm&pd_rd_wg=K5Fe8&pf_rd_p=9349ffb9-3aaa-476f-8532-6a4a5c3da3e7&pf_rd_r=KDBKF2Q1Y984249CR30N&qid=1607012986&sr=1-1-12d4272d-8adb-4121-8624-135149aa9081&th=1')\n",
    "\n",
    "from bs4 import BeautifulSoup\n",
    "soup = BeautifulSoup(r.text, 'html.parser')"
   ]
  },
  {
   "cell_type": "code",
   "execution_count": 5,
   "metadata": {},
   "outputs": [
    {
     "data": {
      "text/plain": [
       "'\\nTo discuss automated access to Amazon data please contact \\napi-services-support@amazon.com. For information about migrating to our \\nAPIs refer to our Marketplace APIs at \\nhttps://developer.amazonservices.com/ref=rm_c_sv, or our Product \\nAdvertising API at \\nhttps://affiliate-program.amazon.com/gp/advertising/api/detail/main.html/ref=rm_c_ac\\nfor advertising use cases.\\n'"
      ]
     },
     "execution_count": 5,
     "metadata": {},
     "output_type": "execute_result"
    }
   ],
   "source": [
    "# You will actually be unable to connect\n",
    "'''\n",
    "To discuss automated access to Amazon data please contact \n",
    "api-services-support@amazon.com. For information about migrating to our \n",
    "APIs refer to our Marketplace APIs at \n",
    "https://developer.amazonservices.com/ref=rm_c_sv, or our Product \n",
    "Advertising API at \n",
    "https://affiliate-program.amazon.com/gp/advertising/api/detail/main.html/ref=rm_c_ac\n",
    "for advertising use cases.\n",
    "'''\n",
    "# soup"
   ]
  },
  {
   "cell_type": "markdown",
   "metadata": {},
   "source": [
    "__By including proper headers (which are not always easy to find) you can actually bypass the restriction and scrape Amazon.__\n",
    "\n",
    "Note: This header is for Amazon.com. To scrape \"Amazon.es\" you need to change header accordingly. This is also true for language."
   ]
  },
  {
   "cell_type": "code",
   "execution_count": 6,
   "metadata": {},
   "outputs": [],
   "source": [
    "import requests\n",
    "from bs4 import BeautifulSoup\n",
    "\n",
    "headers = {\n",
    "    'Host': 'www.amazon.com',\n",
    "    'User-Agent': 'Mozilla/5.0 (Windows NT 10.0; Win64; x64; rv:70.0) Gecko/20100101 Firefox/70.0',\n",
    "    'Accept': 'text/html,application/xhtml+xml,application/xml;q=0.9,*/*;q=0.8',\n",
    "    'Accept-Language': 'en-US,en;q=0.5',\n",
    "    'Accept-Encoding': 'gzip, deflate, br',\n",
    "    'Connection': 'keep-alive',\n",
    "    'Upgrade-Insecure-Requests': '1',\n",
    "    'TE': 'Trailers'\n",
    "}\n"
   ]
  },
  {
   "cell_type": "code",
   "execution_count": 7,
   "metadata": {},
   "outputs": [],
   "source": [
    "r = requests.get('https://www.amazon.com/AmazonBasics-Performance-Alkaline-Batteries-Count/dp/B00LH3DMUO/ref=sxin_3_ac_d_rm?ac_md=0-0-YW1hem9uYmFzaWNz-ac_d_rm&cv_ct_cx=amazonbasics&dchild=1&keywords=amazonbasics&pd_rd_i=B00LH3DMUO&pd_rd_r=ef8a3adc-4ea7-4599-a8bc-ccece0e64df3&pd_rd_w=ixItm&pd_rd_wg=K5Fe8&pf_rd_p=9349ffb9-3aaa-476f-8532-6a4a5c3da3e7&pf_rd_r=KDBKF2Q1Y984249CR30N&qid=1607012986&sr=1-1-12d4272d-8adb-4121-8624-135149aa9081&th=1', headers=headers)\n",
    "soup = BeautifulSoup(r.text, 'html.parser')"
   ]
  },
  {
   "cell_type": "markdown",
   "metadata": {},
   "source": [
    "__This is the \"soup\" elements in which you will be able to find the selectors to allocate each element in a pandas dataframe.__"
   ]
  },
  {
   "cell_type": "code",
   "execution_count": 15,
   "metadata": {},
   "outputs": [],
   "source": [
    "# soup"
   ]
  },
  {
   "cell_type": "markdown",
   "metadata": {},
   "source": [
    "### Goal\n",
    "\n",
    "Get a dataframe with the following structure:\n",
    "    \n",
    "    column 1 = review stars\n",
    "    column 2 = review title\n",
    "    column 3 = review date\n",
    "    column 4 = review text\n",
    "    column 5 = verified purchase\n",
    "    \n",
    "<img src=\"images\\result.png\" width=\"550\" img style=\"float: left;\">"
   ]
  },
  {
   "cell_type": "code",
   "execution_count": 22,
   "metadata": {},
   "outputs": [],
   "source": [
    "review_rating = soup.find_all('div',attrs = {\"data-hook\":\"review\"})\n"
   ]
  },
  {
   "cell_type": "code",
   "execution_count": 24,
   "metadata": {},
   "outputs": [
    {
     "data": {
      "text/plain": [
       "'Reviewed in the United States on January 21, 2016'"
      ]
     },
     "execution_count": 24,
     "metadata": {},
     "output_type": "execute_result"
    }
   ],
   "source": [
    "review_rating[0].find('span',attrs = {\"data-hook\":\"review-date\"}).text"
   ]
  },
  {
   "cell_type": "code",
   "execution_count": 26,
   "metadata": {},
   "outputs": [
    {
     "data": {
      "text/plain": [
       "'4.0 out of 5 stars'"
      ]
     },
     "execution_count": 26,
     "metadata": {},
     "output_type": "execute_result"
    }
   ],
   "source": [
    "review_rating[0].find('i',attrs = {\"data-hook\":\"review-star-rating\"}).text"
   ]
  },
  {
   "cell_type": "code",
   "execution_count": 28,
   "metadata": {},
   "outputs": [
    {
     "data": {
      "text/plain": [
       "'Size: 8 Count (Pack of 1)'"
      ]
     },
     "execution_count": 28,
     "metadata": {},
     "output_type": "execute_result"
    }
   ],
   "source": [
    "review_rating[0].find('span',attrs = {\"data-hook\":\"format-strip-linkless\"}).text"
   ]
  },
  {
   "cell_type": "code",
   "execution_count": 29,
   "metadata": {},
   "outputs": [
    {
     "data": {
      "text/plain": [
       "'Verified Purchase'"
      ]
     },
     "execution_count": 29,
     "metadata": {},
     "output_type": "execute_result"
    }
   ],
   "source": [
    "review_rating[0].find('span',attrs = {\"data-hook\":\"avp-badge-linkless\"}).text"
   ]
  },
  {
   "cell_type": "code",
   "execution_count": null,
   "metadata": {},
   "outputs": [],
   "source": []
  },
  {
   "cell_type": "code",
   "execution_count": null,
   "metadata": {},
   "outputs": [],
   "source": []
  },
  {
   "cell_type": "code",
   "execution_count": 7,
   "metadata": {},
   "outputs": [
    {
     "name": "stdout",
     "output_type": "stream",
     "text": [
      "<i class=\"a-icon a-icon-star a-star-4 review-rating\" data-hook=\"review-star-rating\">\n",
      " <span class=\"a-icon-alt\">\n",
      "  4.0 out of 5 stars\n",
      " </span>\n",
      "</i>\n"
     ]
    }
   ],
   "source": [
    "review_rating = soup.find_all(class_=\"review-rating\")\n",
    "print(review_rating[0].prettify())"
   ]
  },
  {
   "cell_type": "code",
   "execution_count": 8,
   "metadata": {},
   "outputs": [
    {
     "data": {
      "text/plain": [
       "'4.0 out of 5 stars'"
      ]
     },
     "execution_count": 8,
     "metadata": {},
     "output_type": "execute_result"
    }
   ],
   "source": [
    "review_rating[0].get_text()"
   ]
  },
  {
   "cell_type": "code",
   "execution_count": 9,
   "metadata": {},
   "outputs": [
    {
     "name": "stdout",
     "output_type": "stream",
     "text": [
      "<a class=\"a-size-base a-link-normal review-title a-color-base review-title-content a-text-bold\" data-hook=\"review-title\" href=\"/gp/customer-reviews/RC2VPIP8BBP8O/ref=cm_cr_dp_d_rvw_ttl?ie=UTF8&amp;ASIN=B00LH3DMUO\">\n",
      " <span>\n",
      "  7 brands, 1 test: results\n",
      " </span>\n",
      "</a>\n"
     ]
    }
   ],
   "source": [
    "review_title = soup.find_all(class_=\"review-title\")\n",
    "print(review_title[0].prettify())"
   ]
  },
  {
   "cell_type": "code",
   "execution_count": 10,
   "metadata": {},
   "outputs": [
    {
     "data": {
      "text/plain": [
       "'7 brands, 1 test: results'"
      ]
     },
     "execution_count": 10,
     "metadata": {},
     "output_type": "execute_result"
    }
   ],
   "source": [
    "review_title_def=(review_title[0].get_text()).replace('\\n','')\n",
    "review_title_def"
   ]
  },
  {
   "cell_type": "code",
   "execution_count": 11,
   "metadata": {},
   "outputs": [
    {
     "name": "stdout",
     "output_type": "stream",
     "text": [
      "<span class=\"a-size-base a-color-secondary review-date\" data-hook=\"review-date\">\n",
      " Reviewed in the United States on January 21, 2016\n",
      "</span>\n",
      "\n"
     ]
    }
   ],
   "source": [
    "review_date = soup.find_all(class_=\"review-date\")\n",
    "print(review_date[0].prettify())"
   ]
  },
  {
   "cell_type": "code",
   "execution_count": 12,
   "metadata": {},
   "outputs": [
    {
     "data": {
      "text/plain": [
       "'January 21, 2016'"
      ]
     },
     "execution_count": 12,
     "metadata": {},
     "output_type": "execute_result"
    }
   ],
   "source": [
    "review_date_def=(review_date[0].get_text()).replace('Reviewed in the United States on ','')\n",
    "review_date_def"
   ]
  },
  {
   "cell_type": "code",
   "execution_count": 13,
   "metadata": {},
   "outputs": [
    {
     "name": "stdout",
     "output_type": "stream",
     "text": [
      "<div aria-expanded=\"false\" class=\"a-expander-content reviewText review-text-content a-expander-partial-collapse-content\" data-hook=\"review-collapsed\">\n",
      " <span>\n",
      "  AmazonBasics batteries are quite good in terms of capacity -- pretty much tied for the top spot compared to the other 6 brands I've tested, but other brands have the edge in capacity per dollar. When I computed value by dividing capacity by the cost per battery of the cheapest package size, they took a respectable third place, and they have the advantage of being a trusted name compared to the value leader.  In the images I have attached a graph and a table summarizing my test results for the 7 types I've tested, but if you'd like to know more about how I test ... on to the in-dept test &amp; review.\n",
      "  <br>\n",
      "   <br/>\n",
      "   I've been on a bit of a quest to test all of the top-selling aaa batteries on Amazon in a repeatable, precise way. This means the same equipment, same environmental conditions, and same slots in the equipment will be used for each test. For each test, I fully discharge 3 batteries in my Opus BT-C2000 battery analyzer at rates of 100 ma, 200 ma, and 400 ma (discharge rate affects usable capacity). I have also performed this exact same test (same equipment, same conditions) on the ACDelco, Duracell Procell, Duracell Coppertop, Energizer MAX, Maxell, and Rayovac. I have linked the other brands I've reviewed at the end of this review if you'd like to take a look at the other results for comparison purposes. For the Amazon Basics batteries, the capacity at each discharge rate was:\n",
      "   <br/>\n",
      "   <br/>\n",
      "   Disch Rt | Capacity  | Runtime  | Sample use case\n",
      "   <br/>\n",
      "   100 mA | 997 mAh  | 10 hrs  |  Low-power LED flashlight\n",
      "   <br/>\n",
      "   200 mA | 914 mAh  | 4.5 hrs  |  Electronic toy / medium LED flashlight\n",
      "   <br/>\n",
      "   400 mA | 623 mAh  | 1.5 hrs  |  Motorized toy / bright LED flashlight\n",
      "   <br/>\n",
      "   <br/>\n",
      "   Note that these (and all other Alkalines) would achieve somewhat higher capacity (maybe 1200 mAh) in a low discharge application like a mouse, keyboard, remote control, etc because alkaline batteries have internal resistance that reduces usable capacity at high discharge rates.\n",
      "   <br/>\n",
      "   <br/>\n",
      "   The capacity of these batteries is among the best I've tested -- take a look at the attached data table for comparative data. For the cost (~$0.31/ea in a 36 pack right now), these are a decent but beatable value -- the power supplied per dollar spent is very good, but eclipsed by other currently available options.\n",
      "   <br/>\n",
      "   <br/>\n",
      "   Comparison:\n",
      "   <br/>\n",
      "   <br/>\n",
      "   These batteries do well capacity-wise, but value-wise are blown away by the currently cheapest energy/dollar battery that I've tested, the ACDelco aaa's. Their capacity results were:\n",
      "   <br/>\n",
      "   <br/>\n",
      "   Disch Rt | Capacity  | Runtime\n",
      "   <br/>\n",
      "   100 mA | 1005 mAh  | 10 hrs\n",
      "   <br/>\n",
      "   200 mA | 864 mAh  | 4.3 hrs\n",
      "   <br/>\n",
      "   400 mA | 670 mAh  | 1.7 hrs\n",
      "   <br/>\n",
      "   <br/>\n",
      "   As you can see, the Amazon batteries were very comperable ... but, at the current time the AmazonBasics batteries are $0.31/ea (36 pack), while the ACDelco batteries are about $0.21/ea (48 pack) -- so the ACDelco are significantly cheaper per mAh. I did not test shelf life, so it's possible that these may hold up better sitting in a drawer. Although both the Amazon batteries and the ACDelco batteries are certainly made on contract by a third party, I do think that I trust Amazon a bit more to provide consistent batteries than ACDelco ... although I haven't had any trouble with my ACDelco batteries so far. It's also worth noting that the Amazon batteries come in clearly superior packaging - while the ACDelco batteries come in a horrible gigantic plastic blister pack, the Amazon batteries come in a closable cardboard box. If you don't go through a lot of batteries &amp; organization of your battery drawer is important to you, that could push them into the all-around winner category despite the ~50% price premium.\n",
      "   <br/>\n",
      "   <br/>\n",
      "   Finally, because another review specifically mentions the Rayovac AA's as being 'good' in some usage scenarios, I thought I'd share my findings for the Rayovac AAA's. In short, they're garbage - the Amazon batteries are better in EVERY case. It's possible that the Rayovac AA's are much better than the AAA's, but I think it's more likely that the version of the Rayovacs tested by the website that he got his results from is different than the most popular Rayovac on Amazon (I source all of my batteries from Amazon). I ran the Rayovac test several times because I couldn't believe how poorly they did ... here are some typical Rayovac results:\n",
      "   <br/>\n",
      "   <br/>\n",
      "   Disch Rt | Capacity | Runtime\n",
      "   <br/>\n",
      "   100 mA | 908 mAh  | 9 hrs\n",
      "   <br/>\n",
      "   200 mA | 590 mAh  | 2.9 hrs\n",
      "   <br/>\n",
      "   400 mA | 443 mAh  | 1.1 hrs\n",
      "   <br/>\n",
      "   <br/>\n",
      "   My other battery tests/reviews:\n",
      "   <br/>\n",
      "   <br/>\n",
      "   I have posted reviews for Duracell Coppertop, Duracell Procell and ACDelco aaa alkaline batteries with capacity data gathered using the exact same method and equipment. To find those reviews for comparison purposes, go to the product pages linked below and search for 'mah' under 'all reviews' (or just browse to them on my profile). If/when I do additional aaa tests/reviews in the future, I will update this list.\n",
      "   <br/>\n",
      "   <br/>\n",
      "  </br>\n",
      " </span>\n",
      " <a class=\"a-link-normal\" data-hook=\"product-link-linked\" href=\"/ACDelco-AAA-Super-Alkaline-Batteries/dp/B00FF8KQJC/ref=cm_cr_dp_d_rvw_txt?ie=UTF8\">\n",
      "  ACDelco AAA Super Alkaline Batteries\n",
      " </a>\n",
      " <span>\n",
      "  <br/>\n",
      " </span>\n",
      " <a class=\"a-link-normal\" data-hook=\"product-link-linked\" href=\"/Duracell-AAA-Batteries-Coppertop-MN2400-20-Pack/dp/B00G3KQCN0/ref=cm_cr_dp_d_rvw_txt?ie=UTF8\">\n",
      "  Duracell AAA Batteries Coppertop MN2400 - 20 Pack\n",
      " </a>\n",
      " <span>\n",
      "  <br/>\n",
      " </span>\n",
      " <a class=\"a-link-normal\" data-hook=\"product-link-linked\" href=\"/Duracell-Procell-AAA-Batteries-PC2400BKD09/dp/B0013DQY4O/ref=cm_cr_dp_d_rvw_txt?ie=UTF8\">\n",
      "  Duracell Procell AAA Batteries PC2400BKD09\n",
      " </a>\n",
      " <span>\n",
      "  <br/>\n",
      " </span>\n",
      " <a class=\"a-link-normal\" data-hook=\"product-link-linked\" href=\"/Energizer-MAX-AAA-Batteries/dp/B004U3O87Y/ref=cm_cr_dp_d_rvw_txt?ie=UTF8\">\n",
      "  Energizer MAX AAA Batteries\n",
      " </a>\n",
      " <span>\n",
      "  <br/>\n",
      " </span>\n",
      " <a class=\"a-link-normal\" data-hook=\"product-link-linked\" href=\"/Maxell-Alkaline-Battery-AAA-Cell/dp/B00005T3EG/ref=cm_cr_dp_d_rvw_txt?ie=UTF8\">\n",
      "  Maxell Alkaline Battery AAA Cell\n",
      " </a>\n",
      " <span>\n",
      "  <br/>\n",
      " </span>\n",
      " <a class=\"a-link-normal\" data-hook=\"product-link-linked\" href=\"/Rayovac-Alkaline-AAA-Batteries/dp/B00XWP9H90/ref=cm_cr_dp_d_rvw_txt?ie=UTF8\">\n",
      "  Rayovac Alkaline AAA Batteries\n",
      " </a>\n",
      "</div>\n",
      "\n"
     ]
    }
   ],
   "source": [
    "review_text = soup.find_all(class_=\"reviewText\")\n",
    "print(review_text[0].prettify())"
   ]
  },
  {
   "cell_type": "code",
   "execution_count": 14,
   "metadata": {},
   "outputs": [
    {
     "data": {
      "text/plain": [
       "\"\\nAmazonBasics batteries are quite good in terms of capacity -- pretty much tied for the top spot compared to the other 6 brands I've tested, but other brands have the edge in capacity per dollar. When I computed value by dividing capacity by the cost per battery of the cheapest package size, they took a respectable third place, and they have the advantage of being a trusted name compared to the value leader.  In the images I have attached a graph and a table summarizing my test results for the 7 types I've tested, but if you'd like to know more about how I test ... on to the in-dept test & review.I've been on a bit of a quest to test all of the top-selling aaa batteries on Amazon in a repeatable, precise way. This means the same equipment, same environmental conditions, and same slots in the equipment will be used for each test. For each test, I fully discharge 3 batteries in my Opus BT-C2000 battery analyzer at rates of 100 ma, 200 ma, and 400 ma (discharge rate affects usable capacity). I have also performed this exact same test (same equipment, same conditions) on the ACDelco, Duracell Procell, Duracell Coppertop, Energizer MAX, Maxell, and Rayovac. I have linked the other brands I've reviewed at the end of this review if you'd like to take a look at the other results for comparison purposes. For the Amazon Basics batteries, the capacity at each discharge rate was:Disch Rt | Capacity  | Runtime  | Sample use case100 mA | 997 mAh  | 10 hrs  |  Low-power LED flashlight200 mA | 914 mAh  | 4.5 hrs  |  Electronic toy / medium LED flashlight400 mA | 623 mAh  | 1.5 hrs  |  Motorized toy / bright LED flashlightNote that these (and all other Alkalines) would achieve somewhat higher capacity (maybe 1200 mAh) in a low discharge application like a mouse, keyboard, remote control, etc because alkaline batteries have internal resistance that reduces usable capacity at high discharge rates.The capacity of these batteries is among the best I've tested -- take a look at the attached data table for comparative data. For the cost (~$0.31/ea in a 36 pack right now), these are a decent but beatable value -- the power supplied per dollar spent is very good, but eclipsed by other currently available options.Comparison:These batteries do well capacity-wise, but value-wise are blown away by the currently cheapest energy/dollar battery that I've tested, the ACDelco aaa's. Their capacity results were:Disch Rt | Capacity  | Runtime100 mA | 1005 mAh  | 10 hrs200 mA | 864 mAh  | 4.3 hrs400 mA | 670 mAh  | 1.7 hrsAs you can see, the Amazon batteries were very comperable ... but, at the current time the AmazonBasics batteries are $0.31/ea (36 pack), while the ACDelco batteries are about $0.21/ea (48 pack) -- so the ACDelco are significantly cheaper per mAh. I did not test shelf life, so it's possible that these may hold up better sitting in a drawer. Although both the Amazon batteries and the ACDelco batteries are certainly made on contract by a third party, I do think that I trust Amazon a bit more to provide consistent batteries than ACDelco ... although I haven't had any trouble with my ACDelco batteries so far. It's also worth noting that the Amazon batteries come in clearly superior packaging - while the ACDelco batteries come in a horrible gigantic plastic blister pack, the Amazon batteries come in a closable cardboard box. If you don't go through a lot of batteries & organization of your battery drawer is important to you, that could push them into the all-around winner category despite the ~50% price premium.Finally, because another review specifically mentions the Rayovac AA's as being 'good' in some usage scenarios, I thought I'd share my findings for the Rayovac AAA's. In short, they're garbage - the Amazon batteries are better in EVERY case. It's possible that the Rayovac AA's are much better than the AAA's, but I think it's more likely that the version of the Rayovacs tested by the website that he got his results from is different than the most popular Rayovac on Amazon (I source all of my batteries from Amazon). I ran the Rayovac test several times because I couldn't believe how poorly they did ... here are some typical Rayovac results:Disch Rt | Capacity | Runtime100 mA | 908 mAh  | 9 hrs200 mA | 590 mAh  | 2.9 hrs400 mA | 443 mAh  | 1.1 hrsMy other battery tests/reviews:I have posted reviews for Duracell Coppertop, Duracell Procell and ACDelco aaa alkaline batteries with capacity data gathered using the exact same method and equipment. To find those reviews for comparison purposes, go to the product pages linked below and search for 'mah' under 'all reviews' (or just browse to them on my profile). If/when I do additional aaa tests/reviews in the future, I will update this list.\\nACDelco AAA Super Alkaline BatteriesDuracell AAA Batteries Coppertop MN2400 - 20 PackDuracell Procell AAA Batteries PC2400BKD09Energizer MAX AAA BatteriesMaxell Alkaline Battery AAA CellRayovac Alkaline AAA Batteries\""
      ]
     },
     "execution_count": 14,
     "metadata": {},
     "output_type": "execute_result"
    }
   ],
   "source": [
    "review_text_def = ((review_text[0].get_text()).replace('\\n\\n  ','')).replace('\\n\\n','')\n",
    "review_text_def"
   ]
  },
  {
   "cell_type": "code",
   "execution_count": 15,
   "metadata": {},
   "outputs": [
    {
     "data": {
      "text/plain": [
       "['4.0',\n",
       " '5.0',\n",
       " '5.0',\n",
       " '5.0',\n",
       " '5.0',\n",
       " '5.0',\n",
       " '5.0',\n",
       " '5.0',\n",
       " '5.0',\n",
       " '4.0',\n",
       " '5.0',\n",
       " '4.0',\n",
       " '5.0']"
      ]
     },
     "execution_count": 15,
     "metadata": {},
     "output_type": "execute_result"
    }
   ],
   "source": [
    "review_rating = [rr.get_text() for rr in review_rating]\n",
    "review_ratings=[]\n",
    "for rrat in review_rating:    \n",
    "    rrat = rrat[:(rrat.find(' out'))]\n",
    "    review_ratings.append(rrat)\n",
    "review_ratings"
   ]
  },
  {
   "cell_type": "code",
   "execution_count": 16,
   "metadata": {},
   "outputs": [
    {
     "data": {
      "text/plain": [
       "['7 brands, 1 test: results',\n",
       " 'Good value for money and not too far behind other reputed brands in terms of longevity',\n",
       " 'Lasting by actual count 3 times as long as Eveready or Duracell',\n",
       " 'good value on basic batteries',\n",
       " 'Great product and long lasting!',\n",
       " 'They’re batteries…',\n",
       " 'Battery please!',\n",
       " 'Best choice for longevity, low price of all competitors',\n",
       " 'Great Value for Money',\n",
       " 'Reasonable value AAA batteries',\n",
       " 'Muy duraderas',\n",
       " 'pleased with items so far.',\n",
       " 'Perfect']"
      ]
     },
     "execution_count": 16,
     "metadata": {},
     "output_type": "execute_result"
    }
   ],
   "source": [
    "review_titles=[]\n",
    "for rt in review_title:    \n",
    "    rt = rt.get_text().replace('\\n','')\n",
    "    review_titles.append(rt)\n",
    "review_titles"
   ]
  },
  {
   "cell_type": "code",
   "execution_count": 17,
   "metadata": {
    "scrolled": true
   },
   "outputs": [
    {
     "data": {
      "text/plain": [
       "['January 21, 2016',\n",
       " 'November 4, 2022',\n",
       " 'October 18, 2022',\n",
       " 'October 24, 2022',\n",
       " 'November 11, 2022',\n",
       " 'November 13, 2022',\n",
       " 'November 7, 2022',\n",
       " 'October 29, 2022',\n",
       " 'October 26, 2018',\n",
       " 'June 5, 2019',\n",
       " 'August 13, 2019',\n",
       " 'April 17, 2019',\n",
       " 'August 8, 2019']"
      ]
     },
     "execution_count": 17,
     "metadata": {},
     "output_type": "execute_result"
    }
   ],
   "source": [
    "review_date1=[]\n",
    "for rdate1 in review_date:    \n",
    "    rdate1 = rdate1.get_text()\n",
    "    review_date1.append(rdate1)\n",
    "review_date1\n",
    "\n",
    "review_dates=[]\n",
    "for rdate2 in review_date1:    \n",
    "    rdate2 = rdate2[(rdate2.find('on ')+3):]\n",
    "    review_dates.append(rdate2)\n",
    "review_dates"
   ]
  },
  {
   "cell_type": "code",
   "execution_count": 18,
   "metadata": {},
   "outputs": [
    {
     "data": {
      "text/plain": [
       "[\"AmazonBasics batteries are quite good in terms of capacity -- pretty much tied for the top spot compared to the other 6 brands I've tested, but other brands have the edge in capacity per dollar. When I computed value by dividing capacity by the cost per battery of the cheapest package size, they took a respectable third place, and they have the advantage of being a trusted name compared to the value leader.  In the images I have attached a graph and a table summarizing my test results for the 7 types I've tested, but if you'd like to know more about how I test ... on to the in-dept test & review.I've been on a bit of a quest to test all of the top-selling aaa batteries on Amazon in a repeatable, precise way. This means the same equipment, same environmental conditions, and same slots in the equipment will be used for each test. For each test, I fully discharge 3 batteries in my Opus BT-C2000 battery analyzer at rates of 100 ma, 200 ma, and 400 ma (discharge rate affects usable capacity). I have also performed this exact same test (same equipment, same conditions) on the ACDelco, Duracell Procell, Duracell Coppertop, Energizer MAX, Maxell, and Rayovac. I have linked the other brands I've reviewed at the end of this review if you'd like to take a look at the other results for comparison purposes. For the Amazon Basics batteries, the capacity at each discharge rate was:Disch Rt | Capacity  | Runtime  | Sample use case100 mA | 997 mAh  | 10 hrs  |  Low-power LED flashlight200 mA | 914 mAh  | 4.5 hrs  |  Electronic toy / medium LED flashlight400 mA | 623 mAh  | 1.5 hrs  |  Motorized toy / bright LED flashlightNote that these (and all other Alkalines) would achieve somewhat higher capacity (maybe 1200 mAh) in a low discharge application like a mouse, keyboard, remote control, etc because alkaline batteries have internal resistance that reduces usable capacity at high discharge rates.The capacity of these batteries is among the best I've tested -- take a look at the attached data table for comparative data. For the cost (~$0.31/ea in a 36 pack right now), these are a decent but beatable value -- the power supplied per dollar spent is very good, but eclipsed by other currently available options.Comparison:These batteries do well capacity-wise, but value-wise are blown away by the currently cheapest energy/dollar battery that I've tested, the ACDelco aaa's. Their capacity results were:Disch Rt | Capacity  | Runtime100 mA | 1005 mAh  | 10 hrs200 mA | 864 mAh  | 4.3 hrs400 mA | 670 mAh  | 1.7 hrsAs you can see, the Amazon batteries were very comperable ... but, at the current time the AmazonBasics batteries are $0.31/ea (36 pack), while the ACDelco batteries are about $0.21/ea (48 pack) -- so the ACDelco are significantly cheaper per mAh. I did not test shelf life, so it's possible that these may hold up better sitting in a drawer. Although both the Amazon batteries and the ACDelco batteries are certainly made on contract by a third party, I do think that I trust Amazon a bit more to provide consistent batteries than ACDelco ... although I haven't had any trouble with my ACDelco batteries so far. It's also worth noting that the Amazon batteries come in clearly superior packaging - while the ACDelco batteries come in a horrible gigantic plastic blister pack, the Amazon batteries come in a closable cardboard box. If you don't go through a lot of batteries & organization of your battery drawer is important to you, that could push them into the all-around winner category despite the ~50% price premium.Finally, because another review specifically mentions the Rayovac AA's as being 'good' in some usage scenarios, I thought I'd share my findings for the Rayovac AAA's. In short, they're garbage - the Amazon batteries are better in EVERY case. It's possible that the Rayovac AA's are much better than the AAA's, but I think it's more likely that the version of the Rayovacs tested by the website that he got his results from is different than the most popular Rayovac on Amazon (I source all of my batteries from Amazon). I ran the Rayovac test several times because I couldn't believe how poorly they did ... here are some typical Rayovac results:Disch Rt | Capacity | Runtime100 mA | 908 mAh  | 9 hrs200 mA | 590 mAh  | 2.9 hrs400 mA | 443 mAh  | 1.1 hrsMy other battery tests/reviews:I have posted reviews for Duracell Coppertop, Duracell Procell and ACDelco aaa alkaline batteries with capacity data gathered using the exact same method and equipment. To find those reviews for comparison purposes, go to the product pages linked below and search for 'mah' under 'all reviews' (or just browse to them on my profile). If/when I do additional aaa tests/reviews in the future, I will update this list.ACDelco AAA Super Alkaline BatteriesDuracell AAA Batteries Coppertop MN2400 - 20 PackDuracell Procell AAA Batteries PC2400BKD09Energizer MAX AAA BatteriesMaxell Alkaline Battery AAA CellRayovac Alkaline AAA Batteries\",\n",
       " \"Speaking from practical experience of using these batteries,  these batteries are great.  These are much more reliable than some of the other reputed brands.  The primary concern was on longevity of these batteries and that is something which is difficult to compromise on.  So in my experience have found them to last about 90% of other more reputed brands.  That's not bad considering the price gap between the two.The construction looks good and eventually these batteries can be disposed off after their life is over. The pins and connectors are all good, no problems whatsoever.And of course great value for money as these aren't very expensive.Overall happy with the purchase.\",\n",
       " 'I was skeptical but figured they couldn\\'t be any worse than was I was buying at Lowes.  I got fed up when the price of a triple-A battery got up to a dollar each.  I thought that even if these didn\\'t last any longer at least they were a lot cheaper.  I use these in an LED headlamp band that I wear every evening when I check my barns at bedtime.  So, same use, same amount of time by actual count, in comparing these to both the Eveready and Duracell batteries that I had been buying.  To my very great surprise, these batteries actually last THREE times as many days as either of the \"name\" brand.  I\\'m convinced, and will be buying these from now on.  Excellent value for the money, and you won\\'t see many reviews from me that enthusiastic.',\n",
       " \"I don't do experiments with batteries to see which ones are more powerful or last longer. I've been using these AA cells, and their AAA cousins, for quite a while and I thought I'd just say I think these are as good as any other for basic household uses like remote controls, small flashlights or electric toothbrushes. And they're a good value for multi-packs so that you almost always have some around when you need them. At some point everything will probably be USB rechargeable; until then I'll keep buying these batteries.\",\n",
       " 'Thank you to Amazon for getting these batteries shipped out to South Florida after Hurricane Ian. My friend shared them with neighbors and they are still going strong! Very reasonably prices and a quality product!',\n",
       " 'They do what they’re supposed to- they power things. Bluetooth mouse, toys, other toys…they do as AA batteries should. Seem to work as well and as long as any other, though I haven’t directly compared.',\n",
       " 'Batteries are great value for the price. Good for all the kids toys and noise makers. Packaging is easy to store and convenient for access when needed. Batteries are made from good materials and have a clean appeal. Power it up!',\n",
       " 'Several sites on Youtube did comparison of Amazon, Energizer, Duracell, and the cheap brand.  Amazon for the price was the top choice.  It lived as long as either the Energizer or Duracell and those two are so expensive for just a few.  Amazon then has always been my first choice, for the price and reliability long term.',\n",
       " \"Now, you can spend quite a bit on batteries that promise huge lifespans or you can be a little more parsimonious and get a lot of batteries that may not last quite as long but come close enough.And this is where these come in. Cheap to buy but last well. Not up there with the brand leaders but given the price differential considerably better value per minute of use.To be honest, the only reason to spend more money than these ones cost is because you don't have any space at all such as mountain climbing in the dark using a head torch. Other than that, these are a no brainer purchase.\",\n",
       " 'These are good alkaline AAA batteries that alas, arrive rather over extravagantly boxed!Whilst there are cheaper AAA alkaline batteries available on Amazon, these seem as good as any of the high street brands, with a good shelf and working life.Amazon quick delivery was, as always, appreciated.',\n",
       " 'Me ha gustado mucho este pack, sale bastante económico y hay bastantes pilas por el precio! Las pilas son duraderas. Estoy contenta y seguro que las vuelvo a comprar! Las recomiendo.Espero que la información os sirva y os ayude a decidir si comprar el producto o no 😜 Gracias por leerme.',\n",
       " 'ive got no complaints  the batteries so far are ok,hope they continue to do so/ thank you.',\n",
       " 'Perfect']"
      ]
     },
     "execution_count": 18,
     "metadata": {},
     "output_type": "execute_result"
    }
   ],
   "source": [
    "review_texts=[]\n",
    "for rtext in review_text:    \n",
    "    rtext = rtext.get_text().replace('\\n','').lstrip()\n",
    "    review_texts.append(rtext)\n",
    "review_texts"
   ]
  },
  {
   "cell_type": "code",
   "execution_count": 19,
   "metadata": {},
   "outputs": [
    {
     "data": {
      "text/plain": [
       "['Verified Purchase',\n",
       " 'Verified Purchase',\n",
       " 'Verified Purchase',\n",
       " 'Verified Purchase',\n",
       " 'Verified Purchase',\n",
       " 'Verified Purchase',\n",
       " 'Verified Purchase',\n",
       " 'Verified Purchase',\n",
       " 'Verified Purchase',\n",
       " 'Verified Purchase',\n",
       " 'Verified Purchase',\n",
       " 'Verified Purchase',\n",
       " 'Verified Purchase']"
      ]
     },
     "execution_count": 19,
     "metadata": {},
     "output_type": "execute_result"
    }
   ],
   "source": [
    "review_ver_purchase = soup.find_all(class_=\"a-size-mini a-color-state a-text-bold\")\n",
    "review_ver_purchases = [vp.get_text() for vp in review_ver_purchase]\n",
    "review_ver_purchases"
   ]
  },
  {
   "cell_type": "markdown",
   "metadata": {},
   "source": [
    "__Question:__ Describe an scenario in where this script is useful for NLP"
   ]
  },
  {
   "cell_type": "code",
   "execution_count": 20,
   "metadata": {},
   "outputs": [
    {
     "data": {
      "text/html": [
       "<div>\n",
       "<style scoped>\n",
       "    .dataframe tbody tr th:only-of-type {\n",
       "        vertical-align: middle;\n",
       "    }\n",
       "\n",
       "    .dataframe tbody tr th {\n",
       "        vertical-align: top;\n",
       "    }\n",
       "\n",
       "    .dataframe thead th {\n",
       "        text-align: right;\n",
       "    }\n",
       "</style>\n",
       "<table border=\"1\" class=\"dataframe\">\n",
       "  <thead>\n",
       "    <tr style=\"text-align: right;\">\n",
       "      <th></th>\n",
       "      <th>review_stars</th>\n",
       "      <th>review_title</th>\n",
       "      <th>review_date</th>\n",
       "      <th>review_text</th>\n",
       "      <th>verified_purchase_id</th>\n",
       "    </tr>\n",
       "  </thead>\n",
       "  <tbody>\n",
       "    <tr>\n",
       "      <th>0</th>\n",
       "      <td>4.0</td>\n",
       "      <td>7 brands, 1 test: results</td>\n",
       "      <td>January 21, 2016</td>\n",
       "      <td>AmazonBasics batteries are quite good in terms...</td>\n",
       "      <td>Verified Purchase</td>\n",
       "    </tr>\n",
       "    <tr>\n",
       "      <th>1</th>\n",
       "      <td>5.0</td>\n",
       "      <td>Good value for money and not too far behind ot...</td>\n",
       "      <td>November 4, 2022</td>\n",
       "      <td>Speaking from practical experience of using th...</td>\n",
       "      <td>Verified Purchase</td>\n",
       "    </tr>\n",
       "    <tr>\n",
       "      <th>2</th>\n",
       "      <td>5.0</td>\n",
       "      <td>Lasting by actual count 3 times as long as Eve...</td>\n",
       "      <td>October 18, 2022</td>\n",
       "      <td>I was skeptical but figured they couldn't be a...</td>\n",
       "      <td>Verified Purchase</td>\n",
       "    </tr>\n",
       "    <tr>\n",
       "      <th>3</th>\n",
       "      <td>5.0</td>\n",
       "      <td>good value on basic batteries</td>\n",
       "      <td>October 24, 2022</td>\n",
       "      <td>I don't do experiments with batteries to see w...</td>\n",
       "      <td>Verified Purchase</td>\n",
       "    </tr>\n",
       "    <tr>\n",
       "      <th>4</th>\n",
       "      <td>5.0</td>\n",
       "      <td>Great product and long lasting!</td>\n",
       "      <td>November 11, 2022</td>\n",
       "      <td>Thank you to Amazon for getting these batterie...</td>\n",
       "      <td>Verified Purchase</td>\n",
       "    </tr>\n",
       "    <tr>\n",
       "      <th>5</th>\n",
       "      <td>5.0</td>\n",
       "      <td>They’re batteries…</td>\n",
       "      <td>November 13, 2022</td>\n",
       "      <td>They do what they’re supposed to- they power t...</td>\n",
       "      <td>Verified Purchase</td>\n",
       "    </tr>\n",
       "    <tr>\n",
       "      <th>6</th>\n",
       "      <td>5.0</td>\n",
       "      <td>Battery please!</td>\n",
       "      <td>November 7, 2022</td>\n",
       "      <td>Batteries are great value for the price. Good ...</td>\n",
       "      <td>Verified Purchase</td>\n",
       "    </tr>\n",
       "    <tr>\n",
       "      <th>7</th>\n",
       "      <td>5.0</td>\n",
       "      <td>Best choice for longevity, low price of all co...</td>\n",
       "      <td>October 29, 2022</td>\n",
       "      <td>Several sites on Youtube did comparison of Ama...</td>\n",
       "      <td>Verified Purchase</td>\n",
       "    </tr>\n",
       "    <tr>\n",
       "      <th>8</th>\n",
       "      <td>5.0</td>\n",
       "      <td>Great Value for Money</td>\n",
       "      <td>October 26, 2018</td>\n",
       "      <td>Now, you can spend quite a bit on batteries th...</td>\n",
       "      <td>Verified Purchase</td>\n",
       "    </tr>\n",
       "    <tr>\n",
       "      <th>9</th>\n",
       "      <td>4.0</td>\n",
       "      <td>Reasonable value AAA batteries</td>\n",
       "      <td>June 5, 2019</td>\n",
       "      <td>These are good alkaline AAA batteries that ala...</td>\n",
       "      <td>Verified Purchase</td>\n",
       "    </tr>\n",
       "    <tr>\n",
       "      <th>10</th>\n",
       "      <td>5.0</td>\n",
       "      <td>Muy duraderas</td>\n",
       "      <td>August 13, 2019</td>\n",
       "      <td>Me ha gustado mucho este pack, sale bastante e...</td>\n",
       "      <td>Verified Purchase</td>\n",
       "    </tr>\n",
       "    <tr>\n",
       "      <th>11</th>\n",
       "      <td>4.0</td>\n",
       "      <td>pleased with items so far.</td>\n",
       "      <td>April 17, 2019</td>\n",
       "      <td>ive got no complaints  the batteries so far ar...</td>\n",
       "      <td>Verified Purchase</td>\n",
       "    </tr>\n",
       "    <tr>\n",
       "      <th>12</th>\n",
       "      <td>5.0</td>\n",
       "      <td>Perfect</td>\n",
       "      <td>August 8, 2019</td>\n",
       "      <td>Perfect</td>\n",
       "      <td>Verified Purchase</td>\n",
       "    </tr>\n",
       "  </tbody>\n",
       "</table>\n",
       "</div>"
      ],
      "text/plain": [
       "   review_stars                                       review_title  \\\n",
       "0           4.0                          7 brands, 1 test: results   \n",
       "1           5.0  Good value for money and not too far behind ot...   \n",
       "2           5.0  Lasting by actual count 3 times as long as Eve...   \n",
       "3           5.0                      good value on basic batteries   \n",
       "4           5.0                    Great product and long lasting!   \n",
       "5           5.0                                 They’re batteries…   \n",
       "6           5.0                                    Battery please!   \n",
       "7           5.0  Best choice for longevity, low price of all co...   \n",
       "8           5.0                              Great Value for Money   \n",
       "9           4.0                     Reasonable value AAA batteries   \n",
       "10          5.0                                      Muy duraderas   \n",
       "11          4.0                         pleased with items so far.   \n",
       "12          5.0                                            Perfect   \n",
       "\n",
       "          review_date                                        review_text  \\\n",
       "0    January 21, 2016  AmazonBasics batteries are quite good in terms...   \n",
       "1    November 4, 2022  Speaking from practical experience of using th...   \n",
       "2    October 18, 2022  I was skeptical but figured they couldn't be a...   \n",
       "3    October 24, 2022  I don't do experiments with batteries to see w...   \n",
       "4   November 11, 2022  Thank you to Amazon for getting these batterie...   \n",
       "5   November 13, 2022  They do what they’re supposed to- they power t...   \n",
       "6    November 7, 2022  Batteries are great value for the price. Good ...   \n",
       "7    October 29, 2022  Several sites on Youtube did comparison of Ama...   \n",
       "8    October 26, 2018  Now, you can spend quite a bit on batteries th...   \n",
       "9        June 5, 2019  These are good alkaline AAA batteries that ala...   \n",
       "10    August 13, 2019  Me ha gustado mucho este pack, sale bastante e...   \n",
       "11     April 17, 2019  ive got no complaints  the batteries so far ar...   \n",
       "12     August 8, 2019                                            Perfect   \n",
       "\n",
       "   verified_purchase_id  \n",
       "0     Verified Purchase  \n",
       "1     Verified Purchase  \n",
       "2     Verified Purchase  \n",
       "3     Verified Purchase  \n",
       "4     Verified Purchase  \n",
       "5     Verified Purchase  \n",
       "6     Verified Purchase  \n",
       "7     Verified Purchase  \n",
       "8     Verified Purchase  \n",
       "9     Verified Purchase  \n",
       "10    Verified Purchase  \n",
       "11    Verified Purchase  \n",
       "12    Verified Purchase  "
      ]
     },
     "execution_count": 20,
     "metadata": {},
     "output_type": "execute_result"
    }
   ],
   "source": [
    "review = pd.DataFrame({\n",
    "        \"review_stars\": review_ratings, \n",
    "        \"review_title\": review_titles, \n",
    "        \"review_date\": review_dates, \n",
    "        \"review_text\": review_texts,\n",
    "        \"verified_purchase_id\": review_ver_purchases    \n",
    "    })\n",
    "review"
   ]
  },
  {
   "cell_type": "markdown",
   "metadata": {},
   "source": [
    "## robots.txt\n",
    "The robots exclusion standard, also known as the robots exclusion protocol or simply robots.txt, is a standard used by websites to communicate with web crawlers and other web robots. The standard specifies how to inform the web robot about which areas of the website should not be processed or scanned. Robots are often used by search engines to categorize websites.\n",
    "\n",
    "When a site owner wishes to give instructions to web robots they place a text file called robots.txt in the root of the web site hierarchy (e.g. https://www.example.com/robots.txt). This text file contains the instructions in a specific format (see examples below). Robots that choose to follow the instructions try to fetch this file and read the instructions before fetching any other file from the website. If this file doesn't exist, web robots assume that the website owner does not wish to place any limitations on crawling the entire site.\n",
    "\n",
    "A robots.txt file on a website will function as a request that specified robots ignore specified files or directories when crawling a site. This might be, for example, out of a preference for privacy from search engine results, or the belief that the content of the selected directories might be misleading or irrelevant to the categorization of the site as a whole, or out of a desire that an application only operates on certain data. Links to pages listed in robots.txt can still appear in search results if they are linked to from a page that is crawled.\n",
    "\n",
    "__Despite the use of the terms \"allow\" and \"disallow\", the protocol is purely advisory and relies on the compliance of the web robot__\n",
    "\n",
    "https://developers.google.com/search/docs/advanced/robots/intro\n",
    "\n",
    "example: <br>\n",
    "https://www.amazon.es/robots.txt"
   ]
  },
  {
   "cell_type": "markdown",
   "metadata": {},
   "source": [
    "__Exercise:__<br>\n",
    "Find how to pass the following firewall."
   ]
  },
  {
   "cell_type": "code",
   "execution_count": 42,
   "metadata": {},
   "outputs": [],
   "source": [
    "   headers = {\n",
    "        'authority': 'www.bloomberg.com' ,\n",
    "  'accept': \"text/html,application/xhtml+xml,application/xml;q=0.9,image/avif,image/webp,image/apng,*/*;q=0.8,application/signed-exchange;v=b3;q=0.9\" ,\n",
    "  'accept-language': \"en-GB,en-US;q=0.9,en;q=0.8\" ,\n",
    "  'cache-control': \"max-age=0\",\n",
    "  'cookie': \"\"\"_schn = _151wtbh; _scid=f25088bf-2958-4b98-99c8-80851d59dc2a; __sppvid=de8e7992-179b-4981-b663-3ed029bbba42; seen_uk=1; exp_pref=EUR; pxcts=a0873f3d-6771-11ed-9bb2-6b7345777a43; _pxvid=a0873191-6771-11ed-9bb2-6b7345777a43; _pxff_rf=1; _pxff_fp=1; _sp_v1_uid=1:289:106ad2af-4882-4e69-af49-22c87ab69f19; _sp_v1_ss=1:H4sIAAAAAAAAAItWqo5RKimOUbLKK83J0YlRSkVil4AlqmtrlXSGk7JoIhl5IIZBbSwuI-khoRQLAP7hQqiiAQAA; sampledUser=false; agent_id=93ea9758-830b-4852-aed0-db0eb5031dcb; session_id=29e49ebb-c261-4d1a-acd7-2da4432e53a5; session_key=6d0b5bce3f6117a62c17f3ed32c7a4b892b92647; gatehouse_id=86ed1466-4467-4bc3-b09b-8fa2f68e62a9; geo_info=%7B%22countryCode%22%3A%22ES%22%2C%22country%22%3A%22ES%22%2C%22field_d%22%3A%22unav.es%22%2C%22field_n%22%3A%22hf%22%2C%22trackingRegion%22%3A%22Europe%22%2C%22cacheExpiredTime%22%3A1669402146089%2C%22region%22%3A%22Europe%22%2C%22fieldN%22%3A%22hf%22%2C%22fieldD%22%3A%22unav.es%22%7D%7C1669402146089; geo_info={%22country%22:%22ES%22%2C%22region%22:%22Europe%22%2C%22fieldD%22:%22unav.es%22%2C%22fieldN%22:%22hf%22}|1669402146127; _px3=442a2694b949cbb6dcb0ff378b0215cd3639191102ce8ebff241c88b50b4ca71:x29Ayo11ab1ixCvjFh4PifGxWKCupmip+RH+A9Zp+DR2NLzfzGS73ueFP3VyO/o9vNThiQelswb+kzLCeshoag==:1000:BFxVBsyU2bNksBcVGcNx//oqBqpChfudXnMew5NgyNe+p4Wyzr5ygC+iZLIUs6t+BwKDVhGR/EaSznDF5ez3geNRKrPxY7YKrlTSxWABHuOwUIkD0qRzFrNkPyWc7gWumX2OemUC46w7ipdntMnjbHP1SQPHDIXcIQBpHADA0xNXCF/RYFz8Xbwv6y8ns6YPNJE/tS7bOtd6jM/XWt0Fwg==; _px2=eyJ1IjoiYWQzNzk1ZTAtNjc3MS0xMWVkLWEzMTYtMDc0OTdiMTgwNDdiIiwidiI6ImEwODczMTkxLTY3NzEtMTFlZC05YmIyLTZiNzM0NTc3N2E0MyIsInQiOjE2Njg3OTc2NDYzNzEsImgiOiI0ZWUwYmRjODUzZjY5YWE4NGU0MWQ0NTBiMmM4YjI2ZWE3NGY2ZTk1NDczNjExYWFkODc1NDUzNDI4MDYzMTUyIn0=; _ga_GQ1PBLXZCT=GS1.1.1668797323.1.1.1668797346.0.0.0; ccpaUUID=edcb842a-f814-4618-99fb-f99121219574; dnsDisplayed=true; ccpaApplies=true; signedLspa=false; _tb_sess_r=https%3A//www.bloomberg.com/tosv2.html%3Fvid%3D%26uuid%3Da0009844-6771-11ed-9f67-4d4664645246%26url%3DL3F1b3RlL1NQWDpJTkQ%3D; _tb_t_ppg=https%3A//www.bloomberg.com/quote/SPX%3AIND; _ga=GA1.2.1890042947.1668797324; _gid=GA1.2.1981318809.1668797347; _reg-csrf-token=OpO685bn-qSu95W8P2JUDRh1SM-Ji-UNm7Rs; _reg-csrf=s%3AbOkSZkdWnCdcQZANh4rTyN-0.pcM%2F8xoIZG7mIr%2Fgqz6j1tZsV27VWPs8Rr%2B0J4zOFlc; _user-data=%7B%22status%22%3A%22anonymous%22%7D; _last-refresh=2022-11-18%2018%3A49; _sp_krux=true; euconsent-v2=CPio-4APio-4AAGABCENCrCgAP_AAGLAAAiQH9oB9CpGCTFDKGh4AIsAEAQXwBAEAOAAAAABAAAAAAgQAIwCAEASAACAAAACAAAAIAIAAAAAEAAAAEAAQAAAAAFAAAAEAAAAAAAAAAAAAAAAAAAAAAEAAAAAAUAAAFAAgEAAABIAQAQAAAAAAAAAAAAAAAAAAAAAAAAAAAAAAAAAgYtAPAAcADkAH4AjgCBwEHAQgAiIBFgC6gGBANeAdQBZQC8wGLAHDIAoATABHAEcAXIAvMRABAXIEgKgALAAqABkADgAIAAZAA0gCIAIoATAAngB-AEIAI4AUoA7wB7AEcAJSAcQBcgDJAgAIAH4Cmw0AEBcgYACApsVAFACYAI4AjgC5AF5joDIACwAKgAZAA4ACAAFwAMgAaQBEAEUAJgATwAxAB-AEwAKMAUoAygB3gD2AI4ASkA4gB1AFyAMkHAAwALgCOAU2QgHAALAAyAC4AJgAYgBHAClAGUAO8AjgBKQDqALKAXISgGgALAAyABwAIgATAAxACOAFGAKUAZQA7wCOAHUJAAQALlICgACwAKgAZAA4ACAAGQANIAiACKAEwAJ4AYgA_ACjAFKAMoAd4BHACUgLkAZIUABgAXAIOApsAAA.YAAAAAAAAAAA; consentUUID=3faeda70-11cc-4396-8fde-0c6e9a4fbc3b_13; _sp_v1_data=2:517482:1668797230:0:1:-1:1:0:0:_:-1; _sp_v1_opt=1:login|true:last_id|11:; _sp_v1_csv=; _sp_v1_lt=1:; bbgconsentstring=req1fun1pad1; bdfpc=004.5449857892.1668797348805; _gcl_au=1.1.2020409233.1668797349; _uetsid=af682690677111ed9b8a2f79b2ded8db; _uetvid=af681a60677111ed9dfba506c147cf12; _rdt_uuid=1668797349028.d904da97-ba2a-4687-8603-f7ccf6e68e0a; _pxde=318d9f34d1bd94831ed7e054399fb5e569b063caebd88f603057c830578ed5fb:eyJ0aW1lc3RhbXAiOjE2Njg3OTczNDkyNzAsImZfa2IiOjAsImlwY19pZCI6W119; _fbp=fb.1.1668797349134.1268640029; ln_or=d; lotame_domain_check=bloomberg.com; _cc_id=13ffcee8cee7e406e96c8ff64e289cce; panoramaId_expiry=1669402149885; panoramaId=30affb3e90a38d900a609e5742dbe32246b0fcc52f78d971876f7aa67ed31189; afUserId=7349a45b-4e82-4a64-b04a-9574715742ea-p; AF_SYNC=1668797349880; __gads=ID=cdbb6794b3ebe32a:T=1668797349:S=ALNI_Ma1od9YmykEFq6ejAmuCO-UiNWpmw; __gpi=UID=00000b2266c78ea3:T=1668797349:RT=1668797349:S=ALNI_MZK5ogMuXiBbPdd1LlFVXiCDSt_kA\"\"\",\n",
    "  'if-none-match':\"\"\"W/\"4b1b1-ubZ0T8amBLQcESE87vMdouwVTnw\"'\"\"\",\n",
    "  'sec-ch-ua': \"\"\"Google Chrome\";v=\"107\", \"Chromium\";v=\"107\", \"Not=A?Brand\";v=\\\"24\\\"\"\"\",\n",
    "  'sec-ch-ua-mobile': '?0',\n",
    "  'sec-ch-ua-platform': \"macOS\",\n",
    "  'sec-fetch-dest': 'document',\n",
    "  'sec-fetch-mode': 'navigate',\n",
    "  'sec-fetch-site': 'none',\n",
    "  'sec-fetch-user': '?1',\n",
    "  'upgrade-insecure-requests': '1',\n",
    "  'user-agent': \"No Mozilla/5.0 (Macintosh; Intel Mac OS X 10_15_7) AppleWebKit/537.36 (KHTML, like Gecko) Chrome/107.0.0.0 Safari/537.36\",\n",
    "    }"
   ]
  },
  {
   "cell_type": "code",
   "execution_count": 43,
   "metadata": {},
   "outputs": [
    {
     "data": {
      "text/plain": [
       "<!DOCTYPE html>\n",
       "\n",
       "<html>\n",
       "<head>\n",
       "<title>Bloomberg - Are you a robot?</title>\n",
       "<meta content=\"width=device-width, initial-scale=1\" name=\"viewport\"/>\n",
       "<meta content=\"noindex\" name=\"robots\"/>\n",
       "<link href=\"https://assets.bwbx.io/font-service/css/BWHaasGrotesk-55Roman-Web,BWHaasGrotesk-75Bold-Web,BW%20Haas%20Text%20Mono%20A-55%20Roman/font-face.css\" rel=\"stylesheet\" type=\"text/css\"/>\n",
       "<style rel=\"stylesheet\" type=\"text/css\">\n",
       "        html, body, div, span, applet, object, iframe,\n",
       "        h1, h2, h3, h4, h5, h6, p, blockquote, pre,\n",
       "        a, abbr, acronym, address, big, cite, code,\n",
       "        del, dfn, em, img, ins, kbd, q, s, samp,\n",
       "        small, strike, strong, sub, sup, tt, var,\n",
       "        b, u, i, center,\n",
       "        dl, dt, dd, ol, ul, li,\n",
       "        fieldset, form, label, legend,\n",
       "        table, caption, tbody, tfoot, thead, tr, th, td,\n",
       "        article, aside, canvas, details, embed,\n",
       "        figure, figcaption, footer, header, hgroup,\n",
       "        menu, nav, output, ruby, section, summary,\n",
       "        time, mark, audio, video {\n",
       "            margin: 0;\n",
       "            padding: 0;\n",
       "            border: 0;\n",
       "            font-size: 100%;\n",
       "            font: inherit;\n",
       "            vertical-align: baseline;\n",
       "        }\n",
       "        /* HTML5 display-role reset for older browsers */\n",
       "        article, aside, details, figcaption, figure,\n",
       "        footer, header, hgroup, menu, nav, section {\n",
       "            display: block;\n",
       "        }\n",
       "        body {\n",
       "            line-height: 1;\n",
       "        }\n",
       "        ol, ul {\n",
       "            list-style: none;\n",
       "        }\n",
       "        blockquote, q {\n",
       "            quotes: none;\n",
       "        }\n",
       "        blockquote:before, blockquote:after,\n",
       "        q:before, q:after {\n",
       "            content: '';\n",
       "            content: none;\n",
       "        }\n",
       "        table {\n",
       "            border-collapse: collapse;\n",
       "            border-spacing: 0;\n",
       "        }\n",
       "\n",
       "        * {\n",
       "            box-sizing: border-box;\n",
       "        }\n",
       "\n",
       "        body {\n",
       "            background-color: #f2f2f2;\n",
       "            font-family: \"BWHaasGrotesk-55Roman-Web\";\n",
       "            line-height: 1.2;\n",
       "        }\n",
       "\n",
       "        .header {\n",
       "            margin: 0;\n",
       "            height: 60px;\n",
       "            width: 100%;\n",
       "            background-color: black;\n",
       "            color: white;\n",
       "            overflow-x: hidden;\n",
       "        }\n",
       "\n",
       "        .logo {\n",
       "            float: left;\n",
       "            margin: 0 20px;\n",
       "            height: 60px;\n",
       "            width: 140px;\n",
       "            background-image: url('data:image/svg+xml;base64,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');\n",
       "            background-repeat: no-repeat;\n",
       "            background-position: center;\n",
       "            font-size: 0;\n",
       "        }\n",
       "\n",
       "        .contact-us {\n",
       "            float: right;\n",
       "            margin: 0 20px;\n",
       "            line-height: 60px;\n",
       "            font-family: \"BWHaasGrotesk-55Roman-Web\";\n",
       "            font-size: 14px;\n",
       "            color: white;\n",
       "            text-decoration: underline;\n",
       "        }\n",
       "\n",
       "        .box {\n",
       "            margin: 30px auto;\n",
       "            padding: 30px;\n",
       "            width: 680px;\n",
       "            background-color: white;\n",
       "        }\n",
       "\n",
       "        @media (max-width:760px) {\n",
       "            .box {\n",
       "                width: calc(100% - 20px);\n",
       "            }\n",
       "        }\n",
       "\n",
       "        .main__heading, .info__heading {\n",
       "            font-family: \"BWHaasGrotesk-75Bold-Web\";\n",
       "        }\n",
       "\n",
       "        .main__heading {\n",
       "            font-size: 19px;\n",
       "            padding-bottom: 9px;\n",
       "        }\n",
       "\n",
       "        .continue {\n",
       "            font-size: 18px;\n",
       "        }\n",
       "\n",
       "        #px-captcha {\n",
       "            margin-top: 20px;\n",
       "            min-height: 80px;\n",
       "        }\n",
       "\n",
       "        .info {\n",
       "            border-top: dotted 1px black;\n",
       "            padding-top: 9px;\n",
       "        }\n",
       "\n",
       "        .info + .info {\n",
       "            margin-top: 30px;\n",
       "        }\n",
       "\n",
       "        .info__link {\n",
       "            color: black;\n",
       "            text-decoration: underline;\n",
       "        }\n",
       "\n",
       "        .info__heading {\n",
       "            font-size: 16px;\n",
       "            line-height: 20px;\n",
       "            padding-bottom: 9px;\n",
       "        }\n",
       "\n",
       "        .info__text {\n",
       "            padding-bottom: 9px;\n",
       "        }\n",
       "\n",
       "        #block_uuid {\n",
       "            display: inline-block;\n",
       "            padding: 6px;\n",
       "            background-color: #f2f2f2;\n",
       "            font-family: \"BW Haas Text Mono A-55 Roman\";\n",
       "            font-size: 14px;\n",
       "        }\n",
       "\n",
       "    </style>\n",
       "<script>\n",
       "        window._pxAppId = \"PX8FCGYgk4\";\n",
       "        window._pxJsClientSrc = \"/8FCGYgk4/init.js\";\n",
       "        window._pxFirstPartyEnabled = true;\n",
       "        window._pxHostUrl = \"/8FCGYgk4/xhr\";\n",
       "        window._pxreCaptchaTheme = \"light\";\n",
       "        window._pxUuid = qs(\"uuid\");\n",
       "\n",
       "        if(!window._pxUuid) {\n",
       "            window.pxInit = function (px) {\n",
       "                px.Events.one(\"uid\", function (uuid) {\n",
       "                    if (uuid) {\n",
       "                        document.getElementById(\"block_uuid\").innerText = \"Block reference ID: \" + uuid;\n",
       "                    }\n",
       "                });\n",
       "            };\n",
       "        }\n",
       "\n",
       "        function qs(name) {\n",
       "            var search = window.location.search;\n",
       "            var rx = new RegExp(\"[?&]\" + name + \"(=([^&#]*)|&|#|$)\");\n",
       "            var match = rx.exec(search);\n",
       "            return match ? decodeURIComponent(match[2].replace(/\\+/g, \" \")) : \"\";\n",
       "        }\n",
       "    </script>\n",
       "<script async=\"\" src=\"/8FCGYgk4/captcha/captcha.js?a=c&amp;m=0\"></script>\n",
       "</head>\n",
       "<body>\n",
       "<header class=\"header\">\n",
       "<h1 class=\"logo\">Bloomberg</h1>\n",
       "<a class=\"contact-us\" href=\"/feedback\">Need help? Contact us</a>\n",
       "</header>\n",
       "<section class=\"box main\">\n",
       "<h2 class=\"main__heading\">We've detected unusual activity from your computer network</h2>\n",
       "<p class=\"continue\">To continue, please click the box below to let us know you're not a robot.</p>\n",
       "<div id=\"px-captcha\"></div>\n",
       "</section>\n",
       "<section class=\"box\">\n",
       "<section class=\"info\">\n",
       "<h3 class=\"info__heading\">Why did this happen?</h3>\n",
       "<p class=\"info__text\">Please make sure your browser supports JavaScript and cookies and that you are not blocking them from loading. For more information you can review our <a class=\"info__link\" href=\"/notices/tos\">Terms of Service</a> and <a class=\"info__link\" href=\"/notices/tos\">Cookie Policy</a>.</p>\n",
       "</section>\n",
       "<section class=\"info\">\n",
       "<h3 class=\"info__heading\">Need Help?</h3>\n",
       "<p class=\"info__text\">For inquiries related to this message please <a class=\"info__link\" href=\"/feedback\">contact our support team</a> and provide the reference ID below.</p>\n",
       "<div id=\"block_uuid\">Block reference ID: </div>\n",
       "</section>\n",
       "</section>\n",
       "<script type=\"text/javascript\">\n",
       "    document.getElementById(\"block_uuid\").innerText = \"Block reference ID: \" + window._pxUuid;\n",
       "    </script>\n",
       "<!-- Google Tag Manager -->\n",
       "<script>(function(w, d, s, l, i) {\n",
       "        w[l] = w[l] || [];\n",
       "        w[l].push({ 'gtm.start': new Date().getTime(), event: 'gtm.js' });\n",
       "        var f = d.getElementsByTagName(s)[0], j = d.createElement(s), dl = l != 'dataLayer' ? '&l=' + l : '';\n",
       "        j.defer = true;\n",
       "        j.src = 'https://www.googletagmanager.com/gtm.js?id=' + i + dl;\n",
       "        f.parentNode.insertBefore(j, f);\n",
       "    })(window, document, 'script', 'dataLayer', 'GTM-MNTH5N');</script>\n",
       "<!-- End Google Tag Manager -->\n",
       "</body>\n",
       "</html>"
      ]
     },
     "execution_count": 43,
     "metadata": {},
     "output_type": "execute_result"
    }
   ],
   "source": [
    "import requests\n",
    "\n",
    "\n",
    "\n",
    "r = requests.get('http://www.bloomberg.com/quote/SPX:IND', headers=headers)\n",
    "\n",
    "from bs4 import BeautifulSoup\n",
    "soup = BeautifulSoup(r.text, 'html.parser')\n",
    "\n",
    "soup"
   ]
  },
  {
   "cell_type": "code",
   "execution_count": null,
   "metadata": {},
   "outputs": [],
   "source": []
  }
 ],
 "metadata": {
  "kernelspec": {
   "display_name": "Python 3 (ipykernel)",
   "language": "python",
   "name": "python3"
  },
  "language_info": {
   "codemirror_mode": {
    "name": "ipython",
    "version": 3
   },
   "file_extension": ".py",
   "mimetype": "text/x-python",
   "name": "python",
   "nbconvert_exporter": "python",
   "pygments_lexer": "ipython3",
   "version": "3.9.7"
  }
 },
 "nbformat": 4,
 "nbformat_minor": 4
}
