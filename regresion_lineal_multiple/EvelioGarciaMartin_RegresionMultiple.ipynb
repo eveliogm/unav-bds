{
 "cells": [
  {
   "cell_type": "markdown",
   "id": "4eb7ded7-3079-47fc-b86f-11f8c8873da9",
   "metadata": {
    "tags": []
   },
   "source": [
    "# Ejercicios\n",
    "\n",
    "1. Escribir el modelo resultante de la regresión lineal sin regularización y los modelos obtenidos con las regresiones con regularización de Ridge y Lasso considerando todas las variables predictoras del problema. Comparar los modelos e interpretarlos a partir de las métricas y las técnicas validación gráfica.\n",
    "\n",
    "2. Ensayar otros valores de `k` o `n_features_to_select` en los siguientes métodos supervisados de selección de variables:\n",
    "\n",
    "\n",
    "*   SelectKBest (r_regresion y f_regression).\n",
    "*   Selección secuencial, SFS (backward y forward).\n",
    "*   Eliminación recursiva, RFE y RFECV.\n",
    "\n",
    "\n",
    "3.  Construir una tabla comparativa con los resultados obtenidos mediante las distintas técnicas de selección de variables no supervisadas y supervisadas. Interpretar los resultados.\n",
    "\n",
    "4. Evaluar los métodos de regularización para diferentes valores de $\\lambda$ y construir una tabla comparativa donde se evalúen la importancia de las variables predictoras y las métricas. Seleccionar el modelo óptimo (LR, Ridge o Lasso) y razonar la elección.\n",
    "\n",
    "5. Construir los modelos de regresión (sin y con regularización) a partir del dataframe con el número de variables predictoras óptimas. Escribir el modelo resultante de la regresión lineal sin regularización y los modelos obtenidos con las regresiones con regularización de Ridge y Lasso. Comparar los modelos e interpretarlos a partir de las métricas y las técnicas validación gráfica.\n",
    "\n"
   ]
  },
  {
   "cell_type": "code",
   "execution_count": 161,
   "id": "272715e6-48f1-431a-ac1a-f61003d24b9d",
   "metadata": {},
   "outputs": [],
   "source": [
    "from sklearn.preprocessing import OrdinalEncoder,OneHotEncoder\n",
    "from sklearn.compose import make_column_transformer\n",
    "from sklearn.linear_model import LinearRegression\n",
    "from sklearn.pipeline import make_pipeline\n",
    "from sklearn.model_selection import cross_val_score\n",
    "from sklearn.preprocessing import StandardScaler #importamos la librería para estandarizar\n",
    "import numpy as np\n",
    "\n",
    "import matplotlib.pyplot as plt \n",
    "import seaborn as sns\n",
    "\n",
    "import pandas as pd"
   ]
  },
  {
   "cell_type": "markdown",
   "id": "e4eb1b77-e671-4508-a706-c384f9717b88",
   "metadata": {},
   "source": [
    "# 0. IMPORT DATA"
   ]
  },
  {
   "cell_type": "code",
   "execution_count": 140,
   "id": "8cbc271f-fb69-45b4-96d6-98f5d994f77a",
   "metadata": {},
   "outputs": [],
   "source": [
    "df_raw = pd.read_csv(\"CO2_car_emissions.csv\")\n",
    "df = df_raw.copy()"
   ]
  },
  {
   "cell_type": "markdown",
   "id": "3bf89aba-b2f0-45ae-bdaf-2ba72c19a061",
   "metadata": {},
   "source": [
    "# 1. QUICK EXPLORATORY ANALISIS"
   ]
  },
  {
   "cell_type": "code",
   "execution_count": 141,
   "id": "7f4bf536-27a2-40fc-b752-e56647e2f247",
   "metadata": {},
   "outputs": [
    {
     "data": {
      "text/html": [
       "<div>\n",
       "<style scoped>\n",
       "    .dataframe tbody tr th:only-of-type {\n",
       "        vertical-align: middle;\n",
       "    }\n",
       "\n",
       "    .dataframe tbody tr th {\n",
       "        vertical-align: top;\n",
       "    }\n",
       "\n",
       "    .dataframe thead th {\n",
       "        text-align: right;\n",
       "    }\n",
       "</style>\n",
       "<table border=\"1\" class=\"dataframe\">\n",
       "  <thead>\n",
       "    <tr style=\"text-align: right;\">\n",
       "      <th></th>\n",
       "      <th>Make</th>\n",
       "      <th>Model</th>\n",
       "      <th>Vehicle Class</th>\n",
       "      <th>Engine Size(L)</th>\n",
       "      <th>Cylinders</th>\n",
       "      <th>Transmission</th>\n",
       "      <th>Fuel Type</th>\n",
       "      <th>Fuel Consumption City (L/100 km)</th>\n",
       "      <th>Fuel Consumption Hwy (L/100 km)</th>\n",
       "      <th>Fuel Consumption Comb (L/100 km)</th>\n",
       "      <th>Fuel Consumption Comb (mpg)</th>\n",
       "      <th>CO2 Emissions(g/km)</th>\n",
       "    </tr>\n",
       "  </thead>\n",
       "  <tbody>\n",
       "    <tr>\n",
       "      <th>0</th>\n",
       "      <td>ACURA</td>\n",
       "      <td>ILX</td>\n",
       "      <td>COMPACT</td>\n",
       "      <td>2.0</td>\n",
       "      <td>4</td>\n",
       "      <td>AS5</td>\n",
       "      <td>Z</td>\n",
       "      <td>9.9</td>\n",
       "      <td>6.7</td>\n",
       "      <td>8.5</td>\n",
       "      <td>33</td>\n",
       "      <td>196</td>\n",
       "    </tr>\n",
       "    <tr>\n",
       "      <th>1</th>\n",
       "      <td>ACURA</td>\n",
       "      <td>ILX</td>\n",
       "      <td>COMPACT</td>\n",
       "      <td>2.4</td>\n",
       "      <td>4</td>\n",
       "      <td>M6</td>\n",
       "      <td>Z</td>\n",
       "      <td>11.2</td>\n",
       "      <td>7.7</td>\n",
       "      <td>9.6</td>\n",
       "      <td>29</td>\n",
       "      <td>221</td>\n",
       "    </tr>\n",
       "    <tr>\n",
       "      <th>2</th>\n",
       "      <td>ACURA</td>\n",
       "      <td>ILX HYBRID</td>\n",
       "      <td>COMPACT</td>\n",
       "      <td>1.5</td>\n",
       "      <td>4</td>\n",
       "      <td>AV7</td>\n",
       "      <td>Z</td>\n",
       "      <td>6.0</td>\n",
       "      <td>5.8</td>\n",
       "      <td>5.9</td>\n",
       "      <td>48</td>\n",
       "      <td>136</td>\n",
       "    </tr>\n",
       "    <tr>\n",
       "      <th>3</th>\n",
       "      <td>ACURA</td>\n",
       "      <td>MDX 4WD</td>\n",
       "      <td>SUV - SMALL</td>\n",
       "      <td>3.5</td>\n",
       "      <td>6</td>\n",
       "      <td>AS6</td>\n",
       "      <td>Z</td>\n",
       "      <td>12.7</td>\n",
       "      <td>9.1</td>\n",
       "      <td>11.1</td>\n",
       "      <td>25</td>\n",
       "      <td>255</td>\n",
       "    </tr>\n",
       "    <tr>\n",
       "      <th>4</th>\n",
       "      <td>ACURA</td>\n",
       "      <td>RDX AWD</td>\n",
       "      <td>SUV - SMALL</td>\n",
       "      <td>3.5</td>\n",
       "      <td>6</td>\n",
       "      <td>AS6</td>\n",
       "      <td>Z</td>\n",
       "      <td>12.1</td>\n",
       "      <td>8.7</td>\n",
       "      <td>10.6</td>\n",
       "      <td>27</td>\n",
       "      <td>244</td>\n",
       "    </tr>\n",
       "  </tbody>\n",
       "</table>\n",
       "</div>"
      ],
      "text/plain": [
       "    Make       Model Vehicle Class  Engine Size(L)  Cylinders Transmission  \\\n",
       "0  ACURA         ILX       COMPACT             2.0          4          AS5   \n",
       "1  ACURA         ILX       COMPACT             2.4          4           M6   \n",
       "2  ACURA  ILX HYBRID       COMPACT             1.5          4          AV7   \n",
       "3  ACURA     MDX 4WD   SUV - SMALL             3.5          6          AS6   \n",
       "4  ACURA     RDX AWD   SUV - SMALL             3.5          6          AS6   \n",
       "\n",
       "  Fuel Type  Fuel Consumption City (L/100 km)  \\\n",
       "0         Z                               9.9   \n",
       "1         Z                              11.2   \n",
       "2         Z                               6.0   \n",
       "3         Z                              12.7   \n",
       "4         Z                              12.1   \n",
       "\n",
       "   Fuel Consumption Hwy (L/100 km)  Fuel Consumption Comb (L/100 km)  \\\n",
       "0                              6.7                               8.5   \n",
       "1                              7.7                               9.6   \n",
       "2                              5.8                               5.9   \n",
       "3                              9.1                              11.1   \n",
       "4                              8.7                              10.6   \n",
       "\n",
       "   Fuel Consumption Comb (mpg)  CO2 Emissions(g/km)  \n",
       "0                           33                  196  \n",
       "1                           29                  221  \n",
       "2                           48                  136  \n",
       "3                           25                  255  \n",
       "4                           27                  244  "
      ]
     },
     "execution_count": 141,
     "metadata": {},
     "output_type": "execute_result"
    }
   ],
   "source": [
    "df.head()"
   ]
  },
  {
   "cell_type": "markdown",
   "id": "571fee94-af39-4ea1-9eb4-2d1d770af030",
   "metadata": {},
   "source": [
    "Check nulls and types"
   ]
  },
  {
   "cell_type": "code",
   "execution_count": 142,
   "id": "12aada72-7fc1-4083-bd88-04037e376302",
   "metadata": {},
   "outputs": [
    {
     "name": "stdout",
     "output_type": "stream",
     "text": [
      "<class 'pandas.core.frame.DataFrame'>\n",
      "RangeIndex: 7385 entries, 0 to 7384\n",
      "Data columns (total 12 columns):\n",
      " #   Column                            Non-Null Count  Dtype  \n",
      "---  ------                            --------------  -----  \n",
      " 0   Make                              7385 non-null   object \n",
      " 1   Model                             7385 non-null   object \n",
      " 2   Vehicle Class                     7385 non-null   object \n",
      " 3   Engine Size(L)                    7385 non-null   float64\n",
      " 4   Cylinders                         7385 non-null   int64  \n",
      " 5   Transmission                      7385 non-null   object \n",
      " 6   Fuel Type                         7385 non-null   object \n",
      " 7   Fuel Consumption City (L/100 km)  7385 non-null   float64\n",
      " 8   Fuel Consumption Hwy (L/100 km)   7385 non-null   float64\n",
      " 9   Fuel Consumption Comb (L/100 km)  7385 non-null   float64\n",
      " 10  Fuel Consumption Comb (mpg)       7385 non-null   int64  \n",
      " 11  CO2 Emissions(g/km)               7385 non-null   int64  \n",
      "dtypes: float64(4), int64(3), object(5)\n",
      "memory usage: 692.5+ KB\n"
     ]
    }
   ],
   "source": [
    "df.info()"
   ]
  },
  {
   "cell_type": "code",
   "execution_count": 143,
   "id": "3e02e144-4b21-4dd3-9851-01704a10fa40",
   "metadata": {},
   "outputs": [
    {
     "data": {
      "text/html": [
       "<div>\n",
       "<style scoped>\n",
       "    .dataframe tbody tr th:only-of-type {\n",
       "        vertical-align: middle;\n",
       "    }\n",
       "\n",
       "    .dataframe tbody tr th {\n",
       "        vertical-align: top;\n",
       "    }\n",
       "\n",
       "    .dataframe thead th {\n",
       "        text-align: right;\n",
       "    }\n",
       "</style>\n",
       "<table border=\"1\" class=\"dataframe\">\n",
       "  <thead>\n",
       "    <tr style=\"text-align: right;\">\n",
       "      <th></th>\n",
       "      <th>Engine Size(L)</th>\n",
       "      <th>Cylinders</th>\n",
       "      <th>Fuel Consumption City (L/100 km)</th>\n",
       "      <th>Fuel Consumption Hwy (L/100 km)</th>\n",
       "      <th>Fuel Consumption Comb (L/100 km)</th>\n",
       "      <th>Fuel Consumption Comb (mpg)</th>\n",
       "      <th>CO2 Emissions(g/km)</th>\n",
       "    </tr>\n",
       "  </thead>\n",
       "  <tbody>\n",
       "    <tr>\n",
       "      <th>count</th>\n",
       "      <td>7385.000000</td>\n",
       "      <td>7385.000000</td>\n",
       "      <td>7385.000000</td>\n",
       "      <td>7385.000000</td>\n",
       "      <td>7385.000000</td>\n",
       "      <td>7385.000000</td>\n",
       "      <td>7385.000000</td>\n",
       "    </tr>\n",
       "    <tr>\n",
       "      <th>mean</th>\n",
       "      <td>3.160068</td>\n",
       "      <td>5.615030</td>\n",
       "      <td>12.556534</td>\n",
       "      <td>9.041706</td>\n",
       "      <td>10.975071</td>\n",
       "      <td>27.481652</td>\n",
       "      <td>250.584699</td>\n",
       "    </tr>\n",
       "    <tr>\n",
       "      <th>std</th>\n",
       "      <td>1.354170</td>\n",
       "      <td>1.828307</td>\n",
       "      <td>3.500274</td>\n",
       "      <td>2.224456</td>\n",
       "      <td>2.892506</td>\n",
       "      <td>7.231879</td>\n",
       "      <td>58.512679</td>\n",
       "    </tr>\n",
       "    <tr>\n",
       "      <th>min</th>\n",
       "      <td>0.900000</td>\n",
       "      <td>3.000000</td>\n",
       "      <td>4.200000</td>\n",
       "      <td>4.000000</td>\n",
       "      <td>4.100000</td>\n",
       "      <td>11.000000</td>\n",
       "      <td>96.000000</td>\n",
       "    </tr>\n",
       "    <tr>\n",
       "      <th>25%</th>\n",
       "      <td>2.000000</td>\n",
       "      <td>4.000000</td>\n",
       "      <td>10.100000</td>\n",
       "      <td>7.500000</td>\n",
       "      <td>8.900000</td>\n",
       "      <td>22.000000</td>\n",
       "      <td>208.000000</td>\n",
       "    </tr>\n",
       "    <tr>\n",
       "      <th>50%</th>\n",
       "      <td>3.000000</td>\n",
       "      <td>6.000000</td>\n",
       "      <td>12.100000</td>\n",
       "      <td>8.700000</td>\n",
       "      <td>10.600000</td>\n",
       "      <td>27.000000</td>\n",
       "      <td>246.000000</td>\n",
       "    </tr>\n",
       "    <tr>\n",
       "      <th>75%</th>\n",
       "      <td>3.700000</td>\n",
       "      <td>6.000000</td>\n",
       "      <td>14.600000</td>\n",
       "      <td>10.200000</td>\n",
       "      <td>12.600000</td>\n",
       "      <td>32.000000</td>\n",
       "      <td>288.000000</td>\n",
       "    </tr>\n",
       "    <tr>\n",
       "      <th>max</th>\n",
       "      <td>8.400000</td>\n",
       "      <td>16.000000</td>\n",
       "      <td>30.600000</td>\n",
       "      <td>20.600000</td>\n",
       "      <td>26.100000</td>\n",
       "      <td>69.000000</td>\n",
       "      <td>522.000000</td>\n",
       "    </tr>\n",
       "  </tbody>\n",
       "</table>\n",
       "</div>"
      ],
      "text/plain": [
       "       Engine Size(L)    Cylinders  Fuel Consumption City (L/100 km)  \\\n",
       "count     7385.000000  7385.000000                       7385.000000   \n",
       "mean         3.160068     5.615030                         12.556534   \n",
       "std          1.354170     1.828307                          3.500274   \n",
       "min          0.900000     3.000000                          4.200000   \n",
       "25%          2.000000     4.000000                         10.100000   \n",
       "50%          3.000000     6.000000                         12.100000   \n",
       "75%          3.700000     6.000000                         14.600000   \n",
       "max          8.400000    16.000000                         30.600000   \n",
       "\n",
       "       Fuel Consumption Hwy (L/100 km)  Fuel Consumption Comb (L/100 km)  \\\n",
       "count                      7385.000000                       7385.000000   \n",
       "mean                          9.041706                         10.975071   \n",
       "std                           2.224456                          2.892506   \n",
       "min                           4.000000                          4.100000   \n",
       "25%                           7.500000                          8.900000   \n",
       "50%                           8.700000                         10.600000   \n",
       "75%                          10.200000                         12.600000   \n",
       "max                          20.600000                         26.100000   \n",
       "\n",
       "       Fuel Consumption Comb (mpg)  CO2 Emissions(g/km)  \n",
       "count                  7385.000000          7385.000000  \n",
       "mean                     27.481652           250.584699  \n",
       "std                       7.231879            58.512679  \n",
       "min                      11.000000            96.000000  \n",
       "25%                      22.000000           208.000000  \n",
       "50%                      27.000000           246.000000  \n",
       "75%                      32.000000           288.000000  \n",
       "max                      69.000000           522.000000  "
      ]
     },
     "execution_count": 143,
     "metadata": {},
     "output_type": "execute_result"
    }
   ],
   "source": [
    "df.describe()"
   ]
  },
  {
   "cell_type": "markdown",
   "id": "559fa907-04b1-4653-95fb-36ee8544282f",
   "metadata": {},
   "source": [
    "Check if number of distinct cateogries inside each categorical columns"
   ]
  },
  {
   "cell_type": "code",
   "execution_count": 144,
   "id": "8eefc1d5-e563-4a37-b792-cd68246088c8",
   "metadata": {},
   "outputs": [
    {
     "data": {
      "text/plain": [
       "42"
      ]
     },
     "execution_count": 144,
     "metadata": {},
     "output_type": "execute_result"
    }
   ],
   "source": [
    "df[\"Make\"].drop_duplicates().count()"
   ]
  },
  {
   "cell_type": "code",
   "execution_count": 145,
   "id": "bd5019c5-a2c5-4530-8ebf-e8d7af5ef3a4",
   "metadata": {},
   "outputs": [
    {
     "data": {
      "text/plain": [
       "2053"
      ]
     },
     "execution_count": 145,
     "metadata": {},
     "output_type": "execute_result"
    }
   ],
   "source": [
    "df[\"Model\"].drop_duplicates().count()"
   ]
  },
  {
   "cell_type": "code",
   "execution_count": 146,
   "id": "a602ddaf-c246-4671-b1e3-a650085ea294",
   "metadata": {},
   "outputs": [
    {
     "data": {
      "text/plain": [
       "27"
      ]
     },
     "execution_count": 146,
     "metadata": {},
     "output_type": "execute_result"
    }
   ],
   "source": [
    "df[\"Transmission\"].drop_duplicates().count()"
   ]
  },
  {
   "cell_type": "code",
   "execution_count": 147,
   "id": "dadf24b2-021c-4b14-aa24-705744affd07",
   "metadata": {},
   "outputs": [
    {
     "data": {
      "text/plain": [
       "16"
      ]
     },
     "execution_count": 147,
     "metadata": {},
     "output_type": "execute_result"
    }
   ],
   "source": [
    "df[\"Vehicle Class\"].drop_duplicates().count()"
   ]
  },
  {
   "cell_type": "code",
   "execution_count": 148,
   "id": "70386f60-9ee9-404f-b88f-b24e3f5849c8",
   "metadata": {},
   "outputs": [
    {
     "data": {
      "text/plain": [
       "5"
      ]
     },
     "execution_count": 148,
     "metadata": {},
     "output_type": "execute_result"
    }
   ],
   "source": [
    "df[\"Fuel Type\"].drop_duplicates().count()"
   ]
  },
  {
   "cell_type": "markdown",
   "id": "d25ae3f5-f703-44df-8b6c-ee571a0beb21",
   "metadata": {},
   "source": [
    "# 2. Preprocessing"
   ]
  },
  {
   "cell_type": "markdown",
   "id": "09b4c006-bb4c-46df-8e43-ee17e4457596",
   "metadata": {},
   "source": [
    "Defining target column and variables"
   ]
  },
  {
   "cell_type": "code",
   "execution_count": 149,
   "id": "a360db82-c5c9-4c77-ac06-88b9f8c2f2cb",
   "metadata": {},
   "outputs": [],
   "source": [
    "feature_cols = [\n",
    "   'Make', 'Model', 'Vehicle Class', 'Engine Size(L)', 'Cylinders',\n",
    "       'Transmission', 'Fuel Type', 'Fuel Consumption City (L/100 km)',\n",
    "       'Fuel Consumption Hwy (L/100 km)', 'Fuel Consumption Comb (L/100 km)',\n",
    "       'Fuel Consumption Comb (mpg)'\n",
    "]\n",
    "Y_col = ['CO2 Emissions(g/km)']"
   ]
  },
  {
   "cell_type": "markdown",
   "id": "caf1c9db-8793-4ea3-9f82-dc66b4e017e8",
   "metadata": {},
   "source": [
    "## 2.1. Preprocess categorical columns"
   ]
  },
  {
   "cell_type": "code",
   "execution_count": 150,
   "id": "7a6e8feb-6b5d-4a0c-8c65-7eeb06a74369",
   "metadata": {},
   "outputs": [],
   "source": [
    "categorical_columns = ['Fuel Type']\n",
    "ordirnal_columns = ['Make','Model','Vehicle Class','Transmission']\n",
    "rest = [value for value in feature_cols if value not in (categorical_columns+ordirnal_columns)]\n",
    "column_trans = make_column_transformer(\n",
    "    (OneHotEncoder(handle_unknown='ignore'),categorical_columns),\n",
    "    (OrdinalEncoder(), ordirnal_columns),\n",
    "    (StandardScaler(), rest),\n",
    "    remainder='passthrough')\n",
    "\n",
    "transformed = column_trans.fit_transform(df[feature_cols])\n",
    "new_cols =  column_trans.named_transformers_.onehotencoder.get_feature_names_out().tolist() + ordirnal_columns + rest\n",
    "\n",
    "new_cols = [value for value in new_cols if value not in categorical_columns]\n",
    "\n",
    "trans_df = pd.DataFrame(transformed, columns=new_cols)\n",
    "\n",
    "\n",
    "# df[categorical_columns] = one_enc.fit_transform(df[categorical_columns])"
   ]
  },
  {
   "cell_type": "code",
   "execution_count": 151,
   "id": "8f2db838-f454-4f8d-b7ac-70fb50b14542",
   "metadata": {},
   "outputs": [
    {
     "data": {
      "text/html": [
       "<div>\n",
       "<style scoped>\n",
       "    .dataframe tbody tr th:only-of-type {\n",
       "        vertical-align: middle;\n",
       "    }\n",
       "\n",
       "    .dataframe tbody tr th {\n",
       "        vertical-align: top;\n",
       "    }\n",
       "\n",
       "    .dataframe thead th {\n",
       "        text-align: right;\n",
       "    }\n",
       "</style>\n",
       "<table border=\"1\" class=\"dataframe\">\n",
       "  <thead>\n",
       "    <tr style=\"text-align: right;\">\n",
       "      <th></th>\n",
       "      <th>Fuel Type_D</th>\n",
       "      <th>Fuel Type_E</th>\n",
       "      <th>Fuel Type_N</th>\n",
       "      <th>Fuel Type_X</th>\n",
       "      <th>Fuel Type_Z</th>\n",
       "      <th>Make</th>\n",
       "      <th>Model</th>\n",
       "      <th>Vehicle Class</th>\n",
       "      <th>Transmission</th>\n",
       "      <th>Engine Size(L)</th>\n",
       "      <th>Cylinders</th>\n",
       "      <th>Fuel Consumption City (L/100 km)</th>\n",
       "      <th>Fuel Consumption Hwy (L/100 km)</th>\n",
       "      <th>Fuel Consumption Comb (L/100 km)</th>\n",
       "      <th>Fuel Consumption Comb (mpg)</th>\n",
       "    </tr>\n",
       "  </thead>\n",
       "  <tbody>\n",
       "    <tr>\n",
       "      <th>0</th>\n",
       "      <td>0.0</td>\n",
       "      <td>0.0</td>\n",
       "      <td>0.0</td>\n",
       "      <td>0.0</td>\n",
       "      <td>1.0</td>\n",
       "      <td>0.0</td>\n",
       "      <td>1057.0</td>\n",
       "      <td>0.0</td>\n",
       "      <td>14.0</td>\n",
       "      <td>-0.856721</td>\n",
       "      <td>-0.883408</td>\n",
       "      <td>-0.759002</td>\n",
       "      <td>-1.052781</td>\n",
       "      <td>-0.855742</td>\n",
       "      <td>0.763110</td>\n",
       "    </tr>\n",
       "    <tr>\n",
       "      <th>1</th>\n",
       "      <td>0.0</td>\n",
       "      <td>0.0</td>\n",
       "      <td>0.0</td>\n",
       "      <td>0.0</td>\n",
       "      <td>1.0</td>\n",
       "      <td>0.0</td>\n",
       "      <td>1057.0</td>\n",
       "      <td>0.0</td>\n",
       "      <td>25.0</td>\n",
       "      <td>-0.561317</td>\n",
       "      <td>-0.883408</td>\n",
       "      <td>-0.387577</td>\n",
       "      <td>-0.603202</td>\n",
       "      <td>-0.475423</td>\n",
       "      <td>0.209966</td>\n",
       "    </tr>\n",
       "    <tr>\n",
       "      <th>2</th>\n",
       "      <td>0.0</td>\n",
       "      <td>0.0</td>\n",
       "      <td>0.0</td>\n",
       "      <td>0.0</td>\n",
       "      <td>1.0</td>\n",
       "      <td>0.0</td>\n",
       "      <td>1058.0</td>\n",
       "      <td>0.0</td>\n",
       "      <td>22.0</td>\n",
       "      <td>-1.225976</td>\n",
       "      <td>-0.883408</td>\n",
       "      <td>-1.873275</td>\n",
       "      <td>-1.457401</td>\n",
       "      <td>-1.754677</td>\n",
       "      <td>2.837400</td>\n",
       "    </tr>\n",
       "    <tr>\n",
       "      <th>3</th>\n",
       "      <td>0.0</td>\n",
       "      <td>0.0</td>\n",
       "      <td>0.0</td>\n",
       "      <td>0.0</td>\n",
       "      <td>1.0</td>\n",
       "      <td>0.0</td>\n",
       "      <td>1233.0</td>\n",
       "      <td>11.0</td>\n",
       "      <td>15.0</td>\n",
       "      <td>0.251043</td>\n",
       "      <td>0.210575</td>\n",
       "      <td>0.040990</td>\n",
       "      <td>0.026208</td>\n",
       "      <td>0.043193</td>\n",
       "      <td>-0.343178</td>\n",
       "    </tr>\n",
       "    <tr>\n",
       "      <th>4</th>\n",
       "      <td>0.0</td>\n",
       "      <td>0.0</td>\n",
       "      <td>0.0</td>\n",
       "      <td>0.0</td>\n",
       "      <td>1.0</td>\n",
       "      <td>0.0</td>\n",
       "      <td>1499.0</td>\n",
       "      <td>11.0</td>\n",
       "      <td>15.0</td>\n",
       "      <td>0.251043</td>\n",
       "      <td>0.210575</td>\n",
       "      <td>-0.130437</td>\n",
       "      <td>-0.153624</td>\n",
       "      <td>-0.129679</td>\n",
       "      <td>-0.066606</td>\n",
       "    </tr>\n",
       "  </tbody>\n",
       "</table>\n",
       "</div>"
      ],
      "text/plain": [
       "   Fuel Type_D  Fuel Type_E  Fuel Type_N  Fuel Type_X  Fuel Type_Z  Make  \\\n",
       "0          0.0          0.0          0.0          0.0          1.0   0.0   \n",
       "1          0.0          0.0          0.0          0.0          1.0   0.0   \n",
       "2          0.0          0.0          0.0          0.0          1.0   0.0   \n",
       "3          0.0          0.0          0.0          0.0          1.0   0.0   \n",
       "4          0.0          0.0          0.0          0.0          1.0   0.0   \n",
       "\n",
       "    Model  Vehicle Class  Transmission  Engine Size(L)  Cylinders  \\\n",
       "0  1057.0            0.0          14.0       -0.856721  -0.883408   \n",
       "1  1057.0            0.0          25.0       -0.561317  -0.883408   \n",
       "2  1058.0            0.0          22.0       -1.225976  -0.883408   \n",
       "3  1233.0           11.0          15.0        0.251043   0.210575   \n",
       "4  1499.0           11.0          15.0        0.251043   0.210575   \n",
       "\n",
       "   Fuel Consumption City (L/100 km)  Fuel Consumption Hwy (L/100 km)  \\\n",
       "0                         -0.759002                        -1.052781   \n",
       "1                         -0.387577                        -0.603202   \n",
       "2                         -1.873275                        -1.457401   \n",
       "3                          0.040990                         0.026208   \n",
       "4                         -0.130437                        -0.153624   \n",
       "\n",
       "   Fuel Consumption Comb (L/100 km)  Fuel Consumption Comb (mpg)  \n",
       "0                         -0.855742                     0.763110  \n",
       "1                         -0.475423                     0.209966  \n",
       "2                         -1.754677                     2.837400  \n",
       "3                          0.043193                    -0.343178  \n",
       "4                         -0.129679                    -0.066606  "
      ]
     },
     "execution_count": 151,
     "metadata": {},
     "output_type": "execute_result"
    }
   ],
   "source": [
    "trans_df.head()"
   ]
  },
  {
   "cell_type": "code",
   "execution_count": 152,
   "id": "6eee110d-b667-4e96-aa4c-55597cef30f9",
   "metadata": {},
   "outputs": [
    {
     "data": {
      "text/html": [
       "<div>\n",
       "<style scoped>\n",
       "    .dataframe tbody tr th:only-of-type {\n",
       "        vertical-align: middle;\n",
       "    }\n",
       "\n",
       "    .dataframe tbody tr th {\n",
       "        vertical-align: top;\n",
       "    }\n",
       "\n",
       "    .dataframe thead th {\n",
       "        text-align: right;\n",
       "    }\n",
       "</style>\n",
       "<table border=\"1\" class=\"dataframe\">\n",
       "  <thead>\n",
       "    <tr style=\"text-align: right;\">\n",
       "      <th></th>\n",
       "      <th>Make</th>\n",
       "      <th>Model</th>\n",
       "      <th>Vehicle Class</th>\n",
       "      <th>Engine Size(L)</th>\n",
       "      <th>Cylinders</th>\n",
       "      <th>Transmission</th>\n",
       "      <th>Fuel Type</th>\n",
       "      <th>Fuel Consumption City (L/100 km)</th>\n",
       "      <th>Fuel Consumption Hwy (L/100 km)</th>\n",
       "      <th>Fuel Consumption Comb (L/100 km)</th>\n",
       "      <th>Fuel Consumption Comb (mpg)</th>\n",
       "    </tr>\n",
       "  </thead>\n",
       "  <tbody>\n",
       "    <tr>\n",
       "      <th>0</th>\n",
       "      <td>ACURA</td>\n",
       "      <td>ILX</td>\n",
       "      <td>COMPACT</td>\n",
       "      <td>2.0</td>\n",
       "      <td>4</td>\n",
       "      <td>AS5</td>\n",
       "      <td>Z</td>\n",
       "      <td>9.9</td>\n",
       "      <td>6.7</td>\n",
       "      <td>8.5</td>\n",
       "      <td>33</td>\n",
       "    </tr>\n",
       "    <tr>\n",
       "      <th>1</th>\n",
       "      <td>ACURA</td>\n",
       "      <td>ILX</td>\n",
       "      <td>COMPACT</td>\n",
       "      <td>2.4</td>\n",
       "      <td>4</td>\n",
       "      <td>M6</td>\n",
       "      <td>Z</td>\n",
       "      <td>11.2</td>\n",
       "      <td>7.7</td>\n",
       "      <td>9.6</td>\n",
       "      <td>29</td>\n",
       "    </tr>\n",
       "    <tr>\n",
       "      <th>2</th>\n",
       "      <td>ACURA</td>\n",
       "      <td>ILX HYBRID</td>\n",
       "      <td>COMPACT</td>\n",
       "      <td>1.5</td>\n",
       "      <td>4</td>\n",
       "      <td>AV7</td>\n",
       "      <td>Z</td>\n",
       "      <td>6.0</td>\n",
       "      <td>5.8</td>\n",
       "      <td>5.9</td>\n",
       "      <td>48</td>\n",
       "    </tr>\n",
       "    <tr>\n",
       "      <th>3</th>\n",
       "      <td>ACURA</td>\n",
       "      <td>MDX 4WD</td>\n",
       "      <td>SUV - SMALL</td>\n",
       "      <td>3.5</td>\n",
       "      <td>6</td>\n",
       "      <td>AS6</td>\n",
       "      <td>Z</td>\n",
       "      <td>12.7</td>\n",
       "      <td>9.1</td>\n",
       "      <td>11.1</td>\n",
       "      <td>25</td>\n",
       "    </tr>\n",
       "    <tr>\n",
       "      <th>4</th>\n",
       "      <td>ACURA</td>\n",
       "      <td>RDX AWD</td>\n",
       "      <td>SUV - SMALL</td>\n",
       "      <td>3.5</td>\n",
       "      <td>6</td>\n",
       "      <td>AS6</td>\n",
       "      <td>Z</td>\n",
       "      <td>12.1</td>\n",
       "      <td>8.7</td>\n",
       "      <td>10.6</td>\n",
       "      <td>27</td>\n",
       "    </tr>\n",
       "  </tbody>\n",
       "</table>\n",
       "</div>"
      ],
      "text/plain": [
       "    Make       Model Vehicle Class  Engine Size(L)  Cylinders Transmission  \\\n",
       "0  ACURA         ILX       COMPACT             2.0          4          AS5   \n",
       "1  ACURA         ILX       COMPACT             2.4          4           M6   \n",
       "2  ACURA  ILX HYBRID       COMPACT             1.5          4          AV7   \n",
       "3  ACURA     MDX 4WD   SUV - SMALL             3.5          6          AS6   \n",
       "4  ACURA     RDX AWD   SUV - SMALL             3.5          6          AS6   \n",
       "\n",
       "  Fuel Type  Fuel Consumption City (L/100 km)  \\\n",
       "0         Z                               9.9   \n",
       "1         Z                              11.2   \n",
       "2         Z                               6.0   \n",
       "3         Z                              12.7   \n",
       "4         Z                              12.1   \n",
       "\n",
       "   Fuel Consumption Hwy (L/100 km)  Fuel Consumption Comb (L/100 km)  \\\n",
       "0                              6.7                               8.5   \n",
       "1                              7.7                               9.6   \n",
       "2                              5.8                               5.9   \n",
       "3                              9.1                              11.1   \n",
       "4                              8.7                              10.6   \n",
       "\n",
       "   Fuel Consumption Comb (mpg)  \n",
       "0                           33  \n",
       "1                           29  \n",
       "2                           48  \n",
       "3                           25  \n",
       "4                           27  "
      ]
     },
     "execution_count": 152,
     "metadata": {},
     "output_type": "execute_result"
    }
   ],
   "source": [
    "X.head()"
   ]
  },
  {
   "cell_type": "code",
   "execution_count": 167,
   "id": "a56aea8b-860a-4965-9367-cd9e2ca17eb7",
   "metadata": {},
   "outputs": [],
   "source": [
    "scalerY = StandardScaler()\n",
    "trans_df.loc[:,Y_col[0]] = scalerY.fit_transform(np.array(df[Y_col]).reshape(len(df[Y_col]),1)).reshape(len(df[Y_col]))"
   ]
  },
  {
   "cell_type": "code",
   "execution_count": 168,
   "id": "b7c04e20-e71d-4ba7-a57f-09db1c6c2835",
   "metadata": {},
   "outputs": [
    {
     "data": {
      "text/html": [
       "<div>\n",
       "<style scoped>\n",
       "    .dataframe tbody tr th:only-of-type {\n",
       "        vertical-align: middle;\n",
       "    }\n",
       "\n",
       "    .dataframe tbody tr th {\n",
       "        vertical-align: top;\n",
       "    }\n",
       "\n",
       "    .dataframe thead th {\n",
       "        text-align: right;\n",
       "    }\n",
       "</style>\n",
       "<table border=\"1\" class=\"dataframe\">\n",
       "  <thead>\n",
       "    <tr style=\"text-align: right;\">\n",
       "      <th></th>\n",
       "      <th>Fuel Type_D</th>\n",
       "      <th>Fuel Type_E</th>\n",
       "      <th>Fuel Type_N</th>\n",
       "      <th>Fuel Type_X</th>\n",
       "      <th>Fuel Type_Z</th>\n",
       "      <th>Make</th>\n",
       "      <th>Model</th>\n",
       "      <th>Vehicle Class</th>\n",
       "      <th>Transmission</th>\n",
       "      <th>Engine Size(L)</th>\n",
       "      <th>Cylinders</th>\n",
       "      <th>Fuel Consumption City (L/100 km)</th>\n",
       "      <th>Fuel Consumption Hwy (L/100 km)</th>\n",
       "      <th>Fuel Consumption Comb (L/100 km)</th>\n",
       "      <th>Fuel Consumption Comb (mpg)</th>\n",
       "      <th>CO2 Emissions(g/km)</th>\n",
       "    </tr>\n",
       "  </thead>\n",
       "  <tbody>\n",
       "    <tr>\n",
       "      <th>0</th>\n",
       "      <td>0.0</td>\n",
       "      <td>0.0</td>\n",
       "      <td>0.0</td>\n",
       "      <td>0.0</td>\n",
       "      <td>1.0</td>\n",
       "      <td>0.0</td>\n",
       "      <td>1057.0</td>\n",
       "      <td>0.0</td>\n",
       "      <td>14.0</td>\n",
       "      <td>-0.856721</td>\n",
       "      <td>-0.883408</td>\n",
       "      <td>-0.759002</td>\n",
       "      <td>-1.052781</td>\n",
       "      <td>-0.855742</td>\n",
       "      <td>0.763110</td>\n",
       "      <td>-0.932933</td>\n",
       "    </tr>\n",
       "    <tr>\n",
       "      <th>1</th>\n",
       "      <td>0.0</td>\n",
       "      <td>0.0</td>\n",
       "      <td>0.0</td>\n",
       "      <td>0.0</td>\n",
       "      <td>1.0</td>\n",
       "      <td>0.0</td>\n",
       "      <td>1057.0</td>\n",
       "      <td>0.0</td>\n",
       "      <td>25.0</td>\n",
       "      <td>-0.561317</td>\n",
       "      <td>-0.883408</td>\n",
       "      <td>-0.387577</td>\n",
       "      <td>-0.603202</td>\n",
       "      <td>-0.475423</td>\n",
       "      <td>0.209966</td>\n",
       "      <td>-0.505646</td>\n",
       "    </tr>\n",
       "    <tr>\n",
       "      <th>2</th>\n",
       "      <td>0.0</td>\n",
       "      <td>0.0</td>\n",
       "      <td>0.0</td>\n",
       "      <td>0.0</td>\n",
       "      <td>1.0</td>\n",
       "      <td>0.0</td>\n",
       "      <td>1058.0</td>\n",
       "      <td>0.0</td>\n",
       "      <td>22.0</td>\n",
       "      <td>-1.225976</td>\n",
       "      <td>-0.883408</td>\n",
       "      <td>-1.873275</td>\n",
       "      <td>-1.457401</td>\n",
       "      <td>-1.754677</td>\n",
       "      <td>2.837400</td>\n",
       "      <td>-1.958421</td>\n",
       "    </tr>\n",
       "    <tr>\n",
       "      <th>3</th>\n",
       "      <td>0.0</td>\n",
       "      <td>0.0</td>\n",
       "      <td>0.0</td>\n",
       "      <td>0.0</td>\n",
       "      <td>1.0</td>\n",
       "      <td>0.0</td>\n",
       "      <td>1233.0</td>\n",
       "      <td>11.0</td>\n",
       "      <td>15.0</td>\n",
       "      <td>0.251043</td>\n",
       "      <td>0.210575</td>\n",
       "      <td>0.040990</td>\n",
       "      <td>0.026208</td>\n",
       "      <td>0.043193</td>\n",
       "      <td>-0.343178</td>\n",
       "      <td>0.075464</td>\n",
       "    </tr>\n",
       "    <tr>\n",
       "      <th>4</th>\n",
       "      <td>0.0</td>\n",
       "      <td>0.0</td>\n",
       "      <td>0.0</td>\n",
       "      <td>0.0</td>\n",
       "      <td>1.0</td>\n",
       "      <td>0.0</td>\n",
       "      <td>1499.0</td>\n",
       "      <td>11.0</td>\n",
       "      <td>15.0</td>\n",
       "      <td>0.251043</td>\n",
       "      <td>0.210575</td>\n",
       "      <td>-0.130437</td>\n",
       "      <td>-0.153624</td>\n",
       "      <td>-0.129679</td>\n",
       "      <td>-0.066606</td>\n",
       "      <td>-0.112542</td>\n",
       "    </tr>\n",
       "  </tbody>\n",
       "</table>\n",
       "</div>"
      ],
      "text/plain": [
       "   Fuel Type_D  Fuel Type_E  Fuel Type_N  Fuel Type_X  Fuel Type_Z  Make  \\\n",
       "0          0.0          0.0          0.0          0.0          1.0   0.0   \n",
       "1          0.0          0.0          0.0          0.0          1.0   0.0   \n",
       "2          0.0          0.0          0.0          0.0          1.0   0.0   \n",
       "3          0.0          0.0          0.0          0.0          1.0   0.0   \n",
       "4          0.0          0.0          0.0          0.0          1.0   0.0   \n",
       "\n",
       "    Model  Vehicle Class  Transmission  Engine Size(L)  Cylinders  \\\n",
       "0  1057.0            0.0          14.0       -0.856721  -0.883408   \n",
       "1  1057.0            0.0          25.0       -0.561317  -0.883408   \n",
       "2  1058.0            0.0          22.0       -1.225976  -0.883408   \n",
       "3  1233.0           11.0          15.0        0.251043   0.210575   \n",
       "4  1499.0           11.0          15.0        0.251043   0.210575   \n",
       "\n",
       "   Fuel Consumption City (L/100 km)  Fuel Consumption Hwy (L/100 km)  \\\n",
       "0                         -0.759002                        -1.052781   \n",
       "1                         -0.387577                        -0.603202   \n",
       "2                         -1.873275                        -1.457401   \n",
       "3                          0.040990                         0.026208   \n",
       "4                         -0.130437                        -0.153624   \n",
       "\n",
       "   Fuel Consumption Comb (L/100 km)  Fuel Consumption Comb (mpg)  \\\n",
       "0                         -0.855742                     0.763110   \n",
       "1                         -0.475423                     0.209966   \n",
       "2                         -1.754677                     2.837400   \n",
       "3                          0.043193                    -0.343178   \n",
       "4                         -0.129679                    -0.066606   \n",
       "\n",
       "   CO2 Emissions(g/km)  \n",
       "0            -0.932933  \n",
       "1            -0.505646  \n",
       "2            -1.958421  \n",
       "3             0.075464  \n",
       "4            -0.112542  "
      ]
     },
     "execution_count": 168,
     "metadata": {},
     "output_type": "execute_result"
    }
   ],
   "source": [
    "trans_df.head()"
   ]
  },
  {
   "cell_type": "markdown",
   "id": "1eaabc69-6b18-45d5-aecc-ec316e97e8de",
   "metadata": {},
   "source": [
    "## 2.2. train Test"
   ]
  },
  {
   "cell_type": "code",
   "execution_count": 170,
   "id": "bc63fa7d-d873-4ee4-be1e-75bd714fc50b",
   "metadata": {},
   "outputs": [],
   "source": [
    "X = trans_df[new_cols].values\n",
    "Y = trans_df[Y_col].values"
   ]
  },
  {
   "cell_type": "code",
   "execution_count": 171,
   "id": "aaa9a703-8164-4e30-a0b7-40f0f8f7b639",
   "metadata": {},
   "outputs": [],
   "source": [
    "from sklearn.model_selection import train_test_split #importamos la función para construir las muestras de entrenamiento y de test.\n",
    "X_train,X_test,Y_train,Y_test = train_test_split(X,Y,random_state=0,test_size=0.3)"
   ]
  },
  {
   "cell_type": "markdown",
   "id": "2dcd7ba1-ddc8-4011-86d4-142838ee3caf",
   "metadata": {},
   "source": [
    "# 3.0 FEATURE SELECTION"
   ]
  },
  {
   "cell_type": "markdown",
   "id": "4027d1cf-007e-4dcd-b3a8-9823505a1817",
   "metadata": {},
   "source": [
    "## 3.1. Correlation"
   ]
  },
  {
   "cell_type": "code",
   "execution_count": 172,
   "id": "215c423c-b91f-480f-8ae5-074703383fb4",
   "metadata": {
    "colab": {
     "base_uri": "https://localhost:8080/",
     "height": 0
    },
    "id": "DZVo_qmodTAT",
    "outputId": "d484d4dc-14e8-471b-ea8a-dd675ebd7cc0"
   },
   "outputs": [
    {
     "name": "stderr",
     "output_type": "stream",
     "text": [
      "/var/folders/99/x_thvh6101lbzztl8qnh9jyr0000gn/T/ipykernel_3745/3547594242.py:1: FutureWarning: The default value of numeric_only in DataFrame.corr is deprecated. In a future version, it will default to False. Select only valid columns or specify the value of numeric_only to silence this warning.\n",
      "  corr = df.corr(method='pearson')\n"
     ]
    }
   ],
   "source": [
    "corr = df.corr(method='pearson') "
   ]
  },
  {
   "cell_type": "code",
   "execution_count": 173,
   "id": "98e0c873-71f8-458b-98af-65e421c13784",
   "metadata": {
    "colab": {
     "base_uri": "https://localhost:8080/",
     "height": 0
    },
    "id": "aGTiHDGXdH3A",
    "outputId": "fa0eaf44-979c-45df-a9ca-988aaf81a8db"
   },
   "outputs": [
    {
     "data": {
      "image/png": "[encoded data removed]",
      "text/plain": [
       "<Figure size 1200x900 with 2 Axes>"
      ]
     },
     "metadata": {},
     "output_type": "display_data"
    }
   ],
   "source": [
    "plt.figure(figsize=(12,9)) #seleccionamos un tamaño de imagen mayor\n",
    "sns.set(font_scale=0.8) #seleccionamos un tamaño de letra legible\n",
    "# preparación del gráfico definiendo un mapa de colores\n",
    "cmap = sns.diverging_palette(230, 15, as_cmap=True)\n",
    "# graficamos la correlación\n",
    "sns.heatmap(corr, annot=True,  cmap=cmap)\n",
    "plt.show()"
   ]
  },
  {
   "cell_type": "markdown",
   "id": "3e650dcd-21cf-45b4-bf15-cf3acb6b7ca4",
   "metadata": {
    "id": "B5FwPgW5KW4t"
   },
   "source": [
    "A continuación podemos proceder a trabajar sobre la matriz triangular superior (por simetría) e imponer un umbral para filtrar las variables que tengan valores de correlación superiores a 0.9."
   ]
  },
  {
   "cell_type": "code",
   "execution_count": 174,
   "id": "b1dea938-2d3b-4721-b76f-3caced62bfec",
   "metadata": {
    "colab": {
     "base_uri": "https://localhost:8080/",
     "height": 0
    },
    "id": "P1_73F3uKU7P",
    "outputId": "79d48d8c-bd66-45e4-cc73-5461ed7a205c"
   },
   "outputs": [
    {
     "name": "stdout",
     "output_type": "stream",
     "text": [
      "['Cylinders', 'Fuel Consumption City (L/100 km)', 'Fuel Consumption Hwy (L/100 km)', 'Fuel Consumption Comb (L/100 km)', 'Fuel Consumption Comb (mpg)', 'CO2 Emissions(g/km)']\n"
     ]
    },
    {
     "name": "stderr",
     "output_type": "stream",
     "text": [
      "/var/folders/99/x_thvh6101lbzztl8qnh9jyr0000gn/T/ipykernel_3745/4287684197.py:1: DeprecationWarning: `np.bool` is a deprecated alias for the builtin `bool`. To silence this warning, use `bool` by itself. Doing this will not modify any behavior and is safe. If you specifically wanted the numpy scalar type, use `np.bool_` here.\n",
      "Deprecated in NumPy 1.20; for more details and guidance: https://numpy.org/devdocs/release/1.20.0-notes.html#deprecations\n",
      "  triang_sup = corr.where(np.triu(np.ones(corr.shape), k=1).astype(np.bool))\n"
     ]
    }
   ],
   "source": [
    "triang_sup = corr.where(np.triu(np.ones(corr.shape), k=1).astype(np.bool))\n",
    "# Imponemos el umbral seleccionado sobre la matriz de correlación\n",
    "variablescorr_drop = [column for column in triang_sup.columns if any(triang_sup[column].abs() > 0.78)]\n",
    "print(variablescorr_drop)"
   ]
  },
  {
   "cell_type": "markdown",
   "id": "cde578d1-a60b-4f22-ae8c-f84840c87118",
   "metadata": {},
   "source": [
    "## 3.2. F_regresion"
   ]
  },
  {
   "cell_type": "code",
   "execution_count": 175,
   "id": "cd7aa019-0c8f-4aa4-a563-b9b275e4b14d",
   "metadata": {
    "colab": {
     "base_uri": "https://localhost:8080/"
    },
    "id": "A7maNtYm4gM4",
    "outputId": "4f3b1da0-39cc-488d-9ec8-987a9a1be0e1"
   },
   "outputs": [
    {
     "name": "stdout",
     "output_type": "stream",
     "text": [
      "[2.85061734e-003 1.18528970e-016 5.20664470e-001 9.90792288e-115\n",
      " 3.62647247e-090 2.14465064e-039 7.50246617e-020 1.70859484e-139\n",
      " 1.16301485e-171 0.00000000e+000 0.00000000e+000 0.00000000e+000\n",
      " 0.00000000e+000 0.00000000e+000 0.00000000e+000]\n",
      "[8.90666840e+00 6.89589261e+01 4.12616355e-01 5.36965596e+02\n",
      " 4.16794579e+02 1.74504508e+02 8.36530175e+01 6.60041500e+02\n",
      " 8.22827300e+02 1.94104135e+04 1.66890196e+04 4.04499466e+04\n",
      " 2.62733527e+04 3.95882333e+04 3.44286610e+04]\n"
     ]
    },
    {
     "name": "stderr",
     "output_type": "stream",
     "text": [
      "/Users/eve/opt/anaconda3/envs/unav00/lib/python3.10/site-packages/sklearn/utils/validation.py:993: DataConversionWarning: A column-vector y was passed when a 1d array was expected. Please change the shape of y to (n_samples, ), for example using ravel().\n",
      "  y = column_or_1d(y, warn=True)\n"
     ]
    }
   ],
   "source": [
    "from sklearn.feature_selection import f_regression\n",
    "f_values, p_values = f_regression(X, Y)\n",
    "#psorted_values = p_values.sort()\n",
    "#fsorted_values = f_values.sort()\n",
    "print(p_values)\n",
    "print(f_values)"
   ]
  },
  {
   "cell_type": "code",
   "execution_count": 176,
   "id": "4c8119e2-0c06-4ba9-aa01-8e4c343c90d4",
   "metadata": {
    "colab": {
     "base_uri": "https://localhost:8080/",
     "height": 430
    },
    "id": "ZqgEzdMv-TCN",
    "outputId": "9302d5b8-5f8b-4307-c79c-07fc4c001fd4"
   },
   "outputs": [
    {
     "data": {
      "text/plain": [
       "Text(0, 0.5, 'Valor de F')"
      ]
     },
     "execution_count": 176,
     "metadata": {},
     "output_type": "execute_result"
    },
    {
     "data": {
      "image/png": "[encoded data removed]",
      "text/plain": [
       "<Figure size 1200x600 with 1 Axes>"
      ]
     },
     "metadata": {},
     "output_type": "display_data"
    }
   ],
   "source": [
    "fig, ax = plt.subplots(figsize = (12 , 6))\n",
    "ax.xaxis.label.set_size(20)\n",
    "ax.yaxis.label.set_size(20)\n",
    "ax = sns.barplot(x=np.arange(len(f_values)), y=f_values).set(title='Regresión Univariante')\n",
    "plt.xlabel('Variables Predictoras')\n",
    "plt.ylabel('Valor de F')"
   ]
  },
  {
   "cell_type": "code",
   "execution_count": 177,
   "id": "366e723b-1198-4308-b315-233824ddcdad",
   "metadata": {},
   "outputs": [],
   "source": [
    "dflista_columnas=pd.DataFrame(new_cols)\n",
    "dflista_columnas=dflista_columnas.rename(columns={0:'Variable predictora'})"
   ]
  },
  {
   "cell_type": "markdown",
   "id": "3c8b3ea6-ec48-465a-9c25-7ddaf2b9f166",
   "metadata": {},
   "source": [
    "## 3.3 RFE"
   ]
  },
  {
   "cell_type": "code",
   "execution_count": 181,
   "id": "431cbe21-c0a7-4b4c-8ced-ffe8223510ba",
   "metadata": {},
   "outputs": [
    {
     "data": {
      "text/plain": [
       "(7385, 10)"
      ]
     },
     "execution_count": 181,
     "metadata": {},
     "output_type": "execute_result"
    }
   ],
   "source": [
    "from sklearn.feature_selection import RFE\n",
    "lr= LinearRegression()\n",
    "rfe= RFE(lr, n_features_to_select=10, step=1)\n",
    "rfe.fit(X, Y)\n",
    "rfe.transform(X).shape"
   ]
  },
  {
   "cell_type": "code",
   "execution_count": 182,
   "id": "32680e87-f4d9-4c53-baf9-28c143542fb4",
   "metadata": {},
   "outputs": [
    {
     "name": "stdout",
     "output_type": "stream",
     "text": [
      "[ 0  1  2  3  4 10 11 12 13 14]\n"
     ]
    }
   ],
   "source": [
    "rfefilter = rfe.get_support(indices=True)\n",
    "print(rfefilter)"
   ]
  },
  {
   "cell_type": "code",
   "execution_count": 198,
   "id": "628c8c6f-2a07-4689-94de-c80549d3071e",
   "metadata": {},
   "outputs": [],
   "source": [
    "dfrfe=dflista_columnas.iloc[rfefilter, 0]\n",
    "selectedFeatures = dfrfe.values"
   ]
  },
  {
   "cell_type": "markdown",
   "id": "01112494-ec2b-4721-9432-8eeda4155012",
   "metadata": {},
   "source": [
    "## 3.3 SFS"
   ]
  },
  {
   "cell_type": "code",
   "execution_count": 200,
   "id": "e019c1d7-6bbf-4dee-90f5-71b9bee41fca",
   "metadata": {
    "colab": {
     "base_uri": "https://localhost:8080/"
    },
    "id": "L0Ak6LP-c2KE",
    "outputId": "c857b588-98e3-41c1-9ecb-0a290a78f6d3"
   },
   "outputs": [
    {
     "data": {
      "text/plain": [
       "(7385, 5)"
      ]
     },
     "execution_count": 200,
     "metadata": {},
     "output_type": "execute_result"
    }
   ],
   "source": [
    "from sklearn.feature_selection import SequentialFeatureSelector\n",
    "lr= LinearRegression() \n",
    "sfs = SequentialFeatureSelector(lr, n_features_to_select=5, scoring= 'r2', direction='backward') #NB: direction{‘forward’, ‘backward’}, default=’forward’\n",
    "sfs.fit(X, Y)\n",
    "sfs.transform(X).shape"
   ]
  },
  {
   "cell_type": "code",
   "execution_count": 201,
   "id": "c4c2c5f7-09ef-431f-89cd-cee5477da605",
   "metadata": {
    "colab": {
     "base_uri": "https://localhost:8080/"
    },
    "id": "Lw8KV6_fUAzt",
    "outputId": "f3618026-699f-45b0-a130-e97cdfc968c6"
   },
   "outputs": [
    {
     "name": "stdout",
     "output_type": "stream",
     "text": [
      "[ 0  3  4 11 12]\n"
     ]
    }
   ],
   "source": [
    "sfsfilter = sfs.get_support(indices=True)\n",
    "print(sfsfilter)"
   ]
  },
  {
   "cell_type": "markdown",
   "id": "48f72958-225c-4835-8221-de683a8b48b2",
   "metadata": {
    "id": "oEizzNz5lqgy"
   },
   "source": [
    "A partir del listado de variables predictoras, con el indexado correspondiente, identificamos las seleccionadas mediante el método de selección secuencial de variables (SFS):\n",
    "\n",
    " "
   ]
  },
  {
   "cell_type": "code",
   "execution_count": 202,
   "id": "62cb468b-4e42-4a2d-8031-e6085eca92f5",
   "metadata": {
    "colab": {
     "base_uri": "https://localhost:8080/"
    },
    "id": "ja0j0o-7lsv5",
    "outputId": "a1304cc8-d8ac-4a5f-cb0a-cbc10cfb643c"
   },
   "outputs": [
    {
     "data": {
      "text/plain": [
       "0                          Fuel Type_D\n",
       "3                          Fuel Type_X\n",
       "4                          Fuel Type_Z\n",
       "11    Fuel Consumption City (L/100 km)\n",
       "12     Fuel Consumption Hwy (L/100 km)\n",
       "Name: Variable predictora, dtype: object"
      ]
     },
     "execution_count": 202,
     "metadata": {},
     "output_type": "execute_result"
    }
   ],
   "source": [
    "dfsfs=dflista_columnas.iloc[sfsfilter, 0]\n",
    "dfsfs"
   ]
  },
  {
   "cell_type": "markdown",
   "id": "697b244a-203f-4ac2-a694-d7827119db60",
   "metadata": {},
   "source": [
    "## 3.3 OLS"
   ]
  },
  {
   "cell_type": "code",
   "execution_count": 199,
   "id": "6f9f4372-8b46-45f6-8427-9cfce68a25c6",
   "metadata": {},
   "outputs": [
    {
     "name": "stdout",
     "output_type": "stream",
     "text": [
      "                            OLS Regression Results                            \n",
      "==============================================================================\n",
      "Dep. Variable:                      y   R-squared:                       0.993\n",
      "Model:                            OLS   Adj. R-squared:                  0.993\n",
      "Method:                 Least Squares   F-statistic:                 7.279e+04\n",
      "Date:                Fri, 16 Dec 2022   Prob (F-statistic):               0.00\n",
      "Time:                        16:06:07   Log-Likelihood:                 7748.9\n",
      "No. Observations:                7385   AIC:                        -1.547e+04\n",
      "Df Residuals:                    7370   BIC:                        -1.536e+04\n",
      "Df Model:                          14                                         \n",
      "Covariance Type:            nonrobust                                         \n",
      "==============================================================================\n",
      "                 coef    std err          t      P>|t|      [0.025      0.975]\n",
      "------------------------------------------------------------------------------\n",
      "const         -0.3779      0.014    -26.140      0.000      -0.406      -0.350\n",
      "x1             0.9875      0.015     64.745      0.000       0.958       1.017\n",
      "x2            -1.3758      0.015    -91.228      0.000      -1.405      -1.346\n",
      "x3            -0.9199      0.071    -13.005      0.000      -1.059      -0.781\n",
      "x4             0.4701      0.014     32.842      0.000       0.442       0.498\n",
      "x5             0.4601      0.014     32.122      0.000       0.432       0.488\n",
      "x6            -0.0002   9.24e-05     -1.956      0.051      -0.000    4.38e-07\n",
      "x7          3.874e-08   1.79e-06      0.022      0.983   -3.47e-06    3.55e-06\n",
      "x8            -0.0002      0.000     -1.015      0.310      -0.001       0.000\n",
      "x9            -0.0002      0.000     -1.133      0.257      -0.000       0.000\n",
      "x10            0.0048      0.003      1.621      0.105      -0.001       0.011\n",
      "x11            0.0359      0.003     12.362      0.000       0.030       0.042\n",
      "x12            0.3801      0.045      8.473      0.000       0.292       0.468\n",
      "x13            0.2102      0.024      8.914      0.000       0.164       0.256\n",
      "x14            0.4010      0.067      5.961      0.000       0.269       0.533\n",
      "x15           -0.1074      0.003    -36.834      0.000      -0.113      -0.102\n",
      "==============================================================================\n",
      "Omnibus:                     2288.785   Durbin-Watson:                   1.571\n",
      "Prob(Omnibus):                  0.000   Jarque-Bera (JB):           147454.184\n",
      "Skew:                          -0.629   Prob(JB):                         0.00\n",
      "Kurtosis:                      24.855   Cond. No.                     1.11e+17\n",
      "==============================================================================\n",
      "\n",
      "Notes:\n",
      "[1] Standard Errors assume that the covariance matrix of the errors is correctly specified.\n",
      "[2] The smallest eigenvalue is 8.27e-25. This might indicate that there are\n",
      "strong multicollinearity problems or that the design matrix is singular.\n"
     ]
    },
    {
     "data": {
      "image/png": "[encoded data removed]",
      "text/plain": [
       "<Figure size 640x480 with 1 Axes>"
      ]
     },
     "metadata": {},
     "output_type": "display_data"
    }
   ],
   "source": [
    "import matplotlib.pyplot as plt\n",
    "import statistics\n",
    "from math import sqrt\n",
    "from sklearn.linear_model import LinearRegression\n",
    "import statsmodels.api as sm\n",
    "from scipy import stats\n",
    "X2 = sm.add_constant(X) #sm.OLS requiere añadir una columna de unos que representa la variable de valor constante x_0=1\n",
    "est = sm.OLS(Y, X2)\n",
    "est2 = est.fit()\n",
    "print(est2.summary())\n",
    "\n",
    "summary2_df = est2.summary2().tables[1]\n",
    "intervals_ioc = summary2_df.iloc[1:,[0,4,5]]\n",
    "\n",
    "def plot_confidence_interval(x, value, color='#2187bb', horizontal_line_width=0.25):\n",
    "    left = x - horizontal_line_width / 2\n",
    "    top = value[2]\n",
    "    right = x + horizontal_line_width / 2\n",
    "    bottom = value[1]\n",
    "    plt.plot([x, x], [top, bottom], color=color)\n",
    "    plt.plot([left, right], [top, top], color=color)\n",
    "    plt.plot([left, right], [bottom, bottom], color=color)\n",
    "    plt.plot(x, value[0], 'o', color='#f44336')\n",
    "\n",
    "    return value[0], abs(value[1]-value[0])\n",
    "\n",
    "ticks = range(0,len(selectedFeatures),1)\n",
    "plt.xticks(ticks, selectedFeatures)\n",
    "plt.title('Confidence Interval')\n",
    "for tick in ticks:\n",
    "    plot_confidence_interval(tick, intervals_ioc.iloc[tick,])\n",
    "\n",
    "plt.show()\n"
   ]
  },
  {
   "cell_type": "markdown",
   "id": "93b1d4f8-fccb-47de-ad12-09461855b2a8",
   "metadata": {},
   "source": [
    "# 4.0 MODEL\n",
    "\n",
    "he probado distintas alhpas para distintos modelos de Ridge y Lasso\n",
    "\n",
    "Me salen modelos con mucho ajuste abria que revisar los datos pero no me ha dado tiempo\n",
    "\n",
    "Finalmente se selecciona un modelo"
   ]
  },
  {
   "cell_type": "code",
   "execution_count": 190,
   "id": "0d7ff00c-a556-43e9-b3f1-1848e7350b54",
   "metadata": {},
   "outputs": [],
   "source": [
    "import sklearn.metrics as metrics\n",
    "import math\n",
    "def calculametricas(y_test, y_pred):\n",
    "    mae = metrics.mean_absolute_error(y_test, y_pred) #Error absoluto medio (MAE)\n",
    "    mse = metrics.mean_squared_error(y_test, y_pred) #Error cuadrático medio (MSE)\n",
    "    rmse = math.sqrt(mse) #Error estándar de la estimación (RMSE)\n",
    "    r2 = metrics.r2_score(y_test, y_pred) #Cálculo del coeficiente de determinación R2\n",
    "    print(\"MAE : \",mae)\n",
    "    print(\"MSE : \",mse)\n",
    "    print(\"RMSE : \",rmse)\n",
    "    print(\"R2 : \",r2)\n",
    "    return mae,mse,rmse,r2\n",
    "def calculametricas2(y_test, y_pred):\n",
    "    mae = metrics.mean_absolute_error(y_test, y_pred) #Error absoluto medio (MAE)\n",
    "    mse = metrics.mean_squared_error(y_test, y_pred) #Error cuadrático medio (MSE)\n",
    "    rmse = math.sqrt(mse) #Error estándar de la estimación (RMSE)\n",
    "    r2 = metrics.r2_score(y_test, y_pred) #Cálculo del coeficiente de determinación R2\n",
    "    # print(\"MAE : \",mae)\n",
    "    # print(\"MSE : \",mse)\n",
    "    # print(\"RMSE : \",rmse)\n",
    "    # print(\"R2 : \",r2)\n",
    "    return mae,mse,rmse,r2"
   ]
  },
  {
   "cell_type": "code",
   "execution_count": 193,
   "id": "5d035dc8-4360-4917-a7f0-18dc4f579472",
   "metadata": {},
   "outputs": [
    {
     "name": "stderr",
     "output_type": "stream",
     "text": [
      "/Users/eve/opt/anaconda3/envs/unav00/lib/python3.10/site-packages/sklearn/linear_model/_coordinate_descent.py:647: ConvergenceWarning: Objective did not converge. You might want to increase the number of iterations, check the scale of the features or consider increasing regularisation. Duality gap: 5.397e-01, tolerance: 5.187e-01\n",
      "  model = cd_fast.enet_coordinate_descent(\n",
      "/Users/eve/opt/anaconda3/envs/unav00/lib/python3.10/site-packages/sklearn/linear_model/_coordinate_descent.py:647: ConvergenceWarning: Objective did not converge. You might want to increase the number of iterations, check the scale of the features or consider increasing regularisation. Duality gap: 5.767e-01, tolerance: 5.187e-01\n",
      "  model = cd_fast.enet_coordinate_descent(\n",
      "/Users/eve/opt/anaconda3/envs/unav00/lib/python3.10/site-packages/sklearn/linear_model/_coordinate_descent.py:647: ConvergenceWarning: Objective did not converge. You might want to increase the number of iterations, check the scale of the features or consider increasing regularisation. Duality gap: 6.082e-01, tolerance: 5.187e-01\n",
      "  model = cd_fast.enet_coordinate_descent(\n",
      "/Users/eve/opt/anaconda3/envs/unav00/lib/python3.10/site-packages/sklearn/linear_model/_coordinate_descent.py:647: ConvergenceWarning: Objective did not converge. You might want to increase the number of iterations, check the scale of the features or consider increasing regularisation. Duality gap: 6.345e-01, tolerance: 5.187e-01\n",
      "  model = cd_fast.enet_coordinate_descent(\n",
      "/Users/eve/opt/anaconda3/envs/unav00/lib/python3.10/site-packages/sklearn/linear_model/_coordinate_descent.py:647: ConvergenceWarning: Objective did not converge. You might want to increase the number of iterations, check the scale of the features or consider increasing regularisation. Duality gap: 6.786e-01, tolerance: 5.187e-01\n",
      "  model = cd_fast.enet_coordinate_descent(\n",
      "/Users/eve/opt/anaconda3/envs/unav00/lib/python3.10/site-packages/sklearn/linear_model/_coordinate_descent.py:647: ConvergenceWarning: Objective did not converge. You might want to increase the number of iterations, check the scale of the features or consider increasing regularisation. Duality gap: 6.722e-01, tolerance: 5.187e-01\n",
      "  model = cd_fast.enet_coordinate_descent(\n",
      "/Users/eve/opt/anaconda3/envs/unav00/lib/python3.10/site-packages/sklearn/linear_model/_coordinate_descent.py:647: ConvergenceWarning: Objective did not converge. You might want to increase the number of iterations, check the scale of the features or consider increasing regularisation. Duality gap: 6.624e-01, tolerance: 5.187e-01\n",
      "  model = cd_fast.enet_coordinate_descent(\n",
      "/Users/eve/opt/anaconda3/envs/unav00/lib/python3.10/site-packages/sklearn/linear_model/_coordinate_descent.py:647: ConvergenceWarning: Objective did not converge. You might want to increase the number of iterations, check the scale of the features or consider increasing regularisation. Duality gap: 6.494e-01, tolerance: 5.187e-01\n",
      "  model = cd_fast.enet_coordinate_descent(\n",
      "/Users/eve/opt/anaconda3/envs/unav00/lib/python3.10/site-packages/sklearn/linear_model/_coordinate_descent.py:647: ConvergenceWarning: Objective did not converge. You might want to increase the number of iterations, check the scale of the features or consider increasing regularisation. Duality gap: 6.331e-01, tolerance: 5.187e-01\n",
      "  model = cd_fast.enet_coordinate_descent(\n",
      "/Users/eve/opt/anaconda3/envs/unav00/lib/python3.10/site-packages/sklearn/linear_model/_coordinate_descent.py:647: ConvergenceWarning: Objective did not converge. You might want to increase the number of iterations, check the scale of the features or consider increasing regularisation. Duality gap: 6.134e-01, tolerance: 5.187e-01\n",
      "  model = cd_fast.enet_coordinate_descent(\n",
      "/Users/eve/opt/anaconda3/envs/unav00/lib/python3.10/site-packages/sklearn/linear_model/_coordinate_descent.py:647: ConvergenceWarning: Objective did not converge. You might want to increase the number of iterations, check the scale of the features or consider increasing regularisation. Duality gap: 5.905e-01, tolerance: 5.187e-01\n",
      "  model = cd_fast.enet_coordinate_descent(\n",
      "/Users/eve/opt/anaconda3/envs/unav00/lib/python3.10/site-packages/sklearn/linear_model/_coordinate_descent.py:647: ConvergenceWarning: Objective did not converge. You might want to increase the number of iterations, check the scale of the features or consider increasing regularisation. Duality gap: 5.642e-01, tolerance: 5.187e-01\n",
      "  model = cd_fast.enet_coordinate_descent(\n",
      "/Users/eve/opt/anaconda3/envs/unav00/lib/python3.10/site-packages/sklearn/linear_model/_coordinate_descent.py:647: ConvergenceWarning: Objective did not converge. You might want to increase the number of iterations, check the scale of the features or consider increasing regularisation. Duality gap: 5.347e-01, tolerance: 5.187e-01\n",
      "  model = cd_fast.enet_coordinate_descent(\n"
     ]
    },
    {
     "data": {
      "image/png": "[encoded data removed]",
      "text/plain": [
       "<Figure size 640x480 with 1 Axes>"
      ]
     },
     "metadata": {},
     "output_type": "display_data"
    }
   ],
   "source": [
    "from sklearn.linear_model import Lasso\n",
    "alphas = np.arange(0.001,0.2,0.001)\n",
    "r2_train = []\n",
    "r2_test = []\n",
    "\n",
    "for alpha in alphas:\n",
    "    lasso_regression = Lasso(alpha=alpha, random_state = 3) \n",
    "    lasso=lasso_regression.fit(X_train, Y_train)\n",
    "    # print(\"Los parámetros de la regresión de Lasso son\\n\", lasso.coef_) #Comprobamos el peso que se asigna a las distintas variables predictoras\n",
    "    Y_train_pred_lasso = lasso_regression.predict(X_train)\n",
    "    Y_test_pred_lasso = lasso_regression.predict(X_test)\n",
    "    ###############Cálculo de las métricas#######################\n",
    "    # print(\"Métricas calculadas sobre la muestra de entrenamiento\")\n",
    "    metricasLasso_train=calculametricas2(Y_train, Y_train_pred_lasso)\n",
    "    # print(\"Métricas calculadas sobre la muestra de test\")\n",
    "    metricasLasso_test=calculametricas2(Y_test, Y_test_pred_lasso)\n",
    "    ###############Cálculo de las métricas#######################\n",
    "    # print(\"Métricas calculadas sobre la muestra de entrenamiento\")\n",
    "    r2_train.append(metricasLasso_train[3])\n",
    "    r2_test.append(metricasLasso_test[3])\n",
    "\n",
    "fig, ax = plt.subplots()\n",
    "ax.plot(alphas,r2_test , lw=4)\n",
    "ax.set_xlabel(\"alphas\")\n",
    "ax.set_ylabel(\"r2_test\")\n",
    "plt.show()"
   ]
  },
  {
   "cell_type": "code",
   "execution_count": 194,
   "id": "59defd7c-316c-4bb0-bd9b-9aa06d833c9c",
   "metadata": {},
   "outputs": [
    {
     "data": {
      "image/png": "[encoded data removed]",
      "text/plain": [
       "<Figure size 640x480 with 1 Axes>"
      ]
     },
     "metadata": {},
     "output_type": "display_data"
    }
   ],
   "source": [
    "from sklearn.linear_model import Ridge\n",
    "\n",
    "alphas = np.arange(0.1,10,0.1)\n",
    "r2_train = []\n",
    "r2_test = []\n",
    "\n",
    "for alpha in alphas:\n",
    "    ridge_regression = Ridge(alpha=alpha, solver = 'auto', random_state = 9) #Si selecionamos alpha = 0 se correspondería con una regresión lineal sin penalización\n",
    "    ridge=ridge_regression.fit(X_train, Y_train)\n",
    "    # (\"Los parámetros de la regresión de Ridge son\\n\", ridge.coef_) #Comprobamos el peso que se asigna a las distintas variables predictoras\n",
    "    Y_train_pred_ridge = ridge_regression.predict(X_train)\n",
    "    Y_test_pred_ridge = ridge_regression.predict(X_test)\n",
    "    ###############Cálculo de las métricas#######################\n",
    "    # print(\"Métricas calculadas sobre la muestra de entrenamiento\")\n",
    "    metricasRidge_train=calculametricas2(Y_train, Y_train_pred_ridge);\n",
    "    r2_train.append(metricasRidge_train[3])\n",
    "    # print(\"Métricas calculadas sobre la muestra de test\")\n",
    "    metricasRidge_test=calculametricas2(Y_test, Y_test_pred_ridge);\n",
    "    r2_test.append(metricasRidge_test[3])\n",
    "fig, ax = plt.subplots()\n",
    "ax.plot(alphas,r2_train , lw=4)\n",
    "ax.set_xlabel(\"alphas\")\n",
    "ax.set_ylabel(\"r2_train\")\n",
    "plt.show()"
   ]
  },
  {
   "cell_type": "code",
   "execution_count": 195,
   "id": "49fcd65f-437f-408e-959b-655130b1fab7",
   "metadata": {},
   "outputs": [
    {
     "name": "stdout",
     "output_type": "stream",
     "text": [
      "Los parámetros de la regresión de Ridge son\n",
      " [[ 9.05922366e-01 -1.39387813e+00 -3.22913098e-01  4.09056100e-01\n",
      "   4.01812766e-01 -3.70471458e-05  6.88489240e-07  1.89180724e-04\n",
      "  -1.96982684e-04  6.47276672e-03  4.34659421e-02  3.98915112e-01\n",
      "   2.22552844e-01  3.44053872e-01 -1.20388184e-01]]\n",
      "Métricas calculadas sobre la muestra de entrenamiento\n",
      "MAE :  0.05321632871337961\n",
      "MSE :  0.007539168035078846\n",
      "RMSE :  0.08682838265843057\n",
      "R2 :  0.9924866385490937\n",
      "Métricas calculadas sobre la muestra de test\n",
      "MAE :  0.05202456836153615\n",
      "MSE :  0.006749417496296064\n",
      "RMSE :  0.0821548385446412\n",
      "R2 :  0.9931955957832254\n"
     ]
    }
   ],
   "source": [
    "from sklearn.linear_model import Ridge\n",
    "ridge_regression = Ridge(alpha=2, solver = 'auto', random_state = 9) #Si selecionamos alpha = 0 se correspondería con una regresión lineal sin penalización\n",
    "ridge=ridge_regression.fit(X_train, Y_train)\n",
    "print(\"Los parámetros de la regresión de Ridge son\\n\", ridge.coef_) #Comprobamos el peso que se asigna a las distintas variables predictoras\n",
    "Y_train_pred_ridge = ridge_regression.predict(X_train)\n",
    "Y_test_pred_ridge = ridge_regression.predict(X_test)\n",
    "###############Cálculo de las métricas#######################\n",
    "print(\"Métricas calculadas sobre la muestra de entrenamiento\")\n",
    "metricasRidge_train=calculametricas(Y_train, Y_train_pred_ridge)\n",
    "print(\"Métricas calculadas sobre la muestra de test\")\n",
    "metricasRidge_test=calculametricas(Y_test, Y_test_pred_ridge)"
   ]
  },
  {
   "cell_type": "code",
   "execution_count": null,
   "id": "867c23f8-2ba6-466a-a37b-c8b16feab09c",
   "metadata": {},
   "outputs": [],
   "source": []
  }
 ],
 "metadata": {
  "kernelspec": {
   "display_name": "Python 3 (ipykernel)",
   "language": "python",
   "name": "python3"
  },
  "language_info": {
   "codemirror_mode": {
    "name": "ipython",
    "version": 3
   },
   "file_extension": ".py",
   "mimetype": "text/x-python",
   "name": "python",
   "nbconvert_exporter": "python",
   "pygments_lexer": "ipython3",
   "version": "3.10.8"
  }
 },
 "nbformat": 4,
 "nbformat_minor": 5
}
