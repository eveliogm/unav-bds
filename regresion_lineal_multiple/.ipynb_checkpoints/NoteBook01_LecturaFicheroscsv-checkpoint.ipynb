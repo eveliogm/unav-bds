{
  "nbformat": 4,
  "nbformat_minor": 0,
  "metadata": {
    "colab": {
      "provenance": [],
      "toc_visible": true
    },
    "kernelspec": {
      "name": "python3",
      "display_name": "Python 3"
    },
    "language_info": {
      "name": "python"
    }
  },
  "cells": [
    {
      "cell_type": "markdown",
      "source": [
        "**Máster Universitario en Big Data Science**\n",
        "\n",
        "\n",
        "---\n",
        "\n",
        "\n",
        "Prácticas Clase Regresión Lineal Múltiple\n",
        "\n",
        "---\n",
        "\n",
        "Profesora: Montserrat-Ana Miranda Galcerán\n",
        "\n",
        "Universidad de Navarra, Instituto de Ciencia de los Datos e Inteligencia Artificial (DATAI), Campus Universitario, 31080, Pamplona, Spain.\n",
        "\n",
        "                                   Fecha última modificación: 4-12-22"
      ],
      "metadata": {
        "id": "QPtHwYl1In1_"
      }
    },
    {
      "cell_type": "markdown",
      "source": [
        "Tenemos dos opciones igual de válidas para cargar los datos a Google Colaboratory:\n",
        "\n",
        "\n",
        "\n",
        "1.   Lectura de un fichero de nuestro ordenador personal (**este es el sistema de los NoteBooks del curso**).\n",
        "2.   Lectura de un fichero de nuestra cuenta de Google Drive.\n",
        "\n",
        "\n"
      ],
      "metadata": {
        "id": "rqx4aU6H57lI"
      }
    },
    {
      "cell_type": "markdown",
      "source": [
        "# 1. Lectura de un fichero de nuestro ordenador personal"
      ],
      "metadata": {
        "id": "QwoyUiM7zspC"
      }
    },
    {
      "cell_type": "markdown",
      "source": [
        "## 1º Accedemos al fichero de nuestro ordenador para cargarlo\n",
        "\n",
        "Con la siguiente celda subimos a Colaboratory el fichero que guardamos en nuestro ordenador. \n",
        "\n",
        "\n",
        "\n",
        "---\n",
        "En el botón `Choose Files` seleccionamos en la carpeta correspondiente -> el fichero de datos.\n",
        "\n",
        "Es recomendable haber creado una carpeta (por ej. FicherosCasos) donde guardamos los ficheros que hemos descargado de la plataforma para cada módulo: Caso1.csv, Caso2.csv, Caso3.csv,...\n"
      ],
      "metadata": {
        "id": "oPRgR1fN0KXk"
      }
    },
    {
      "cell_type": "code",
      "execution_count": null,
      "metadata": {
        "colab": {
          "base_uri": "https://localhost:8080/",
          "height": 38
        },
        "id": "3olrll6qAMMU",
        "outputId": "4e3cd22e-a9c5-4609-c8fc-7b6119304eb4"
      },
      "outputs": [
        {
          "output_type": "display_data",
          "data": {
            "text/plain": [
              "<IPython.core.display.HTML object>"
            ],
            "text/html": [
              "\n",
              "     <input type=\"file\" id=\"files-c0c1c5dd-66a9-44a7-8235-91d242576016\" name=\"files[]\" multiple disabled\n",
              "        style=\"border:none\" />\n",
              "     <output id=\"result-c0c1c5dd-66a9-44a7-8235-91d242576016\">\n",
              "      Upload widget is only available when the cell has been executed in the\n",
              "      current browser session. Please rerun this cell to enable.\n",
              "      </output>\n",
              "      <script>// Copyright 2017 Google LLC\n",
              "//\n",
              "// Licensed under the Apache License, Version 2.0 (the \"License\");\n",
              "// you may not use this file except in compliance with the License.\n",
              "// You may obtain a copy of the License at\n",
              "//\n",
              "//      http://www.apache.org/licenses/LICENSE-2.0\n",
              "//\n",
              "// Unless required by applicable law or agreed to in writing, software\n",
              "// distributed under the License is distributed on an \"AS IS\" BASIS,\n",
              "// WITHOUT WARRANTIES OR CONDITIONS OF ANY KIND, either express or implied.\n",
              "// See the License for the specific language governing permissions and\n",
              "// limitations under the License.\n",
              "\n",
              "/**\n",
              " * @fileoverview Helpers for google.colab Python module.\n",
              " */\n",
              "(function(scope) {\n",
              "function span(text, styleAttributes = {}) {\n",
              "  const element = document.createElement('span');\n",
              "  element.textContent = text;\n",
              "  for (const key of Object.keys(styleAttributes)) {\n",
              "    element.style[key] = styleAttributes[key];\n",
              "  }\n",
              "  return element;\n",
              "}\n",
              "\n",
              "// Max number of bytes which will be uploaded at a time.\n",
              "const MAX_PAYLOAD_SIZE = 100 * 1024;\n",
              "\n",
              "function _uploadFiles(inputId, outputId) {\n",
              "  const steps = uploadFilesStep(inputId, outputId);\n",
              "  const outputElement = document.getElementById(outputId);\n",
              "  // Cache steps on the outputElement to make it available for the next call\n",
              "  // to uploadFilesContinue from Python.\n",
              "  outputElement.steps = steps;\n",
              "\n",
              "  return _uploadFilesContinue(outputId);\n",
              "}\n",
              "\n",
              "// This is roughly an async generator (not supported in the browser yet),\n",
              "// where there are multiple asynchronous steps and the Python side is going\n",
              "// to poll for completion of each step.\n",
              "// This uses a Promise to block the python side on completion of each step,\n",
              "// then passes the result of the previous step as the input to the next step.\n",
              "function _uploadFilesContinue(outputId) {\n",
              "  const outputElement = document.getElementById(outputId);\n",
              "  const steps = outputElement.steps;\n",
              "\n",
              "  const next = steps.next(outputElement.lastPromiseValue);\n",
              "  return Promise.resolve(next.value.promise).then((value) => {\n",
              "    // Cache the last promise value to make it available to the next\n",
              "    // step of the generator.\n",
              "    outputElement.lastPromiseValue = value;\n",
              "    return next.value.response;\n",
              "  });\n",
              "}\n",
              "\n",
              "/**\n",
              " * Generator function which is called between each async step of the upload\n",
              " * process.\n",
              " * @param {string} inputId Element ID of the input file picker element.\n",
              " * @param {string} outputId Element ID of the output display.\n",
              " * @return {!Iterable<!Object>} Iterable of next steps.\n",
              " */\n",
              "function* uploadFilesStep(inputId, outputId) {\n",
              "  const inputElement = document.getElementById(inputId);\n",
              "  inputElement.disabled = false;\n",
              "\n",
              "  const outputElement = document.getElementById(outputId);\n",
              "  outputElement.innerHTML = '';\n",
              "\n",
              "  const pickedPromise = new Promise((resolve) => {\n",
              "    inputElement.addEventListener('change', (e) => {\n",
              "      resolve(e.target.files);\n",
              "    });\n",
              "  });\n",
              "\n",
              "  const cancel = document.createElement('button');\n",
              "  inputElement.parentElement.appendChild(cancel);\n",
              "  cancel.textContent = 'Cancel upload';\n",
              "  const cancelPromise = new Promise((resolve) => {\n",
              "    cancel.onclick = () => {\n",
              "      resolve(null);\n",
              "    };\n",
              "  });\n",
              "\n",
              "  // Wait for the user to pick the files.\n",
              "  const files = yield {\n",
              "    promise: Promise.race([pickedPromise, cancelPromise]),\n",
              "    response: {\n",
              "      action: 'starting',\n",
              "    }\n",
              "  };\n",
              "\n",
              "  cancel.remove();\n",
              "\n",
              "  // Disable the input element since further picks are not allowed.\n",
              "  inputElement.disabled = true;\n",
              "\n",
              "  if (!files) {\n",
              "    return {\n",
              "      response: {\n",
              "        action: 'complete',\n",
              "      }\n",
              "    };\n",
              "  }\n",
              "\n",
              "  for (const file of files) {\n",
              "    const li = document.createElement('li');\n",
              "    li.append(span(file.name, {fontWeight: 'bold'}));\n",
              "    li.append(span(\n",
              "        `(${file.type || 'n/a'}) - ${file.size} bytes, ` +\n",
              "        `last modified: ${\n",
              "            file.lastModifiedDate ? file.lastModifiedDate.toLocaleDateString() :\n",
              "                                    'n/a'} - `));\n",
              "    const percent = span('0% done');\n",
              "    li.appendChild(percent);\n",
              "\n",
              "    outputElement.appendChild(li);\n",
              "\n",
              "    const fileDataPromise = new Promise((resolve) => {\n",
              "      const reader = new FileReader();\n",
              "      reader.onload = (e) => {\n",
              "        resolve(e.target.result);\n",
              "      };\n",
              "      reader.readAsArrayBuffer(file);\n",
              "    });\n",
              "    // Wait for the data to be ready.\n",
              "    let fileData = yield {\n",
              "      promise: fileDataPromise,\n",
              "      response: {\n",
              "        action: 'continue',\n",
              "      }\n",
              "    };\n",
              "\n",
              "    // Use a chunked sending to avoid message size limits. See b/62115660.\n",
              "    let position = 0;\n",
              "    do {\n",
              "      const length = Math.min(fileData.byteLength - position, MAX_PAYLOAD_SIZE);\n",
              "      const chunk = new Uint8Array(fileData, position, length);\n",
              "      position += length;\n",
              "\n",
              "      const base64 = btoa(String.fromCharCode.apply(null, chunk));\n",
              "      yield {\n",
              "        response: {\n",
              "          action: 'append',\n",
              "          file: file.name,\n",
              "          data: base64,\n",
              "        },\n",
              "      };\n",
              "\n",
              "      let percentDone = fileData.byteLength === 0 ?\n",
              "          100 :\n",
              "          Math.round((position / fileData.byteLength) * 100);\n",
              "      percent.textContent = `${percentDone}% done`;\n",
              "\n",
              "    } while (position < fileData.byteLength);\n",
              "  }\n",
              "\n",
              "  // All done.\n",
              "  yield {\n",
              "    response: {\n",
              "      action: 'complete',\n",
              "    }\n",
              "  };\n",
              "}\n",
              "\n",
              "scope.google = scope.google || {};\n",
              "scope.google.colab = scope.google.colab || {};\n",
              "scope.google.colab._files = {\n",
              "  _uploadFiles,\n",
              "  _uploadFilesContinue,\n",
              "};\n",
              "})(self);\n",
              "</script> "
            ]
          },
          "metadata": {}
        }
      ],
      "source": [
        "from google.colab import files\n",
        "files.upload()"
      ]
    },
    {
      "cell_type": "markdown",
      "source": [
        "## 2ª Leemos el fichero de datos como un *dataframe*\n",
        "\n",
        "Lectura del fichero que hemos cargado previamente mediante el comando `pd.read_csv`. Pero, como esta línea de código nos lee directamente el fichero como un *dataframe* de Pandas, es imprescindible haber importando la librería Pandas primero."
      ],
      "metadata": {
        "id": "YeUUTOVbz3WW"
      }
    },
    {
      "cell_type": "code",
      "metadata": {
        "id": "E6cVj46dnfS7"
      },
      "source": [
        "import pandas as pd"
      ],
      "execution_count": 3,
      "outputs": []
    },
    {
      "cell_type": "code",
      "execution_count": null,
      "metadata": {
        "id": "Ymd4YrutD7QQ"
      },
      "outputs": [],
      "source": [
        "df = pd.read_csv('Bostonraw.csv') "
      ]
    },
    {
      "cell_type": "markdown",
      "source": [
        "# 2. Lectura de un fichero de nuestra cuenta de Google Drive"
      ],
      "metadata": {
        "id": "APjmNoxU2Uxe"
      }
    },
    {
      "cell_type": "markdown",
      "metadata": {
        "id": "w9lIEY-Mehmp"
      },
      "source": [
        "## 1º Accedemos a nuestra cuenta de Google Drive\n",
        "\n",
        "Ejecutando la siguiente celda de código se nos solicitará el acceso a nuestro Google Drive:"
      ]
    },
    {
      "cell_type": "code",
      "metadata": {
        "colab": {
          "base_uri": "https://localhost:8080/"
        },
        "id": "PqlVLyEhbceF",
        "outputId": "70e97d67-34db-4efc-9472-b232c7278cda"
      },
      "source": [
        "from google.colab import drive\n",
        "drive.mount('/content/drive')"
      ],
      "execution_count": 1,
      "outputs": [
        {
          "output_type": "stream",
          "name": "stdout",
          "text": [
            "Mounted at /content/drive\n"
          ]
        }
      ]
    },
    {
      "cell_type": "markdown",
      "metadata": {
        "id": "KN9HuvDw8cmY"
      },
      "source": [
        "*En detalle:* tal y como se muestra en la siguiente imagen daremos acceso a nuestro Drive seleccionando **`Conectar con Google Drive`**. Acto seguido aparecerá una nueva ventana desde la que se nos solicitará que escojamos la cuenta donde tenemos el Drive con nuestros archivos:\n",
        "\n",
        "**Elige una cuenta para ir a Google Drive for desktop**"
      ]
    },
    {
      "cell_type": "markdown",
      "source": [
        "![Screenshot_2022-10-11_18-24-30.png](data:image/png;base64,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)"
      ],
      "metadata": {
        "id": "7yvDzd_93dKu"
      }
    },
    {
      "cell_type": "markdown",
      "source": [
        "## 2ª Leemos el fichero de datos como un *dataframe*\n",
        "\n",
        "Lectura del fichero que tenemos en Google Drive. Para ello es necesario indicar exactamente la carpeta donde se encuentra ubicado de esta manera:\n",
        "\n",
        "'/content/drive/My Drive/MiCarpeta/Mifichero.csv'\n",
        "\n",
        "donde **MiCarpeta** debe sustituirse por el nombre de la carpeta de Google Drive donde guardamos los ficheros de datos del curso y **Mifichero.csv** debe sustituirse por el nombre del fichero del caso de estudio correspondiente.\n",
        "\n",
        "---\n",
        "\n",
        "\n",
        "De nuevo, como la celda de código correspondiente nos lee directamente el fichero como un *dataframe* de Panda, es imprescindible haber importando la librería Pandas previamnete."
      ],
      "metadata": {
        "id": "DTYfBJoc-9wV"
      }
    },
    {
      "cell_type": "code",
      "metadata": {
        "id": "DTM6imJu-hwb"
      },
      "source": [
        "import pandas as pd"
      ],
      "execution_count": 4,
      "outputs": []
    },
    {
      "cell_type": "code",
      "metadata": {
        "colab": {
          "base_uri": "https://localhost:8080/"
        },
        "id": "264__lXWsjoq",
        "outputId": "67eaf1ea-651f-4f90-a6e1-37eb138384e0"
      },
      "source": [
        "df=pd.read_csv('/content/drive/My Drive/ClasesRLM_Master/BasesdeDatos/Bostonraw.csv')\n",
        "print(df)"
      ],
      "execution_count": 5,
      "outputs": [
        {
          "output_type": "stream",
          "name": "stdout",
          "text": [
            "        crim    zn  indus    nox     rm   age     dis  rad    tax  ptratio  \\\n",
            "0    0.00632  18.0   2.31  0.538  6.575  65.2  4.0900  1.0  296.0     15.3   \n",
            "1    0.02731   0.0   7.07  0.469  6.421  78.9  4.9671  2.0  242.0     17.8   \n",
            "2    0.02729   0.0   7.07  0.469  7.185  61.1  4.9671  2.0  242.0     17.8   \n",
            "3    0.03237   0.0   2.18  0.458  6.998  45.8  6.0622  3.0  222.0     18.7   \n",
            "4    0.06905   0.0   2.18  0.458  7.147  54.2  6.0622  3.0  222.0     18.7   \n",
            "..       ...   ...    ...    ...    ...   ...     ...  ...    ...      ...   \n",
            "501  0.06263   0.0  11.93  0.573  6.593  69.1  2.4786  1.0  273.0     21.0   \n",
            "502  0.04527   0.0  11.93  0.573  6.120  76.7  2.2875  1.0  273.0     21.0   \n",
            "503  0.06076   0.0  11.93  0.573  6.976  91.0  2.1675  1.0  273.0     21.0   \n",
            "504  0.10959   0.0  11.93  0.573  6.794  89.3  2.3889  1.0  273.0     21.0   \n",
            "505  0.04741   0.0  11.93  0.573  6.030  80.8  2.5050  1.0  273.0     21.0   \n",
            "\n",
            "          b  lstat  medv  \n",
            "0    396.90   4.98  24.0  \n",
            "1    396.90   9.14  21.6  \n",
            "2    392.83   4.03  34.7  \n",
            "3    394.63   2.94  33.4  \n",
            "4    396.90   5.33  36.2  \n",
            "..      ...    ...   ...  \n",
            "501  391.99   9.67  22.4  \n",
            "502  396.90   9.08  20.6  \n",
            "503  396.90   5.64  23.9  \n",
            "504  393.45   6.48  22.0  \n",
            "505  396.90   7.88  11.9  \n",
            "\n",
            "[506 rows x 13 columns]\n"
          ]
        }
      ]
    }
  ]
}