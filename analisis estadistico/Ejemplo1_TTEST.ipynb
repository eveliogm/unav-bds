{
 "cells": [
  {
   "cell_type": "markdown",
   "metadata": {
    "id": "2zLMXqijiMlz"
   },
   "source": [
    "**PRUEBAS PARAMÉTRICAS**"
   ]
  },
  {
   "cell_type": "markdown",
   "metadata": {
    "id": "EZlNniXbE3pI"
   },
   "source": [
    "**T-Test de 2 muestras independientes e igualdad de varianzas**"
   ]
  },
  {
   "cell_type": "markdown",
   "metadata": {
    "id": "zXMtkPNUrAOY"
   },
   "source": [
    "El Clearwater National Bank decide llevar a cabo un estudio para identificar las diferencias en el saldo de las cuentas de sus clientes entre dos de sus sucursales. Toma una muestra aleatoria simple de 28 cuentas de la sucursal Cherry Grove (Grupo_A) y otra muestra aleatoria simple e independiente de 22 cuentas en la sucursal de Beechmont (Grupo_B).\n",
    "El banco desea conocer, con un nivel de confianza del 95%, si existen diferencias significativas entre el saldo medio de las cuentas de la población de clientes de Cherry Grove y el saldo medio de las cuentas de la población de clientes de Beechmont.\n"
   ]
  },
  {
   "cell_type": "code",
   "execution_count": null,
   "metadata": {
    "colab": {
     "base_uri": "https://localhost:8080/",
     "height": 109,
     "resources": {
      "http://localhost:8080/nbextensions/google.colab/files.js": {
       "data": "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",
       "headers": [
        [
         "content-type",
         "application/javascript"
        ]
       ],
       "ok": true,
       "status": 200,
       "status_text": ""
      }
     }
    },
    "executionInfo": {
     "elapsed": 18759,
     "status": "ok",
     "timestamp": 1636742699997,
     "user": {
      "displayName": "Maite Aznárez Sanado",
      "photoUrl": "https://lh3.googleusercontent.com/a/default-user=s64",
      "userId": "14388217419523719376"
     },
     "user_tz": -60
    },
    "id": "CZuZ9chXWYPA",
    "outputId": "8402b582-a5e4-47e8-8a77-00ea325a1cdd"
   },
   "outputs": [
    {
     "data": {
      "text/html": [
       "\n",
       "     <input type=\"file\" id=\"files-89ddd7c8-19c4-430b-bb52-a58a3fe45c8c\" name=\"files[]\" multiple disabled\n",
       "        style=\"border:none\" />\n",
       "     <output id=\"result-89ddd7c8-19c4-430b-bb52-a58a3fe45c8c\">\n",
       "      Upload widget is only available when the cell has been executed in the\n",
       "      current browser session. Please rerun this cell to enable.\n",
       "      </output>\n",
       "      <script src=\"/nbextensions/google.colab/files.js\"></script> "
      ],
      "text/plain": [
       "<IPython.core.display.HTML object>"
      ]
     },
     "metadata": {},
     "output_type": "display_data"
    },
    {
     "name": "stdout",
     "output_type": "stream",
     "text": [
      "Saving saldosucursales.csv to saldosucursales.csv\n"
     ]
    },
    {
     "data": {
      "text/plain": [
       "{'saldosucursales.csv': b'group;data\\r\\nCherryGrove;1200\\r\\nCherryGrove;1120\\r\\nCherryGrove;980\\r\\nCherryGrove;879\\r\\nCherryGrove;680\\r\\nCherryGrove;990\\r\\nCherryGrove;769\\r\\nCherryGrove;1130\\r\\nCherryGrove;1290\\r\\nCherryGrove;1065\\r\\nCherryGrove;990\\r\\nCherryGrove;865\\r\\nCherryGrove;1290\\r\\nCherryGrove;1120\\r\\nCherryGrove;1093\\r\\nCherryGrove;976\\r\\nCherryGrove;654\\r\\nCherryGrove;790\\r\\nCherryGrove;889\\r\\nCherryGrove;978\\r\\nCherryGrove;680\\r\\nCherryGrove;790\\r\\nCherryGrove;854\\r\\nCherryGrove;932\\r\\nCherryGrove;1023\\r\\nCherryGrove;1280\\r\\nCherryGrove;1124\\r\\nCherryGrove;1170\\r\\nBeechmont;680\\r\\nBeechmont;780\\r\\nBeechmont;568\\r\\nBeechmont;579\\r\\nBeechmont;680\\r\\nBeechmont;780\\r\\nBeechmont;980\\r\\nBeechmont;943\\r\\nBeechmont;1025\\r\\nBeechmont;1130\\r\\nBeechmont;1280\\r\\nBeechmont;1045\\r\\nBeechmont;990\\r\\nBeechmont;967\\r\\nBeechmont;860\\r\\nBeechmont;825\\r\\nBeechmont;910\\r\\nBeechmont;912\\r\\nBeechmont;870\\r\\nBeechmont;1130\\r\\nBeechmont;1110\\r\\nBeechmont;1054\\r\\n'}"
      ]
     },
     "execution_count": 4,
     "metadata": {},
     "output_type": "execute_result"
    }
   ],
   "source": [
    "## Lectura de datos\n",
    "from google.colab import files\n",
    "files.upload()"
   ]
  },
  {
   "cell_type": "code",
   "execution_count": 1,
   "metadata": {
    "colab": {
     "base_uri": "https://localhost:8080/"
    },
    "executionInfo": {
     "elapsed": 260,
     "status": "ok",
     "timestamp": 1636742702107,
     "user": {
      "displayName": "Maite Aznárez Sanado",
      "photoUrl": "https://lh3.googleusercontent.com/a/default-user=s64",
      "userId": "14388217419523719376"
     },
     "user_tz": -60
    },
    "id": "W9Z8z20AW1Gv",
    "outputId": "a4ad06eb-2f6b-4f6d-d7f2-a291d95a0444"
   },
   "outputs": [
    {
     "name": "stdout",
     "output_type": "stream",
     "text": [
      "          group  data\n",
      "0   CherryGrove  1200\n",
      "1   CherryGrove  1120\n",
      "2   CherryGrove   980\n",
      "3   CherryGrove   879\n",
      "4   CherryGrove   680\n",
      "5   CherryGrove   990\n",
      "6   CherryGrove   769\n",
      "7   CherryGrove  1130\n",
      "8   CherryGrove  1290\n",
      "9   CherryGrove  1065\n",
      "10  CherryGrove   990\n",
      "11  CherryGrove   865\n",
      "12  CherryGrove  1290\n",
      "13  CherryGrove  1120\n",
      "14  CherryGrove  1093\n",
      "15  CherryGrove   976\n",
      "16  CherryGrove   654\n",
      "17  CherryGrove   790\n",
      "18  CherryGrove   889\n",
      "19  CherryGrove   978\n",
      "20  CherryGrove   680\n",
      "21  CherryGrove   790\n",
      "22  CherryGrove   854\n",
      "23  CherryGrove   932\n",
      "24  CherryGrove  1023\n",
      "25  CherryGrove  1280\n",
      "26  CherryGrove  1124\n",
      "27  CherryGrove  1170\n",
      "28    Beechmont   680\n",
      "29    Beechmont   780\n",
      "30    Beechmont   568\n",
      "31    Beechmont   579\n",
      "32    Beechmont   680\n",
      "33    Beechmont   780\n",
      "34    Beechmont   980\n",
      "35    Beechmont   943\n",
      "36    Beechmont  1025\n",
      "37    Beechmont  1130\n",
      "38    Beechmont  1280\n",
      "39    Beechmont  1045\n",
      "40    Beechmont   990\n",
      "41    Beechmont   967\n",
      "42    Beechmont   860\n",
      "43    Beechmont   825\n",
      "44    Beechmont   910\n",
      "45    Beechmont   912\n",
      "46    Beechmont   870\n",
      "47    Beechmont  1130\n",
      "48    Beechmont  1110\n",
      "49    Beechmont  1054\n"
     ]
    }
   ],
   "source": [
    "## Lectura de datos\n",
    "from pandas import read_csv\n",
    "df=read_csv('saldosucursales.csv', sep=';')\n",
    "print(df)"
   ]
  },
  {
   "cell_type": "markdown",
   "metadata": {
    "id": "FAmFD15ylVnh"
   },
   "source": [
    "En nuestro problema, se desea comparar la variable saldo (variable de tipo cuantitativo) entre dos sucursales independientes.\n",
    "\n",
    "Una vez conocemos la naturaleza de los datos y nuestro diseño de investigación, procedemos a establecer las hipótesis: \n",
    "\n",
    "\n",
    "*   H0 : Media del saldo sucursal Cherry Grove (grupo A) = Media del saldo en sucursal Beechmont (grupo B)\n",
    "\n",
    "*   H1 : Media del saldo sucursal Cherry Grove (grupo A) ≠ Media del saldo en sucursal Beechmont (grupo B)\n",
    "\n",
    "\n",
    "\n",
    "\n",
    "\n",
    "\n",
    "\n"
   ]
  },
  {
   "cell_type": "code",
   "execution_count": 2,
   "metadata": {
    "id": "-MszoSWVsOFY"
   },
   "outputs": [],
   "source": [
    "#Asignación de nombres a los grupos\n",
    "Grupo_A = df['data'][df['group'] == 'CherryGrove']\n",
    "Grupo_B = df['data'][df['group'] == 'Beechmont']\n"
   ]
  },
  {
   "cell_type": "code",
   "execution_count": 3,
   "metadata": {
    "colab": {
     "base_uri": "https://localhost:8080/",
     "height": 355
    },
    "executionInfo": {
     "elapsed": 7,
     "status": "ok",
     "timestamp": 1636742707053,
     "user": {
      "displayName": "Maite Aznárez Sanado",
      "photoUrl": "https://lh3.googleusercontent.com/a/default-user=s64",
      "userId": "14388217419523719376"
     },
     "user_tz": -60
    },
    "id": "6XvYvX9FzXeU",
    "outputId": "f8b815ae-1c48-4735-b59c-f3d8abbd7dfb"
   },
   "outputs": [
    {
     "data": {
      "image/png": "[encoded data removed]",
      "text/plain": [
       "<Figure size 640x480 with 1 Axes>"
      ]
     },
     "metadata": {},
     "output_type": "display_data"
    }
   ],
   "source": [
    "# Diagrama de cajas\n",
    "boxplot = df.boxplot(column=['data'],by='group')"
   ]
  },
  {
   "cell_type": "code",
   "execution_count": 4,
   "metadata": {
    "colab": {
     "base_uri": "https://localhost:8080/"
    },
    "executionInfo": {
     "elapsed": 247,
     "status": "ok",
     "timestamp": 1636742709198,
     "user": {
      "displayName": "Maite Aznárez Sanado",
      "photoUrl": "https://lh3.googleusercontent.com/a/default-user=s64",
      "userId": "14388217419523719376"
     },
     "user_tz": -60
    },
    "id": "-6z17RGDOnnD",
    "outputId": "ec5abe9b-9470-4769-e77b-523d1f001a99"
   },
   "outputs": [
    {
     "name": "stdout",
     "output_type": "stream",
     "text": [
      "La media del grupo A es= 985.75\n",
      "La mediana del grupo A es= 985.0\n",
      "La desviación típica del grupo A es= 184.9081103122826\n",
      "La media del grupo B es= 913.5454545454545\n",
      "La mediana del grupo B es= 927.5\n",
      "La desviación típica del grupo B es= 184.9969696721511\n"
     ]
    }
   ],
   "source": [
    "#Importar módulos a utilizar\n",
    "from statistics import mean\n",
    "from numpy import percentile\n",
    "\n",
    "# Estadísticos descriptivos: Media, Mediana y desviación típica\n",
    "media=mean(Grupo_A)\n",
    "print('La media del grupo A es=',media) \n",
    "mediana=percentile(Grupo_A,50)\n",
    "print('La mediana del grupo A es=',mediana)\n",
    "print('La desviación típica del grupo A es=',Grupo_A.std())\n",
    "\n",
    "media=mean(Grupo_B)\n",
    "print('La media del grupo B es=',media) \n",
    "mediana=percentile(Grupo_B,50)\n",
    "print('La mediana del grupo B es=',mediana)\n",
    "print('La desviación típica del grupo B es=',Grupo_B.std())\n"
   ]
  },
  {
   "cell_type": "code",
   "execution_count": null,
   "metadata": {
    "colab": {
     "base_uri": "https://localhost:8080/"
    },
    "executionInfo": {
     "elapsed": 252,
     "status": "ok",
     "timestamp": 1636742711287,
     "user": {
      "displayName": "Maite Aznárez Sanado",
      "photoUrl": "https://lh3.googleusercontent.com/a/default-user=s64",
      "userId": "14388217419523719376"
     },
     "user_tz": -60
    },
    "id": "HmfEcX44GwMK",
    "outputId": "05cccf8e-b37d-4674-c9c0-f9fd309619de"
   },
   "outputs": [
    {
     "name": "stdout",
     "output_type": "stream",
     "text": [
      "Grupo A: -0.08964721668098669 -0.8647311047658106\n",
      "Grupo B: -0.19592261778546538 -0.5185850287651319\n"
     ]
    }
   ],
   "source": [
    "from scipy import stats\n",
    "skew = stats.skew (Grupo_A) #buscando asimetría\n",
    "curtosis = stats.kurtosis (Grupo_A) #buscando curtosis \n",
    "print('Grupo A:',skew, curtosis)\n",
    "\n",
    "skew = stats.skew (Grupo_B) #buscando asimetría\n",
    "curtosis = stats.kurtosis (Grupo_B) #buscando curtosis \n",
    "print('Grupo B:',skew, curtosis)"
   ]
  },
  {
   "cell_type": "code",
   "execution_count": null,
   "metadata": {
    "colab": {
     "base_uri": "https://localhost:8080/"
    },
    "executionInfo": {
     "elapsed": 244,
     "status": "ok",
     "timestamp": 1636742713435,
     "user": {
      "displayName": "Maite Aznárez Sanado",
      "photoUrl": "https://lh3.googleusercontent.com/a/default-user=s64",
      "userId": "14388217419523719376"
     },
     "user_tz": -60
    },
    "id": "fisD2pwoU3B-",
    "outputId": "b31d5194-d14f-4152-9811-f3787d6711cc"
   },
   "outputs": [
    {
     "name": "stdout",
     "output_type": "stream",
     "text": [
      "pGrupoA= 0.4595722258090973\n",
      "pGrupoB= 0.8733876347541809\n"
     ]
    }
   ],
   "source": [
    "# Supuesto de Normalidad: Prueba de Shapiro-Wilk\n",
    "from scipy.stats import shapiro\n",
    "shapiro_A, p_A  = shapiro(Grupo_A)\n",
    "shapiro_B, p_B  = shapiro(Grupo_B)\n",
    "print('pGrupoA=',p_A)\n",
    "print('pGrupoB=',p_B)"
   ]
  },
  {
   "cell_type": "code",
   "execution_count": null,
   "metadata": {
    "colab": {
     "base_uri": "https://localhost:8080/",
     "height": 573
    },
    "executionInfo": {
     "elapsed": 530,
     "status": "ok",
     "timestamp": 1636742716241,
     "user": {
      "displayName": "Maite Aznárez Sanado",
      "photoUrl": "https://lh3.googleusercontent.com/a/default-user=s64",
      "userId": "14388217419523719376"
     },
     "user_tz": -60
    },
    "id": "jBzIuw6xFwUc",
    "outputId": "ac77cc7d-413f-4413-970f-c3fb1d521609"
   },
   "outputs": [
    {
     "data": {
      "image/png": "[encoded data removed]",
      "text/plain": [
       "<Figure size 640x480 with 1 Axes>"
      ]
     },
     "metadata": {},
     "output_type": "display_data"
    },
    {
     "data": {
      "image/png": "[encoded data removed]",
      "text/plain": [
       "<Figure size 640x480 with 1 Axes>"
      ]
     },
     "metadata": {},
     "output_type": "display_data"
    }
   ],
   "source": [
    "#Importar módulos a utilizar\n",
    "from matplotlib import pyplot\n",
    "from scipy.stats import probplot\n",
    "from matplotlib.pyplot import show\n",
    "\n",
    "#Gráfico de normalidad\n",
    "probplot(Grupo_A, dist=\"norm\", plot=pyplot)\n",
    "show()\n",
    "probplot(Grupo_B, dist=\"norm\", plot=pyplot)\n",
    "show()\n"
   ]
  },
  {
   "cell_type": "markdown",
   "metadata": {
    "id": "CNpm5crEmTnr"
   },
   "source": [
    "Contraste de hipótesis del Test de Shapiro-Wilk\n",
    "*   H0: los datos provienen de una población distribuida normalmente (p > 0.05)\n",
    "*   H1: los datos NO provienen de una población distribuida normalmente (p < 0.05)\n",
    "\n",
    "\n",
    "Dado que el Test de Shapiro-Wilk resulta en una  pA = 0.46 y pB = 0.87 (p > 0.05), no se encuentra evidencia para no asumir que ambas muestras provienen de una población distribuida normalmente. Podemos emplear pruebas paramétricas para realizar la comparación de los datos."
   ]
  },
  {
   "cell_type": "code",
   "execution_count": null,
   "metadata": {
    "colab": {
     "base_uri": "https://localhost:8080/"
    },
    "executionInfo": {
     "elapsed": 255,
     "status": "ok",
     "timestamp": 1636742719494,
     "user": {
      "displayName": "Maite Aznárez Sanado",
      "photoUrl": "https://lh3.googleusercontent.com/a/default-user=s64",
      "userId": "14388217419523719376"
     },
     "user_tz": -60
    },
    "id": "i9psctReVdB2",
    "outputId": "5f19f562-f00a-44ce-c9d9-05bdd297e44d"
   },
   "outputs": [
    {
     "data": {
      "text/plain": [
       "[0.009451107024861507, 0.9229590269358419]"
      ]
     },
     "execution_count": 8,
     "metadata": {},
     "output_type": "execute_result"
    }
   ],
   "source": [
    "# Supuesto de homogeneidad de varianzas: Prueba de Levene\n",
    "from scipy.stats import levene\n",
    "stat, p = levene(Grupo_A, Grupo_B)\n",
    "[stat, p]"
   ]
  },
  {
   "cell_type": "markdown",
   "metadata": {
    "id": "yKDBcy6KmmaR"
   },
   "source": [
    "Contraste de hipótesis del Test de Levene:\n",
    "\n",
    "\n",
    "*   H0: las varianzas poblacionales son iguales (p > 0.05)\n",
    "*   H1: las varianzas poblacionales son diferentes (p < 0.05)\n",
    "\n",
    "Dado que Test de Levene resulta en una p = 0.92 (p>0.05), no se rechaza Ho y podemos asumir que las varianzas poblacionales son iguales."
   ]
  },
  {
   "cell_type": "markdown",
   "metadata": {
    "id": "NO-WpVolm_lp"
   },
   "source": [
    "Una vez comprobado que los datos de ambas muestras (independientes) proceden de poblaciones normalmente  distribuidas con homogeneidad en sus varianzas, podemos realizar la comparación mediante un **t-test de dos muestras independientes y homogeneidad de varianzas**.\n"
   ]
  },
  {
   "cell_type": "code",
   "execution_count": null,
   "metadata": {
    "colab": {
     "base_uri": "https://localhost:8080/"
    },
    "executionInfo": {
     "elapsed": 272,
     "status": "ok",
     "timestamp": 1636742722981,
     "user": {
      "displayName": "Maite Aznárez Sanado",
      "photoUrl": "https://lh3.googleusercontent.com/a/default-user=s64",
      "userId": "14388217419523719376"
     },
     "user_tz": -60
    },
    "id": "LFyZaM2Nfnde",
    "outputId": "63d340ba-8775-4735-b2de-b047f9b59ae8"
   },
   "outputs": [
    {
     "data": {
      "text/plain": [
       "[1.3703219710927281, 48, 0.17696156931251947]"
      ]
     },
     "execution_count": 9,
     "metadata": {},
     "output_type": "execute_result"
    }
   ],
   "source": [
    "from scipy.stats import ttest_ind\n",
    "# T-test de medidas independientes\n",
    "stat, p = ttest_ind(Grupo_A, Grupo_B)\n",
    "# degrees of freedom\n",
    "df = Grupo_A.size + Grupo_B.size - 2\n",
    "[stat, df, p]"
   ]
  },
  {
   "cell_type": "markdown",
   "metadata": {
    "id": "IVKIEZzInWzd"
   },
   "source": [
    "Considerando que el T-Test de dos muestras independientes resulta en una p = 0.17 (p>0.05), decimos que no hay evidencia para rechazar la hipótesis nula y concluimos que no podemos asegurar que el saldo medio en ambas sucursales es significativamente diferente.\n"
   ]
  },
  {
   "cell_type": "code",
   "execution_count": null,
   "metadata": {
    "colab": {
     "base_uri": "https://localhost:8080/"
    },
    "executionInfo": {
     "elapsed": 4,
     "status": "ok",
     "timestamp": 1636742725356,
     "user": {
      "displayName": "Maite Aznárez Sanado",
      "photoUrl": "https://lh3.googleusercontent.com/a/default-user=s64",
      "userId": "14388217419523719376"
     },
     "user_tz": -60
    },
    "id": "HiIAOY9QYwyu",
    "outputId": "b1ea3454-1cde-4cac-b2fa-a4996af84afb"
   },
   "outputs": [
    {
     "name": "stdout",
     "output_type": "stream",
     "text": [
      "Intervalo de Confianza = (-33.7391463204618, 178.1482372295528)\n"
     ]
    }
   ],
   "source": [
    "# Intervalo de Confianza de la decisión\n",
    "from statsmodels.stats.api import CompareMeans, DescrStatsW\n",
    "cm = CompareMeans(DescrStatsW(Grupo_A), DescrStatsW(Grupo_B))\n",
    "print('Intervalo de Confianza =', cm.tconfint_diff(alpha= 0.05,usevar= 'pooled'))"
   ]
  },
  {
   "cell_type": "markdown",
   "metadata": {
    "id": "D66gc--kZjvo"
   },
   "source": [
    "Se puede calcular el intervalo de confianza de la decisión, que indica que con un 95% de confianza, la diferencia en el valor medio del saldo de las cuentras entre ambas sucursales se encontrará entre -33.74 y 178.15. Como incluye al 0 entre sus límites, aceptaremos Ho."
   ]
  },
  {
   "cell_type": "code",
   "execution_count": 10,
   "metadata": {
    "colab": {
     "base_uri": "https://localhost:8080/"
    },
    "executionInfo": {
     "elapsed": 237,
     "status": "ok",
     "timestamp": 1636671245536,
     "user": {
      "displayName": "Maite Aznárez Sanado",
      "photoUrl": "https://lh3.googleusercontent.com/a/default-user=s64",
      "userId": "14388217419523719376"
     },
     "user_tz": -60
    },
    "id": "xUmEET2-M02L",
    "outputId": "01611ecc-e9ef-49fb-8848-9796b0bd25a4"
   },
   "outputs": [
    {
     "name": "stdout",
     "output_type": "stream",
     "text": [
      "Cohens d: 0.390\n"
     ]
    }
   ],
   "source": [
    "#Calcular d Cohen\n",
    "from numpy.random import randn\n",
    "from numpy.random import seed\n",
    "from numpy import mean\n",
    "from numpy import var\n",
    "from math import sqrt\n",
    " \n",
    "# function to calculate Cohen's d for independent samples\n",
    "def cohend(d1, d2):\n",
    "\t# calculate the size of samples\n",
    "\tn1, n2 = len(d1), len(d2)\n",
    "\t# calculate the variance of the samples\n",
    "\ts1, s2 = var(d1, ddof=1), var(d2, ddof=1)\n",
    "\t# calculate the pooled standard deviation\n",
    "\ts = sqrt(((n1 - 1) * s1 + (n2 - 1) * s2) / (n1 + n2 - 2))\n",
    "\t# calculate the means of the samples\n",
    "\tu1, u2 = mean(d1), mean(d2)\n",
    "\t# calculate the effect size\n",
    "\treturn (u1 - u2) / s\n",
    " \n",
    "# calculate cohen's d\n",
    "d = cohend(Grupo_A, Grupo_B)\n",
    "print('Cohens d: %.3f' % d)"
   ]
  },
  {
   "cell_type": "markdown",
   "metadata": {
    "id": "wLf5aGBqj6EE"
   },
   "source": [
    "La d de Cohen tiene un valor de 0.39, lo cual indica que la magnitud del efecto es pequeña-media."
   ]
  },
  {
   "cell_type": "markdown",
   "metadata": {
    "id": "qkQlJFyNeTCf"
   },
   "source": [
    "**T-Test de 2 muestras independientes y varianzas desiguales**"
   ]
  },
  {
   "cell_type": "markdown",
   "metadata": {
    "id": "3a1OtlMyhR_X"
   },
   "source": [
    "*Greystone Department Stores, Inc. Tiene dos tiendas en Buffalo, Nueva York: una en el centro de la ciudad y otra en un centro comercial suburbano. El gerente regional ha observado que los productos que se venden bien en una tienda no siempre se venden bien en la otra. Cree que esto se debe a diferencias demográficas entre los clientes de las dos localidades. Por ello, el gerente pide que se investigue acerca de la diferencia entre las medias de las edades de los clientes entre los dos establecimientos. La población 1 (Grupo_A) es de clientes que compran en la tienda del centro de la ciudad y la población 2 (Grupo_B) es de clientes que compran en la sucursal del centro comercial suburbano. Estime, con un nivel de Confianza del 95%, si existe diferencia significativa entre las edades de los clientes que acuden a cada tienda.*"
   ]
  },
  {
   "cell_type": "code",
   "execution_count": 11,
   "metadata": {
    "colab": {
     "base_uri": "https://localhost:8080/",
     "height": 109,
     "resources": {
      "http://localhost:8080/nbextensions/google.colab/files.js": {
       "data": "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",
       "headers": [
        [
         "content-type",
         "application/javascript"
        ]
       ],
       "ok": true,
       "status": 200,
       "status_text": ""
      }
     }
    },
    "executionInfo": {
     "elapsed": 12163,
     "status": "ok",
     "timestamp": 1636742990355,
     "user": {
      "displayName": "Maite Aznárez Sanado",
      "photoUrl": "https://lh3.googleusercontent.com/a/default-user=s64",
      "userId": "14388217419523719376"
     },
     "user_tz": -60
    },
    "id": "axy_o1S5i-nw",
    "outputId": "7ecf3804-4b7d-42a0-b4d1-f388956dbe6d"
   },
   "outputs": [
    {
     "ename": "ModuleNotFoundError",
     "evalue": "No module named 'google.colab'",
     "output_type": "error",
     "traceback": [
      "\u001b[0;31m---------------------------------------------------------------------------\u001b[0m",
      "\u001b[0;31mModuleNotFoundError\u001b[0m                       Traceback (most recent call last)",
      "Cell \u001b[0;32mIn [11], line 2\u001b[0m\n\u001b[1;32m      1\u001b[0m \u001b[38;5;66;03m## Cargamos los datos\u001b[39;00m\n\u001b[0;32m----> 2\u001b[0m \u001b[38;5;28;01mfrom\u001b[39;00m \u001b[38;5;21;01mgoogle\u001b[39;00m\u001b[38;5;21;01m.\u001b[39;00m\u001b[38;5;21;01mcolab\u001b[39;00m \u001b[38;5;28;01mimport\u001b[39;00m files\n\u001b[1;32m      3\u001b[0m files\u001b[38;5;241m.\u001b[39mupload()\n",
      "\u001b[0;31mModuleNotFoundError\u001b[0m: No module named 'google.colab'"
     ]
    }
   ],
   "source": [
    "## Cargamos los datos\n",
    "from google.colab import files\n",
    "files.upload()"
   ]
  },
  {
   "cell_type": "code",
   "execution_count": 12,
   "metadata": {
    "colab": {
     "base_uri": "https://localhost:8080/"
    },
    "executionInfo": {
     "elapsed": 234,
     "status": "ok",
     "timestamp": 1636742992858,
     "user": {
      "displayName": "Maite Aznárez Sanado",
      "photoUrl": "https://lh3.googleusercontent.com/a/default-user=s64",
      "userId": "14388217419523719376"
     },
     "user_tz": -60
    },
    "id": "KH0v6RuMjAsm",
    "outputId": "764b81a6-6b1c-4dd1-cda0-c6250d924abc"
   },
   "outputs": [
    {
     "name": "stdout",
     "output_type": "stream",
     "text": [
      "      group  data\n",
      "0   Grupo_A    24\n",
      "1   Grupo_A    25\n",
      "2   Grupo_A    29\n",
      "3   Grupo_A    18\n",
      "4   Grupo_A    35\n",
      "5   Grupo_A    39\n",
      "6   Grupo_A    35\n",
      "7   Grupo_A    32\n",
      "8   Grupo_A    45\n",
      "9   Grupo_A    27\n",
      "10  Grupo_A    39\n",
      "11  Grupo_A    34\n",
      "12  Grupo_A    27\n",
      "13  Grupo_A    22\n",
      "14  Grupo_A    17\n",
      "15  Grupo_A    27\n",
      "16  Grupo_A    25\n",
      "17  Grupo_A    23\n",
      "18  Grupo_A    29\n",
      "19  Grupo_A    34\n",
      "20  Grupo_A    31\n",
      "21  Grupo_A    30\n",
      "22  Grupo_A    38\n",
      "23  Grupo_A    37\n",
      "24  Grupo_A    36\n",
      "25  Grupo_B    45\n",
      "26  Grupo_B    46\n",
      "27  Grupo_B    43\n",
      "28  Grupo_B    39\n",
      "29  Grupo_B    49\n",
      "30  Grupo_B    47\n",
      "31  Grupo_B    42\n",
      "32  Grupo_B    38\n",
      "33  Grupo_B    37\n",
      "34  Grupo_B    25\n",
      "35  Grupo_B    46\n",
      "36  Grupo_B    41\n",
      "37  Grupo_B    18\n",
      "38  Grupo_B    23\n",
      "39  Grupo_B    68\n",
      "40  Grupo_B    63\n",
      "41  Grupo_B    56\n",
      "42  Grupo_B    54\n",
      "43  Grupo_B    53\n",
      "44  Grupo_B    64\n",
      "45  Grupo_B    36\n",
      "46  Grupo_B    18\n"
     ]
    }
   ],
   "source": [
    "## Lectura de datos\n",
    "from pandas import read_csv\n",
    "df=read_csv('edadestiendas.csv', sep=';')\n",
    "print(df)"
   ]
  },
  {
   "cell_type": "markdown",
   "metadata": {
    "id": "6IzF1WwxzSWt"
   },
   "source": [
    "Hipótesis:\n",
    "\n",
    "H0 : Media de la edad de los consumidores Grupo_A = Media de la edad de los consumidores Grupo_B\n",
    "\n",
    "H1 : Media de la edad de los consumidores Grupo_A ≠ Media de la edad de los consumidores Grupo_B"
   ]
  },
  {
   "cell_type": "code",
   "execution_count": 13,
   "metadata": {
    "id": "JcuzOeHcESNm"
   },
   "outputs": [],
   "source": [
    "#Asignación de nombres a los grupos\n",
    "Grupo_A = df['data'][df['group'] == 'Grupo_A']\n",
    "Grupo_B = df['data'][df['group'] == 'Grupo_B']"
   ]
  },
  {
   "cell_type": "code",
   "execution_count": 14,
   "metadata": {
    "colab": {
     "base_uri": "https://localhost:8080/",
     "height": 356
    },
    "executionInfo": {
     "elapsed": 297,
     "status": "ok",
     "timestamp": 1636742997613,
     "user": {
      "displayName": "Maite Aznárez Sanado",
      "photoUrl": "https://lh3.googleusercontent.com/a/default-user=s64",
      "userId": "14388217419523719376"
     },
     "user_tz": -60
    },
    "id": "a5IOlEJRjI8W",
    "outputId": "62f63ba5-6e57-4774-b8f8-9d4d8227e626"
   },
   "outputs": [
    {
     "data": {
      "image/png": "[encoded data removed]",
      "text/plain": [
       "<Figure size 640x480 with 1 Axes>"
      ]
     },
     "metadata": {},
     "output_type": "display_data"
    }
   ],
   "source": [
    "# Diagrama de cajas\n",
    "boxplot = df.boxplot(column=['data'],by='group')"
   ]
  },
  {
   "cell_type": "code",
   "execution_count": 15,
   "metadata": {
    "colab": {
     "base_uri": "https://localhost:8080/"
    },
    "executionInfo": {
     "elapsed": 5,
     "status": "ok",
     "timestamp": 1636743000275,
     "user": {
      "displayName": "Maite Aznárez Sanado",
      "photoUrl": "https://lh3.googleusercontent.com/a/default-user=s64",
      "userId": "14388217419523719376"
     },
     "user_tz": -60
    },
    "id": "i0Or6ffyPwxQ",
    "outputId": "6982dead-e0da-45fa-da1b-7e9b5311ba15"
   },
   "outputs": [
    {
     "name": "stdout",
     "output_type": "stream",
     "text": [
      "La media del grupo A es= 30.32\n",
      "La mediana del grupo A es= 30.0\n",
      "La desviación típica del grupo A es= 6.956531702891415\n",
      "La media del grupo B es= 43.22727272727273\n",
      "La mediana del grupo B es= 44.0\n",
      "La desviación típica del grupo B es= 13.859608385114804\n"
     ]
    }
   ],
   "source": [
    "#Importar módulos a utilizar\n",
    "from statistics import mean\n",
    "from numpy import percentile\n",
    "\n",
    "# Estadísticos descriptivos: Media, Mediana y desviación típica\n",
    "media=mean(Grupo_A)\n",
    "print('La media del grupo A es=',media) \n",
    "mediana=percentile(Grupo_A,50)\n",
    "print('La mediana del grupo A es=',mediana)\n",
    "print('La desviación típica del grupo A es=',Grupo_A.std())\n",
    "\n",
    "media=mean(Grupo_B)\n",
    "print('La media del grupo B es=',media) \n",
    "mediana=percentile(Grupo_B,50)\n",
    "print('La mediana del grupo B es=',mediana)\n",
    "print('La desviación típica del grupo B es=',Grupo_B.std())"
   ]
  },
  {
   "cell_type": "code",
   "execution_count": null,
   "metadata": {
    "colab": {
     "base_uri": "https://localhost:8080/",
     "height": 573
    },
    "executionInfo": {
     "elapsed": 588,
     "status": "ok",
     "timestamp": 1636743003744,
     "user": {
      "displayName": "Maite Aznárez Sanado",
      "photoUrl": "https://lh3.googleusercontent.com/a/default-user=s64",
      "userId": "14388217419523719376"
     },
     "user_tz": -60
    },
    "id": "iDDBJXITVQKb",
    "outputId": "81d65359-f4e8-41f8-fbe6-8b0bfd425d19"
   },
   "outputs": [
    {
     "data": {
      "image/png": "[encoded data removed]",
      "text/plain": [
       "<Figure size 432x288 with 1 Axes>"
      ]
     },
     "metadata": {
      "needs_background": "light"
     },
     "output_type": "display_data"
    },
    {
     "data": {
      "image/png": "[encoded data removed]",
      "text/plain": [
       "<Figure size 432x288 with 1 Axes>"
      ]
     },
     "metadata": {
      "needs_background": "light"
     },
     "output_type": "display_data"
    }
   ],
   "source": [
    "#Importar módulos a utilizar\n",
    "from matplotlib import pyplot\n",
    "from scipy.stats import probplot\n",
    "from matplotlib.pyplot import show\n",
    "\n",
    "#Gráfico de normalidad\n",
    "probplot(Grupo_A, dist=\"norm\", plot=pyplot)\n",
    "show()\n",
    "probplot(Grupo_B, dist=\"norm\", plot=pyplot)\n",
    "show()\n"
   ]
  },
  {
   "cell_type": "code",
   "execution_count": null,
   "metadata": {
    "colab": {
     "base_uri": "https://localhost:8080/"
    },
    "executionInfo": {
     "elapsed": 263,
     "status": "ok",
     "timestamp": 1636743007248,
     "user": {
      "displayName": "Maite Aznárez Sanado",
      "photoUrl": "https://lh3.googleusercontent.com/a/default-user=s64",
      "userId": "14388217419523719376"
     },
     "user_tz": -60
    },
    "id": "l8ULl66RjaUq",
    "outputId": "fcb60d13-376f-4e93-b15c-46b89141324a"
   },
   "outputs": [
    {
     "name": "stdout",
     "output_type": "stream",
     "text": [
      "pGrupoA= 0.9538623094558716\n",
      "pGrupoB= 0.5265972018241882\n"
     ]
    }
   ],
   "source": [
    "# Supuesto de Normalidad: Prueba de Shapiro-Wilk\n",
    "from scipy.stats import shapiro\n",
    "shapiro_A, p_A  = shapiro(Grupo_A)\n",
    "shapiro_B, p_B  = shapiro(Grupo_B)\n",
    "print('pGrupoA=',p_A)\n",
    "print('pGrupoB=',p_B)"
   ]
  },
  {
   "cell_type": "markdown",
   "metadata": {
    "id": "-GKr3FZQ0OwE"
   },
   "source": [
    "Contraste de hipótesis del Test de Shapiro-Wilk\n",
    "*   H0: los datos provienen de una población distribuida normalmente (p > 0.05)\n",
    "*   H1: los datos NO provienen de una población distribuida normalmente (p < 0.05)\n",
    "\n",
    "Dado que el Test de Shapiro-Wilk resulta en una pA = 0.95 y pB = 0.53 (p>0.05), no rechazamos Ho y podemos asumir que **ambas muestras provienen de una población distribuida normalmente**, por lo que se empleará una prueba paramétrica para realizar la comparación de los datos."
   ]
  },
  {
   "cell_type": "code",
   "execution_count": null,
   "metadata": {
    "colab": {
     "base_uri": "https://localhost:8080/"
    },
    "executionInfo": {
     "elapsed": 281,
     "status": "ok",
     "timestamp": 1636743009909,
     "user": {
      "displayName": "Maite Aznárez Sanado",
      "photoUrl": "https://lh3.googleusercontent.com/a/default-user=s64",
      "userId": "14388217419523719376"
     },
     "user_tz": -60
    },
    "id": "Z9MwP2JyEk18",
    "outputId": "f262b132-9798-4166-e255-c039a4ec31b0"
   },
   "outputs": [
    {
     "name": "stdout",
     "output_type": "stream",
     "text": [
      "Grupo A: -0.019428339735866475 -0.5650003840162614\n",
      "Grupo B: -0.19833671352115786 -0.4859928026296383\n"
     ]
    }
   ],
   "source": [
    "from scipy import stats\n",
    "skew = stats.skew (Grupo_A) #buscando asimetría\n",
    "curtosis = stats.kurtosis (Grupo_A) #buscando curtosis \n",
    "print('Grupo A:',skew, curtosis)\n",
    "\n",
    "skew = stats.skew (Grupo_B) #buscando asimetría\n",
    "curtosis = stats.kurtosis (Grupo_B) #buscando curtosis \n",
    "print('Grupo B:',skew, curtosis)"
   ]
  },
  {
   "cell_type": "code",
   "execution_count": null,
   "metadata": {
    "colab": {
     "base_uri": "https://localhost:8080/"
    },
    "executionInfo": {
     "elapsed": 5,
     "status": "ok",
     "timestamp": 1636743012405,
     "user": {
      "displayName": "Maite Aznárez Sanado",
      "photoUrl": "https://lh3.googleusercontent.com/a/default-user=s64",
      "userId": "14388217419523719376"
     },
     "user_tz": -60
    },
    "id": "5cBciJG5kHOx",
    "outputId": "4da5ed7d-f762-4fcb-b271-c80e25d71704"
   },
   "outputs": [
    {
     "data": {
      "text/plain": [
       "[6.182139417427211, 0.01668266967862434]"
      ]
     },
     "execution_count": 24,
     "metadata": {},
     "output_type": "execute_result"
    }
   ],
   "source": [
    "# Supuesto de homogeneidad de varianzas: Prueba de Levene\n",
    "from scipy.stats import levene\n",
    "stat, p = levene(Grupo_A, Grupo_B)\n",
    "[stat, p]"
   ]
  },
  {
   "cell_type": "markdown",
   "metadata": {
    "id": "6GELOyrO0ZYy"
   },
   "source": [
    "Dado que Test de Levene resulta en una p = 0.017 (p < 0.05), rechazamos Ho y **NO podemos asumir que las varianzas poblacionales son iguales**."
   ]
  },
  {
   "cell_type": "markdown",
   "metadata": {
    "id": "_f_mnrn_0rrQ"
   },
   "source": [
    "Una vez comprobado que los datos de ambas muestras (independientes) proceden de poblaciones normalmente distribuidas con varianzas no homogeneas, podemos un **t-test de dos muestras independientes y varianzas no homogéneas**."
   ]
  },
  {
   "cell_type": "code",
   "execution_count": null,
   "metadata": {
    "colab": {
     "base_uri": "https://localhost:8080/"
    },
    "executionInfo": {
     "elapsed": 300,
     "status": "ok",
     "timestamp": 1636743014411,
     "user": {
      "displayName": "Maite Aznárez Sanado",
      "photoUrl": "https://lh3.googleusercontent.com/a/default-user=s64",
      "userId": "14388217419523719376"
     },
     "user_tz": -60
    },
    "id": "mi401qEmmG6h",
    "outputId": "95ff6de8-d403-4eb2-bd21-98464c3db3fd"
   },
   "outputs": [
    {
     "data": {
      "text/plain": [
       "[-3.9519598778987843, 30.05116929668105, 0.00043469004238256333]"
      ]
     },
     "execution_count": 25,
     "metadata": {},
     "output_type": "execute_result"
    }
   ],
   "source": [
    "# T-test de medidas independientes cuando las varianzas no son homogenéas\n",
    "from scipy.stats import ttest_ind\n",
    "stat, p = ttest_ind(Grupo_A, Grupo_B, equal_var = False)\n",
    "df = (Grupo_A.var()/Grupo_A.size + Grupo_B.var()/Grupo_B.size)**2 / ((Grupo_A.var()/Grupo_A.size)**2 / (Grupo_A.size-1) + (Grupo_B.var()/Grupo_B.size)**2 / (Grupo_B.size-1))\n",
    "[stat, df, p]"
   ]
  },
  {
   "cell_type": "markdown",
   "metadata": {
    "id": "LVsfIeg5060o"
   },
   "source": [
    "Finalmente, considerando que el T-Test de dos muestras independientes resulta en una p < 0.001 (p<0.05), rechazamos la hipótesis nula y concluimos que **la edad media de los consumidores en el grupo A es significativamente distinta de la edad media de los consumidores en el grupo B**. \n",
    "En concreto, el grupo B de consumidores muestra una edad media significativamente superior al grupo A."
   ]
  },
  {
   "cell_type": "code",
   "execution_count": null,
   "metadata": {
    "colab": {
     "base_uri": "https://localhost:8080/"
    },
    "executionInfo": {
     "elapsed": 245,
     "status": "ok",
     "timestamp": 1636743017417,
     "user": {
      "displayName": "Maite Aznárez Sanado",
      "photoUrl": "https://lh3.googleusercontent.com/a/default-user=s64",
      "userId": "14388217419523719376"
     },
     "user_tz": -60
    },
    "id": "hQTrGQ2-ZGiZ",
    "outputId": "60068118-bfbc-46a6-d8ae-a61cb7e5589b"
   },
   "outputs": [
    {
     "name": "stdout",
     "output_type": "stream",
     "text": [
      "Intervalo de Confianza = (-19.576947104020547, -6.237598350524904)\n"
     ]
    }
   ],
   "source": [
    "# Intervalo de Confianza de la decisión\n",
    "from statsmodels.stats.api import CompareMeans, DescrStatsW\n",
    "cm = CompareMeans(DescrStatsW(Grupo_A), DescrStatsW(Grupo_B))\n",
    "print('Intervalo de Confianza =',cm.tconfint_diff(alpha= 0.05, usevar='unequal'))"
   ]
  },
  {
   "cell_type": "markdown",
   "metadata": {
    "id": "wdaLnTMXCT8g"
   },
   "source": [
    "**T-Test de 2 muestras dependientes**"
   ]
  },
  {
   "cell_type": "markdown",
   "metadata": {
    "id": "kh4d-d3jCWkk"
   },
   "source": [
    "Una empresa de automóviles desea evaluar el rendimiento de sus trabajadores antes y durante la pandemia de la covid. Para ello, se toma una muestra aleatoria de 12 trabajadores de un turno de la empresa y se registra el número de vehículos reparados en Febrero de 2020 (antes de la pandemia) y los vehículos reparados en Agosto de 2020 (durante la pandemia). Se desea comprobar con un Nivel de Confianza del 95% si existen diferencias significativas en el rendimiento de los trabajadores antes y durante la pandemia de la covid."
   ]
  },
  {
   "cell_type": "code",
   "execution_count": null,
   "metadata": {
    "colab": {
     "base_uri": "https://localhost:8080/",
     "height": 109,
     "resources": {
      "http://localhost:8080/nbextensions/google.colab/files.js": {
       "data": "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",
       "headers": [
        [
         "content-type",
         "application/javascript"
        ]
       ],
       "ok": true,
       "status": 200,
       "status_text": ""
      }
     }
    },
    "executionInfo": {
     "elapsed": 13839,
     "status": "ok",
     "timestamp": 1636635462128,
     "user": {
      "displayName": "Maite Aznárez Sanado",
      "photoUrl": "https://lh3.googleusercontent.com/a/default-user=s64",
      "userId": "14388217419523719376"
     },
     "user_tz": -60
    },
    "id": "FqCCHD2uCc53",
    "outputId": "d9c80fd1-ce53-4951-895e-bea681524fda"
   },
   "outputs": [
    {
     "data": {
      "text/html": [
       "\n",
       "     <input type=\"file\" id=\"files-44281bda-d793-4aed-b826-6d60246442cd\" name=\"files[]\" multiple disabled\n",
       "        style=\"border:none\" />\n",
       "     <output id=\"result-44281bda-d793-4aed-b826-6d60246442cd\">\n",
       "      Upload widget is only available when the cell has been executed in the\n",
       "      current browser session. Please rerun this cell to enable.\n",
       "      </output>\n",
       "      <script src=\"/nbextensions/google.colab/files.js\"></script> "
      ],
      "text/plain": [
       "<IPython.core.display.HTML object>"
      ]
     },
     "metadata": {},
     "output_type": "display_data"
    },
    {
     "name": "stdout",
     "output_type": "stream",
     "text": [
      "Saving s2_automoviles.csv to s2_automoviles.csv\n"
     ]
    },
    {
     "data": {
      "text/plain": [
       "{'s2_automoviles.csv': b'group;data\\r\\nantes;186\\r\\nantes;147\\r\\nantes;128\\r\\nantes;176\\r\\nantes;212\\r\\nantes;158\\r\\nantes;204\\r\\nantes;157\\r\\nantes;189\\r\\nantes;149\\r\\nantes;191\\r\\nantes;200\\r\\ndurante;175\\r\\ndurante;148\\r\\ndurante;125\\r\\ndurante;178\\r\\ndurante;203\\r\\ndurante;158\\r\\ndurante;197\\r\\ndurante;160\\r\\ndurante;181\\r\\ndurante;151\\r\\ndurante;187\\r\\ndurante;195\\r\\ndif;11\\r\\ndif;-1\\r\\ndif;3\\r\\ndif;-2\\r\\ndif;9\\r\\ndif;0\\r\\ndif;7\\r\\ndif;-3\\r\\ndif;8\\r\\ndif;-2\\r\\ndif;4\\r\\ndif;5\\r\\n'}"
      ]
     },
     "execution_count": 26,
     "metadata": {},
     "output_type": "execute_result"
    }
   ],
   "source": [
    "## Cargamos los datos\n",
    "from google.colab import files\n",
    "files.upload()"
   ]
  },
  {
   "cell_type": "code",
   "execution_count": null,
   "metadata": {
    "colab": {
     "base_uri": "https://localhost:8080/"
    },
    "executionInfo": {
     "elapsed": 528,
     "status": "ok",
     "timestamp": 1636635478045,
     "user": {
      "displayName": "Maite Aznárez Sanado",
      "photoUrl": "https://lh3.googleusercontent.com/a/default-user=s64",
      "userId": "14388217419523719376"
     },
     "user_tz": -60
    },
    "id": "TUOhfZd3Cdsy",
    "outputId": "255642ec-94d8-4b54-c901-37f3237aa6f5"
   },
   "outputs": [
    {
     "name": "stdout",
     "output_type": "stream",
     "text": [
      "      group  data\n",
      "0     antes   186\n",
      "1     antes   147\n",
      "2     antes   128\n",
      "3     antes   176\n",
      "4     antes   212\n",
      "5     antes   158\n",
      "6     antes   204\n",
      "7     antes   157\n",
      "8     antes   189\n",
      "9     antes   149\n",
      "10    antes   191\n",
      "11    antes   200\n",
      "12  durante   175\n",
      "13  durante   148\n",
      "14  durante   125\n",
      "15  durante   178\n",
      "16  durante   203\n",
      "17  durante   158\n",
      "18  durante   197\n",
      "19  durante   160\n",
      "20  durante   181\n",
      "21  durante   151\n",
      "22  durante   187\n",
      "23  durante   195\n",
      "24      dif    11\n",
      "25      dif    -1\n",
      "26      dif     3\n",
      "27      dif    -2\n",
      "28      dif     9\n",
      "29      dif     0\n",
      "30      dif     7\n",
      "31      dif    -3\n",
      "32      dif     8\n",
      "33      dif    -2\n",
      "34      dif     4\n",
      "35      dif     5\n"
     ]
    }
   ],
   "source": [
    "## Lectura de datos\n",
    "from pandas import read_csv\n",
    "df=read_csv('s2_automoviles.csv', sep=';')\n",
    "print(df)"
   ]
  },
  {
   "cell_type": "markdown",
   "metadata": {
    "id": "Xyvbf4UJCkQ1"
   },
   "source": [
    "Para el tratamiento de medidas dependientes, es necesario calcular la diferencia de las muestras emparejadas.\n",
    "\n",
    "Hipótesis:\n",
    "\n",
    "H0 : Media del rendimiento de los trabajadores antes de la pandemia = Media del rendimiento de los trabajadores durante de la pandemia (p >= 0.05)\n",
    "\n",
    "H1 : Media del rendimiento de los trabajadores antes de la pandemia ≠ Media del rendimiento de los trabajadores durante de la pandemia (p < 0.05)\n",
    "\n"
   ]
  },
  {
   "cell_type": "code",
   "execution_count": null,
   "metadata": {
    "colab": {
     "base_uri": "https://localhost:8080/",
     "height": 301
    },
    "executionInfo": {
     "elapsed": 561,
     "status": "ok",
     "timestamp": 1636635486582,
     "user": {
      "displayName": "Maite Aznárez Sanado",
      "photoUrl": "https://lh3.googleusercontent.com/a/default-user=s64",
      "userId": "14388217419523719376"
     },
     "user_tz": -60
    },
    "id": "Frusc3PWCnS4",
    "outputId": "3f798e4a-5afc-4dc6-cf65-e2edaab1c609"
   },
   "outputs": [
    {
     "data": {
      "image/png": "[encoded data removed]",
      "text/plain": [
       "<Figure size 432x288 with 1 Axes>"
      ]
     },
     "metadata": {
      "needs_background": "light"
     },
     "output_type": "display_data"
    }
   ],
   "source": [
    "# Diagrama de cajas\n",
    "Antes = df['data'][df['group'] == 'antes']\n",
    "Durante = df['data'][df['group'] == 'durante']\n",
    "boxplot = df.boxplot(column=['data'],by='group')"
   ]
  },
  {
   "cell_type": "code",
   "execution_count": null,
   "metadata": {
    "colab": {
     "base_uri": "https://localhost:8080/"
    },
    "executionInfo": {
     "elapsed": 352,
     "status": "ok",
     "timestamp": 1636635495672,
     "user": {
      "displayName": "Maite Aznárez Sanado",
      "photoUrl": "https://lh3.googleusercontent.com/a/default-user=s64",
      "userId": "14388217419523719376"
     },
     "user_tz": -60
    },
    "id": "hwG1-JUFCwvs",
    "outputId": "276a612d-d8da-408c-cee0-a9baeb72cc09"
   },
   "outputs": [
    {
     "name": "stdout",
     "output_type": "stream",
     "text": [
      "[174.75, 26.440757106475534]\n",
      "[171.5, 23.41134146286601]\n"
     ]
    }
   ],
   "source": [
    "# Estadísticos\n",
    "print([Antes.mean(), Antes.std()])\n",
    "print([Durante.mean(), Durante.std()]) "
   ]
  },
  {
   "cell_type": "code",
   "execution_count": null,
   "metadata": {
    "id": "Zv-4RglNC8Qm"
   },
   "outputs": [],
   "source": [
    "# Definimos la muestra de la diferencia \n",
    "import numpy as np\n",
    "dif=list(np.array(Antes) - np.array(Durante))\n"
   ]
  },
  {
   "cell_type": "code",
   "execution_count": null,
   "metadata": {
    "colab": {
     "base_uri": "https://localhost:8080/",
     "height": 295
    },
    "executionInfo": {
     "elapsed": 526,
     "status": "ok",
     "timestamp": 1636639859809,
     "user": {
      "displayName": "Maite Aznárez Sanado",
      "photoUrl": "https://lh3.googleusercontent.com/a/default-user=s64",
      "userId": "14388217419523719376"
     },
     "user_tz": -60
    },
    "id": "uaxymd9-ViZZ",
    "outputId": "fc549d99-dd72-4b32-c014-291ab7cb6333"
   },
   "outputs": [
    {
     "data": {
      "image/png": "[encoded data removed]",
      "text/plain": [
       "<Figure size 432x288 with 1 Axes>"
      ]
     },
     "metadata": {
      "needs_background": "light"
     },
     "output_type": "display_data"
    }
   ],
   "source": [
    "#Importar módulos a utilizar\n",
    "from matplotlib import pyplot\n",
    "from scipy.stats import probplot\n",
    "from matplotlib.pyplot import show\n",
    "\n",
    "#Gráfico de normalidad\n",
    "probplot(dif, dist=\"norm\", plot=pyplot)\n",
    "show()\n"
   ]
  },
  {
   "cell_type": "code",
   "execution_count": null,
   "metadata": {
    "colab": {
     "base_uri": "https://localhost:8080/"
    },
    "executionInfo": {
     "elapsed": 6,
     "status": "ok",
     "timestamp": 1636635501717,
     "user": {
      "displayName": "Maite Aznárez Sanado",
      "photoUrl": "https://lh3.googleusercontent.com/a/default-user=s64",
      "userId": "14388217419523719376"
     },
     "user_tz": -60
    },
    "id": "7CZ0T9JoC00j",
    "outputId": "a784e5ff-6e7a-4738-d31b-a88ea640f2f5"
   },
   "outputs": [
    {
     "name": "stdout",
     "output_type": "stream",
     "text": [
      "pdif= 0.3722296357154846\n"
     ]
    }
   ],
   "source": [
    "# Prueba de Shapiro Wilk (Supuesto de Normalidad) sobre diferencia\n",
    "from scipy.stats import shapiro\n",
    "shapiro_dif, p_dif  = shapiro(dif)\n",
    "print('pdif=',p_dif)"
   ]
  },
  {
   "cell_type": "markdown",
   "metadata": {
    "id": "xmZBR1qSDE70"
   },
   "source": [
    "Contraste de hipótesis del Test de Shapiro-Wilk\n",
    "\n",
    "H0: los datos de la diferencia provienen de una población distribuida normalmente (p > 0.05)\n",
    "H1: los datos de la diferencia NO provienen de una población distribuida normalmente (p < 0.05)\n",
    "Dado que el Test de Shapiro-Wilk sobre la diferencia resulta en una p = 0.37 (p >= 0.05), no rechazamos Ho y podemos asumir que la distribución de la diferencia de medias proviene de una población distribuida normalmente, por lo que se empleará una prueba paramétrica para realizar la comparación de los datos emparejados."
   ]
  },
  {
   "cell_type": "code",
   "execution_count": null,
   "metadata": {
    "colab": {
     "base_uri": "https://localhost:8080/"
    },
    "executionInfo": {
     "elapsed": 352,
     "status": "ok",
     "timestamp": 1636635505538,
     "user": {
      "displayName": "Maite Aznárez Sanado",
      "photoUrl": "https://lh3.googleusercontent.com/a/default-user=s64",
      "userId": "14388217419523719376"
     },
     "user_tz": -60
    },
    "id": "VkDfSh6qDHvb",
    "outputId": "e7eeef62-f119-486d-eb89-749f74e97549"
   },
   "outputs": [
    {
     "data": {
      "text/plain": [
       "[2.332589893177988, 11, 0.03968747447535378]"
      ]
     },
     "execution_count": 32,
     "metadata": {},
     "output_type": "execute_result"
    }
   ],
   "source": [
    "from scipy.stats import ttest_rel\n",
    "# T-test de medidas dependientes\n",
    "stat, p = ttest_rel(Antes, Durante)\n",
    "df=Antes.size-1\n",
    "[stat, df, p]"
   ]
  },
  {
   "cell_type": "markdown",
   "metadata": {
    "id": "6PRdQtHvDKUo"
   },
   "source": [
    "Considerando que el t-test de medidas dependientes o repetidas arroja una p = 0.04 (p < 0.05) rechazamos la hipótesis nula y aceptamos la alternativa, por lo que podemos concluir diciendo que existe una diferencia significativa entre la media del rendimiento de los trabajadores antes y durante la pandemia, habiendo disminuido significativamente durante la pandemia."
   ]
  }
 ],
 "metadata": {
  "colab": {
   "provenance": [
    {
     "file_id": "1zyaYXpc3qDwrIB0aoPb9AVU58Gn4cUaI",
     "timestamp": 1635426944772
    }
   ]
  },
  "kernelspec": {
   "display_name": "Python 3 (ipykernel)",
   "language": "python",
   "name": "python3"
  },
  "language_info": {
   "codemirror_mode": {
    "name": "ipython",
    "version": 3
   },
   "file_extension": ".py",
   "mimetype": "text/x-python",
   "name": "python",
   "nbconvert_exporter": "python",
   "pygments_lexer": "ipython3",
   "version": "3.10.8"
  }
 },
 "nbformat": 4,
 "nbformat_minor": 4
}
