{
 "cells": [
  {
   "cell_type": "markdown",
   "metadata": {
    "id": "1tXR1O6dGq41"
   },
   "source": [
    "**PRUEBAS PARAMÉTRICAS**"
   ]
  },
  {
   "cell_type": "markdown",
   "metadata": {
    "id": "_St4qld0Gu-A"
   },
   "source": [
    "**ANOVA de 1 factor para muestras independientes**"
   ]
  },
  {
   "cell_type": "markdown",
   "metadata": {
    "id": "5uivOBA1Gzgo"
   },
   "source": [
    "En un estudio del Bank of America sobre el gasto del consumidor, se recabaron datos, usando muestras independientes, sobre los importes pagados con tarjetas de crédito en tres categorías diferentes: transporte (1), gastos domésticos (2) y ocio (3). Identifique, con un nivel de confianza del 95% en qué categoría se produce el mayor gasto."
   ]
  },
  {
   "cell_type": "markdown",
   "metadata": {
    "colab": {
     "base_uri": "https://localhost:8080/",
     "height": 178
    },
    "id": "4236vIxsN4DC",
    "outputId": "ce13a958-c82e-4799-8419-e224fdf5dbce"
   },
   "source": [
    "from os import remove\n",
    "remove(\"gastosv2.csv\")"
   ]
  },
  {
   "cell_type": "markdown",
   "metadata": {
    "colab": {
     "base_uri": "https://localhost:8080/",
     "height": 110,
     "resources": {
      "http://localhost:8080/nbextensions/google.colab/files.js": {
       "data": "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",
       "headers": [
        [
         "content-type",
         "application/javascript"
        ]
       ],
       "ok": true,
       "status": 200,
       "status_text": ""
      }
     }
    },
    "id": "1X88U_d-rjxl",
    "outputId": "f32b401e-7ebd-40f5-a4aa-4194c4f07085"
   },
   "source": [
    "#Con el módulo de \"files\" de google.colab podemos activar una caja de dialogo para cargar datos en la sesión\n",
    "from google.colab import files\n",
    "files.upload()"
   ]
  },
  {
   "cell_type": "code",
   "execution_count": 1,
   "metadata": {
    "colab": {
     "base_uri": "https://localhost:8080/"
    },
    "id": "b54DAStj00kU",
    "outputId": "89044439-79bd-4e18-bf01-f72070a7a93f"
   },
   "outputs": [
    {
     "name": "stdout",
     "output_type": "stream",
     "text": [
      "    group  data\n",
      "0       1   101\n",
      "1       1   101\n",
      "2       1    68\n",
      "3       1    91\n",
      "4       1    68\n",
      "5       1   122\n",
      "6       1   115\n",
      "7       1   117\n",
      "8       1    84\n",
      "9       1   112\n",
      "10      2    95\n",
      "11      2    83\n",
      "12      2   124\n",
      "13      2   109\n",
      "14      2    86\n",
      "15      2    82\n",
      "16      2   101\n",
      "17      2   116\n",
      "18      2    94\n",
      "19      2    74\n",
      "20      3    68\n",
      "21      3    81\n",
      "22      3    77\n",
      "23      3    74\n",
      "24      3    84\n",
      "25      3    46\n",
      "26      3    63\n",
      "27      3    84\n",
      "28      3    65\n",
      "29      3    50\n"
     ]
    }
   ],
   "source": [
    "#Del módulo pandas importamos la funcion \"read_csv\" para poder importar los archivos cargados a un dataframe que permita su manipulación\n",
    "from pandas import read_csv\n",
    "bie=read_csv('gastosv2.csv', sep=';')\n",
    "print(bie)"
   ]
  },
  {
   "cell_type": "markdown",
   "metadata": {
    "id": "APwCQx5gYBqV"
   },
   "source": [
    "**Primer paso**: analice gráficamente y a nivel de estadística descriptiva el comportamiento de la variable para cada grupo.\n"
   ]
  },
  {
   "cell_type": "code",
   "execution_count": 2,
   "metadata": {
    "colab": {
     "base_uri": "https://localhost:8080/",
     "height": 296
    },
    "id": "SWWf4fED-dfn",
    "outputId": "2fce8b8e-7348-416e-ce92-e3922c26bb39"
   },
   "outputs": [
    {
     "data": {
      "text/plain": [
       "<AxesSubplot: xlabel='group', ylabel='data'>"
      ]
     },
     "execution_count": 2,
     "metadata": {},
     "output_type": "execute_result"
    },
    {
     "data": {
      "image/png": "[encoded data removed]",
      "text/plain": [
       "<Figure size 640x480 with 1 Axes>"
      ]
     },
     "metadata": {},
     "output_type": "display_data"
    }
   ],
   "source": [
    "from seaborn import boxplot\n",
    "boxplot(x=\"group\", y=\"data\", data=bie, palette=\"Set3\")"
   ]
  },
  {
   "cell_type": "code",
   "execution_count": 3,
   "metadata": {
    "colab": {
     "base_uri": "https://localhost:8080/"
    },
    "id": "_ztyQH75wJBD",
    "outputId": "1ee017fa-c8a9-4379-c8a4-a899c10351a3"
   },
   "outputs": [
    {
     "name": "stdout",
     "output_type": "stream",
     "text": [
      "G1: [97.9, 19.67768053178807]\n",
      "G2: [96.4, 16.091405573576637]\n",
      "G3: [69.2, 13.439576712911096]\n"
     ]
    }
   ],
   "source": [
    "#Estadisticos descriptivos\n",
    "G1 = bie['data'][bie['group'] == 1]\n",
    "G2 = bie['data'][bie['group'] == 2]\n",
    "G3 = bie['data'][bie['group'] == 3]\n",
    "\n",
    "print('G1:',[G1.mean(), G1.std()])\n",
    "print('G2:',[G2.mean(), G2.std()]) \n",
    "print('G3:',[G3.mean(), G3.std()])"
   ]
  },
  {
   "cell_type": "markdown",
   "metadata": {
    "id": "QyJRGaSyYPUM"
   },
   "source": [
    "**Segundo paso:** Genere el modelo a evaluar y obtenga los residuales que posteriormente serán utilizados para probar la hipótesis de distribución normal. Puede modificar los nombres del modelo \"model_bie\" la variable dependiente \"data\" y la variable de agrupación o independiente \"group\".\n",
    "\n",
    "Aunque es necesario evaluar los supuestos del modelo, antes de concluir algo del ANOVA, observamos que de manera preliminar se rechaza la hipótesis que las medias de las poblaciones sean iguales.\n",
    "\n",
    "Contraste de hipótesis de la prueba ANOVA\n",
    "*   H0: Todas las poblaciones tienen el mismo promedio en gasto (p > 0.05)\n",
    "*   H1: Al menos una de las medias de las poblaciones en gasto es diferente del resto (p ≤ 0.05)\n",
    "\n",
    "Si se cumplen los supuestos del ANOVA (homogeneidad de varianzas y normalidad en residuales, véase más abajo su comprobación), podemos interpretar el resultado del ANOVA. En este caso, el ANOVA tiene un valor del estadístico de contraste F(2,27)=9.47, con un p-valor asociado de 0.0008. Como el p-valor es menor de 0.05, rechazamos Ho. Por lo tanto, podemos concluir que al menos una de las medias poblacionales en gasto es diferente al resto de grupos. "
   ]
  },
  {
   "cell_type": "code",
   "execution_count": 4,
   "metadata": {
    "colab": {
     "base_uri": "https://localhost:8080/",
     "height": 164
    },
    "id": "fjiZ1tOC-HiE",
    "outputId": "3eca8d09-d37e-4edb-c446-292e6b6cd72d"
   },
   "outputs": [
    {
     "data": {
      "text/html": [
       "<div>\n",
       "<style scoped>\n",
       "    .dataframe tbody tr th:only-of-type {\n",
       "        vertical-align: middle;\n",
       "    }\n",
       "\n",
       "    .dataframe tbody tr th {\n",
       "        vertical-align: top;\n",
       "    }\n",
       "\n",
       "    .dataframe thead th {\n",
       "        text-align: right;\n",
       "    }\n",
       "</style>\n",
       "<table border=\"1\" class=\"dataframe\">\n",
       "  <thead>\n",
       "    <tr style=\"text-align: right;\">\n",
       "      <th></th>\n",
       "      <th>sum_sq</th>\n",
       "      <th>df</th>\n",
       "      <th>F</th>\n",
       "      <th>PR(&gt;F)</th>\n",
       "    </tr>\n",
       "  </thead>\n",
       "  <tbody>\n",
       "    <tr>\n",
       "      <th>C(group)</th>\n",
       "      <td>5219.266667</td>\n",
       "      <td>2.0</td>\n",
       "      <td>9.469298</td>\n",
       "      <td>0.000766</td>\n",
       "    </tr>\n",
       "    <tr>\n",
       "      <th>Residual</th>\n",
       "      <td>7440.900000</td>\n",
       "      <td>27.0</td>\n",
       "      <td>NaN</td>\n",
       "      <td>NaN</td>\n",
       "    </tr>\n",
       "  </tbody>\n",
       "</table>\n",
       "</div>"
      ],
      "text/plain": [
       "               sum_sq    df         F    PR(>F)\n",
       "C(group)  5219.266667   2.0  9.469298  0.000766\n",
       "Residual  7440.900000  27.0       NaN       NaN"
      ]
     },
     "execution_count": 4,
     "metadata": {},
     "output_type": "execute_result"
    }
   ],
   "source": [
    "import statsmodels.api as sm\n",
    "from statsmodels.formula.api import ols\n",
    "model_bie = ols('data ~ C(group)', data=bie).fit()\n",
    "anova_table = sm.stats.anova_lm(model_bie, typ=2)\n",
    "anova_table"
   ]
  },
  {
   "cell_type": "markdown",
   "metadata": {
    "id": "IdnIPjDQbe8X"
   },
   "source": [
    "**Tercer paso:** Evaluar supuestos (homogeneidad de varianzas y normalidad en residuales)\n",
    "\n",
    "**Nota:** Recuerden que hay módulos que no vienen preinstalados, por lo que es necesario instalarlos siempre que los vayamos a utilizar, es el caso de este módulo llamado \"pingouin\", módulo de análisis estadístico que tiene la ventaja, en relación contra otros módulos, de permitir el ingreso de los datos en columnas."
   ]
  },
  {
   "cell_type": "markdown",
   "metadata": {
    "id": "rXd_q8aacHes"
   },
   "source": [
    "**Homocedasticidad (homogeneidad de varianzas):** Para este caso utilizamos la prueba de Levene.\n",
    "\n",
    "\n",
    "**Recuerden:**\n",
    "\n",
    "Contraste de hipótesis de la prueba de Levene\n",
    "*   H0: Las varianzas de los grupos evaluados son homogéneas (pval > 0.05)\n",
    "*   H1: Al menos una de las varianzas de las poblaciones evaluadas es diferente del resto (pval ≤ 0.05)\n",
    "\n",
    "En este caso observamos en la prueba de Levene un p-valor=0.55, mayor de 0.05. Por lo tanto, no existe evidencia para rechazar Ho y asumimos que existe homogeneidad de varianzas.\n",
    "\n"
   ]
  },
  {
   "cell_type": "code",
   "execution_count": 5,
   "metadata": {
    "colab": {
     "base_uri": "https://localhost:8080/",
     "height": 80
    },
    "id": "1ynRnVgg97G9",
    "outputId": "b97af4e3-2bef-4102-9256-acbabeadd647"
   },
   "outputs": [
    {
     "data": {
      "text/html": [
       "<div>\n",
       "<style scoped>\n",
       "    .dataframe tbody tr th:only-of-type {\n",
       "        vertical-align: middle;\n",
       "    }\n",
       "\n",
       "    .dataframe tbody tr th {\n",
       "        vertical-align: top;\n",
       "    }\n",
       "\n",
       "    .dataframe thead th {\n",
       "        text-align: right;\n",
       "    }\n",
       "</style>\n",
       "<table border=\"1\" class=\"dataframe\">\n",
       "  <thead>\n",
       "    <tr style=\"text-align: right;\">\n",
       "      <th></th>\n",
       "      <th>W</th>\n",
       "      <th>pval</th>\n",
       "      <th>equal_var</th>\n",
       "    </tr>\n",
       "  </thead>\n",
       "  <tbody>\n",
       "    <tr>\n",
       "      <th>levene</th>\n",
       "      <td>0.619967</td>\n",
       "      <td>0.545445</td>\n",
       "      <td>True</td>\n",
       "    </tr>\n",
       "  </tbody>\n",
       "</table>\n",
       "</div>"
      ],
      "text/plain": [
       "               W      pval  equal_var\n",
       "levene  0.619967  0.545445       True"
      ]
     },
     "execution_count": 5,
     "metadata": {},
     "output_type": "execute_result"
    }
   ],
   "source": [
    "from pingouin import homoscedasticity\n",
    "homoscedasticity(bie, dv='data', group='group', method='levene', alpha=0.05)"
   ]
  },
  {
   "cell_type": "markdown",
   "metadata": {
    "id": "JHYZJOw-tGtq"
   },
   "source": [
    "**Distribución normal de residuales:** Del modelo evaluado con la función \"ols\" y al que denominamos \"model_bie\", extraemos su residuales y evaluamos el supuesto de distribución normal.\n",
    "\n",
    "**Recuerden:**\n",
    "\n",
    "Contraste de hipótesis de la prueba de Shapiro-Wilk\n",
    "*   H0: Los residuales se comportan como una distribución normal (p ≥ 0.05)\n",
    "*   H1: Los residuales NO se comportan como una distribución normal (p < 0.05)\n",
    "\n",
    "En este caso, la prueba de Shapiro Wilk sobre residuales da un p-valor=0.52, mayor de 0.05. Por lo tanto, no existe evidencia para rechazar Ho y asumimos que existe normalidad en residuales."
   ]
  },
  {
   "cell_type": "code",
   "execution_count": null,
   "metadata": {
    "colab": {
     "base_uri": "https://localhost:8080/"
    },
    "id": "wiIRY3bq-Rtx",
    "outputId": "ba1f7e0a-e3a6-4aba-ad32-8cf64af3e560"
   },
   "outputs": [
    {
     "name": "stdout",
     "output_type": "stream",
     "text": [
      "0.969129204750061 0.5156309604644775\n"
     ]
    }
   ],
   "source": [
    "import scipy.stats as stats\n",
    "w, pvalue = stats.shapiro(model_bie.resid)\n",
    "print(w, pvalue)"
   ]
  },
  {
   "cell_type": "code",
   "execution_count": 6,
   "metadata": {
    "colab": {
     "base_uri": "https://localhost:8080/",
     "height": 295
    },
    "id": "L0-MIXr7TWvd",
    "outputId": "e789ddc2-5272-48b3-8d61-6a8de9f40dfb"
   },
   "outputs": [
    {
     "data": {
      "image/png": "[encoded data removed]",
      "text/plain": [
       "<Figure size 640x480 with 1 Axes>"
      ]
     },
     "metadata": {},
     "output_type": "display_data"
    }
   ],
   "source": [
    "# QQ-plot\n",
    "#Importar módulos a utilizar\n",
    "from matplotlib import pyplot\n",
    "from scipy.stats import probplot\n",
    "from matplotlib.pyplot import show\n",
    "\n",
    "#Gráfico de normalidad\n",
    "probplot(model_bie.resid, dist=\"norm\", plot=pyplot)\n",
    "show()\n"
   ]
  },
  {
   "cell_type": "markdown",
   "metadata": {
    "id": "dGfpdNcedszp"
   },
   "source": [
    "El gráfico de normalidad soabre residuales también indica existencia de normalidad. En este caso, los puntos siguen bastante bien la línea diagonal. "
   ]
  },
  {
   "cell_type": "markdown",
   "metadata": {
    "id": "yD0H23L0d4mb"
   },
   "source": [
    "**Cuarto paso:** Una vez comprobado que se cumplen los supuestos de normalidad en residuales y homogeneidad de varianzas, podemos interpretar los resultados del ANOVA de 1 factor (véase su interpretación en el segundo paso). Como se rechaza Ho del ANOVA, con el objetivo de identificar entre qué grupos se encuentran las diferencias significativas, haremos comparaciones entre grupos 2 a 2. Para la realización de las comparaciones múltiples, se deberá elegir el procedimiento de corrección deseado. En este caso, a modo ilustrativo, mostramos los resultados de aplicar la corrección de Bonferroni y de Tukey. En la práctica, con aplicar un único procedimiento sería suficiente.  "
   ]
  },
  {
   "cell_type": "markdown",
   "metadata": {
    "id": "enKD4q21fOw5"
   },
   "source": [
    "**Bonferroni:** En la tabla de abajo se muestran los valores de p corregidos por el método de Bonferroni (columna pval_corr) para cada comparación de medias entre grupos. Se muestran los resultados de comparación entre el grupo 1 con el 2 (fila1), el 1 con el 3 (fila2) y el grupo 2 con el 3 (fila 3). En este caso, compararemos lo obtenido en cada comparación el nivel de significación. No se encuentran diferencias significativas entre el grupo 1 y 2 (p-valor_corr > 0.05) y sí existen diferencias significativas entre el grupo 3 con el resto (p-valores_corr ≤ 0.05). Por ello, concluimos que el grupo que difiere significativamente en gasto del resto es el grupo 3 (ocio). Mirando las medias, vemos que es el grupo que presenta significativamente el menor nivel de gasto. En los grupos 1 y 2 se produce significativamente el mayor nivel de gasto con respecto al grupo 3 (no podemos distinguir entre los grupos 1 y 2 quién presenta el mayor nivel de gasto, ya que no existe evidencia para decir que existen diferencias entre ellos -no rechazamos Ho en la comparación entre los grupos 1 y 2-). Sería recomendable completar estos resultados con medidas del tamaño del efecto (d de Cohen) para cada comparación entre grupos 2 a 2. Esto nos ayudaría a determinar la relevancia de las diferencias encontradas."
   ]
  },
  {
   "cell_type": "code",
   "execution_count": 7,
   "metadata": {
    "colab": {
     "base_uri": "https://localhost:8080/",
     "height": 150
    },
    "id": "-cCc9TRsjbgY",
    "outputId": "e13ccc6b-3a3f-462b-a75c-d2c8a53ad32d"
   },
   "outputs": [
    {
     "data": {
      "text/html": [
       "<table class=\"simpletable\">\n",
       "<caption>Test Multiple Comparison ttest_ind \n",
       "FWER=0.05 method=bonf\n",
       "alphacSidak=0.02, alphacBonf=0.017</caption>\n",
       "<tr>\n",
       "  <th>group1</th> <th>group2</th>  <th>stat</th>   <th>pval</th>  <th>pval_corr</th> <th>reject</th>\n",
       "</tr>\n",
       "<tr>\n",
       "     <td>1</td>      <td>2</td>   <td>0.1866</td> <td>0.8541</td>    <td>1.0</td>     <td>False</td>\n",
       "</tr>\n",
       "<tr>\n",
       "     <td>1</td>      <td>3</td>   <td>3.8087</td> <td>0.0013</td>  <td>0.0039</td>    <td>True</td> \n",
       "</tr>\n",
       "<tr>\n",
       "     <td>2</td>      <td>3</td>   <td>4.1026</td> <td>0.0007</td>   <td>0.002</td>    <td>True</td> \n",
       "</tr>\n",
       "</table>"
      ],
      "text/plain": [
       "<class 'statsmodels.iolib.table.SimpleTable'>"
      ]
     },
     "execution_count": 7,
     "metadata": {},
     "output_type": "execute_result"
    }
   ],
   "source": [
    "import scipy.stats as stats\n",
    "import statsmodels.stats.multicomp as mc\n",
    "\n",
    "comp = mc.MultiComparison(bie['data'], bie['group'])\n",
    "tbl, a1, a2 = comp.allpairtest(stats.ttest_ind, method= \"bonf\")\n",
    "\n",
    "tbl"
   ]
  },
  {
   "cell_type": "markdown",
   "metadata": {
    "id": "DIGU8VS3g1Av"
   },
   "source": [
    "**Tukey:** En la tabla de abajo se muestran los valores de p corregidos por el método de Tukey (columna p-adj) para cada comparación de medias entre grupos 2 a 2. En este caso, se obtienen las mismas conclusiones que las obtenidas mediante la corrección por Bonferroni. "
   ]
  },
  {
   "cell_type": "code",
   "execution_count": 8,
   "metadata": {
    "colab": {
     "base_uri": "https://localhost:8080/",
     "height": 117
    },
    "id": "3q8SUYjZjrOo",
    "outputId": "5cddbf53-0fe4-4529-cbb6-4c6f572c1cb2"
   },
   "outputs": [
    {
     "data": {
      "text/html": [
       "<table class=\"simpletable\">\n",
       "<caption>Multiple Comparison of Means - Tukey HSD, FWER=0.05</caption>\n",
       "<tr>\n",
       "  <th>group1</th> <th>group2</th> <th>meandiff</th>  <th>p-adj</th>   <th>lower</th>    <th>upper</th>  <th>reject</th>\n",
       "</tr>\n",
       "<tr>\n",
       "     <td>1</td>      <td>2</td>     <td>-1.5</td>   <td>0.9778</td> <td>-19.9075</td>  <td>16.9075</td>  <td>False</td>\n",
       "</tr>\n",
       "<tr>\n",
       "     <td>1</td>      <td>3</td>     <td>-28.7</td>  <td>0.0018</td> <td>-47.1075</td> <td>-10.2925</td>  <td>True</td> \n",
       "</tr>\n",
       "<tr>\n",
       "     <td>2</td>      <td>3</td>     <td>-27.2</td>   <td>0.003</td> <td>-45.6075</td>  <td>-8.7925</td>  <td>True</td> \n",
       "</tr>\n",
       "</table>"
      ],
      "text/plain": [
       "<class 'statsmodels.iolib.table.SimpleTable'>"
      ]
     },
     "execution_count": 8,
     "metadata": {},
     "output_type": "execute_result"
    }
   ],
   "source": [
    "import statsmodels.stats.multicomp as mc\n",
    "\n",
    "comp = mc.MultiComparison(bie['data'], bie['group'])\n",
    "post_hoc_res = comp.tukeyhsd()\n",
    "post_hoc_res.summary()\n"
   ]
  },
  {
   "cell_type": "code",
   "execution_count": null,
   "metadata": {},
   "outputs": [],
   "source": []
  }
 ],
 "metadata": {
  "colab": {
   "provenance": []
  },
  "kernelspec": {
   "display_name": "Python 3 (ipykernel)",
   "language": "python",
   "name": "python3"
  },
  "language_info": {
   "codemirror_mode": {
    "name": "ipython",
    "version": 3
   },
   "file_extension": ".py",
   "mimetype": "text/x-python",
   "name": "python",
   "nbconvert_exporter": "python",
   "pygments_lexer": "ipython3",
   "version": "3.10.8"
  }
 },
 "nbformat": 4,
 "nbformat_minor": 4
}
