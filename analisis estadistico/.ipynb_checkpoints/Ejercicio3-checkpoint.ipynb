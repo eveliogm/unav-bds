{
 "cells": [
  {
   "cell_type": "markdown",
   "id": "3937ad09-431e-4c76-8a59-4009b95db9cd",
   "metadata": {},
   "source": [
    "# Ejercicio3: \n",
    "Se desea conocer si el nivel de morosidad que presenta una entidad varía en función del número de oficinas que tiene una entidad. Para ello, se seleccionan diversas entidades en función del número de oficinas que presentan: bajo (1), medio (2), alto (3). Investigue, con un nivel de confianza del 95%, si el nivel de morosidad que presenta una entidad varía significativamente en función del número de oficinas que posee. Identifique en qué caso se eleva significativamente el nivel de morosidad."
   ]
  },
  {
   "cell_type": "code",
   "execution_count": 2,
   "id": "27a6484e-ba06-4934-afe6-c6ad2b6a6c08",
   "metadata": {},
   "outputs": [
    {
     "name": "stdout",
     "output_type": "stream",
     "text": [
      "    group  data\n",
      "0       1  1996\n",
      "1       1  3336\n",
      "2       1  1776\n",
      "3       1  2639\n",
      "4       1  2627\n",
      "5       1  2605\n",
      "6       1  2807\n",
      "7       1  1098\n",
      "8       1  2638\n",
      "9       1  1918\n",
      "10      1  2957\n",
      "11      1  2123\n",
      "12      1  1143\n",
      "13      1  1540\n",
      "14      1  2607\n",
      "15      1  2680\n",
      "16      1  2404\n",
      "17      1  2153\n",
      "18      1  2168\n",
      "19      1  1693\n",
      "20      2  2211\n",
      "21      2  3424\n",
      "22      2  2182\n",
      "23      2  3119\n",
      "24      2  1652\n",
      "25      2  2167\n",
      "26      2  2384\n",
      "27      2  2677\n",
      "28      2  1357\n",
      "29      2  2043\n",
      "30      3  2106\n",
      "31      3  2196\n",
      "32      3  1448\n",
      "33      3  2099\n",
      "34      3  2915\n",
      "35      3  1892\n",
      "36      3  2220\n",
      "37      3  2084\n",
      "38      3  2179\n",
      "39      3  2247\n",
      "40      3  1496\n",
      "41      3  2582\n",
      "42      3  3186\n",
      "43      3  1665\n"
     ]
    }
   ],
   "source": [
    "#Del módulo pandas importamos la funcion \"read_csv\" para poder importar los archivos cargados a un dataframe que permita su manipulación\n",
    "from pandas import read_csv\n",
    "mor=read_csv('morosidad.csv', sep=';')\n",
    "print(mor)"
   ]
  },
  {
   "cell_type": "markdown",
   "id": "2623d175-2f61-4b96-833a-9a02d33283d0",
   "metadata": {},
   "source": [
    "**Primer paso**: analice gráficamente y a nivel de estadística descriptiva el comportamiento de la variable para cada grupo."
   ]
  },
  {
   "cell_type": "code",
   "execution_count": 3,
   "id": "37f45d8a-74ca-4370-9be4-0eac3e983150",
   "metadata": {},
   "outputs": [
    {
     "data": {
      "text/plain": [
       "<AxesSubplot: xlabel='group', ylabel='data'>"
      ]
     },
     "execution_count": 3,
     "metadata": {},
     "output_type": "execute_result"
    },
    {
     "data": {
      "image/png": "[encoded data removed]",
      "text/plain": [
       "<Figure size 640x480 with 1 Axes>"
      ]
     },
     "metadata": {},
     "output_type": "display_data"
    }
   ],
   "source": [
    "from seaborn import boxplot\n",
    "boxplot(x=\"group\", y=\"data\", data=mor, palette=\"Set3\")"
   ]
  },
  {
   "cell_type": "code",
   "execution_count": 4,
   "id": "2a2249cc-3d46-4073-8a67-d9bda0468548",
   "metadata": {},
   "outputs": [
    {
     "name": "stdout",
     "output_type": "stream",
     "text": [
      "G1: [2245.4, 593.5501929735575]\n",
      "G2: [2321.6, 623.0206345789127]\n",
      "G3: [2165.3571428571427, 487.56153176060485]\n"
     ]
    }
   ],
   "source": [
    "#Estadisticos descriptivos\n",
    "G1 = mor['data'][mor['group'] == 1]\n",
    "G2 = mor['data'][mor['group'] == 2]\n",
    "G3 = mor['data'][mor['group'] == 3]\n",
    "\n",
    "print('G1:',[G1.mean(), G1.std()])\n",
    "print('G2:',[G2.mean(), G2.std()]) \n",
    "print('G3:',[G3.mean(), G3.std()])"
   ]
  },
  {
   "cell_type": "markdown",
   "id": "38122fb5-d869-422e-99f9-0e21bcf53b69",
   "metadata": {},
   "source": [
    "**Segundo paso:** Genere el modelo a evaluar y obtenga los residuales que posteriormente serán utilizados para probar la hipótesis de distribución normal. Puede modificar los nombres del modelo \"model_bie\" la variable dependiente \"data\" y la variable de agrupación o independiente \"group\".\n",
    "\n",
    "Aunque es necesario evaluar los supuestos del modelo, antes de concluir algo del ANOVA, observamos que de manera preliminar se rechaza la hipótesis que las medias de las poblaciones sean iguales.\n",
    "\n",
    "Contraste de hipótesis de la prueba ANOVA\n",
    "*   H0: Todas las poblaciones tienen el mismo promedio en valor (p > 0.05)\n",
    "*   H1: Al menos una de las medias de las poblaciones en valor es diferente del resto (p ≤ 0.05)\n",
    "\n",
    "Si se cumplen los supuestos del ANOVA (homogeneidad de varianzas y normalidad en residuales, véase más abajo su comprobación), podemos interpretar el resultado del ANOVA. En este caso, el ANOVA tiene un valor del estadístico de contraste F(2,27)=9.47, con un p-valor asociado de 0.0008. Como el p-valor es menor de 0.05, rechazamos Ho. Por lo tanto, podemos concluir que al menos una de las medias poblacionales en gasto es diferente al resto de grupos. "
   ]
  },
  {
   "cell_type": "code",
   "execution_count": 5,
   "id": "fcb907bc-6136-4a00-8105-3717b6a94e20",
   "metadata": {},
   "outputs": [
    {
     "data": {
      "text/html": [
       "<div>\n",
       "<style scoped>\n",
       "    .dataframe tbody tr th:only-of-type {\n",
       "        vertical-align: middle;\n",
       "    }\n",
       "\n",
       "    .dataframe tbody tr th {\n",
       "        vertical-align: top;\n",
       "    }\n",
       "\n",
       "    .dataframe thead th {\n",
       "        text-align: right;\n",
       "    }\n",
       "</style>\n",
       "<table border=\"1\" class=\"dataframe\">\n",
       "  <thead>\n",
       "    <tr style=\"text-align: right;\">\n",
       "      <th></th>\n",
       "      <th>sum_sq</th>\n",
       "      <th>df</th>\n",
       "      <th>F</th>\n",
       "      <th>PR(&gt;F)</th>\n",
       "    </tr>\n",
       "  </thead>\n",
       "  <tbody>\n",
       "    <tr>\n",
       "      <th>C(group)</th>\n",
       "      <td>1.448378e+05</td>\n",
       "      <td>2.0</td>\n",
       "      <td>0.223626</td>\n",
       "      <td>0.800583</td>\n",
       "    </tr>\n",
       "    <tr>\n",
       "      <th>Residual</th>\n",
       "      <td>1.327744e+07</td>\n",
       "      <td>41.0</td>\n",
       "      <td>NaN</td>\n",
       "      <td>NaN</td>\n",
       "    </tr>\n",
       "  </tbody>\n",
       "</table>\n",
       "</div>"
      ],
      "text/plain": [
       "                sum_sq    df         F    PR(>F)\n",
       "C(group)  1.448378e+05   2.0  0.223626  0.800583\n",
       "Residual  1.327744e+07  41.0       NaN       NaN"
      ]
     },
     "execution_count": 5,
     "metadata": {},
     "output_type": "execute_result"
    }
   ],
   "source": [
    "import statsmodels.api as sm\n",
    "from statsmodels.formula.api import ols\n",
    "model_mor = ols('data ~ C(group)', data=mor).fit()\n",
    "anova_table = sm.stats.anova_lm(model_mor, typ=2)\n",
    "anova_table"
   ]
  },
  {
   "cell_type": "markdown",
   "id": "913dec5a-29ff-40a3-bf3b-7123db79caa0",
   "metadata": {
    "id": "IdnIPjDQbe8X"
   },
   "source": [
    "**Tercer paso:** Evaluar supuestos (homogeneidad de varianzas y normalidad en residuales)\n",
    "\n",
    "**Nota:** Recuerden que hay módulos que no vienen preinstalados, por lo que es necesario instalarlos siempre que los vayamos a utilizar, es el caso de este módulo llamado \"pingouin\", módulo de análisis estadístico que tiene la ventaja, en relación contra otros módulos, de permitir el ingreso de los datos en columnas."
   ]
  },
  {
   "cell_type": "markdown",
   "id": "14419b45-05ee-44b5-8566-3bfa1fc24467",
   "metadata": {
    "id": "rXd_q8aacHes"
   },
   "source": [
    "**Homocedasticidad (homogeneidad de varianzas):** Para este caso utilizamos la prueba de Levene.\n",
    "\n",
    "\n",
    "**Recuerden:**\n",
    "\n",
    "Contraste de hipótesis de la prueba de Levene\n",
    "*   H0: Las varianzas de los grupos evaluados son homogéneas (pval > 0.05)\n",
    "*   H1: Al menos una de las varianzas de las poblaciones evaluadas es diferente del resto (pval ≤ 0.05)\n",
    "\n",
    "En este caso observamos en la prueba de Levene un p-valor=0.55, mayor de 0.05. Por lo tanto, no existe evidencia para rechazar Ho y asumimos que existe homogeneidad de varianzas.\n",
    "\n"
   ]
  },
  {
   "cell_type": "code",
   "execution_count": 10,
   "id": "9ef2ad87-d72c-4010-8982-1854e408d0e8",
   "metadata": {},
   "outputs": [
    {
     "data": {
      "text/html": [
       "<div>\n",
       "<style scoped>\n",
       "    .dataframe tbody tr th:only-of-type {\n",
       "        vertical-align: middle;\n",
       "    }\n",
       "\n",
       "    .dataframe tbody tr th {\n",
       "        vertical-align: top;\n",
       "    }\n",
       "\n",
       "    .dataframe thead th {\n",
       "        text-align: right;\n",
       "    }\n",
       "</style>\n",
       "<table border=\"1\" class=\"dataframe\">\n",
       "  <thead>\n",
       "    <tr style=\"text-align: right;\">\n",
       "      <th></th>\n",
       "      <th>W</th>\n",
       "      <th>pval</th>\n",
       "      <th>equal_var</th>\n",
       "    </tr>\n",
       "  </thead>\n",
       "  <tbody>\n",
       "    <tr>\n",
       "      <th>levene</th>\n",
       "      <td>0.700859</td>\n",
       "      <td>0.502005</td>\n",
       "      <td>True</td>\n",
       "    </tr>\n",
       "  </tbody>\n",
       "</table>\n",
       "</div>"
      ],
      "text/plain": [
       "               W      pval  equal_var\n",
       "levene  0.700859  0.502005       True"
      ]
     },
     "execution_count": 10,
     "metadata": {},
     "output_type": "execute_result"
    }
   ],
   "source": [
    "from pingouin import homoscedasticity\n",
    "homoscedasticity(mor, dv='data', group='group', method='levene', alpha=0.05)"
   ]
  },
  {
   "cell_type": "markdown",
   "id": "ad95796f-5f9a-47fa-b50f-c7b2105f28dd",
   "metadata": {},
   "source": [
    "**Distribución normal de residuales:** Del modelo evaluado con la función \"ols\" y al que denominamos \"model_bie\", extraemos su residuales y evaluamos el supuesto de distribución normal.\n",
    "\n",
    "**Recuerden:**\n",
    "\n",
    "Contraste de hipótesis de la prueba de Shapiro-Wilk\n",
    "*   H0: Los residuales se comportan como una distribución normal (p ≥ 0.05)\n",
    "*   H1: Los residuales NO se comportan como una distribución normal (p < 0.05)\n",
    "\n",
    "En este caso, la prueba de Shapiro Wilk sobre residuales da un p-valor=0.667, mayor de 0.05. Por lo tanto, no existe evidencia para rechazar Ho y asumimos que existe normalidad en residuales."
   ]
  },
  {
   "cell_type": "code",
   "execution_count": 7,
   "id": "2a7c35fb-06ec-41a3-b1ff-54bfaddb6a63",
   "metadata": {},
   "outputs": [
    {
     "name": "stdout",
     "output_type": "stream",
     "text": [
      "0.9799985289573669 0.6335203647613525\n"
     ]
    }
   ],
   "source": [
    "import scipy.stats as stats\n",
    "w, pvalue = stats.shapiro(model_mor.resid)\n",
    "print(w, pvalue)"
   ]
  },
  {
   "cell_type": "code",
   "execution_count": 8,
   "id": "cc14d83c-d6fa-4daf-b8b0-25b79ef6e14b",
   "metadata": {},
   "outputs": [
    {
     "data": {
      "image/png": "[encoded data removed]",
      "text/plain": [
       "<Figure size 640x480 with 1 Axes>"
      ]
     },
     "metadata": {},
     "output_type": "display_data"
    }
   ],
   "source": [
    "# QQ-plot\n",
    "#Importar módulos a utilizar\n",
    "from matplotlib import pyplot\n",
    "from scipy.stats import probplot\n",
    "from matplotlib.pyplot import show\n",
    "\n",
    "#Gráfico de normalidad\n",
    "probplot(model_mor.resid, dist=\"norm\", plot=pyplot)\n",
    "show()\n"
   ]
  },
  {
   "cell_type": "markdown",
   "id": "38f3f407-4051-4726-94f6-467f54874e55",
   "metadata": {
    "id": "dGfpdNcedszp"
   },
   "source": [
    "El gráfico de normalidad soabre residuales también indica existencia de normalidad. En este caso, los puntos siguen bastante bien la línea diagonal. "
   ]
  },
  {
   "cell_type": "markdown",
   "id": "a305c4fa-2c47-4655-9445-2b5a0e003b99",
   "metadata": {
    "id": "yD0H23L0d4mb"
   },
   "source": [
    "**Cuarto paso:** Una vez comprobado que se cumplen los supuestos de normalidad en residuales y homogeneidad de varianzas, podemos interpretar los resultados del ANOVA de 1 factor (véase su interpretación en el segundo paso). Como se rechaza Ho del ANOVA, con el objetivo de identificar entre qué grupos se encuentran las diferencias significativas, haremos comparaciones entre grupos 2 a 2. Para la realización de las comparaciones múltiples, se deberá elegir el procedimiento de corrección deseado. En este caso, a modo ilustrativo, mostramos los resultados de aplicar la corrección de Bonferroni y de Tukey. En la práctica, con aplicar un único procedimiento sería suficiente.  "
   ]
  },
  {
   "cell_type": "markdown",
   "id": "0f8f60dc-bda8-48d5-a705-5175d292d11a",
   "metadata": {
    "id": "enKD4q21fOw5"
   },
   "source": [
    "**Bonferroni:** En la tabla de abajo se muestran los valores de p corregidos por el método de Bonferroni (columna pval_corr) para cada comparación de medias entre grupos. Se muestran los resultados de comparación entre el grupo 1 con el 2 (fila1), el 1 con el 3 (fila2) y el grupo 2 con el 3 (fila 3). En este caso, compararemos lo obtenido en cada comparación el nivel de significación. No se encuentran diferencias significativas entre el grupo 1 y 2 (p-valor_corr > 0.05) y sí existen diferencias significativas entre el grupo 3 con el resto (p-valores_corr ≤ 0.05). Por ello, concluimos que el grupo que difiere significativamente en gasto del resto es el grupo 3 (ocio). Mirando las medias, vemos que es el grupo que presenta significativamente el menor nivel de gasto. En los grupos 1 y 2 se produce significativamente el mayor nivel de gasto con respecto al grupo 3 (no podemos distinguir entre los grupos 1 y 2 quién presenta el mayor nivel de gasto, ya que no existe evidencia para decir que existen diferencias entre ellos -no rechazamos Ho en la comparación entre los grupos 1 y 2-). Sería recomendable completar estos resultados con medidas del tamaño del efecto (d de Cohen) para cada comparación entre grupos 2 a 2. Esto nos ayudaría a determinar la relevancia de las diferencias encontradas."
   ]
  },
  {
   "cell_type": "code",
   "execution_count": 9,
   "id": "f449d94e-e1e0-4e46-90bd-e237c343302a",
   "metadata": {},
   "outputs": [
    {
     "data": {
      "text/html": [
       "<table class=\"simpletable\">\n",
       "<caption>Test Multiple Comparison ttest_ind \n",
       "FWER=0.05 method=bonf\n",
       "alphacSidak=0.02, alphacBonf=0.017</caption>\n",
       "<tr>\n",
       "  <th>group1</th> <th>group2</th>  <th>stat</th>    <th>pval</th>  <th>pval_corr</th> <th>reject</th>\n",
       "</tr>\n",
       "<tr>\n",
       "     <td>1</td>      <td>2</td>   <td>-0.3262</td> <td>0.7467</td>    <td>1.0</td>     <td>False</td>\n",
       "</tr>\n",
       "<tr>\n",
       "     <td>1</td>      <td>3</td>   <td>0.4154</td>  <td>0.6806</td>    <td>1.0</td>     <td>False</td>\n",
       "</tr>\n",
       "<tr>\n",
       "     <td>2</td>      <td>3</td>   <td>0.6898</td>  <td>0.4975</td>    <td>1.0</td>     <td>False</td>\n",
       "</tr>\n",
       "</table>"
      ],
      "text/plain": [
       "<class 'statsmodels.iolib.table.SimpleTable'>"
      ]
     },
     "execution_count": 9,
     "metadata": {},
     "output_type": "execute_result"
    }
   ],
   "source": [
    "import scipy.stats as stats\n",
    "import statsmodels.stats.multicomp as mc\n",
    "\n",
    "comp = mc.MultiComparison(mor['data'], mor['group'])\n",
    "tbl, a1, a2 = comp.allpairtest(stats.ttest_ind, method= \"bonf\")\n",
    "\n",
    "tbl"
   ]
  },
  {
   "cell_type": "code",
   "execution_count": null,
   "id": "da4b4c46-590e-49af-8e70-ab317b5e3296",
   "metadata": {},
   "outputs": [],
   "source": []
  }
 ],
 "metadata": {
  "kernelspec": {
   "display_name": "Python 3 (ipykernel)",
   "language": "python",
   "name": "python3"
  },
  "language_info": {
   "codemirror_mode": {
    "name": "ipython",
    "version": 3
   },
   "file_extension": ".py",
   "mimetype": "text/x-python",
   "name": "python",
   "nbconvert_exporter": "python",
   "pygments_lexer": "ipython3",
   "version": "3.10.8"
  }
 },
 "nbformat": 4,
 "nbformat_minor": 5
}
