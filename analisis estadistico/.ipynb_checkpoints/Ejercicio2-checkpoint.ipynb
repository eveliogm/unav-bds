{
 "cells": [
  {
   "cell_type": "markdown",
   "id": "3937ad09-431e-4c76-8a59-4009b95db9cd",
   "metadata": {},
   "source": [
    "# Ejercicio2:\n",
    "\n",
    "¿Optimizar el servicio al cliente redunda en precios más altos de las acciones de las empresas que ofrecen el mejor servicio? “Los estudios revelan que, cuando mejora el nivel de satisfacción con una empresa respecto al de años anteriores y queda por encima del promedio nacional, sus acciones tienen una buena posibilidad de superar el grueso del mercado de valores a largo plazo”. Se muestran los precios de las acciones de varias empresas en función de los niveles de satisfacción de sus clientes: alto (1), medio (2) y bajo (3). Confirme, con un nivel de confianza del 95%, si el valor de las acciones de las empresas cambian significativamente en función del nivel de satisfacción que muestran sus clientes. Identifique en qué condición se genera significativamente un mayor valor de las acciones."
   ]
  },
  {
   "cell_type": "code",
   "execution_count": 3,
   "id": "27a6484e-ba06-4934-afe6-c6ad2b6a6c08",
   "metadata": {},
   "outputs": [
    {
     "name": "stdout",
     "output_type": "stream",
     "text": [
      "    group  data\n",
      "0       1    73\n",
      "1       1    93\n",
      "2       1    89\n",
      "3       1    73\n",
      "4       1    94\n",
      "5       1    79\n",
      "6       1    68\n",
      "7       1    83\n",
      "8       1    69\n",
      "9       1    96\n",
      "10      1    75\n",
      "11      1    77\n",
      "12      1    84\n",
      "13      1    65\n",
      "14      1    87\n",
      "15      1    69\n",
      "16      1    85\n",
      "17      1    82\n",
      "18      1    85\n",
      "19      2    86\n",
      "20      2    64\n",
      "21      2    88\n",
      "22      2    84\n",
      "23      2    89\n",
      "24      2    68\n",
      "25      2    43\n",
      "26      2    58\n",
      "27      2    49\n",
      "28      2    65\n",
      "29      2    75\n",
      "30      2    61\n",
      "31      2    78\n",
      "32      2    83\n",
      "33      2    70\n",
      "34      2    73\n",
      "35      2    62\n",
      "36      2    99\n",
      "37      2    68\n",
      "38      2    69\n",
      "39      3    25\n",
      "40      3    37\n",
      "41      3    23\n",
      "42      3    76\n",
      "43      3    58\n",
      "44      3    32\n",
      "45      3    32\n",
      "46      3    23\n",
      "47      3    66\n",
      "48      3    24\n",
      "49      3    61\n",
      "50      3    48\n",
      "51      3    61\n",
      "52      3    30\n",
      "53      3    36\n",
      "54      3    39\n",
      "55      3    35\n",
      "56      3    39\n",
      "57      3    39\n",
      "58      3    50\n",
      "59      3    63\n"
     ]
    }
   ],
   "source": [
    "#Del módulo pandas importamos la funcion \"read_csv\" para poder importar los archivos cargados a un dataframe que permita su manipulación\n",
    "from pandas import read_csv\n",
    "acc=read_csv('acciones.csv', sep=';')\n",
    "print(acc)"
   ]
  },
  {
   "cell_type": "markdown",
   "id": "2623d175-2f61-4b96-833a-9a02d33283d0",
   "metadata": {},
   "source": [
    "**Primer paso**: analice gráficamente y a nivel de estadística descriptiva el comportamiento de la variable para cada grupo."
   ]
  },
  {
   "cell_type": "code",
   "execution_count": 5,
   "id": "37f45d8a-74ca-4370-9be4-0eac3e983150",
   "metadata": {},
   "outputs": [
    {
     "data": {
      "text/plain": [
       "<AxesSubplot: xlabel='group', ylabel='data'>"
      ]
     },
     "execution_count": 5,
     "metadata": {},
     "output_type": "execute_result"
    },
    {
     "data": {
      "image/png": "[encoded data removed]",
      "text/plain": [
       "<Figure size 640x480 with 1 Axes>"
      ]
     },
     "metadata": {},
     "output_type": "display_data"
    }
   ],
   "source": [
    "from seaborn import boxplot\n",
    "boxplot(x=\"group\", y=\"data\", data=acc, palette=\"Set3\")"
   ]
  },
  {
   "cell_type": "code",
   "execution_count": 20,
   "id": "2a2249cc-3d46-4073-8a67-d9bda0468548",
   "metadata": {},
   "outputs": [
    {
     "name": "stdout",
     "output_type": "stream",
     "text": [
      "G1: [80.3157894736842, 9.345543391721517]\n",
      "G2: [71.6, 13.99774417916198]\n",
      "G3: [42.714285714285715, 15.90013477031832]\n"
     ]
    }
   ],
   "source": [
    "#Estadisticos descriptivos\n",
    "G1 = acc['data'][acc['group'] == 1]\n",
    "G2 = acc['data'][acc['group'] == 2]\n",
    "G3 = acc['data'][acc['group'] == 3]\n",
    "\n",
    "print('G1:',[G1.mean(), G1.std()])\n",
    "print('G2:',[G2.mean(), G2.std()]) \n",
    "print('G3:',[G3.mean(), G3.std()])"
   ]
  },
  {
   "cell_type": "markdown",
   "id": "38122fb5-d869-422e-99f9-0e21bcf53b69",
   "metadata": {},
   "source": [
    "**Segundo paso:** Genere el modelo a evaluar y obtenga los residuales que posteriormente serán utilizados para probar la hipótesis de distribución normal. Puede modificar los nombres del modelo \"model_bie\" la variable dependiente \"data\" y la variable de agrupación o independiente \"group\".\n",
    "\n",
    "Aunque es necesario evaluar los supuestos del modelo, antes de concluir algo del ANOVA, observamos que de manera preliminar se rechaza la hipótesis que las medias de las poblaciones sean iguales.\n",
    "\n",
    "Contraste de hipótesis de la prueba ANOVA\n",
    "*   H0: Todas las poblaciones tienen el mismo promedio en valor de acciones (p > 0.05)\n",
    "*   H1: Al menos una de las medias de las poblaciones en valor de acciones es diferente del resto (p ≤ 0.05)\n",
    "\n",
    "Si se cumplen los supuestos del ANOVA (homogeneidad de varianzas y normalidad en residuales, véase más abajo su comprobación), podemos interpretar el resultado del ANOVA. En este caso, el ANOVA tiene un valor del estadístico de contraste F(2,27)=9.47, con un p-valor asociado de 0.0008. Como el p-valor es menor de 0.05, rechazamos Ho. Por lo tanto, podemos concluir que al menos una de las medias poblacionales en gasto es diferente al resto de grupos. "
   ]
  },
  {
   "cell_type": "code",
   "execution_count": 9,
   "id": "fcb907bc-6136-4a00-8105-3717b6a94e20",
   "metadata": {},
   "outputs": [
    {
     "data": {
      "text/html": [
       "<div>\n",
       "<style scoped>\n",
       "    .dataframe tbody tr th:only-of-type {\n",
       "        vertical-align: middle;\n",
       "    }\n",
       "\n",
       "    .dataframe tbody tr th {\n",
       "        vertical-align: top;\n",
       "    }\n",
       "\n",
       "    .dataframe thead th {\n",
       "        text-align: right;\n",
       "    }\n",
       "</style>\n",
       "<table border=\"1\" class=\"dataframe\">\n",
       "  <thead>\n",
       "    <tr style=\"text-align: right;\">\n",
       "      <th></th>\n",
       "      <th>sum_sq</th>\n",
       "      <th>df</th>\n",
       "      <th>F</th>\n",
       "      <th>PR(&gt;F)</th>\n",
       "    </tr>\n",
       "  </thead>\n",
       "  <tbody>\n",
       "    <tr>\n",
       "      <th>C(group)</th>\n",
       "      <td>15724.059023</td>\n",
       "      <td>2.0</td>\n",
       "      <td>43.293152</td>\n",
       "      <td>3.670392e-12</td>\n",
       "    </tr>\n",
       "    <tr>\n",
       "      <th>Residual</th>\n",
       "      <td>10351.190977</td>\n",
       "      <td>57.0</td>\n",
       "      <td>NaN</td>\n",
       "      <td>NaN</td>\n",
       "    </tr>\n",
       "  </tbody>\n",
       "</table>\n",
       "</div>"
      ],
      "text/plain": [
       "                sum_sq    df          F        PR(>F)\n",
       "C(group)  15724.059023   2.0  43.293152  3.670392e-12\n",
       "Residual  10351.190977  57.0        NaN           NaN"
      ]
     },
     "execution_count": 9,
     "metadata": {},
     "output_type": "execute_result"
    }
   ],
   "source": [
    "import statsmodels.api as sm\n",
    "from statsmodels.formula.api import ols\n",
    "model_acc = ols('data ~ C(group)', data=acc).fit()\n",
    "anova_table = sm.stats.anova_lm(model_acc, typ=2)\n",
    "anova_table"
   ]
  },
  {
   "cell_type": "markdown",
   "id": "913dec5a-29ff-40a3-bf3b-7123db79caa0",
   "metadata": {
    "id": "IdnIPjDQbe8X"
   },
   "source": [
    "**Tercer paso:** Evaluar supuestos (homogeneidad de varianzas y normalidad en residuales)\n",
    "\n",
    "**Nota:** Recuerden que hay módulos que no vienen preinstalados, por lo que es necesario instalarlos siempre que los vayamos a utilizar, es el caso de este módulo llamado \"pingouin\", módulo de análisis estadístico que tiene la ventaja, en relación contra otros módulos, de permitir el ingreso de los datos en columnas."
   ]
  },
  {
   "cell_type": "markdown",
   "id": "14419b45-05ee-44b5-8566-3bfa1fc24467",
   "metadata": {
    "id": "rXd_q8aacHes"
   },
   "source": [
    "**Homocedasticidad (homogeneidad de varianzas):** Para este caso utilizamos la prueba de Levene.\n",
    "\n",
    "\n",
    "**Recuerden:**\n",
    "\n",
    "Contraste de hipótesis de la prueba de Levene\n",
    "*   H0: Las varianzas de los grupos evaluados son homogéneas (pval > 0.05)\n",
    "*   H1: Al menos una de las varianzas de las poblaciones evaluadas es diferente del resto (pval ≤ 0.05)\n",
    "\n",
    "En este caso observamos en la prueba de Levene un p-valor=0.55, mayor de 0.05. Por lo tanto, no existe evidencia para rechazar Ho y asumimos que existe homogeneidad de varianzas.\n",
    "\n"
   ]
  },
  {
   "cell_type": "code",
   "execution_count": 10,
   "id": "9ef2ad87-d72c-4010-8982-1854e408d0e8",
   "metadata": {},
   "outputs": [
    {
     "data": {
      "text/html": [
       "<div>\n",
       "<style scoped>\n",
       "    .dataframe tbody tr th:only-of-type {\n",
       "        vertical-align: middle;\n",
       "    }\n",
       "\n",
       "    .dataframe tbody tr th {\n",
       "        vertical-align: top;\n",
       "    }\n",
       "\n",
       "    .dataframe thead th {\n",
       "        text-align: right;\n",
       "    }\n",
       "</style>\n",
       "<table border=\"1\" class=\"dataframe\">\n",
       "  <thead>\n",
       "    <tr style=\"text-align: right;\">\n",
       "      <th></th>\n",
       "      <th>W</th>\n",
       "      <th>pval</th>\n",
       "      <th>equal_var</th>\n",
       "    </tr>\n",
       "  </thead>\n",
       "  <tbody>\n",
       "    <tr>\n",
       "      <th>levene</th>\n",
       "      <td>1.686775</td>\n",
       "      <td>0.194224</td>\n",
       "      <td>True</td>\n",
       "    </tr>\n",
       "  </tbody>\n",
       "</table>\n",
       "</div>"
      ],
      "text/plain": [
       "               W      pval  equal_var\n",
       "levene  1.686775  0.194224       True"
      ]
     },
     "execution_count": 10,
     "metadata": {},
     "output_type": "execute_result"
    }
   ],
   "source": [
    "from pingouin import homoscedasticity\n",
    "homoscedasticity(acc, dv='data', group='group', method='levene', alpha=0.05)"
   ]
  },
  {
   "cell_type": "markdown",
   "id": "ad95796f-5f9a-47fa-b50f-c7b2105f28dd",
   "metadata": {},
   "source": [
    "**Distribución normal de residuales:** Del modelo evaluado con la función \"ols\" y al que denominamos \"model_bie\", extraemos su residuales y evaluamos el supuesto de distribución normal.\n",
    "\n",
    "**Recuerden:**\n",
    "\n",
    "Contraste de hipótesis de la prueba de Shapiro-Wilk\n",
    "*   H0: Los residuales se comportan como una distribución normal (p ≥ 0.05)\n",
    "*   H1: Los residuales NO se comportan como una distribución normal (p < 0.05)\n",
    "\n",
    "En este caso, la prueba de Shapiro Wilk sobre residuales da un p-valor=0.667, mayor de 0.05. Por lo tanto, no existe evidencia para rechazar Ho y asumimos que existe normalidad en residuales."
   ]
  },
  {
   "cell_type": "code",
   "execution_count": 12,
   "id": "2a7c35fb-06ec-41a3-b1ff-54bfaddb6a63",
   "metadata": {},
   "outputs": [
    {
     "name": "stdout",
     "output_type": "stream",
     "text": [
      "0.9849480390548706 0.6673228740692139\n"
     ]
    }
   ],
   "source": [
    "import scipy.stats as stats\n",
    "w, pvalue = stats.shapiro(model_acc.resid)\n",
    "print(w, pvalue)"
   ]
  },
  {
   "cell_type": "code",
   "execution_count": 13,
   "id": "cc14d83c-d6fa-4daf-b8b0-25b79ef6e14b",
   "metadata": {},
   "outputs": [
    {
     "data": {
      "image/png": "[encoded data removed]",
      "text/plain": [
       "<Figure size 640x480 with 1 Axes>"
      ]
     },
     "metadata": {},
     "output_type": "display_data"
    }
   ],
   "source": [
    "# QQ-plot\n",
    "#Importar módulos a utilizar\n",
    "from matplotlib import pyplot\n",
    "from scipy.stats import probplot\n",
    "from matplotlib.pyplot import show\n",
    "\n",
    "#Gráfico de normalidad\n",
    "probplot(model_acc.resid, dist=\"norm\", plot=pyplot)\n",
    "show()\n"
   ]
  },
  {
   "cell_type": "markdown",
   "id": "38f3f407-4051-4726-94f6-467f54874e55",
   "metadata": {
    "id": "dGfpdNcedszp"
   },
   "source": [
    "El gráfico de normalidad soabre residuales también indica existencia de normalidad. En este caso, los puntos siguen bastante bien la línea diagonal. "
   ]
  },
  {
   "cell_type": "markdown",
   "id": "a305c4fa-2c47-4655-9445-2b5a0e003b99",
   "metadata": {
    "id": "yD0H23L0d4mb"
   },
   "source": [
    "**Cuarto paso:** Una vez comprobado que se cumplen los supuestos de normalidad en residuales y homogeneidad de varianzas, podemos interpretar los resultados del ANOVA de 1 factor (véase su interpretación en el segundo paso). Como se rechaza Ho del ANOVA, con el objetivo de identificar entre qué grupos se encuentran las diferencias significativas, haremos comparaciones entre grupos 2 a 2. Para la realización de las comparaciones múltiples, se deberá elegir el procedimiento de corrección deseado. En este caso, a modo ilustrativo, mostramos los resultados de aplicar la corrección de Bonferroni y de Tukey. En la práctica, con aplicar un único procedimiento sería suficiente.  "
   ]
  },
  {
   "cell_type": "markdown",
   "id": "0f8f60dc-bda8-48d5-a705-5175d292d11a",
   "metadata": {
    "id": "enKD4q21fOw5"
   },
   "source": [
    "**Bonferroni:** En la tabla de abajo se muestran los valores de p corregidos por el método de Bonferroni (columna pval_corr) para cada comparación de medias entre grupos. Se muestran los resultados de comparación entre el grupo 1 con el 2 (fila1), el 1 con el 3 (fila2) y el grupo 2 con el 3 (fila 3). En este caso, compararemos lo obtenido en cada comparación el nivel de significación. No se encuentran diferencias significativas entre el grupo 1 y 2 (p-valor_corr > 0.05) y sí existen diferencias significativas entre el grupo 3 con el resto (p-valores_corr ≤ 0.05). Por ello, concluimos que el grupo que difiere significativamente en gasto del resto es el grupo 3 (ocio). Mirando las medias, vemos que es el grupo que presenta significativamente el menor nivel de gasto. En los grupos 1 y 2 se produce significativamente el mayor nivel de gasto con respecto al grupo 3 (no podemos distinguir entre los grupos 1 y 2 quién presenta el mayor nivel de gasto, ya que no existe evidencia para decir que existen diferencias entre ellos -no rechazamos Ho en la comparación entre los grupos 1 y 2-). Sería recomendable completar estos resultados con medidas del tamaño del efecto (d de Cohen) para cada comparación entre grupos 2 a 2. Esto nos ayudaría a determinar la relevancia de las diferencias encontradas."
   ]
  },
  {
   "cell_type": "code",
   "execution_count": 23,
   "id": "f449d94e-e1e0-4e46-90bd-e237c343302a",
   "metadata": {},
   "outputs": [
    {
     "data": {
      "text/html": [
       "<table class=\"simpletable\">\n",
       "<caption>Test Multiple Comparison ttest_ind \n",
       "FWER=0.05 method=bonf\n",
       "alphacSidak=0.02, alphacBonf=0.017</caption>\n",
       "<tr>\n",
       "  <th>group1</th> <th>group2</th>  <th>stat</th>   <th>pval</th>  <th>pval_corr</th> <th>reject</th>\n",
       "</tr>\n",
       "<tr>\n",
       "     <td>1</td>      <td>2</td>   <td>2.2742</td> <td>0.0288</td>  <td>0.0865</td>    <td>False</td>\n",
       "</tr>\n",
       "<tr>\n",
       "     <td>1</td>      <td>3</td>   <td>8.9919</td>   <td>0.0</td>     <td>0.0</td>     <td>True</td> \n",
       "</tr>\n",
       "<tr>\n",
       "     <td>2</td>      <td>3</td>    <td>6.162</td>   <td>0.0</td>     <td>0.0</td>     <td>True</td> \n",
       "</tr>\n",
       "</table>"
      ],
      "text/plain": [
       "<class 'statsmodels.iolib.table.SimpleTable'>"
      ]
     },
     "execution_count": 23,
     "metadata": {},
     "output_type": "execute_result"
    }
   ],
   "source": [
    "import scipy.stats as stats\n",
    "import statsmodels.stats.multicomp as mc\n",
    "\n",
    "comp = mc.MultiComparison(acc['data'], acc['group'])\n",
    "tbl, a1, a2 = comp.allpairtest(stats.ttest_ind, method= \"bonf\",alpha = 0.05)\n",
    "\n",
    "tbl"
   ]
  },
  {
   "cell_type": "code",
   "execution_count": 19,
   "id": "da4b4c46-590e-49af-8e70-ab317b5e3296",
   "metadata": {},
   "outputs": [
    {
     "data": {
      "text/html": [
       "<table class=\"simpletable\">\n",
       "<caption>Multiple Comparison of Means - Tukey HSD, FWER=0.05</caption>\n",
       "<tr>\n",
       "  <th>group1</th> <th>group2</th> <th>meandiff</th>  <th>p-adj</th>   <th>lower</th>    <th>upper</th>  <th>reject</th>\n",
       "</tr>\n",
       "<tr>\n",
       "     <td>1</td>      <td>2</td>    <td>-8.7158</td> <td>0.1169</td> <td>-19.1047</td>  <td>1.6731</td>   <td>False</td>\n",
       "</tr>\n",
       "<tr>\n",
       "     <td>1</td>      <td>3</td>   <td>-37.6015</td>   <td>0.0</td>  <td>-47.8692</td> <td>-27.3338</td>  <td>True</td> \n",
       "</tr>\n",
       "<tr>\n",
       "     <td>2</td>      <td>3</td>   <td>-28.8857</td>   <td>0.0</td>  <td>-39.0177</td> <td>-18.7537</td>  <td>True</td> \n",
       "</tr>\n",
       "</table>"
      ],
      "text/plain": [
       "<class 'statsmodels.iolib.table.SimpleTable'>"
      ]
     },
     "execution_count": 19,
     "metadata": {},
     "output_type": "execute_result"
    }
   ],
   "source": [
    "import statsmodels.stats.multicomp as mc\n",
    "\n",
    "comp = mc.MultiComparison(acc['data'], acc['group'])\n",
    "post_hoc_res = comp.tukeyhsd()\n",
    "post_hoc_res.summary()\n"
   ]
  },
  {
   "cell_type": "code",
   "execution_count": null,
   "id": "4143c142-191b-4f3f-8455-36bfbd87c178",
   "metadata": {},
   "outputs": [],
   "source": []
  }
 ],
 "metadata": {
  "kernelspec": {
   "display_name": "Python 3 (ipykernel)",
   "language": "python",
   "name": "python3"
  },
  "language_info": {
   "codemirror_mode": {
    "name": "ipython",
    "version": 3
   },
   "file_extension": ".py",
   "mimetype": "text/x-python",
   "name": "python",
   "nbconvert_exporter": "python",
   "pygments_lexer": "ipython3",
   "version": "3.10.8"
  }
 },
 "nbformat": 4,
 "nbformat_minor": 5
}
