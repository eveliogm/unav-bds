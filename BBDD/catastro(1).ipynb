{
 "cells": [
  {
   "cell_type": "markdown",
   "metadata": {
    "id": "ej5MaHF6-j3j"
   },
   "source": [
    "# Catastro API\n",
    "http://ovc.catastro.meh.es/ovcservweb/OVCSWLocalizacionRC/OVCCallejero.asmx"
   ]
  },
  {
   "cell_type": "code",
   "execution_count": 4,
   "metadata": {
    "colab": {
     "base_uri": "https://localhost:8080/"
    },
    "executionInfo": {
     "elapsed": 4072,
     "status": "ok",
     "timestamp": 1672067338281,
     "user": {
      "displayName": "Conrado Javier García Montiel",
      "userId": "13569174523856456477"
     },
     "user_tz": -60
    },
    "id": "Ux2-Qpet-qjb",
    "outputId": "3ebb897c-8e87-4ab7-c510-3a3dad2388db"
   },
   "outputs": [
    {
     "name": "stdout",
     "output_type": "stream",
     "text": [
      "Requirement already satisfied: xmltodict in /Users/eve/opt/anaconda3/lib/python3.9/site-packages (0.12.0)\n"
     ]
    }
   ],
   "source": [
    "!pip install xmltodict"
   ]
  },
  {
   "cell_type": "code",
   "execution_count": 6,
   "metadata": {
    "id": "GY_OqWZl9gCL"
   },
   "outputs": [],
   "source": [
    "import requests\n",
    "import xmltodict\n",
    "import json\n",
    "import pandas as pd"
   ]
  },
  {
   "cell_type": "code",
   "execution_count": 7,
   "metadata": {
    "id": "N0Pbq3vf-jFx"
   },
   "outputs": [],
   "source": [
    "api_url = 'http://ovc.catastro.meh.es/ovcservweb/OVCSWLocalizacionRC/OVCCallejero.asmx'"
   ]
  },
  {
   "cell_type": "markdown",
   "metadata": {
    "id": "2llJCUfm-0Vq"
   },
   "source": [
    "## Provincia"
   ]
  },
  {
   "cell_type": "code",
   "execution_count": 8,
   "metadata": {
    "colab": {
     "base_uri": "https://localhost:8080/"
    },
    "executionInfo": {
     "elapsed": 697,
     "status": "ok",
     "timestamp": 1672067378192,
     "user": {
      "displayName": "Conrado Javier García Montiel",
      "userId": "13569174523856456477"
     },
     "user_tz": -60
    },
    "id": "ADyZebih-ypQ",
    "outputId": "58ddd86e-7327-410f-cdf9-1607b0372506"
   },
   "outputs": [
    {
     "name": "stdout",
     "output_type": "stream",
     "text": [
      "200\n"
     ]
    }
   ],
   "source": [
    "method = 'ConsultaProvincia'\n",
    "params = {}\n",
    "\n",
    "response = requests.get('%s/%s' % (api_url, method), params=params)\n",
    "print(response.status_code)"
   ]
  },
  {
   "cell_type": "code",
   "execution_count": 9,
   "metadata": {
    "colab": {
     "base_uri": "https://localhost:8080/"
    },
    "executionInfo": {
     "elapsed": 335,
     "status": "ok",
     "timestamp": 1672067394009,
     "user": {
      "displayName": "Conrado Javier García Montiel",
      "userId": "13569174523856456477"
     },
     "user_tz": -60
    },
    "id": "SjdiJ5R5-2ah",
    "outputId": "3aedd7a3-a6d6-403b-a66e-ab25b0c15b86"
   },
   "outputs": [
    {
     "data": {
      "text/plain": [
       "b'<?xml version=\"1.0\" encoding=\"utf-8\"?>\\r\\n<consulta_provinciero xmlns=\"http://www.catastro.meh.es/\">\\r\\n  <control>\\r\\n    <cuprov>48</cuprov>\\r\\n  </control>\\r\\n  <provinciero>\\r\\n    <prov>\\r\\n      <cpine>15</cpine>\\r\\n      <np>A CORU\\xc3\\x91A</np>\\r\\n    </prov>\\r\\n    <prov>\\r\\n      <cpine>03</cpine>\\r\\n      <np>ALACANT</np>\\r\\n    </prov>\\r\\n    <prov>\\r\\n      <cpine>02</cpine>\\r\\n      <np>ALBACETE</np>\\r\\n    </prov>\\r\\n    <prov>\\r\\n      <cpine>04</cpine>\\r\\n      <np>ALMERIA</np>\\r\\n    </prov>\\r\\n    <prov>\\r\\n      <cpine>33</cpine>\\r\\n      <np>ASTURIAS</np>\\r\\n    </prov>\\r\\n    <prov>\\r\\n      <cpine>05</cpine>\\r\\n      <np>AVILA</np>\\r\\n    </prov>\\r\\n    <prov>\\r\\n      <cpine>06</cpine>\\r\\n      <np>BADAJOZ</np>\\r\\n    </prov>\\r\\n    <prov>\\r\\n      <cpine>08</cpine>\\r\\n      <np>BARCELONA</np>\\r\\n    </prov>\\r\\n    <prov>\\r\\n      <cpine>09</cpine>\\r\\n      <np>BURGOS</np>\\r\\n    </prov>\\r\\n    <prov>\\r\\n      <cpine>10</cpine>\\r\\n      <np>CACERES</np>\\r\\n    </prov>\\r\\n    <prov>\\r\\n      <cpine>11</cpine>\\r\\n      <np>CADIZ</np>\\r\\n    </prov>\\r\\n    <prov>\\r\\n      <cpine>39</cpine>\\r\\n      <np>CANTABRIA</np>\\r\\n    </prov>\\r\\n    <prov>\\r\\n      <cpine>12</cpine>\\r\\n      <np>CASTELLO</np>\\r\\n    </prov>\\r\\n    <prov>\\r\\n      <cpine>51</cpine>\\r\\n      <np>CEUTA</np>\\r\\n    </prov>\\r\\n    <prov>\\r\\n      <cpine>13</cpine>\\r\\n      <np>CIUDAD REAL</np>\\r\\n    </prov>\\r\\n    <prov>\\r\\n      <cpine>14</cpine>\\r\\n      <np>CORDOBA</np>\\r\\n    </prov>\\r\\n    <prov>\\r\\n      <cpine>16</cpine>\\r\\n      <np>CUENCA</np>\\r\\n    </prov>\\r\\n    <prov>\\r\\n      <cpine>17</cpine>\\r\\n      <np>GIRONA</np>\\r\\n    </prov>\\r\\n    <prov>\\r\\n      <cpine>18</cpine>\\r\\n      <np>GRANADA</np>\\r\\n    </prov>\\r\\n    <prov>\\r\\n      <cpine>19</cpine>\\r\\n      <np>GUADALAJARA</np>\\r\\n    </prov>\\r\\n    <prov>\\r\\n      <cpine>21</cpine>\\r\\n      <np>HUELVA</np>\\r\\n    </prov>\\r\\n    <prov>\\r\\n      <cpine>22</cpine>\\r\\n      <np>HUESCA</np>\\r\\n    </prov>\\r\\n    <prov>\\r\\n      <cpine>07</cpine>\\r\\n      <np>ILLES BALEARS</np>\\r\\n    </prov>\\r\\n    <prov>\\r\\n      <cpine>23</cpine>\\r\\n      <np>JAEN</np>\\r\\n    </prov>\\r\\n    <prov>\\r\\n      <cpine>26</cpine>\\r\\n      <np>LA RIOJA</np>\\r\\n    </prov>\\r\\n    <prov>\\r\\n      <cpine>35</cpine>\\r\\n      <np>LAS PALMAS</np>\\r\\n    </prov>\\r\\n    <prov>\\r\\n      <cpine>24</cpine>\\r\\n      <np>LEON</np>\\r\\n    </prov>\\r\\n    <prov>\\r\\n      <cpine>25</cpine>\\r\\n      <np>LLEIDA</np>\\r\\n    </prov>\\r\\n    <prov>\\r\\n      <cpine>27</cpine>\\r\\n      <np>LUGO</np>\\r\\n    </prov>\\r\\n    <prov>\\r\\n      <cpine>28</cpine>\\r\\n      <np>MADRID</np>\\r\\n    </prov>\\r\\n    <prov>\\r\\n      <cpine>29</cpine>\\r\\n      <np>MALAGA</np>\\r\\n    </prov>\\r\\n    <prov>\\r\\n      <cpine>52</cpine>\\r\\n      <np>MELILLA</np>\\r\\n    </prov>\\r\\n    <prov>\\r\\n      <cpine>30</cpine>\\r\\n      <np>MURCIA</np>\\r\\n    </prov>\\r\\n    <prov>\\r\\n      <cpine>32</cpine>\\r\\n      <np>OURENSE</np>\\r\\n    </prov>\\r\\n    <prov>\\r\\n      <cpine>34</cpine>\\r\\n      <np>PALENCIA</np>\\r\\n    </prov>\\r\\n    <prov>\\r\\n      <cpine>36</cpine>\\r\\n      <np>PONTEVEDRA</np>\\r\\n    </prov>\\r\\n    <prov>\\r\\n      <cpine>38</cpine>\\r\\n      <np>S.C. TENERIFE</np>\\r\\n    </prov>\\r\\n    <prov>\\r\\n      <cpine>37</cpine>\\r\\n      <np>SALAMANCA</np>\\r\\n    </prov>\\r\\n    <prov>\\r\\n      <cpine>40</cpine>\\r\\n      <np>SEGOVIA</np>\\r\\n    </prov>\\r\\n    <prov>\\r\\n      <cpine>41</cpine>\\r\\n      <np>SEVILLA</np>\\r\\n    </prov>\\r\\n    <prov>\\r\\n      <cpine>42</cpine>\\r\\n      <np>SORIA</np>\\r\\n    </prov>\\r\\n    <prov>\\r\\n      <cpine>43</cpine>\\r\\n      <np>TARRAGONA</np>\\r\\n    </prov>\\r\\n    <prov>\\r\\n      <cpine>44</cpine>\\r\\n      <np>TERUEL</np>\\r\\n    </prov>\\r\\n    <prov>\\r\\n      <cpine>45</cpine>\\r\\n      <np>TOLEDO</np>\\r\\n    </prov>\\r\\n    <prov>\\r\\n      <cpine>46</cpine>\\r\\n      <np>VALENCIA</np>\\r\\n    </prov>\\r\\n    <prov>\\r\\n      <cpine>47</cpine>\\r\\n      <np>VALLADOLID</np>\\r\\n    </prov>\\r\\n    <prov>\\r\\n      <cpine>49</cpine>\\r\\n      <np>ZAMORA</np>\\r\\n    </prov>\\r\\n    <prov>\\r\\n      <cpine>50</cpine>\\r\\n      <np>ZARAGOZA</np>\\r\\n    </prov>\\r\\n  </provinciero>\\r\\n</consulta_provinciero>'"
      ]
     },
     "execution_count": 9,
     "metadata": {},
     "output_type": "execute_result"
    }
   ],
   "source": [
    "response.content"
   ]
  },
  {
   "cell_type": "code",
   "execution_count": 10,
   "metadata": {
    "colab": {
     "base_uri": "https://localhost:8080/"
    },
    "executionInfo": {
     "elapsed": 14,
     "status": "ok",
     "timestamp": 1672067402248,
     "user": {
      "displayName": "Conrado Javier García Montiel",
      "userId": "13569174523856456477"
     },
     "user_tz": -60
    },
    "id": "qYaV4tou-6V8",
    "outputId": "8ab710fe-3da2-45fb-9779-f982359f3177"
   },
   "outputs": [
    {
     "data": {
      "text/plain": [
       "OrderedDict([('consulta_provinciero',\n",
       "              OrderedDict([('@xmlns', 'http://www.catastro.meh.es/'),\n",
       "                           ('control', OrderedDict([('cuprov', '48')])),\n",
       "                           ('provinciero',\n",
       "                            OrderedDict([('prov',\n",
       "                                          [OrderedDict([('cpine', '15'),\n",
       "                                                        ('np', 'A CORUÑA')]),\n",
       "                                           OrderedDict([('cpine', '03'),\n",
       "                                                        ('np', 'ALACANT')]),\n",
       "                                           OrderedDict([('cpine', '02'),\n",
       "                                                        ('np', 'ALBACETE')]),\n",
       "                                           OrderedDict([('cpine', '04'),\n",
       "                                                        ('np', 'ALMERIA')]),\n",
       "                                           OrderedDict([('cpine', '33'),\n",
       "                                                        ('np', 'ASTURIAS')]),\n",
       "                                           OrderedDict([('cpine', '05'),\n",
       "                                                        ('np', 'AVILA')]),\n",
       "                                           OrderedDict([('cpine', '06'),\n",
       "                                                        ('np', 'BADAJOZ')]),\n",
       "                                           OrderedDict([('cpine', '08'),\n",
       "                                                        ('np', 'BARCELONA')]),\n",
       "                                           OrderedDict([('cpine', '09'),\n",
       "                                                        ('np', 'BURGOS')]),\n",
       "                                           OrderedDict([('cpine', '10'),\n",
       "                                                        ('np', 'CACERES')]),\n",
       "                                           OrderedDict([('cpine', '11'),\n",
       "                                                        ('np', 'CADIZ')]),\n",
       "                                           OrderedDict([('cpine', '39'),\n",
       "                                                        ('np', 'CANTABRIA')]),\n",
       "                                           OrderedDict([('cpine', '12'),\n",
       "                                                        ('np', 'CASTELLO')]),\n",
       "                                           OrderedDict([('cpine', '51'),\n",
       "                                                        ('np', 'CEUTA')]),\n",
       "                                           OrderedDict([('cpine', '13'),\n",
       "                                                        ('np',\n",
       "                                                         'CIUDAD REAL')]),\n",
       "                                           OrderedDict([('cpine', '14'),\n",
       "                                                        ('np', 'CORDOBA')]),\n",
       "                                           OrderedDict([('cpine', '16'),\n",
       "                                                        ('np', 'CUENCA')]),\n",
       "                                           OrderedDict([('cpine', '17'),\n",
       "                                                        ('np', 'GIRONA')]),\n",
       "                                           OrderedDict([('cpine', '18'),\n",
       "                                                        ('np', 'GRANADA')]),\n",
       "                                           OrderedDict([('cpine', '19'),\n",
       "                                                        ('np',\n",
       "                                                         'GUADALAJARA')]),\n",
       "                                           OrderedDict([('cpine', '21'),\n",
       "                                                        ('np', 'HUELVA')]),\n",
       "                                           OrderedDict([('cpine', '22'),\n",
       "                                                        ('np', 'HUESCA')]),\n",
       "                                           OrderedDict([('cpine', '07'),\n",
       "                                                        ('np',\n",
       "                                                         'ILLES BALEARS')]),\n",
       "                                           OrderedDict([('cpine', '23'),\n",
       "                                                        ('np', 'JAEN')]),\n",
       "                                           OrderedDict([('cpine', '26'),\n",
       "                                                        ('np', 'LA RIOJA')]),\n",
       "                                           OrderedDict([('cpine', '35'),\n",
       "                                                        ('np', 'LAS PALMAS')]),\n",
       "                                           OrderedDict([('cpine', '24'),\n",
       "                                                        ('np', 'LEON')]),\n",
       "                                           OrderedDict([('cpine', '25'),\n",
       "                                                        ('np', 'LLEIDA')]),\n",
       "                                           OrderedDict([('cpine', '27'),\n",
       "                                                        ('np', 'LUGO')]),\n",
       "                                           OrderedDict([('cpine', '28'),\n",
       "                                                        ('np', 'MADRID')]),\n",
       "                                           OrderedDict([('cpine', '29'),\n",
       "                                                        ('np', 'MALAGA')]),\n",
       "                                           OrderedDict([('cpine', '52'),\n",
       "                                                        ('np', 'MELILLA')]),\n",
       "                                           OrderedDict([('cpine', '30'),\n",
       "                                                        ('np', 'MURCIA')]),\n",
       "                                           OrderedDict([('cpine', '32'),\n",
       "                                                        ('np', 'OURENSE')]),\n",
       "                                           OrderedDict([('cpine', '34'),\n",
       "                                                        ('np', 'PALENCIA')]),\n",
       "                                           OrderedDict([('cpine', '36'),\n",
       "                                                        ('np', 'PONTEVEDRA')]),\n",
       "                                           OrderedDict([('cpine', '38'),\n",
       "                                                        ('np',\n",
       "                                                         'S.C. TENERIFE')]),\n",
       "                                           OrderedDict([('cpine', '37'),\n",
       "                                                        ('np', 'SALAMANCA')]),\n",
       "                                           OrderedDict([('cpine', '40'),\n",
       "                                                        ('np', 'SEGOVIA')]),\n",
       "                                           OrderedDict([('cpine', '41'),\n",
       "                                                        ('np', 'SEVILLA')]),\n",
       "                                           OrderedDict([('cpine', '42'),\n",
       "                                                        ('np', 'SORIA')]),\n",
       "                                           OrderedDict([('cpine', '43'),\n",
       "                                                        ('np', 'TARRAGONA')]),\n",
       "                                           OrderedDict([('cpine', '44'),\n",
       "                                                        ('np', 'TERUEL')]),\n",
       "                                           OrderedDict([('cpine', '45'),\n",
       "                                                        ('np', 'TOLEDO')]),\n",
       "                                           OrderedDict([('cpine', '46'),\n",
       "                                                        ('np', 'VALENCIA')]),\n",
       "                                           OrderedDict([('cpine', '47'),\n",
       "                                                        ('np', 'VALLADOLID')]),\n",
       "                                           OrderedDict([('cpine', '49'),\n",
       "                                                        ('np', 'ZAMORA')]),\n",
       "                                           OrderedDict([('cpine', '50'),\n",
       "                                                        ('np',\n",
       "                                                         'ZARAGOZA')])])]))]))])"
      ]
     },
     "execution_count": 10,
     "metadata": {},
     "output_type": "execute_result"
    }
   ],
   "source": [
    "provincias = xmltodict.parse(response.content)\n",
    "provincias"
   ]
  },
  {
   "cell_type": "code",
   "execution_count": 11,
   "metadata": {
    "colab": {
     "base_uri": "https://localhost:8080/",
     "height": 122
    },
    "executionInfo": {
     "elapsed": 15,
     "status": "ok",
     "timestamp": 1672067410780,
     "user": {
      "displayName": "Conrado Javier García Montiel",
      "userId": "13569174523856456477"
     },
     "user_tz": -60
    },
    "id": "XhA2AzkW-8eL",
    "outputId": "c7907774-71fe-46a6-fe70-5253834f5542"
   },
   "outputs": [
    {
     "data": {
      "text/plain": [
       "'{\"consulta_provinciero\": {\"@xmlns\": \"http://www.catastro.meh.es/\", \"control\": {\"cuprov\": \"48\"}, \"provinciero\": {\"prov\": [{\"cpine\": \"15\", \"np\": \"A CORUÑA\"}, {\"cpine\": \"03\", \"np\": \"ALACANT\"}, {\"cpine\": \"02\", \"np\": \"ALBACETE\"}, {\"cpine\": \"04\", \"np\": \"ALMERIA\"}, {\"cpine\": \"33\", \"np\": \"ASTURIAS\"}, {\"cpine\": \"05\", \"np\": \"AVILA\"}, {\"cpine\": \"06\", \"np\": \"BADAJOZ\"}, {\"cpine\": \"08\", \"np\": \"BARCELONA\"}, {\"cpine\": \"09\", \"np\": \"BURGOS\"}, {\"cpine\": \"10\", \"np\": \"CACERES\"}, {\"cpine\": \"11\", \"np\": \"CADIZ\"}, {\"cpine\": \"39\", \"np\": \"CANTABRIA\"}, {\"cpine\": \"12\", \"np\": \"CASTELLO\"}, {\"cpine\": \"51\", \"np\": \"CEUTA\"}, {\"cpine\": \"13\", \"np\": \"CIUDAD REAL\"}, {\"cpine\": \"14\", \"np\": \"CORDOBA\"}, {\"cpine\": \"16\", \"np\": \"CUENCA\"}, {\"cpine\": \"17\", \"np\": \"GIRONA\"}, {\"cpine\": \"18\", \"np\": \"GRANADA\"}, {\"cpine\": \"19\", \"np\": \"GUADALAJARA\"}, {\"cpine\": \"21\", \"np\": \"HUELVA\"}, {\"cpine\": \"22\", \"np\": \"HUESCA\"}, {\"cpine\": \"07\", \"np\": \"ILLES BALEARS\"}, {\"cpine\": \"23\", \"np\": \"JAEN\"}, {\"cpine\": \"26\", \"np\": \"LA RIOJA\"}, {\"cpine\": \"35\", \"np\": \"LAS PALMAS\"}, {\"cpine\": \"24\", \"np\": \"LEON\"}, {\"cpine\": \"25\", \"np\": \"LLEIDA\"}, {\"cpine\": \"27\", \"np\": \"LUGO\"}, {\"cpine\": \"28\", \"np\": \"MADRID\"}, {\"cpine\": \"29\", \"np\": \"MALAGA\"}, {\"cpine\": \"52\", \"np\": \"MELILLA\"}, {\"cpine\": \"30\", \"np\": \"MURCIA\"}, {\"cpine\": \"32\", \"np\": \"OURENSE\"}, {\"cpine\": \"34\", \"np\": \"PALENCIA\"}, {\"cpine\": \"36\", \"np\": \"PONTEVEDRA\"}, {\"cpine\": \"38\", \"np\": \"S.C. TENERIFE\"}, {\"cpine\": \"37\", \"np\": \"SALAMANCA\"}, {\"cpine\": \"40\", \"np\": \"SEGOVIA\"}, {\"cpine\": \"41\", \"np\": \"SEVILLA\"}, {\"cpine\": \"42\", \"np\": \"SORIA\"}, {\"cpine\": \"43\", \"np\": \"TARRAGONA\"}, {\"cpine\": \"44\", \"np\": \"TERUEL\"}, {\"cpine\": \"45\", \"np\": \"TOLEDO\"}, {\"cpine\": \"46\", \"np\": \"VALENCIA\"}, {\"cpine\": \"47\", \"np\": \"VALLADOLID\"}, {\"cpine\": \"49\", \"np\": \"ZAMORA\"}, {\"cpine\": \"50\", \"np\": \"ZARAGOZA\"}]}}}'"
      ]
     },
     "execution_count": 11,
     "metadata": {},
     "output_type": "execute_result"
    }
   ],
   "source": [
    "json.dumps(provincias, ensure_ascii=False)"
   ]
  },
  {
   "cell_type": "code",
   "execution_count": 12,
   "metadata": {
    "colab": {
     "base_uri": "https://localhost:8080/",
     "height": 206
    },
    "executionInfo": {
     "elapsed": 525,
     "status": "ok",
     "timestamp": 1672067420823,
     "user": {
      "displayName": "Conrado Javier García Montiel",
      "userId": "13569174523856456477"
     },
     "user_tz": -60
    },
    "id": "q38BZ966--hZ",
    "outputId": "fe7d3767-ba69-433d-c6c9-a1ec61095e85"
   },
   "outputs": [
    {
     "data": {
      "text/html": [
       "<div>\n",
       "<style scoped>\n",
       "    .dataframe tbody tr th:only-of-type {\n",
       "        vertical-align: middle;\n",
       "    }\n",
       "\n",
       "    .dataframe tbody tr th {\n",
       "        vertical-align: top;\n",
       "    }\n",
       "\n",
       "    .dataframe thead th {\n",
       "        text-align: right;\n",
       "    }\n",
       "</style>\n",
       "<table border=\"1\" class=\"dataframe\">\n",
       "  <thead>\n",
       "    <tr style=\"text-align: right;\">\n",
       "      <th></th>\n",
       "      <th>cpine</th>\n",
       "      <th>np</th>\n",
       "    </tr>\n",
       "  </thead>\n",
       "  <tbody>\n",
       "    <tr>\n",
       "      <th>0</th>\n",
       "      <td>15</td>\n",
       "      <td>A CORUÑA</td>\n",
       "    </tr>\n",
       "    <tr>\n",
       "      <th>1</th>\n",
       "      <td>03</td>\n",
       "      <td>ALACANT</td>\n",
       "    </tr>\n",
       "    <tr>\n",
       "      <th>2</th>\n",
       "      <td>02</td>\n",
       "      <td>ALBACETE</td>\n",
       "    </tr>\n",
       "    <tr>\n",
       "      <th>3</th>\n",
       "      <td>04</td>\n",
       "      <td>ALMERIA</td>\n",
       "    </tr>\n",
       "    <tr>\n",
       "      <th>4</th>\n",
       "      <td>33</td>\n",
       "      <td>ASTURIAS</td>\n",
       "    </tr>\n",
       "  </tbody>\n",
       "</table>\n",
       "</div>"
      ],
      "text/plain": [
       "  cpine        np\n",
       "0    15  A CORUÑA\n",
       "1    03   ALACANT\n",
       "2    02  ALBACETE\n",
       "3    04   ALMERIA\n",
       "4    33  ASTURIAS"
      ]
     },
     "execution_count": 12,
     "metadata": {},
     "output_type": "execute_result"
    }
   ],
   "source": [
    "provincias_df = pd.DataFrame(data=provincias['consulta_provinciero']['provinciero']['prov'])\n",
    "provincias_df.head()"
   ]
  },
  {
   "cell_type": "markdown",
   "metadata": {
    "id": "cjWNJt0b_C_y"
   },
   "source": [
    "## Municipio"
   ]
  },
  {
   "cell_type": "code",
   "execution_count": 15,
   "metadata": {},
   "outputs": [
    {
     "data": {
      "text/plain": [
       "['A CORUÑA',\n",
       " 'ALACANT',\n",
       " 'ALBACETE',\n",
       " 'ALMERIA',\n",
       " 'ASTURIAS',\n",
       " 'AVILA',\n",
       " 'BADAJOZ',\n",
       " 'BARCELONA',\n",
       " 'BURGOS',\n",
       " 'CACERES',\n",
       " 'CADIZ',\n",
       " 'CANTABRIA',\n",
       " 'CASTELLO',\n",
       " 'CEUTA',\n",
       " 'CIUDAD REAL',\n",
       " 'CORDOBA',\n",
       " 'CUENCA',\n",
       " 'GIRONA',\n",
       " 'GRANADA',\n",
       " 'GUADALAJARA',\n",
       " 'HUELVA',\n",
       " 'HUESCA',\n",
       " 'ILLES BALEARS',\n",
       " 'JAEN',\n",
       " 'LA RIOJA',\n",
       " 'LAS PALMAS',\n",
       " 'LEON',\n",
       " 'LLEIDA',\n",
       " 'LUGO',\n",
       " 'MADRID',\n",
       " 'MALAGA',\n",
       " 'MELILLA',\n",
       " 'MURCIA',\n",
       " 'OURENSE',\n",
       " 'PALENCIA',\n",
       " 'PONTEVEDRA',\n",
       " 'S.C. TENERIFE',\n",
       " 'SALAMANCA',\n",
       " 'SEGOVIA',\n",
       " 'SEVILLA',\n",
       " 'SORIA',\n",
       " 'TARRAGONA',\n",
       " 'TERUEL',\n",
       " 'TOLEDO',\n",
       " 'VALENCIA',\n",
       " 'VALLADOLID',\n",
       " 'ZAMORA',\n",
       " 'ZARAGOZA']"
      ]
     },
     "execution_count": 15,
     "metadata": {},
     "output_type": "execute_result"
    }
   ],
   "source": [
    "provincias_df[\"np\"].to_list()"
   ]
  },
  {
   "cell_type": "code",
   "execution_count": 26,
   "metadata": {},
   "outputs": [
    {
     "name": "stdout",
     "output_type": "stream",
     "text": [
      "200\n"
     ]
    }
   ],
   "source": [
    "method = 'ConsultaMunicipio'\n",
    "\n",
    "params = {'Provincia': provincias_df[\"np\"].to_list()[0],\n",
    "         'Municipio':\"\"}\n",
    "response = requests.get('%s/%s' % (api_url, method), params=params)\n",
    "print(response.status_code)\n"
   ]
  },
  {
   "cell_type": "code",
   "execution_count": 41,
   "metadata": {},
   "outputs": [
    {
     "data": {
      "text/html": [
       "<div>\n",
       "<style scoped>\n",
       "    .dataframe tbody tr th:only-of-type {\n",
       "        vertical-align: middle;\n",
       "    }\n",
       "\n",
       "    .dataframe tbody tr th {\n",
       "        vertical-align: top;\n",
       "    }\n",
       "\n",
       "    .dataframe thead th {\n",
       "        text-align: right;\n",
       "    }\n",
       "</style>\n",
       "<table border=\"1\" class=\"dataframe\">\n",
       "  <thead>\n",
       "    <tr style=\"text-align: right;\">\n",
       "      <th></th>\n",
       "      <th>nm</th>\n",
       "      <th>locat</th>\n",
       "      <th>loine</th>\n",
       "      <th>cpine</th>\n",
       "      <th>cmine</th>\n",
       "    </tr>\n",
       "  </thead>\n",
       "  <tbody>\n",
       "    <tr>\n",
       "      <th>0</th>\n",
       "      <td>A BAÑA</td>\n",
       "      <td>{'cd': '15', 'cmc': '7'}</td>\n",
       "      <td>{'cp': '15', 'cm': '7'}</td>\n",
       "      <td>15</td>\n",
       "      <td>7</td>\n",
       "    </tr>\n",
       "    <tr>\n",
       "      <th>1</th>\n",
       "      <td>A CAPELA</td>\n",
       "      <td>{'cd': '15', 'cmc': '18'}</td>\n",
       "      <td>{'cp': '15', 'cm': '18'}</td>\n",
       "      <td>15</td>\n",
       "      <td>18</td>\n",
       "    </tr>\n",
       "    <tr>\n",
       "      <th>2</th>\n",
       "      <td>A CORUÑA</td>\n",
       "      <td>{'cd': '15', 'cmc': '900'}</td>\n",
       "      <td>{'cp': '15', 'cm': '30'}</td>\n",
       "      <td>15</td>\n",
       "      <td>30</td>\n",
       "    </tr>\n",
       "    <tr>\n",
       "      <th>3</th>\n",
       "      <td>A LARACHA</td>\n",
       "      <td>{'cd': '15', 'cmc': '42'}</td>\n",
       "      <td>{'cp': '15', 'cm': '41'}</td>\n",
       "      <td>15</td>\n",
       "      <td>41</td>\n",
       "    </tr>\n",
       "    <tr>\n",
       "      <th>4</th>\n",
       "      <td>A POBRA DO CARAMIÑAL</td>\n",
       "      <td>{'cd': '15', 'cmc': '68'}</td>\n",
       "      <td>{'cp': '15', 'cm': '67'}</td>\n",
       "      <td>15</td>\n",
       "      <td>67</td>\n",
       "    </tr>\n",
       "  </tbody>\n",
       "</table>\n",
       "</div>"
      ],
      "text/plain": [
       "                     nm                       locat                     loine  \\\n",
       "0                A BAÑA    {'cd': '15', 'cmc': '7'}   {'cp': '15', 'cm': '7'}   \n",
       "1              A CAPELA   {'cd': '15', 'cmc': '18'}  {'cp': '15', 'cm': '18'}   \n",
       "2              A CORUÑA  {'cd': '15', 'cmc': '900'}  {'cp': '15', 'cm': '30'}   \n",
       "3             A LARACHA   {'cd': '15', 'cmc': '42'}  {'cp': '15', 'cm': '41'}   \n",
       "4  A POBRA DO CARAMIÑAL   {'cd': '15', 'cmc': '68'}  {'cp': '15', 'cm': '67'}   \n",
       "\n",
       "  cpine cmine  \n",
       "0    15     7  \n",
       "1    15    18  \n",
       "2    15    30  \n",
       "3    15    41  \n",
       "4    15    67  "
      ]
     },
     "execution_count": 41,
     "metadata": {},
     "output_type": "execute_result"
    }
   ],
   "source": [
    "municipio_aux = xmltodict.parse(response.content)\n",
    "municipios_aux_df = pd.DataFrame(data=municipio_aux['consulta_municipiero']['municipiero']['muni'])\n",
    "municipios_aux_df[[\"cpine\",\"cmine\"]] = [[x[\"cp\"],x[\"cm\"]] for x in municipios_aux_df[\"loine\"]]\n",
    "municipios_aux_df[[\"cpine\",\"cmine\"]] = [[x[\"cp\"],x[\"cm\"]] for x in municipios_aux_df[\"loine\"]]\n",
    "\n",
    "municipios_aux_df.head()"
   ]
  },
  {
   "cell_type": "code",
   "execution_count": null,
   "metadata": {
    "id": "XTwFq9wc_RFV"
   },
   "outputs": [],
   "source": [
    "method = 'ConsultaProvincia'\n",
    "municipio = []\n",
    "for prov in provincias_df[\"np\"].to_list():\n",
    "    params = {'Provincia'=prov}\n",
    "    response = requests.get('%s/%s' % (api_url, method), params=params)\n",
    "    print(response.status_code)"
   ]
  }
 ],
 "metadata": {
  "colab": {
   "authorship_tag": "ABX9TyNWhP/FtjMi8Ow/PAjY+Nt2",
   "provenance": []
  },
  "kernelspec": {
   "display_name": "Python 3 (ipykernel)",
   "language": "python",
   "name": "python3"
  },
  "language_info": {
   "codemirror_mode": {
    "name": "ipython",
    "version": 3
   },
   "file_extension": ".py",
   "mimetype": "text/x-python",
   "name": "python",
   "nbconvert_exporter": "python",
   "pygments_lexer": "ipython3",
   "version": "3.9.7"
  }
 },
 "nbformat": 4,
 "nbformat_minor": 4
}
