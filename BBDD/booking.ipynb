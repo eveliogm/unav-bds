{
 "cells": [
  {
   "cell_type": "markdown",
   "metadata": {},
   "source": [
    "# Booking web scraping\n",
    "\n",
    "pip install JayDeBeApi<br/>\n",
    "pip install JPype1-py3<br/>\n",
    "pip install beautifulsoup4"
   ]
  },
  {
   "cell_type": "markdown",
   "metadata": {},
   "source": [
    "## Check BBDD"
   ]
  },
  {
   "cell_type": "code",
   "execution_count": null,
   "metadata": {},
   "outputs": [],
   "source": [
    "import jaydebeapi\n",
    "import jpype\n",
    "import os\n",
    "\n",
    "H2_JAR = 'C:/Users/e019656/conra/master/bbdd/2 sql/h2-1.4.199.jar'\n",
    "H2_URL = 'jdbc:h2:tcp://localhost:9092/~/test'\n",
    "H2_USER = 'sa'\n",
    "H2_PASS = ''\n",
    "JVM_PATH = 'C:/Users/e019656/conra/master/bbdd/2 sql/jre1.8.0_192/bin/server/jvm.dll'\n",
    "\n",
    "def create_connection():\n",
    "    if not jpype.isJVMStarted():\n",
    "        jpype.startJVM(JVM_PATH, '-Djava.class.path=%s' % H2_JAR)\n",
    "    return jaydebeapi.connect('org.h2.Driver', H2_URL, [H2_USER, H2_PASS], H2_JAR)\n",
    "\n",
    "conn = create_connection()\n",
    "curs = conn.cursor()\n",
    "curs.execute('SELECT * FROM world.country LIMIT 2')\n",
    "res = curs.fetchall()\n",
    "curs.close()\n",
    "conn.close()\n",
    "print(res)"
   ]
  },
  {
   "cell_type": "markdown",
   "metadata": {},
   "source": [
    "## Request"
   ]
  },
  {
   "cell_type": "code",
   "execution_count": null,
   "metadata": {},
   "outputs": [],
   "source": [
    "import requests\n",
    "\n",
    "# from fake_useragent import UserAgent\n",
    "# UserAgent().random\n",
    "user_agent = 'Mozilla/5.0 (Windows NT 4.0; WOW64) AppleWebKit/537.36 (KHTML, like Gecko) Chrome/37.0.2049.0 Safari/537.36'\n",
    "\n",
    "headers = {'User-Agent': user_agent}\n",
    "\n",
    "proxies = {}"
   ]
  },
  {
   "cell_type": "code",
   "execution_count": null,
   "metadata": {},
   "outputs": [],
   "source": [
    "'''\n",
    "https://www.booking.com/hotel/es/hostal-bermejo.en-gb.html?aid=304142&label=gen173nr-1FCAEoggI46AdIM1gEaEaIAQGYAQ\n",
    "m4ARfIAQzYAQHoAQH4AQmIAgGoAgO4ApWLn54GwAIB0gIkOGIzYTQzMDMtOTI1YS00OWRjLTgwODUtNTI2YmJhNzZmNmI32AIG4AIB&checkin=2023-02-05;\n",
    "checkout=2023-02-06;dest_id=-390625;dest_type=city;dist=0;group_adults=2;group_children=0;hapos=1;hpos=1;no_rooms=1;\n",
    "req_adults=2;req_children=0;room1=A%2CA;sb_price_type=total;soh=1;sohad=1;sr_order=popularity;srepoch=1674036679;\n",
    "srpvid=8fce47a198ba0546;type=total;ucfs=1&#no_availability_msg\n",
    "'''\n",
    "\n",
    "url_booking = 'https://www.booking.com/hotel/es/hostal-bermejo.en-gb.html?'\\\n",
    "      'checkin=2023-02-05;checkout=2023-02-06;group_adults=2;group_children=0;no_rooms=1;room1=A%2CA'"
   ]
  },
  {
   "cell_type": "code",
   "execution_count": null,
   "metadata": {},
   "outputs": [],
   "source": [
    "response = requests.get(url_booking, headers=headers, proxies=proxies)\n",
    "print(response.status_code)"
   ]
  },
  {
   "cell_type": "markdown",
   "metadata": {},
   "source": [
    "## Parse"
   ]
  },
  {
   "cell_type": "code",
   "execution_count": null,
   "metadata": {},
   "outputs": [],
   "source": [
    "from bs4 import BeautifulSoup\n",
    "import pandas as pd\n",
    "\n",
    "soap = BeautifulSoup(response.content, 'lxml')\n",
    "\n",
    "# F12 to find it\n",
    "table_tag = soap.findAll('table', {'class':'hprt-table'})\n",
    "print(len(table_tag), type(table_tag[0]))"
   ]
  },
  {
   "cell_type": "code",
   "execution_count": null,
   "metadata": {},
   "outputs": [],
   "source": [
    "table_text = str(table_tag)\n",
    "\n",
    "table_df = pd.read_html(table_text, flavor='lxml')[0]\n",
    "table_df.head()"
   ]
  },
  {
   "cell_type": "code",
   "execution_count": null,
   "metadata": {},
   "outputs": [],
   "source": [
    "import re\n",
    "\n",
    "def extract_price(price_str):\n",
    "    price_re = '[\\.\\d]+,?\\d*'\n",
    "    prices = re.findall(price_re, price_str)\n",
    "    return prices[0] if len(prices) > 0 else None\n",
    "\n",
    "table_df['price'] = table_df[\"Today's price\"].apply(lambda x: extract_price(x))\n",
    "table_df['type'] = table_df[\"Room type\"].apply(lambda x: x.replace(\"'\",\"\"))\n",
    "table_df['choices'] = table_df[\"Your choices\"].apply(lambda x: x.replace(\"'\",\"\"))\n",
    "table_df = table_df[['type','choices','price']]\n",
    "table_df.head()"
   ]
  },
  {
   "cell_type": "markdown",
   "metadata": {},
   "source": [
    "## Exercise\n",
    "1. Create a new schema called \"booking\"<br/>\n",
    "2. Create 2 tables:<br/>\n",
    "    2.1. Table \"request\" -> ID, URL<br/>\n",
    "    2.2. Table \"respone\" -> ID, type, options, price, rooms<br/>\n",
    "3. Insert a new request and its response"
   ]
  },
  {
   "cell_type": "code",
   "execution_count": null,
   "metadata": {},
   "outputs": [],
   "source": []
  }
 ],
 "metadata": {
  "kernelspec": {
   "display_name": "Python 3 (ipykernel)",
   "language": "python",
   "name": "python3"
  },
  "language_info": {
   "codemirror_mode": {
    "name": "ipython",
    "version": 3
   },
   "file_extension": ".py",
   "mimetype": "text/x-python",
   "name": "python",
   "nbconvert_exporter": "python",
   "pygments_lexer": "ipython3",
   "version": "3.9.7"
  }
 },
 "nbformat": 4,
 "nbformat_minor": 4
}
