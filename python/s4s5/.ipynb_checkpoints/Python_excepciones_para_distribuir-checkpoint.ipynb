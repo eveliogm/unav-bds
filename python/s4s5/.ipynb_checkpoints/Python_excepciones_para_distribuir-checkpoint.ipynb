{
 "cells": [
  {
   "cell_type": "markdown",
   "metadata": {
    "id": "QQM7oRc6eMui"
   },
   "source": [
    "# Python para el análisis de datos -  UNAV 2020-2021\n",
    "---\n",
    "\n",
    "# Manejo de errores y excepciones"
   ]
  },
  {
   "cell_type": "markdown",
   "metadata": {
    "id": "Zx1R1Fm7eMu-"
   },
   "source": [
    "## Manejo de errores <a name=\"Manejo de errores\"></a> \n",
    "[Volver al índice](#indice)"
   ]
  },
  {
   "cell_type": "markdown",
   "metadata": {
    "id": "4JTD7SzHeMu-"
   },
   "source": [
    "En un programa podemos encontrarnos con distintos tipos de errores pero a grandes rasgos podemos decir que todos los errores pertenecen a una de las siguientes categorías.\n",
    "\n",
    "**Errores de sintaxis:** estos errores son seguramente los más simples de resolver, pues son detectados por el intérprete (o por el compilador, según el tipo de lenguaje que estemos utilizando) al procesar el código fuente y generalmente son consecuencia de equivocaciones al escribir el programa. En el caso de Python estos errores son indicados con un mensaje SyntaxError.\n",
    "\n",
    "**Errores de ejecución:** estos errores aparecen durante la ejecución del programa,su origen puede ser diverso y generalmente dependen de la parametrización concreta que se ha utilizado.\n",
    "Es por ello que el resto de la unidad nos centraremos en cómo preparar nuestros programas para lidiar con este tipo de errores. Comunmente son llamados excepciones.\n",
    "\n",
    "Además, la sesión de debug hará que tengamos la capacidad total de detectarlos."
   ]
  },
  {
   "cell_type": "markdown",
   "metadata": {
    "id": "fJHwTDSYeOzz"
   },
   "source": [
    "## Excepciones y Try-Catch <a name=\"Excepciones y Try-Catch\"></a> \n",
    "[Volver al índice](#indice)"
   ]
  },
  {
   "cell_type": "code",
   "execution_count": null,
   "metadata": {
    "colab": {
     "base_uri": "https://localhost:8080/",
     "height": 200
    },
    "executionInfo": {
     "elapsed": 210,
     "status": "error",
     "timestamp": 1666346425061,
     "user": {
      "displayName": "Guillermo martín",
      "userId": "05540387787462883316"
     },
     "user_tz": -120
    },
    "id": "q9YcFK3yeMu-",
    "outputId": "d817003b-5db6-426b-8a44-5f8bf27a79a9"
   },
   "outputs": [
    {
     "ename": "ZeroDivisionError",
     "evalue": "ignored",
     "output_type": "error",
     "traceback": [
      "\u001b[0;31m---------------------------------------------------------------------------\u001b[0m",
      "\u001b[0;31mZeroDivisionError\u001b[0m                         Traceback (most recent call last)",
      "\u001b[0;32m<ipython-input-7-07751846ea33>\u001b[0m in \u001b[0;36m<module>\u001b[0;34m\u001b[0m\n\u001b[1;32m      1\u001b[0m \u001b[0mdividendo\u001b[0m \u001b[0;34m=\u001b[0m \u001b[0;36m5\u001b[0m\u001b[0;34m\u001b[0m\u001b[0;34m\u001b[0m\u001b[0m\n\u001b[1;32m      2\u001b[0m \u001b[0mdivisor\u001b[0m \u001b[0;34m=\u001b[0m \u001b[0;36m0\u001b[0m\u001b[0;34m\u001b[0m\u001b[0;34m\u001b[0m\u001b[0m\n\u001b[0;32m----> 3\u001b[0;31m \u001b[0mdividendo\u001b[0m \u001b[0;34m/\u001b[0m \u001b[0mdivisor\u001b[0m\u001b[0;34m\u001b[0m\u001b[0;34m\u001b[0m\u001b[0m\n\u001b[0m",
      "\u001b[0;31mZeroDivisionError\u001b[0m: division by zero"
     ]
    }
   ],
   "source": [
    "dividendo = 5\n",
    "divisor = 0\n",
    "dividendo / divisor"
   ]
  },
  {
   "cell_type": "markdown",
   "metadata": {
    "id": "lbPK7GsjeMu-"
   },
   "source": [
    "Para el manejo de excepciones los lenguajes proveen ciertas palabras reservadas, que nos permiten manejar las excepciones que puedan surgir y tomar acciones de recuperación para evitar la interrupción del programa o, al menos, para realizar algunas acciones adicionales antes de interrumpir el programa.\n",
    "\n",
    "En el caso de Python, el manejo de excepciones se hace mediante los bloques que utilizan las sentencias:\n",
    "\n",
    "- try: dentro del bloque try se ubica todo el código que pueda llegar a levantar una excepción, se utiliza el término levantar para referirse a la acción de generar una excepción.\n",
    "\n",
    "- except: en el bloque except se ubica el código que queremos que se realice cuando se lanza una excepción en el bloque try.\n",
    "\n",
    "\n"
   ]
  },
  {
   "cell_type": "code",
   "execution_count": null,
   "metadata": {
    "colab": {
     "base_uri": "https://localhost:8080/"
    },
    "executionInfo": {
     "elapsed": 273,
     "status": "ok",
     "timestamp": 1636794093114,
     "user": {
      "displayName": "Guillermo martín",
      "photoUrl": "https://lh3.googleusercontent.com/a/default-user=s64",
      "userId": "05540387787462883316"
     },
     "user_tz": -60
    },
    "id": "F9Nbl125eMu-",
    "outputId": "52241873-18e2-4d0f-b2d9-de497ef517b7"
   },
   "outputs": [
    {
     "name": "stdout",
     "output_type": "stream",
     "text": [
      "No se permite la división por cero\n"
     ]
    }
   ],
   "source": [
    "try:\n",
    "    cociente = dividendo / divisor\n",
    "except:\n",
    "    print(\"No se permite la división por cero\")"
   ]
  },
  {
   "cell_type": "markdown",
   "metadata": {
    "id": "hDPIXHImeMu-"
   },
   "source": [
    "Dado que dentro de un mismo bloque try pueden producirse excepciones de distinto tipo, es posible utilizar varios bloques except, cada uno para capturar un tipo distinto de excepción.\n",
    "\n",
    "Esto se hace especificando a continuación de la sentencia except el nombre de la excepción que se pretende capturar. Un mismo bloque except puede atrapar varios tipos de excepciones, lo cual se hace especificando los nombres de la excepciones separados por comas a continuación de la palabra except. Es importante destacar que si bien luego de un bloque try puede haber varios bloques except, se ejecutará, a lo sumo, uno de ellos."
   ]
  },
  {
   "cell_type": "code",
   "execution_count": 4,
   "metadata": {
    "colab": {
     "base_uri": "https://localhost:8080/"
    },
    "executionInfo": {
     "elapsed": 194,
     "status": "ok",
     "timestamp": 1666346435415,
     "user": {
      "displayName": "Guillermo martín",
      "userId": "05540387787462883316"
     },
     "user_tz": -120
    },
    "id": "GLWz0Y7vFSdz",
    "outputId": "f666312a-6dcf-4bd3-a9cf-aef17a930daa"
   },
   "outputs": [
    {
     "ename": "FileNotFoundError",
     "evalue": "[Errno 2] No such file or directory: 'miarchivo.txt'",
     "output_type": "error",
     "traceback": [
      "\u001b[0;31m---------------------------------------------------------------------------\u001b[0m",
      "\u001b[0;31mFileNotFoundError\u001b[0m                         Traceback (most recent call last)",
      "Cell \u001b[0;32mIn [4], line 3\u001b[0m\n\u001b[1;32m      1\u001b[0m \u001b[38;5;28;01mtry\u001b[39;00m:\n\u001b[1;32m      2\u001b[0m     \u001b[38;5;66;03m# cociente = dividemdo / divisor\u001b[39;00m\n\u001b[0;32m----> 3\u001b[0m     archivo \u001b[38;5;241m=\u001b[39m \u001b[38;5;28;43mopen\u001b[39;49m\u001b[43m(\u001b[49m\u001b[38;5;124;43m\"\u001b[39;49m\u001b[38;5;124;43mmiarchivo.txt\u001b[39;49m\u001b[38;5;124;43m\"\u001b[39;49m\u001b[43m)\u001b[49m\n\u001b[1;32m      4\u001b[0m \u001b[38;5;28;01mexcept\u001b[39;00m \u001b[38;5;167;01mZeroDivisionError\u001b[39;00m:\n\u001b[1;32m      5\u001b[0m     \u001b[38;5;28mprint\u001b[39m(\u001b[38;5;124m\"\u001b[39m\u001b[38;5;124mNo se permite la división por cero\u001b[39m\u001b[38;5;124m\"\u001b[39m)\n",
      "File \u001b[0;32m~/opt/anaconda3/envs/unav00/lib/python3.10/site-packages/IPython/core/interactiveshell.py:282\u001b[0m, in \u001b[0;36m_modified_open\u001b[0;34m(file, *args, **kwargs)\u001b[0m\n\u001b[1;32m    275\u001b[0m \u001b[38;5;28;01mif\u001b[39;00m file \u001b[38;5;129;01min\u001b[39;00m {\u001b[38;5;241m0\u001b[39m, \u001b[38;5;241m1\u001b[39m, \u001b[38;5;241m2\u001b[39m}:\n\u001b[1;32m    276\u001b[0m     \u001b[38;5;28;01mraise\u001b[39;00m \u001b[38;5;167;01mValueError\u001b[39;00m(\n\u001b[1;32m    277\u001b[0m         \u001b[38;5;124mf\u001b[39m\u001b[38;5;124m\"\u001b[39m\u001b[38;5;124mIPython won\u001b[39m\u001b[38;5;124m'\u001b[39m\u001b[38;5;124mt let you open fd=\u001b[39m\u001b[38;5;132;01m{\u001b[39;00mfile\u001b[38;5;132;01m}\u001b[39;00m\u001b[38;5;124m by default \u001b[39m\u001b[38;5;124m\"\u001b[39m\n\u001b[1;32m    278\u001b[0m         \u001b[38;5;124m\"\u001b[39m\u001b[38;5;124mas it is likely to crash IPython. If you know what you are doing, \u001b[39m\u001b[38;5;124m\"\u001b[39m\n\u001b[1;32m    279\u001b[0m         \u001b[38;5;124m\"\u001b[39m\u001b[38;5;124myou can use builtins\u001b[39m\u001b[38;5;124m'\u001b[39m\u001b[38;5;124m open.\u001b[39m\u001b[38;5;124m\"\u001b[39m\n\u001b[1;32m    280\u001b[0m     )\n\u001b[0;32m--> 282\u001b[0m \u001b[38;5;28;01mreturn\u001b[39;00m \u001b[43mio_open\u001b[49m\u001b[43m(\u001b[49m\u001b[43mfile\u001b[49m\u001b[43m,\u001b[49m\u001b[43m \u001b[49m\u001b[38;5;241;43m*\u001b[39;49m\u001b[43margs\u001b[49m\u001b[43m,\u001b[49m\u001b[43m \u001b[49m\u001b[38;5;241;43m*\u001b[39;49m\u001b[38;5;241;43m*\u001b[39;49m\u001b[43mkwargs\u001b[49m\u001b[43m)\u001b[49m\n",
      "\u001b[0;31mFileNotFoundError\u001b[0m: [Errno 2] No such file or directory: 'miarchivo.txt'"
     ]
    }
   ],
   "source": [
    "try:\n",
    "    # cociente = dividemdo / divisor\n",
    "    archivo = open(\"miarchivo.txt\")\n",
    "except ZeroDivisionError:\n",
    "    print(\"No se permite la división por cero\")\n",
    "# except:\n",
    "#     print(\"cómo lanzar esto?\")"
   ]
  },
  {
   "cell_type": "markdown",
   "metadata": {
    "id": "VXeUh6FCmqIY"
   },
   "source": [
    "## Finally <a name=\"Finally\"></a> \n",
    "[Volver al índice](#indice)"
   ]
  },
  {
   "cell_type": "markdown",
   "metadata": {
    "id": "k9P4H8QoFOHF"
   },
   "source": [
    "Puede ubicarse un bloque **finally** donde se escriben las sentencias de finalización, que son típicamente acciones de limpieza. La particularidad del bloque finally es que se ejecuta siempre, haya surgido una excepción o no. Es posible tener un bloque try sólo con finally, sin except."
   ]
  },
  {
   "cell_type": "code",
   "execution_count": 3,
   "metadata": {
    "colab": {
     "base_uri": "https://localhost:8080/",
     "height": 373
    },
    "executionInfo": {
     "elapsed": 210,
     "status": "error",
     "timestamp": 1666346633030,
     "user": {
      "displayName": "Guillermo martín",
      "userId": "05540387787462883316"
     },
     "user_tz": -120
    },
    "id": "HnsUGWR1eMu_",
    "outputId": "525bc7aa-a16a-4fdc-f1f8-2814c4a9ed39"
   },
   "outputs": [
    {
     "name": "stdout",
     "output_type": "stream",
     "text": [
      "No se permite la división por cero\n",
      "Esto siempre se ejecuta\n",
      "esto no te creas que siempre\n"
     ]
    },
    {
     "ename": "TypeError",
     "evalue": "unsupported operand type(s) for /: 'int' and 'NoneType'",
     "output_type": "error",
     "traceback": [
      "\u001b[0;31m---------------------------------------------------------------------------\u001b[0m",
      "\u001b[0;31mTypeError\u001b[0m                                 Traceback (most recent call last)",
      "Cell \u001b[0;32mIn [3], line 16\u001b[0m\n\u001b[1;32m     12\u001b[0m     \u001b[38;5;28mprint\u001b[39m(\u001b[38;5;124m\"\u001b[39m\u001b[38;5;124mesto no te creas que siempre\u001b[39m\u001b[38;5;124m\"\u001b[39m)\n\u001b[1;32m     15\u001b[0m a\u001b[38;5;241m=\u001b[39m dividir(\u001b[38;5;241m7\u001b[39m,\u001b[38;5;241m0\u001b[39m)\n\u001b[0;32m---> 16\u001b[0m h\u001b[38;5;241m=\u001b[39m \u001b[38;5;241;43m5\u001b[39;49m\u001b[38;5;241;43m/\u001b[39;49m\u001b[43ma\u001b[49m\n\u001b[1;32m     18\u001b[0m \u001b[38;5;28mprint\u001b[39m(\u001b[38;5;124m\"\u001b[39m\u001b[38;5;124my esto se ejecuta?\u001b[39m\u001b[38;5;124m\"\u001b[39m)\n",
      "\u001b[0;31mTypeError\u001b[0m: unsupported operand type(s) for /: 'int' and 'NoneType'"
     ]
    }
   ],
   "source": [
    "def dividir(dividendo, divisor):\n",
    "    try:\n",
    "        cociente= 3\n",
    "        cociente = dividendo / divisor\n",
    "        #      archivo = open(\"miarchivo.txt\")\n",
    "        return cociente\n",
    "    except ZeroDivisionError:\n",
    "        print(\"No se permite la división por cero\")\n",
    "    finally:\n",
    "        print(\"Esto siempre se ejecuta\")\n",
    "\n",
    "    print(\"esto no te creas que siempre\")\n",
    "\n",
    "\n",
    "a= dividir(7,0)\n",
    "h= 5/a\n",
    "\n",
    "print(\"y esto se ejecuta?\")"
   ]
  },
  {
   "cell_type": "markdown",
   "metadata": {
    "id": "nATaDTWjm6rB"
   },
   "source": [
    "## Raise <a name=\"Raise\"></a> \n",
    "[Volver al índice](#indice)"
   ]
  },
  {
   "cell_type": "markdown",
   "metadata": {
    "id": "DjpJfZ9WeMu_"
   },
   "source": [
    "Cuando capturamos una excepción, es posible que después de realizar algún procesamiento particular del caso se quiera, la excepción se propague hacia la función que había invocado a la función actual. Para hacer esto Python nos brinda la instrucción raise.\n",
    "\n",
    "Si se invoca esta instrucción dentro de un bloque except, sin pasarle parámetros, Python levantará la excepción atrapada por ese bloque.\n",
    "\n",
    "También podría ocurrir que en lugar de propagar la excepción tal cual fue atrapada, quisiéramos lanzar una excepción distinta, más significativa para quien invocó a la función actual."
   ]
  },
  {
   "cell_type": "code",
   "execution_count": 5,
   "metadata": {
    "colab": {
     "base_uri": "https://localhost:8080/",
     "height": 460
    },
    "executionInfo": {
     "elapsed": 267,
     "status": "error",
     "timestamp": 1636795051091,
     "user": {
      "displayName": "Guillermo martín",
      "photoUrl": "https://lh3.googleusercontent.com/a/default-user=s64",
      "userId": "05540387787462883316"
     },
     "user_tz": -60
    },
    "id": "OUhiyJBLeMu_",
    "outputId": "cd05d83c-5153-4337-86e2-8be656567101"
   },
   "outputs": [
    {
     "name": "stdout",
     "output_type": "stream",
     "text": [
      "Esto siempre se ejecuta\n"
     ]
    },
    {
     "ename": "ZeroDivisionError",
     "evalue": "El divisor no puede ser cero vale?",
     "output_type": "error",
     "traceback": [
      "\u001b[0;31m---------------------------------------------------------------------------\u001b[0m",
      "\u001b[0;31mZeroDivisionError\u001b[0m                         Traceback (most recent call last)",
      "Cell \u001b[0;32mIn [5], line 3\u001b[0m, in \u001b[0;36mdividir\u001b[0;34m(dividendo, divisor)\u001b[0m\n\u001b[1;32m      2\u001b[0m     \u001b[38;5;28;01mtry\u001b[39;00m:\n\u001b[0;32m----> 3\u001b[0m         cociente \u001b[38;5;241m=\u001b[39m \u001b[43mdividendo\u001b[49m\u001b[43m \u001b[49m\u001b[38;5;241;43m/\u001b[39;49m\u001b[43m \u001b[49m\u001b[43mdivisor\u001b[49m\n\u001b[1;32m      4\u001b[0m \u001b[38;5;66;03m#      archivo = open(\"miarchivo.txt\")\u001b[39;00m\n",
      "\u001b[0;31mZeroDivisionError\u001b[0m: division by zero",
      "\nDuring handling of the above exception, another exception occurred:\n",
      "\u001b[0;31mZeroDivisionError\u001b[0m                         Traceback (most recent call last)",
      "Cell \u001b[0;32mIn [5], line 13\u001b[0m\n\u001b[1;32m     10\u001b[0m     \u001b[38;5;28mprint\u001b[39m(\u001b[38;5;124m\"\u001b[39m\u001b[38;5;124mesto no te creas que siempre\u001b[39m\u001b[38;5;124m\"\u001b[39m)\n\u001b[1;32m     11\u001b[0m     \u001b[38;5;28;01mreturn\u001b[39;00m cociente\n\u001b[0;32m---> 13\u001b[0m \u001b[43mdividir\u001b[49m\u001b[43m(\u001b[49m\u001b[38;5;241;43m7\u001b[39;49m\u001b[43m,\u001b[49m\u001b[38;5;241;43m0\u001b[39;49m\u001b[43m)\u001b[49m\n\u001b[1;32m     14\u001b[0m \u001b[38;5;28mprint\u001b[39m(\u001b[38;5;124m\"\u001b[39m\u001b[38;5;124my esto se ejecuta?\u001b[39m\u001b[38;5;124m\"\u001b[39m)\n",
      "Cell \u001b[0;32mIn [5], line 6\u001b[0m, in \u001b[0;36mdividir\u001b[0;34m(dividendo, divisor)\u001b[0m\n\u001b[1;32m      4\u001b[0m \u001b[38;5;66;03m#      archivo = open(\"miarchivo.txt\")\u001b[39;00m\n\u001b[1;32m      5\u001b[0m     \u001b[38;5;28;01mexcept\u001b[39;00m \u001b[38;5;167;01mZeroDivisionError\u001b[39;00m:\n\u001b[0;32m----> 6\u001b[0m         \u001b[38;5;28;01mraise\u001b[39;00m \u001b[38;5;167;01mZeroDivisionError\u001b[39;00m(\u001b[38;5;124m\"\u001b[39m\u001b[38;5;124mEl divisor no puede ser cero vale?\u001b[39m\u001b[38;5;124m\"\u001b[39m)\n\u001b[1;32m      7\u001b[0m     \u001b[38;5;28;01mfinally\u001b[39;00m:\n\u001b[1;32m      8\u001b[0m         \u001b[38;5;28mprint\u001b[39m(\u001b[38;5;124m\"\u001b[39m\u001b[38;5;124mEsto siempre se ejecuta\u001b[39m\u001b[38;5;124m\"\u001b[39m)\n",
      "\u001b[0;31mZeroDivisionError\u001b[0m: El divisor no puede ser cero vale?"
     ]
    }
   ],
   "source": [
    "def dividir(dividendo, divisor):\n",
    "    try:\n",
    "        cociente = dividendo / divisor\n",
    "#      archivo = open(\"miarchivo.txt\")\n",
    "    except ZeroDivisionError:\n",
    "        raise ZeroDivisionError(\"El divisor no puede ser cero vale?\")\n",
    "    finally:\n",
    "        print(\"Esto siempre se ejecuta\")\n",
    "\n",
    "    print(\"esto no te creas que siempre\")\n",
    "    return cociente\n",
    "\n",
    "dividir(7,0)\n",
    "print(\"y esto se ejecuta?\")"
   ]
  },
  {
   "cell_type": "markdown",
   "metadata": {
    "id": "36r7by02pxJa"
   },
   "source": [
    "## Acceso a la excepción <a name=\"Acceso a la excepción\"></a> \n",
    "[Volver al índice](#indice)"
   ]
  },
  {
   "cell_type": "markdown",
   "metadata": {
    "id": "IBa4nOuReMu_"
   },
   "source": [
    "Para acceder a la información de contexto estando dentro de un bloque except existen dos alternativas:\n",
    "- Se puede utilizar la función exc_info del módulo sys. Esta función devuelve una tupla con información sobre la última excepción atrapada en un bloque except. Dicha tupla contiene tres elementos: el tipo de excepción, el valor de la excepción y las llamadas realizadas."
   ]
  },
  {
   "cell_type": "code",
   "execution_count": 7,
   "metadata": {
    "colab": {
     "base_uri": "https://localhost:8080/",
     "height": 435
    },
    "executionInfo": {
     "elapsed": 253,
     "status": "error",
     "timestamp": 1636795134578,
     "user": {
      "displayName": "Guillermo martín",
      "photoUrl": "https://lh3.googleusercontent.com/a/default-user=s64",
      "userId": "05540387787462883316"
     },
     "user_tz": -60
    },
    "id": "_ugYqllPeMu_",
    "outputId": "be0ef267-b6ee-490e-c521-2526d4f9e6e5"
   },
   "outputs": [
    {
     "name": "stdout",
     "output_type": "stream",
     "text": [
      "0 <class 'ZeroDivisionError'>\n",
      "1 division by zero\n",
      "2 <traceback object at 0x7fed71690e00>\n",
      "Esto siempre se ejecuta\n",
      "esto no te creas que siempre\n"
     ]
    },
    {
     "ename": "UnboundLocalError",
     "evalue": "local variable 'cociente' referenced before assignment",
     "output_type": "error",
     "traceback": [
      "\u001b[0;31m---------------------------------------------------------------------------\u001b[0m",
      "\u001b[0;31mUnboundLocalError\u001b[0m                         Traceback (most recent call last)",
      "Cell \u001b[0;32mIn [7], line 17\u001b[0m\n\u001b[1;32m     14\u001b[0m     \u001b[38;5;28mprint\u001b[39m(\u001b[38;5;124m\"\u001b[39m\u001b[38;5;124mesto no te creas que siempre\u001b[39m\u001b[38;5;124m\"\u001b[39m)\n\u001b[1;32m     15\u001b[0m     \u001b[38;5;28;01mreturn\u001b[39;00m cociente\n\u001b[0;32m---> 17\u001b[0m \u001b[43mdividir\u001b[49m\u001b[43m(\u001b[49m\u001b[38;5;241;43m7\u001b[39;49m\u001b[43m,\u001b[49m\u001b[38;5;241;43m0\u001b[39;49m\u001b[43m)\u001b[49m\n\u001b[1;32m     18\u001b[0m \u001b[38;5;28mprint\u001b[39m(\u001b[38;5;124m\"\u001b[39m\u001b[38;5;124my esto se ejecuta?\u001b[39m\u001b[38;5;124m\"\u001b[39m)\n",
      "Cell \u001b[0;32mIn [7], line 15\u001b[0m, in \u001b[0;36mdividir\u001b[0;34m(dividendo, divisor)\u001b[0m\n\u001b[1;32m     12\u001b[0m     \u001b[38;5;28mprint\u001b[39m(\u001b[38;5;124m\"\u001b[39m\u001b[38;5;124mEsto siempre se ejecuta\u001b[39m\u001b[38;5;124m\"\u001b[39m)\n\u001b[1;32m     14\u001b[0m \u001b[38;5;28mprint\u001b[39m(\u001b[38;5;124m\"\u001b[39m\u001b[38;5;124mesto no te creas que siempre\u001b[39m\u001b[38;5;124m\"\u001b[39m)\n\u001b[0;32m---> 15\u001b[0m \u001b[38;5;28;01mreturn\u001b[39;00m \u001b[43mcociente\u001b[49m\n",
      "\u001b[0;31mUnboundLocalError\u001b[0m: local variable 'cociente' referenced before assignment"
     ]
    }
   ],
   "source": [
    "import sys\n",
    "def dividir(dividendo, divisor):\n",
    "    try:\n",
    "        cociente = dividendo / divisor\n",
    "#      archivo = open(\"miarchivo.txt\")\n",
    "    except ZeroDivisionError:\n",
    "        print(\"0\", sys.exc_info()[0])\n",
    "        print(\"1\", sys.exc_info()[1])\n",
    "        print(\"2\", sys.exc_info()[2])\n",
    "\n",
    "    finally:\n",
    "        print(\"Esto siempre se ejecuta\")\n",
    "\n",
    "    print(\"esto no te creas que siempre\")\n",
    "    return cociente\n",
    "\n",
    "dividir(7,0)\n",
    "print(\"y esto se ejecuta?\")"
   ]
  },
  {
   "cell_type": "markdown",
   "metadata": {
    "id": "SHJVzjzWeMu_"
   },
   "source": [
    "- Otra forma de obtener información sobre la excepción es utilizando la misma sentencia except, pasándole un identificador para que almacene una referencia a la excepción atrapada."
   ]
  },
  {
   "cell_type": "code",
   "execution_count": 8,
   "metadata": {
    "colab": {
     "base_uri": "https://localhost:8080/",
     "height": 418
    },
    "executionInfo": {
     "elapsed": 241,
     "status": "error",
     "timestamp": 1636795177981,
     "user": {
      "displayName": "Guillermo martín",
      "photoUrl": "https://lh3.googleusercontent.com/a/default-user=s64",
      "userId": "05540387787462883316"
     },
     "user_tz": -60
    },
    "id": "h8PtxhpWeMvA",
    "outputId": "c53bfedb-2910-4503-d92b-4202994f704b"
   },
   "outputs": [
    {
     "name": "stdout",
     "output_type": "stream",
     "text": [
      "imprimir excepcion capturada division by zero\n",
      "imprimir excepcion capturada ('division by zero',)\n",
      "Esto siempre se ejecuta\n",
      "esto no te creas que siempre\n"
     ]
    },
    {
     "ename": "UnboundLocalError",
     "evalue": "local variable 'cociente' referenced before assignment",
     "output_type": "error",
     "traceback": [
      "\u001b[0;31m---------------------------------------------------------------------------\u001b[0m",
      "\u001b[0;31mUnboundLocalError\u001b[0m                         Traceback (most recent call last)",
      "Cell \u001b[0;32mIn [8], line 16\u001b[0m\n\u001b[1;32m     13\u001b[0m     \u001b[38;5;28mprint\u001b[39m(\u001b[38;5;124m\"\u001b[39m\u001b[38;5;124mesto no te creas que siempre\u001b[39m\u001b[38;5;124m\"\u001b[39m)\n\u001b[1;32m     14\u001b[0m     \u001b[38;5;28;01mreturn\u001b[39;00m cociente\n\u001b[0;32m---> 16\u001b[0m \u001b[43mdividir\u001b[49m\u001b[43m(\u001b[49m\u001b[38;5;241;43m7\u001b[39;49m\u001b[43m,\u001b[49m\u001b[38;5;241;43m0\u001b[39;49m\u001b[43m)\u001b[49m\n\u001b[1;32m     17\u001b[0m \u001b[38;5;28mprint\u001b[39m(\u001b[38;5;124m\"\u001b[39m\u001b[38;5;124my esto se ejecuta?\u001b[39m\u001b[38;5;124m\"\u001b[39m)\n",
      "Cell \u001b[0;32mIn [8], line 14\u001b[0m, in \u001b[0;36mdividir\u001b[0;34m(dividendo, divisor)\u001b[0m\n\u001b[1;32m     11\u001b[0m     \u001b[38;5;28mprint\u001b[39m(\u001b[38;5;124m\"\u001b[39m\u001b[38;5;124mEsto siempre se ejecuta\u001b[39m\u001b[38;5;124m\"\u001b[39m)\n\u001b[1;32m     13\u001b[0m \u001b[38;5;28mprint\u001b[39m(\u001b[38;5;124m\"\u001b[39m\u001b[38;5;124mesto no te creas que siempre\u001b[39m\u001b[38;5;124m\"\u001b[39m)\n\u001b[0;32m---> 14\u001b[0m \u001b[38;5;28;01mreturn\u001b[39;00m \u001b[43mcociente\u001b[49m\n",
      "\u001b[0;31mUnboundLocalError\u001b[0m: local variable 'cociente' referenced before assignment"
     ]
    }
   ],
   "source": [
    "def dividir(dividendo, divisor):\n",
    "    try:\n",
    "        cociente = dividendo / divisor\n",
    "#      archivo = open(\"miarchivo.txt\")\n",
    "\n",
    "    except ZeroDivisionError as err:\n",
    "        print(\"imprimir excepcion capturada\", err)\n",
    "        print(\"imprimir excepcion capturada\", err.args)\n",
    "\n",
    "    finally:\n",
    "        print(\"Esto siempre se ejecuta\")\n",
    "\n",
    "    print(\"esto no te creas que siempre\")\n",
    "    return cociente\n",
    "\n",
    "dividir(7,0)\n",
    "print(\"y esto se ejecuta?\")"
   ]
  },
  {
   "cell_type": "code",
   "execution_count": null,
   "metadata": {},
   "outputs": [],
   "source": []
  }
 ],
 "metadata": {
  "colab": {
   "provenance": []
  },
  "kernelspec": {
   "display_name": "Python 3 (ipykernel)",
   "language": "python",
   "name": "python3"
  },
  "language_info": {
   "codemirror_mode": {
    "name": "ipython",
    "version": 3
   },
   "file_extension": ".py",
   "mimetype": "text/x-python",
   "name": "python",
   "nbconvert_exporter": "python",
   "pygments_lexer": "ipython3",
   "version": "3.10.8"
  }
 },
 "nbformat": 4,
 "nbformat_minor": 4
}
