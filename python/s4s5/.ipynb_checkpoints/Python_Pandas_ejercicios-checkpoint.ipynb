{
 "cells": [
  {
   "cell_type": "markdown",
   "id": "assumed-pursuit",
   "metadata": {
    "id": "assumed-pursuit"
   },
   "source": [
    "# Python para el análisis de datos -  UNAV\n",
    "---\n",
    "\n",
    "# Pandas - Ejercicios"
   ]
  },
  {
   "cell_type": "markdown",
   "id": "liberal-payment",
   "metadata": {
    "id": "liberal-payment"
   },
   "source": [
    "## Ejercicios<a name=\"ejercicios\"></a> \n",
    "[Volver al índice](#indice)"
   ]
  },
  {
   "cell_type": "markdown",
   "id": "conditional-hardwood",
   "metadata": {
    "id": "conditional-hardwood"
   },
   "source": [
    "#### Bloque 1: nucleos de población (NucleosPoblacion.csv)\n",
    "\n",
    "Columnas:\n",
    "- FID: el identificador de registro.\n",
    "- Texto: nombre de la población.\n",
    "- Poblacion: número de habitantes.\n",
    "- CodMun: código postal.\n",
    "- Municipio: nombre del municipio (usa este para los ejercicios).\n",
    "- CodProvin: código provincia.\n",
    "- Provincia: nombre de la provincia.\n",
    "- X: longitud en grados.\n",
    "- Y: latitud en grados."
   ]
  },
  {
   "cell_type": "markdown",
   "id": "random-gallery",
   "metadata": {
    "id": "random-gallery"
   },
   "source": [
    "Carga el fichero 'nucleos_poblacion.csv', explora con las funciones _head_ y _tail_ el principio y el final."
   ]
  },
  {
   "cell_type": "code",
   "execution_count": 2,
   "id": "moved-tanzania",
   "metadata": {
    "id": "moved-tanzania"
   },
   "outputs": [
    {
     "data": {
      "text/html": [
       "<div>\n",
       "<style scoped>\n",
       "    .dataframe tbody tr th:only-of-type {\n",
       "        vertical-align: middle;\n",
       "    }\n",
       "\n",
       "    .dataframe tbody tr th {\n",
       "        vertical-align: top;\n",
       "    }\n",
       "\n",
       "    .dataframe thead th {\n",
       "        text-align: right;\n",
       "    }\n",
       "</style>\n",
       "<table border=\"1\" class=\"dataframe\">\n",
       "  <thead>\n",
       "    <tr style=\"text-align: right;\">\n",
       "      <th></th>\n",
       "      <th>FID</th>\n",
       "      <th>OBJECTID</th>\n",
       "      <th>Texto</th>\n",
       "      <th>Poblacion</th>\n",
       "      <th>CodMun</th>\n",
       "      <th>Municipio</th>\n",
       "      <th>CodProvin</th>\n",
       "      <th>Provincia</th>\n",
       "      <th>X</th>\n",
       "      <th>Y</th>\n",
       "    </tr>\n",
       "  </thead>\n",
       "  <tbody>\n",
       "    <tr>\n",
       "      <th>0</th>\n",
       "      <td>0</td>\n",
       "      <td>1</td>\n",
       "      <td>Agüimes</td>\n",
       "      <td>29431.0</td>\n",
       "      <td>35002</td>\n",
       "      <td>Agüimes</td>\n",
       "      <td>35</td>\n",
       "      <td>Las Palmas</td>\n",
       "      <td>-15.446012</td>\n",
       "      <td>27.900542</td>\n",
       "    </tr>\n",
       "    <tr>\n",
       "      <th>1</th>\n",
       "      <td>1</td>\n",
       "      <td>2</td>\n",
       "      <td>Antigua</td>\n",
       "      <td>10458.0</td>\n",
       "      <td>35003</td>\n",
       "      <td>Antigua</td>\n",
       "      <td>35</td>\n",
       "      <td>Las Palmas</td>\n",
       "      <td>-14.013301</td>\n",
       "      <td>28.418966</td>\n",
       "    </tr>\n",
       "    <tr>\n",
       "      <th>2</th>\n",
       "      <td>2</td>\n",
       "      <td>3</td>\n",
       "      <td>Arrecife</td>\n",
       "      <td>58156.0</td>\n",
       "      <td>35004</td>\n",
       "      <td>Arrecife</td>\n",
       "      <td>35</td>\n",
       "      <td>Las Palmas</td>\n",
       "      <td>-13.551451</td>\n",
       "      <td>28.960649</td>\n",
       "    </tr>\n",
       "    <tr>\n",
       "      <th>3</th>\n",
       "      <td>3</td>\n",
       "      <td>4</td>\n",
       "      <td>Arucas</td>\n",
       "      <td>36745.0</td>\n",
       "      <td>35006</td>\n",
       "      <td>Arucas</td>\n",
       "      <td>35</td>\n",
       "      <td>Las Palmas</td>\n",
       "      <td>-15.521512</td>\n",
       "      <td>28.117496</td>\n",
       "    </tr>\n",
       "    <tr>\n",
       "      <th>4</th>\n",
       "      <td>4</td>\n",
       "      <td>5</td>\n",
       "      <td>Gáldar</td>\n",
       "      <td>24473.0</td>\n",
       "      <td>35009</td>\n",
       "      <td>Gáldar</td>\n",
       "      <td>35</td>\n",
       "      <td>Las Palmas</td>\n",
       "      <td>-15.654111</td>\n",
       "      <td>28.143873</td>\n",
       "    </tr>\n",
       "  </tbody>\n",
       "</table>\n",
       "</div>"
      ],
      "text/plain": [
       "   FID  OBJECTID     Texto  Poblacion  CodMun Municipio  CodProvin  \\\n",
       "0    0         1   Agüimes    29431.0   35002   Agüimes         35   \n",
       "1    1         2   Antigua    10458.0   35003   Antigua         35   \n",
       "2    2         3  Arrecife    58156.0   35004  Arrecife         35   \n",
       "3    3         4    Arucas    36745.0   35006    Arucas         35   \n",
       "4    4         5    Gáldar    24473.0   35009    Gáldar         35   \n",
       "\n",
       "    Provincia          X          Y  \n",
       "0  Las Palmas -15.446012  27.900542  \n",
       "1  Las Palmas -14.013301  28.418966  \n",
       "2  Las Palmas -13.551451  28.960649  \n",
       "3  Las Palmas -15.521512  28.117496  \n",
       "4  Las Palmas -15.654111  28.143873  "
      ]
     },
     "execution_count": 2,
     "metadata": {},
     "output_type": "execute_result"
    }
   ],
   "source": [
    "import pandas as pd\n",
    "\n",
    "df = pd.read_csv(\"NucleosPoblacion.csv\")\n",
    "df.head()"
   ]
  },
  {
   "cell_type": "markdown",
   "id": "adverse-cannon",
   "metadata": {
    "id": "adverse-cannon"
   },
   "source": [
    "¿Cuál es la ciudad más poblada?"
   ]
  },
  {
   "cell_type": "code",
   "execution_count": 5,
   "id": "551913cf-fa74-4c80-9e5e-9b14890f0e2c",
   "metadata": {},
   "outputs": [
    {
     "data": {
      "text/html": [
       "<div>\n",
       "<style scoped>\n",
       "    .dataframe tbody tr th:only-of-type {\n",
       "        vertical-align: middle;\n",
       "    }\n",
       "\n",
       "    .dataframe tbody tr th {\n",
       "        vertical-align: top;\n",
       "    }\n",
       "\n",
       "    .dataframe thead th {\n",
       "        text-align: right;\n",
       "    }\n",
       "</style>\n",
       "<table border=\"1\" class=\"dataframe\">\n",
       "  <thead>\n",
       "    <tr style=\"text-align: right;\">\n",
       "      <th></th>\n",
       "      <th>FID</th>\n",
       "      <th>OBJECTID</th>\n",
       "      <th>Texto</th>\n",
       "      <th>Poblacion</th>\n",
       "      <th>CodMun</th>\n",
       "      <th>Municipio</th>\n",
       "      <th>CodProvin</th>\n",
       "      <th>Provincia</th>\n",
       "      <th>X</th>\n",
       "      <th>Y</th>\n",
       "    </tr>\n",
       "  </thead>\n",
       "  <tbody>\n",
       "    <tr>\n",
       "      <th>355</th>\n",
       "      <td>355</td>\n",
       "      <td>356</td>\n",
       "      <td>Madrid</td>\n",
       "      <td>3273049.0</td>\n",
       "      <td>28079</td>\n",
       "      <td>Madrid</td>\n",
       "      <td>28</td>\n",
       "      <td>Madrid</td>\n",
       "      <td>-3.703797</td>\n",
       "      <td>40.416630</td>\n",
       "    </tr>\n",
       "    <tr>\n",
       "      <th>623</th>\n",
       "      <td>623</td>\n",
       "      <td>624</td>\n",
       "      <td>Barcelona</td>\n",
       "      <td>1619337.0</td>\n",
       "      <td>8019</td>\n",
       "      <td>Barcelona</td>\n",
       "      <td>8</td>\n",
       "      <td>Barcelona</td>\n",
       "      <td>2.176349</td>\n",
       "      <td>41.384247</td>\n",
       "    </tr>\n",
       "    <tr>\n",
       "      <th>561</th>\n",
       "      <td>561</td>\n",
       "      <td>562</td>\n",
       "      <td>Valencia</td>\n",
       "      <td>809267.0</td>\n",
       "      <td>46250</td>\n",
       "      <td>Valencia</td>\n",
       "      <td>46</td>\n",
       "      <td>València/Valencia</td>\n",
       "      <td>-0.375657</td>\n",
       "      <td>39.475344</td>\n",
       "    </tr>\n",
       "    <tr>\n",
       "      <th>492</th>\n",
       "      <td>492</td>\n",
       "      <td>493</td>\n",
       "      <td>Sevilla</td>\n",
       "      <td>704198.0</td>\n",
       "      <td>41091</td>\n",
       "      <td>Sevilla</td>\n",
       "      <td>41</td>\n",
       "      <td>Sevilla</td>\n",
       "      <td>-5.992514</td>\n",
       "      <td>37.386205</td>\n",
       "    </tr>\n",
       "    <tr>\n",
       "      <th>591</th>\n",
       "      <td>591</td>\n",
       "      <td>592</td>\n",
       "      <td>Zaragoza</td>\n",
       "      <td>675121.0</td>\n",
       "      <td>50297</td>\n",
       "      <td>Zaragoza</td>\n",
       "      <td>50</td>\n",
       "      <td>Zaragoza</td>\n",
       "      <td>-0.879287</td>\n",
       "      <td>41.656457</td>\n",
       "    </tr>\n",
       "    <tr>\n",
       "      <th>...</th>\n",
       "      <td>...</td>\n",
       "      <td>...</td>\n",
       "      <td>...</td>\n",
       "      <td>...</td>\n",
       "      <td>...</td>\n",
       "      <td>...</td>\n",
       "      <td>...</td>\n",
       "      <td>...</td>\n",
       "      <td>...</td>\n",
       "      <td>...</td>\n",
       "    </tr>\n",
       "    <tr>\n",
       "      <th>525</th>\n",
       "      <td>525</td>\n",
       "      <td>526</td>\n",
       "      <td>Buñol</td>\n",
       "      <td>10077.0</td>\n",
       "      <td>46077</td>\n",
       "      <td>Buñol</td>\n",
       "      <td>46</td>\n",
       "      <td>València/Valencia</td>\n",
       "      <td>-0.789866</td>\n",
       "      <td>39.418014</td>\n",
       "    </tr>\n",
       "    <tr>\n",
       "      <th>746</th>\n",
       "      <td>746</td>\n",
       "      <td>747</td>\n",
       "      <td>Premià de Dalt</td>\n",
       "      <td>10064.0</td>\n",
       "      <td>8230</td>\n",
       "      <td>Premià de Dalt</td>\n",
       "      <td>8</td>\n",
       "      <td>Barcelona</td>\n",
       "      <td>2.341580</td>\n",
       "      <td>41.508020</td>\n",
       "    </tr>\n",
       "    <tr>\n",
       "      <th>168</th>\n",
       "      <td>168</td>\n",
       "      <td>169</td>\n",
       "      <td>Amurrio</td>\n",
       "      <td>10050.0</td>\n",
       "      <td>1002</td>\n",
       "      <td>Amurrio</td>\n",
       "      <td>1</td>\n",
       "      <td>Álava</td>\n",
       "      <td>-3.000073</td>\n",
       "      <td>43.054278</td>\n",
       "    </tr>\n",
       "    <tr>\n",
       "      <th>115</th>\n",
       "      <td>115</td>\n",
       "      <td>116</td>\n",
       "      <td>Caldas de Reis</td>\n",
       "      <td>10045.0</td>\n",
       "      <td>36005</td>\n",
       "      <td>Caldas de Reis</td>\n",
       "      <td>36</td>\n",
       "      <td>Pontevedra</td>\n",
       "      <td>-8.642007</td>\n",
       "      <td>42.605883</td>\n",
       "    </tr>\n",
       "    <tr>\n",
       "      <th>307</th>\n",
       "      <td>307</td>\n",
       "      <td>308</td>\n",
       "      <td>Zumarraga</td>\n",
       "      <td>10037.0</td>\n",
       "      <td>20080</td>\n",
       "      <td>Zumarraga</td>\n",
       "      <td>20</td>\n",
       "      <td>Guipúzcoa</td>\n",
       "      <td>-2.323006</td>\n",
       "      <td>43.087693</td>\n",
       "    </tr>\n",
       "  </tbody>\n",
       "</table>\n",
       "<p>852 rows × 10 columns</p>\n",
       "</div>"
      ],
      "text/plain": [
       "     FID  OBJECTID           Texto  Poblacion  CodMun       Municipio  \\\n",
       "355  355       356          Madrid  3273049.0   28079          Madrid   \n",
       "623  623       624       Barcelona  1619337.0    8019       Barcelona   \n",
       "561  561       562        Valencia   809267.0   46250        Valencia   \n",
       "492  492       493         Sevilla   704198.0   41091         Sevilla   \n",
       "591  591       592        Zaragoza   675121.0   50297        Zaragoza   \n",
       "..   ...       ...             ...        ...     ...             ...   \n",
       "525  525       526           Buñol    10077.0   46077           Buñol   \n",
       "746  746       747  Premià de Dalt    10064.0    8230  Premià de Dalt   \n",
       "168  168       169         Amurrio    10050.0    1002         Amurrio   \n",
       "115  115       116  Caldas de Reis    10045.0   36005  Caldas de Reis   \n",
       "307  307       308       Zumarraga    10037.0   20080       Zumarraga   \n",
       "\n",
       "     CodProvin          Provincia         X          Y  \n",
       "355         28             Madrid -3.703797  40.416630  \n",
       "623          8          Barcelona  2.176349  41.384247  \n",
       "561         46  València/Valencia -0.375657  39.475344  \n",
       "492         41            Sevilla -5.992514  37.386205  \n",
       "591         50           Zaragoza -0.879287  41.656457  \n",
       "..         ...                ...       ...        ...  \n",
       "525         46  València/Valencia -0.789866  39.418014  \n",
       "746          8          Barcelona  2.341580  41.508020  \n",
       "168          1              Álava -3.000073  43.054278  \n",
       "115         36         Pontevedra -8.642007  42.605883  \n",
       "307         20          Guipúzcoa -2.323006  43.087693  \n",
       "\n",
       "[852 rows x 10 columns]"
      ]
     },
     "execution_count": 5,
     "metadata": {},
     "output_type": "execute_result"
    }
   ],
   "source": [
    "df.sort_values(\"Poblacion\",ascending=False)"
   ]
  },
  {
   "cell_type": "markdown",
   "id": "excellent-sustainability",
   "metadata": {
    "id": "excellent-sustainability"
   },
   "source": [
    "¿Qué posición ocupa Granada en las más pobladas?. Las funciones *.sort_values()* y *.rank()* pueden ayudarte."
   ]
  },
  {
   "cell_type": "code",
   "execution_count": 18,
   "id": "every-breakdown",
   "metadata": {
    "id": "every-breakdown"
   },
   "outputs": [
    {
     "data": {
      "text/html": [
       "<div>\n",
       "<style scoped>\n",
       "    .dataframe tbody tr th:only-of-type {\n",
       "        vertical-align: middle;\n",
       "    }\n",
       "\n",
       "    .dataframe tbody tr th {\n",
       "        vertical-align: top;\n",
       "    }\n",
       "\n",
       "    .dataframe thead th {\n",
       "        text-align: right;\n",
       "    }\n",
       "</style>\n",
       "<table border=\"1\" class=\"dataframe\">\n",
       "  <thead>\n",
       "    <tr style=\"text-align: right;\">\n",
       "      <th></th>\n",
       "      <th>FID</th>\n",
       "      <th>OBJECTID</th>\n",
       "      <th>Texto</th>\n",
       "      <th>Poblacion</th>\n",
       "      <th>CodMun</th>\n",
       "      <th>Municipio</th>\n",
       "      <th>CodProvin</th>\n",
       "      <th>Provincia</th>\n",
       "      <th>X</th>\n",
       "      <th>Y</th>\n",
       "      <th>rank</th>\n",
       "    </tr>\n",
       "  </thead>\n",
       "  <tbody>\n",
       "    <tr>\n",
       "      <th>272</th>\n",
       "      <td>272</td>\n",
       "      <td>273</td>\n",
       "      <td>Granada</td>\n",
       "      <td>239154.0</td>\n",
       "      <td>18087</td>\n",
       "      <td>Granada</td>\n",
       "      <td>18</td>\n",
       "      <td>Granada</td>\n",
       "      <td>-3.600019</td>\n",
       "      <td>37.176419</td>\n",
       "      <td>18</td>\n",
       "    </tr>\n",
       "  </tbody>\n",
       "</table>\n",
       "</div>"
      ],
      "text/plain": [
       "     FID  OBJECTID    Texto  Poblacion  CodMun Municipio  CodProvin Provincia  \\\n",
       "272  272       273  Granada   239154.0   18087   Granada         18   Granada   \n",
       "\n",
       "            X          Y  rank  \n",
       "272 -3.600019  37.176419    18  "
      ]
     },
     "execution_count": 18,
     "metadata": {},
     "output_type": "execute_result"
    }
   ],
   "source": [
    "df[\"rank\"] = df[\"Poblacion\"].rank(ascending=False).astype(int)\n",
    "df[df[\"Municipio\"]==\"Granada\"]"
   ]
  },
  {
   "cell_type": "code",
   "execution_count": 14,
   "id": "75914690-5d25-471b-96b5-889b13a92c65",
   "metadata": {},
   "outputs": [
    {
     "data": {
      "text/html": [
       "<div>\n",
       "<style scoped>\n",
       "    .dataframe tbody tr th:only-of-type {\n",
       "        vertical-align: middle;\n",
       "    }\n",
       "\n",
       "    .dataframe tbody tr th {\n",
       "        vertical-align: top;\n",
       "    }\n",
       "\n",
       "    .dataframe thead th {\n",
       "        text-align: right;\n",
       "    }\n",
       "</style>\n",
       "<table border=\"1\" class=\"dataframe\">\n",
       "  <thead>\n",
       "    <tr style=\"text-align: right;\">\n",
       "      <th></th>\n",
       "      <th>index</th>\n",
       "      <th>FID</th>\n",
       "      <th>OBJECTID</th>\n",
       "      <th>Texto</th>\n",
       "      <th>Poblacion</th>\n",
       "      <th>CodMun</th>\n",
       "      <th>Municipio</th>\n",
       "      <th>CodProvin</th>\n",
       "      <th>Provincia</th>\n",
       "      <th>X</th>\n",
       "      <th>Y</th>\n",
       "      <th>rank</th>\n",
       "    </tr>\n",
       "  </thead>\n",
       "  <tbody>\n",
       "    <tr>\n",
       "      <th>0</th>\n",
       "      <td>355</td>\n",
       "      <td>355</td>\n",
       "      <td>356</td>\n",
       "      <td>Madrid</td>\n",
       "      <td>3273049.0</td>\n",
       "      <td>28079</td>\n",
       "      <td>Madrid</td>\n",
       "      <td>28</td>\n",
       "      <td>Madrid</td>\n",
       "      <td>-3.703797</td>\n",
       "      <td>40.416630</td>\n",
       "      <td>1</td>\n",
       "    </tr>\n",
       "    <tr>\n",
       "      <th>1</th>\n",
       "      <td>623</td>\n",
       "      <td>623</td>\n",
       "      <td>624</td>\n",
       "      <td>Barcelona</td>\n",
       "      <td>1619337.0</td>\n",
       "      <td>8019</td>\n",
       "      <td>Barcelona</td>\n",
       "      <td>8</td>\n",
       "      <td>Barcelona</td>\n",
       "      <td>2.176349</td>\n",
       "      <td>41.384247</td>\n",
       "      <td>2</td>\n",
       "    </tr>\n",
       "    <tr>\n",
       "      <th>2</th>\n",
       "      <td>561</td>\n",
       "      <td>561</td>\n",
       "      <td>562</td>\n",
       "      <td>Valencia</td>\n",
       "      <td>809267.0</td>\n",
       "      <td>46250</td>\n",
       "      <td>Valencia</td>\n",
       "      <td>46</td>\n",
       "      <td>València/Valencia</td>\n",
       "      <td>-0.375657</td>\n",
       "      <td>39.475344</td>\n",
       "      <td>3</td>\n",
       "    </tr>\n",
       "    <tr>\n",
       "      <th>3</th>\n",
       "      <td>492</td>\n",
       "      <td>492</td>\n",
       "      <td>493</td>\n",
       "      <td>Sevilla</td>\n",
       "      <td>704198.0</td>\n",
       "      <td>41091</td>\n",
       "      <td>Sevilla</td>\n",
       "      <td>41</td>\n",
       "      <td>Sevilla</td>\n",
       "      <td>-5.992514</td>\n",
       "      <td>37.386205</td>\n",
       "      <td>4</td>\n",
       "    </tr>\n",
       "    <tr>\n",
       "      <th>4</th>\n",
       "      <td>591</td>\n",
       "      <td>591</td>\n",
       "      <td>592</td>\n",
       "      <td>Zaragoza</td>\n",
       "      <td>675121.0</td>\n",
       "      <td>50297</td>\n",
       "      <td>Zaragoza</td>\n",
       "      <td>50</td>\n",
       "      <td>Zaragoza</td>\n",
       "      <td>-0.879287</td>\n",
       "      <td>41.656457</td>\n",
       "      <td>5</td>\n",
       "    </tr>\n",
       "    <tr>\n",
       "      <th>...</th>\n",
       "      <td>...</td>\n",
       "      <td>...</td>\n",
       "      <td>...</td>\n",
       "      <td>...</td>\n",
       "      <td>...</td>\n",
       "      <td>...</td>\n",
       "      <td>...</td>\n",
       "      <td>...</td>\n",
       "      <td>...</td>\n",
       "      <td>...</td>\n",
       "      <td>...</td>\n",
       "      <td>...</td>\n",
       "    </tr>\n",
       "    <tr>\n",
       "      <th>847</th>\n",
       "      <td>525</td>\n",
       "      <td>525</td>\n",
       "      <td>526</td>\n",
       "      <td>Buñol</td>\n",
       "      <td>10077.0</td>\n",
       "      <td>46077</td>\n",
       "      <td>Buñol</td>\n",
       "      <td>46</td>\n",
       "      <td>València/Valencia</td>\n",
       "      <td>-0.789866</td>\n",
       "      <td>39.418014</td>\n",
       "      <td>848</td>\n",
       "    </tr>\n",
       "    <tr>\n",
       "      <th>848</th>\n",
       "      <td>746</td>\n",
       "      <td>746</td>\n",
       "      <td>747</td>\n",
       "      <td>Premià de Dalt</td>\n",
       "      <td>10064.0</td>\n",
       "      <td>8230</td>\n",
       "      <td>Premià de Dalt</td>\n",
       "      <td>8</td>\n",
       "      <td>Barcelona</td>\n",
       "      <td>2.341580</td>\n",
       "      <td>41.508020</td>\n",
       "      <td>849</td>\n",
       "    </tr>\n",
       "    <tr>\n",
       "      <th>849</th>\n",
       "      <td>168</td>\n",
       "      <td>168</td>\n",
       "      <td>169</td>\n",
       "      <td>Amurrio</td>\n",
       "      <td>10050.0</td>\n",
       "      <td>1002</td>\n",
       "      <td>Amurrio</td>\n",
       "      <td>1</td>\n",
       "      <td>Álava</td>\n",
       "      <td>-3.000073</td>\n",
       "      <td>43.054278</td>\n",
       "      <td>850</td>\n",
       "    </tr>\n",
       "    <tr>\n",
       "      <th>850</th>\n",
       "      <td>115</td>\n",
       "      <td>115</td>\n",
       "      <td>116</td>\n",
       "      <td>Caldas de Reis</td>\n",
       "      <td>10045.0</td>\n",
       "      <td>36005</td>\n",
       "      <td>Caldas de Reis</td>\n",
       "      <td>36</td>\n",
       "      <td>Pontevedra</td>\n",
       "      <td>-8.642007</td>\n",
       "      <td>42.605883</td>\n",
       "      <td>851</td>\n",
       "    </tr>\n",
       "    <tr>\n",
       "      <th>851</th>\n",
       "      <td>307</td>\n",
       "      <td>307</td>\n",
       "      <td>308</td>\n",
       "      <td>Zumarraga</td>\n",
       "      <td>10037.0</td>\n",
       "      <td>20080</td>\n",
       "      <td>Zumarraga</td>\n",
       "      <td>20</td>\n",
       "      <td>Guipúzcoa</td>\n",
       "      <td>-2.323006</td>\n",
       "      <td>43.087693</td>\n",
       "      <td>852</td>\n",
       "    </tr>\n",
       "  </tbody>\n",
       "</table>\n",
       "<p>852 rows × 12 columns</p>\n",
       "</div>"
      ],
      "text/plain": [
       "     index  FID  OBJECTID           Texto  Poblacion  CodMun       Municipio  \\\n",
       "0      355  355       356          Madrid  3273049.0   28079          Madrid   \n",
       "1      623  623       624       Barcelona  1619337.0    8019       Barcelona   \n",
       "2      561  561       562        Valencia   809267.0   46250        Valencia   \n",
       "3      492  492       493         Sevilla   704198.0   41091         Sevilla   \n",
       "4      591  591       592        Zaragoza   675121.0   50297        Zaragoza   \n",
       "..     ...  ...       ...             ...        ...     ...             ...   \n",
       "847    525  525       526           Buñol    10077.0   46077           Buñol   \n",
       "848    746  746       747  Premià de Dalt    10064.0    8230  Premià de Dalt   \n",
       "849    168  168       169         Amurrio    10050.0    1002         Amurrio   \n",
       "850    115  115       116  Caldas de Reis    10045.0   36005  Caldas de Reis   \n",
       "851    307  307       308       Zumarraga    10037.0   20080       Zumarraga   \n",
       "\n",
       "     CodProvin          Provincia         X          Y  rank  \n",
       "0           28             Madrid -3.703797  40.416630     1  \n",
       "1            8          Barcelona  2.176349  41.384247     2  \n",
       "2           46  València/Valencia -0.375657  39.475344     3  \n",
       "3           41            Sevilla -5.992514  37.386205     4  \n",
       "4           50           Zaragoza -0.879287  41.656457     5  \n",
       "..         ...                ...       ...        ...   ...  \n",
       "847         46  València/Valencia -0.789866  39.418014   848  \n",
       "848          8          Barcelona  2.341580  41.508020   849  \n",
       "849          1              Álava -3.000073  43.054278   850  \n",
       "850         36         Pontevedra -8.642007  42.605883   851  \n",
       "851         20          Guipúzcoa -2.323006  43.087693   852  \n",
       "\n",
       "[852 rows x 12 columns]"
      ]
     },
     "execution_count": 14,
     "metadata": {},
     "output_type": "execute_result"
    }
   ],
   "source": [
    "df.sort_values(\"Poblacion\",ascending=False).reset_index()"
   ]
  },
  {
   "cell_type": "markdown",
   "id": "devoted-former",
   "metadata": {
    "id": "devoted-former"
   },
   "source": [
    "Escribe el nombre de los 10 municipios con menor población."
   ]
  },
  {
   "cell_type": "code",
   "execution_count": 19,
   "id": "sustainable-rogers",
   "metadata": {
    "id": "sustainable-rogers"
   },
   "outputs": [
    {
     "data": {
      "text/html": [
       "<div>\n",
       "<style scoped>\n",
       "    .dataframe tbody tr th:only-of-type {\n",
       "        vertical-align: middle;\n",
       "    }\n",
       "\n",
       "    .dataframe tbody tr th {\n",
       "        vertical-align: top;\n",
       "    }\n",
       "\n",
       "    .dataframe thead th {\n",
       "        text-align: right;\n",
       "    }\n",
       "</style>\n",
       "<table border=\"1\" class=\"dataframe\">\n",
       "  <thead>\n",
       "    <tr style=\"text-align: right;\">\n",
       "      <th></th>\n",
       "      <th>FID</th>\n",
       "      <th>OBJECTID</th>\n",
       "      <th>Texto</th>\n",
       "      <th>Poblacion</th>\n",
       "      <th>CodMun</th>\n",
       "      <th>Municipio</th>\n",
       "      <th>CodProvin</th>\n",
       "      <th>Provincia</th>\n",
       "      <th>X</th>\n",
       "      <th>Y</th>\n",
       "      <th>rank</th>\n",
       "    </tr>\n",
       "  </thead>\n",
       "  <tbody>\n",
       "    <tr>\n",
       "      <th>525</th>\n",
       "      <td>525</td>\n",
       "      <td>526</td>\n",
       "      <td>Buñol</td>\n",
       "      <td>10077.0</td>\n",
       "      <td>46077</td>\n",
       "      <td>Buñol</td>\n",
       "      <td>46</td>\n",
       "      <td>València/Valencia</td>\n",
       "      <td>-0.789866</td>\n",
       "      <td>39.418014</td>\n",
       "      <td>848</td>\n",
       "    </tr>\n",
       "    <tr>\n",
       "      <th>746</th>\n",
       "      <td>746</td>\n",
       "      <td>747</td>\n",
       "      <td>Premià de Dalt</td>\n",
       "      <td>10064.0</td>\n",
       "      <td>8230</td>\n",
       "      <td>Premià de Dalt</td>\n",
       "      <td>8</td>\n",
       "      <td>Barcelona</td>\n",
       "      <td>2.341580</td>\n",
       "      <td>41.508020</td>\n",
       "      <td>849</td>\n",
       "    </tr>\n",
       "    <tr>\n",
       "      <th>168</th>\n",
       "      <td>168</td>\n",
       "      <td>169</td>\n",
       "      <td>Amurrio</td>\n",
       "      <td>10050.0</td>\n",
       "      <td>1002</td>\n",
       "      <td>Amurrio</td>\n",
       "      <td>1</td>\n",
       "      <td>Álava</td>\n",
       "      <td>-3.000073</td>\n",
       "      <td>43.054278</td>\n",
       "      <td>850</td>\n",
       "    </tr>\n",
       "    <tr>\n",
       "      <th>115</th>\n",
       "      <td>115</td>\n",
       "      <td>116</td>\n",
       "      <td>Caldas de Reis</td>\n",
       "      <td>10045.0</td>\n",
       "      <td>36005</td>\n",
       "      <td>Caldas de Reis</td>\n",
       "      <td>36</td>\n",
       "      <td>Pontevedra</td>\n",
       "      <td>-8.642007</td>\n",
       "      <td>42.605883</td>\n",
       "      <td>851</td>\n",
       "    </tr>\n",
       "    <tr>\n",
       "      <th>307</th>\n",
       "      <td>307</td>\n",
       "      <td>308</td>\n",
       "      <td>Zumarraga</td>\n",
       "      <td>10037.0</td>\n",
       "      <td>20080</td>\n",
       "      <td>Zumarraga</td>\n",
       "      <td>20</td>\n",
       "      <td>Guipúzcoa</td>\n",
       "      <td>-2.323006</td>\n",
       "      <td>43.087693</td>\n",
       "      <td>852</td>\n",
       "    </tr>\n",
       "  </tbody>\n",
       "</table>\n",
       "</div>"
      ],
      "text/plain": [
       "     FID  OBJECTID           Texto  Poblacion  CodMun       Municipio  \\\n",
       "525  525       526           Buñol    10077.0   46077           Buñol   \n",
       "746  746       747  Premià de Dalt    10064.0    8230  Premià de Dalt   \n",
       "168  168       169         Amurrio    10050.0    1002         Amurrio   \n",
       "115  115       116  Caldas de Reis    10045.0   36005  Caldas de Reis   \n",
       "307  307       308       Zumarraga    10037.0   20080       Zumarraga   \n",
       "\n",
       "     CodProvin          Provincia         X          Y  rank  \n",
       "525         46  València/Valencia -0.789866  39.418014   848  \n",
       "746          8          Barcelona  2.341580  41.508020   849  \n",
       "168          1              Álava -3.000073  43.054278   850  \n",
       "115         36         Pontevedra -8.642007  42.605883   851  \n",
       "307         20          Guipúzcoa -2.323006  43.087693   852  "
      ]
     },
     "execution_count": 19,
     "metadata": {},
     "output_type": "execute_result"
    }
   ],
   "source": [
    "df.sort_values(\"Poblacion\",ascending=False).tail()"
   ]
  },
  {
   "cell_type": "markdown",
   "id": "expected-interaction",
   "metadata": {
    "id": "expected-interaction"
   },
   "source": [
    "¿Cuántos municipios en Extremadura tienen más de 15000 habitantes?"
   ]
  },
  {
   "cell_type": "code",
   "execution_count": null,
   "id": "rental-liability",
   "metadata": {
    "id": "rental-liability"
   },
   "outputs": [],
   "source": [
    "df[df[\"Municipio\"]==\"Granada\"]"
   ]
  },
  {
   "cell_type": "markdown",
   "id": "drawn-student",
   "metadata": {
    "id": "drawn-student"
   },
   "source": [
    "¿Cuál es el municipio situado más al Norte? Proporciona también la provincia a la que pertenece y su población."
   ]
  },
  {
   "cell_type": "code",
   "execution_count": null,
   "id": "acute-driver",
   "metadata": {
    "id": "acute-driver"
   },
   "outputs": [],
   "source": []
  },
  {
   "cell_type": "markdown",
   "id": "laden-deadline",
   "metadata": {
    "id": "laden-deadline"
   },
   "source": [
    "¿Cuál es el municipio de la provincia de Granada situado más al Este?. ¿Cuál es el situado más al Oeste?."
   ]
  },
  {
   "cell_type": "code",
   "execution_count": null,
   "id": "virtual-unemployment",
   "metadata": {
    "id": "virtual-unemployment"
   },
   "outputs": [],
   "source": []
  },
  {
   "cell_type": "markdown",
   "id": "hairy-restoration",
   "metadata": {
    "id": "hairy-restoration"
   },
   "source": [
    "¿Cuántos Municipios hay en un radio de 5 grados de la ciudad de Barcelona?."
   ]
  },
  {
   "cell_type": "code",
   "execution_count": null,
   "id": "equivalent-inspector",
   "metadata": {
    "id": "equivalent-inspector"
   },
   "outputs": [],
   "source": []
  },
  {
   "cell_type": "markdown",
   "id": "understanding-championship",
   "metadata": {
    "id": "understanding-championship"
   },
   "source": [
    "Calcula la media, mediana, desviación estándar, valor máximo y valor mínimo de la población de los municipios de la provincia de Granada."
   ]
  },
  {
   "cell_type": "code",
   "execution_count": null,
   "id": "warming-absorption",
   "metadata": {
    "id": "warming-absorption"
   },
   "outputs": [],
   "source": []
  },
  {
   "cell_type": "markdown",
   "id": "silent-garage",
   "metadata": {
    "id": "silent-garage"
   },
   "source": [
    "#### Bloque 2: estudio de rendimiento de estudiantes (student_performance_dataset.csv)\n",
    "\n",
    "Columnas:\n",
    "- 1: school - student's school (binary: 0 - Gabriel Pereira or 1 - Mousinho da Silveira). \n",
    "- 2: sex - student's sex (binary: 0 - female or 1 - male).\n",
    "- 3: age - student's age (numeric: from 15 to 22).\n",
    "- 4: address - student's home address type (binary: 0 - urban or 1 - rural). \n",
    "- 5: famsize - family size (binary: 0 - greater than 3 or 1 - less or equal to 3).\n",
    "- 6: Pstatus - parent's cohabitation status (binary: 0 - apart or 1 - living together).\n",
    "- 7: Medu - mother's education (numeric: 0 - none, 1 - primary education (4th grade), 2 - 5th to 9th grade, 3 - secondary education or 4 - higher education).\n",
    "- 8: Fedu - father's education (numeric: 0 - none, 1 - primary education (4th grade), 2 - 5th to 9th grade, 3 - secondary education or 4 - higher education).\n",
    "- 9: traveltime - home to school travel time (numeric: 1 - 15 min., 2 - 15 to 30 min., 3 - 30 min. to 1 hour, or 4 - more than 1 hour).\n",
    "- 10: studytime - weekly study time (numeric: 1 - less than 2 hours, 2 - 2 to 5 hours, 3 - 5 to 10 hours, or 4 - more than 10 hours).\n",
    "- 11: failures - number of past class failures (numeric: n if 1 less,equal than 3, else 4).\n",
    "- 12: schoolsup - extra educational support (binary: 1 - yes or 0 - no).\n",
    "- 13: famsup - family educational support (binary: 1 - yes or 0 - no).\n",
    "- 14: paid - extra paid classes within the course subject (binary: 1 - yes or 0 - no).\n",
    "- 15: activities - extra-curricular activities (binary: 1 - yes or 0 - no).\n",
    "- 16: nursery - attended nursery school (binary: 1 - yes or 0 - no).\n",
    "- 17: higher - wants to take higher education (binary: 1 - yes or 0 - no).\n",
    "- 18: internet - Internet access at home (binary: 1 - yes or 0 - no).\n",
    "- 19: romantic - with a romantic relationship (binary: 1 - yes or 0 - no).\n",
    "- 20: famrel - quality of family relationships (numeric: from 1 - very bad to 5 - excellent).\n",
    "- 21: freetime - free time after school (numeric: from 1 - very low to 5 - very high).\n",
    "- 22: goout - going out with friends (numeric: from 1 - very low to 5 - very high).\n",
    "- 23: Dalc - workday alcohol consumption (numeric: from 1 - very low to 5 - very high).\n",
    "- 24: Walc - weekend alcohol consumption (numeric: from 1 - very low to 5 - very high).\n",
    "- 25: health - current health status (numeric: from 1 - very bad to 5 - very good).\n",
    "- 26: absences - number of school absences (numeric: from 0 to 93).\n",
    "- 27: G1 - first period grade (numeric: from 0 to 20).\n",
    "- 28: G2 - second period grade (numeric: from 0 to 20). \n",
    "- 29: G3 - final grade (numeric: from 0 to 20, output target)."
   ]
  },
  {
   "cell_type": "markdown",
   "id": "acceptable-technology",
   "metadata": {
    "id": "acceptable-technology"
   },
   "source": [
    "¿Cuántos estudiantes han sacado la máxima nota (20) en las notas finales (G3)?"
   ]
  },
  {
   "cell_type": "code",
   "execution_count": null,
   "id": "diagnostic-melissa",
   "metadata": {
    "id": "diagnostic-melissa"
   },
   "outputs": [],
   "source": []
  },
  {
   "cell_type": "markdown",
   "id": "round-incentive",
   "metadata": {
    "id": "round-incentive"
   },
   "source": [
    "Compara las medias de aquellos que reciben clases extra y estudian más de de 5 horas con aquellos que no reciben clases extra y estudian menos de 5 horas."
   ]
  },
  {
   "cell_type": "code",
   "execution_count": null,
   "id": "present-photographer",
   "metadata": {
    "id": "present-photographer"
   },
   "outputs": [],
   "source": []
  },
  {
   "cell_type": "markdown",
   "id": "modified-soundtrack",
   "metadata": {
    "id": "modified-soundtrack"
   },
   "source": [
    "Calcula la media y la desviación estándar de las diferencias entre notas del segundo (G2) y primer semestre (G1). ¿Han mejorado los alumnos sus notas?"
   ]
  },
  {
   "cell_type": "markdown",
   "id": "scenic-treat",
   "metadata": {
    "id": "scenic-treat"
   },
   "source": [
    "### Los salarios en la ciudad de Chicago"
   ]
  },
  {
   "cell_type": "markdown",
   "id": "stylish-mechanism",
   "metadata": {
    "id": "stylish-mechanism"
   },
   "source": [
    "Vamos a jugar con un el dataset de los salarios en la ciudad de Chicago:\n",
    "- Name: nombre de la persona \n",
    "- Position Title: nombre del trabajo que realiza\n",
    "- Department: departamento en el que trabaja\n",
    "- Employee Annual Salary: salario de la persona"
   ]
  },
  {
   "cell_type": "code",
   "execution_count": null,
   "id": "arabic-finish",
   "metadata": {
    "id": "arabic-finish"
   },
   "outputs": [],
   "source": []
  },
  {
   "cell_type": "markdown",
   "id": "cutting-success",
   "metadata": {
    "id": "cutting-success"
   },
   "source": [
    "Calcula el salario medio de los habitantes de chicago."
   ]
  },
  {
   "cell_type": "code",
   "execution_count": null,
   "id": "bacterial-illustration",
   "metadata": {
    "id": "bacterial-illustration"
   },
   "outputs": [],
   "source": []
  },
  {
   "cell_type": "markdown",
   "id": "blond-vehicle",
   "metadata": {
    "id": "blond-vehicle"
   },
   "source": [
    "Calcula cuantos habitantes ganan mas que la media. (_count()_ te puede ayudar)"
   ]
  },
  {
   "cell_type": "code",
   "execution_count": null,
   "id": "immune-spine",
   "metadata": {
    "id": "immune-spine"
   },
   "outputs": [],
   "source": []
  },
  {
   "cell_type": "markdown",
   "id": "sacred-folder",
   "metadata": {
    "id": "sacred-folder"
   },
   "source": [
    "¿Cual es el departamento que emplea a mayor numero de personas?"
   ]
  },
  {
   "cell_type": "code",
   "execution_count": null,
   "id": "grateful-public",
   "metadata": {
    "id": "grateful-public"
   },
   "outputs": [],
   "source": []
  },
  {
   "cell_type": "markdown",
   "id": "quarterly-throw",
   "metadata": {
    "id": "quarterly-throw"
   },
   "source": [
    "¿Cual es el departamento que tiene un salario medio mayor?"
   ]
  },
  {
   "cell_type": "code",
   "execution_count": null,
   "id": "stunning-basin",
   "metadata": {
    "id": "stunning-basin"
   },
   "outputs": [],
   "source": []
  },
  {
   "cell_type": "markdown",
   "id": "talented-jimmy",
   "metadata": {
    "id": "talented-jimmy"
   },
   "source": [
    "\n",
    "Averigua cuales son los 5 departamentos con una media de salario mayor."
   ]
  },
  {
   "cell_type": "code",
   "execution_count": null,
   "id": "fitted-piano",
   "metadata": {
    "id": "fitted-piano"
   },
   "outputs": [],
   "source": []
  },
  {
   "cell_type": "markdown",
   "id": "available-cable",
   "metadata": {
    "id": "available-cable"
   },
   "source": [
    "¿Cual es el departamento con mas puestos de trabajo distintos?"
   ]
  },
  {
   "cell_type": "code",
   "execution_count": null,
   "id": "critical-headquarters",
   "metadata": {
    "id": "critical-headquarters"
   },
   "outputs": [],
   "source": []
  },
  {
   "cell_type": "markdown",
   "id": "central-period",
   "metadata": {
    "id": "central-period"
   },
   "source": [
    "¿Cual es el trabajo mejor remunerado y en que departamento se realiza?"
   ]
  },
  {
   "cell_type": "code",
   "execution_count": null,
   "id": "connected-gauge",
   "metadata": {
    "id": "connected-gauge"
   },
   "outputs": [],
   "source": []
  },
  {
   "cell_type": "markdown",
   "id": "subject-surge",
   "metadata": {
    "id": "subject-surge"
   },
   "source": [
    "Averigua cuales son los trabajos de cada departamento que emplean a mayor numero de personas."
   ]
  },
  {
   "cell_type": "code",
   "execution_count": null,
   "id": "crucial-kuwait",
   "metadata": {
    "id": "crucial-kuwait"
   },
   "outputs": [],
   "source": []
  },
  {
   "cell_type": "markdown",
   "id": "sealed-variance",
   "metadata": {
    "id": "sealed-variance"
   },
   "source": [
    "Calcula el intervalo de confianza al 95% de los salarios de la ciudad de Chicago"
   ]
  },
  {
   "cell_type": "code",
   "execution_count": null,
   "id": "sixth-level",
   "metadata": {
    "id": "sixth-level"
   },
   "outputs": [],
   "source": []
  },
  {
   "cell_type": "markdown",
   "id": "earlier-artwork",
   "metadata": {
    "id": "earlier-artwork"
   },
   "source": [
    "¿Cual es el departamento con mayor variabiliad de salarios?"
   ]
  },
  {
   "cell_type": "code",
   "execution_count": null,
   "id": "automatic-passport",
   "metadata": {
    "id": "automatic-passport"
   },
   "outputs": [],
   "source": []
  },
  {
   "cell_type": "markdown",
   "id": "religious-chile",
   "metadata": {
    "id": "religious-chile"
   },
   "source": [
    "Subir un 10% el salario a aquellas personas que esten en el top 5 de salarios mas bajos de su departamento"
   ]
  },
  {
   "cell_type": "code",
   "execution_count": null,
   "id": "double-excerpt",
   "metadata": {
    "id": "double-excerpt"
   },
   "outputs": [],
   "source": []
  },
  {
   "cell_type": "markdown",
   "id": "covered-comment",
   "metadata": {
    "id": "covered-comment"
   },
   "source": [
    "Compara estadisticamente si existen diferencias significativas entre los salarios de los diferentes departamentos. Para ello deberas utilizar una ANOVA de 1 factor independiente."
   ]
  },
  {
   "cell_type": "code",
   "execution_count": null,
   "id": "bibliographic-monkey",
   "metadata": {
    "id": "bibliographic-monkey"
   },
   "outputs": [],
   "source": []
  },
  {
   "cell_type": "markdown",
   "id": "bottom-stand",
   "metadata": {
    "id": "bottom-stand"
   },
   "source": [
    "### Un estudio del tratamiento del cancer (sanity.csv)"
   ]
  },
  {
   "cell_type": "markdown",
   "id": "fossil-sally",
   "metadata": {
    "id": "fossil-sally"
   },
   "source": [
    "El dataset contiene datos de un estudio realizado sobre pacientes con cancer de pulmon. Esta estructurado de la forma siguiente:\n",
    "\n",
    "idbus --> identificador de la persona en el hospital  \n",
    "sexo --> 0 (varon), 1 (mujer)  \n",
    "edad --> edad de la persona  \n",
    "altura --> altura de la persona en cm  \n",
    "peso --> peso de la persona en kg  \n",
    "tratamiento --> 0 (quimioterapia), 1 (radioterapia)  \n",
    "supervivencia --> años de supervivencia desde el tratamiento   \n",
    "\n"
   ]
  },
  {
   "cell_type": "code",
   "execution_count": null,
   "id": "fleet-blade",
   "metadata": {
    "id": "fleet-blade"
   },
   "outputs": [],
   "source": []
  },
  {
   "cell_type": "markdown",
   "id": "typical-stockholm",
   "metadata": {
    "id": "typical-stockholm"
   },
   "source": [
    "Calcula la supervivencia media de los participantes del estudio"
   ]
  },
  {
   "cell_type": "code",
   "execution_count": null,
   "id": "cooked-furniture",
   "metadata": {
    "id": "cooked-furniture"
   },
   "outputs": [],
   "source": []
  },
  {
   "cell_type": "markdown",
   "id": "legislative-lesson",
   "metadata": {
    "id": "legislative-lesson"
   },
   "source": [
    "Calcula cuantos sobreviven mas que la media. Y mas que la mediana?. El porcentaje de cada uno de los casos?"
   ]
  },
  {
   "cell_type": "code",
   "execution_count": null,
   "id": "expanded-crash",
   "metadata": {
    "id": "expanded-crash"
   },
   "outputs": [],
   "source": []
  },
  {
   "cell_type": "markdown",
   "id": "powerful-activation",
   "metadata": {
    "id": "powerful-activation"
   },
   "source": [
    "¿Cual es el grupo de personas (hombre o mujer) con mayor supervivencia?"
   ]
  },
  {
   "cell_type": "code",
   "execution_count": null,
   "id": "statistical-intelligence",
   "metadata": {
    "id": "statistical-intelligence"
   },
   "outputs": [],
   "source": []
  },
  {
   "cell_type": "markdown",
   "id": "pleasant-spending",
   "metadata": {
    "id": "pleasant-spending"
   },
   "source": [
    "¿Que tratamiento alarga mas la supervivencia la quimio o la radio?"
   ]
  },
  {
   "cell_type": "code",
   "execution_count": null,
   "id": "mechanical-peeing",
   "metadata": {
    "id": "mechanical-peeing"
   },
   "outputs": [],
   "source": []
  },
  {
   "cell_type": "markdown",
   "id": "chicken-story",
   "metadata": {
    "id": "chicken-story"
   },
   "source": [
    "En que grupo Hombre/Mujer y quimio/radio hay mayor supervivencia?"
   ]
  },
  {
   "cell_type": "code",
   "execution_count": null,
   "id": "current-subdivision",
   "metadata": {
    "id": "current-subdivision"
   },
   "outputs": [],
   "source": []
  },
  {
   "cell_type": "markdown",
   "id": "round-public",
   "metadata": {
    "id": "round-public"
   },
   "source": [
    "Asigna a una nueva columna que marque como ancianos a los mayores de 60 anios y jovenes al resto?"
   ]
  },
  {
   "cell_type": "code",
   "execution_count": null,
   "id": "rental-turner",
   "metadata": {
    "id": "rental-turner"
   },
   "outputs": [],
   "source": []
  },
  {
   "cell_type": "markdown",
   "id": "statutory-sharp",
   "metadata": {
    "id": "statutory-sharp"
   },
   "source": [
    "Puedes ver si las mujeres que pesan mas de 60 kilos sobreviven mas que las que pesan menos??"
   ]
  },
  {
   "cell_type": "code",
   "execution_count": null,
   "id": "suburban-attitude",
   "metadata": {
    "id": "suburban-attitude"
   },
   "outputs": [],
   "source": []
  },
  {
   "cell_type": "markdown",
   "id": "legal-morning",
   "metadata": {
    "id": "legal-morning"
   },
   "source": [
    "Parece influir si uno es anciano o no en la supervivencia??"
   ]
  },
  {
   "cell_type": "code",
   "execution_count": null,
   "id": "wanted-scene",
   "metadata": {
    "id": "wanted-scene"
   },
   "outputs": [],
   "source": []
  },
  {
   "cell_type": "markdown",
   "id": "toxic-transformation",
   "metadata": {
    "id": "toxic-transformation"
   },
   "source": [
    "Crea una nueva columna que te clasifique a las personas en base a su indice corporal segun el siguiente crtierio:\n",
    "\n",
    "- Por debajo de 18.5:\tPor debajo del peso  \n",
    "- 18.5 a 24.9:\tSaludable  \n",
    "- 25.0 a 29.9:\tCon sobrepeso  \n",
    "- 30.0 a 39.9:\tObeso  \n",
    "- Más de 40:\tObesidad extrema o de alto riesgo "
   ]
  },
  {
   "cell_type": "code",
   "execution_count": null,
   "id": "molecular-underground",
   "metadata": {
    "id": "molecular-underground"
   },
   "outputs": [],
   "source": []
  },
  {
   "cell_type": "markdown",
   "id": "veterinary-springer",
   "metadata": {
    "id": "veterinary-springer"
   },
   "source": [
    "¿Cual es el grupo de imc que mas riesgo de morir antes tiene?"
   ]
  },
  {
   "cell_type": "code",
   "execution_count": null,
   "id": "worthy-indicator",
   "metadata": {
    "id": "worthy-indicator"
   },
   "outputs": [],
   "source": []
  },
  {
   "cell_type": "markdown",
   "id": "constant-notice",
   "metadata": {
    "id": "constant-notice"
   },
   "source": [
    "Realiza un estudio comparativo que nos diga si existen diferencias entre la supervivencia de hombres y mujeres."
   ]
  },
  {
   "cell_type": "code",
   "execution_count": null,
   "id": "serial-prime",
   "metadata": {
    "id": "serial-prime"
   },
   "outputs": [],
   "source": []
  },
  {
   "cell_type": "markdown",
   "id": "drawn-russian",
   "metadata": {
    "id": "drawn-russian"
   },
   "source": [
    "Realiza un intervalo de confianza del 95% que nos diga cual es la supervivencia de tratamiento, sexo, grupo de edad y grupo de IMC."
   ]
  },
  {
   "cell_type": "code",
   "execution_count": null,
   "id": "threaded-maker",
   "metadata": {
    "id": "threaded-maker"
   },
   "outputs": [],
   "source": []
  },
  {
   "cell_type": "markdown",
   "id": "apparent-consequence",
   "metadata": {
    "id": "apparent-consequence"
   },
   "source": [
    "Anade una nueva columna al dataframe que nos diga en que percentil de supervivencia se encuentra cada persona."
   ]
  },
  {
   "cell_type": "code",
   "execution_count": null,
   "id": "noticed-transport",
   "metadata": {
    "id": "noticed-transport"
   },
   "outputs": [],
   "source": []
  },
  {
   "cell_type": "markdown",
   "id": "champion-medication",
   "metadata": {
    "id": "champion-medication"
   },
   "source": [
    "La OMS ha publicado un estudio en el que se hayaron los siguientes resultados:\n",
    "\n",
    "- Las personas menores de 40 anios tienen una supervivencia estimada del 15% menor que las mayores de esa edad\n",
    "- Las mujeres tienen una supervivencia de un 5% mayor respecto a los hombres\n",
    "- Las personas con sobrepeso tienen una supervivencia menor del 7.5% respecto a las que no padecen sobrepeso\n",
    "\n",
    "Crea una funcion que utilizando _apply_ nos corrija la supervivencia de cada una de las personas en base a lo descrito anteriormente (lo puedes almacenar en una nueva columna llamada 'supervivencia_est'\n",
    "\n",
    "Para simplificar puedes asumir que los porcentajes se acumulan de forma que una mujer delgada y anciana tendra una supervivencia estimada aumentada por la suma de todos los porcentajes descritos."
   ]
  },
  {
   "cell_type": "code",
   "execution_count": null,
   "id": "corrected-seven",
   "metadata": {
    "id": "corrected-seven"
   },
   "outputs": [],
   "source": []
  }
 ],
 "metadata": {
  "colab": {
   "provenance": []
  },
  "kernelspec": {
   "display_name": "Python 3 (ipykernel)",
   "language": "python",
   "name": "python3"
  },
  "language_info": {
   "codemirror_mode": {
    "name": "ipython",
    "version": 3
   },
   "file_extension": ".py",
   "mimetype": "text/x-python",
   "name": "python",
   "nbconvert_exporter": "python",
   "pygments_lexer": "ipython3",
   "version": "3.9.7"
  }
 },
 "nbformat": 4,
 "nbformat_minor": 5
}
