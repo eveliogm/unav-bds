{
 "cells": [
  {
   "cell_type": "markdown",
   "metadata": {
    "id": "Qne2PG8ZmhZP"
   },
   "source": [
    "# Python para el análisis de datos -  UNAV\n",
    "---\n",
    "\n",
    "# NumPy"
   ]
  },
  {
   "cell_type": "markdown",
   "metadata": {
    "id": "VsqYbsXkmhZt"
   },
   "source": [
    "# Introduccion a NumPy<a name=\"introduccion_numpy\"></a>\n",
    "[Volver al índice](#indice)\n"
   ]
  },
  {
   "cell_type": "markdown",
   "metadata": {
    "id": "fIJZA58VmhZt"
   },
   "source": [
    "* Es una librería que nos permite representar de manera sencilla vectores multidimensionales.\n",
    "* Proporciona funciones y herramientas matemáticas para trabajar con los vectores.\n",
    "* Es muy eficiente y rápida a la hora de hacer cálculos con grandes cantidades de datos.\n",
    "\n",
    "Las matrices NumPy tienen varias ventajas sobre las listas de Python. Estos beneficios se centran en proporcionar la manipulación de alto rendimiento de secuencias de elementos de datos homogéneos. Varios de estos beneficios son los siguientes:\n",
    "- Asignación contigua en la memoria\n",
    "- Operaciones vectorizadas\n",
    "- Selección booleana\n",
    "- Sliceability\n",
    "\n",
    "Vamos a testear los beneficios de utilizar numpy vs listas."
   ]
  },
  {
   "cell_type": "code",
   "execution_count": 1,
   "metadata": {
    "colab": {
     "base_uri": "https://localhost:8080/"
    },
    "id": "yKnrXI8kmhZt",
    "outputId": "c05cadf7-5d06-4bd9-f53a-5c162c6ee828"
   },
   "outputs": [
    {
     "name": "stdout",
     "output_type": "stream",
     "text": [
      "26.1 ms ± 45.8 µs per loop (mean ± std. dev. of 7 runs, 10 loops each)\n"
     ]
    }
   ],
   "source": [
    "def squares(values):\n",
    "    result = []\n",
    "    for v in values:\n",
    "        result.append(v ** 2)\n",
    "    return result\n",
    "   # creamos lista de  100K elementos\n",
    "to_square = list(range(100000))\n",
    "# medimos tiempo de ejecucion con \n",
    "%timeit squares(to_square) "
   ]
  },
  {
   "cell_type": "code",
   "execution_count": 2,
   "metadata": {
    "colab": {
     "base_uri": "https://localhost:8080/"
    },
    "id": "NdeKpYYYmhZt",
    "outputId": "ffec9483-c775-4f74-fdea-757f95a31335"
   },
   "outputs": [
    {
     "name": "stdout",
     "output_type": "stream",
     "text": [
      "28.8 µs ± 194 ns per loop (mean ± std. dev. of 7 runs, 10000 loops each)\n"
     ]
    }
   ],
   "source": [
    "import numpy as np # directiva para importar libreria\n",
    "\n",
    "# mismo codigo lo hacemos con numpy\n",
    "array_to_square = np.arange(0, 100000)\n",
    "# medimos tiempo de la operacion vectorizada\n",
    "%timeit array_to_square ** 2"
   ]
  },
  {
   "cell_type": "markdown",
   "metadata": {
    "id": "vTqZh9HymhZu"
   },
   "source": [
    "Puedes ver como la vectorizacion ha reducido el tiempo de ejecucion de nuestro codigo en varios ordenes de magnitud.\n",
    "\n",
    "Esto saca a la luz algo a tener en cuenta cuando se trabaja con datos en NumPy y Pandas: si estas escribendo un _loop_ para iterar a través de elementos de una matriz NumPy, un _series_ de pandas o un DataFrame, entonces estás probablemente hacien algo incorrecto. Siempre has de tener en cuenta escribir código que haga uso de la vectorización. Casi siempre es más rápido, y se expresa de forma más elegante de forma vectorizada.\n",
    "\n",
    "La **selección booleana** es un patrón común que veremos con NumPy y pandas donde la selección de elementos de una matriz se basa en criterios específicos. Esto consiste en calcular una matriz de valores booleanos donde True representa que el elemento dado que debe estar en el conjunto de resultados. Esta matriz se puede usar para seleccionar eficientemente los elementos que coinciden."
   ]
  },
  {
   "cell_type": "markdown",
   "metadata": {
    "id": "x2HNW1vZmhZu"
   },
   "source": [
    "## Creacion de arrays en NumPy<a name=\"creacion_arrays_numpy\"></a>\n",
    "[Volver al índice](#indice)"
   ]
  },
  {
   "cell_type": "markdown",
   "metadata": {
    "id": "W8cdOhe8mhZu"
   },
   "source": [
    "Antes de poder crear un array NumPy tenemos que importar la libreria. Esto se hace como ya hemos visto con otras a traves del comando _import numpy_."
   ]
  },
  {
   "cell_type": "code",
   "execution_count": 3,
   "metadata": {
    "id": "2iDjn-u0mhZu"
   },
   "outputs": [],
   "source": [
    "import numpy as np # importamos y le decimos a python que lo llamaremos np"
   ]
  },
  {
   "cell_type": "markdown",
   "metadata": {
    "id": "oseGeru8mhZu"
   },
   "source": [
    "Un vector NumPy puede crearse de multiples formas, todas estas crean un vector NumPy."
   ]
  },
  {
   "cell_type": "code",
   "execution_count": 4,
   "metadata": {
    "colab": {
     "base_uri": "https://localhost:8080/"
    },
    "id": "nZZitNysmhZu",
    "outputId": "c12c59d4-5de1-4dc0-afaa-c71ee43f34e4"
   },
   "outputs": [
    {
     "name": "stdout",
     "output_type": "stream",
     "text": [
      "[1 2 3 4 5]\n",
      "<class 'numpy.ndarray'>\n",
      "5\n",
      "int64\n"
     ]
    }
   ],
   "source": [
    "# un array simple\n",
    "a1 = np.array([1, 2, 3, 4, 5])\n",
    "print(a1) # ojo no es una lista es un objeto numpy\n",
    "print(type(a1)) # el tipo es numpy.array\n",
    "print(np.size(a1)) # cual es el tamanio de nuestro vector\n",
    "print(a1.dtype) # que tipo de datos contiene nuestro vector"
   ]
  },
  {
   "cell_type": "markdown",
   "metadata": {
    "id": "gArRNLYbmhZu"
   },
   "source": [
    "En NumPy, las matrices n-dimensionales se denotan como ndarray, la de nuestro ejemplo contiene cinco elementos, como informa la función _np.size()_.\n",
    "Las matrices NumPy deben tener todos sus elementos del mismo tipo. Si especificas diferentes tipos en la lista, NumPy intentará realizar un casting de todos los elementos al mismo tipo (al tipo mas general). El siguiente ejemplo de código demuestra el uso de valores enteros y de coma flotante al inicializar la matriz, que luego se convierten a números de coma flotante por NumPy."
   ]
  },
  {
   "cell_type": "code",
   "execution_count": 5,
   "metadata": {
    "colab": {
     "base_uri": "https://localhost:8080/"
    },
    "id": "mx-PExcpmhZu",
    "outputId": "a76c0f5b-6d2d-4577-bf55-f5cebc46f42c"
   },
   "outputs": [
    {
     "name": "stdout",
     "output_type": "stream",
     "text": [
      "[1. 2. 3. 4. 5.]\n"
     ]
    }
   ],
   "source": [
    "# creando un array de enteros y floats\n",
    "a2 = np.array([1, 2, 3, 4.0, 5.0])\n",
    "print(a2) # numpy lo convierte a uno de floats"
   ]
  },
  {
   "cell_type": "markdown",
   "metadata": {
    "id": "51VRkML6mhZw"
   },
   "source": [
    "Si realizamos las misma operacion con una cadena dentro, NumPy nos convertira el tipo de los elementos del vector a str."
   ]
  },
  {
   "cell_type": "code",
   "execution_count": 6,
   "metadata": {
    "colab": {
     "base_uri": "https://localhost:8080/"
    },
    "id": "uLIT719JmhZw",
    "outputId": "6ba6a12a-9def-4a2f-faf5-1816606ea866"
   },
   "outputs": [
    {
     "name": "stdout",
     "output_type": "stream",
     "text": [
      "['1' '2' '3' '4.0' '5.0' 'hola']\n",
      "<U32\n"
     ]
    }
   ],
   "source": [
    "# creando un array de enteros y floats y cadenas\n",
    "a2 = np.array([1, 2, 3, 4.0, 5.0, 'hola'])\n",
    "print(a2) # numpy lo convierte a uno de floats\n",
    "print(a2.dtype) # <US32 es un tipo interno de numpy para representar una cadena.\n"
   ]
  },
  {
   "cell_type": "markdown",
   "metadata": {
    "id": "EjOi9q1lmhZw"
   },
   "source": [
    "**Aunque lo anterior funciona, NumPy es una libreria orientada al calculo numerico de modo que se desaconseja el almacenamiento de strings en su interior.** Pronto veremos librerias para el manejo mas sencillo y eficiente de cadenas."
   ]
  },
  {
   "cell_type": "code",
   "execution_count": 7,
   "metadata": {
    "colab": {
     "base_uri": "https://localhost:8080/"
    },
    "id": "HhLhq-2lmhZw",
    "outputId": "56a60864-f8de-4b8a-924b-2699eb3094a2"
   },
   "outputs": [
    {
     "name": "stdout",
     "output_type": "stream",
     "text": [
      "<class 'numpy.ndarray'>\n",
      "(3,)\n",
      "1 2 3\n",
      "[5 2 3]\n",
      "--------------------\n",
      "(2, 3)\n",
      "1 2 4\n",
      "[[1 2 3]\n",
      " [4 5 6]]\n"
     ]
    }
   ],
   "source": [
    "a = np.array([1, 2, 3])  # Crea un array de rango 1\n",
    "print(type(a))            # imprime \"<type 'numpy.ndarray'>\"\n",
    "print(a.shape)           # imprime \"(3,)\"\n",
    "print(a[0], a[1], a[2])   # imprime \"1 2 3\"\n",
    "a[0] =(5)                 # cambia un elemento del \n",
    "print(a)                  # imprime \"[5, 2, 3]\"\n",
    "print('-'*20)\n",
    "b = np.array([[1,2,3],[4,5,6]])   # crea de dos dimensiones \n",
    "\n",
    "#################CAMBIAR DIMENSIÓN DE UNA\n",
    "\n",
    "print(b.shape)                     # imprime \"(2, 3)\"\n",
    "print(b[0, 0], b[0, 1], b[1, 0])  # imprime \"1 2 4\"\n",
    "print(b)"
   ]
  },
  {
   "cell_type": "markdown",
   "metadata": {
    "id": "Gdi1u46zmhZw"
   },
   "source": [
    "Es importante distinguir entre _numero de dimensiones_ y _forma_."
   ]
  },
  {
   "cell_type": "code",
   "execution_count": 8,
   "metadata": {
    "colab": {
     "base_uri": "https://localhost:8080/"
    },
    "id": "ItdzK6WMmhZw",
    "outputId": "2bbca245-5492-42ca-968c-a1ebbea8d5f8"
   },
   "outputs": [
    {
     "name": "stdout",
     "output_type": "stream",
     "text": [
      "El numero de dimensiones de a son: 2\n",
      "El forma es de a es: (3, 3)\n",
      "[[0. 0. 0.]\n",
      " [0. 0. 0.]\n",
      " [0. 0. 0.]]\n"
     ]
    }
   ],
   "source": [
    "a = np.zeros((3,3))\n",
    "\n",
    "print('El numero de dimensiones de a son:', len(a.shape)) # nos dice cuantas dimensiones tiene la matriz\n",
    "print('El forma es de a es:', a.shape) # nos dice cuantos elementos tiene cada dimension\n",
    "print(a)"
   ]
  },
  {
   "cell_type": "markdown",
   "metadata": {
    "id": "3HYjBLH3mhZx"
   },
   "source": [
    "## Metodos para la creacion de arrays en NumPy<a name=\"metodos_creacion_arrays_numpy\"></a>\n",
    "[Volver al índice](#indice)"
   ]
  },
  {
   "cell_type": "markdown",
   "metadata": {
    "id": "nU6ik4idmhZx"
   },
   "source": [
    "Provee de diferentes metodos para crear arrays.  \n",
    "\n",
    "Creacion de un array de ceros."
   ]
  },
  {
   "cell_type": "code",
   "execution_count": 9,
   "metadata": {
    "colab": {
     "base_uri": "https://localhost:8080/"
    },
    "id": "ZvyOK5NnmhZx",
    "outputId": "036ba0d1-c610-4b8e-e752-5faa007140d1"
   },
   "outputs": [
    {
     "name": "stdout",
     "output_type": "stream",
     "text": [
      "[[0. 0.]\n",
      " [0. 0.]] \n",
      "---\n"
     ]
    }
   ],
   "source": [
    "a = np.zeros((2,2))  # crea array de zeros de 2 x 2\n",
    "print(a, '\\n---')"
   ]
  },
  {
   "cell_type": "markdown",
   "metadata": {
    "id": "v3blAHsumhZx"
   },
   "source": [
    "Creacion de un array de unos."
   ]
  },
  {
   "cell_type": "code",
   "execution_count": 10,
   "metadata": {
    "colab": {
     "base_uri": "https://localhost:8080/"
    },
    "id": "KFr4tetfmhZx",
    "outputId": "299c21cf-c3b4-43c6-96a0-5efb959d91df"
   },
   "outputs": [
    {
     "name": "stdout",
     "output_type": "stream",
     "text": [
      "[[1. 1.]\n",
      " [1. 1.]] \n",
      "---\n"
     ]
    }
   ],
   "source": [
    "b = np.ones((2,2))   # Crea array de unos de 2 x 2\n",
    "print(b, '\\n---') "
   ]
  },
  {
   "cell_type": "markdown",
   "metadata": {
    "id": "5UT4zcB_mhZx"
   },
   "source": [
    "Creacion de un array de una constante."
   ]
  },
  {
   "cell_type": "code",
   "execution_count": 11,
   "metadata": {
    "colab": {
     "base_uri": "https://localhost:8080/"
    },
    "id": "MMkpQpz4mhZx",
    "outputId": "239ee049-f79e-4489-f8c9-a39e12ebf783"
   },
   "outputs": [
    {
     "name": "stdout",
     "output_type": "stream",
     "text": [
      "[[7. 7.]\n",
      " [7. 7.]] \n",
      "---\n"
     ]
    }
   ],
   "source": [
    "c = np.full((2,2), 7.) # crea un array de una constante de 2 x 2\n",
    "print(c, '\\n---')"
   ]
  },
  {
   "cell_type": "markdown",
   "metadata": {
    "id": "wFwHQk0WmhZy"
   },
   "source": [
    "Creacion de matriz identidad."
   ]
  },
  {
   "cell_type": "code",
   "execution_count": 12,
   "metadata": {
    "colab": {
     "base_uri": "https://localhost:8080/"
    },
    "id": "RtmmK2PWmhZy",
    "outputId": "67a0c922-e5a3-44c7-dd18-52ddeaa4a1f3"
   },
   "outputs": [
    {
     "name": "stdout",
     "output_type": "stream",
     "text": [
      "[[1. 0.]\n",
      " [0. 1.]] \n",
      "---\n"
     ]
    }
   ],
   "source": [
    "d = np.eye(2)        # crea una array (matriz) 2x2 identidad\n",
    "print(d, '\\n---')"
   ]
  },
  {
   "cell_type": "markdown",
   "metadata": {
    "id": "ULv5Q9gRmhZy"
   },
   "source": [
    "Creacion de array con valores aleatorios."
   ]
  },
  {
   "cell_type": "code",
   "execution_count": 13,
   "metadata": {
    "colab": {
     "base_uri": "https://localhost:8080/"
    },
    "id": "3ywr7A4MmhZy",
    "outputId": "8b4660f2-0ab2-4aa0-f788-71fdbcecdd24"
   },
   "outputs": [
    {
     "name": "stdout",
     "output_type": "stream",
     "text": [
      "[[0.16373853 0.887123  ]\n",
      " [0.67831456 0.40625632]] \n",
      "---\n"
     ]
    }
   ],
   "source": [
    "e = np.random.random((2,2)) # crea array con valores aleatorios 2x2\n",
    "print(e, '\\n---')"
   ]
  },
  {
   "cell_type": "markdown",
   "metadata": {
    "id": "9g_5YD0-mhZy"
   },
   "source": [
    "La funcion arange de modo similar a la funcion range nos permite crear un array."
   ]
  },
  {
   "cell_type": "code",
   "execution_count": 14,
   "metadata": {
    "id": "WFKTRmhWmhZy",
    "outputId": "4c52eff2-96c9-420a-e613-218e0e98a514"
   },
   "outputs": [
    {
     "name": "stdout",
     "output_type": "stream",
     "text": [
      "[0.  0.5 1.  1.5 2.  2.5 3.  3.5 4.  4.5 5.  5.5 6.  6.5 7.  7.5 8.  8.5\n",
      " 9.  9.5]\n"
     ]
    }
   ],
   "source": [
    "x = np.arange(0, 10, .5)\n",
    "print(x)"
   ]
  },
  {
   "cell_type": "markdown",
   "metadata": {
    "id": "0HgD0--smhZz"
   },
   "source": [
    "Creacion de un array de _n_ elementos distribuidos linealmente."
   ]
  },
  {
   "cell_type": "code",
   "execution_count": 15,
   "metadata": {
    "id": "zLtnjejQmhZz",
    "outputId": "ea32ebe1-03fa-4627-b64a-75c8930e326e"
   },
   "outputs": [
    {
     "name": "stdout",
     "output_type": "stream",
     "text": [
      "[0.  0.1 0.2 0.3 0.4 0.5 0.6 0.7 0.8 0.9 1. ]\n"
     ]
    }
   ],
   "source": [
    "x = np.linspace(0, 1, 11) \n",
    "print(x)"
   ]
  },
  {
   "cell_type": "markdown",
   "metadata": {
    "id": "pkDWYgemmhZz"
   },
   "source": [
    "Si estas interesado en mas funciones para el creado puedes acudir a la [pagina oficial de la documentacion de NumPy](https://docs.scipy.org/doc/numpy-1.13.0/reference/routines.array-creation.html#routines-array-creation)"
   ]
  },
  {
   "cell_type": "markdown",
   "metadata": {
    "id": "7XQXpegimhZz"
   },
   "source": [
    "## Indexado<a name=\"indexado_numpy\"></a>\n",
    "[Volver al índice](#indice)"
   ]
  },
  {
   "cell_type": "markdown",
   "metadata": {
    "id": "7ckh4eX0mhZz"
   },
   "source": [
    "Al igual que las listas, para acceder a los arrays se puede utilizar el operador de corte (_slicing_). Al ser arrays multidimensionales hay que especificar las dimensiones a las que queremos acceder"
   ]
  },
  {
   "cell_type": "code",
   "execution_count": 16,
   "metadata": {
    "colab": {
     "base_uri": "https://localhost:8080/"
    },
    "id": "V06sv4lhmhZz",
    "outputId": "73117dee-2f57-46da-fb5d-2e5f8315a556"
   },
   "outputs": [
    {
     "name": "stdout",
     "output_type": "stream",
     "text": [
      "(3, 4)\n",
      "2\n",
      "[[ 1  2  3  4]\n",
      " [ 5  6  7  8]\n",
      " [ 9 10 11 12]]\n",
      "3\n",
      "(2, 2, 3)\n",
      "[[[1 2 3]\n",
      "  [4 5 6]]\n",
      "\n",
      " [[1 2 3]\n",
      "  [4 5 6]]]\n"
     ]
    }
   ],
   "source": [
    "# crea array de dimensiones 2 y shape (3,4)\n",
    "a = np.array([[1,2,3,4], [5,6,7,8], [9,10,11,12]])\n",
    "print(a.shape)\n",
    "print(a.ndim)\n",
    "print(a)\n",
    "# crea array de dimensiones 2 y shape (4,3)\n",
    "arr = np.array([[[1, 2, 3], [4, 5, 6]], [[1, 2, 3], [4, 5, 6]]])\n",
    "print(arr.ndim)\n",
    "print(arr.shape)\n",
    "print(arr)"
   ]
  },
  {
   "cell_type": "code",
   "execution_count": 17,
   "metadata": {
    "colab": {
     "base_uri": "https://localhost:8080/"
    },
    "id": "pqX3B8idmhZz",
    "outputId": "1d5acf4c-2612-46ad-f985-299ed59824ac"
   },
   "outputs": [
    {
     "name": "stdout",
     "output_type": "stream",
     "text": [
      "[[2 3]\n",
      " [6 7]]\n"
     ]
    }
   ],
   "source": [
    "# Utiliza slicing para extrar un subarray que consiste de las dos primeras filas y las columnas 1 y 2\n",
    "b = a[:2, 1:3]\n",
    "print(b)"
   ]
  },
  {
   "cell_type": "markdown",
   "metadata": {
    "id": "sUhigLvVmhZ0"
   },
   "source": [
    "**No se crea una copia cuando se hace _slicing_, la nueva variable apunta a la misma zona de memoria. Si se modifica el _slice_ se modifica el original. **"
   ]
  },
  {
   "cell_type": "code",
   "execution_count": 12,
   "metadata": {
    "colab": {
     "base_uri": "https://localhost:8080/"
    },
    "id": "hir2LitzmhZ0",
    "outputId": "9b164c32-beeb-4cce-87e8-641cc866cadc"
   },
   "outputs": [
    {
     "name": "stdout",
     "output_type": "stream",
     "text": [
      "2\n",
      "77\n",
      "[[ 1 77  3  4]\n",
      " [ 5  6  7  8]\n",
      " [ 9 10 11 12]]\n"
     ]
    }
   ],
   "source": [
    "# Un slice de un array apunta a la misma zona de memoria de modo\n",
    "#que modificando este, modificamos el array original\n",
    "print(a[0, 1])\n",
    "b[0, 0] = 77    \n",
    "print(a[0, 1])  \n",
    "print(a)\n",
    "\n",
    "#######################HACER PRUEBAS CON SLICING DE LISTAS Y EXPLICAR DE NUEVO PUNTEROS"
   ]
  },
  {
   "cell_type": "markdown",
   "metadata": {
    "id": "ZUcoAzpRmhZ0"
   },
   "source": [
    "Se puede acceder a los elementos combinando _slicing_ e indexado simple. Si se accede usando un entero se obtiene un array de rango menor."
   ]
  },
  {
   "cell_type": "code",
   "execution_count": 13,
   "metadata": {
    "colab": {
     "base_uri": "https://localhost:8080/"
    },
    "id": "qFcNDmVsmhZ0",
    "outputId": "cec7eeb7-e068-4f63-faaa-4afd3af552b7"
   },
   "outputs": [
    {
     "name": "stdout",
     "output_type": "stream",
     "text": [
      "[[ 1  2  3  4]\n",
      " [ 5  6  7  8]\n",
      " [ 9 10 11 12]]\n"
     ]
    }
   ],
   "source": [
    "# crea array de rango 2 y shape (3,4)\n",
    "a = np.array([[1,2,3,4], [5,6,7,8], [9,10,11,12]])\n",
    "print(a)"
   ]
  },
  {
   "cell_type": "code",
   "execution_count": 14,
   "metadata": {
    "colab": {
     "base_uri": "https://localhost:8080/"
    },
    "id": "nIOWkWEKmhZ0",
    "outputId": "f110ee0e-2f1f-4839-b8fe-7756488b1169"
   },
   "outputs": [
    {
     "name": "stdout",
     "output_type": "stream",
     "text": [
      "[5 6 7 8] (4,)\n"
     ]
    }
   ],
   "source": [
    "fila1 = a[1, :]    # Accede a la primera fila y retorna array de dimension 1 y 4 elementos\n",
    "print(fila1, fila1.shape)"
   ]
  },
  {
   "cell_type": "markdown",
   "metadata": {
    "id": "cSb24N97mhZ0"
   },
   "source": [
    "Si se accede usando _slicing_ se obtiene un array del mismo numero de dimensiones."
   ]
  },
  {
   "cell_type": "code",
   "execution_count": null,
   "metadata": {
    "id": "DqO3XY1EmhZ1",
    "outputId": "0ac93431-4f61-4b73-99f9-21dbf645af16"
   },
   "outputs": [
    {
     "name": "stdout",
     "output_type": "stream",
     "text": [
      "[[5 6 7 8]] (1, 4)\n"
     ]
    }
   ],
   "source": [
    "fila2 = a[1:2, :]  # Accede a la primera fila y retorna array de rango 2 igual al original\n",
    "print(fila2, fila2.shape)  # imprime \"[[5 6 7 8]] (1, 4)\""
   ]
  },
  {
   "cell_type": "markdown",
   "metadata": {
    "id": "4X7FAeKhmhZ1"
   },
   "source": [
    "Tambien se puede acceder a diferentes elementos en diferentes filas y columnas"
   ]
  },
  {
   "cell_type": "code",
   "execution_count": 16,
   "metadata": {
    "colab": {
     "base_uri": "https://localhost:8080/"
    },
    "id": "o4bZxEw3mhZ1",
    "outputId": "3d3e2833-0087-4353-aabc-9970aad99819"
   },
   "outputs": [
    {
     "name": "stdout",
     "output_type": "stream",
     "text": [
      "[[ 1  2  3  4]\n",
      " [ 5  6  7  8]\n",
      " [ 9 10 11 12]] \n",
      "---\n",
      "[ 1 12] \n",
      "---\n",
      "[[ 1  2  3  4]\n",
      " [ 9 10 11 12]] \n",
      "---\n",
      "[14 18 22] \n",
      "---\n"
     ]
    }
   ],
   "source": [
    "# crea array de rango 2 y shape (3,4)\n",
    "a = np.array([[1,2,3,4], [5,6,7,8], [9,10,11,12]])\n",
    "print(a, '\\n---')\n",
    "\n",
    "print(a[[0,2],[0,3]], '\\n---') #PRIMER ELEMENTO SELECCIONA FILAS, SEGUNDO ELEMENTO COLUMNAS\n",
    "print(a[[0,2],:], '\\n---')\n",
    "print(a[:,-1] + 10, '\\n---')\n"
   ]
  },
  {
   "cell_type": "markdown",
   "metadata": {
    "id": "CsARB_39mhZ1"
   },
   "source": [
    "Tambien se puede acceder utilizando un indexado booleano _True_ y _False_"
   ]
  },
  {
   "cell_type": "code",
   "execution_count": 17,
   "metadata": {
    "colab": {
     "base_uri": "https://localhost:8080/"
    },
    "id": "6pP2EmHzmhZ1",
    "outputId": "46fcc382-66b4-41d8-df5d-7b1900a20fba"
   },
   "outputs": [
    {
     "name": "stdout",
     "output_type": "stream",
     "text": [
      "[[1 2]\n",
      " [3 4]\n",
      " [5 6]] \n",
      "---\n",
      "[[False False]\n",
      " [ True  True]\n",
      " [ True  True]] \n",
      "---\n",
      "[3 4 5 6] \n",
      "---\n",
      "[13 14 15 16]\n"
     ]
    }
   ],
   "source": [
    "a = np.array([[1,2], [3, 4], [5, 6]])\n",
    "print(a, '\\n---')\n",
    "\n",
    "bool_idx = (a > 2)  # encuentra indices que son mayores que 2 y devuelve array booleano\n",
    "print(bool_idx, '\\n---')\n",
    "\n",
    "print(a[bool_idx], '\\n---')\n",
    "# todo de una vez en modo pythonico\n",
    "print(a[a > 2] + 10)"
   ]
  },
  {
   "cell_type": "markdown",
   "metadata": {
    "id": "NKTRhRqnmhZ2"
   },
   "source": [
    "### Tipos de datos<a name=\"tipos_de_datos\"></a>\n",
    "[Volver al índice](#indice)"
   ]
  },
  {
   "cell_type": "markdown",
   "metadata": {
    "id": "uy37Z9ixmhZ2"
   },
   "source": [
    "Numpy define nuevos tipos de datos que representan a los que ya conocemos pero no son los mismos"
   ]
  },
  {
   "cell_type": "code",
   "execution_count": 18,
   "metadata": {
    "colab": {
     "base_uri": "https://localhost:8080/"
    },
    "id": "dHBK9FWBmhZ2",
    "outputId": "71a6ae62-a7aa-4a1e-beb7-f0f24ab2cf8d"
   },
   "outputs": [
    {
     "name": "stdout",
     "output_type": "stream",
     "text": [
      "int64\n",
      "float64\n",
      "int64\n",
      "False\n",
      "True\n"
     ]
    }
   ],
   "source": [
    "x = np.array([1, 2])  # numpy elige el tipo de datos\n",
    "print(x.dtype)\n",
    "\n",
    "x = np.array([1.0, 2.0])  # numpy elige el tipo de dato\n",
    "print(x.dtype) \n",
    "\n",
    "x = np.array([1, 2], dtype=np.int64)  # forzamos un tipo de dato concreto\n",
    "print(x.dtype) \n",
    "print(x.dtype is int)\n",
    "print(x.dtype == np.int64)"
   ]
  },
  {
   "cell_type": "markdown",
   "metadata": {
    "id": "VTZcnQoGmhZ2"
   },
   "source": [
    "### Funciones matematicas<a name=\"funciones_matematicas\"></a>\n",
    "[Volver al índice](#indice)"
   ]
  },
  {
   "cell_type": "markdown",
   "metadata": {
    "id": "GdGjeMILmhZ2"
   },
   "source": [
    "Se pueden realizar funciones matematicas sencillas entre arrays de la siguiente forma.  \n",
    "Suma y resta."
   ]
  },
  {
   "cell_type": "code",
   "execution_count": 9,
   "metadata": {
    "colab": {
     "base_uri": "https://localhost:8080/"
    },
    "id": "grpakMkgmhZ2",
    "outputId": "84ffe531-0820-4ed8-8045-31070490f9cc"
   },
   "outputs": [
    {
     "name": "stdout",
     "output_type": "stream",
     "text": [
      "616 ns ± 11.4 ns per loop (mean ± std. dev. of 7 runs, 1000000 loops each)\n",
      "635 ns ± 6.44 ns per loop (mean ± std. dev. of 7 runs, 1000000 loops each)\n",
      "----------\n",
      "[[-4. -4.]\n",
      " [-4. -4.]]\n",
      "[[-4. -4.]\n",
      " [-4. -4.]]\n",
      "----------\n"
     ]
    }
   ],
   "source": [
    "\n",
    "x = np.array([[1,2],[3,4]], dtype=np.float64)\n",
    "y = np.array([[5,6],[7,8]], dtype=np.float64)\n",
    "\n",
    "# suma elemento a elemento\n",
    "%timeit x + y\n",
    "%timeit np.add(x, y)\n",
    "print('-'*10)\n",
    "\n",
    "#import pdb; pdb.set_trace()\n",
    "\n",
    "# resta elemento a elemento\n",
    "print(x - y)\n",
    "print(np.subtract(x, y))\n",
    "print('-'*10)"
   ]
  },
  {
   "cell_type": "markdown",
   "metadata": {
    "id": "wtL715MXmhZ2"
   },
   "source": [
    "Multiplicacion y division."
   ]
  },
  {
   "cell_type": "code",
   "execution_count": 10,
   "metadata": {
    "colab": {
     "base_uri": "https://localhost:8080/"
    },
    "id": "LY0ifAYimhZ3",
    "outputId": "9114ff84-1948-41d7-e9ea-23364402101b"
   },
   "outputs": [
    {
     "name": "stdout",
     "output_type": "stream",
     "text": [
      "[[ 5. 12.]\n",
      " [21. 32.]]\n",
      "[[ 5. 12.]\n",
      " [21. 32.]]\n",
      "----------\n",
      "[[0.2        0.33333333]\n",
      " [0.42857143 0.5       ]]\n",
      "[[0.2        0.33333333]\n",
      " [0.42857143 0.5       ]]\n",
      "----------\n"
     ]
    }
   ],
   "source": [
    "# producto elemento a elemento\n",
    "native = x * y\n",
    "print(native)\n",
    "print(np.multiply(x, y))\n",
    "print('-'*10)\n",
    "\n",
    "# division elemento a elemento\n",
    "print(x / y)\n",
    "print(np.divide(x, y))\n",
    "print('-'*10)"
   ]
  },
  {
   "cell_type": "markdown",
   "metadata": {
    "id": "aI8OpmhHmhZ3"
   },
   "source": [
    "Raiz cuadrada"
   ]
  },
  {
   "cell_type": "code",
   "execution_count": null,
   "metadata": {
    "id": "oHdDKbt5mhZ3",
    "outputId": "89c318b1-6c7f-45b3-f244-17d66ba4f061"
   },
   "outputs": [
    {
     "name": "stdout",
     "output_type": "stream",
     "text": [
      "[[1.         1.41421356]\n",
      " [1.73205081 2.        ]]\n",
      "----------\n"
     ]
    }
   ],
   "source": [
    "# raiz cuadrada elemento a elemento\n",
    "print(np.sqrt(x))\n",
    "print('-'*10)"
   ]
  },
  {
   "cell_type": "markdown",
   "metadata": {
    "id": "8_y8RUsuWWc2"
   },
   "source": [
    "## Vectorizando funciones (acabando con el for) <a name=\"vectorizando_funciones\"></a>\n",
    "[Volver al índice](#indice)"
   ]
  },
  {
   "cell_type": "markdown",
   "metadata": {
    "id": "AfdTBVyeaE8n"
   },
   "source": [
    "Una de las ventajas de trabajar con arrays numéricos en NumPy es sacar provecho de la optimización que se produce a nivel de la propia estructura de datos. En el caso de que queramos implementar una función propia para realizar una determinada acción, sería deseable seguir aprovechando esa característica."
   ]
  },
  {
   "cell_type": "code",
   "execution_count": 11,
   "metadata": {
    "id": "u8WyulA7aE8o"
   },
   "outputs": [],
   "source": [
    "def customf(a, b):\n",
    "    if a > b:\n",
    "        return a + b\n",
    "    elif a < b:\n",
    "        return a - b\n",
    "    else:\n",
    "        return 0"
   ]
  },
  {
   "cell_type": "markdown",
   "metadata": {
    "id": "cSE6aortaE8o"
   },
   "source": [
    "Las dos matrices de partida tienen 9M de valores aleatorios entre -100 y 100:"
   ]
  },
  {
   "cell_type": "code",
   "execution_count": 12,
   "metadata": {
    "id": "DdLDpXFcaE8o"
   },
   "outputs": [],
   "source": [
    "a = np.random.randint(-100, 100, size=(300, 300))\n",
    "b = np.random.randint(-100, 100, size=(300, 300))"
   ]
  },
  {
   "cell_type": "markdown",
   "metadata": {
    "id": "O0D74hEvaE8o"
   },
   "source": [
    "Una primera aproximación para aplicar esta función a cada elemento de las matrices de entrada sería la siguiente:"
   ]
  },
  {
   "cell_type": "code",
   "execution_count": 13,
   "metadata": {
    "colab": {
     "base_uri": "https://localhost:8080/"
    },
    "id": "aqN6NYWkaE8o",
    "outputId": "7e061293-d792-4f53-8daa-cb43e863b59a"
   },
   "outputs": [
    {
     "name": "stdout",
     "output_type": "stream",
     "text": [
      "60.8 ms ± 724 µs per loop (mean ± std. dev. of 7 runs, 10 loops each)\n"
     ]
    }
   ],
   "source": [
    "def custom_para_matriz(a,b):\n",
    "    result = np.zeros_like(a)\n",
    "\n",
    "    for i in range(a.shape[0]):\n",
    "        for j in range(a.shape[1]):\n",
    "            result[i, j] = customf(a[i, j], b[i, j])\n",
    "    return result\n",
    "\n",
    "%timeit custom_para_matriz(a,b)\n"
   ]
  },
  {
   "cell_type": "markdown",
   "metadata": {
    "id": "cjeGqSCDaE8o"
   },
   "source": [
    "Con un pequeño detalle podemos mejorar el rendimiento de la función que hemos diseñado anteriormente. Se trata de decorarla con np.vectorize con lo que estamos otorgándole un comportamiento distinto y enfocado al procesamiento de arrays numéricos:"
   ]
  },
  {
   "cell_type": "code",
   "execution_count": 14,
   "metadata": {
    "id": "I5-mRrWOaE8o"
   },
   "outputs": [],
   "source": [
    "@np.vectorize\n",
    "def customf(a, b):\n",
    "    if a > b:\n",
    "        return a + b\n",
    "    elif a < b:\n",
    "        return a - b\n",
    "    else:\n",
    "        return 0"
   ]
  },
  {
   "cell_type": "markdown",
   "metadata": {
    "id": "lRBk3ZVxaE8o"
   },
   "source": [
    "Dado que ahora ya se trata de una función vectorizada podemos aplicarla directamente a las matrices de entrada (aprovechamos para medir su tiempo de ejecución):"
   ]
  },
  {
   "cell_type": "code",
   "execution_count": 15,
   "metadata": {
    "colab": {
     "base_uri": "https://localhost:8080/"
    },
    "id": "9c_TjXPnaE8o",
    "outputId": "11f976f1-15f5-42b2-e6ba-5646942406c7"
   },
   "outputs": [
    {
     "name": "stdout",
     "output_type": "stream",
     "text": [
      "26.6 ms ± 1.11 ms per loop (mean ± std. dev. of 7 runs, 10 loops each)\n"
     ]
    }
   ],
   "source": [
    "%timeit customf(a, b)"
   ]
  },
  {
   "cell_type": "markdown",
   "metadata": {
    "id": "JdRHqR88mhZ3"
   },
   "source": [
    "### Metodos<a name=\"metodos\"></a>\n",
    "[Volver al índice](#indice)"
   ]
  },
  {
   "cell_type": "markdown",
   "metadata": {
    "id": "JQPK8JD6mhZ3"
   },
   "source": [
    "Estadisticos."
   ]
  },
  {
   "cell_type": "code",
   "execution_count": null,
   "metadata": {
    "id": "vxEVPRHumhZ3",
    "outputId": "dfa01b23-e493-42f4-83e6-ac50a582c75c"
   },
   "outputs": [
    {
     "name": "stdout",
     "output_type": "stream",
     "text": [
      "78\n",
      "6.5\n",
      "6.5\n",
      "3.452052529534663\n",
      "11.916666666666666\n",
      "1\n",
      "12\n",
      "0\n",
      "11\n",
      "[ 1  3  6 10 15 21 28 36 45 55 66 78]\n",
      "[        1         2         6        24       120       720      5040\n",
      "     40320    362880   3628800  39916800 479001600]\n"
     ]
    }
   ],
   "source": [
    "a = np.array([[1,2,3,4], [5,6,7,8], [9,10,11,12]])\n",
    "print(a.sum()) # suma\n",
    "print(a.mean()) # media\n",
    "print(np.median(a)) # mediana\n",
    "print(a.std()) # desviacion estandar\n",
    "print(a.var()) # varianza\n",
    "print(a.min()) # minimo\n",
    "print(a.max()) # maximo\n",
    "print(a.argmin()) # indice del elemento minimo\n",
    "print(a.argmax()) # indice del elemento maximo\n",
    "print(a.cumsum()) # suma acumulada\n",
    "print(a.cumprod()) # producto acumulado"
   ]
  }
 ],
 "metadata": {
  "colab": {
   "provenance": []
  },
  "kernelspec": {
   "display_name": "Python 3 (ipykernel)",
   "language": "python",
   "name": "python3"
  },
  "language_info": {
   "codemirror_mode": {
    "name": "ipython",
    "version": 3
   },
   "file_extension": ".py",
   "mimetype": "text/x-python",
   "name": "python",
   "nbconvert_exporter": "python",
   "pygments_lexer": "ipython3",
   "version": "3.9.7"
  }
 },
 "nbformat": 4,
 "nbformat_minor": 4
}
