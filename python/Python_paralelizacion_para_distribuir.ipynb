{
 "cells": [
  {
   "cell_type": "markdown",
   "metadata": {
    "id": "QQM7oRc6eMui"
   },
   "source": [
    "# Python para el análisis de datos -  UNAV\n",
    "---\n",
    "\n",
    "# Paralelización"
   ]
  },
  {
   "cell_type": "markdown",
   "metadata": {
    "id": "Zx1R1Fm7eMu-"
   },
   "source": [
    "## Paralelización en procesado de datos"
   ]
  },
  {
   "cell_type": "markdown",
   "metadata": {
    "id": "4JTD7SzHeMu-"
   },
   "source": [
    "El consumo de grandes cantidades de datos hace que cada vez surja más información sobre cómo paralelizar tareas en el ámbito de Data Science.\n",
    "\n",
    "Dentro de toda esta información, existen dos grandes bloques:\n",
    "\n",
    "- **Multiprocessing**: paralelización cuando tienes varios procesadores y por lo tanto no comparten muchos de los recursos entre ellos. Suele utilizarse cuando hay un uso intensivo de CPU y no hay IO o interacción con el usuario. Quieres lanzar procesos paralelos y te da importan las colisiones que pueda ver, pero no tienen recursos comunes. No tienen cosas en comun. \n",
    "\n",
    "- **Threading**: son hilos que corren dentro de los mismos procesadores y que, por tanto, comparten recursos. Suele ser utilizado con aplicaciones con interacción con usuarios pero, en Data Science, con web scrapping. Por ejemplo, Tensor Flow lo utiliza nativamente. Te da igual las colisiones que pueda a ver por acceder a los mismos recursos de memoria. Puedes tener varaibles iguales. \n",
    "\n",
    "Es más difícil encontrar casos de uso del multiprocessing sobre todo si estás trabajando en la nube, por tanto, nosotros sólo analizaremos la creación de hilos. Pero todas las técnicas son bastante análogas."
   ]
  },
  {
   "cell_type": "markdown",
   "metadata": {
    "id": "STOB4gug9guQ"
   },
   "source": [
    "## Módulo thread/threading"
   ]
  },
  {
   "cell_type": "markdown",
   "metadata": {
    "id": "2j2YqBox9gua"
   },
   "source": [
    "En python tenemos dos módulos que nos permiten tratar con hilos.\n",
    "\n",
    "El módulo thread (_thread en python 3) es el de más bajo nivel y tiene algunas funciones que nos permiten trabajar con hilos, generalmente no hay necesidad de hacer uso de él. \n",
    "\n",
    "El módulo threading es de más alto nivel y tiene la clase Thread, que representa un hilo. Veremos ejemplos sólo, por eso, de este módulo, los ejemplos sobre el otro son análogos.\n",
    "\n",
    "Podéis encontrar otros módulos en python por similares propósitos."
   ]
  },
  {
   "cell_type": "markdown",
   "metadata": {
    "id": "fJHwTDSYeOzz"
   },
   "source": [
    "## Arrancando un hilo"
   ]
  },
  {
   "cell_type": "markdown",
   "metadata": {
    "id": "wwl6cH076Ktp"
   },
   "source": [
    "Un módulo de alto nivel que nos permite hacer hilos en python es threading. Este módulo, entre otras cosas, tiene una clase Thread, que es la que representa el hilo. Para hacer un hilo, debemos heredar de ella y definir el método run(). Lo que pongamos en ese método se ejecutará en un hilo aparte. Para arrancar el hilo, debemos instanciar la clase hija de Thread que hayamos hecho y llamar a su método start(). Los pasos básicos con estos"
   ]
  },
  {
   "cell_type": "code",
   "execution_count": 1,
   "metadata": {
    "colab": {
     "base_uri": "https://localhost:8080/"
    },
    "id": "F9Nbl125eMu-",
    "outputId": "3c65c3d0-a84a-4b33-ed56-7b1091df33ea"
   },
   "outputs": [
    {
     "name": "stdout",
     "output_type": "stream",
     "text": [
      "pasando\n"
     ]
    }
   ],
   "source": [
    "from threading import Thread\n",
    "\n",
    "class MiHilo(Thread):\n",
    "    def run(self):\n",
    "        print(\"pasando\")\n",
    "\n",
    "# Arranque del hilo\n",
    "hilo = MiHilo()\n",
    "hilo.start()\n"
   ]
  },
  {
   "cell_type": "code",
   "execution_count": null,
   "metadata": {},
   "outputs": [],
   "source": []
  },
  {
   "cell_type": "markdown",
   "metadata": {
    "id": "hDPIXHImeMu-"
   },
   "source": [
    "A la clase también le podemos poner parámetros, en el constructor, como a cualquier otra:"
   ]
  },
  {
   "cell_type": "code",
   "execution_count": 2,
   "metadata": {
    "colab": {
     "base_uri": "https://localhost:8080/"
    },
    "id": "GLWz0Y7vFSdz",
    "outputId": "4124f5e8-e8d4-480f-c745-5fe1da390509"
   },
   "outputs": [
    {
     "name": "stdout",
     "output_type": "stream",
     "text": [
      "pasando ahora\n"
     ]
    }
   ],
   "source": [
    "class MiHilo(Thread):\n",
    "    def __init__(self, texto):\n",
    "        Thread.__init__(self)\n",
    "        self.texto= texto\n",
    "    def run(self):\n",
    "        print(\"pasando \" + self.texto)\n",
    "\n",
    "# Arranque del hilo\n",
    "hilo = MiHilo(\"ahora\")\n",
    "hilo.start()"
   ]
  },
  {
   "cell_type": "markdown",
   "metadata": {
    "id": "dOL48sKdH3d8"
   },
   "source": [
    "Hay que aclarar que el \"main\" podrá acabar pero el programa seguirá vivo hasta que todos los hilos terminen"
   ]
  },
  {
   "cell_type": "markdown",
   "metadata": {
    "id": "5pLl7RZgMoTO"
   },
   "source": [
    "## Ejemplo para ver ejecución"
   ]
  },
  {
   "cell_type": "markdown",
   "metadata": {
    "id": "GE967BpEMoTO"
   },
   "source": [
    "Este ejemplo crea un número de hilos por tarea y va escribiendo cuando pasa por ellas, se puede ver que las tareas aparecen desordenadas, por tanto se están lanzando en paralelo, AVISO: NUNCA PARARÁN SI NO LAS MATAS"
   ]
  },
  {
   "cell_type": "code",
   "execution_count": null,
   "metadata": {
    "id": "OjFw-XLhMoTP"
   },
   "outputs": [],
   "source": [
    "import threading\n",
    "import random\n",
    "import time\n",
    "\n",
    "# how many threads we want to start\n",
    "THREADS = { 'task1':2 , 'task2':3, 'task3':2}\n",
    "\n",
    "def task1(threadName):\n",
    "    while True:\n",
    "        print(\"I am %s and I execute task1\" % threadName)\n",
    "        time.sleep(random.randint(1, 10))\n",
    "\n",
    "def task2(threadName):\n",
    "    while True:\n",
    "        print(\"I am %s and I execute task2\" % threadName)\n",
    "        time.sleep(random.randint(1, 10))\n",
    "\n",
    "def task3(threadName):\n",
    "    while True:\n",
    "        print(\"I am %s and I execute task3\" % threadName)\n",
    "        time.sleep(random.randint(1, 10))\n",
    "\n",
    "def generic_workflow(threadName, task_type):\n",
    "    if task_type == 'task1':\n",
    "        task1(threadName)\n",
    "    elif task_type == 'task2':\n",
    "        task2(threadName)\n",
    "    elif task_type == 'task3':\n",
    "        task3(threadName)\n",
    "\n",
    "class Thread_task(threading.Thread):\n",
    "    def __init__(self, task_type):\n",
    "        threading.Thread.__init__(self)\n",
    "        self.task_type = task_type\n",
    "    def run(self):\n",
    "        threadName = threading.currentThread().getName()\n",
    "        generic_workflow(threadName, task_type)\n",
    "\n",
    "print('Checking for threads for every task...')\n",
    "\n",
    "total_threads = 3\n",
    "for task in THREADS:\n",
    "    total_threads += THREADS[task]\n",
    "\n",
    "for task in THREADS:\n",
    "    print(\" ** Starting %d threads for %s **\" % (THREADS[task], task))\n",
    "    for i in range(THREADS[task]):\n",
    "        task_type = task\n",
    "        td = Thread_task(task)\n",
    "        td.start()"
   ]
  },
  {
   "cell_type": "markdown",
   "metadata": {
    "id": "VXeUh6FCmqIY"
   },
   "source": [
    "## Lock y RLock"
   ]
  },
  {
   "cell_type": "markdown",
   "metadata": {
    "id": "k9P4H8QoFOHF"
   },
   "source": [
    "Dentro del módulo threading, tenemos las clase Lock y RLock para el bloqueo de hilos y hacer que unos esperen por otros (por ejemplo, para acceder a un recurso compartido).\n",
    "\n",
    "Lock es la clase más simple. Llamando a Lock.acquire() el hilo bloqueará el Lock, de forma que el siguiente hilo que llame a Lock.acquire() se quedará a la espera de que el Lock se desbloquee. La llamada a Lock.release() desbloquea el Lock, haciendo que el hilo que estaba en espera continúe.\n"
   ]
  },
  {
   "cell_type": "code",
   "execution_count": 3,
   "metadata": {
    "colab": {
     "base_uri": "https://localhost:8080/"
    },
    "id": "HnsUGWR1eMu_",
    "outputId": "6095e627-ff2b-4b43-c220-c4110eaef88d"
   },
   "outputs": [
    {
     "name": "stdout",
     "output_type": "stream",
     "text": [
      "main = 10\n",
      "main = 11\n",
      "main = 12\n",
      "main = 13\n",
      "main = 14\n",
      "main = 15\n",
      "main = 16\n",
      "main = 17\n",
      "main = 18\n",
      "main = 19\n",
      "contador = 0\n",
      "contador = 1esperando...\n",
      "\n",
      "contador = 2\n",
      "contador = 3\n",
      "contador = 4\n",
      "contador = 5\n",
      "contador = 6\n",
      "contador = 7\n",
      "contador = 8\n",
      "contador = 9\n",
      "main = 20\n",
      "main = 21\n",
      "main = 22\n",
      "main = 23\n",
      "main = 24\n",
      "main = 25\n",
      "main = 26\n",
      "main = 27\n",
      "main = 28\n",
      "main = 29\n"
     ]
    }
   ],
   "source": [
    "from threading import Thread, Lock\n",
    "import time\n",
    "\n",
    "\n",
    "class MiHilo(Thread):\n",
    "    # Se le pasa como ultimo parametro el Lock\n",
    "    def __init__(self, inicio, fin, bloqueo):\n",
    "        Thread.__init__(self)\n",
    "        self.inicio = inicio\n",
    "        self.fin = fin\n",
    "        self.bloqueo = bloqueo\n",
    "\n",
    "    # Metodo que se ejecutara en un hilo    \n",
    "    def run(self):\n",
    "        # Espera por Lock\n",
    "        bloqueo.acquire()\n",
    "        # Comienza la cuenta\n",
    "        for i in range(self.inicio, self.fin):\n",
    "            print(\"contador = \" + str(i))\n",
    "            time.sleep(1)\n",
    "        bloqueo.release()\n",
    "\n",
    "\n",
    "# Creacion del Lock y bloqueo del mismo\n",
    "bloqueo = Lock()\n",
    "bloqueo.acquire()\n",
    "\n",
    "# Arranque del hilo\n",
    "hilo = MiHilo(0, 10, bloqueo)\n",
    "hilo.start()\n",
    "\n",
    "# Hacemos esperar al hilo\n",
    "time.sleep(1)\n",
    "# Un bucle\n",
    "for i in range(10, 20):\n",
    "    print(\"main = \" + str(i))\n",
    "    time.sleep(0.5)\n",
    "\n",
    "# Liberamos el bloqueo para que el hilo comience\n",
    "bloqueo.release()\n",
    "\n",
    "# Hacemos esperar al hilo\n",
    "time.sleep(1)\n",
    "\n",
    "print(\"esperando...\")\n",
    "bloqueo.acquire()\n",
    "\n",
    "# Un bucle\n",
    "for i in range(20, 30):\n",
    "    print(\"main = \" + str(i))\n",
    "    time.sleep(1)\n",
    "\n",
    "# Liberamos el bloqueo para que el hilo comience\n",
    "bloqueo.release()"
   ]
  },
  {
   "cell_type": "markdown",
   "metadata": {
    "id": "IUuskVP1MLn5"
   },
   "source": [
    "Esta clase Lock es muy simple. Cualquier hilo, haya sido él el que ha bloqueado el Lock o no, puede liberarlo. Si un hilo llama él mismo dos veces a acquire(), se queda bloqueado en la segunda llamada.\n",
    "\n",
    "Para sincronización más compleja, tenemos también RLock. Este lock sí tiene en cuenta quién es el propietario del bloqueo, de forma que sólo puede release() el hilo que haya hecho el acquire(). También tiene en cuenta el número de llamadas a acquire(). Un mismo hilo puede llamar varias veces a acquire() sin quedarse bloqueado, pero tiene que hacer el mismo número de llamadas a release() para desbloquearlo."
   ]
  },
  {
   "cell_type": "code",
   "execution_count": 4,
   "metadata": {
    "colab": {
     "base_uri": "https://localhost:8080/"
    },
    "id": "nXuPAIbMMLn-",
    "outputId": "d26a80be-9c6e-403c-8c21-5e990a1ba0d1"
   },
   "outputs": [
    {
     "name": "stdout",
     "output_type": "stream",
     "text": [
      "bloqueando = 0\n",
      "bloqueando = 1\n",
      "bloqueando = 2\n",
      "bloqueando = 3\n",
      "bloqueando = 4\n",
      "bloqueando = 5\n",
      "bloqueando = 6\n",
      "bloqueando = 7\n",
      "bloqueando = 8\n",
      "bloqueando = 9\n",
      "El hilo todavia no ha comenzado\n",
      "desbloqueando = 0\n",
      "desbloqueando = 1\n",
      "desbloqueando = 2\n",
      "desbloqueando = 3\n",
      "desbloqueando = 4\n",
      "desbloqueando = 5\n",
      "desbloqueando = 6\n",
      "desbloqueando = 7\n",
      "desbloqueando = 8\n",
      "desbloqueando = 9\n",
      "contador = 0\n",
      "contador = 1\n"
     ]
    }
   ],
   "source": [
    "from threading import Thread, RLock\n",
    "import time\n",
    "\n",
    "\n",
    "class MiHilo(Thread):\n",
    "    # Se le pasa como ultimo parametro el Lock\n",
    "    def __init__(self, inicio, fin, bloqueo):\n",
    "        Thread.__init__(self)\n",
    "        self.inicio = inicio\n",
    "        self.fin = fin\n",
    "        self.bloqueo = bloqueo\n",
    "\n",
    "    # Metodo que se ejecutara en un hilo\n",
    "    def run(self):\n",
    "        # Espera por Lock\n",
    "        bloqueo.acquire()\n",
    "        # Comienza la cuenta\n",
    "        for i in range(self.inicio, self.fin):\n",
    "            print(\"contador = \" + str(i))\n",
    "            time.sleep(1)\n",
    "        bloqueo.release()\n",
    "\n",
    "\n",
    "# Creacion del Lock y bloqueo del mismo\n",
    "bloqueo = RLock()\n",
    "bloqueo.acquire()\n",
    "\n",
    "# Arranque del hilo\n",
    "hilo = MiHilo(0, 10, bloqueo)\n",
    "hilo.start()\n",
    "\n",
    "# Hacemos esperar al hilo\n",
    "time.sleep(1)\n",
    "# Un bucle y llamamos a acquire() muchas veces\n",
    "for i in range(0, 10):\n",
    "    print(\"bloqueando = \" + str(i))\n",
    "    bloqueo.acquire()\n",
    "    time.sleep(1)\n",
    "\n",
    "# Liberamos el bloqueo una sola vez, el hilo no\n",
    "# comienza\n",
    "bloqueo.release()\n",
    "print(\"El hilo todavia no ha comenzado\")\n",
    "\n",
    "# LLamamos a tantos release() con acquire() antes\n",
    "for i in range(0, 10):\n",
    "    print(\"desbloqueando = \" + str(i))\n",
    "    bloqueo.release()\n",
    "    time.sleep(1)"
   ]
  },
  {
   "cell_type": "markdown",
   "metadata": {
    "id": "tS7tFicTI6l0"
   },
   "source": [
    "## Condition"
   ]
  },
  {
   "cell_type": "markdown",
   "metadata": {
    "id": "LUObyvNdI6l8"
   },
   "source": [
    "Uno de los usos habituales de los hilos es tener un hilo esperando por unos datos para tratarlos. Otro hilo es el encargado de proporcionar esos datos y avisar al primer hilo de que ya están disponibles. Para facilitar este tipo de uso tenemos la clase threading.Condition.\n",
    "\n",
    "En primer lugar, creamos la Condition. El hilo que debe esperar por los datos, debe llamar al método Condition.acquire() y luego al Condition.wait(). Para llamar a wait() es obligatorio ser el propietario de la Condition, cosa que se consigue llamando a acquire(). La llamada a wait() libera la Condition, pero deja al hilo bloqueado hasta que alguien llame a Condition.notify().\n",
    "\n",
    "El hilo encargado de suministrar los datos, debe llamar a Condition.acquire() para hacerse dueño de la Condition y cuando los datos estén disponibles, llamar a Condition.notify() y luego a Condition.release(). Estas dos llamadas juntas despertarán al hilo a la espera de datos. La llamada a notify() no libera la Condition, por lo que el hilo que está en el wait() será notifiado, pero no comenzará su ejecución hasta que se llame a release().\n",
    "\n",
    "El resumen de esto puede ser el siguiente. En algún lado se crea la Condition"
   ]
  },
  {
   "cell_type": "code",
   "execution_count": 4,
   "metadata": {
    "colab": {
     "base_uri": "https://localhost:8080/"
    },
    "id": "q9YcFK3yeMu-",
    "outputId": "7f34c092-7f47-4181-db9c-013873bf0b67"
   },
   "outputs": [
    {
     "name": "stdout",
     "output_type": "stream",
     "text": [
      "0\n",
      "numero 0\n",
      "1\n",
      "numero 1\n",
      "2\n",
      "numero 2\n",
      "3\n",
      "numero 3\n",
      "4\n",
      "numero 4\n",
      "5\n",
      "numero 5\n",
      "6\n",
      "numero 6\n",
      "7\n",
      "numero 7\n",
      "8\n",
      "numero 8\n",
      "9\n",
      "numero 9\n"
     ]
    }
   ],
   "source": [
    "from threading import Thread, Condition\n",
    "import time\n",
    "\n",
    "\n",
    "# Hilo que espera los datos.\n",
    "class MiHilo(Thread):\n",
    "    # Se le pasa una lista de datos y la Condition\n",
    "    # para espera de los mismos.\n",
    "    def __init__(self, lista, condicion):\n",
    "        Thread.__init__(self)\n",
    "        self.lista = lista\n",
    "        self.condicion = condicion\n",
    "        # Para saber cuando terminar el hilo\n",
    "        self.fin = False\n",
    "\n",
    "    def run(self):\n",
    "        self.condicion.acquire()\n",
    "        # Mientras no haya que terminar\n",
    "        while not self.fin:\n",
    "            # Esperar por datos\n",
    "            self.condicion.wait()\n",
    "            # Si no hay que terminar se escriben los datos\n",
    "            # que haya en la lista\n",
    "            if not self.fin:\n",
    "                while len(lista) > 0:\n",
    "                    print(self.lista.pop(0))\n",
    "        self.condicion.release()\n",
    "\n",
    "\n",
    "# Creacion de la lista, la Condition y el hilo\n",
    "lista = []\n",
    "condicion = Condition()\n",
    "hilo = MiHilo(lista, condicion)\n",
    "hilo.start()\n",
    "\n",
    "# Bucle\n",
    "for i in range(0, 10):\n",
    "    # Cogemos la condicion\n",
    "    condicion.acquire()\n",
    "    # Ponemos un par de datos en la lista\n",
    "    lista.append(i)\n",
    "    lista.append(\"numero \" + str(i))\n",
    "    time.sleep(0.2)\n",
    "    # Avisamos que estan listos\n",
    "    condicion.notify()\n",
    "    # Y dejamos al hilo continuar\n",
    "    condicion.release()\n",
    "\n",
    "    time.sleep(2)\n",
    "\n",
    "# Mandamos al hilo que termine\n",
    "hilo.fin = True\n",
    "condicion.acquire()\n",
    "condicion.notify()\n",
    "condicion.release()"
   ]
  },
  {
   "cell_type": "markdown",
   "metadata": {
    "id": "7dO5dRkvNOS6"
   },
   "source": [
    "## Semaphore"
   ]
  },
  {
   "cell_type": "markdown",
   "metadata": {
    "id": "3uKKaS-fNOS8"
   },
   "source": [
    "Uno de los mecanismos más antiguos de sincronización de hilos son los semáforos. Un semáforo permite acceder a un determinado recurso a un número máximo de hilos simultáneamente. Si hay más hilos que el máximo permitido, los pone en espera y los va dejando pasar según van terminando los que están activos. Un semáforo actúa como un contador con un valor inicial. Cada vez que un hilo llama a Semaphore.acquire(), el contador se decrementa en 1 y se deja pasar al hilo. En el momento que el contador se hace cero, NO se deja pasar al siguiente hilo que llame a acquire(), sino que lo deja bloqueado. Cada vez que se llama a Semaphore.release(), el contador se incrementa en 1. Si se hace igual a cero, libera al siguiente hilo en la cola de espera.\n",
    "\n",
    "Los semáforos sirven para permitir el acceso a un recurso que admite un número máximo de hilos simultáneos. Por ejemplo, si cada hilo abre su conexión a base de datos y sólo queremos un máximo de cinco conexiones abiertas simultáneamente, un semáforo puede ser una opción.\n",
    "\n",
    "En el código, se debe crear el semáforo indicando el valor inicial del contador (número máximo de hilos que pueden estar activos simultáneamente)"
   ]
  },
  {
   "cell_type": "code",
   "execution_count": 5,
   "metadata": {
    "id": "Lu2_stMeNOS8"
   },
   "outputs": [
    {
     "name": "stdout",
     "output_type": "stream",
     "text": [
      "Entra hilo 0Arrancado hilo 0\n",
      "Entra hilo 1\n",
      "\n",
      "Arrancado hilo 1\n",
      "Entra hilo 2\n",
      "Arrancado hilo 2\n",
      "Entra hilo 3\n",
      "Arrancado hilo 3\n",
      "Entra hilo 4\n",
      "Arrancado hilo 4\n",
      "Arrancado hilo 5\n",
      "Arrancado hilo 6\n",
      "Arrancado hilo 7\n",
      "Arrancado hilo 8\n",
      "Arrancado hilo 9\n",
      "Arrancado hilo 10\n",
      "Arrancado hilo 11\n",
      "Arrancado hilo 12\n",
      "Arrancado hilo 13\n",
      "Arrancado hilo 14\n",
      "Arrancado hilo 15\n",
      "Arrancado hilo 16\n",
      "Arrancado hilo 17\n",
      "Arrancado hilo 18\n",
      "Arrancado hilo 19\n",
      "Fin hilo 1Fin hilo 2\n",
      "Fin hilo 3\n",
      "Fin hilo 4\n",
      "Fin hilo 0\n",
      "Entra hilo 6\n",
      "Entra hilo 7\n",
      "Entra hilo 8\n",
      "\n",
      "Entra hilo 5\n",
      "Entra hilo 9\n",
      "Fin hilo 6Fin hilo 8\n",
      "Entra hilo 10\n",
      "\n",
      "Entra hilo 11\n",
      "Fin hilo 9\n",
      "Entra hilo 12\n",
      "Fin hilo 7\n",
      "Entra hilo 13\n",
      "Fin hilo 5\n",
      "Entra hilo 14\n",
      "Fin hilo 10Fin hilo 12\n",
      "Fin hilo 14\n",
      "Fin hilo 13\n",
      "Fin hilo 11\n",
      "Entra hilo 15\n",
      "Entra hilo 16\n",
      "Entra hilo 17\n",
      "Entra hilo 18\n",
      "\n",
      "Entra hilo 19\n",
      "Fin hilo 15Fin hilo 17\n",
      "Fin hilo 16\n",
      "Fin hilo 18\n",
      "Fin hilo 19\n",
      "\n"
     ]
    }
   ],
   "source": [
    "from threading import Thread, Semaphore\n",
    "import time, random\n",
    "\n",
    "\n",
    "# Hilo a arrancar\n",
    "class MiHilo(Thread):\n",
    "    # Se le pasa un numero identificador del hilo y un semaforo\n",
    "    def __init__(self, numero_hilo, semaforo):\n",
    "        Thread.__init__(self)\n",
    "        self.semaforo = semaforo\n",
    "        self.numero_hilo = numero_hilo\n",
    "\n",
    "    def run(self):\n",
    "        # Espera al semaforo\n",
    "        semaforo.acquire()\n",
    "        print(\"Entra hilo \" + str(self.numero_hilo))\n",
    "        # Pierde un tiempo aleatorio\n",
    "        time.sleep(5)\n",
    "        print(\"Fin hilo \" + str(self.numero_hilo))\n",
    "        # Pone verde el semaforo para el siguiente y\n",
    "        # termina\n",
    "        semaforo.release()\n",
    "\n",
    "\n",
    "random.seed()\n",
    "# Semaforo que permite pasar a cinco simultaneamente\n",
    "semaforo = Semaphore(5)\n",
    "# Se arrancan diez hilos\n",
    "for i in range(0, 20):\n",
    "    hilo = MiHilo(i, semaforo)\n",
    "    hilo.start()\n",
    "    print(\"Arrancado hilo \" + str(i))"
   ]
  },
  {
   "cell_type": "markdown",
   "metadata": {
    "id": "-Tb8LphzN2g5"
   },
   "source": [
    "## Event"
   ]
  },
  {
   "cell_type": "markdown",
   "metadata": {
    "id": "0XL-mSIkN2g6"
   },
   "source": [
    "La forma más fácil de hacer que un hilo espere a que otro hilo le avise es por medio de Event. El Event tiene un flag interno que indica si un hilo puede continuar o no. Un hilo llama al método Event.wait() y se queda bloqueado en espera hasta que el flag interno de Event se ponga a True. Otro hilo llame a Event.set() para poner el flag a True o bien a Event.clear() para ponerlo a False.\n",
    "\n",
    "En el código, símplemente se instancia el Event"
   ]
  },
  {
   "cell_type": "code",
   "execution_count": 8,
   "metadata": {
    "id": "j_73qpszN2g7"
   },
   "outputs": [
    {
     "name": "stdout",
     "output_type": "stream",
     "text": [
      "Creo el hilo\n",
      "Hago evento.set()\n",
      "Entra hilo \n"
     ]
    }
   ],
   "source": [
    "from threading import Thread, Event\n",
    "import time\n",
    "\n",
    "\n",
    "# Hilo a arrancar\n",
    "class MiHilo(Thread):\n",
    "    # Se le pasa un numero identificador del hilo y un event\n",
    "    def __init__(self, evento):\n",
    "        Thread.__init__(self)\n",
    "        self.evento = evento\n",
    "\n",
    "    # Espera al event\n",
    "    def run(self):\n",
    "        self.evento.wait()\n",
    "        print(\"Entra hilo \")\n",
    "\n",
    "\n",
    "# Crea el evento\n",
    "evento = Event()\n",
    "# Arranca el hilo\n",
    "hilo = MiHilo(evento)\n",
    "print(\"Creo el hilo\")\n",
    "\n",
    "hilo.start()\n",
    "# Espera dos segundos y activa el evento\n",
    "time.sleep(2)\n",
    "print(\"Hago evento.set()\")\n",
    "evento.set()"
   ]
  },
  {
   "cell_type": "markdown",
   "metadata": {
    "id": "36r7by02pxJa"
   },
   "source": [
    "## Enlaces de interés"
   ]
  },
  {
   "cell_type": "markdown",
   "metadata": {
    "id": "lbPK7GsjeMu-"
   },
   "source": [
    "MUCHOS DE LOS EJEMPLOS EXTRAÍDOS Y ADAPTADOS DE:\n",
    "\n",
    "https://github.com/chuidiang/chuidiang-ejemplos-google-code/tree/master/python-hilos/src\n",
    "\n",
    "\n",
    "Comparativa entre multiprocessing y multithreading para Data Science:\n",
    "\n",
    "https://analyticsindiamag.com/optimization-in-data-science-using-multiprocessing-and-multithreading/\n",
    "\n",
    "\n",
    "Documentación oficial de python, esta vez bastante fácil de entender:\n",
    "\n",
    "https://docs.python.org/es/3.8/library/threading.html\n",
    "\n",
    "\n",
    "Gran artículo sobre la paralelización para Data Scientists:\n",
    "\n",
    "https://blog.floydhub.com/multiprocessing-vs-threading-in-python-what-every-data-scientist-needs-to-know/\n",
    "\n",
    "\n",
    "\n",
    "\n",
    "\n",
    "\n",
    "\n"
   ]
  }
 ],
 "metadata": {
  "colab": {
   "provenance": []
  },
  "kernelspec": {
   "display_name": "Python 3 (ipykernel)",
   "language": "python",
   "name": "python3"
  },
  "language_info": {
   "codemirror_mode": {
    "name": "ipython",
    "version": 3
   },
   "file_extension": ".py",
   "mimetype": "text/x-python",
   "name": "python",
   "nbconvert_exporter": "python",
   "pygments_lexer": "ipython3",
   "version": "3.10.8"
  }
 },
 "nbformat": 4,
 "nbformat_minor": 4
}
