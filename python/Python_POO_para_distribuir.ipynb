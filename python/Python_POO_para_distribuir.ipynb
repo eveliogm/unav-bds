{
 "cells": [
  {
   "cell_type": "markdown",
   "metadata": {
    "id": "QQM7oRc6eMui"
   },
   "source": [
    "# Python para el análisis de datos -  UNAV\n",
    "---\n",
    "\n",
    "# Programación Orientada a Objetos"
   ]
  },
  {
   "cell_type": "markdown",
   "metadata": {
    "id": "Zx1R1Fm7eMu-"
   },
   "source": [
    "## Programación orientada a objetos<a name=\"oop\"></a> \n",
    "[Volver al índice](#indice)"
   ]
  },
  {
   "cell_type": "markdown",
   "metadata": {
    "id": "4JTD7SzHeMu-"
   },
   "source": [
    "Programación orientada a objetos (OOP) es un paradigma de programación, que permite estructurar programas definiendo propiedades y comportamientos. Las clases son un tema extenso, por lo que intentaremos mostrar las características principales.\n",
    "\n",
    "Las clases son un tipo de dato flexible, y se pueden emplean para crear estructuras de datos complejas. Las clases también pueden definir funciones (métodos), que determinan las acciones que un objeto creado a partir de esta clase puede realizar.\n",
    "\n",
    "Las propiedades que debe tener una clase se definen en el método *init()*. El método *init()* establece los valores para cualquier parámetro que deba definirse cuando se crea un objeto por primera vez (instancia). **self** es una sintaxis que permite acceder a una atributo desde cualquier otro lugar de la clase. Cualquier **self.valor** se considera un atributo de la instancia, ya que es específico a una instancia particular de la clase."
   ]
  },
  {
   "cell_type": "markdown",
   "metadata": {
    "id": "lbPK7GsjeMu-"
   },
   "source": [
    "Para ver todos los conceptos básicos de OOP vamos a utilizar un ejemplo simple, una clase producto, que definimos con el siguiente código:"
   ]
  },
  {
   "cell_type": "code",
   "execution_count": 2,
   "metadata": {
    "id": "q9YcFK3yeMu-"
   },
   "outputs": [],
   "source": [
    "class Producto:\n",
    "    def __init__(self, nombre, categoria):\n",
    "        self.nombre = nombre\n",
    "        self.categoria = categoria"
   ]
  },
  {
   "cell_type": "markdown",
   "metadata": {
    "id": "hDPIXHImeMu-"
   },
   "source": [
    "La clase producto requiere dos parámetros para instanciar un objeto, el nombre del producto y su categoría. Estos dos valores se almacenan como atributos. Podemos ver que los productos, aún siendo instanciados con los mismos argumentos, no son iguales."
   ]
  },
  {
   "cell_type": "code",
   "execution_count": 3,
   "metadata": {
    "colab": {
     "base_uri": "https://localhost:8080/"
    },
    "executionInfo": {
     "elapsed": 9,
     "status": "ok",
     "timestamp": 1666204189541,
     "user": {
      "displayName": "Guillermo martín",
      "userId": "05540387787462883316"
     },
     "user_tz": -120
    },
    "id": "F9Nbl125eMu-",
    "outputId": "770018cd-4868-4316-e706-86cc47ee6e04"
   },
   "outputs": [
    {
     "data": {
      "text/plain": [
       "False"
      ]
     },
     "execution_count": 3,
     "metadata": {},
     "output_type": "execute_result"
    }
   ],
   "source": [
    "producto_1 = Producto(nombre=\"detergente\", categoria=\"limpieza\")\n",
    "producto_2 = Producto(nombre=\"detergente\", categoria=\"limpieza\")\n",
    "\n",
    "producto_1 == producto_2"
   ]
  },
  {
   "cell_type": "markdown",
   "metadata": {
    "id": "k9P4H8QoFOHF"
   },
   "source": [
    "Ahora vamos a hacer otras pruebas para ver qué pasa:"
   ]
  },
  {
   "cell_type": "code",
   "execution_count": 4,
   "metadata": {
    "colab": {
     "base_uri": "https://localhost:8080/"
    },
    "executionInfo": {
     "elapsed": 570,
     "status": "ok",
     "timestamp": 1666204193511,
     "user": {
      "displayName": "Guillermo martín",
      "userId": "05540387787462883316"
     },
     "user_tz": -120
    },
    "id": "GLWz0Y7vFSdz",
    "outputId": "feedbaaf-640d-4026-c53e-c6fd0f34fc63"
   },
   "outputs": [
    {
     "name": "stdout",
     "output_type": "stream",
     "text": [
      "limpieza\n",
      "True\n",
      "True\n",
      "comida\n"
     ]
    }
   ],
   "source": [
    "producto_1.categoria=\"comida\"\n",
    "print(producto_2.categoria)\n",
    "\n",
    "producto_1 = producto_2\n",
    "\n",
    "print(producto_1 == producto_2)\n",
    "print(producto_1 is producto_2)\n",
    "\n",
    "producto_1.categoria=\"comida\"\n",
    "print(producto_2.categoria)"
   ]
  },
  {
   "cell_type": "markdown",
   "metadata": {
    "id": "DjpJfZ9WeMu_"
   },
   "source": [
    "Podemos acceder a los atributos de una clase usando *objeto.atributo*:"
   ]
  },
  {
   "cell_type": "code",
   "execution_count": null,
   "metadata": {
    "colab": {
     "base_uri": "https://localhost:8080/"
    },
    "executionInfo": {
     "elapsed": 350,
     "status": "ok",
     "timestamp": 1666204196299,
     "user": {
      "displayName": "Guillermo martín",
      "userId": "05540387787462883316"
     },
     "user_tz": -120
    },
    "id": "HnsUGWR1eMu_",
    "outputId": "64760fcd-107f-4550-c888-ccc1dcd8e378"
   },
   "outputs": [
    {
     "name": "stdout",
     "output_type": "stream",
     "text": [
      "detergente limpieza\n"
     ]
    }
   ],
   "source": [
    "producto_1 = Producto(nombre=\"detergente\", categoria=\"limpieza\")\n",
    "producto_2 = Producto(nombre=\"libreta\", categoria=\"papeleria\")\n",
    "\n",
    "print(producto_1.nombre, producto_1.categoria)"
   ]
  },
  {
   "cell_type": "markdown",
   "metadata": {
    "id": "IBa4nOuReMu_"
   },
   "source": [
    "Ahora mismo la clase Producto no sirve para mucho. Vamos a añadir un método para que nos devuelva una descripción del producto."
   ]
  },
  {
   "cell_type": "code",
   "execution_count": null,
   "metadata": {
    "id": "OUhiyJBLeMu_"
   },
   "outputs": [],
   "source": [
    "class Producto:\n",
    "    def __init__(self, nombre, categoria):\n",
    "        self.nombre = nombre\n",
    "        self.categoria = categoria\n",
    "        \n",
    "    def descripcion(self):\n",
    "        return f\"Producto {self.nombre} pertenece a la categoria {self.categoria}.\""
   ]
  },
  {
   "cell_type": "markdown",
   "metadata": {
    "id": "SHJVzjzWeMu_"
   },
   "source": [
    "Creamos un nuevo producto y le pedimos su descripción:"
   ]
  },
  {
   "cell_type": "code",
   "execution_count": null,
   "metadata": {
    "colab": {
     "base_uri": "https://localhost:8080/"
    },
    "executionInfo": {
     "elapsed": 4,
     "status": "ok",
     "timestamp": 1666204202125,
     "user": {
      "displayName": "Guillermo martín",
      "userId": "05540387787462883316"
     },
     "user_tz": -120
    },
    "id": "_ugYqllPeMu_",
    "outputId": "b977829f-89ef-41cf-eaa7-76f6bd4610e2"
   },
   "outputs": [
    {
     "name": "stdout",
     "output_type": "stream",
     "text": [
      "Producto libreta pertenece a la categoria papeleria.\n"
     ]
    }
   ],
   "source": [
    "producto = Producto(nombre=\"libreta\", categoria=\"papeleria\")\n",
    "print(producto.descripcion())"
   ]
  },
  {
   "cell_type": "markdown",
   "metadata": {
    "id": "cwvx0sq4eMu_"
   },
   "source": [
    "Podemos comprobar que un objeto instanciado desde la clase Producto, es en efecto de tipo Producto usando la función *isinstance()*. Esto es igual que cuando comprobamos que un entero era de tipo **int**."
   ]
  },
  {
   "cell_type": "code",
   "execution_count": null,
   "metadata": {
    "colab": {
     "base_uri": "https://localhost:8080/"
    },
    "executionInfo": {
     "elapsed": 530,
     "status": "ok",
     "timestamp": 1666204205952,
     "user": {
      "displayName": "Guillermo martín",
      "userId": "05540387787462883316"
     },
     "user_tz": -120
    },
    "id": "1iPAIHvheMu_",
    "outputId": "c1f12b49-d0f8-4aae-c932-db56ec11febe"
   },
   "outputs": [
    {
     "data": {
      "text/plain": [
       "True"
      ]
     },
     "execution_count": 7,
     "metadata": {},
     "output_type": "execute_result"
    }
   ],
   "source": [
    "isinstance(producto, Producto)"
   ]
  },
  {
   "cell_type": "markdown",
   "metadata": {
    "id": "Qe7KAu05eMu_"
   },
   "source": [
    "Existe la opción de crear tantos productos como queramos usando la clase Producto. Creamos una lista de productos y mostramos la descripción de todos ellos."
   ]
  },
  {
   "cell_type": "code",
   "execution_count": null,
   "metadata": {
    "id": "h8PtxhpWeMvA"
   },
   "outputs": [],
   "source": [
    "nombres = [\"vaso\", \"movil\", \"lapiz\"]\n",
    "categorias = [\"menaje\", \"tecnologia\", \"papeleria\"]\n",
    "\n",
    "lista_productos = []\n",
    "for nombre, categoria in zip(nombres, categorias):\n",
    "    producto = Producto(nombre, categoria)\n",
    "    lista_productos.append(producto)"
   ]
  },
  {
   "cell_type": "code",
   "execution_count": null,
   "metadata": {
    "colab": {
     "base_uri": "https://localhost:8080/"
    },
    "executionInfo": {
     "elapsed": 257,
     "status": "ok",
     "timestamp": 1666204214391,
     "user": {
      "displayName": "Guillermo martín",
      "userId": "05540387787462883316"
     },
     "user_tz": -120
    },
    "id": "h6QcDCNreMvA",
    "outputId": "af79e49e-68a5-4c32-b56f-d5803e5675c5"
   },
   "outputs": [
    {
     "name": "stdout",
     "output_type": "stream",
     "text": [
      "Producto vaso pertenece a la categoria menaje.\n",
      "Producto movil pertenece a la categoria tecnologia.\n",
      "Producto lapiz pertenece a la categoria papeleria.\n"
     ]
    }
   ],
   "source": [
    "for producto in lista_productos:\n",
    "    print(producto.descripcion())"
   ]
  },
  {
   "cell_type": "markdown",
   "metadata": {
    "id": "QjT6eS-EBCHh"
   },
   "source": [
    "## Herencia <a name=\"Métodos de clase e instancia\"></a> \n",
    "[Volver al índice](#indice)"
   ]
  },
  {
   "cell_type": "markdown",
   "metadata": {
    "id": "gq4KAtv0eMvD"
   },
   "source": [
    "Uno de los objetivos más importantes del enfoque de la programación orientado a objetos (OOP), es la creación de un código estable, confiable y reutilizable. Si tuviésemos que crear una nueva clase para cada tipo de objeto que quisieramos modelar, difícilmente tendríamos ningún código reutilizable. En Python y en cualquier otro lenguaje que admita OOP, una clase puede **heredar** de otra clase. Esto significa que podemos basar una nueva clase en una clase existente; la nueva clase *hereda* todos los atributos y el comportamiento de la clase en la que se basa. Una nueva clase puede sobreescribir cualquier atributo o método de la clase de la que hereda, y puede agregar cualquier atributo o método nuevos que sea apropiado. La clase original se denomina clase **padre** o **superclase** y la nueva clase es **hija** de la clase principal o **subclase**, respectivamente. "
   ]
  },
  {
   "cell_type": "markdown",
   "metadata": {
    "id": "-pXJ_3N3eMvD"
   },
   "source": [
    "Veamos un ejemplo para ilustrar lo que acabamos de describir: \n",
    "\n",
    "Creamos una nueva clase Alimento que hereda de Producto. Al instanciar un objeto Alimento el método *super()* se dirige a la clase Producto con los parámetros nombre, categoría (por defecto alimentación) y precio. La clase Alimento añade otros dos atributos: temporada y calorias.\n"
   ]
  },
  {
   "cell_type": "code",
   "execution_count": null,
   "metadata": {
    "colab": {
     "base_uri": "https://localhost:8080/"
    },
    "executionInfo": {
     "elapsed": 224,
     "status": "ok",
     "timestamp": 1666204220505,
     "user": {
      "displayName": "Guillermo martín",
      "userId": "05540387787462883316"
     },
     "user_tz": -120
    },
    "id": "36PVRRYieMvD",
    "outputId": "f0c1a80a-18b1-427c-f34e-9f3df3cb8a39"
   },
   "outputs": [
    {
     "name": "stdout",
     "output_type": "stream",
     "text": [
      "70.0\n",
      "True\n",
      "True\n"
     ]
    }
   ],
   "source": [
    "class Alimento(Producto):\n",
    "    def __init__(self, nombre, precio, temporada, calorias):\n",
    "        super().__init__(nombre, \"alimentacion\")\n",
    "        \n",
    "        self.temporada = temporada\n",
    "        self.calorias = calorias\n",
    "        self.precio = precio\n",
    "        \n",
    "    def total_calorias(self, gramos):\n",
    "        return self.calorias * gramos / 100\n",
    "    \n",
    "    \n",
    "calabaza = Alimento(\"calabaza cacahuete\", 1.65, \"otoño\", 14)\n",
    "print(calabaza.total_calorias(500))\n",
    "\n",
    "print(isinstance(calabaza, Alimento))\n",
    "print(isinstance(calabaza, Producto))\n"
   ]
  },
  {
   "cell_type": "markdown",
   "metadata": {
    "id": "iOKCctJqC8p1"
   },
   "source": [
    "## Sobrescritura métodos / Polimorfismo / herencia múltiple <a name=\"Sobrescritura métodos / Polimorfismo / herencia múltiple\"></a> \n",
    "[Volver al índice](#indice)"
   ]
  },
  {
   "cell_type": "markdown",
   "metadata": {
    "id": "OuJXqCfsPvw_"
   },
   "source": [
    "Es muy útil poder sobrescribir métodos que tiene la clase padre.\n",
    "\n",
    "Esto hace que el método entero pueda ser totalmente diferente o se pueda utilizar la funcionalidad que tenía el padre y enriquecerla.\n",
    "\n",
    "Además, hace que objetos hijos no hagan lo mismo a iguales acciones"
   ]
  },
  {
   "cell_type": "code",
   "execution_count": null,
   "metadata": {
    "colab": {
     "base_uri": "https://localhost:8080/"
    },
    "executionInfo": {
     "elapsed": 230,
     "status": "ok",
     "timestamp": 1666204231602,
     "user": {
      "displayName": "Guillermo martín",
      "userId": "05540387787462883316"
     },
     "user_tz": -120
    },
    "id": "AYZ4FW9bNdx3",
    "outputId": "5f420ead-c9b9-4e82-d357-6ab02635afd4"
   },
   "outputs": [
    {
     "name": "stdout",
     "output_type": "stream",
     "text": [
      "Producto patata blanca pertenece a la categoria alimentacion. \n",
      "Se encuentra en sección alimentación y tiene 50 calorías.\n"
     ]
    }
   ],
   "source": [
    "class Producto:\n",
    "    def __init__(self, nombre, categoria):\n",
    "        self.nombre = nombre\n",
    "        self.categoria = categoria\n",
    "        \n",
    "    def descripcion(self):\n",
    "        return f\"Producto {self.nombre} pertenece a la categoria {self.categoria}.\"\n",
    "\n",
    "\n",
    "class Alimento(Producto):\n",
    "    def __init__(self, nombre, precio, temporada, calorias):\n",
    "        super().__init__(nombre, \"alimentacion\")\n",
    "        \n",
    "        self.temporada = temporada\n",
    "        self.calorias = calorias\n",
    "        self.precio = precio\n",
    "        \n",
    "    def total_calorias(self, gramos):\n",
    "        return self.calorias * gramos / 100\n",
    "\n",
    "    def descripcion(self):\n",
    "        descripcion_producto= super().descripcion()\n",
    "        return f\"{descripcion_producto} \\r\\nSe encuentra en sección alimentación y tiene {self.calorias} calorías.\"\n",
    "\n",
    "    \n",
    "patata = Alimento(\"patata blanca\", 2.63, \"primavera\", 50)\n",
    "print(patata.descripcion())"
   ]
  },
  {
   "cell_type": "markdown",
   "metadata": {
    "id": "_q5wwkw8FaZF"
   },
   "source": [
    "Se puede ver que este modelo permite que haya varias clases que hereden de una misma, eso hace que podamos hacer que el objeto padre tome varias formas y que estas formas puedan aprovechar lo que tenga implementado su padre."
   ]
  },
  {
   "cell_type": "code",
   "execution_count": 5,
   "metadata": {
    "colab": {
     "base_uri": "https://localhost:8080/"
    },
    "executionInfo": {
     "elapsed": 918,
     "status": "ok",
     "timestamp": 1666204246377,
     "user": {
      "displayName": "Guillermo martín",
      "userId": "05540387787462883316"
     },
     "user_tz": -120
    },
    "id": "fmzA0c60FaZG",
    "outputId": "e210f0f6-c726-4efb-c957-f9be938afa45"
   },
   "outputs": [
    {
     "name": "stdout",
     "output_type": "stream",
     "text": [
      "film plástico\n",
      "envasado\n"
     ]
    }
   ],
   "source": [
    "class Producto_envasado(Producto):\n",
    "    def __init__(self, nombre, tipo_envase):\n",
    "        super().__init__(nombre, \"envasado\")\n",
    "        \n",
    "        self.tipo_envase = tipo_envase\n",
    "            \n",
    "maquinilla_afeitar = Producto_envasado(\"Maquinilla\", \"film plástico\")\n",
    "print(maquinilla_afeitar.tipo_envase)\n",
    "print(maquinilla_afeitar.categoria)\n",
    "\n"
   ]
  },
  {
   "cell_type": "markdown",
   "metadata": {
    "id": "_YmZgnsHFbsu"
   },
   "source": [
    "Pero podemos hacer algo más, algo que no tienen todos los lenguajes, es lo que llamamos herencia múltiple.\n",
    "\n",
    "Esto permite que haya un tipo de objeto que herede de varios a la vez como en este otro ejemplo:"
   ]
  },
  {
   "cell_type": "code",
   "execution_count": null,
   "metadata": {
    "id": "bOEWipFJKdrQ"
   },
   "outputs": [],
   "source": [
    "class Padre(object): #Creamos la clase Padre\n",
    "    def __init__(self, ojos, cejas): #Definimos los Atributos\n",
    "        self.ojos = ojos\n",
    "        self.cejas = cejas\n",
    "class Madre(object): #Creamos la clase Padre\n",
    "    def __init__(self, brazos, piernas): #Definimos los Atributos\n",
    "        self.brazos = brazos\n",
    "        self.piernas = piernas\n",
    "        \n",
    "class Hijo(Padre, Madre): #Creamos clase hija que hereda de Padre y luego de Madre\n",
    "    def __init__(self, ojos, cejas, cara, brazos, piernas): #creamos el constructor de la clase especificando atributos\n",
    "        Madre.__init__(self, brazos, piernas)\n",
    "        Padre.__init__(self, ojos, cejas)#Solicitamos a super llamar de la clase padre esos atributos\n",
    "        self.cara = cara\n"
   ]
  },
  {
   "cell_type": "code",
   "execution_count": 8,
   "metadata": {},
   "outputs": [
    {
     "name": "stdout",
     "output_type": "stream",
     "text": [
      "ojos_papa\n"
     ]
    }
   ],
   "source": [
    "class Padre(object): #Creamos la clase Padre\n",
    "    def __init__(self, ojos, cejas): #Definimos los Atributos\n",
    "        self.ojos = \"ojos_papa\"\n",
    "        self.cejas = cejas\n",
    "class Madre(object): #Creamos la clase Padre\n",
    "    def __init__(self, ojos, piernas): #Definimos los Atributos\n",
    "        self.ojos = \"ojos_mama\"\n",
    "        self.piernas = piernas\n",
    "        \n",
    "class Hijo(Padre, Madre): #Creamos clase hija que hereda de Padre y luego de Madre\n",
    "    def __init__(self, ojos, cejas, cara, brazos, piernas): #creamos el constructor de la clase especificando atributos\n",
    "        Madre.__init__(self, ojos, piernas)\n",
    "        Padre.__init__(self, ojos, cejas)#Solicitamos a super llamar de la clase padre esos atributos\n",
    "        self.cara = cara\n",
    "    def imprimir_ojos(self):\n",
    "        print(self.ojos)\n",
    "\n",
    "hijo1 = Hijo(\"verde\",\"sin\",\"redonda\",\"3\",\"4\")\n",
    "hijo1.imprimir_ojos()"
   ]
  },
  {
   "cell_type": "markdown",
   "metadata": {
    "id": "-RhQ0gLbBRHv"
   },
   "source": [
    "## Composición <a name=\"Polimorfismo y Herencia Múltiple\"></a> \n",
    "[Volver al índice](#indice)"
   ]
  },
  {
   "cell_type": "markdown",
   "metadata": {
    "id": "AdQpn3jxtdTe"
   },
   "source": [
    "Creamos una nueva lista de productos con sus precios:"
   ]
  },
  {
   "cell_type": "code",
   "execution_count": 9,
   "metadata": {
    "id": "ElYVRPOAz79N"
   },
   "outputs": [],
   "source": [
    "class Producto:\n",
    "    def __init__(self, nombre, categoria, precio):\n",
    "        self.nombre = nombre\n",
    "        self.categoria = categoria\n",
    "        self.precio = precio\n",
    "        \n",
    "    def descripcion(self):\n",
    "        return f\"Producto {self.nombre} pertenece a la categoria {self.categoria}.\"\n",
    "\n",
    "    def precio_con_iva(self, iva=0.21):\n",
    "        return self.precio * (1 + iva)\n",
    "        \n",
    "nombres = [\"vaso\", \"movil\", \"lapiz\"]\n",
    "categorias = [\"menaje\", \"tecnologia\", \"papeleria\"]\n",
    "precios = [1.5, 299.99, 0.35]\n",
    "\n",
    "lista_productos = []\n",
    "for nombre, categoria, precio in zip(nombres, categorias, precios):\n",
    "    producto = Producto(nombre, categoria, precio)\n",
    "    lista_productos.append(producto)"
   ]
  },
  {
   "cell_type": "code",
   "execution_count": 10,
   "metadata": {},
   "outputs": [
    {
     "data": {
      "text/plain": [
       "[<__main__.Producto at 0x7fb98143e5c0>,\n",
       " <__main__.Producto at 0x7fb98143f2b0>,\n",
       " <__main__.Producto at 0x7fb98143fdf0>]"
      ]
     },
     "execution_count": 10,
     "metadata": {},
     "output_type": "execute_result"
    }
   ],
   "source": [
    "lista_productos"
   ]
  },
  {
   "cell_type": "markdown",
   "metadata": {
    "id": "ISRFPWfI06ZJ"
   },
   "source": [
    "El añadir varios productos a una lista puede ser sustituido por lo que en POO llamamos composición. Esta composición es más adecuada en todos aquellos casos en los que tiene sentido tener funcionalidades y chequeos específicos, en realidad, es como si estuvieras \"heredando\" de una lista.\n",
    "\n",
    "Vamos a ver cómo se haría, ahora definimos una nueva clase, Cesta, que almacenará una lista de productos con las unidades de cada uno. Esta clase incorpora tres métodos principales:\n",
    "\n",
    "* add: añade un número de unidades de un producto.\n",
    "* coste: permite calcular el coste de la lista. El parámetro booleano especifica si queremos tener el cuenta el iva.\n",
    "* mostrar_lista: muestra los productos que se encuentran actualmente en la lista y su número de unidades.\n",
    "\n",
    "Finalmente, el método especial `__len()__` nos sirve para saber el número de productos en la lista usando *len(objeto_cesta)*. \n",
    "\n",
    "A remarcar:\n",
    "\n",
    "* add: la función comprueba si los argumentos son válidos, es decir, si el producto es de tipo Producto y el número de unidades es un entero positivo mayor >= 1.\n",
    "* coste: comprueba primero si la lista esta vacía, si es así devuelve 0."
   ]
  },
  {
   "cell_type": "code",
   "execution_count": 12,
   "metadata": {
    "id": "iEbEbn0U06ZO"
   },
   "outputs": [],
   "source": [
    "class Cesta:\n",
    "    def __init__(self):\n",
    "        self._productos = []\n",
    "        \n",
    "    def add(self, producto, unidades=1):\n",
    "        if not isinstance(producto, Producto):\n",
    "            raise TypeError(\"producto debe ser de tipo Producto.\")\n",
    "            \n",
    "        if not isinstance(unidades, int) or unidades <= 0:\n",
    "            raise ValueError(\"unidades debe ser >= 1.\")\n",
    "            \n",
    "        self._productos.append((producto, unidades))\n",
    "        \n",
    "    def coste(self, con_iva=True):\n",
    "        if not self._productos:\n",
    "            return 0\n",
    "        \n",
    "        total_coste = 0\n",
    "        for producto, unidades in self._productos:\n",
    "            if con_iva:\n",
    "                total_coste += producto.precio_con_iva() * unidades\n",
    "            else:\n",
    "                total_coste += producto.precio * unidades\n",
    "                \n",
    "        return total_coste\n",
    "    \n",
    "    def mostrar_lista(self):\n",
    "        for producto in self._productos:\n",
    "            print(f\"{producto[0].nombre:<20} : {producto[1]:<3} unidades\")\n",
    "    \n",
    "    def __len__(self):\n",
    "        return len(self._productos)"
   ]
  },
  {
   "cell_type": "markdown",
   "metadata": {
    "id": "h1YS7iO906ZO"
   },
   "source": [
    "Veamos un ejemplo. Añadimos a la cesta la anterior la lista de productos con el número de unidades de cada uno:"
   ]
  },
  {
   "cell_type": "code",
   "execution_count": 17,
   "metadata": {
    "id": "Czefb7NL06ZP"
   },
   "outputs": [],
   "source": [
    "cesta = Cesta()\n",
    "\n",
    "unidades = [4, 1, 10]\n",
    "\n",
    "for producto, unidad in zip(lista_productos, unidades):\n",
    "    cesta.add(producto, unidad)"
   ]
  },
  {
   "cell_type": "markdown",
   "metadata": {
    "id": "QVTd376m06ZP"
   },
   "source": [
    "Calculamos el coste con y sin iva. También mostramos la lista y el número de productos que hemos añadido."
   ]
  },
  {
   "cell_type": "code",
   "execution_count": 14,
   "metadata": {
    "colab": {
     "base_uri": "https://localhost:8080/"
    },
    "executionInfo": {
     "elapsed": 196,
     "status": "ok",
     "timestamp": 1666204304114,
     "user": {
      "displayName": "Guillermo martín",
      "userId": "05540387787462883316"
     },
     "user_tz": -120
    },
    "id": "ul53SAbQ06ZP",
    "outputId": "82369e16-48a2-4841-bb4b-ed1ea893b5a4"
   },
   "outputs": [
    {
     "name": "stdout",
     "output_type": "stream",
     "text": [
      "374.48290000000003\n",
      "309.49\n"
     ]
    }
   ],
   "source": [
    "print(cesta.coste(con_iva=True))\n",
    "print(cesta.coste(con_iva=False))"
   ]
  },
  {
   "cell_type": "code",
   "execution_count": 15,
   "metadata": {
    "colab": {
     "base_uri": "https://localhost:8080/"
    },
    "executionInfo": {
     "elapsed": 942,
     "status": "ok",
     "timestamp": 1666204309363,
     "user": {
      "displayName": "Guillermo martín",
      "userId": "05540387787462883316"
     },
     "user_tz": -120
    },
    "id": "f0flR4W806ZP",
    "outputId": "c03cb6aa-c4b9-4593-ae9a-c19d0a3df2b0"
   },
   "outputs": [
    {
     "data": {
      "text/plain": [
       "3"
      ]
     },
     "execution_count": 15,
     "metadata": {},
     "output_type": "execute_result"
    }
   ],
   "source": [
    "len(cesta)"
   ]
  },
  {
   "cell_type": "code",
   "execution_count": 18,
   "metadata": {
    "colab": {
     "base_uri": "https://localhost:8080/"
    },
    "executionInfo": {
     "elapsed": 581,
     "status": "ok",
     "timestamp": 1666204311315,
     "user": {
      "displayName": "Guillermo martín",
      "userId": "05540387787462883316"
     },
     "user_tz": -120
    },
    "id": "-AfXhbWW06ZP",
    "outputId": "a90e8435-215d-4ab7-cd0c-101ede198ec6"
   },
   "outputs": [
    {
     "name": "stdout",
     "output_type": "stream",
     "text": [
      "vaso                 : 4   unidades\n",
      "movil                : 1   unidades\n",
      "lapiz                : 10  unidades\n"
     ]
    }
   ],
   "source": [
    "cesta.mostrar_lista()"
   ]
  },
  {
   "cell_type": "markdown",
   "metadata": {},
   "source": [
    "# Interfaces y Clases Abstractas <a name=\"interfaces y Clases Abstractas\"></a> \n",
    "\n",
    "Llamamos *interfaz* a un conjunto de funciones, métodos o atributos con nombres específicos. Una interfaz es un contrato entre el programador que realiza una clase y el que la utiliza, puede consistir en uno solo o varios métodos o atributos.\n",
    "Interfaz Comparable es si tiene estas funciones implementadas:\n",
    "- Igual\n",
    "- Mayor\n",
    "- Menor\n",
    "\n",
    "Clase abstracta:una clase que no se instacia solo se utiliza para heredar.\n"
   ]
  },
  {
   "cell_type": "markdown",
   "metadata": {
    "id": "2vPsg43sDvoX"
   },
   "source": [
    "## Interfaces <a name=\"interfaces y Clases Abstractas\"></a> \n",
    "[Volver al índice](#indice)"
   ]
  },
  {
   "cell_type": "markdown",
   "metadata": {
    "id": "B-a9T0z8ubiY"
   },
   "source": [
    "Llamamos interfaz a un conjunto de funciones, métodos o atributos con nombres específicos. Una interfaz es un contrato entre el programador que realiza una clase y el que la utiliza, puede consistir en uno solo o varios métodos o atributos.\n",
    "\n",
    "Por ejemplo, para que un objeto se pueda comparar con otros, debe cumplir con la interfaz comparable, que en Python implica incluir el método __cmp__\n",
    "\n",
    "Pensemos en el mando a distancia del televisor. Todos los mandos nos ofrecen el mismo interfaz con las mismas funcionalidades o métodos. En pseudocódigo se podría escribir su interfaz como:"
   ]
  },
  {
   "cell_type": "code",
   "execution_count": 20,
   "metadata": {
    "id": "5bPfbNfG_qX4"
   },
   "outputs": [],
   "source": [
    "from abc import abstractmethod\n",
    "from abc import ABCMeta\n",
    "\n",
    "class Mando(metaclass=ABCMeta):\n",
    "    @abstractmethod\n",
    "    def siguiente_canal(self):\n",
    "        pass\n",
    "\n",
    "    @abstractmethod\n",
    "    def canal_anterior(self):\n",
    "        pass\n",
    "\n",
    "    @abstractmethod\n",
    "    def subir_volumen(self):\n",
    "        pass\n",
    "\n",
    "    @abstractmethod\n",
    "    def bajar_volumen(self):\n",
    "        pass"
   ]
  },
  {
   "cell_type": "markdown",
   "metadata": {
    "id": "RERRlTiu_x9w"
   },
   "source": [
    "Los interfaces formales pueden ser definidos en Python utilizando el módulo por defecto llamado ABC (Abstract Base Classes).\n",
    "\n",
    "Simplemente definen una forma de crear interfaces (a través de metaclases) en los que se definen unos métodos (pero no se implementan) y donde se fuerza a las clases que usan ese interfaz a implementar.\n",
    "\n",
    "Pero veamos un ejemplo concreto continuando con nuestro ejemplo del mando a distancia. Podemos observar como se usa el decorador @abstractmethod.\n",
    "\n",
    "Un método abstracto es un método que no tiene una implementación, es decir, que no lleva código. Un método definido con este decorador, forzará a las clases que implementen dicho interfaz a codificarlo."
   ]
  },
  {
   "cell_type": "code",
   "execution_count": null,
   "metadata": {
    "colab": {
     "base_uri": "https://localhost:8080/",
     "height": 165
    },
    "executionInfo": {
     "elapsed": 225,
     "status": "error",
     "timestamp": 1666204334630,
     "user": {
      "displayName": "Guillermo martín",
      "userId": "05540387787462883316"
     },
     "user_tz": -120
    },
    "id": "b2OPfBUf_x9x",
    "outputId": "88a7177a-648f-4b5d-9c07-a2a14e8c8569"
   },
   "outputs": [
    {
     "ename": "TypeError",
     "evalue": "ignored",
     "output_type": "error",
     "traceback": [
      "\u001b[0;31m---------------------------------------------------------------------------\u001b[0m",
      "\u001b[0;31mTypeError\u001b[0m                                 Traceback (most recent call last)",
      "\u001b[0;32m<ipython-input-21-9a36d8470e7c>\u001b[0m in \u001b[0;36m<module>\u001b[0;34m\u001b[0m\n\u001b[0;32m----> 1\u001b[0;31m \u001b[0mmando\u001b[0m \u001b[0;34m=\u001b[0m \u001b[0mMando\u001b[0m\u001b[0;34m(\u001b[0m\u001b[0;34m)\u001b[0m\u001b[0;34m\u001b[0m\u001b[0;34m\u001b[0m\u001b[0m\n\u001b[0m",
      "\u001b[0;31mTypeError\u001b[0m: Can't instantiate abstract class Mando with abstract methods bajar_volumen, canal_anterior, siguiente_canal, subir_volumen"
     ]
    }
   ],
   "source": [
    "mando = Mando()"
   ]
  },
  {
   "cell_type": "markdown",
   "metadata": {
    "id": "jqOcS1HGAmNC"
   },
   "source": [
    "Lo primero a tener en cuenta es que no se puede crear un objeto de una clase interfaz, ya que sus métodos no están implementados.\n",
    "\n",
    "Sin embargo si que podemos heredar de Mando para crear una clase MandoSamsung. Es muy importante que implementemos todos los métodos, o de lo contrario tendremos un error."
   ]
  },
  {
   "cell_type": "code",
   "execution_count": 22,
   "metadata": {
    "id": "XQvlptVlAmNI"
   },
   "outputs": [
    {
     "name": "stdout",
     "output_type": "stream",
     "text": [
      "Samsung->Bajar\n"
     ]
    }
   ],
   "source": [
    "class Mando_Samsung(Mando):\n",
    "    def siguiente_canal(self):\n",
    "        print(\"Samsung->Siguiente\")\n",
    "    def canal_anterior(self):\n",
    "        print(\"Samsung->Anterior\")\n",
    "    def subir_volumen(self):\n",
    "        print(\"Samsung->Subir\")\n",
    "    def bajar_volumen(self):\n",
    "        print(\"Samsung->Bajar\")\n",
    "\n",
    "mando_samsung= Mando_Samsung()\n",
    "mando_samsung.bajar_volumen()"
   ]
  },
  {
   "cell_type": "markdown",
   "metadata": {
    "id": "m8SwMdfyKvqy"
   },
   "source": [
    "## Métodos especiales de clase  <a name=\"Métodos especiales de clase\"></a> \n",
    "[Volver al índice](#indice)"
   ]
  },
  {
   "cell_type": "markdown",
   "metadata": {
    "id": "zvTrOV6GMqTj"
   },
   "source": [
    "Cuando se utilizan ciertos operadores y funciones de python, en realidad lo que hacen es llamar a métodos de la propia clase, son métodos reservados que hay que conocer.\n",
    "\n",
    "Pongamos un ejemplo sin hacer nada:"
   ]
  },
  {
   "cell_type": "code",
   "execution_count": null,
   "metadata": {
    "colab": {
     "base_uri": "https://localhost:8080/"
    },
    "executionInfo": {
     "elapsed": 206,
     "status": "ok",
     "timestamp": 1666204360452,
     "user": {
      "displayName": "Guillermo martín",
      "userId": "05540387787462883316"
     },
     "user_tz": -120
    },
    "id": "SDqBej2zLcA2",
    "outputId": "8bf83a53-f0b5-4f48-f83f-a46d499c4be6"
   },
   "outputs": [
    {
     "name": "stdout",
     "output_type": "stream",
     "text": [
      "<__main__.Punto object at 0x7ff538f9c9d0>\n"
     ]
    }
   ],
   "source": [
    "class Punto(object):\n",
    "    \"\"\" Representación de un punto en el plano, los atributos son x e y\n",
    "        que representan los valores de las coordenadas cartesianas.\"\"\"\n",
    "    def __init__(self, x=0, y=0):\n",
    "        \"Constructor de Punto, x e y deben ser numéricos\"\n",
    "        self.x = x\n",
    "        self.y = y\n",
    "\n",
    "punto= Punto(2,3)\n",
    "print(punto)"
   ]
  },
  {
   "cell_type": "markdown",
   "metadata": {
    "id": "y4GeBLr8eMvA"
   },
   "source": [
    "Vamos a realizar algunos cambios a la clase producto para enriquecerla."
   ]
  },
  {
   "cell_type": "markdown",
   "metadata": {
    "id": "K1IOIuk5OQ8N"
   },
   "source": [
    "Cuando se utilizan ciertos operadores y funciones de python, en realidad lo que hacen es llamar a métodos de la propia clase, son métodos reservados que hay que conocer.\n",
    "\n",
    "Por ejemplo, print(x) lo que hace es pasar a la salida estándar del sistema la siguiente llamada: x.__str__()\n",
    "\n",
    "Volvamos al ejemplo anterior:"
   ]
  },
  {
   "cell_type": "code",
   "execution_count": null,
   "metadata": {
    "colab": {
     "base_uri": "https://localhost:8080/"
    },
    "executionInfo": {
     "elapsed": 205,
     "status": "ok",
     "timestamp": 1666204368312,
     "user": {
      "displayName": "Guillermo martín",
      "userId": "05540387787462883316"
     },
     "user_tz": -120
    },
    "id": "VqIA4KPJNyRt",
    "outputId": "aa32c6f6-2b88-41d9-80a7-dc8688d45292"
   },
   "outputs": [
    {
     "name": "stdout",
     "output_type": "stream",
     "text": [
      "(2, 3)\n"
     ]
    }
   ],
   "source": [
    "class Punto(object):\n",
    "    \"\"\" Representación de un punto en el plano, los atributos son x e y\n",
    "        que representan los valores de las coordenadas cartesianas.\"\"\"\n",
    "    def __init__(self, x=0, y=0):\n",
    "        \"Constructor de Punto, x e y deben ser numéricos\"\n",
    "        self.x = x\n",
    "        self.y = y\n",
    "\n",
    "    def __str__(self):\n",
    "        \"\"\" Muestra el punto como un par ordenado. \"\"\"\n",
    "        return \"(\" + str(self.x) + \", \" + str(self.y) + \")\"\n",
    "\n",
    "punto= Punto(2,3)\n",
    "print(punto)"
   ]
  },
  {
   "cell_type": "markdown",
   "metadata": {
    "id": "B0BRv41mP7ou"
   },
   "source": [
    "Vamos a ver unas cuantas funciones más:"
   ]
  },
  {
   "cell_type": "code",
   "execution_count": null,
   "metadata": {
    "colab": {
     "base_uri": "https://localhost:8080/"
    },
    "executionInfo": {
     "elapsed": 213,
     "status": "ok",
     "timestamp": 1666204374868,
     "user": {
      "displayName": "Guillermo martín",
      "userId": "05540387787462883316"
     },
     "user_tz": -120
    },
    "id": "oWYVPCVnPwsa",
    "outputId": "ce97d906-de23-44ed-bc7b-80330ba623ae"
   },
   "outputs": [
    {
     "name": "stdout",
     "output_type": "stream",
     "text": [
      "(-3, -1)\n",
      "(9, 9)\n",
      "1\n",
      "(3, 4)\n",
      "(6, 5)\n"
     ]
    }
   ],
   "source": [
    "class Punto(object):\n",
    "    def __init__(self, x=0, y=0):\n",
    "        self.x = x\n",
    "        self.y = y\n",
    "\n",
    "    def __str__(self):\n",
    "        return \"(\" + str(self.x) + \", \" + str(self.y) + \")\"\n",
    "\n",
    "    def __add__(self, otro):\n",
    "        return Punto(self.x + otro.x, self.y + otro.y)\n",
    "\n",
    "    def __sub__(self, otro):\n",
    "        return Punto(self.x - otro.x, self.y - otro.y)\n",
    "\n",
    "    def __eq (self, otro):\n",
    "        return self.x == otro.x and self.y == otro.y\n",
    "\n",
    "    def __ne__(self, otro):\n",
    "        return not self == otro\n",
    "\n",
    "    #Esto va a comparar por el punto que esté más arriba\n",
    "    def __gt__(self, otro):\n",
    "        diferencia = self.y - otro.y\n",
    "        if diferencia < 0:\n",
    "            return -1\n",
    "        elif diferencia > 0:\n",
    "            return 1\n",
    "        else:\n",
    "            return 0\n",
    "\n",
    "\n",
    "\n",
    "p = Punto(3,4)\n",
    "q = Punto(6,5)\n",
    "print(p - q)\n",
    "print(p + q)\n",
    "\n",
    "print(p<q)\n",
    "lista= [p,q]\n",
    "print(lista[0])\n",
    "lista.sort()\n",
    "print(lista[0])\n",
    "\n"
   ]
  },
  {
   "cell_type": "markdown",
   "metadata": {
    "id": "m0RTPBj3G9Sf"
   },
   "source": [
    "## Métodos de Clase e Instancia <a name=\"Métodos de clase e instancia\"></a> \n",
    "[Volver al índice](#indice)"
   ]
  },
  {
   "cell_type": "markdown",
   "metadata": {
    "id": "P59duhdmTrPQ"
   },
   "source": [
    "A veces puede ser útil tener una variable que aplique a todos los objetos de la clase. \n",
    "\n",
    "Métodos Estáticos\n",
    "Para poder crear un método estático es necesario anteponer @staticmethod para así indicarle a Python que el método debe de ser estático. Las características principales de un método estático es que pueden ser llamados sin tener una instancia de la clase, además este tipo de métodos no tienen acceso al exterior, por lo cual no pueden acceder a ningún otro atributo o llamar a ninguna otra función dentro de la clase.\n",
    "\n",
    "Métodos de instancia\n",
    "Este método solamente puede ser llamado si se tiene una instancia de la clase. Una vez que se creó una instancia de la clase, se podrá accesar a los métodos de instancia. Un método de instancia es capaz de crear, obtener y cambiar los atributos de instancia y a su vez de llamar otros métodos de instancia y clase [2].\n",
    "\n",
    "Atributos de la instancia:\n",
    " - sef. atributo\n",
    "\n",
    "Atributos de la clase:\n",
    " - justo debajo de la class(...):\n",
    "\n",
    "\n",
    "También pongo un método.\n",
    "Pongamos un ejemplo:"
   ]
  },
  {
   "cell_type": "code",
   "execution_count": null,
   "metadata": {
    "colab": {
     "base_uri": "https://localhost:8080/"
    },
    "executionInfo": {
     "elapsed": 337,
     "status": "ok",
     "timestamp": 1666204383657,
     "user": {
      "displayName": "Guillermo martín",
      "userId": "05540387787462883316"
     },
     "user_tz": -120
    },
    "id": "f9cpguP6TTL8",
    "outputId": "97294fd4-a5d9-4d55-f489-7ebc048a70d1"
   },
   "outputs": [
    {
     "name": "stdout",
     "output_type": "stream",
     "text": [
      "1\n",
      "True\n",
      "2\n",
      "True\n",
      "False\n",
      "3\n",
      "False\n",
      "4\n",
      "True\n"
     ]
    }
   ],
   "source": [
    "class Alimento(Producto):\n",
    "    comestible= True\n",
    "    def __init__(self, nombre, precio, temporada, calorias):\n",
    "        super().__init__(nombre, \"alimentacion\", precio)\n",
    "        \n",
    "        self.temporada = temporada\n",
    "        self.calorias = calorias\n",
    "        self.precio = precio\n",
    "        \n",
    "    def total_calorias(self, gramos):\n",
    "        return self.calorias * gramos / 100\n",
    "\n",
    "    @staticmethod\n",
    "    def estatico():    \n",
    "        Alimento.comestible= True\n",
    "        pass\n",
    "      \n",
    "    def __str__(self):\n",
    "        return (\"Nombre    : {:}\\n\"\n",
    "                \"Categoria : {:}\\n\"\n",
    "                \"Precio    : {:.2f} €/unidad\\n\"\n",
    "                \"Temporada : {:}\\n\"\n",
    "                \"Calorias  : {:} kcal/100g\").format(\n",
    "            self.nombre, self.categoria, self.precio,\n",
    "            self.temporada, self.calorias)\n",
    "    \n",
    "    def precio_con_iva(self, iva=0.21):\n",
    "        return self.precio * (1 + iva)\n",
    "            \n",
    "calabaza = Alimento(\"calabaza cacahuete\", 1.65, \"otoño\", 14)\n",
    "\n",
    "print(\"1\")\n",
    "\n",
    "print(calabaza.comestible)\n",
    "\n",
    "patata = Alimento(\"patata\", 1.65, \"otoño\", 14)\n",
    "patata.comestible= False\n",
    "\n",
    "print(\"2\")\n",
    "print(calabaza.comestible)\n",
    "print(patata.comestible)\n",
    "\n",
    "Alimento.comestible= False\n",
    "\n",
    "print(\"3\")\n",
    "print(calabaza.comestible)\n",
    "\n",
    "Alimento.estatico()\n",
    "print(\"4\")\n",
    "print(calabaza.comestible)\n"
   ]
  },
  {
   "cell_type": "markdown",
   "metadata": {
    "id": "D_rSexeLYzRU"
   },
   "source": [
    "## Decoradores <a name=\"Decoradores\"></a> \n",
    "[Volver al índice](#indice)"
   ]
  },
  {
   "cell_type": "markdown",
   "metadata": {
    "id": "I-4CYpD5YzRa"
   },
   "source": [
    "Los decoradores pueden definirse como estereotipos o patrones de diseño. Que permiten a una función (A) o clase de objeto (A) tomar otra función (B) como argumento para devolver una función (C). De esta manera obtendremos funciones dinámicas (que pueden cambiar) sin tener nosotros que cambiar su código fuente!\n",
    "\n",
    "Un decorador es como un envoltorio con el cual envolvemos una función o una clase.\n",
    "\n"
   ]
  },
  {
   "cell_type": "code",
   "execution_count": null,
   "metadata": {
    "colab": {
     "base_uri": "https://localhost:8080/"
    },
    "executionInfo": {
     "elapsed": 4,
     "status": "ok",
     "timestamp": 1666204391066,
     "user": {
      "displayName": "Guillermo martín",
      "userId": "05540387787462883316"
     },
     "user_tz": -120
    },
    "id": "QMw7zk_kYzRa",
    "outputId": "8424118f-6402-437b-dab5-8257f02dc3ad"
   },
   "outputs": [
    {
     "name": "stdout",
     "output_type": "stream",
     "text": [
      "Perro dice:\n",
      "Uso Puppy Linux!\n",
      "Guau!\n"
     ]
    }
   ],
   "source": [
    "def decorador(func): # Damos como argumento del decorador a func\n",
    "    def nueva_funcion(self, mensaje): #Aquí debemos colocar los parámetros con los que trabaja func\n",
    "        print (\"Perro dice:\")#Código decorador\n",
    "        func(self, mensaje) #En func agregamos los parámetros con los que trabaja\n",
    "    return nueva_funcion #Retornamos la nueva función\n",
    "\n",
    "class perro():\n",
    "\n",
    "    def __init__(self, nombre):  #Constructor con el atributo nombre\n",
    "        self.nombre = nombre #Nombre es igual al argumento nombre etc.\n",
    "        \n",
    "    @decorador #Aqui antes del método se coloca el decorador!!!\n",
    "    def saluda(self, mensaje): #Metodo saludar del perro, como siempre\n",
    "        self.mensaje = mensaje #El parámetro de saluda mensaje es igual a mensaje arg..\n",
    "        print(mensaje) #Imprimir el mensaje ATENCIÓN.\n",
    "        print(\"Guau!\") #Resto del código\n",
    "\n",
    "\n",
    "maty = perro('Maty') #Instanciamos\n",
    "maty.saluda('Uso Puppy Linux!') #Cuando llamamos al metodo saluda buscara añadirle el decorador\n",
    "#Osea que se ira hasta arriba. Por ende allí también debimos incluir la instanciacion (self) y el\n",
    "#Argumento mensaje para ambas (nueva_funcion) y func.\n"
   ]
  },
  {
   "cell_type": "code",
   "execution_count": null,
   "metadata": {
    "id": "HF-C38d0eMvD"
   },
   "outputs": [],
   "source": [
    "calabaza.precio_con_iva(iva=0.04)"
   ]
  },
  {
   "cell_type": "markdown",
   "metadata": {
    "id": "RaKdhO1DEVee"
   },
   "source": [
    "## Tipos de Encapsulamiento <a name=\"Tipos de Encapsulamiento\"></a> \n",
    "[Volver al índice](#indice)"
   ]
  },
  {
   "cell_type": "markdown",
   "metadata": {
    "id": "eoQnOdjUeMvE"
   },
   "source": [
    "El encapsulamiento o encapsulación en programación hace referencia al ocultamiento de los estado internos de una clase al exterior. Dicho de otra manera, encapsular consiste en hacer que los atributos o métodos internos a una clase no se puedan acceder ni modificar desde fuera, sino que tan solo el propio objeto pueda acceder a ellos.\n",
    "\n",
    "Para la gente que conozca Java, le resultará un termino muy familiar, pero en Python es algo distinto. Digamos que Python por defecto no oculta los atributos y métodos de una clase al exterior. Veamos un ejemplo con el lenguaje Python:"
   ]
  },
  {
   "cell_type": "code",
   "execution_count": null,
   "metadata": {
    "colab": {
     "base_uri": "https://localhost:8080/"
    },
    "executionInfo": {
     "elapsed": 225,
     "status": "ok",
     "timestamp": 1666204397953,
     "user": {
      "displayName": "Guillermo martín",
      "userId": "05540387787462883316"
     },
     "user_tz": -120
    },
    "id": "49NAN5HACQbb",
    "outputId": "5833e4b6-e946-4fb8-832e-cf9ac19be5d6"
   },
   "outputs": [
    {
     "name": "stdout",
     "output_type": "stream",
     "text": [
      "Hola\n",
      "Que tal\n"
     ]
    }
   ],
   "source": [
    "class Clase:\n",
    "    atributo_clase = \"Hola\"\n",
    "    def __init__(self, atributo_instancia):\n",
    "        self.atributo_instancia = atributo_instancia\n",
    "\n",
    "mi_clase = Clase(\"Que tal\")\n",
    "print(mi_clase.atributo_clase)\n",
    "print(mi_clase.atributo_instancia)\n"
   ]
  },
  {
   "cell_type": "markdown",
   "metadata": {
    "id": "nN8jQayfDQQF"
   },
   "source": [
    "Ambos atributos son perfectamente accesibles desde el exterior. Sin embargo esto es algo que tal vez no queramos. Hay ciertos métodos o atributos que queremos que pertenezcan sólo a la clase o al objeto, y que sólo puedan ser accedidos por los mismos. Para ello podemos usar la doble __ para nombrar a un atributo o método. Esto hará que Python los interprete como “privados”, de manera que no podrán ser accedidos desde el exterior."
   ]
  },
  {
   "cell_type": "code",
   "execution_count": 24,
   "metadata": {
    "colab": {
     "base_uri": "https://localhost:8080/"
    },
    "executionInfo": {
     "elapsed": 4,
     "status": "ok",
     "timestamp": 1666204400025,
     "user": {
      "displayName": "Guillermo martín",
      "userId": "05540387787462883316"
     },
     "user_tz": -120
    },
    "id": "cbhEQ37cDQQH",
    "outputId": "0b52dab6-27a1-4edc-b147-e9f02c44deb5"
   },
   "outputs": [
    {
     "name": "stdout",
     "output_type": "stream",
     "text": [
      "Haz algo\n"
     ]
    },
    {
     "ename": "AttributeError",
     "evalue": "type object 'Clase' has no attribute '__atributo_clase'",
     "output_type": "error",
     "traceback": [
      "\u001b[0;31m---------------------------------------------------------------------------\u001b[0m",
      "\u001b[0;31mAttributeError\u001b[0m                            Traceback (most recent call last)",
      "Cell \u001b[0;32mIn [24], line 20\u001b[0m\n\u001b[1;32m     18\u001b[0m mi_clase\u001b[38;5;241m.\u001b[39matributo_clase     \u001b[38;5;66;03m# Ok!\u001b[39;00m\n\u001b[1;32m     19\u001b[0m mi_clase\u001b[38;5;241m.\u001b[39mmetodo_normal()    \u001b[38;5;66;03m# Ok!\u001b[39;00m\n\u001b[0;32m---> 20\u001b[0m \u001b[43mmi_clase\u001b[49m\u001b[38;5;241;43m.\u001b[39;49m\u001b[38;5;18;43m__class__\u001b[39;49m\u001b[38;5;241;43m.\u001b[39;49m\u001b[43m__atributo_clase\u001b[49m\n",
      "\u001b[0;31mAttributeError\u001b[0m: type object 'Clase' has no attribute '__atributo_clase'"
     ]
    }
   ],
   "source": [
    "class Clase:\n",
    "    atributo_clase = \"Hola\"   # Accesible desde el exterior\n",
    "    __atributo_clase = \"Hola\" # No accesible\n",
    "\n",
    "    # No accesible desde el exterior\n",
    "    def __mi_metodo(self):\n",
    "        print(\"Haz algo\")\n",
    "        self.__variable = 0\n",
    "\n",
    "    # Accesible desde el exterior\n",
    "    def metodo_normal(self):\n",
    "        # El método si es accesible desde el interior\n",
    "        self.__mi_metodo()\n",
    "\n",
    "mi_clase = Clase()\n",
    "# mi_clase.__atributo_clase  # Error! El atributo no es accesible\n",
    "# mi_clase.__mi_metodo()     # Error! El método no es accesible\n",
    "mi_clase.atributo_clase     # Ok!\n",
    "mi_clase.metodo_normal()    # Ok!"
   ]
  },
  {
   "cell_type": "markdown",
   "metadata": {
    "id": "SZfogCXmeMvE"
   },
   "source": [
    "## Ejercicios <a name=\"ejercicios\"></a> \n",
    "[Volver al índice](#indice)"
   ]
  },
  {
   "cell_type": "markdown",
   "metadata": {
    "id": "BqF9CV0bwMQ1"
   },
   "source": [
    "1 - Escribir una clase Caja para representar cuánto dinero hay en una caja de un negocio, desglosado por tipo de billete (por ejemplo, en el quiosco de la esquina hay 5 billetes de 10 euros, 7 monedas de 1 euro y 4 monedas de 10 céntimos).\n",
    "\n",
    "Se tiene que poder comparar cajas por la cantidad de dinero que hay en cada una, y además ordenar una lista de cajas de menor a mayor según la cantidad de dinero disponible.\n",
    "\n",
    "También tienes que poder ingresar, retirar dinero y consultar los movimientos.\n",
    "\n",
    "Cómo introducirías el concepto de clientes?"
   ]
  },
  {
   "cell_type": "code",
   "execution_count": 32,
   "metadata": {},
   "outputs": [
    {
     "data": {
      "text/plain": [
       "2"
      ]
     },
     "execution_count": 32,
     "metadata": {},
     "output_type": "execute_result"
    }
   ],
   "source": [
    "50//20"
   ]
  },
  {
   "cell_type": "code",
   "execution_count": null,
   "metadata": {
    "id": "1_5E0Hr6eMvE"
   },
   "outputs": [],
   "source": [
    "class Caja():\n",
    "    __tipo_billetes = [5,10,15,20] #[\"5\",\"10\",\"15\",\"20\"]\n",
    "    __tipo_monedas = [\"5\",\"10\",\"15\",\"20\"]\n",
    "    __n_billetes = {}\n",
    "    __n_monedas = {}\n",
    "    __dinero_total = 0\n",
    "    def __init__(self, billetes, monedas):\n",
    "        self.add_billetes(billetes):\n",
    "    def add_billetes(billetes):\n",
    "\n",
    "    def extraer_dinero():"
   ]
  },
  {
   "cell_type": "markdown",
   "metadata": {
    "id": "BbgH5C4meMvE"
   },
   "source": [
    "2 - Crear una clase Fraccion, que cuente con dos atributos: dividendo y divisor, que se asignan en el constructor.\n",
    "- se imprimen como X/Y cuando se llame a print\n",
    "- al sumar dos fracciones se devuelve una nueva fracción con la suma de ambas.\n",
    "- Crear un método simplificar que modifica la fracción actual de forma que los valores del dividendo y divisor sean los menores posibles."
   ]
  },
  {
   "cell_type": "code",
   "execution_count": null,
   "metadata": {
    "id": "gl1PK2-beMvE"
   },
   "outputs": [],
   "source": []
  },
  {
   "cell_type": "markdown",
   "metadata": {
    "id": "mLeu_TJ_JUR1"
   },
   "source": [
    "3 - Implementa una pila y una cola con una lista enlazada.\n",
    "http://www.inf.udec.cl/~jlopez/FUNDPRO/apuntesC/clase12.html\n"
   ]
  },
  {
   "cell_type": "code",
   "execution_count": null,
   "metadata": {
    "id": "lwRVdN0dJUR1"
   },
   "outputs": [],
   "source": []
  },
  {
   "cell_type": "markdown",
   "metadata": {
    "id": "U19AJCsNKMg1"
   },
   "source": [
    "4 - Implementa un algoritmo recursivo que sea capaz de encontrar el entero más grande dentro de una lista con un número de niveles no conocido."
   ]
  },
  {
   "cell_type": "code",
   "execution_count": null,
   "metadata": {
    "id": "uZ5NEG3fKMg7"
   },
   "outputs": [],
   "source": []
  }
 ],
 "metadata": {
  "colab": {
   "provenance": [
    {
     "file_id": "1xkGIL5qdNoegIEJBF7U8KFKp1_RhRUg9",
     "timestamp": 1666204420452
    }
   ]
  },
  "kernelspec": {
   "display_name": "Python 3 (ipykernel)",
   "language": "python",
   "name": "python3"
  },
  "language_info": {
   "codemirror_mode": {
    "name": "ipython",
    "version": 3
   },
   "file_extension": ".py",
   "mimetype": "text/x-python",
   "name": "python",
   "nbconvert_exporter": "python",
   "pygments_lexer": "ipython3",
   "version": "3.10.8"
  }
 },
 "nbformat": 4,
 "nbformat_minor": 4
}
