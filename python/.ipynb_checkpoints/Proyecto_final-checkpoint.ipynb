{
 "cells": [
  {
   "cell_type": "markdown",
   "metadata": {
    "id": "QQM7oRc6eMui"
   },
   "source": [
    "# Python para el análisis de datos -  UNAV 2020-2021\n",
    "---\n",
    "\n",
    "# Proyecto Final"
   ]
  },
  {
   "cell_type": "markdown",
   "metadata": {
    "id": "4JTD7SzHeMu-"
   },
   "source": [
    "Este año, la nota final se evaluará teniendo en cuenta un pequeño proyecto.\n",
    "Este proyecto se realizará por parejas. Estas parejas no podrán haber estudiado juntos o estar en el mismo equipo a nivel laboral.\n",
    " \n",
    "\n",
    "El proyecto consistirá en ser capaces de bajar la cotización de un par de monedas, un ejemplo de cotizaciones en Kraken:\n",
    "https://www.kraken.com/es-es/prices?quote=EUR\n",
    "\n",
    "Después de bajarlas, será necesario hacer una gráfica del movimiento que ha tenido.\n",
    "\n",
    "Además, se hará una gráfica de la media móvil:\n",
    "https://www.rankia.com/diccionario/trading/medias-moviles\n",
    "\n",
    "La entrega final consistirá como mínimo en:\n",
    "\n",
    "- Una memoria, la memoria será el contenido principal de la entrega.\n",
    "- Código, excluida cualquier librería adicional. Este código será material auxiliar para la corrección pero será obligado que también esté presente en la entrega.\n",
    "\n",
    "Puntos mínimos:\n",
    "\n",
    "- Lectura y representación del movimiento del par de monedas - Máximo (4 puntos)\n",
    "    - Descargar datos. Máximo (2 puntos)  \n",
    "        - Utilizando la librería Kraken (2 puntos).\n",
    "          https://github.com/veox/python3-krakenex\n",
    "        - Utilizando descarga directa a través de Pandas (1 punto).\n",
    "          https://drive.google.com/uc?id=1eQsiD8Z8wEt1mx9VICzCmIEQufWjaUD-\n",
    "        - Descargar directamente y utilizar el csv en local (0 puntos).\n",
    "    - Graficar cotizaciones. Máximo (2 puntos).\n",
    "        - Graficar el par ETH/USDT (1 punto).\n",
    "        - Input de usuario que permita graficar cualquier cotización o una a elegir en el menú (2 puntos).\n",
    "\n",
    "- Indicadores técnicos. Máximo (3 puntos).\n",
    "    - Calcular el Media Móvil y graficarla (1 puntos).\n",
    "    - Calcular el RSI y graficarlo (1 puntos).\n",
    "    - Graficar el Media Móvil junto con la cotización del par calculado (1 punto).\n",
    "\n",
    "- Estructuración. Máximo (1 punto)\n",
    "    - Funciones (0,5 puntos)\n",
    "    - Utilización de clases (0,5 puntos)\n",
    "    - Manejo de errores y excepciones (0,5 puntos)\n",
    "\n",
    "- Memoria obligatoria. Máximo (2 puntos).\n",
    "    - Descripción de cómo se ha afrontado el proyecto y por qué.\n",
    "    - Descripción detallada de cada uno de los puntos que se evalúan.\n",
    "    - Descripción de la estructura del código y estructura de ficheros.\n",
    "    - Descripción de la forma de ejecución del código.\n",
    "    - Pantallazos de todo Aquel punto que requiera algún tipo de visualización.\n",
    "    - NADA QUE NO SE PUEDA ENCONTRAR DESCRITO O MOSTRADO EN LA MEMORIA SERÁ EVALUADO, AUNQUE ESTÉ REALIZADO EN EL CÓDIGO.\n",
    "\n",
    "- Puntación Extra. Máximo (1 punto)\n",
    "    - Testeo y cobertura (unit-testing, integration-testing) 0,25 puntos\n",
    "    - Facilitar los mecanismos para la reproducción del entorno virtual (ya sea con Poetry, Pipenv o pip) 0,25 puntos\n",
    "    - Distribución del proyecto a través de PyPi o una plataforma PaaS (AWS, Heroku, etc) 0,25 puntos\n",
    "\n",
    "La plazo de entrega finalizará el 29 de diciembre a las 23:59."
   ]
  },
  {
   "cell_type": "code",
   "execution_count": 2,
   "metadata": {},
   "outputs": [],
   "source": [
    "KEY = \"W/qGZGYHY1HiaOf6H/EcpiNKm7CvCm2/6FKMnheoARtek+v6mfvk2Q8Q\"\n",
    "PRIVATE_KEY = \"6FytyFCHM93th6CFlAoH5sEoHpcQGslty//Axld1BusMRZsHm/ny9NG2RZE20AenGM47oXTTm5E5jcr38EpSug==\""
   ]
  },
  {
   "cell_type": "code",
   "execution_count": 67,
   "metadata": {},
   "outputs": [],
   "source": [
    "\n",
    "import krakenex\n",
    "import datetime\n",
    "import pandas as pd\n",
    "import streamlit as st\n",
    "import plotly.express as px"
   ]
  },
  {
   "cell_type": "code",
   "execution_count": 58,
   "metadata": {},
   "outputs": [],
   "source": [
    "kraken = krakenex.API(key=KEY, secret=PRIVATE_KEY)\n",
    "pair = 'XETHZEUR'\n",
    "origin = datetime.datetime.strptime('19/11/2022', '%d/%m/%Y')\n",
    "since = int(origin.strftime(\"%s\"))\n",
    "interval = 15\n",
    "ticks_schema = [\"time\", \"open\", \"high\", \"low\", \"close\", \"vwap\", \"volume\", \"count\"]\n"
   ]
  },
  {
   "cell_type": "code",
   "execution_count": null,
   "metadata": {},
   "outputs": [],
   "source": [
    "@st.cache\n",
    "def get_data():\n",
    "    ret = kraken.query_public('OHLC', data = {'pair': pair, 'since': since, 'interval':interval})\n",
    "    return pd.read_csv(url)\n",
    "df = get_data()"
   ]
  },
  {
   "cell_type": "code",
   "execution_count": 59,
   "metadata": {},
   "outputs": [],
   "source": []
  },
  {
   "cell_type": "code",
   "execution_count": 61,
   "metadata": {},
   "outputs": [],
   "source": [
    "data = pd.DataFrame(ret[\"result\"][\"XETHZEUR\"],columns=ticks_schema)"
   ]
  },
  {
   "cell_type": "code",
   "execution_count": 66,
   "metadata": {},
   "outputs": [
    {
     "data": {
      "text/plain": [
       "0     2022-11-18 23:15:00\n",
       "1     2022-11-18 23:30:00\n",
       "2     2022-11-18 23:45:00\n",
       "3     2022-11-19 00:00:00\n",
       "4     2022-11-19 00:15:00\n",
       "              ...        \n",
       "141   2022-11-20 10:30:00\n",
       "142   2022-11-20 10:45:00\n",
       "143   2022-11-20 11:00:00\n",
       "144   2022-11-20 11:15:00\n",
       "145   2022-11-20 11:30:00\n",
       "Name: time, Length: 146, dtype: datetime64[ns]"
      ]
     },
     "execution_count": 66,
     "metadata": {},
     "output_type": "execute_result"
    }
   ],
   "source": [
    "pd.to_datetime(data['time'],unit='s')"
   ]
  },
  {
   "cell_type": "markdown",
   "metadata": {},
   "source": [
    "# TODO\n",
    "\n",
    "- convert to utc\n",
    "- set an interval variable\n",
    "- set a since variable wiht up to 720 bins. \n"
   ]
  },
  {
   "cell_type": "code",
   "execution_count": null,
   "metadata": {},
   "outputs": [],
   "source": []
  }
 ],
 "metadata": {
  "colab": {
   "provenance": []
  },
  "kernelspec": {
   "display_name": "Python 3 (ipykernel)",
   "language": "python",
   "name": "python3"
  },
  "language_info": {
   "codemirror_mode": {
    "name": "ipython",
    "version": 3
   },
   "file_extension": ".py",
   "mimetype": "text/x-python",
   "name": "python",
   "nbconvert_exporter": "python",
   "pygments_lexer": "ipython3",
   "version": "3.10.8"
  }
 },
 "nbformat": 4,
 "nbformat_minor": 4
}
