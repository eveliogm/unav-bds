{
 "cells": [
  {
   "cell_type": "markdown",
   "metadata": {
    "id": "dXqaW31Fminl"
   },
   "source": [
    "# Python para el análisis de datos -  UNAV\n",
    "---\n",
    "\n",
    "# Streamlit"
   ]
  },
  {
   "cell_type": "markdown",
   "metadata": {
    "id": "NUYU4CB9miol"
   },
   "source": [
    "## Introducción a Streamlit<a name=\"streamlit\"></a> \n",
    "[Volver al índice](#indice)\n",
    "\n",
    "[Streamlit](https://streamlit.io/) es una libreria que ha ido ganando peso ultimamente (hay otras que hacen algo parecido), porque permite que gente con cero experiencia en lenguages front-end como HTML, CSS, Javascript, puedan mostrar dashboards interactivos de forma muy rapida y sencilla.\n",
    "\n",
    "Además, permiten hostear esos dashboard en sus servidores de forma gratuita (hasta cierto punto, claro) con lo que es muy facil compartirlo o distribuirlo con quien queramos. Por otro lado cuenta con una comunidad muy activa que ayuda mucho es y es participativa.\n",
    "\n",
    "Dada la propia naturaleza de Streamlit, cuyo objetivo es generar una aplicación web funcional rápidamente, es dificil (pero no imposible) ejecutarlo en un Notebook, así que vamos a ver un ejemplo utilizando un proyecto aparte.\n",
    "\n",
    "\n",
    "\n",
    "\n",
    "\n",
    "\n"
   ]
  },
  {
   "cell_type": "markdown",
   "metadata": {
    "id": "Wi0l6JfBmiol"
   },
   "source": [
    "### Instalacion streamlit<a name=\"streamlit\"></a> \n",
    "[Volver al índice](#indice)\n",
    "\n",
    "\n",
    "Streamlit se instala como cualquier otro paquete en Python. Asumimos que teneís instalado ya pip por lo menos, aunque se recomienda pipenv o poetry.\n",
    "Además, Streamlit no funciona con Python 3 todavía, por tanto, o lo ejecutáis en un entorno virtual o lo ejecutáis específicamente con python 2 o no tenéis instalado python 3.\n",
    "\n",
    "`` pip install streamlit``\n",
    "\n",
    "o\n",
    "\n",
    "`` conda install streamlit``\n",
    "\n",
    "Streamlit CLI deberia estar listo, y podemos probar con la pagina de bienvenida, que nos abrira el navegador por defecto con la aplicación de sreamlit\n",
    "\n",
    "`` streamlit hello``\n",
    "\n",
    "Para ejecutar streamlit u os colocáis donde esté la instalación o añadís esa instalación al path.\n"
   ]
  },
  {
   "cell_type": "markdown",
   "metadata": {
    "id": "ysNHVy_Mmiom"
   },
   "source": [
    "Vamos a crear un script en Python para ver como funciona Streamlit, crear un fichero .py, es recomendable que dividaís la pantalla en 2 de modo que en un lado tengaís el editor con el que esteís modificando el script y en el otro el navegador. Supongamos que nuestro fichero se llama **streamlit_tutorial.py**.\n",
    "\n",
    "Lo primero que haremos sera importar los modulos que necesitamos."
   ]
  },
  {
   "cell_type": "code",
   "execution_count": 4,
   "metadata": {
    "id": "TS7NEF7Hmiom"
   },
   "outputs": [],
   "source": [
    "# pip install streamlit\n",
    "\n",
    "import pandas as pd\n",
    "import streamlit as st\n",
    "import plotly.express as px"
   ]
  },
  {
   "cell_type": "markdown",
   "metadata": {
    "id": "nlewFETimiom"
   },
   "source": [
    "Ahora podemos cargar los datos, en este caso se trata de un dataset con datos de las propiedades en Nueva York de Airbnb, de la pagina insideairbnb. Usamos el decorator st.catche para poder cachear la llamada que carga los datos, con lo que no se ejecuta cada vez que ejecutamos el script."
   ]
  },
  {
   "cell_type": "code",
   "execution_count": null,
   "metadata": {
    "id": "MqQuGyOXmiom"
   },
   "outputs": [],
   "source": [
    "@st.cache\n",
    "def get_data():\n",
    "    url = \"http://data.insideairbnb.com/the-netherlands/north-holland/amsterdam/2022-09-07/visualisations/listings.csv\"\n",
    "    return pd.read_csv(url)\n",
    "df = get_data()"
   ]
  },
  {
   "cell_type": "markdown",
   "metadata": {
    "id": "Lqayjm8Gmiop"
   },
   "source": [
    "Veamos como mostrar texto y el DataFrame, que por cierto se puede ordenar por columnas!"
   ]
  },
  {
   "cell_type": "code",
   "execution_count": null,
   "metadata": {
    "id": "Vsunq9exmiop"
   },
   "outputs": [],
   "source": [
    "st.title(\"Streamlit tutorial: Usando Streamlit\")\n",
    "st.markdown(\"Este tutorial muestra como usar Streamlit para mostrar datos de Airbnb.\")\n",
    "st.header(\"Airbnb\")\n",
    "st.markdown(\"Datos de Amsterdam 2022\")\n",
    "\n",
    "st.dataframe(df.head())"
   ]
  },
  {
   "cell_type": "markdown",
   "metadata": {
    "id": "uyxjzQG8miop"
   },
   "source": [
    "Streamlit hace muy facil mostrar datos geo, solo hace falta que el dataset tenga columnas lat, long. Veamos como:"
   ]
  },
  {
   "cell_type": "code",
   "execution_count": null,
   "metadata": {
    "id": "jilAmQf8miop"
   },
   "outputs": [],
   "source": [
    "st.header(\"Localizacion de los Airbnb mas caros en Amsterdam\")\n",
    "st.subheader(\"En un mapa\")\n",
    "st.markdown(\"El mapa siguiente muestra los apartamentos mas caros de 800 dolares por noche.\")\n",
    "st.map(df.query(\"price>=800\")[[\"latitude\", \"longitude\"]].dropna(how=\"any\"))\n",
    "\n",
    "st.subheader(\"En una table\")\n",
    "st.markdown(\"Lista de las 10 propiedades mas caras.\")"
   ]
  },
  {
   "cell_type": "markdown",
   "metadata": {
    "id": "IrNMECaAmiop"
   },
   "source": [
    "Te permite imprimir en cualquier momento el dataframe a tu gusto:"
   ]
  },
  {
   "cell_type": "code",
   "execution_count": null,
   "metadata": {
    "id": "dYTpefZ92g7d"
   },
   "outputs": [],
   "source": [
    "st.write(df.query(\"price>=800\").sort_values(\"price\", ascending=False).head(10))"
   ]
  },
  {
   "cell_type": "markdown",
   "metadata": {
    "id": "LmBpV61i2VQm"
   },
   "source": [
    "Streamlit permite especificar que subconjunto de columnas queremos usar"
   ]
  },
  {
   "cell_type": "code",
   "execution_count": null,
   "metadata": {
    "id": "-VdHlpsWmiop"
   },
   "outputs": [],
   "source": [
    "st.subheader(\"Seleccionando un subconjunto de columnas del dataframe\")\n",
    "st.write(\n",
    "    f\"De las {df.shape[1]} columnas, puede que queramos solo algunas, Streamlit tiene un widget para eso.\")\n",
    "defaultcols = [\"name\", \"host_name\", \"neighbourhood\", \"room_type\", \"price\"]\n",
    "cols = st.multiselect(\"Columns\", df.columns.tolist(), default=defaultcols)\n",
    "st.dataframe(df[cols].head(5))"
   ]
  },
  {
   "cell_type": "markdown",
   "metadata": {
    "id": "qsakD_XGmiop"
   },
   "source": [
    "Tambien podemos crear tablas estaticas, pero son menos interactivas que el dataframe"
   ]
  },
  {
   "cell_type": "code",
   "execution_count": null,
   "metadata": {
    "id": "K2RB52kjmiop"
   },
   "outputs": [],
   "source": [
    "st.header(\"Precio medio por tipo de habitacion\")\n",
    "st.write(\"Podemos crear una tabla estatica, pero no permite interactuar con ella como con el dataframe\")\n",
    "st.table(df.groupby(\"room_type\").price.mean().reset_index() \\\n",
    "         .round(2).sort_values(\"price\", ascending=False) \\\n",
    "         .assign(avg_price=lambda x: x.pop(\"price\").apply(lambda y: \"%.2f\" % y)))"
   ]
  },
  {
   "cell_type": "markdown",
   "metadata": {
    "id": "oI61EjLomioq"
   },
   "source": [
    "Podemos mostrar tambien resultas de hacer queries como JSON, lo cual puede ser muy interesante, veamos algunas propiedades de los host con mas propiedades"
   ]
  },
  {
   "cell_type": "code",
   "execution_count": null,
   "metadata": {
    "id": "C2BUah5ymioq"
   },
   "outputs": [],
   "source": [
    "st.header(\"Que host tiene mas propiedades listadas\")\n",
    "listingcounts = df.host_id.value_counts()\n",
    "top_host_1 = df.query('host_id==@listingcounts.index[0]')\n",
    "top_host_2 = df.query('host_id==@listingcounts.index[1]')\n",
    "st.write(\n",
    "    f\"\"\"**{top_host_1.iloc[0].host_name}** es el host que tiene mas propiedades listadas, en total {listingcounts.iloc[0]}.\n",
    "**{top_host_2.iloc[1].host_name}** es el segundo propietario con  {listingcounts.iloc[1]} propiedades listadas. A continuacion\n",
    "se muestran listados aleatorios de las propiedades de cada uno, usando JSON[`st.json`](https://streamlit.io/docs/api.html#streamlit.json).\"\"\")\n",
    "st.json({top_host_1.iloc[0].host_name: top_host_1 \\\n",
    "    [[\"name\", \"neighbourhood\", \"room_type\", \"minimum_nights\", \"price\"]] \\\n",
    "        .sample(2, random_state=4).to_dict(orient=\"records\"),\n",
    "         top_host_2.iloc[0].host_name: top_host_2 \\\n",
    "             [[\"name\", \"neighbourhood\", \"room_type\", \"minimum_nights\", \"price\"]] \\\n",
    "        .sample(2, random_state=4).to_dict(orient=\"records\")})"
   ]
  },
  {
   "cell_type": "markdown",
   "metadata": {
    "id": "D5D8DNRXmioq"
   },
   "source": [
    "Una de las principales caracteristicas de Streamlit es que permite interactuar, veamos como mostrar propiedades en base a un rango de precio, que mostraremos en una barra lateral."
   ]
  },
  {
   "cell_type": "code",
   "execution_count": null,
   "metadata": {
    "id": "pbrG4eAjmioq"
   },
   "outputs": [],
   "source": [
    "st.header(\"Cual es la distribucion del precio?\")\n",
    "st.write(\"\"\"Selecciona un rango de precio de la barra lateral para actualizar el historigrama Plotly chart\n",
    "[`st.plotly_chart`](https://streamlit.io/docs/api.html#streamlit.plotly_chart).\"\"\")\n",
    "values = st.sidebar.slider(\"Rango de precio\", float(df.price.min()), float(df.price.clip(upper=1000.).max()),\n",
    "                           (50., 300.))\n",
    "f = px.histogram(df.query(f\"price.between{values}\"), x=\"price\", nbins=15, title=\"Distribucion del precio\")\n",
    "f.update_xaxes(title=\"Precio\")\n",
    "f.update_yaxes(title=\"# de listados\")\n",
    "st.plotly_chart(f)"
   ]
  },
  {
   "cell_type": "markdown",
   "metadata": {
    "id": "9kXGZ7I2mioq"
   },
   "source": [
    "Tambien podemos filtar en base al numero de reviews minimo y maximo"
   ]
  },
  {
   "cell_type": "code",
   "execution_count": null,
   "metadata": {
    "id": "zVEucR6zmior"
   },
   "outputs": [],
   "source": [
    "st.header(\"Propiedades en base a las reviews\")\n",
    "minimum = st.sidebar.number_input(\"Minimo\", min_value=0)\n",
    "maximum = st.sidebar.number_input(\"Maximo\", min_value=0, value=5)\n",
    "if minimum > maximum:\n",
    "    st.error(\"Por favor introducir un rango valido\")\n",
    "else:\n",
    "    df.query(\"@minimum<=number_of_reviews<=@maximum\").sort_values(\"number_of_reviews\", ascending=False)\\\n",
    "        .head(50)[[\"name\", \"number_of_reviews\", \"neighbourhood\", \"host_name\", \"room_type\", \"price\"]]"
   ]
  },
  {
   "cell_type": "markdown",
   "metadata": {
    "id": "puUXMN1F7HC8"
   },
   "source": [
    "Podemos tambien cargar imagenes..."
   ]
  },
  {
   "cell_type": "code",
   "execution_count": null,
   "metadata": {
    "id": "MYkHxiTLmior"
   },
   "outputs": [],
   "source": [
    "st.header(\"Imagenes\")\n",
    "pics = {\n",
    "    \"Cat\": \"https://cdn.pixabay.com/photo/2016/09/24/22/20/cat-1692702_960_720.jpg\",\n",
    "    \"Puppy\": \"https://cdn.pixabay.com/photo/2019/03/15/19/19/puppy-4057786_960_720.jpg\",\n",
    "    \"Sci-fi city\": \"https://storage.needpix.com/rsynced_images/science-fiction-2971848_1280.jpg\"\n",
    "}\n",
    "pic = st.selectbox(\"Seleccion de imagenes\", list(pics.keys()), 0)\n",
    "st.image(pics[pic], use_column_width=True, caption=pics[pic])"
   ]
  },
  {
   "cell_type": "markdown",
   "metadata": {
    "id": "ADS2_1kC7GJM"
   },
   "source": [
    "Pero veamos juntos la documentación:\n",
    "https://docs.streamlit.io/library/api-reference"
   ]
  }
 ],
 "metadata": {
  "colab": {
   "provenance": []
  },
  "kernelspec": {
   "display_name": "Python 3 (ipykernel)",
   "language": "python",
   "name": "python3"
  },
  "language_info": {
   "codemirror_mode": {
    "name": "ipython",
    "version": 3
   },
   "file_extension": ".py",
   "mimetype": "text/x-python",
   "name": "python",
   "nbconvert_exporter": "python",
   "pygments_lexer": "ipython3",
   "version": "3.10.8"
  }
 },
 "nbformat": 4,
 "nbformat_minor": 4
}
